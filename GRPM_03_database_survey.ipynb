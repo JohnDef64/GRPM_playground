{
 "cells": [
  {
   "cell_type": "markdown",
   "source": [
    "# Running in Colab"
   ],
   "metadata": {
    "collapsed": false
   }
  },
  {
   "cell_type": "code",
   "execution_count": 1,
   "outputs": [
    {
     "name": "stdout",
     "output_type": "stream",
     "text": [
      "extract manually .zip contents into working folder\n",
      "Current working directory: H:\\Il mio Drive\\GRPM db\\GRPM db - Vitam\n"
     ]
    }
   ],
   "source": [
    "#Only for Google Colab\n",
    "import os\n",
    "import sys\n",
    "import zipfile\n",
    "# @markdown Run in Colab virtual machine by default\n",
    "\n",
    "# @markdown to run in google drive set:\n",
    "import_mydrive = True #@param {type:\"boolean\"}\n",
    "\n",
    "if 'google.colab' in sys.modules:\n",
    "    if import_mydrive == True:\n",
    "        from google.colab import drive\n",
    "        drive.mount('/content/drive')\n",
    "        if os.path.exists('/content/drive/MyDrive/grpm_system/'):\n",
    "            %cd /content/drive/MyDrive/grpm_system/\n",
    "        else:\n",
    "            %mkdir /content/drive/MyDrive/grpm_system/\n",
    "        !wget https://github.com/JohnDef64/GRPM_trial_data/archive/master.zip\n",
    "        !unzip -uo master.zip -d .\n",
    "        #!git clone https://github.com/JohnDef64/GRPM_trial_data.git .\n",
    "\n",
    "    else:\n",
    "        if os.path.exists('/content/grpm_system/'):\n",
    "            %cd /content/grpm_system/\n",
    "        else:\n",
    "            %mkdir /content/grpm_system/\n",
    "            %cd /content/grpm_system/\n",
    "        !wget https://github.com/JohnDef64/GRPM_trial_data/archive/master.zip\n",
    "        !unzip -uo master.zip -d .\n",
    "        #!git clone https://github.com/JohnDef64/GRPM_trial_data.git .\n",
    "\n",
    "        #folder_path = \"grpm_system\" #@param [] {allow-input: true}\n",
    "        #os.chdir('/content/'+ folder_path)\n",
    "\n",
    "print('extract manually \"GRPM_trial_data-main\" (.zip) contents into working folder')\n",
    "current_directory = os.getcwd()\n",
    "print(\"Current working directory:\", current_directory)"
   ],
   "metadata": {
    "collapsed": false
   }
  },
  {
   "cell_type": "markdown",
   "source": [
    "# Import Modules"
   ],
   "metadata": {
    "collapsed": false
   }
  },
  {
   "cell_type": "code",
   "execution_count": 2,
   "outputs": [],
   "source": [
    "import os\n",
    "import glob\n",
    "import pandas as pd\n",
    "from datetime import datetime\n",
    "import matplotlib.pyplot as plt\n",
    "import sys\n",
    "import numpy as np\n",
    "#import pyperclip"
   ],
   "metadata": {
    "collapsed": false
   }
  },
  {
   "cell_type": "markdown",
   "source": [
    "# Define context\n",
    "    - gene list\n",
    "    - survey directory\n",
    "    - ref-mesh list"
   ],
   "metadata": {
    "collapsed": false
   }
  },
  {
   "cell_type": "code",
   "execution_count": 4,
   "outputs": [
    {
     "name": "stdout",
     "output_type": "stream",
     "text": [
      "Available reference mesh lists:\n",
      "0     new_corrected.csv\n",
      "1         neuro_sty.csv\n",
      "2             repro.csv\n",
      "3     neuro (no db).csv\n",
      "4            infect.csv\n",
      "5        neuro_grpm.csv\n",
      "6          ng_nutri.csv\n",
      "7             neuro.csv\n",
      "8        ng_dmt2_ms.csv\n",
      "9       repro_clean.csv\n",
      "10        ng_ob_bmi.csv\n",
      "11           ng_cvd.csv\n",
      "12         ng_vitam.csv\n",
      "13     ng_eat_taste.csv\n",
      "14         ng_intol.csv\n",
      "15         ng_aller.csv\n",
      "16    ng_oxi_stress.csv\n",
      "17          ng_xeno.csv\n",
      "18    new_corrected.csv\n",
      "dtype: object\n"
     ]
    }
   ],
   "source": [
    "#Check avalable refs:\n",
    "ref_path = \"ref-mesh-archive/\"  # Replace with the actual ref mesh path\n",
    "\n",
    "#---------------------------------\n",
    "# use random mesh list?\n",
    "random_mesh = False\n",
    "if random_mesh == True:\n",
    "    ref_path = \"ref-mesh-archive/random_lists/\"\n",
    "#---------------------------------\n",
    "\n",
    "# Create a file path pattern to match CSV files\n",
    "file_pattern = os.path.join(ref_path, \"*.csv\")\n",
    "\n",
    "# Use glob to get a list of file paths matching the pattern\n",
    "csv_files = glob.glob(file_pattern)\n",
    "csv_files_name = []\n",
    "# Print the list of CSV files\n",
    "for file in csv_files:\n",
    "    file_name = os.path.basename(file)\n",
    "    csv_files_name.append(file_name)\n",
    "\n",
    "pd.set_option('display.max_rows', 100)\n",
    "print('Available reference mesh lists:')\n",
    "csv_files_df = pd.Series(csv_files_name)\n",
    "\n",
    "if random_mesh == False:\n",
    "    print(csv_files_df[csv_files_df.str.contains('ref_mesh_')].str.replace('ref_mesh_','').reset_index(drop=True))\n",
    "else:\n",
    "    print(csv_files_df[csv_files_df.str.contains('random')].str.replace('ref_mesh_','').reset_index(drop=True))\n"
   ],
   "metadata": {
    "collapsed": false
   }
  },
  {
   "cell_type": "markdown",
   "source": [
    "history:\n",
    "redo= ['xeno','oxi_stress','intol','eat_taste','cvd','dmt2_ms','ob_bmi_less']\n",
    "pd.DataFrame(redo).sort_values(by=0)"
   ],
   "metadata": {
    "collapsed": false
   }
  },
  {
   "cell_type": "code",
   "execution_count": null,
   "outputs": [],
   "source": [
    "#------------------------------------------------------\n",
    "# define directory folder:\n",
    "survey_path = '' # keep black for root path\n",
    "topic_tag = 'oxi_stress' # choose ref_mesh.csv tab from available\n",
    "add = ''    # additional survey tag\n",
    "db_tag = 'pcg'       # choose db\n",
    "    # 'pcg'    = protein coding genes = grpm_db\n",
    "    # 'rna'    = rna genes            = grpm_db_rna\n",
    "    # 'pseudo' = pseudogenes          = grpm_db_pseudo\n",
    "\n",
    "#------------------------------------------------------\n",
    "# saving options:\n",
    "save_plot = False\n",
    "checkpoint = 200 #save data each x genes\n",
    "\n",
    "#------------------------------------------------------\n",
    "\n",
    "# Set directory folder name\n",
    "survey_path = 'grpm_random/' if random_mesh else survey_path\n",
    "directory = survey_path + 'grpm_' + db_tag + '_' + topic_tag + add\n",
    "\n",
    "# Import Mesh-reference list\n",
    "ref_filename = \"ref_mesh_\" + topic_tag + \".csv\" if not random_mesh else topic_tag + \".csv\"\n",
    "ref = pd.read_csv(ref_path + ref_filename, index_col=0)\n",
    "\n",
    "if 'mesh' not in ref.columns:\n",
    "    ref = ref.rename(columns={'Preferred Label': 'mesh'})\n",
    "\n",
    "ref_mesh_n = ref.mesh.nunique()\n",
    "ref_mesh_list = ref['mesh'].drop_duplicates()\n",
    "\n",
    "# create directory and load/create master dataframes-----\n",
    "if not os.path.exists(directory):\n",
    "    os.makedirs(directory)\n",
    "\n",
    "if os.path.isfile(directory+'/grpmx_filtered_output.csv'):\n",
    "    complete_df = pd.read_csv(directory+'/grpmx_filtered_output.csv',index_col=0)\n",
    "else:\n",
    "    complete_df = pd.DataFrame()\n",
    "\n",
    "if os.path.isfile(directory+'/GRPMX_report.csv'):\n",
    "    df_report_complete = pd.read_csv(directory+'/GRPMX_report.csv',index_col=0)\n",
    "    restart = True\n",
    "else:\n",
    "    df_report_complete = pd.DataFrame()\n",
    "    restart = False\n",
    "#------------------------------------------------------\n",
    "ref_mesh_list"
   ],
   "metadata": {
    "collapsed": false
   }
  },
  {
   "cell_type": "code",
   "execution_count": null,
   "outputs": [],
   "source": [
    "# check checkpoint report:\n",
    "df_report_complete.T"
   ],
   "metadata": {
    "collapsed": false
   }
  },
  {
   "cell_type": "markdown",
   "source": [
    "# Load GRPM data from database"
   ],
   "metadata": {
    "collapsed": false
   }
  },
  {
   "cell_type": "code",
   "execution_count": null,
   "outputs": [],
   "source": [
    "#Load GRPM db Report-----------------------------------------\n",
    "db_name = 'grpm_db_'+db_tag\n",
    "\n",
    "#get gene list from grpm report\n",
    "GRPM_report = pd.read_csv(db_name+'/GRPM_report.csv',index_col=0).transpose().reset_index().rename(columns={'index':'gene'})\n",
    "grpm_genes_list = GRPM_report.gene.to_list()\n",
    "\n",
    "#Import grpm data back-------------------------------------------\n",
    "time_load_1 = datetime.now()\n",
    "\n",
    "columns = ['gene', 'rsid', 'pmids', 'mesh']\n",
    "dummy = pd.read_csv(db_name+'/grpm_table_output.csv', usecols=columns)\n",
    "\n",
    "dummy['pmids'] = dummy['pmids'].astype(str) #convert pmid type in str\n",
    "time_load_2 = datetime.now()\n",
    "print(time_load_2-time_load_1)"
   ],
   "metadata": {
    "collapsed": false
   }
  },
  {
   "cell_type": "markdown",
   "source": [
    "# Survey module"
   ],
   "metadata": {
    "collapsed": false
   }
  },
  {
   "cell_type": "code",
   "execution_count": null,
   "outputs": [],
   "source": [
    "time_start = datetime.now()\n",
    "\n",
    "if restart == True:\n",
    "    restart_from = len(df_report_complete.T)\n",
    "    gene_start = restart_from\n",
    "    print('search restarted from '+str(restart_from))\n",
    "else:\n",
    "    gene_start = 0\n",
    "\n",
    "# define gene list\n",
    "genes = grpm_genes_list[gene_start:]\n",
    "\n",
    "for gene in genes:\n",
    "\n",
    "    time_alpha = datetime.now()\n",
    "    timestamp = time_alpha.strftime('%Y%m%d%H%M%S')\n",
    "\n",
    "    if gene in dummy.gene.drop_duplicates().to_list():\n",
    "\n",
    "        dummy_gene = dummy.loc[dummy['gene'] == gene]\n",
    "        rsidpmid = dummy_gene[['rsid','pmids']].drop_duplicates().reset_index(drop=True)\n",
    "        pmidmesh = dummy_gene[['pmids','mesh']].drop_duplicates()\n",
    "        #dfmesh = dummy_gene[['pmids', 'mesh', 'qualifier', 'major']].drop_duplicates().reset_index(drop=True)\n",
    "\n",
    "        #Filter pmid for rsid with pmid>1\n",
    "     #   rsidpmid_count = rsidpmid.groupby('rsid').describe().reset_index()\n",
    "     #   rsidpmid_count.columns = rsidpmid_count.columns.to_flat_index()\n",
    "     #   new_column_names = ['rsid', 'pmid_count', 'pmid_unique','pmid_top','pmid_freq']\n",
    "     #   rsidpmid_count.columns = new_column_names\n",
    "     #   outless = rsidpmid_count[rsidpmid_count.pmid_unique>1]\n",
    "     #   mask = rsidpmid['rsid'].isin(outless.rsid)\n",
    "     #   rsidpmid_less = rsidpmid[mask]\n",
    "     #   #repo parametes\n",
    "        lit1_rsid = dummy_gene.rsid.nunique()\n",
    "     #   lit1_pmid_f = rsidpmid_less.pmids.nunique()\n",
    "\n",
    "        # Correlazione su \"pmidmesh.mesh\"---------------------------------------\n",
    "        mask = pmidmesh['mesh'].isin(ref_mesh_list)\n",
    "        dfmatch = pmidmesh[mask]\n",
    "        mask_full = dummy_gene['mesh'].isin(ref_mesh_list)\n",
    "        dfmatch_full = dummy_gene[mask_full]\n",
    "        #Statistics:\n",
    "        pmidmesh_before =  pmidmesh.nunique()\n",
    "        pmidmesh_after =    dfmatch.nunique()\n",
    "        interesting_pmid =  dfmatch.nunique()\n",
    "\n",
    "        #pmidmask = rsidpmid['pmids'].isin(dfmatch.pmids) #mymask\n",
    "        #rsidlast = rsidpmid[pmidmask]  # mask on rsidpmid\n",
    "        #rsidlastlist = rsidlast.rsid.drop_duplicates()\n",
    "\n",
    "        #report parameters\n",
    "        matching_rsid = dfmatch_full['rsid'].nunique()\n",
    "        dropped_rsid = lit1_rsid - dfmatch_full['rsid'].nunique()\n",
    "\n",
    "        starting_pmid = pmidmesh['pmids'].nunique()\n",
    "        starting_mesh = pmidmesh['mesh'].nunique()\n",
    "        starting_pmidmesh = len(pmidmesh)\n",
    "        matching_pmids = dfmatch.pmids.nunique()\n",
    "        matching_mesh = dfmatch.mesh.nunique()\n",
    "        matching_pmidmesh = len(dfmatch)\n",
    "\n",
    "        #dfmatch = pmidmesh[mask]\n",
    "      #  mask = pmidmesh['mesh'].isin(ref['mesh'])\n",
    "      #  pmidmeshint = pmidmesh.assign(interesting=mask)\n",
    "\n",
    "        #Analyze enrichment with groupby.describe method--------------------\n",
    "        dfmatch_less_ = dfmatch_full[['pmids', 'rsid', 'mesh']].drop_duplicates()\n",
    "      #  interesting_rsid = dfmatch_less_.rsid.nunique()\n",
    "\n",
    "        #dfmatch_less_['pmids'] = dfmatch_less_['pmids'].astype(str)\n",
    "\n",
    "        ### groupby.describe analysis by rsid\n",
    "        dfmatch_less_rsid = dfmatch_less_.groupby('rsid').describe().reset_index()\n",
    "        dfmatch_less_rsid.columns = dfmatch_less_rsid.columns.to_flat_index()\n",
    "        new_column_names = ['rsid', 'pmid-count', 'pmid-unique','pmid-top','pmid-freq','mesh-count', 'mesh-unique','mesh-top','mesh-freq']\n",
    "        dfmatch_less_rsid.columns = new_column_names\n",
    "\n",
    "        #statistics:\n",
    "        matching_rsid_pmid10 = len(dfmatch_less_rsid[dfmatch_less_rsid['pmid-unique']>10])\n",
    "        matching_rsid_pmid100 = len(dfmatch_less_rsid[dfmatch_less_rsid['pmid-unique']>100])\n",
    "\n",
    "        #sortng, top10\n",
    "        dfmatch_less_rsidless = dfmatch_less_rsid[['rsid','pmid-unique','mesh-unique']]\n",
    "        dfmatch_less_rsidlesssort = dfmatch_less_rsidless.sort_values(by='pmid-unique', ascending= False).reset_index(drop=True)\n",
    "        top10rsid = dfmatch_less_rsidlesssort['rsid'][:10].tolist()\n",
    "\n",
    "        ### groupby.describe analysis by mesh\n",
    "        dfmatch_less_mesh = dfmatch_less_.groupby('mesh').describe().reset_index()\n",
    "        dfmatch_less_mesh.columns = dfmatch_less_mesh.columns.to_flat_index()\n",
    "        #to handle generate df.groupby.describe, convert Multicolumn to single column\n",
    "        #https://datascientyst.com/flatten-multiindex-in-pandas/\n",
    "        new_column_names = ['mesh', 'pmid-count', 'pmid-unique','pmid-top','pmid-freq','rsid-count', 'rsid-unique','rsid-top','rsid-freq']\n",
    "        dfmatch_less_mesh.columns = new_column_names\n",
    "\n",
    "        dfmatch_less_mesh_less = dfmatch_less_mesh[['mesh','pmid-unique','rsid-unique']]\n",
    "        #dfmatch_less_mesh_lesssort = dfmatch_less_mesh_less.sort_values(by='pmid-unique',ascending=False).reset_index(drop=True)\n",
    "\n",
    "        # add frequency\n",
    "        samplepmid_count = len(dfmatch.pmids.drop_duplicates())\n",
    "        dfmatch_less_mesh_less_frq = dfmatch_less_mesh_less.copy()\n",
    "        mesh_frq = dfmatch_less_mesh_less_frq.loc[:,'pmid-unique'].astype(float)/samplepmid_count\n",
    "        dfmatch_less_mesh_less_frq.loc[:,'mesh frequency'] = round(mesh_frq,3)#*100\n",
    "        dfmatch_less_mesh_less_frqsort = dfmatch_less_mesh_less_frq.sort_values(by='pmid-unique',ascending=False).reset_index(drop=True)\n",
    "\n",
    "        top10mesh = dfmatch_less_mesh_less_frqsort['mesh'][:10].tolist()\n",
    "        #^display(dfmatch_less_mesh_less_frqsort.head(20))\n",
    "\n",
    "        if save_plot == True:\n",
    "            # create a scatter plot\n",
    "            x = dfmatch_less_mesh_less_frqsort['mesh'].head(30)\n",
    "            y = dfmatch_less_mesh_less_frqsort['pmid-unique'].head(30)\n",
    "            plt.figure(figsize=(5, 8))\n",
    "            plt.title('Scatter Plot: '+gene+' pmid-mesh (filtered)', loc='center',pad=10)\n",
    "            plt.scatter(y, x)\n",
    "            plt.gca().invert_yaxis()\n",
    "            #plt.subplots_adjust(left=0.3, right=0.9, bottom=0.3, top=0.9)\n",
    "            #plt.xticks(rotation=90)\n",
    "            plt.tick_params(axis='x', which='both', top=True, bottom=False, labeltop=True, labelbottom=False)\n",
    "            plt.xlabel('pmid count', position=(0.5, 1.08))\n",
    "            ax = plt.gca()\n",
    "            ax.xaxis.set_label_position('top')\n",
    "            #plt.show()\n",
    "            plt.savefig(directory+'/'+gene+'_mesh_plot_'+timestamp+'_filtered.png',dpi=120, bbox_inches = \"tight\")\n",
    "            plt.close()\n",
    "        else:\n",
    "            pass\n",
    "\n",
    "        #STORE DATA----------------------------------------------------------------------\n",
    "        #timestamp = time2.strftime('%Y%m%d%H%M%S')\n",
    "\n",
    "        #comparison results:\n",
    "        dfmatch_less_['gene'] = gene\n",
    "        complete_df = pd.concat([complete_df, dfmatch_less_])\n",
    "\n",
    "\n",
    "        #REPORT------------------------------------------------------------------\n",
    "\n",
    "        report = { 'reference_mesh': ref_mesh_n,\n",
    "                   #'filtered_pmidmesh': pmidmesh_after,\n",
    "                   #'interesting_pmid': interesting_pmid,\n",
    "                   #'interesting_rsid': interesting_rsid,\n",
    "                   'starting_pmidmesh': starting_pmidmesh,\n",
    "                   'starting_pmid' : starting_pmid,\n",
    "                   'starting_mesh': starting_mesh,\n",
    "                   'starting_rsid': lit1_rsid,\n",
    "                   'matching_pmidmesh': matching_pmidmesh,\n",
    "                   'matching_pmids': matching_pmids,\n",
    "                   'matching_mesh': matching_mesh,\n",
    "                   'matching_rsid': matching_rsid,\n",
    "                   'dropped_rsid': dropped_rsid,\n",
    "                   'matching_mesh_ratio': round((matching_mesh/starting_mesh),3),\n",
    "                   'matching_pmids_ratio': round((matching_pmids/starting_pmid),3),\n",
    "                   'matching_pmidmesh_ratio': round((matching_pmidmesh/starting_pmidmesh),3),\n",
    "                   'matching_rsid_ratio': round((matching_rsid/lit1_rsid),3),\n",
    "                   'matching_rsid_pmid10': matching_rsid_pmid10,\n",
    "                   'matching_rsid_pmid100': matching_rsid_pmid100,\n",
    "                   'matching_top10mesh':str(top10mesh),\n",
    "                   'matching_top10rsid':str(top10rsid),\n",
    "                   }\n",
    "\n",
    "        df_report = pd.DataFrame(report, index=[gene]).transpose()\n",
    "\n",
    "        # SLOW STEP!----------------------\n",
    "        # generate fist report.csv\n",
    "\n",
    "        #if os.path.isfile(directory+'/GRPMX_report.csv'):\n",
    "        #    df_report_complete = pd.read_csv(directory+'/GRPMX_report.csv', index_col=0)#).set_index('Unnamed: 0')\n",
    "        #    df_report_complete = pd.concat([df_report_complete, df_report], axis=1)\n",
    "        #    df_report_complete.to_csv(directory+'/GRPMX_report.csv')\n",
    "        #else:\n",
    "        #    df_report.to_csv(directory+'/GRPMX_report.csv') # solo la prima volta\n",
    "\n",
    "        # FAST ALT------------\n",
    "        df_report_complete = pd.concat([df_report_complete, df_report], axis=1)\n",
    "\n",
    "        time_omega = datetime.now()\n",
    "        full_runtime = time_omega - time_alpha\n",
    "        print(gene+'_runtime:', full_runtime, ' Genes processed:', genes.index(gene), 'on ', len(genes))\n",
    "        total_seconds = full_runtime.total_seconds()\n",
    "\n",
    "        # save checkpoint----------------------\n",
    "        if genes.index(gene) > 1 and genes.index(gene) % checkpoint == 0:\n",
    "            complete_df = complete_df.reindex(columns=['gene','rsid', 'pmids', 'mesh'])\n",
    "            complete_df.to_csv(directory+'/grpmx_filtered_output.csv')\n",
    "            df_report_complete.to_csv(directory+'/GRPMX_report.csv')\n",
    "            print(\"saved checkpoint\")\n",
    "        else:\n",
    "            pass\n",
    "\n",
    "    else:\n",
    "        print(gene+' not present in DataBase')\n",
    "        pass\n",
    "\n",
    "#directory = r'H:\\Il mio Drive\\GRPM db\\GRPM proteincodinggenes\\grpm_random_04'\n",
    "# Save complete csv\n",
    "complete_df = complete_df.reindex(columns=['gene','rsid', 'pmids', 'mesh'])\n",
    "complete_df.to_csv(directory+'/grpmx_filtered_output.csv')\n",
    "\n",
    "df_report_complete.to_csv(directory+'/GRPMX_report.csv')\n",
    "\n",
    "# #Update gene values (remove previous gene entry)\n",
    "GRPMX_report = pd.read_csv(directory+'/GRPMX_report.csv', index_col=0)\n",
    "time_load_1 = datetime.now()\n",
    "for gene in grpm_genes_list:\n",
    "    if gene+'.1' in GRPMX_report.columns:\n",
    "        GRPMX_report = GRPMX_report.drop(columns = gene)\n",
    "        GRPMX_report = GRPMX_report.rename(columns={gene+'.1': gene})\n",
    "        print(genes.index(gene))\n",
    "    else:\n",
    "        pass\n",
    "time_load_2 = datetime.now()\n",
    "print(time_load_2-time_load_1)\n",
    "GRPMX_report.to_csv(directory+'/GRPMX_report.csv')\n",
    "\n",
    "time_finish = datetime.now()\n",
    "time_batch = time_finish - time_start\n",
    "print('time batch:',time_batch)\n",
    "print('runtime/gene:', time_batch/len(genes))"
   ],
   "metadata": {
    "collapsed": false
   }
  },
  {
   "cell_type": "code",
   "execution_count": null,
   "outputs": [],
   "source": [
    "# save checkpoint\n",
    "complete_df = complete_df.reindex(columns=['gene','rsid', 'pmids', 'mesh'])\n",
    "complete_df.to_csv(directory+'/grpmx_filtered_output.csv')\n",
    "\n",
    "df_report_complete.to_csv(directory+'/GRPMX_report.csv')\n",
    "\n",
    "restart_from = len(df_report_complete.T)\n",
    "print('partial job, genes in survey '+topic_tag+' report:', restart_from)"
   ],
   "metadata": {
    "collapsed": false
   }
  },
  {
   "cell_type": "code",
   "execution_count": null,
   "outputs": [],
   "source": [
    "df_report_complete.T"
   ],
   "metadata": {
    "collapsed": false
   }
  },
  {
   "cell_type": "code",
   "execution_count": null,
   "outputs": [],
   "source": [
    "df_read = pd.read_csv(directory+'/grpmx_filtered_output.csv', index_col=0)#.gene.drop_duplicates()\n",
    "#df_read.to_clipboard()\n",
    "print('genes matching:', df_read.gene.nunique())\n",
    "print('mesh matching:', df_read.mesh.nunique())\n",
    "print('apply threshold in Analizer Module')\n",
    "df_read"
   ],
   "metadata": {
    "collapsed": false
   }
  },
  {
   "cell_type": "markdown",
   "source": [
    "# Check results"
   ],
   "metadata": {
    "collapsed": false
   }
  },
  {
   "cell_type": "code",
   "execution_count": null,
   "outputs": [],
   "source": [
    "# Visualize GRPMX_report.csv\n",
    "GRPMX_report = pd.read_csv(directory+'/GRPMX_report.csv', index_col=0).transpose().reset_index().rename(columns={'index':'gene'})\n",
    "GRPMX_report.gene.drop_duplicates().to_clipboard()\n",
    "print(len(GRPMX_report.gene.drop_duplicates()))\n",
    "GRPMX_report"
   ],
   "metadata": {
    "collapsed": false
   }
  },
  {
   "cell_type": "code",
   "execution_count": null,
   "outputs": [],
   "source": [
    "\n",
    "GRPMX_report[['reference_mesh', 'starting_pmidmesh', 'starting_pmid','starting_mesh','starting_rsid', 'matching_pmidmesh', 'matching_pmids', 'matching_mesh','matching_rsid', 'dropped_rsid', 'matching_rsid_pmid10','matching_rsid_pmid100']] = GRPMX_report[['reference_mesh', 'starting_pmidmesh', 'starting_pmid','starting_mesh','starting_rsid', 'matching_pmidmesh', 'matching_pmids', 'matching_mesh','matching_rsid', 'dropped_rsid','matching_rsid_pmid10','matching_rsid_pmid100']].astype(int)\n",
    "\n",
    "GRPMX_report[['matching_mesh_ratio', 'matching_pmids_ratio','matching_pmidmesh_ratio', 'matching_rsid_ratio']] = GRPMX_report[['matching_mesh_ratio', 'matching_pmids_ratio','matching_pmidmesh_ratio','matching_rsid_ratio']].astype(float)\n",
    "\n",
    "GRPMX_report_less = GRPMX_report[['matching_pmids','matching_pmids_ratio','matching_mesh','matching_rsid','matching_top10mesh','matching_top10rsid']]\n",
    "\n",
    "GRPMX_report_sort = GRPMX_report.sort_values(by= 'matching_pmids',ascending=False)\n",
    "GRPMX_report[['gene', 'matching_pmidmesh', 'matching_pmids',\n",
    "'matching_mesh', 'matching_rsid', 'dropped_rsid', 'matching_mesh_ratio',\n",
    "'matching_pmids_ratio', 'matching_pmidmesh_ratio',\n",
    "'matching_rsid_ratio', 'matching_rsid_pmid10', 'matching_rsid_pmid100',\n",
    "'matching_top10mesh', 'matching_top10rsid']].T"
   ],
   "metadata": {
    "collapsed": false
   }
  },
  {
   "cell_type": "code",
   "execution_count": null,
   "outputs": [],
   "source": [
    "# Matching PMIDs in Database\n",
    "GRPMX_report_sort = GRPMX_report.sort_values(by= 'matching_pmids',ascending=False)\n",
    "\n",
    "x = GRPMX_report_sort.gene.iloc[:40]\n",
    "y = GRPMX_report_sort['matching_pmids'].iloc[:40]\n",
    "plt.figure(figsize=(5, 8))\n",
    "plt.title('Matching PMIDs in Database', loc='center',pad=10)\n",
    "\n",
    "plt.barh(x,y)\n",
    "plt.gca().invert_yaxis()\n",
    "plt.tick_params(axis='x', which='both', top=True, bottom=False, labeltop=True, labelbottom=False)\n",
    "#plt.xlabel('pmid count', position=(0.5, 1.08))\n",
    "plt.ylabel('genes')\n",
    "plt.xlabel('matching pmid', position=(0.5, 1.08))\n",
    "ax = plt.gca()\n",
    "ax.xaxis.set_label_position('top')\n",
    "#plt.savefig(r'C:\\Users\\Public\\Database_SSD\\GRPX_heavyload (RunOnly)\\logs\\Database_Gene('+str(len(GRPMX_report.gene))+')-PMID_filtered.png',dpi=300, bbox_inches = \"tight\")\n",
    "#plt.clf()"
   ],
   "metadata": {
    "collapsed": false
   }
  },
  {
   "cell_type": "code",
   "execution_count": null,
   "outputs": [],
   "source": [
    "# Add \"interest index\" to report:----------------------------------------------------------\n",
    "max_match_pmids = int(GRPMX_report['matching_pmids'].max())\n",
    "GRPMX_report_int = GRPMX_report\n",
    "GRPMX_report_int['matching_pmids_index'] = round((GRPMX_report_int['matching_pmids']/max_match_pmids),3)\n",
    "\n",
    "GRPMX_report_int['interest_index'] = round(GRPMX_report_int['matching_pmids_index'] * GRPMX_report_int['matching_pmids_ratio'],3)\n",
    "\n",
    "GRPMX_report_int.set_index('gene').T.to_csv(directory+'/GRPMX_report_int.csv')"
   ],
   "metadata": {
    "collapsed": false
   }
  },
  {
   "cell_type": "code",
   "execution_count": null,
   "outputs": [],
   "source": [
    "plt.clf()# Matching PMIDs in Database\n",
    "GRPMX_report_sort = GRPMX_report.sort_values(by= 'matching_pmids_index',ascending=False)\n",
    "\n",
    "x = GRPMX_report_sort.gene.iloc[:100]\n",
    "y = GRPMX_report_sort['matching_pmids_index'].iloc[:100]\n",
    "plt.figure(figsize=(5, 20))\n",
    "plt.title('Matching PMIDs in Database', loc='center',pad=10)\n",
    "\n",
    "plt.barh(x,y)\n",
    "plt.gca().invert_yaxis()\n",
    "plt.tick_params(axis='x', which='both', top=True, bottom=False, labeltop=True, labelbottom=False)\n",
    "#plt.xlabel('pmid count', position=(0.5, 1.08))\n",
    "plt.ylabel('genes')\n",
    "plt.xlabel('matching pmid', position=(0.5, 1.08))\n",
    "ax = plt.gca()\n",
    "ax.xaxis.set_label_position('top')\n",
    "#plt.savefig(r'C:\\Users\\Public\\Database_SSD\\GRPX_heavyload (RunOnly)\\logs\\Database_Gene('+str(len(GRPMX_report.gene))+')-PMID_filtered.png',dpi=300, bbox_inches = \"tight\")\n",
    "#plt.clf()"
   ],
   "metadata": {
    "collapsed": false
   }
  }
 ],
 "metadata": {
  "kernelspec": {
   "display_name": "Python 3",
   "language": "python",
   "name": "python3"
  },
  "language_info": {
   "codemirror_mode": {
    "name": "ipython",
    "version": 2
   },
   "file_extension": ".py",
   "mimetype": "text/x-python",
   "name": "python",
   "nbconvert_exporter": "python",
   "pygments_lexer": "ipython2",
   "version": "2.7.6"
  }
 },
 "nbformat": 4,
 "nbformat_minor": 0
}
