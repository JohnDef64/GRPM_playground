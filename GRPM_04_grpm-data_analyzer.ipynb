{
 "cells": [
  {
   "cell_type": "markdown",
   "metadata": {},
   "source": [
    "# GRPM Data Analyzer Module\n",
    "\n",
    "This notebook is designed for statistical analysis. It assigns each gene a relative measure of interest based on the number and proportion of associated findings gathered in the GRPM dataset. This calculation enables the prioritization of genes related to a chosen topic, which can aid further investigations."
   ]
  },
  {
   "cell_type": "code",
   "execution_count": null,
   "metadata": {},
   "outputs": [],
   "source": [
    "#Only for Google Colab\n",
    "import os\n",
    "import sys\n",
    "import subprocess\n",
    "\n",
    "# @markdown Run in Colab virtual machine by default\n",
    "\n",
    "# @markdown to run in google drive set:\n",
    "import_mydrive = False #@param {type:\"boolean\"}\n",
    "\n",
    "\n",
    "if 'google.colab' in sys.modules:\n",
    "    subprocess.run([\"pip\", \"install\", \"nbib\"])\n",
    "    subprocess.run([\"pip\", \"install\", \"biopython\"])\n",
    "\n",
    "    if import_mydrive:\n",
    "        from google.colab import drive\n",
    "        drive.mount('/content/drive')\n",
    "\n",
    "        if not os.path.exists('/content/drive/MyDrive/grpm_system/'):\n",
    "            subprocess.run(['mkdir', '/content/drive/MyDrive/grpm_system/'])\n",
    "        subprocess.run(['cd', '/content/drive/MyDrive/grpm_system/'])\n",
    "    else:\n",
    "        if not os.path.exists('/content/grpm_system/'):\n",
    "            subprocess.run(['mkdir', '/content/grpm_system/'])\n",
    "        subprocess.run(['cd', '/content/grpm_system/'])\n",
    "\n",
    "current_directory = os.getcwd()\n",
    "print(\"Current working directory:\", current_directory)"
   ]
  },
  {
   "cell_type": "markdown",
   "metadata": {},
   "source": [
    "# Import Packages"
   ]
  },
  {
   "cell_type": "code",
   "execution_count": 1,
   "metadata": {
    "collapsed": false,
    "ExecuteTime": {
     "end_time": "2024-06-06T12:55:46.108349200Z",
     "start_time": "2024-06-06T12:55:45.932204600Z"
    }
   },
   "outputs": [],
   "source": [
    "import os\n",
    "import io\n",
    "import sys\n",
    "import glob\n",
    "import zipfile\n",
    "import requests\n",
    "import numpy as np\n",
    "import pandas as pd\n",
    "import seaborn as sns\n",
    "import matplotlib.pyplot as plt\n",
    "from datetime import datetime\n",
    "if not 'google.colab' in sys.modules:\n",
    "    import pyperclip\n",
    "\n",
    "def simple_bool(message):\n",
    "    choose = input(message+\" (y/n): \").lower()\n",
    "    your_bool = choose in [\"y\", \"yes\",\"yea\",\"sure\"]\n",
    "    return your_bool\n",
    "      \n",
    "def get_gitfile(url, flag='', dir = os.getcwd()):\n",
    "    url = url.replace('blob','raw')\n",
    "    response = requests.get(url)\n",
    "    file_name = flag + url.rsplit('/',1)[1]\n",
    "    file_path = os.path.join(dir, file_name)\n",
    "    if response.status_code == 200:\n",
    "        with open(file_path, 'wb') as file:\n",
    "            file.write(response.content)\n",
    "        print(f\"File downloaded successfully. Saved as {file_name}\")\n",
    "    else:\n",
    "        print(\"Unable to download the file.\")          \n",
    "\n",
    "def get_and_extract(file, dir = os.getcwd(), ext = '.zip'):\n",
    "    url='https://zenodo.org/record/8205724/files/'+file+'.zip?download=1'\n",
    "    zip_file_name = file+ext\n",
    "    extracted_folder_name = dir\n",
    "    # Download the ZIP file\n",
    "    response = requests.get(url)\n",
    "    if response.status_code == 200:\n",
    "        # Extract the ZIP contents\n",
    "        with io.BytesIO(response.content) as zip_buffer:\n",
    "            with zipfile.ZipFile(zip_buffer, 'r') as zip_ref:\n",
    "                zip_ref.extractall(extracted_folder_name)\n",
    "        print(f\"ZIP file '{zip_file_name}' extracted to '{extracted_folder_name}' successfully.\")\n",
    "    else:\n",
    "        print(\"Failed to download the ZIP file.\")"
   ]
  },
  {
   "cell_type": "markdown",
   "metadata": {},
   "source": [
    "# Get requirements"
   ]
  },
  {
   "cell_type": "markdown",
   "metadata": {},
   "source": [
    "## Get GRPM Dataset from Zenodo"
   ]
  },
  {
   "cell_type": "code",
   "execution_count": null,
   "metadata": {
    "collapsed": false
   },
   "outputs": [],
   "source": [
    "# Get GRPM Dataset from Zenodo Repository\n",
    "#https://zenodo.org/record/8205724  DOI: 10.5281/zenodo.8205724\n",
    "\n",
    "if simple_bool('Download pre-made GRPM-Dataset from Zenodo?'):\n",
    "    timea = datetime.now()\n",
    "    get_and_extract('grpm_dataset')\n",
    "    print('Download and extraction time ',datetime.now()-timea)"
   ]
  },
  {
   "cell_type": "markdown",
   "metadata": {},
   "source": [
    "## Get pre-made survey datasets from Zenodo"
   ]
  },
  {
   "cell_type": "code",
   "execution_count": 2,
   "metadata": {
    "collapsed": false,
    "ExecuteTime": {
     "end_time": "2024-06-06T12:56:52.928956200Z",
     "start_time": "2024-06-06T12:55:55.334768500Z"
    }
   },
   "outputs": [
    {
     "name": "stdout",
     "output_type": "stream",
     "text": [
      "ZIP file 'grpm_surveys.zip' extracted to 'G:\\Altri computer\\Horizon\\horizon_workspace\\projects\\semantics\\GRPM\\GRPM_github' successfully.\n",
      "Download and extraction time  0:00:55.575851\n"
     ]
    }
   ],
   "source": [
    "%%time\n",
    "if simple_bool('Download pre-made nutrigenetic-surveys from Zenodo?'):\n",
    "    timea = datetime.now()\n",
    "    get_and_extract('grpm_surveys')\n",
    "    print('Download and extraction time ',datetime.now()-timea)"
   ]
  },
  {
   "cell_type": "markdown",
   "metadata": {},
   "source": [
    "## Import Ensembl Gene dataset"
   ]
  },
  {
   "cell_type": "code",
   "execution_count": 5,
   "metadata": {
    "ExecuteTime": {
     "end_time": "2024-06-06T12:58:53.845101900Z",
     "start_time": "2024-06-06T12:58:53.539917500Z"
    }
   },
   "outputs": [
    {
     "name": "stdout",
     "output_type": "stream",
     "text": [
      "Ensembl genes:\n",
      "protein_coding_genes_list = 19318\n",
      "RNA_genes_list            = 11452\n",
      "pseudo_genes_list         = 9866\n"
     ]
    }
   ],
   "source": [
    "if not os.path.exists('human_genes_repo'):\n",
    "    get_and_extract('human_genes_repo')\n",
    "\n",
    "# Load Human Gene list (if needed)\n",
    "protein_coding_genes = pd.read_csv('human_genes_repo/H_GENES_proteincoding_genes.csv')\n",
    "IG_TR_genes          = pd.read_csv('human_genes_repo/H_GENES_IGTR_genes.csv')\n",
    "RNA_genes            = pd.read_csv('human_genes_repo/H_GENES_RNA_genes.csv')\n",
    "pseudo_genes         = pd.read_csv('human_genes_repo/H_GENES_pseudo_genes.csv')\n",
    "misc_genes           = pd.read_csv('human_genes_repo/H_GENES_misc_genes.csv')\n",
    "\n",
    "#First: protein coding genes:\n",
    "protein_coding_genes_list = protein_coding_genes['Gene name'].dropna().tolist()\n",
    "RNA_genes_list            = RNA_genes['Gene name'].dropna().tolist()\n",
    "pseudo_genes_list         = pseudo_genes['Gene name'].dropna().tolist()\n",
    "\n",
    "print('Ensembl genes:')\n",
    "print('protein_coding_genes_list =',len(protein_coding_genes_list))\n",
    "print('RNA_genes_list            =',len(RNA_genes_list))\n",
    "print('pseudo_genes_list         =',len(pseudo_genes_list))"
   ]
  },
  {
   "cell_type": "markdown",
   "metadata": {},
   "source": [
    "# [Section 1]"
   ]
  },
  {
   "cell_type": "markdown",
   "metadata": {},
   "source": [
    "# Import GRPM-dataset Report"
   ]
  },
  {
   "cell_type": "code",
   "execution_count": 6,
   "metadata": {
    "collapsed": false,
    "ExecuteTime": {
     "end_time": "2024-06-06T12:59:35.829699300Z",
     "start_time": "2024-06-06T12:59:32.893050900Z"
    }
   },
   "outputs": [
    {
     "name": "stdout",
     "output_type": "stream",
     "text": [
      "The GRPM Report harvest the numerical data through the data-mining process\n",
      "Report sorted by lit1_pmid\n"
     ]
    },
    {
     "data": {
      "text/plain": "      gene  ncbi_dbsnp  lit2_variant  lit2_variant_norsid  lit2_rsid  \\\n0     TP53       10885          5858                 3585       1587   \n1    MTHFR        9817          1040                  200        675   \n2     SNCA       42272          1322                  796        498   \n3      TNF        1840          1842                 1543        237   \n4     BDNF       25241           582                  178        353   \n..     ...         ...           ...                  ...        ...   \n95    MMP9        4431           596                  206        337   \n96    JAK2       67103          2070                  426       1514   \n97   INSL6       89607          1147                    5       1142   \n98  CDKN2A       13355          1636                  833        601   \n99    SOD2       40701          1081                  181        856   \n\n    lit2_rsid_plus1  lit1_rsid  lit1_rsid_pmid_plus1  lit1_pmid  \\\n0              1075        880                   637       9002   \n1               362        263                   132       8315   \n2               275        203                    87       4724   \n3               119        122                    65       4287   \n4               193        153                    85       3956   \n..              ...        ...                   ...        ...   \n95              155         99                    46        934   \n96              559        249                   121        926   \n97              625        240                   117        910   \n98              382        278                   172        907   \n99              336        145                    66        894   \n\n    lit1_pmid_pmid_plus1  ...  pubmed_mesh_qualifier_major  pubmed_mesh  \\\n0                   8936  ...                        17274         5316   \n1                   8303  ...                        15266         4762   \n2                   4715  ...                         9356         3247   \n3                   4260  ...                        11485         3991   \n4                   3934  ...                         8647         3208   \n..                   ...  ...                          ...          ...   \n95                   913  ...                         3699         1661   \n96                   879  ...                         3551         1537   \n97                   867  ...                         3168         1390   \n98                   865  ...                         3578         1603   \n99                   862  ...                         3733         1673   \n\n    rsid_pmid10  rsid_pmid50  rsid_pmid100  \\\n0           186           35            15   \n1            13            3             3   \n2            12            5             5   \n3            17            7             5   \n4            27            4             2   \n..          ...          ...           ...   \n95           14            4             2   \n96           12            2             1   \n97            9            1             1   \n98           21            4             0   \n99            7            1             1   \n\n                                        top10mesh_all  \\\n0   ['Humans', 'Female', 'Tumor Suppressor Protein...   \n1   ['Humans', 'Female', 'Male', 'Methylenetetrahy...   \n2   ['Humans', 'Animals', 'alpha-Synuclein', 'Park...   \n3   ['Humans', 'Female', 'Male', 'Tumor Necrosis F...   \n4   ['Humans', 'Male', 'Female', 'Brain-Derived Ne...   \n..                                                ...   \n95  ['Humans', 'Female', 'Male', 'Matrix Metallopr...   \n96  ['Humans', 'Janus Kinase 2', 'Female', 'Mutati...   \n97  ['Humans', 'Janus Kinase 2', 'Female', 'Mutati...   \n98  ['Humans', 'Female', 'Male', 'Middle Aged', 'A...   \n99  ['Humans', 'Female', 'Male', 'Polymorphism, Si...   \n\n                                        top10rsid_all  pubmed_runtime  \\\n0   ['rs1042522', 'rs28934576', 'rs28934578', 'rs1...         0:06:22   \n1   ['rs1801133', 'rs1801131', 'rs2274976', 'rs173...         0:05:23   \n2   ['rs104893877', 'rs104893878', 'rs104893875', ...         0:03:14   \n3   ['rs1800629', 'rs361525', 'rs1799964', 'rs1799...         0:01:51   \n4   ['rs6265', 'rs2030324', 'rs11030104', 'rs10767...         0:02:00   \n..                                                ...             ...   \n95  ['rs3918242', 'rs17576', 'rs17577', 'rs2250889...         0:00:26   \n96  ['rs77375493', 'rs1057519721', 'rs121912473', ...         0:00:28   \n97  ['rs77375493', 'rs1057519721', 'rs121912473', ...         0:00:25   \n98  ['rs3731249', 'rs3088440', 'rs104894094', 'rs1...         0:00:27   \n99  ['rs4880', 'rs5746136', 'rs1261281771', 'rs275...         0:00:27   \n\n    total_runtime                  time_stamp  \n0         0:07:45  2023-03-21 18:49:16.897957  \n1         0:06:19  2023-03-22 10:31:03.464765  \n2         0:03:40  2023-03-20 13:24:35.290344  \n3         0:02:15  2023-03-14 11:33:43.998754  \n4         0:02:25  2023-03-14 12:54:46.408228  \n..            ...                         ...  \n95        0:00:35  2023-03-15 15:18:23.684231  \n96        0:00:38  2023-03-17 12:56:17.974286  \n97        0:00:37  2023-03-20 21:18:51.251322  \n98        0:00:40  2023-03-20 17:30:12.950705  \n99        0:00:38  2023-03-21 13:18:25.241920  \n\n[100 rows x 26 columns]",
      "text/html": "<div>\n<style scoped>\n    .dataframe tbody tr th:only-of-type {\n        vertical-align: middle;\n    }\n\n    .dataframe tbody tr th {\n        vertical-align: top;\n    }\n\n    .dataframe thead th {\n        text-align: right;\n    }\n</style>\n<table border=\"1\" class=\"dataframe\">\n  <thead>\n    <tr style=\"text-align: right;\">\n      <th></th>\n      <th>gene</th>\n      <th>ncbi_dbsnp</th>\n      <th>lit2_variant</th>\n      <th>lit2_variant_norsid</th>\n      <th>lit2_rsid</th>\n      <th>lit2_rsid_plus1</th>\n      <th>lit1_rsid</th>\n      <th>lit1_rsid_pmid_plus1</th>\n      <th>lit1_pmid</th>\n      <th>lit1_pmid_pmid_plus1</th>\n      <th>...</th>\n      <th>pubmed_mesh_qualifier_major</th>\n      <th>pubmed_mesh</th>\n      <th>rsid_pmid10</th>\n      <th>rsid_pmid50</th>\n      <th>rsid_pmid100</th>\n      <th>top10mesh_all</th>\n      <th>top10rsid_all</th>\n      <th>pubmed_runtime</th>\n      <th>total_runtime</th>\n      <th>time_stamp</th>\n    </tr>\n  </thead>\n  <tbody>\n    <tr>\n      <th>0</th>\n      <td>TP53</td>\n      <td>10885</td>\n      <td>5858</td>\n      <td>3585</td>\n      <td>1587</td>\n      <td>1075</td>\n      <td>880</td>\n      <td>637</td>\n      <td>9002</td>\n      <td>8936</td>\n      <td>...</td>\n      <td>17274</td>\n      <td>5316</td>\n      <td>186</td>\n      <td>35</td>\n      <td>15</td>\n      <td>['Humans', 'Female', 'Tumor Suppressor Protein...</td>\n      <td>['rs1042522', 'rs28934576', 'rs28934578', 'rs1...</td>\n      <td>0:06:22</td>\n      <td>0:07:45</td>\n      <td>2023-03-21 18:49:16.897957</td>\n    </tr>\n    <tr>\n      <th>1</th>\n      <td>MTHFR</td>\n      <td>9817</td>\n      <td>1040</td>\n      <td>200</td>\n      <td>675</td>\n      <td>362</td>\n      <td>263</td>\n      <td>132</td>\n      <td>8315</td>\n      <td>8303</td>\n      <td>...</td>\n      <td>15266</td>\n      <td>4762</td>\n      <td>13</td>\n      <td>3</td>\n      <td>3</td>\n      <td>['Humans', 'Female', 'Male', 'Methylenetetrahy...</td>\n      <td>['rs1801133', 'rs1801131', 'rs2274976', 'rs173...</td>\n      <td>0:05:23</td>\n      <td>0:06:19</td>\n      <td>2023-03-22 10:31:03.464765</td>\n    </tr>\n    <tr>\n      <th>2</th>\n      <td>SNCA</td>\n      <td>42272</td>\n      <td>1322</td>\n      <td>796</td>\n      <td>498</td>\n      <td>275</td>\n      <td>203</td>\n      <td>87</td>\n      <td>4724</td>\n      <td>4715</td>\n      <td>...</td>\n      <td>9356</td>\n      <td>3247</td>\n      <td>12</td>\n      <td>5</td>\n      <td>5</td>\n      <td>['Humans', 'Animals', 'alpha-Synuclein', 'Park...</td>\n      <td>['rs104893877', 'rs104893878', 'rs104893875', ...</td>\n      <td>0:03:14</td>\n      <td>0:03:40</td>\n      <td>2023-03-20 13:24:35.290344</td>\n    </tr>\n    <tr>\n      <th>3</th>\n      <td>TNF</td>\n      <td>1840</td>\n      <td>1842</td>\n      <td>1543</td>\n      <td>237</td>\n      <td>119</td>\n      <td>122</td>\n      <td>65</td>\n      <td>4287</td>\n      <td>4260</td>\n      <td>...</td>\n      <td>11485</td>\n      <td>3991</td>\n      <td>17</td>\n      <td>7</td>\n      <td>5</td>\n      <td>['Humans', 'Female', 'Male', 'Tumor Necrosis F...</td>\n      <td>['rs1800629', 'rs361525', 'rs1799964', 'rs1799...</td>\n      <td>0:01:51</td>\n      <td>0:02:15</td>\n      <td>2023-03-14 11:33:43.998754</td>\n    </tr>\n    <tr>\n      <th>4</th>\n      <td>BDNF</td>\n      <td>25241</td>\n      <td>582</td>\n      <td>178</td>\n      <td>353</td>\n      <td>193</td>\n      <td>153</td>\n      <td>85</td>\n      <td>3956</td>\n      <td>3934</td>\n      <td>...</td>\n      <td>8647</td>\n      <td>3208</td>\n      <td>27</td>\n      <td>4</td>\n      <td>2</td>\n      <td>['Humans', 'Male', 'Female', 'Brain-Derived Ne...</td>\n      <td>['rs6265', 'rs2030324', 'rs11030104', 'rs10767...</td>\n      <td>0:02:00</td>\n      <td>0:02:25</td>\n      <td>2023-03-14 12:54:46.408228</td>\n    </tr>\n    <tr>\n      <th>...</th>\n      <td>...</td>\n      <td>...</td>\n      <td>...</td>\n      <td>...</td>\n      <td>...</td>\n      <td>...</td>\n      <td>...</td>\n      <td>...</td>\n      <td>...</td>\n      <td>...</td>\n      <td>...</td>\n      <td>...</td>\n      <td>...</td>\n      <td>...</td>\n      <td>...</td>\n      <td>...</td>\n      <td>...</td>\n      <td>...</td>\n      <td>...</td>\n      <td>...</td>\n      <td>...</td>\n    </tr>\n    <tr>\n      <th>95</th>\n      <td>MMP9</td>\n      <td>4431</td>\n      <td>596</td>\n      <td>206</td>\n      <td>337</td>\n      <td>155</td>\n      <td>99</td>\n      <td>46</td>\n      <td>934</td>\n      <td>913</td>\n      <td>...</td>\n      <td>3699</td>\n      <td>1661</td>\n      <td>14</td>\n      <td>4</td>\n      <td>2</td>\n      <td>['Humans', 'Female', 'Male', 'Matrix Metallopr...</td>\n      <td>['rs3918242', 'rs17576', 'rs17577', 'rs2250889...</td>\n      <td>0:00:26</td>\n      <td>0:00:35</td>\n      <td>2023-03-15 15:18:23.684231</td>\n    </tr>\n    <tr>\n      <th>96</th>\n      <td>JAK2</td>\n      <td>67103</td>\n      <td>2070</td>\n      <td>426</td>\n      <td>1514</td>\n      <td>559</td>\n      <td>249</td>\n      <td>121</td>\n      <td>926</td>\n      <td>879</td>\n      <td>...</td>\n      <td>3551</td>\n      <td>1537</td>\n      <td>12</td>\n      <td>2</td>\n      <td>1</td>\n      <td>['Humans', 'Janus Kinase 2', 'Female', 'Mutati...</td>\n      <td>['rs77375493', 'rs1057519721', 'rs121912473', ...</td>\n      <td>0:00:28</td>\n      <td>0:00:38</td>\n      <td>2023-03-17 12:56:17.974286</td>\n    </tr>\n    <tr>\n      <th>97</th>\n      <td>INSL6</td>\n      <td>89607</td>\n      <td>1147</td>\n      <td>5</td>\n      <td>1142</td>\n      <td>625</td>\n      <td>240</td>\n      <td>117</td>\n      <td>910</td>\n      <td>867</td>\n      <td>...</td>\n      <td>3168</td>\n      <td>1390</td>\n      <td>9</td>\n      <td>1</td>\n      <td>1</td>\n      <td>['Humans', 'Janus Kinase 2', 'Female', 'Mutati...</td>\n      <td>['rs77375493', 'rs1057519721', 'rs121912473', ...</td>\n      <td>0:00:25</td>\n      <td>0:00:37</td>\n      <td>2023-03-20 21:18:51.251322</td>\n    </tr>\n    <tr>\n      <th>98</th>\n      <td>CDKN2A</td>\n      <td>13355</td>\n      <td>1636</td>\n      <td>833</td>\n      <td>601</td>\n      <td>382</td>\n      <td>278</td>\n      <td>172</td>\n      <td>907</td>\n      <td>865</td>\n      <td>...</td>\n      <td>3578</td>\n      <td>1603</td>\n      <td>21</td>\n      <td>4</td>\n      <td>0</td>\n      <td>['Humans', 'Female', 'Male', 'Middle Aged', 'A...</td>\n      <td>['rs3731249', 'rs3088440', 'rs104894094', 'rs1...</td>\n      <td>0:00:27</td>\n      <td>0:00:40</td>\n      <td>2023-03-20 17:30:12.950705</td>\n    </tr>\n    <tr>\n      <th>99</th>\n      <td>SOD2</td>\n      <td>40701</td>\n      <td>1081</td>\n      <td>181</td>\n      <td>856</td>\n      <td>336</td>\n      <td>145</td>\n      <td>66</td>\n      <td>894</td>\n      <td>862</td>\n      <td>...</td>\n      <td>3733</td>\n      <td>1673</td>\n      <td>7</td>\n      <td>1</td>\n      <td>1</td>\n      <td>['Humans', 'Female', 'Male', 'Polymorphism, Si...</td>\n      <td>['rs4880', 'rs5746136', 'rs1261281771', 'rs275...</td>\n      <td>0:00:27</td>\n      <td>0:00:38</td>\n      <td>2023-03-21 13:18:25.241920</td>\n    </tr>\n  </tbody>\n</table>\n<p>100 rows × 26 columns</p>\n</div>"
     },
     "execution_count": 6,
     "metadata": {},
     "output_type": "execute_result"
    }
   ],
   "source": [
    "#set source dataset:-----------------------\n",
    "\n",
    "# pcg    = protein coding genes = grpm_db\n",
    "# rna    = rna genes            = grpm_db_rna\n",
    "# pseudo = pseudogenes          = grpm_db_pseudo\n",
    "#------------------------------------------\n",
    "\n",
    "def read_grpm_report(db_tag):\n",
    "    db_name = 'grpm_db_' + db_tag\n",
    "    db_path = 'grpm_dataset/' + db_name\n",
    "    \n",
    "    GRPM_report = pd.read_csv(db_path + '/GRPM_report.csv', index_col=0).transpose().reset_index().rename(columns={'index':'gene'})\n",
    "    return GRPM_report\n",
    "\n",
    "# Read GRPM_report for pcg\n",
    "GRPM_report = read_grpm_report('pcg')\n",
    "\n",
    "# Read GRPM_report for rna\n",
    "GRPM_report_rna = read_grpm_report('rna')\n",
    "\n",
    "# Read GRPM_report for pseudo\n",
    "GRPM_report_pseudo = read_grpm_report('pseudo')\n",
    "\n",
    "\n",
    "data_types = {\n",
    "    'gene': str,\n",
    "    'ncbi_dbsnp': int,\n",
    "    'lit2_variant': int,\n",
    "    'lit2_variant_norsid': int,\n",
    "    'lit2_rsid': int,\n",
    "    'lit2_rsid_plus1': int,\n",
    "    'lit1_rsid': int,\n",
    "    'lit1_rsid_pmid_plus1': int,\n",
    "    'lit1_pmid': int,\n",
    "    'lit1_pmid_pmid_plus1': int,\n",
    "    'pubmed_pmid_query': int,\n",
    "    'nbib_objects': int,\n",
    "    'nbib_objects_withdescriptors': int,\n",
    "    'pubmed_pmid': int,\n",
    "    'pubmed_pmid_withmesh': int,\n",
    "    'pubmed_pmidmesh': int,\n",
    "    'pubmed_mesh_qualifier_major': int,\n",
    "    'pubmed_mesh': int,\n",
    "    'rsid_pmid10': int,\n",
    "    'rsid_pmid50': int,\n",
    "    'rsid_pmid100': str,\n",
    "    'top10mesh_all': str,\n",
    "    'top10rsid_all': str,\n",
    "    'pubmed_runtime': str,\n",
    "    'total_runtime': str,\n",
    "    'time_stamp': str\n",
    "    }\n",
    "GRPM_report = GRPM_report.astype(data_types)\n",
    "GRPM_report_rna = GRPM_report_rna.astype(data_types)\n",
    "GRPM_report_pseudo = GRPM_report_pseudo.astype(data_types)\n",
    "\n",
    "# Sort Values\n",
    "sort_by_list = ['lit2_variant','lit1_pmid']\n",
    "sort_by = sort_by_list[1]\n",
    "GRPM_report_sort = GRPM_report.sort_values(by= sort_by,ascending = False).reset_index(drop=True)\n",
    "GRPM_report_s_lit1pmid= GRPM_report.sort_values(by= 'lit1_pmid',ascending = False).reset_index(drop=True)\n",
    "print('The GRPM Report harvest the numerical data through the data-mining process')\n",
    "print('Report sorted by', sort_by)\n",
    "GRPM_report_s_lit1pmid.head(100)"
   ]
  },
  {
   "cell_type": "code",
   "execution_count": 10,
   "outputs": [
    {
     "name": "stdout",
     "output_type": "stream",
     "text": [
      "Ensembl genes:\n",
      "protein_coding_genes_list = 19318\n",
      "RNA_genes_list = 11452\n",
      "pseudo_genes_list = 9866\n",
      "\n",
      "Genes in GRPM dataset % over total:\n",
      "pc: 0.8033440314732374\n",
      "rna: 0.22135871463499826\n",
      "ps: 0.021285221974457733\n"
     ]
    }
   ],
   "source": [
    "# Function to print gene information\n",
    "def print_gene_info(title, gene_type, gene_list):\n",
    "    print(f'{title} = {len(gene_list)}')\n",
    "\n",
    "# Ensembl genes\n",
    "print('Ensembl genes:')\n",
    "print_gene_info('protein_coding_genes_list', 'pc', protein_coding_genes_list)\n",
    "print_gene_info('RNA_genes_list', 'rna', RNA_genes_list)\n",
    "print_gene_info('pseudo_genes_list', 'ps', pseudo_genes_list)\n",
    "\n",
    "# Genes in GRPM dataset % over total\n",
    "print('\\nGenes in GRPM dataset % over total:')\n",
    "print('pc:', GRPM_report.gene.nunique() / len(protein_coding_genes_list))\n",
    "print('rna:', GRPM_report_rna.gene.nunique() / len(RNA_genes_list))\n",
    "print('ps:', GRPM_report_pseudo.gene.nunique() / len(pseudo_genes_list))"
   ],
   "metadata": {
    "collapsed": false,
    "ExecuteTime": {
     "end_time": "2024-06-06T13:01:24.024683900Z",
     "start_time": "2024-06-06T13:01:23.752917900Z"
    }
   }
  },
  {
   "cell_type": "markdown",
   "metadata": {},
   "source": [
    "## Data visualization"
   ]
  },
  {
   "cell_type": "markdown",
   "metadata": {},
   "source": [
    "### 1. pie graphs-treemaps"
   ]
  },
  {
   "cell_type": "code",
   "execution_count": 12,
   "outputs": [
    {
     "data": {
      "text/plain": "<Figure size 800x500 with 5 Axes>",
      "image/png": "[encoded data removed]"
     },
     "metadata": {},
     "output_type": "display_data"
    }
   ],
   "source": [
    "import os\n",
    "import pandas as pd\n",
    "import matplotlib.pyplot as plt\n",
    "import squarify\n",
    "\n",
    "# Check if the dataset exists, if not, download it\n",
    "if not os.path.exists('misc_data/db_stats.csv'):\n",
    "    os.mkdir('misc_data')\n",
    "    get_gitfile(url=\"https://raw.githubusercontent.com/johndef64/GRPM_system/main/misc_data/db_stats.csv\", dir='misc_data')\n",
    "\n",
    "# Read the dataset into a pandas DataFrame\n",
    "if os.path.exists('misc_data/db_stats.csv'):\n",
    "    df = pd.read_csv('misc_data/db_stats.csv', sep=',')\n",
    "\n",
    "    # Extract the required columns\n",
    "    ensembl_genes = df[\"Ensembl Genes\"]\n",
    "    genes_entries = df[\"Genes Entries\"]\n",
    "    rsid_entries = df[\"rsID Entries\"]\n",
    "    pmid_entries = df[\"PMID Entries\"]\n",
    "    mesh_terms = df[\"MeSH Terms\"]\n",
    "\n",
    "    # Set random colors for the treemaps\n",
    "    colors = [\"#1f77b4\", \"#ff7f0e\", \"#2ca02c\", \"#d62728\", \"#9467bd\"]\n",
    "\n",
    "    # Create a figure and axes for the treemaps\n",
    "    fig, axes = plt.subplots(nrows=2, ncols=3, figsize=(8, 5))\n",
    "\n",
    "    # Create treemaps for each category\n",
    "    squarify.plot(sizes=ensembl_genes, label=df[\"Ensembl Genes\"], color=colors, ax=axes[0, 0], text_kwargs={'fontsize': 14}),\n",
    "    squarify.plot(sizes=genes_entries, label=df[\"Genes Entries\"], color=colors, ax=axes[0, 1], text_kwargs={'fontsize': 14}),\n",
    "    squarify.plot(sizes=rsid_entries, label=df[\"rsID Entries\"], color=colors, ax=axes[0, 2], text_kwargs={'fontsize': 14}),\n",
    "    squarify.plot(sizes=pmid_entries, label=df[\"PMID Entries\"], color=colors, ax=axes[1, 0], text_kwargs={'fontsize': 14}),\n",
    "    squarify.plot(sizes=mesh_terms, label=df[\"MeSH Terms\"], color=colors, ax=axes[1, 1], text_kwargs={'fontsize': 14}),\n",
    "\n",
    "    # Set titles for each treemap\n",
    "    axes[0, 0].set_title(\"Ensembl Genes\",fontsize=13)\n",
    "    axes[0, 1].set_title(\"Genes Entries\",fontsize=13)\n",
    "    axes[0, 2].set_title(\"rsID Entries\", fontsize=13)\n",
    "    axes[1, 0].set_title(\"PMID Entries\", fontsize=13)\n",
    "    axes[1, 1].set_title(\"MeSH Terms\",   fontsize=13)\n",
    "\n",
    "    # Remove unused plot axes\n",
    "    axes[1, 2].remove()\n",
    "\n",
    "    # Set the layout and display the graphs\n",
    "    plt.tight_layout()\n",
    "    plt.legend(df[\"Database Partition\"],prop={'size': 14}, bbox_to_anchor=(1.2, 1))\n",
    "\n",
    "    plt.savefig('misc_data/treemaps.png', dpi=300)\n",
    "    plt.show()"
   ],
   "metadata": {
    "collapsed": false,
    "ExecuteTime": {
     "end_time": "2024-06-06T13:02:37.177751700Z",
     "start_time": "2024-06-06T13:02:32.201758Z"
    }
   }
  },
  {
   "cell_type": "markdown",
   "metadata": {},
   "source": [
    "### 2. bars graphs"
   ]
  },
  {
   "cell_type": "code",
   "execution_count": null,
   "metadata": {
    "collapsed": false
   },
   "outputs": [],
   "source": [
    "#stats\n",
    "GRPM_report_s_lit1pmid.columns\n",
    "GRPM_report_s_lit1pmid.T"
   ]
  },
  {
   "cell_type": "code",
   "execution_count": null,
   "metadata": {
    "collapsed": false
   },
   "outputs": [],
   "source": [
    "# stats\n",
    "percentage = (GRPM_report.pubmed_pmid_withmesh.mean() / GRPM_report.lit1_pmid.mean()) * 100\n",
    "\n",
    "def generate_bars(data= GRPM_report,\n",
    "                  gene_f=0,\n",
    "                  gene_l=50,\n",
    "                  sort_by='lit1_pmid',\n",
    "                  value1 = 'lit1_pmid',\n",
    "                  value2 = 'pubmed_pmid_withmesh'):\n",
    "    GRPM_report_s  = data.sort_values(by=sort_by, ascending=False).reset_index(drop=True)\n",
    "    genes          = GRPM_report_s[gene_f:gene_l]['gene']\n",
    "    grpm_data      = {\n",
    "        'LitVar1 PMIDs': GRPM_report_s[gene_f:gene_l][value1],\n",
    "        'PubMed PMIDs with MeSH': GRPM_report_s[gene_f:gene_l][value2],\n",
    "    }\n",
    "\n",
    "    x = np.arange(len(genes))  # the label locations\n",
    "    width = 0.35  # the width of the bars\n",
    "    multiplier = 0\n",
    "\n",
    "    fig, ax = plt.subplots(layout='constrained', figsize=((gene_l-gene_f) * 0.2, (gene_l-gene_f) * 0.1))\n",
    "\n",
    "\n",
    "    for attribute, measurement in grpm_data.items():\n",
    "        offset = width * multiplier\n",
    "        rects = ax.bar(x + offset, measurement, width, label=attribute)\n",
    "        #ax.bar_label(rects, padding=3)\n",
    "        multiplier += 1\n",
    "\n",
    "    #plt.title('Top ' + str(gene_f) + ':' + str(gene_l) + ' genes in db: ' + value1 + ', ' + value2)\n",
    "    plt.ylabel('PMID count')\n",
    "    plt.xticks(rotation=90)\n",
    "    ax.set_xticks(x + width, genes)\n",
    "    ax.legend(loc='upper right', ncols=3)\n",
    "    print('Top',gene_f,':',gene_l,'studied genes in the GRPM database')\n",
    "    print('     in evidence: data loss during the db building process, the majority of LitVar PMIDs has MeSH terms related in PubMed','('+str(round(percentage,1))+'%)')\n",
    "\n",
    "generate_bars()\n",
    "plt.savefig('misc_data/figbar_11.png', dpi=300)\n",
    "plt.show()"
   ]
  },
  {
   "cell_type": "code",
   "execution_count": null,
   "metadata": {
    "collapsed": false
   },
   "outputs": [],
   "source": [
    "import matplotlib.pyplot as plt\n",
    "\n",
    "def generate_nested(data, gene_f, gene_l, sort_by, value1, value2, label1, label2):\n",
    "    GRPM_report_s = data.sort_values(by=sort_by, ascending=False).reset_index(drop=True)\n",
    "\n",
    "    x  = GRPM_report_s[gene_f:gene_l]['gene']\n",
    "    y1 = GRPM_report_s[gene_f:gene_l][value1]\n",
    "    y2 = GRPM_report_s[gene_f:gene_l][value2]\n",
    "\n",
    "    plt.figure(figsize=((gene_l-gene_f) * 0.2, (gene_l-gene_f) * 0.1))\n",
    "    plt.bar(x, y1, width=1, label=label1, color='blue', alpha=0.7, edgecolor='black', linewidth=1)\n",
    "    plt.bar(x, y2, width=0.5, label=label2, color='orange', edgecolor='black', linewidth=1)\n",
    "    plt.xlabel('Gene')\n",
    "    plt.ylabel(value1 + '\\n' + value2)\n",
    "    plt.title('Top ' + str(gene_f) + ':' + str(gene_l) + ' genes in db: ' + value1 + ', ' + value2)\n",
    "    plt.xticks(rotation=90)\n",
    "    plt.legend()\n",
    "    plt.tight_layout()  # Ensures all labels and ticks are visible\n",
    "    print('Top',gene_f,':',gene_l,'studied genes in the GRPM database')\n",
    "    print('     in evidence: data loss during the db building process, the majority of LitVar PMIDs has MeSH terms related in PubMed','('+str(round(percentage,1))+'%)')\n",
    "    plt.show()\n",
    "\n",
    "parameters =     {\n",
    "        'sort_by': 'lit1_pmid',\n",
    "        'value1': 'lit1_pmid',\n",
    "        'value2': 'pubmed_pmid_withmesh',#'pubmed_pmid',\n",
    "        'label1': 'LitVar1 PMIDs',\n",
    "        'label2': 'PubMed PMIDs with MeSH'\n",
    "}\n",
    "\n",
    "# Call the function with your data and parameters\n",
    "generate_nested(GRPM_report, \n",
    "                gene_f =0, \n",
    "                gene_l =50, \n",
    "                **parameters)"
   ]
  },
  {
   "cell_type": "code",
   "execution_count": null,
   "metadata": {
    "collapsed": false
   },
   "outputs": [],
   "source": [
    "pd.DataFrame(GRPM_report.columns)"
   ]
  },
  {
   "cell_type": "code",
   "execution_count": null,
   "metadata": {
    "collapsed": false
   },
   "outputs": [],
   "source": [
    "gene_f = 50\n",
    "sort_by = 'lit1_pmid'\n",
    "value1  = 'lit1_pmid'\n",
    "value2  = 'pubmed_mesh'\n",
    "#-----------------------------\n",
    "\n",
    "GRPM_report_s = GRPM_report.sort_values(by= sort_by,ascending = False).reset_index(drop=True)\n",
    "x =  GRPM_report_s[:gene_f]['gene']\n",
    "y1 = GRPM_report_s[:gene_f][value1]/GRPM_report_s[:gene_f][value1].max()\n",
    "y2 = GRPM_report_s[:gene_f][value2]/GRPM_report_s[:gene_f][value2].max()\n",
    "\n",
    "plt.figure(figsize=( gene_f*0.2, gene_f*0.1))\n",
    "plt.bar(x, y1, width=1, label=value1, color='blue', alpha=0.7, edgecolor='black', linewidth=1)\n",
    "plt.bar(x, y2, width=0.5, label=value2, color='yellow', edgecolor='black', linewidth=1)\n",
    "plt.xlabel('Gene')\n",
    "plt.ylabel(value1+'\\n'+value2)\n",
    "plt.title('Top '+str(gene_f)+' genes in db: '+value1+' , '+value2)\n",
    "plt.xticks(rotation=90)\n",
    "plt.legend()\n",
    "plt.tight_layout()  # Ensures all labels and ticks are visible\n",
    "\n",
    "print(r'Show gene relative enrichment for \"'+value1+'\" and \"'+value2+'\" for ',gene_f,' genes in db.')\n",
    "plt.show()"
   ]
  },
  {
   "cell_type": "markdown",
   "metadata": {},
   "source": [
    "# Import GRPM-survey Reports"
   ]
  },
  {
   "cell_type": "markdown",
   "metadata": {},
   "source": [
    "## check available surveys"
   ]
  },
  {
   "cell_type": "code",
   "execution_count": 13,
   "metadata": {
    "ExecuteTime": {
     "end_time": "2024-06-06T13:03:02.907808300Z",
     "start_time": "2024-06-06T13:03:02.701570400Z"
    }
   },
   "outputs": [
    {
     "name": "stdout",
     "output_type": "stream",
     "text": [
      "Available survey repositories:\n",
      "\n",
      "0             aller\n",
      "1               cvd\n",
      "2           dmt2_ms\n",
      "3         eat_taste\n",
      "4     heart_failure\n",
      "5             intol\n",
      "6          ng_intol\n",
      "7         ng_ob_bmi\n",
      "8             nutri\n",
      "9            ob_bmi\n",
      "10       oxi_stress\n",
      "11            vitam\n",
      "12             xeno\n",
      "dtype: object\n"
     ]
    }
   ],
   "source": [
    "# choose db\n",
    "db_tag = 'pcg'\n",
    "    # pcg    = protein coding genes = grpm_db_pcg\n",
    "    # rna    = rna genes            = grpm_db_rna\n",
    "    # pseudo = pseudogenes          = grpm_db_pseudo\n",
    "#-------------------------------------------------\n",
    "\n",
    "# Create an empty list to store folder names\n",
    "folder_names = []\n",
    "current_dir = os.getcwd()+'/grpm_surveys'\n",
    "# Iterate over the directories in the workspace\n",
    "for root, dirs, files in os.walk(current_dir):\n",
    "    for dir_name in dirs:\n",
    "        # Check if the folder name contains the string 'survey'\n",
    "        if 'survey' in dir_name:\n",
    "            folder_names.append(dir_name)\n",
    "\n",
    "# Create a pandas Series from the list of folder names\n",
    "folder_series = pd.Series(folder_names).sort_values(ascending=True).reset_index(drop=True)\n",
    "print('Available survey repositories:\\n')\n",
    "folder_series = folder_series.str.replace('grpm_survey_'+db_tag+'_','')\n",
    "# Print the resulting Series\n",
    "print(folder_series)"
   ]
  },
  {
   "cell_type": "markdown",
   "metadata": {},
   "source": [
    "## import surveys"
   ]
  },
  {
   "cell_type": "code",
   "execution_count": 14,
   "metadata": {
    "ExecuteTime": {
     "end_time": "2024-06-06T13:04:17.474813100Z",
     "start_time": "2024-06-06T13:03:22.299888700Z"
    }
   },
   "outputs": [
    {
     "name": "stdout",
     "output_type": "stream",
     "text": [
      "GRPMX_report_1 df loaded\n",
      "GRPMX_report_2 df loaded\n",
      "GRPMX_report_3 df loaded\n",
      "GRPMX_report_4 df loaded\n",
      "GRPMX_report_5 df loaded\n",
      "GRPMX_report_6 df loaded\n",
      "GRPMX_report_7 df loaded\n",
      "GRPMX_report_8 df loaded\n",
      "GRPMX_report_9 df loaded\n",
      "GRPMX_report_10 df loaded\n",
      "GRPMX_report_11 df loaded\n",
      "GRPMX_report_12 df loaded\n",
      "GRPMX_report_13 df loaded\n",
      "GRPMX_report_14 df loaded\n",
      "GRPMX_report_15 df loaded\n",
      "GRPMX_report_16 df loaded\n",
      "GRPMX_report_17 df loaded\n",
      "GRPMX_report_18 df loaded\n",
      "GRPMX_report_19 df loaded\n",
      "GRPMX_report_20 df loaded\n",
      "GRPMX_report_21 df loaded\n",
      "GRPMX_report_22 df loaded\n",
      "GRPMX_report_23 df loaded\n",
      "GRPMX_report_24 df loaded\n",
      "GRPMX_report_25 df loaded\n",
      "GRPMX_report_26 df loaded\n",
      "GRPMX_report_27 df loaded\n",
      "GRPMX_report_28 df loaded\n",
      "GRPMX_report_29 df loaded\n",
      "GRPMX_report_30 df loaded\n",
      "GRPMX_report_31 df loaded\n",
      "import time: 0:00:39.536029\n"
     ]
    }
   ],
   "source": [
    "# Select surveys directories from Available survey repositories:\n",
    "\n",
    "# 1. select manually to get a specific order\n",
    "nutri_g_surveys = ['nutri',\n",
    "                   'ob_bmi',\n",
    "                   'dmt2_ms',\n",
    "                   'cvd',\n",
    "                   'vitam',\n",
    "                   'eat_taste',\n",
    "                   'intol',\n",
    "                   'aller',\n",
    "                   'oxi_stress',\n",
    "                   'xeno']\n",
    "selected_surveys = pd.Series(nutri_g_surveys) \n",
    "\n",
    "# 2. select by indexes\n",
    "if simple_bool('select by index?'):\n",
    "    selected_surveys = folder_series.iloc[[int(x) for x in input('select index list (0,1,2 etc):\\n'+str(folder_series)).split(',')]]\n",
    "\n",
    "# do you want to import randoms?\n",
    "import_random = simple_bool('Import random surveys?')\n",
    "# select your randoms from 'grpm_random/' folder\n",
    "random_num = ['01','02','03','04','05','06','07','08','09','00','norep1','norep2','norep3','norep4','norep5','norep6','norep7','norep8','norep9','norep10','norep11']\n",
    "\n",
    "#-------------------------------------------\n",
    "# Batch directories importer:\n",
    "timea = datetime.now()\n",
    "survey_path = 'grpm_surveys/'\n",
    "\n",
    "first, last = 0, len(selected_surveys)\n",
    "directories = []\n",
    "dir_names = ['directory_'] * last\n",
    "dir_names = [string + str(i+1) for i, string in enumerate(dir_names)]\n",
    "for folder, name in zip(selected_surveys,\n",
    "                        dir_names):#[:len(selected_surveys)]):\n",
    "    director =  survey_path+'grpm_survey_'+ db_tag + '_'+ folder\n",
    "    globals()[name] = director\n",
    "    directories.append(globals()[name])\n",
    "\n",
    "#define random directories\n",
    "if import_random == True:\n",
    "    dir_names = ['directory_'] * len(random_num)\n",
    "    dir_names = [string + str(i+len(selected_surveys)) for i, string in enumerate(dir_names)]\n",
    "    for folder, name in zip(random_num,\n",
    "                            dir_names):\n",
    "        director =  survey_path+'grpm_random/grpm_random_'+ db_tag + '_'+ folder\n",
    "        globals()[name] = director\n",
    "        directories.append(globals()[name])\n",
    "\n",
    "    last = len(directories)\n",
    "\n",
    "# key parameters\n",
    "survey_ser = pd.Series(directories)[pd.Series(directories).str.contains('survey')]\n",
    "survey_l = len(survey_ser)\n",
    "random_l = len(directories) - survey_l\n",
    "\n",
    "#----------------------------------\n",
    "# import GRPMX reports\n",
    "repo_list_names = ['GRPMX_report_'] * last\n",
    "repo_list_names = [string + str(i+1) for i, string in enumerate(repo_list_names)]\n",
    "repo_list_names = repo_list_names[first:last]\n",
    "\n",
    "repo_list = []\n",
    "for directory, name in zip(directories, repo_list_names):\n",
    "    dataframe = pd.read_csv(directory +'/GRPMX_report.csv', index_col=0).transpose().reset_index().rename(columns={'index':'gene'})\n",
    "    globals()[name] = dataframe\n",
    "    repo_list.append(dataframe)\n",
    "\n",
    "    print(name,'df loaded')\n",
    "\n",
    "# set datatype:\n",
    "for i, repo in enumerate(repo_list):\n",
    "  data_types = {\n",
    "      'gene': str,\n",
    "      'reference_mesh': int,\n",
    "      'starting_pmidmesh': int,\n",
    "      'starting_pmid': int,\n",
    "      'starting_mesh': int,\n",
    "      'starting_rsid': int,\n",
    "      'matching_pmidmesh': int,\n",
    "      'matching_pmids': int,\n",
    "      'matching_mesh': int,\n",
    "      'matching_rsid': int,\n",
    "      'dropped_rsid': int,\n",
    "      'matching_mesh_ratio': float,\n",
    "      'matching_pmids_ratio': float,\n",
    "      'matching_pmidmesh_ratio': float,\n",
    "      'matching_rsid_ratio': float,\n",
    "      'matching_rsid_pmid10': str,\n",
    "      'matching_rsid_pmid100': str,\n",
    "      'matching_top10mesh': str,\n",
    "      'matching_top10rsid': str\n",
    "  }\n",
    "  repo_list[i] = repo.astype(data_types)\n",
    "\n",
    "print('import time:',datetime.now()-timea)"
   ]
  },
  {
   "cell_type": "code",
   "outputs": [],
   "source": [
    "repo_list[0].head()"
   ],
   "metadata": {
    "collapsed": false
   },
   "execution_count": null
  },
  {
   "cell_type": "markdown",
   "metadata": {},
   "source": [
    "## generate master_df"
   ]
  },
  {
   "cell_type": "code",
   "execution_count": 15,
   "metadata": {
    "ExecuteTime": {
     "end_time": "2024-06-06T13:04:23.031174Z",
     "start_time": "2024-06-06T13:04:22.830144400Z"
    }
   },
   "outputs": [
    {
     "data": {
      "text/plain": "           tag                                              label  \\\n0        nutri                                  General Nutrition   \n1       ob_bmi      Obesity, Weight Control and Compulsive Eating   \n2      dmt2_ms   Diabetes Mellitus Type II and Metabolic Syndrome   \n3          cvd         Cardiovascular Health and Lipid Metabolism   \n4        vitam  Vitamin and Micronutrients Metabolism and Defi...   \n5    eat_taste                Eating Behavior and Taste Sensation   \n6        intol                                  Food Intolerances   \n7        aller                                     Food Allergies   \n8   oxi_stress                      Diet-induced Oxidative Stress   \n9         xeno                             Xenobiotics Metabolism   \n10          01                                             random   \n11          02                                             random   \n12          03                                             random   \n13          04                                             random   \n14          05                                             random   \n15          06                                             random   \n16          07                                             random   \n17          08                                             random   \n18          09                                             random   \n19          00                                             random   \n20      norep1                                             random   \n21      norep2                                             random   \n22      norep3                                             random   \n23      norep4                                             random   \n24      norep5                                             random   \n25      norep6                                             random   \n26      norep7                                             random   \n27      norep8                                             random   \n28      norep9                                             random   \n29     norep10                                             random   \n30     norep11                                             random   \n\n           short_labels                                       directories  \\\n0         Gen Nutrition                grpm_surveys/grpm_survey_pcg_nutri   \n1      Obesity & Weight               grpm_surveys/grpm_survey_pcg_ob_bmi   \n2      Diabetes Type II              grpm_surveys/grpm_survey_pcg_dmt2_ms   \n3   Cardiovascular Hlth                  grpm_surveys/grpm_survey_pcg_cvd   \n4   Vitamins & Minerals                grpm_surveys/grpm_survey_pcg_vitam   \n5       Eating Behavior            grpm_surveys/grpm_survey_pcg_eat_taste   \n6     Food Intolerances                grpm_surveys/grpm_survey_pcg_intol   \n7        Food Allergies                grpm_surveys/grpm_survey_pcg_aller   \n8      Oxidative Stress           grpm_surveys/grpm_survey_pcg_oxi_stress   \n9     Xenobiotics Metab                 grpm_surveys/grpm_survey_pcg_xeno   \n10               random       grpm_surveys/grpm_random/grpm_random_pcg_01   \n11               random       grpm_surveys/grpm_random/grpm_random_pcg_02   \n12               random       grpm_surveys/grpm_random/grpm_random_pcg_03   \n13               random       grpm_surveys/grpm_random/grpm_random_pcg_04   \n14               random       grpm_surveys/grpm_random/grpm_random_pcg_05   \n15               random       grpm_surveys/grpm_random/grpm_random_pcg_06   \n16               random       grpm_surveys/grpm_random/grpm_random_pcg_07   \n17               random       grpm_surveys/grpm_random/grpm_random_pcg_08   \n18               random       grpm_surveys/grpm_random/grpm_random_pcg_09   \n19               random       grpm_surveys/grpm_random/grpm_random_pcg_00   \n20               random   grpm_surveys/grpm_random/grpm_random_pcg_norep1   \n21               random   grpm_surveys/grpm_random/grpm_random_pcg_norep2   \n22               random   grpm_surveys/grpm_random/grpm_random_pcg_norep3   \n23               random   grpm_surveys/grpm_random/grpm_random_pcg_norep4   \n24               random   grpm_surveys/grpm_random/grpm_random_pcg_norep5   \n25               random   grpm_surveys/grpm_random/grpm_random_pcg_norep6   \n26               random   grpm_surveys/grpm_random/grpm_random_pcg_norep7   \n27               random   grpm_surveys/grpm_random/grpm_random_pcg_norep8   \n28               random   grpm_surveys/grpm_random/grpm_random_pcg_norep9   \n29               random  grpm_surveys/grpm_random/grpm_random_pcg_norep10   \n30               random  grpm_surveys/grpm_random/grpm_random_pcg_norep11   \n\n          repo_list  \n0    GRPMX_report_1  \n1    GRPMX_report_2  \n2    GRPMX_report_3  \n3    GRPMX_report_4  \n4    GRPMX_report_5  \n5    GRPMX_report_6  \n6    GRPMX_report_7  \n7    GRPMX_report_8  \n8    GRPMX_report_9  \n9   GRPMX_report_10  \n10  GRPMX_report_11  \n11  GRPMX_report_12  \n12  GRPMX_report_13  \n13  GRPMX_report_14  \n14  GRPMX_report_15  \n15  GRPMX_report_16  \n16  GRPMX_report_17  \n17  GRPMX_report_18  \n18  GRPMX_report_19  \n19  GRPMX_report_20  \n20  GRPMX_report_21  \n21  GRPMX_report_22  \n22  GRPMX_report_23  \n23  GRPMX_report_24  \n24  GRPMX_report_25  \n25  GRPMX_report_26  \n26  GRPMX_report_27  \n27  GRPMX_report_28  \n28  GRPMX_report_29  \n29  GRPMX_report_30  \n30  GRPMX_report_31  ",
      "text/html": "<div>\n<style scoped>\n    .dataframe tbody tr th:only-of-type {\n        vertical-align: middle;\n    }\n\n    .dataframe tbody tr th {\n        vertical-align: top;\n    }\n\n    .dataframe thead th {\n        text-align: right;\n    }\n</style>\n<table border=\"1\" class=\"dataframe\">\n  <thead>\n    <tr style=\"text-align: right;\">\n      <th></th>\n      <th>tag</th>\n      <th>label</th>\n      <th>short_labels</th>\n      <th>directories</th>\n      <th>repo_list</th>\n    </tr>\n  </thead>\n  <tbody>\n    <tr>\n      <th>0</th>\n      <td>nutri</td>\n      <td>General Nutrition</td>\n      <td>Gen Nutrition</td>\n      <td>grpm_surveys/grpm_survey_pcg_nutri</td>\n      <td>GRPMX_report_1</td>\n    </tr>\n    <tr>\n      <th>1</th>\n      <td>ob_bmi</td>\n      <td>Obesity, Weight Control and Compulsive Eating</td>\n      <td>Obesity &amp; Weight</td>\n      <td>grpm_surveys/grpm_survey_pcg_ob_bmi</td>\n      <td>GRPMX_report_2</td>\n    </tr>\n    <tr>\n      <th>2</th>\n      <td>dmt2_ms</td>\n      <td>Diabetes Mellitus Type II and Metabolic Syndrome</td>\n      <td>Diabetes Type II</td>\n      <td>grpm_surveys/grpm_survey_pcg_dmt2_ms</td>\n      <td>GRPMX_report_3</td>\n    </tr>\n    <tr>\n      <th>3</th>\n      <td>cvd</td>\n      <td>Cardiovascular Health and Lipid Metabolism</td>\n      <td>Cardiovascular Hlth</td>\n      <td>grpm_surveys/grpm_survey_pcg_cvd</td>\n      <td>GRPMX_report_4</td>\n    </tr>\n    <tr>\n      <th>4</th>\n      <td>vitam</td>\n      <td>Vitamin and Micronutrients Metabolism and Defi...</td>\n      <td>Vitamins &amp; Minerals</td>\n      <td>grpm_surveys/grpm_survey_pcg_vitam</td>\n      <td>GRPMX_report_5</td>\n    </tr>\n    <tr>\n      <th>5</th>\n      <td>eat_taste</td>\n      <td>Eating Behavior and Taste Sensation</td>\n      <td>Eating Behavior</td>\n      <td>grpm_surveys/grpm_survey_pcg_eat_taste</td>\n      <td>GRPMX_report_6</td>\n    </tr>\n    <tr>\n      <th>6</th>\n      <td>intol</td>\n      <td>Food Intolerances</td>\n      <td>Food Intolerances</td>\n      <td>grpm_surveys/grpm_survey_pcg_intol</td>\n      <td>GRPMX_report_7</td>\n    </tr>\n    <tr>\n      <th>7</th>\n      <td>aller</td>\n      <td>Food Allergies</td>\n      <td>Food Allergies</td>\n      <td>grpm_surveys/grpm_survey_pcg_aller</td>\n      <td>GRPMX_report_8</td>\n    </tr>\n    <tr>\n      <th>8</th>\n      <td>oxi_stress</td>\n      <td>Diet-induced Oxidative Stress</td>\n      <td>Oxidative Stress</td>\n      <td>grpm_surveys/grpm_survey_pcg_oxi_stress</td>\n      <td>GRPMX_report_9</td>\n    </tr>\n    <tr>\n      <th>9</th>\n      <td>xeno</td>\n      <td>Xenobiotics Metabolism</td>\n      <td>Xenobiotics Metab</td>\n      <td>grpm_surveys/grpm_survey_pcg_xeno</td>\n      <td>GRPMX_report_10</td>\n    </tr>\n    <tr>\n      <th>10</th>\n      <td>01</td>\n      <td>random</td>\n      <td>random</td>\n      <td>grpm_surveys/grpm_random/grpm_random_pcg_01</td>\n      <td>GRPMX_report_11</td>\n    </tr>\n    <tr>\n      <th>11</th>\n      <td>02</td>\n      <td>random</td>\n      <td>random</td>\n      <td>grpm_surveys/grpm_random/grpm_random_pcg_02</td>\n      <td>GRPMX_report_12</td>\n    </tr>\n    <tr>\n      <th>12</th>\n      <td>03</td>\n      <td>random</td>\n      <td>random</td>\n      <td>grpm_surveys/grpm_random/grpm_random_pcg_03</td>\n      <td>GRPMX_report_13</td>\n    </tr>\n    <tr>\n      <th>13</th>\n      <td>04</td>\n      <td>random</td>\n      <td>random</td>\n      <td>grpm_surveys/grpm_random/grpm_random_pcg_04</td>\n      <td>GRPMX_report_14</td>\n    </tr>\n    <tr>\n      <th>14</th>\n      <td>05</td>\n      <td>random</td>\n      <td>random</td>\n      <td>grpm_surveys/grpm_random/grpm_random_pcg_05</td>\n      <td>GRPMX_report_15</td>\n    </tr>\n    <tr>\n      <th>15</th>\n      <td>06</td>\n      <td>random</td>\n      <td>random</td>\n      <td>grpm_surveys/grpm_random/grpm_random_pcg_06</td>\n      <td>GRPMX_report_16</td>\n    </tr>\n    <tr>\n      <th>16</th>\n      <td>07</td>\n      <td>random</td>\n      <td>random</td>\n      <td>grpm_surveys/grpm_random/grpm_random_pcg_07</td>\n      <td>GRPMX_report_17</td>\n    </tr>\n    <tr>\n      <th>17</th>\n      <td>08</td>\n      <td>random</td>\n      <td>random</td>\n      <td>grpm_surveys/grpm_random/grpm_random_pcg_08</td>\n      <td>GRPMX_report_18</td>\n    </tr>\n    <tr>\n      <th>18</th>\n      <td>09</td>\n      <td>random</td>\n      <td>random</td>\n      <td>grpm_surveys/grpm_random/grpm_random_pcg_09</td>\n      <td>GRPMX_report_19</td>\n    </tr>\n    <tr>\n      <th>19</th>\n      <td>00</td>\n      <td>random</td>\n      <td>random</td>\n      <td>grpm_surveys/grpm_random/grpm_random_pcg_00</td>\n      <td>GRPMX_report_20</td>\n    </tr>\n    <tr>\n      <th>20</th>\n      <td>norep1</td>\n      <td>random</td>\n      <td>random</td>\n      <td>grpm_surveys/grpm_random/grpm_random_pcg_norep1</td>\n      <td>GRPMX_report_21</td>\n    </tr>\n    <tr>\n      <th>21</th>\n      <td>norep2</td>\n      <td>random</td>\n      <td>random</td>\n      <td>grpm_surveys/grpm_random/grpm_random_pcg_norep2</td>\n      <td>GRPMX_report_22</td>\n    </tr>\n    <tr>\n      <th>22</th>\n      <td>norep3</td>\n      <td>random</td>\n      <td>random</td>\n      <td>grpm_surveys/grpm_random/grpm_random_pcg_norep3</td>\n      <td>GRPMX_report_23</td>\n    </tr>\n    <tr>\n      <th>23</th>\n      <td>norep4</td>\n      <td>random</td>\n      <td>random</td>\n      <td>grpm_surveys/grpm_random/grpm_random_pcg_norep4</td>\n      <td>GRPMX_report_24</td>\n    </tr>\n    <tr>\n      <th>24</th>\n      <td>norep5</td>\n      <td>random</td>\n      <td>random</td>\n      <td>grpm_surveys/grpm_random/grpm_random_pcg_norep5</td>\n      <td>GRPMX_report_25</td>\n    </tr>\n    <tr>\n      <th>25</th>\n      <td>norep6</td>\n      <td>random</td>\n      <td>random</td>\n      <td>grpm_surveys/grpm_random/grpm_random_pcg_norep6</td>\n      <td>GRPMX_report_26</td>\n    </tr>\n    <tr>\n      <th>26</th>\n      <td>norep7</td>\n      <td>random</td>\n      <td>random</td>\n      <td>grpm_surveys/grpm_random/grpm_random_pcg_norep7</td>\n      <td>GRPMX_report_27</td>\n    </tr>\n    <tr>\n      <th>27</th>\n      <td>norep8</td>\n      <td>random</td>\n      <td>random</td>\n      <td>grpm_surveys/grpm_random/grpm_random_pcg_norep8</td>\n      <td>GRPMX_report_28</td>\n    </tr>\n    <tr>\n      <th>28</th>\n      <td>norep9</td>\n      <td>random</td>\n      <td>random</td>\n      <td>grpm_surveys/grpm_random/grpm_random_pcg_norep9</td>\n      <td>GRPMX_report_29</td>\n    </tr>\n    <tr>\n      <th>29</th>\n      <td>norep10</td>\n      <td>random</td>\n      <td>random</td>\n      <td>grpm_surveys/grpm_random/grpm_random_pcg_norep10</td>\n      <td>GRPMX_report_30</td>\n    </tr>\n    <tr>\n      <th>30</th>\n      <td>norep11</td>\n      <td>random</td>\n      <td>random</td>\n      <td>grpm_surveys/grpm_random/grpm_random_pcg_norep11</td>\n      <td>GRPMX_report_31</td>\n    </tr>\n  </tbody>\n</table>\n</div>"
     },
     "execution_count": 15,
     "metadata": {},
     "output_type": "execute_result"
    }
   ],
   "source": [
    "#creare master_df:\n",
    "master_df = pd.DataFrame({'directories': directories, 'repo_list': repo_list_names})\n",
    "custom_labels = True\n",
    "\n",
    "# add tags to master df:\n",
    "if import_random:\n",
    "    tags = master_df.directories.str.replace(survey_path+'grpm_survey_pcg_','').str.replace(survey_path+'grpm_random/grpm_random_pcg_','').to_list()\n",
    "else:\n",
    "    tags = master_df.directories.str.replace(survey_path+'grpm_survey_pcg_','').to_list()\n",
    "master_df['tag'] = tags\n",
    "\n",
    "# add labels to master df:\n",
    "\n",
    "# define custom labels\n",
    "titles = [\n",
    "    \"General Nutrition\",\n",
    "    \"Obesity, Weight Control and Compulsive Eating\",\n",
    "    \"Diabetes Mellitus Type II and Metabolic Syndrome\",\n",
    "    \"Cardiovascular Health and Lipid Metabolism\",\n",
    "    \"Vitamin and Micronutrients Metabolism and Deficiency-Related Diseases\",\n",
    "    \"Eating Behavior and Taste Sensation\",\n",
    "    \"Food Intolerances\",\n",
    "    \"Food Allergies\",\n",
    "    \"Diet-induced Oxidative Stress\",\n",
    "    \"Xenobiotics Metabolism\" #or  bioactive compounds metabolism\n",
    "]\n",
    "\n",
    "short_labels = ['Gen Nutrition',\n",
    "                'Obesity & Weight',\n",
    "                'Diabetes Type II',\n",
    "                'Cardiovascular Hlth',\n",
    "                'Vitamins & Minerals',\n",
    "                'Eating Behavior',\n",
    "                'Food Intolerances',\n",
    "                'Food Allergies',\n",
    "                'Oxidative Stress',\n",
    "                'Xenobiotics Metab']\n",
    "\n",
    "add_rand = ['random'] * (len(master_df)- len(titles))\n",
    "titles.extend(add_rand)\n",
    "short_labels.extend(add_rand)\n",
    "\n",
    "# add labels:\n",
    "if custom_labels and len(master_df)>=10:\n",
    "    master_df['label'] = titles\n",
    "    master_df['short_labels'] = short_labels\n",
    "    for i in [0,1,2]:\n",
    "        last_column = master_df.columns[-1]\n",
    "        last_column_data = master_df.pop(last_column)\n",
    "        master_df.insert(0, last_column, last_column_data)\n",
    "else:\n",
    "    last_column = master_df.columns[-1]\n",
    "    last_column_data = master_df.pop(last_column)\n",
    "    master_df['label'] = tags\n",
    "    master_df['short_labels'] = tags\n",
    "    master_df.insert(0, last_column, last_column_data)\n",
    "\n",
    "taglabel = 'short_labels' if custom_labels else 'tag'\n",
    "master_df"
   ]
  },
  {
   "cell_type": "code",
   "execution_count": null,
   "metadata": {},
   "outputs": [],
   "source": [
    "#check\n",
    "n = 0\n",
    "if simple_bool('check?'):\n",
    "    print('check import process:')\n",
    "    print(repo_list[n].iloc[:,[1,7,8]].head())\n",
    "    GRPMX_check = pd.read_csv(directories[n]+'/GRPMX_report.csv', index_col=0).transpose().reset_index().rename(columns={'index':'gene'})\n",
    "    print('\\n',GRPMX_check.iloc[:, [1,7,8]].head())"
   ]
  },
  {
   "cell_type": "markdown",
   "metadata": {},
   "source": [
    "# [Section 2]"
   ]
  },
  {
   "cell_type": "markdown",
   "metadata": {},
   "source": [
    "# Import GRPM-survey Datasets"
   ]
  },
  {
   "cell_type": "code",
   "execution_count": 16,
   "metadata": {
    "ExecuteTime": {
     "end_time": "2024-06-06T13:05:11.236082800Z",
     "start_time": "2024-06-06T13:04:58.489011900Z"
    }
   },
   "outputs": [
    {
     "name": "stdout",
     "output_type": "stream",
     "text": [
      "Importing GRPMX csv, please wait...\n",
      "all GRPMX csv loaded\n",
      "\n",
      "grpm_out list len: 31\n"
     ]
    },
    {
     "data": {
      "text/plain": "           tag                                              label  \\\n0        nutri                                  General Nutrition   \n1       ob_bmi      Obesity, Weight Control and Compulsive Eating   \n2      dmt2_ms   Diabetes Mellitus Type II and Metabolic Syndrome   \n3          cvd         Cardiovascular Health and Lipid Metabolism   \n4        vitam  Vitamin and Micronutrients Metabolism and Defi...   \n5    eat_taste                Eating Behavior and Taste Sensation   \n6        intol                                  Food Intolerances   \n7        aller                                     Food Allergies   \n8   oxi_stress                      Diet-induced Oxidative Stress   \n9         xeno                             Xenobiotics Metabolism   \n10          01                                             random   \n11          02                                             random   \n12          03                                             random   \n13          04                                             random   \n14          05                                             random   \n15          06                                             random   \n16          07                                             random   \n17          08                                             random   \n18          09                                             random   \n19          00                                             random   \n20      norep1                                             random   \n21      norep2                                             random   \n22      norep3                                             random   \n23      norep4                                             random   \n24      norep5                                             random   \n25      norep6                                             random   \n26      norep7                                             random   \n27      norep8                                             random   \n28      norep9                                             random   \n29     norep10                                             random   \n30     norep11                                             random   \n\n           short_labels                                       directories  \\\n0         Gen Nutrition                grpm_surveys/grpm_survey_pcg_nutri   \n1      Obesity & Weight               grpm_surveys/grpm_survey_pcg_ob_bmi   \n2      Diabetes Type II              grpm_surveys/grpm_survey_pcg_dmt2_ms   \n3   Cardiovascular Hlth                  grpm_surveys/grpm_survey_pcg_cvd   \n4   Vitamins & Minerals                grpm_surveys/grpm_survey_pcg_vitam   \n5       Eating Behavior            grpm_surveys/grpm_survey_pcg_eat_taste   \n6     Food Intolerances                grpm_surveys/grpm_survey_pcg_intol   \n7        Food Allergies                grpm_surveys/grpm_survey_pcg_aller   \n8      Oxidative Stress           grpm_surveys/grpm_survey_pcg_oxi_stress   \n9     Xenobiotics Metab                 grpm_surveys/grpm_survey_pcg_xeno   \n10               random       grpm_surveys/grpm_random/grpm_random_pcg_01   \n11               random       grpm_surveys/grpm_random/grpm_random_pcg_02   \n12               random       grpm_surveys/grpm_random/grpm_random_pcg_03   \n13               random       grpm_surveys/grpm_random/grpm_random_pcg_04   \n14               random       grpm_surveys/grpm_random/grpm_random_pcg_05   \n15               random       grpm_surveys/grpm_random/grpm_random_pcg_06   \n16               random       grpm_surveys/grpm_random/grpm_random_pcg_07   \n17               random       grpm_surveys/grpm_random/grpm_random_pcg_08   \n18               random       grpm_surveys/grpm_random/grpm_random_pcg_09   \n19               random       grpm_surveys/grpm_random/grpm_random_pcg_00   \n20               random   grpm_surveys/grpm_random/grpm_random_pcg_norep1   \n21               random   grpm_surveys/grpm_random/grpm_random_pcg_norep2   \n22               random   grpm_surveys/grpm_random/grpm_random_pcg_norep3   \n23               random   grpm_surveys/grpm_random/grpm_random_pcg_norep4   \n24               random   grpm_surveys/grpm_random/grpm_random_pcg_norep5   \n25               random   grpm_surveys/grpm_random/grpm_random_pcg_norep6   \n26               random   grpm_surveys/grpm_random/grpm_random_pcg_norep7   \n27               random   grpm_surveys/grpm_random/grpm_random_pcg_norep8   \n28               random   grpm_surveys/grpm_random/grpm_random_pcg_norep9   \n29               random  grpm_surveys/grpm_random/grpm_random_pcg_norep10   \n30               random  grpm_surveys/grpm_random/grpm_random_pcg_norep11   \n\n          repo_list grpm_out_list  grpm_genes  grpm_rsids  grpm_pmids  \\\n0    GRPMX_report_1       GRPMX_1       11560       83288       62473   \n1    GRPMX_report_2       GRPMX_2        9713       53879       35563   \n2    GRPMX_report_3       GRPMX_3       10717       68844       49896   \n3    GRPMX_report_4       GRPMX_4       12368      105598       85065   \n4    GRPMX_report_5       GRPMX_5        4045       16857       11941   \n5    GRPMX_report_6       GRPMX_6        5525       20607       13734   \n6    GRPMX_report_7       GRPMX_7        4040       14117        7416   \n7    GRPMX_report_8       GRPMX_8        4681       16777       11032   \n8    GRPMX_report_9       GRPMX_9        5156       20919       19295   \n9   GRPMX_report_10      GRPMX_10        7115       35686       27237   \n10  GRPMX_report_11      GRPMX_11       12972      136437       93049   \n11  GRPMX_report_12      GRPMX_12       12676      107668       68592   \n12  GRPMX_report_13      GRPMX_13       11182       73932       40569   \n13  GRPMX_report_14      GRPMX_14       14128      158253       93155   \n14  GRPMX_report_15      GRPMX_15       14863      213068      148434   \n15  GRPMX_report_16      GRPMX_16       13997      160321      108394   \n16  GRPMX_report_17      GRPMX_17       15491      290733      242120   \n17  GRPMX_report_18      GRPMX_18       12851      117519       76038   \n18  GRPMX_report_19      GRPMX_19       11045       67202       44131   \n19  GRPMX_report_20      GRPMX_20       12583      116666       69713   \n20  GRPMX_report_21      GRPMX_21       12423       96918       57715   \n21  GRPMX_report_22      GRPMX_22       12479      105409       64209   \n22  GRPMX_report_23      GRPMX_23       12437      114488       62015   \n23  GRPMX_report_24      GRPMX_24       14266      160638       93838   \n24  GRPMX_report_25      GRPMX_25       12545      110650       69849   \n25  GRPMX_report_26      GRPMX_26       12886      117067       60307   \n26  GRPMX_report_27      GRPMX_27       12419      115583       69657   \n27  GRPMX_report_28      GRPMX_28       13166      131242       82505   \n28  GRPMX_report_29      GRPMX_29       10992       73230       44699   \n29  GRPMX_report_30      GRPMX_30       12812      144411       93451   \n30  GRPMX_report_31      GRPMX_31       12541      108598       94316   \n\n    grpm_meshs  \n0          413  \n1          243  \n2          319  \n3          528  \n4          175  \n5          292  \n6          145  \n7           65  \n8           77  \n9          170  \n10         450  \n11         450  \n12         450  \n13         450  \n14         450  \n15         450  \n16         450  \n17         450  \n18         450  \n19         450  \n20         444  \n21         444  \n22         444  \n23         444  \n24         444  \n25         444  \n26         444  \n27         444  \n28         444  \n29         444  \n30         444  ",
      "text/html": "<div>\n<style scoped>\n    .dataframe tbody tr th:only-of-type {\n        vertical-align: middle;\n    }\n\n    .dataframe tbody tr th {\n        vertical-align: top;\n    }\n\n    .dataframe thead th {\n        text-align: right;\n    }\n</style>\n<table border=\"1\" class=\"dataframe\">\n  <thead>\n    <tr style=\"text-align: right;\">\n      <th></th>\n      <th>tag</th>\n      <th>label</th>\n      <th>short_labels</th>\n      <th>directories</th>\n      <th>repo_list</th>\n      <th>grpm_out_list</th>\n      <th>grpm_genes</th>\n      <th>grpm_rsids</th>\n      <th>grpm_pmids</th>\n      <th>grpm_meshs</th>\n    </tr>\n  </thead>\n  <tbody>\n    <tr>\n      <th>0</th>\n      <td>nutri</td>\n      <td>General Nutrition</td>\n      <td>Gen Nutrition</td>\n      <td>grpm_surveys/grpm_survey_pcg_nutri</td>\n      <td>GRPMX_report_1</td>\n      <td>GRPMX_1</td>\n      <td>11560</td>\n      <td>83288</td>\n      <td>62473</td>\n      <td>413</td>\n    </tr>\n    <tr>\n      <th>1</th>\n      <td>ob_bmi</td>\n      <td>Obesity, Weight Control and Compulsive Eating</td>\n      <td>Obesity &amp; Weight</td>\n      <td>grpm_surveys/grpm_survey_pcg_ob_bmi</td>\n      <td>GRPMX_report_2</td>\n      <td>GRPMX_2</td>\n      <td>9713</td>\n      <td>53879</td>\n      <td>35563</td>\n      <td>243</td>\n    </tr>\n    <tr>\n      <th>2</th>\n      <td>dmt2_ms</td>\n      <td>Diabetes Mellitus Type II and Metabolic Syndrome</td>\n      <td>Diabetes Type II</td>\n      <td>grpm_surveys/grpm_survey_pcg_dmt2_ms</td>\n      <td>GRPMX_report_3</td>\n      <td>GRPMX_3</td>\n      <td>10717</td>\n      <td>68844</td>\n      <td>49896</td>\n      <td>319</td>\n    </tr>\n    <tr>\n      <th>3</th>\n      <td>cvd</td>\n      <td>Cardiovascular Health and Lipid Metabolism</td>\n      <td>Cardiovascular Hlth</td>\n      <td>grpm_surveys/grpm_survey_pcg_cvd</td>\n      <td>GRPMX_report_4</td>\n      <td>GRPMX_4</td>\n      <td>12368</td>\n      <td>105598</td>\n      <td>85065</td>\n      <td>528</td>\n    </tr>\n    <tr>\n      <th>4</th>\n      <td>vitam</td>\n      <td>Vitamin and Micronutrients Metabolism and Defi...</td>\n      <td>Vitamins &amp; Minerals</td>\n      <td>grpm_surveys/grpm_survey_pcg_vitam</td>\n      <td>GRPMX_report_5</td>\n      <td>GRPMX_5</td>\n      <td>4045</td>\n      <td>16857</td>\n      <td>11941</td>\n      <td>175</td>\n    </tr>\n    <tr>\n      <th>5</th>\n      <td>eat_taste</td>\n      <td>Eating Behavior and Taste Sensation</td>\n      <td>Eating Behavior</td>\n      <td>grpm_surveys/grpm_survey_pcg_eat_taste</td>\n      <td>GRPMX_report_6</td>\n      <td>GRPMX_6</td>\n      <td>5525</td>\n      <td>20607</td>\n      <td>13734</td>\n      <td>292</td>\n    </tr>\n    <tr>\n      <th>6</th>\n      <td>intol</td>\n      <td>Food Intolerances</td>\n      <td>Food Intolerances</td>\n      <td>grpm_surveys/grpm_survey_pcg_intol</td>\n      <td>GRPMX_report_7</td>\n      <td>GRPMX_7</td>\n      <td>4040</td>\n      <td>14117</td>\n      <td>7416</td>\n      <td>145</td>\n    </tr>\n    <tr>\n      <th>7</th>\n      <td>aller</td>\n      <td>Food Allergies</td>\n      <td>Food Allergies</td>\n      <td>grpm_surveys/grpm_survey_pcg_aller</td>\n      <td>GRPMX_report_8</td>\n      <td>GRPMX_8</td>\n      <td>4681</td>\n      <td>16777</td>\n      <td>11032</td>\n      <td>65</td>\n    </tr>\n    <tr>\n      <th>8</th>\n      <td>oxi_stress</td>\n      <td>Diet-induced Oxidative Stress</td>\n      <td>Oxidative Stress</td>\n      <td>grpm_surveys/grpm_survey_pcg_oxi_stress</td>\n      <td>GRPMX_report_9</td>\n      <td>GRPMX_9</td>\n      <td>5156</td>\n      <td>20919</td>\n      <td>19295</td>\n      <td>77</td>\n    </tr>\n    <tr>\n      <th>9</th>\n      <td>xeno</td>\n      <td>Xenobiotics Metabolism</td>\n      <td>Xenobiotics Metab</td>\n      <td>grpm_surveys/grpm_survey_pcg_xeno</td>\n      <td>GRPMX_report_10</td>\n      <td>GRPMX_10</td>\n      <td>7115</td>\n      <td>35686</td>\n      <td>27237</td>\n      <td>170</td>\n    </tr>\n    <tr>\n      <th>10</th>\n      <td>01</td>\n      <td>random</td>\n      <td>random</td>\n      <td>grpm_surveys/grpm_random/grpm_random_pcg_01</td>\n      <td>GRPMX_report_11</td>\n      <td>GRPMX_11</td>\n      <td>12972</td>\n      <td>136437</td>\n      <td>93049</td>\n      <td>450</td>\n    </tr>\n    <tr>\n      <th>11</th>\n      <td>02</td>\n      <td>random</td>\n      <td>random</td>\n      <td>grpm_surveys/grpm_random/grpm_random_pcg_02</td>\n      <td>GRPMX_report_12</td>\n      <td>GRPMX_12</td>\n      <td>12676</td>\n      <td>107668</td>\n      <td>68592</td>\n      <td>450</td>\n    </tr>\n    <tr>\n      <th>12</th>\n      <td>03</td>\n      <td>random</td>\n      <td>random</td>\n      <td>grpm_surveys/grpm_random/grpm_random_pcg_03</td>\n      <td>GRPMX_report_13</td>\n      <td>GRPMX_13</td>\n      <td>11182</td>\n      <td>73932</td>\n      <td>40569</td>\n      <td>450</td>\n    </tr>\n    <tr>\n      <th>13</th>\n      <td>04</td>\n      <td>random</td>\n      <td>random</td>\n      <td>grpm_surveys/grpm_random/grpm_random_pcg_04</td>\n      <td>GRPMX_report_14</td>\n      <td>GRPMX_14</td>\n      <td>14128</td>\n      <td>158253</td>\n      <td>93155</td>\n      <td>450</td>\n    </tr>\n    <tr>\n      <th>14</th>\n      <td>05</td>\n      <td>random</td>\n      <td>random</td>\n      <td>grpm_surveys/grpm_random/grpm_random_pcg_05</td>\n      <td>GRPMX_report_15</td>\n      <td>GRPMX_15</td>\n      <td>14863</td>\n      <td>213068</td>\n      <td>148434</td>\n      <td>450</td>\n    </tr>\n    <tr>\n      <th>15</th>\n      <td>06</td>\n      <td>random</td>\n      <td>random</td>\n      <td>grpm_surveys/grpm_random/grpm_random_pcg_06</td>\n      <td>GRPMX_report_16</td>\n      <td>GRPMX_16</td>\n      <td>13997</td>\n      <td>160321</td>\n      <td>108394</td>\n      <td>450</td>\n    </tr>\n    <tr>\n      <th>16</th>\n      <td>07</td>\n      <td>random</td>\n      <td>random</td>\n      <td>grpm_surveys/grpm_random/grpm_random_pcg_07</td>\n      <td>GRPMX_report_17</td>\n      <td>GRPMX_17</td>\n      <td>15491</td>\n      <td>290733</td>\n      <td>242120</td>\n      <td>450</td>\n    </tr>\n    <tr>\n      <th>17</th>\n      <td>08</td>\n      <td>random</td>\n      <td>random</td>\n      <td>grpm_surveys/grpm_random/grpm_random_pcg_08</td>\n      <td>GRPMX_report_18</td>\n      <td>GRPMX_18</td>\n      <td>12851</td>\n      <td>117519</td>\n      <td>76038</td>\n      <td>450</td>\n    </tr>\n    <tr>\n      <th>18</th>\n      <td>09</td>\n      <td>random</td>\n      <td>random</td>\n      <td>grpm_surveys/grpm_random/grpm_random_pcg_09</td>\n      <td>GRPMX_report_19</td>\n      <td>GRPMX_19</td>\n      <td>11045</td>\n      <td>67202</td>\n      <td>44131</td>\n      <td>450</td>\n    </tr>\n    <tr>\n      <th>19</th>\n      <td>00</td>\n      <td>random</td>\n      <td>random</td>\n      <td>grpm_surveys/grpm_random/grpm_random_pcg_00</td>\n      <td>GRPMX_report_20</td>\n      <td>GRPMX_20</td>\n      <td>12583</td>\n      <td>116666</td>\n      <td>69713</td>\n      <td>450</td>\n    </tr>\n    <tr>\n      <th>20</th>\n      <td>norep1</td>\n      <td>random</td>\n      <td>random</td>\n      <td>grpm_surveys/grpm_random/grpm_random_pcg_norep1</td>\n      <td>GRPMX_report_21</td>\n      <td>GRPMX_21</td>\n      <td>12423</td>\n      <td>96918</td>\n      <td>57715</td>\n      <td>444</td>\n    </tr>\n    <tr>\n      <th>21</th>\n      <td>norep2</td>\n      <td>random</td>\n      <td>random</td>\n      <td>grpm_surveys/grpm_random/grpm_random_pcg_norep2</td>\n      <td>GRPMX_report_22</td>\n      <td>GRPMX_22</td>\n      <td>12479</td>\n      <td>105409</td>\n      <td>64209</td>\n      <td>444</td>\n    </tr>\n    <tr>\n      <th>22</th>\n      <td>norep3</td>\n      <td>random</td>\n      <td>random</td>\n      <td>grpm_surveys/grpm_random/grpm_random_pcg_norep3</td>\n      <td>GRPMX_report_23</td>\n      <td>GRPMX_23</td>\n      <td>12437</td>\n      <td>114488</td>\n      <td>62015</td>\n      <td>444</td>\n    </tr>\n    <tr>\n      <th>23</th>\n      <td>norep4</td>\n      <td>random</td>\n      <td>random</td>\n      <td>grpm_surveys/grpm_random/grpm_random_pcg_norep4</td>\n      <td>GRPMX_report_24</td>\n      <td>GRPMX_24</td>\n      <td>14266</td>\n      <td>160638</td>\n      <td>93838</td>\n      <td>444</td>\n    </tr>\n    <tr>\n      <th>24</th>\n      <td>norep5</td>\n      <td>random</td>\n      <td>random</td>\n      <td>grpm_surveys/grpm_random/grpm_random_pcg_norep5</td>\n      <td>GRPMX_report_25</td>\n      <td>GRPMX_25</td>\n      <td>12545</td>\n      <td>110650</td>\n      <td>69849</td>\n      <td>444</td>\n    </tr>\n    <tr>\n      <th>25</th>\n      <td>norep6</td>\n      <td>random</td>\n      <td>random</td>\n      <td>grpm_surveys/grpm_random/grpm_random_pcg_norep6</td>\n      <td>GRPMX_report_26</td>\n      <td>GRPMX_26</td>\n      <td>12886</td>\n      <td>117067</td>\n      <td>60307</td>\n      <td>444</td>\n    </tr>\n    <tr>\n      <th>26</th>\n      <td>norep7</td>\n      <td>random</td>\n      <td>random</td>\n      <td>grpm_surveys/grpm_random/grpm_random_pcg_norep7</td>\n      <td>GRPMX_report_27</td>\n      <td>GRPMX_27</td>\n      <td>12419</td>\n      <td>115583</td>\n      <td>69657</td>\n      <td>444</td>\n    </tr>\n    <tr>\n      <th>27</th>\n      <td>norep8</td>\n      <td>random</td>\n      <td>random</td>\n      <td>grpm_surveys/grpm_random/grpm_random_pcg_norep8</td>\n      <td>GRPMX_report_28</td>\n      <td>GRPMX_28</td>\n      <td>13166</td>\n      <td>131242</td>\n      <td>82505</td>\n      <td>444</td>\n    </tr>\n    <tr>\n      <th>28</th>\n      <td>norep9</td>\n      <td>random</td>\n      <td>random</td>\n      <td>grpm_surveys/grpm_random/grpm_random_pcg_norep9</td>\n      <td>GRPMX_report_29</td>\n      <td>GRPMX_29</td>\n      <td>10992</td>\n      <td>73230</td>\n      <td>44699</td>\n      <td>444</td>\n    </tr>\n    <tr>\n      <th>29</th>\n      <td>norep10</td>\n      <td>random</td>\n      <td>random</td>\n      <td>grpm_surveys/grpm_random/grpm_random_pcg_norep10</td>\n      <td>GRPMX_report_30</td>\n      <td>GRPMX_30</td>\n      <td>12812</td>\n      <td>144411</td>\n      <td>93451</td>\n      <td>444</td>\n    </tr>\n    <tr>\n      <th>30</th>\n      <td>norep11</td>\n      <td>random</td>\n      <td>random</td>\n      <td>grpm_surveys/grpm_random/grpm_random_pcg_norep11</td>\n      <td>GRPMX_report_31</td>\n      <td>GRPMX_31</td>\n      <td>12541</td>\n      <td>108598</td>\n      <td>94316</td>\n      <td>444</td>\n    </tr>\n  </tbody>\n</table>\n</div>"
     },
     "execution_count": 16,
     "metadata": {},
     "output_type": "execute_result"
    }
   ],
   "source": [
    "# import GRPMX data\n",
    "grpm_out_names = ['GRPMX_'] * last\n",
    "grpm_out_names = [string + str(i+1) for i, string in enumerate(grpm_out_names)]\n",
    "grpm_out_names = grpm_out_names[first:last]\n",
    "\n",
    "grpm_out_list = []\n",
    "print('Importing GRPMX csv, please wait...')\n",
    "for directory, name in zip(directories, grpm_out_names):\n",
    "    dataframe = pd.read_csv(directory + '/grpmx_filtered_output.csv', index_col=0, dtype={'pmids': str})\n",
    "    globals()[name] = dataframe\n",
    "    grpm_out_list.append(dataframe)\n",
    "    #print(name,'df loaded')\n",
    "print('all GRPMX csv loaded')\n",
    "\n",
    "master_df['grpm_out_list'] = grpm_out_names\n",
    "\n",
    "for i in range(len(directories)):\n",
    "    master_df.at[i,'grpm_genes'] = grpm_out_list[i].gene.nunique()\n",
    "    master_df.at[i,'grpm_rsids'] = grpm_out_list[i].rsid.nunique()\n",
    "    master_df.at[i,'grpm_pmids'] = grpm_out_list[i].pmids.nunique()\n",
    "    master_df.at[i,'grpm_meshs'] = grpm_out_list[i].mesh.nunique()\n",
    "\n",
    "columns_to_convert = ['grpm_genes','grpm_rsids', 'grpm_pmids', 'grpm_meshs']\n",
    "master_df[columns_to_convert] = master_df[columns_to_convert].astype(int)\n",
    "\n",
    "print('\\ngrpm_out list len:',len(grpm_out_list))\n",
    "\n",
    "common_cols = ['tag', 'grpm_genes', 'grpm_rsids', 'grpm_pmids', 'grpm_meshs']\n",
    "master_cols = common_cols if not custom_labels else common_cols[:1] + ['short_labels'] + common_cols[1:]\n",
    "master_df_ref = master_df.loc[:,master_cols]\n",
    "\n",
    "master_df[master_df.directories.str.contains('survey')]"
   ]
  },
  {
   "cell_type": "code",
   "execution_count": null,
   "metadata": {
    "collapsed": false
   },
   "outputs": [],
   "source": [
    "#check import process\n",
    "i = 0\n",
    "if simple_bool('check?'):\n",
    "    print(pd.read_csv(directories[i] +'/grpmx_filtered_output.csv',index_col=0).head())\n",
    "    print(grpm_out_list[i].head())"
   ]
  },
  {
   "cell_type": "markdown",
   "metadata": {},
   "source": [
    "# Add \"gene interest index\" to report"
   ]
  },
  {
   "cell_type": "code",
   "execution_count": 17,
   "metadata": {
    "ExecuteTime": {
     "end_time": "2024-06-06T13:06:31.729588Z",
     "start_time": "2024-06-06T13:06:18.305224100Z"
    }
   },
   "outputs": [
    {
     "name": "stdout",
     "output_type": "stream",
     "text": [
      "Adding/loading interest values...\n",
      "all stored GRPM report with interest values loaded\n",
      "\n",
      "Sorting GRPMX reports by interest index...\n",
      "all reports sorted by interest index\n",
      "\n",
      "All reports:\n",
      "nutri       genes: 11,560     max int_value: 0.48662\n",
      "ob_bmi      genes: 9,713      max int_value: 0.77371\n",
      "dmt2_ms     genes: 10,717     max int_value: 0.54997\n",
      "cvd         genes: 12,368     max int_value: 0.4929\n",
      "vitam       genes: 4,045      max int_value: 0.46384\n",
      "eat_taste   genes: 5,525      max int_value: 0.36156\n",
      "intol       genes: 4,040      max int_value: 0.21476\n",
      "aller       genes: 4,681      max int_value: 0.18045\n",
      "oxi_stress  genes: 5,156      max int_value: 0.591\n",
      "xeno        genes: 7,115      max int_value: 0.868\n",
      "01          genes: 12,972     max int_value: 0.72298\n",
      "02          genes: 12,676     max int_value: 0.33519\n",
      "03          genes: 11,182     max int_value: 0.661\n",
      "04          genes: 14,128     max int_value: 0.65859\n",
      "05          genes: 14,863     max int_value: 0.713\n",
      "06          genes: 13,997     max int_value: 0.519\n",
      "07          genes: 15,491     max int_value: 0.988\n",
      "08          genes: 12,851     max int_value: 0.381\n",
      "09          genes: 11,045     max int_value: 0.584\n",
      "00          genes: 12,583     max int_value: 0.39506\n",
      "norep1      genes: 12,423     max int_value: 0.527\n",
      "norep2      genes: 12,479     max int_value: 0.818\n",
      "norep3      genes: 12,437     max int_value: 0.323\n",
      "norep4      genes: 14,266     max int_value: 0.497\n",
      "norep5      genes: 12,545     max int_value: 0.4\n",
      "norep6      genes: 12,886     max int_value: 0.33461\n",
      "norep7      genes: 12,419     max int_value: 0.254\n",
      "norep8      genes: 13,166     max int_value: 0.313\n",
      "norep9      genes: 10,992     max int_value: 0.30597\n",
      "norep10     genes: 12,812     max int_value: 0.433\n",
      "norep11     genes: 12,541     max int_value: 0.61323\n"
     ]
    },
    {
     "data": {
      "text/plain": "                                                    0   \\\ntag                                              nutri   \nlabel                                General Nutrition   \nshort_labels                             Gen Nutrition   \ndirectories         grpm_surveys/grpm_survey_pcg_nutri   \nrepo_list                               GRPMX_report_1   \ngrpm_out_list                                  GRPMX_1   \ngrpm_genes                                       11560   \ngrpm_rsids                                       83288   \ngrpm_pmids                                       62473   \ngrpm_meshs                                         413   \nrepo_int_list                       GRPMX_report_int_0   \nrepo_int_sort_list             GRPMX_report_int_0_sort   \n\n                                                               1   \\\ntag                                                        ob_bmi   \nlabel               Obesity, Weight Control and Compulsive Eating   \nshort_labels                                     Obesity & Weight   \ndirectories                   grpm_surveys/grpm_survey_pcg_ob_bmi   \nrepo_list                                          GRPMX_report_2   \ngrpm_out_list                                             GRPMX_2   \ngrpm_genes                                                   9713   \ngrpm_rsids                                                  53879   \ngrpm_pmids                                                  35563   \ngrpm_meshs                                                    243   \nrepo_int_list                                  GRPMX_report_int_1   \nrepo_int_sort_list                        GRPMX_report_int_1_sort   \n\n                                                                  2   \\\ntag                                                          dmt2_ms   \nlabel               Diabetes Mellitus Type II and Metabolic Syndrome   \nshort_labels                                        Diabetes Type II   \ndirectories                     grpm_surveys/grpm_survey_pcg_dmt2_ms   \nrepo_list                                             GRPMX_report_3   \ngrpm_out_list                                                GRPMX_3   \ngrpm_genes                                                     10717   \ngrpm_rsids                                                     68844   \ngrpm_pmids                                                     49896   \ngrpm_meshs                                                       319   \nrepo_int_list                                     GRPMX_report_int_2   \nrepo_int_sort_list                           GRPMX_report_int_2_sort   \n\n                                                            3   \\\ntag                                                        cvd   \nlabel               Cardiovascular Health and Lipid Metabolism   \nshort_labels                               Cardiovascular Hlth   \ndirectories                   grpm_surveys/grpm_survey_pcg_cvd   \nrepo_list                                       GRPMX_report_4   \ngrpm_out_list                                          GRPMX_4   \ngrpm_genes                                               12368   \ngrpm_rsids                                              105598   \ngrpm_pmids                                               85065   \ngrpm_meshs                                                 528   \nrepo_int_list                               GRPMX_report_int_3   \nrepo_int_sort_list                     GRPMX_report_int_3_sort   \n\n                                                                   4   \\\ntag                                                             vitam   \nlabel               Vitamin and Micronutrients Metabolism and Defi...   \nshort_labels                                      Vitamins & Minerals   \ndirectories                        grpm_surveys/grpm_survey_pcg_vitam   \nrepo_list                                              GRPMX_report_5   \ngrpm_out_list                                                 GRPMX_5   \ngrpm_genes                                                       4045   \ngrpm_rsids                                                      16857   \ngrpm_pmids                                                      11941   \ngrpm_meshs                                                        175   \nrepo_int_list                                      GRPMX_report_int_4   \nrepo_int_sort_list                            GRPMX_report_int_4_sort   \n\n                                                        5   \\\ntag                                              eat_taste   \nlabel                  Eating Behavior and Taste Sensation   \nshort_labels                               Eating Behavior   \ndirectories         grpm_surveys/grpm_survey_pcg_eat_taste   \nrepo_list                                   GRPMX_report_6   \ngrpm_out_list                                      GRPMX_6   \ngrpm_genes                                            5525   \ngrpm_rsids                                           20607   \ngrpm_pmids                                           13734   \ngrpm_meshs                                             292   \nrepo_int_list                           GRPMX_report_int_5   \nrepo_int_sort_list                 GRPMX_report_int_5_sort   \n\n                                                    6   \\\ntag                                              intol   \nlabel                                Food Intolerances   \nshort_labels                         Food Intolerances   \ndirectories         grpm_surveys/grpm_survey_pcg_intol   \nrepo_list                               GRPMX_report_7   \ngrpm_out_list                                  GRPMX_7   \ngrpm_genes                                        4040   \ngrpm_rsids                                       14117   \ngrpm_pmids                                        7416   \ngrpm_meshs                                         145   \nrepo_int_list                       GRPMX_report_int_6   \nrepo_int_sort_list             GRPMX_report_int_6_sort   \n\n                                                    7   \\\ntag                                              aller   \nlabel                                   Food Allergies   \nshort_labels                            Food Allergies   \ndirectories         grpm_surveys/grpm_survey_pcg_aller   \nrepo_list                               GRPMX_report_8   \ngrpm_out_list                                  GRPMX_8   \ngrpm_genes                                        4681   \ngrpm_rsids                                       16777   \ngrpm_pmids                                       11032   \ngrpm_meshs                                          65   \nrepo_int_list                       GRPMX_report_int_7   \nrepo_int_sort_list             GRPMX_report_int_7_sort   \n\n                                                         8   \\\ntag                                              oxi_stress   \nlabel                         Diet-induced Oxidative Stress   \nshort_labels                               Oxidative Stress   \ndirectories         grpm_surveys/grpm_survey_pcg_oxi_stress   \nrepo_list                                    GRPMX_report_9   \ngrpm_out_list                                       GRPMX_9   \ngrpm_genes                                             5156   \ngrpm_rsids                                            20919   \ngrpm_pmids                                            19295   \ngrpm_meshs                                               77   \nrepo_int_list                            GRPMX_report_int_8   \nrepo_int_sort_list                  GRPMX_report_int_8_sort   \n\n                                                   9   ...  \\\ntag                                              xeno  ...   \nlabel                          Xenobiotics Metabolism  ...   \nshort_labels                        Xenobiotics Metab  ...   \ndirectories         grpm_surveys/grpm_survey_pcg_xeno  ...   \nrepo_list                             GRPMX_report_10  ...   \ngrpm_out_list                                GRPMX_10  ...   \ngrpm_genes                                       7115  ...   \ngrpm_rsids                                      35686  ...   \ngrpm_pmids                                      27237  ...   \ngrpm_meshs                                        170  ...   \nrepo_int_list                      GRPMX_report_int_9  ...   \nrepo_int_sort_list            GRPMX_report_int_9_sort  ...   \n\n                                                                 21  \\\ntag                                                          norep2   \nlabel                                                        random   \nshort_labels                                                 random   \ndirectories         grpm_surveys/grpm_random/grpm_random_pcg_norep2   \nrepo_list                                           GRPMX_report_22   \ngrpm_out_list                                              GRPMX_22   \ngrpm_genes                                                    12479   \ngrpm_rsids                                                   105409   \ngrpm_pmids                                                    64209   \ngrpm_meshs                                                      444   \nrepo_int_list                                   GRPMX_report_int_21   \nrepo_int_sort_list                         GRPMX_report_int_21_sort   \n\n                                                                 22  \\\ntag                                                          norep3   \nlabel                                                        random   \nshort_labels                                                 random   \ndirectories         grpm_surveys/grpm_random/grpm_random_pcg_norep3   \nrepo_list                                           GRPMX_report_23   \ngrpm_out_list                                              GRPMX_23   \ngrpm_genes                                                    12437   \ngrpm_rsids                                                   114488   \ngrpm_pmids                                                    62015   \ngrpm_meshs                                                      444   \nrepo_int_list                                   GRPMX_report_int_22   \nrepo_int_sort_list                         GRPMX_report_int_22_sort   \n\n                                                                 23  \\\ntag                                                          norep4   \nlabel                                                        random   \nshort_labels                                                 random   \ndirectories         grpm_surveys/grpm_random/grpm_random_pcg_norep4   \nrepo_list                                           GRPMX_report_24   \ngrpm_out_list                                              GRPMX_24   \ngrpm_genes                                                    14266   \ngrpm_rsids                                                   160638   \ngrpm_pmids                                                    93838   \ngrpm_meshs                                                      444   \nrepo_int_list                                   GRPMX_report_int_23   \nrepo_int_sort_list                         GRPMX_report_int_23_sort   \n\n                                                                 24  \\\ntag                                                          norep5   \nlabel                                                        random   \nshort_labels                                                 random   \ndirectories         grpm_surveys/grpm_random/grpm_random_pcg_norep5   \nrepo_list                                           GRPMX_report_25   \ngrpm_out_list                                              GRPMX_25   \ngrpm_genes                                                    12545   \ngrpm_rsids                                                   110650   \ngrpm_pmids                                                    69849   \ngrpm_meshs                                                      444   \nrepo_int_list                                   GRPMX_report_int_24   \nrepo_int_sort_list                         GRPMX_report_int_24_sort   \n\n                                                                 25  \\\ntag                                                          norep6   \nlabel                                                        random   \nshort_labels                                                 random   \ndirectories         grpm_surveys/grpm_random/grpm_random_pcg_norep6   \nrepo_list                                           GRPMX_report_26   \ngrpm_out_list                                              GRPMX_26   \ngrpm_genes                                                    12886   \ngrpm_rsids                                                   117067   \ngrpm_pmids                                                    60307   \ngrpm_meshs                                                      444   \nrepo_int_list                                   GRPMX_report_int_25   \nrepo_int_sort_list                         GRPMX_report_int_25_sort   \n\n                                                                 26  \\\ntag                                                          norep7   \nlabel                                                        random   \nshort_labels                                                 random   \ndirectories         grpm_surveys/grpm_random/grpm_random_pcg_norep7   \nrepo_list                                           GRPMX_report_27   \ngrpm_out_list                                              GRPMX_27   \ngrpm_genes                                                    12419   \ngrpm_rsids                                                   115583   \ngrpm_pmids                                                    69657   \ngrpm_meshs                                                      444   \nrepo_int_list                                   GRPMX_report_int_26   \nrepo_int_sort_list                         GRPMX_report_int_26_sort   \n\n                                                                 27  \\\ntag                                                          norep8   \nlabel                                                        random   \nshort_labels                                                 random   \ndirectories         grpm_surveys/grpm_random/grpm_random_pcg_norep8   \nrepo_list                                           GRPMX_report_28   \ngrpm_out_list                                              GRPMX_28   \ngrpm_genes                                                    13166   \ngrpm_rsids                                                   131242   \ngrpm_pmids                                                    82505   \ngrpm_meshs                                                      444   \nrepo_int_list                                   GRPMX_report_int_27   \nrepo_int_sort_list                         GRPMX_report_int_27_sort   \n\n                                                                 28  \\\ntag                                                          norep9   \nlabel                                                        random   \nshort_labels                                                 random   \ndirectories         grpm_surveys/grpm_random/grpm_random_pcg_norep9   \nrepo_list                                           GRPMX_report_29   \ngrpm_out_list                                              GRPMX_29   \ngrpm_genes                                                    10992   \ngrpm_rsids                                                    73230   \ngrpm_pmids                                                    44699   \ngrpm_meshs                                                      444   \nrepo_int_list                                   GRPMX_report_int_28   \nrepo_int_sort_list                         GRPMX_report_int_28_sort   \n\n                                                                  29  \\\ntag                                                          norep10   \nlabel                                                         random   \nshort_labels                                                  random   \ndirectories         grpm_surveys/grpm_random/grpm_random_pcg_norep10   \nrepo_list                                            GRPMX_report_30   \ngrpm_out_list                                               GRPMX_30   \ngrpm_genes                                                     12812   \ngrpm_rsids                                                    144411   \ngrpm_pmids                                                     93451   \ngrpm_meshs                                                       444   \nrepo_int_list                                    GRPMX_report_int_29   \nrepo_int_sort_list                          GRPMX_report_int_29_sort   \n\n                                                                  30  \ntag                                                          norep11  \nlabel                                                         random  \nshort_labels                                                  random  \ndirectories         grpm_surveys/grpm_random/grpm_random_pcg_norep11  \nrepo_list                                            GRPMX_report_31  \ngrpm_out_list                                               GRPMX_31  \ngrpm_genes                                                     12541  \ngrpm_rsids                                                    108598  \ngrpm_pmids                                                     94316  \ngrpm_meshs                                                       444  \nrepo_int_list                                    GRPMX_report_int_30  \nrepo_int_sort_list                          GRPMX_report_int_30_sort  \n\n[12 rows x 31 columns]",
      "text/html": "<div>\n<style scoped>\n    .dataframe tbody tr th:only-of-type {\n        vertical-align: middle;\n    }\n\n    .dataframe tbody tr th {\n        vertical-align: top;\n    }\n\n    .dataframe thead th {\n        text-align: right;\n    }\n</style>\n<table border=\"1\" class=\"dataframe\">\n  <thead>\n    <tr style=\"text-align: right;\">\n      <th></th>\n      <th>0</th>\n      <th>1</th>\n      <th>2</th>\n      <th>3</th>\n      <th>4</th>\n      <th>5</th>\n      <th>6</th>\n      <th>7</th>\n      <th>8</th>\n      <th>9</th>\n      <th>...</th>\n      <th>21</th>\n      <th>22</th>\n      <th>23</th>\n      <th>24</th>\n      <th>25</th>\n      <th>26</th>\n      <th>27</th>\n      <th>28</th>\n      <th>29</th>\n      <th>30</th>\n    </tr>\n  </thead>\n  <tbody>\n    <tr>\n      <th>tag</th>\n      <td>nutri</td>\n      <td>ob_bmi</td>\n      <td>dmt2_ms</td>\n      <td>cvd</td>\n      <td>vitam</td>\n      <td>eat_taste</td>\n      <td>intol</td>\n      <td>aller</td>\n      <td>oxi_stress</td>\n      <td>xeno</td>\n      <td>...</td>\n      <td>norep2</td>\n      <td>norep3</td>\n      <td>norep4</td>\n      <td>norep5</td>\n      <td>norep6</td>\n      <td>norep7</td>\n      <td>norep8</td>\n      <td>norep9</td>\n      <td>norep10</td>\n      <td>norep11</td>\n    </tr>\n    <tr>\n      <th>label</th>\n      <td>General Nutrition</td>\n      <td>Obesity, Weight Control and Compulsive Eating</td>\n      <td>Diabetes Mellitus Type II and Metabolic Syndrome</td>\n      <td>Cardiovascular Health and Lipid Metabolism</td>\n      <td>Vitamin and Micronutrients Metabolism and Defi...</td>\n      <td>Eating Behavior and Taste Sensation</td>\n      <td>Food Intolerances</td>\n      <td>Food Allergies</td>\n      <td>Diet-induced Oxidative Stress</td>\n      <td>Xenobiotics Metabolism</td>\n      <td>...</td>\n      <td>random</td>\n      <td>random</td>\n      <td>random</td>\n      <td>random</td>\n      <td>random</td>\n      <td>random</td>\n      <td>random</td>\n      <td>random</td>\n      <td>random</td>\n      <td>random</td>\n    </tr>\n    <tr>\n      <th>short_labels</th>\n      <td>Gen Nutrition</td>\n      <td>Obesity &amp; Weight</td>\n      <td>Diabetes Type II</td>\n      <td>Cardiovascular Hlth</td>\n      <td>Vitamins &amp; Minerals</td>\n      <td>Eating Behavior</td>\n      <td>Food Intolerances</td>\n      <td>Food Allergies</td>\n      <td>Oxidative Stress</td>\n      <td>Xenobiotics Metab</td>\n      <td>...</td>\n      <td>random</td>\n      <td>random</td>\n      <td>random</td>\n      <td>random</td>\n      <td>random</td>\n      <td>random</td>\n      <td>random</td>\n      <td>random</td>\n      <td>random</td>\n      <td>random</td>\n    </tr>\n    <tr>\n      <th>directories</th>\n      <td>grpm_surveys/grpm_survey_pcg_nutri</td>\n      <td>grpm_surveys/grpm_survey_pcg_ob_bmi</td>\n      <td>grpm_surveys/grpm_survey_pcg_dmt2_ms</td>\n      <td>grpm_surveys/grpm_survey_pcg_cvd</td>\n      <td>grpm_surveys/grpm_survey_pcg_vitam</td>\n      <td>grpm_surveys/grpm_survey_pcg_eat_taste</td>\n      <td>grpm_surveys/grpm_survey_pcg_intol</td>\n      <td>grpm_surveys/grpm_survey_pcg_aller</td>\n      <td>grpm_surveys/grpm_survey_pcg_oxi_stress</td>\n      <td>grpm_surveys/grpm_survey_pcg_xeno</td>\n      <td>...</td>\n      <td>grpm_surveys/grpm_random/grpm_random_pcg_norep2</td>\n      <td>grpm_surveys/grpm_random/grpm_random_pcg_norep3</td>\n      <td>grpm_surveys/grpm_random/grpm_random_pcg_norep4</td>\n      <td>grpm_surveys/grpm_random/grpm_random_pcg_norep5</td>\n      <td>grpm_surveys/grpm_random/grpm_random_pcg_norep6</td>\n      <td>grpm_surveys/grpm_random/grpm_random_pcg_norep7</td>\n      <td>grpm_surveys/grpm_random/grpm_random_pcg_norep8</td>\n      <td>grpm_surveys/grpm_random/grpm_random_pcg_norep9</td>\n      <td>grpm_surveys/grpm_random/grpm_random_pcg_norep10</td>\n      <td>grpm_surveys/grpm_random/grpm_random_pcg_norep11</td>\n    </tr>\n    <tr>\n      <th>repo_list</th>\n      <td>GRPMX_report_1</td>\n      <td>GRPMX_report_2</td>\n      <td>GRPMX_report_3</td>\n      <td>GRPMX_report_4</td>\n      <td>GRPMX_report_5</td>\n      <td>GRPMX_report_6</td>\n      <td>GRPMX_report_7</td>\n      <td>GRPMX_report_8</td>\n      <td>GRPMX_report_9</td>\n      <td>GRPMX_report_10</td>\n      <td>...</td>\n      <td>GRPMX_report_22</td>\n      <td>GRPMX_report_23</td>\n      <td>GRPMX_report_24</td>\n      <td>GRPMX_report_25</td>\n      <td>GRPMX_report_26</td>\n      <td>GRPMX_report_27</td>\n      <td>GRPMX_report_28</td>\n      <td>GRPMX_report_29</td>\n      <td>GRPMX_report_30</td>\n      <td>GRPMX_report_31</td>\n    </tr>\n    <tr>\n      <th>grpm_out_list</th>\n      <td>GRPMX_1</td>\n      <td>GRPMX_2</td>\n      <td>GRPMX_3</td>\n      <td>GRPMX_4</td>\n      <td>GRPMX_5</td>\n      <td>GRPMX_6</td>\n      <td>GRPMX_7</td>\n      <td>GRPMX_8</td>\n      <td>GRPMX_9</td>\n      <td>GRPMX_10</td>\n      <td>...</td>\n      <td>GRPMX_22</td>\n      <td>GRPMX_23</td>\n      <td>GRPMX_24</td>\n      <td>GRPMX_25</td>\n      <td>GRPMX_26</td>\n      <td>GRPMX_27</td>\n      <td>GRPMX_28</td>\n      <td>GRPMX_29</td>\n      <td>GRPMX_30</td>\n      <td>GRPMX_31</td>\n    </tr>\n    <tr>\n      <th>grpm_genes</th>\n      <td>11560</td>\n      <td>9713</td>\n      <td>10717</td>\n      <td>12368</td>\n      <td>4045</td>\n      <td>5525</td>\n      <td>4040</td>\n      <td>4681</td>\n      <td>5156</td>\n      <td>7115</td>\n      <td>...</td>\n      <td>12479</td>\n      <td>12437</td>\n      <td>14266</td>\n      <td>12545</td>\n      <td>12886</td>\n      <td>12419</td>\n      <td>13166</td>\n      <td>10992</td>\n      <td>12812</td>\n      <td>12541</td>\n    </tr>\n    <tr>\n      <th>grpm_rsids</th>\n      <td>83288</td>\n      <td>53879</td>\n      <td>68844</td>\n      <td>105598</td>\n      <td>16857</td>\n      <td>20607</td>\n      <td>14117</td>\n      <td>16777</td>\n      <td>20919</td>\n      <td>35686</td>\n      <td>...</td>\n      <td>105409</td>\n      <td>114488</td>\n      <td>160638</td>\n      <td>110650</td>\n      <td>117067</td>\n      <td>115583</td>\n      <td>131242</td>\n      <td>73230</td>\n      <td>144411</td>\n      <td>108598</td>\n    </tr>\n    <tr>\n      <th>grpm_pmids</th>\n      <td>62473</td>\n      <td>35563</td>\n      <td>49896</td>\n      <td>85065</td>\n      <td>11941</td>\n      <td>13734</td>\n      <td>7416</td>\n      <td>11032</td>\n      <td>19295</td>\n      <td>27237</td>\n      <td>...</td>\n      <td>64209</td>\n      <td>62015</td>\n      <td>93838</td>\n      <td>69849</td>\n      <td>60307</td>\n      <td>69657</td>\n      <td>82505</td>\n      <td>44699</td>\n      <td>93451</td>\n      <td>94316</td>\n    </tr>\n    <tr>\n      <th>grpm_meshs</th>\n      <td>413</td>\n      <td>243</td>\n      <td>319</td>\n      <td>528</td>\n      <td>175</td>\n      <td>292</td>\n      <td>145</td>\n      <td>65</td>\n      <td>77</td>\n      <td>170</td>\n      <td>...</td>\n      <td>444</td>\n      <td>444</td>\n      <td>444</td>\n      <td>444</td>\n      <td>444</td>\n      <td>444</td>\n      <td>444</td>\n      <td>444</td>\n      <td>444</td>\n      <td>444</td>\n    </tr>\n    <tr>\n      <th>repo_int_list</th>\n      <td>GRPMX_report_int_0</td>\n      <td>GRPMX_report_int_1</td>\n      <td>GRPMX_report_int_2</td>\n      <td>GRPMX_report_int_3</td>\n      <td>GRPMX_report_int_4</td>\n      <td>GRPMX_report_int_5</td>\n      <td>GRPMX_report_int_6</td>\n      <td>GRPMX_report_int_7</td>\n      <td>GRPMX_report_int_8</td>\n      <td>GRPMX_report_int_9</td>\n      <td>...</td>\n      <td>GRPMX_report_int_21</td>\n      <td>GRPMX_report_int_22</td>\n      <td>GRPMX_report_int_23</td>\n      <td>GRPMX_report_int_24</td>\n      <td>GRPMX_report_int_25</td>\n      <td>GRPMX_report_int_26</td>\n      <td>GRPMX_report_int_27</td>\n      <td>GRPMX_report_int_28</td>\n      <td>GRPMX_report_int_29</td>\n      <td>GRPMX_report_int_30</td>\n    </tr>\n    <tr>\n      <th>repo_int_sort_list</th>\n      <td>GRPMX_report_int_0_sort</td>\n      <td>GRPMX_report_int_1_sort</td>\n      <td>GRPMX_report_int_2_sort</td>\n      <td>GRPMX_report_int_3_sort</td>\n      <td>GRPMX_report_int_4_sort</td>\n      <td>GRPMX_report_int_5_sort</td>\n      <td>GRPMX_report_int_6_sort</td>\n      <td>GRPMX_report_int_7_sort</td>\n      <td>GRPMX_report_int_8_sort</td>\n      <td>GRPMX_report_int_9_sort</td>\n      <td>...</td>\n      <td>GRPMX_report_int_21_sort</td>\n      <td>GRPMX_report_int_22_sort</td>\n      <td>GRPMX_report_int_23_sort</td>\n      <td>GRPMX_report_int_24_sort</td>\n      <td>GRPMX_report_int_25_sort</td>\n      <td>GRPMX_report_int_26_sort</td>\n      <td>GRPMX_report_int_27_sort</td>\n      <td>GRPMX_report_int_28_sort</td>\n      <td>GRPMX_report_int_29_sort</td>\n      <td>GRPMX_report_int_30_sort</td>\n    </tr>\n  </tbody>\n</table>\n<p>12 rows × 31 columns</p>\n</div>"
     },
     "execution_count": 17,
     "metadata": {},
     "output_type": "execute_result"
    }
   ],
   "source": [
    "## Add \"interest index\" to report:\n",
    "\n",
    "# set True if generating interest for the first time:\n",
    "replace_all = False\n",
    "\n",
    "#---------------------------------------\n",
    "def add_interest_index(df):\n",
    "    max_match_pmids = int(df['matching_pmids'].max())\n",
    "    # duplicate df\n",
    "    df_int = df#.copy()\n",
    "    df_int['matching_pmids_index'] = round((df_int['matching_pmids'] / max_match_pmids), 5)\n",
    "    df_int['interest_value'] = round(df_int['matching_pmids_index'] * df_int['matching_pmids_ratio'], 5)\n",
    "    df_int['interest_index'] = round(df_int['interest_value']/df_int['interest_value'].max(), 5)\n",
    "    df_int['matching_mesh_ref_ratio'] = round(df_int['matching_mesh'] / df_int['reference_mesh'], 5)\n",
    "    new_col_order = ['gene', 'interest_value','interest_index', 'reference_mesh', 'starting_pmidmesh',\n",
    "                     'starting_pmid', 'starting_mesh', 'starting_rsid',\n",
    "                     'matching_pmids_index','matching_pmidmesh', 'matching_pmids',\n",
    "                     'matching_mesh', 'matching_rsid',\n",
    "                     'dropped_rsid', 'matching_mesh_ratio',\n",
    "                     'matching_mesh_ref_ratio', 'matching_pmids_ratio',\n",
    "                     'matching_pmidmesh_ratio', 'matching_rsid_ratio',\n",
    "                     'matching_rsid_pmid10', 'matching_rsid_pmid100', 'matching_top10mesh',\n",
    "                     'matching_top10rsid']\n",
    "    df_int = df[new_col_order]\n",
    "    return df_int\n",
    "#---------------------------------------\n",
    "\n",
    "##GRPMX_report_int\n",
    "report_int_names = ['GRPMX_report_int_'] * last\n",
    "report_int_names = [string + str(i) for i, string in enumerate(report_int_names)]\n",
    "report_int_names = report_int_names[first:last]\n",
    "master_df['repo_int_list'] = report_int_names\n",
    "\n",
    "print('Adding/loading interest values...')\n",
    "repo_int_list = []\n",
    "for repo, name, directory in zip(repo_list, report_int_names, directories):\n",
    "    if replace_all == True or os.path.exists(directory + '/GRPMX_report_int.csv') == False:\n",
    "        dataframe = add_interest_index(repo)\n",
    "        globals()[name] = dataframe\n",
    "        dataframe.to_csv(directory+'/GRPMX_report_int.csv', index=0)\n",
    "        repo_int_list.append(dataframe)\n",
    "        #print(name,'df created')\n",
    "    else:\n",
    "        dataframe = pd.read_csv(directory + '/GRPMX_report_int.csv')\n",
    "        data_types = {\n",
    "            'gene': str,\n",
    "            'reference_mesh': int,\n",
    "            'starting_pmidmesh': int,\n",
    "            'starting_pmid': int,\n",
    "            'starting_mesh': int,\n",
    "            'starting_rsid': int,\n",
    "            'matching_pmidmesh': int,\n",
    "            'matching_pmids': int,\n",
    "            'matching_mesh': int,\n",
    "            'matching_rsid': int,\n",
    "            'dropped_rsid': int,\n",
    "            'interest_value': float,\n",
    "            'interest_index': float,\n",
    "            'matching_mesh_ratio': float,\n",
    "            'matching_mesh_ref_ratio': float,\n",
    "            'matching_pmids_ratio': float,\n",
    "            'matching_pmidmesh_ratio': float,\n",
    "            'matching_rsid_ratio': float,\n",
    "            'matching_pmids_index': float,\n",
    "            'matching_rsid_pmid10' : str,\n",
    "            'matching_rsid_pmid100': str,\n",
    "            'matching_top10mesh': str,\n",
    "            'matching_top10rsid': str\n",
    "            }\n",
    "        dataframe = dataframe.astype(data_types)\n",
    "        globals()[name] = dataframe\n",
    "        repo_int_list.append(dataframe)\n",
    "        #print(name,'df loaded')\n",
    "\n",
    "if replace_all:\n",
    "    print('interest values added to all GRPM reports')\n",
    "else:\n",
    "    print('all stored GRPM report with interest values loaded')\n",
    "\n",
    "if False:\n",
    "    for repo in repo_int_list:\n",
    "        repo.drop(['starting_pmidmesh', 'starting_pmid','starting_mesh', 'starting_rsid'],axis=1, inplace=True)\n",
    "\n",
    "#-------------------------------\n",
    "#Sort for interest index\n",
    "print('\\nSorting GRPMX reports by interest index...')\n",
    "\n",
    "def sortby_int(df):\n",
    "    df_int_sort = df.sort_values(by='interest_index',ascending=False).reset_index(drop=True)\n",
    "    return df_int_sort\n",
    "\n",
    "repo_int_sort_name = [term + '_sort' for term in report_int_names]\n",
    "repo_int_sort_name = repo_int_sort_name[first:last]\n",
    "master_df['repo_int_sort_list'] = repo_int_sort_name\n",
    "\n",
    "repo_int_sort_list = []\n",
    "for directory, name, repo in zip(directories, repo_int_sort_name, repo_int_list):\n",
    "    dataframe = sortby_int(repo)\n",
    "    globals()[name] = dataframe\n",
    "    repo_int_sort_list.append(dataframe)\n",
    "    #print(name,'df sorted')\n",
    "    \n",
    "print('all reports sorted by interest index')\n",
    "print('\\nAll reports:')\n",
    "for i in range(len(directories[:survey_l])):\n",
    "    name = master_df.tag.iloc[i]\n",
    "    print(name.ljust(10), ' genes:', ('{:,.0f}'.format(grpm_out_list[i].gene.nunique())).ljust(10),'max int_value:', repo_int_sort_list[i].interest_value.max() )\n",
    "\n",
    "master_df.T"
   ]
  },
  {
   "cell_type": "code",
   "execution_count": null,
   "metadata": {
    "collapsed": false
   },
   "outputs": [],
   "source": [
    "n = 0\n",
    "repo_int_sort_list[n].loc[:,['gene','interest_value']]"
   ]
  },
  {
   "cell_type": "code",
   "execution_count": 18,
   "metadata": {
    "ExecuteTime": {
     "end_time": "2024-06-06T13:07:40.674136Z",
     "start_time": "2024-06-06T13:07:40.507622500Z"
    }
   },
   "outputs": [
    {
     "name": "stdout",
     "output_type": "stream",
     "text": [
      "Equivalence table:\n",
      " interest index vs interest value threshold\n",
      "\n",
      "Corresponding interest index to int_value:\n",
      "\n",
      "int_value threshold = 0.0055\n",
      "nutri       int index: 0.0113\n",
      "ob_bmi      int index: 0.00711\n",
      "dmt2_ms     int index: 0.01004\n",
      "cvd         int index: 0.01116\n",
      "vitam       int index: 0.01197\n",
      "eat_taste   int index: 0.01521\n",
      "intol       int index: 0.02561\n",
      "aller       int index: 0.03053\n",
      "oxi_stress  int index: 0.00939\n",
      "xeno        int index: 0.00634\n",
      "01          int index: 0.00761\n",
      "02          int index: 0.01641\n",
      "03          int index: 0.00832\n",
      "04          int index: 0.00835\n",
      "05          int index: 0.00771\n",
      "06          int index: 0.01062\n",
      "07          int index: 0.00558\n",
      "08          int index: 0.01444\n",
      "09          int index: 0.00942\n",
      "00          int index: 0.01392\n",
      "norep1      int index: 0.01046\n",
      "norep2      int index: 0.00672\n",
      "norep3      int index: 0.01703\n",
      "norep4      int index: 0.01107\n",
      "norep5      int index: 0.01375\n",
      "norep6      int index: 0.01644\n",
      "norep7      int index: 0.02169\n",
      "norep8      int index: 0.01757\n",
      "norep9      int index: 0.01798\n",
      "norep10     int index: 0.0127\n",
      "norep11     int index: 0.00897\n",
      "\n",
      "Converting threshold on Interest Index (mean) = 0.0128\n",
      "\n",
      "Report for grpm_surveys/grpm_survey_pcg_nutri:\n"
     ]
    },
    {
     "data": {
      "text/plain": "         gene  interest_value  interest_index  reference_mesh  \\\n0         FTO         0.48662         1.00000             603   \n1       MTHFR         0.41000         0.84255             603   \n2         VDR         0.38171         0.78441             603   \n3      TCF7L2         0.37986         0.78061             603   \n4         HFE         0.36189         0.74368             603   \n...       ...             ...             ...             ...   \n15514  RAB33B         0.00000         0.00000             603   \n15515    PUS7         0.00000         0.00000             603   \n15516  LRRC32         0.00000         0.00000             603   \n15517  PRODH2         0.00000         0.00000             603   \n15518    TNS4         0.00000         0.00000             603   \n\n       starting_pmidmesh  starting_pmid  starting_mesh  starting_rsid  \\\n0                  22089           1508           2041            335   \n1                  76291           5406           4762            191   \n2                  16115           1130           1957            195   \n3                  17303           1204           1727            177   \n4                  26032           1759           2484             70   \n...                  ...            ...            ...            ...   \n15514                 58              5             43              7   \n15515                 58              4             42              4   \n15516                183             12            116             17   \n15517                 10              1             10              2   \n15518                 19              1             19              1   \n\n       matching_pmids_index  matching_pmidmesh  ...  dropped_rsid  \\\n0                   0.57588               3529  ...            36   \n1                   1.00000               4149  ...            75   \n2                   0.44128               2131  ...             9   \n3                   0.45438               2469  ...            44   \n4                   0.53613               1681  ...            21   \n...                     ...                ...  ...           ...   \n15514               0.00000                  0  ...             7   \n15515               0.00000                  0  ...             4   \n15516               0.00000                  0  ...            17   \n15517               0.00000                  0  ...             2   \n15518               0.00000                  0  ...             1   \n\n       matching_mesh_ratio  matching_mesh_ref_ratio  matching_pmids_ratio  \\\n0                    0.092                  0.31012                 0.845   \n1                    0.044                  0.34494                 0.410   \n2                    0.064                  0.20896                 0.865   \n3                    0.090                  0.25705                 0.836   \n4                    0.047                  0.19403                 0.675   \n...                    ...                      ...                   ...   \n15514                0.000                  0.00000                 0.000   \n15515                0.000                  0.00000                 0.000   \n15516                0.000                  0.00000                 0.000   \n15517                0.000                  0.00000                 0.000   \n15518                0.000                  0.00000                 0.000   \n\n       matching_pmidmesh_ratio  matching_rsid_ratio  matching_rsid_pmid10  \\\n0                        0.160                0.893                    30   \n1                        0.054                0.607                     6   \n2                        0.132                0.954                    40   \n3                        0.143                0.751                    11   \n4                        0.065                0.700                     3   \n...                        ...                  ...                   ...   \n15514                    0.000                0.000                     0   \n15515                    0.000                0.000                     0   \n15516                    0.000                0.000                     0   \n15517                    0.000                0.000                     0   \n15518                    0.000                0.000                     0   \n\n       matching_rsid_pmid100  \\\n0                          4   \n1                          2   \n2                          4   \n3                          3   \n4                          3   \n...                      ...   \n15514                      0   \n15515                      0   \n15516                      0   \n15517                      0   \n15518                      0   \n\n                                      matching_top10mesh  \\\n0      ['Obesity', 'Body Mass Index', 'Diabetes Melli...   \n1      ['Folic Acid', 'Dietary Supplements', 'Hyperte...   \n2      ['Receptors, Calcitriol', 'Vitamin D', 'Vitami...   \n3      ['Diabetes Mellitus, Type 2', 'Blood Glucose',...   \n4      ['Hemochromatosis', 'Diabetes Mellitus, Type 2...   \n...                                                  ...   \n15514                                                 []   \n15515                                                 []   \n15516                                                 []   \n15517                                                 []   \n15518                                                 []   \n\n                                      matching_top10rsid  \n0      ['rs9939609', 'rs8050136', 'rs1421085', 'rs155...  \n1      ['rs1801133', 'rs1801131', 'rs2274976', 'rs173...  \n2      ['rs2228570', 'rs1544410', 'rs731236', 'rs7975...  \n3      ['rs7903146', 'rs12255372', 'rs7901695', 'rs45...  \n4      ['rs1800562', 'rs1799945', 'rs1800730', 'rs289...  \n...                                                  ...  \n15514                                                 []  \n15515                                                 []  \n15516                                                 []  \n15517                                                 []  \n15518                                                 []  \n\n[15519 rows x 23 columns]",
      "text/html": "<div>\n<style scoped>\n    .dataframe tbody tr th:only-of-type {\n        vertical-align: middle;\n    }\n\n    .dataframe tbody tr th {\n        vertical-align: top;\n    }\n\n    .dataframe thead th {\n        text-align: right;\n    }\n</style>\n<table border=\"1\" class=\"dataframe\">\n  <thead>\n    <tr style=\"text-align: right;\">\n      <th></th>\n      <th>gene</th>\n      <th>interest_value</th>\n      <th>interest_index</th>\n      <th>reference_mesh</th>\n      <th>starting_pmidmesh</th>\n      <th>starting_pmid</th>\n      <th>starting_mesh</th>\n      <th>starting_rsid</th>\n      <th>matching_pmids_index</th>\n      <th>matching_pmidmesh</th>\n      <th>...</th>\n      <th>dropped_rsid</th>\n      <th>matching_mesh_ratio</th>\n      <th>matching_mesh_ref_ratio</th>\n      <th>matching_pmids_ratio</th>\n      <th>matching_pmidmesh_ratio</th>\n      <th>matching_rsid_ratio</th>\n      <th>matching_rsid_pmid10</th>\n      <th>matching_rsid_pmid100</th>\n      <th>matching_top10mesh</th>\n      <th>matching_top10rsid</th>\n    </tr>\n  </thead>\n  <tbody>\n    <tr>\n      <th>0</th>\n      <td>FTO</td>\n      <td>0.48662</td>\n      <td>1.00000</td>\n      <td>603</td>\n      <td>22089</td>\n      <td>1508</td>\n      <td>2041</td>\n      <td>335</td>\n      <td>0.57588</td>\n      <td>3529</td>\n      <td>...</td>\n      <td>36</td>\n      <td>0.092</td>\n      <td>0.31012</td>\n      <td>0.845</td>\n      <td>0.160</td>\n      <td>0.893</td>\n      <td>30</td>\n      <td>4</td>\n      <td>['Obesity', 'Body Mass Index', 'Diabetes Melli...</td>\n      <td>['rs9939609', 'rs8050136', 'rs1421085', 'rs155...</td>\n    </tr>\n    <tr>\n      <th>1</th>\n      <td>MTHFR</td>\n      <td>0.41000</td>\n      <td>0.84255</td>\n      <td>603</td>\n      <td>76291</td>\n      <td>5406</td>\n      <td>4762</td>\n      <td>191</td>\n      <td>1.00000</td>\n      <td>4149</td>\n      <td>...</td>\n      <td>75</td>\n      <td>0.044</td>\n      <td>0.34494</td>\n      <td>0.410</td>\n      <td>0.054</td>\n      <td>0.607</td>\n      <td>6</td>\n      <td>2</td>\n      <td>['Folic Acid', 'Dietary Supplements', 'Hyperte...</td>\n      <td>['rs1801133', 'rs1801131', 'rs2274976', 'rs173...</td>\n    </tr>\n    <tr>\n      <th>2</th>\n      <td>VDR</td>\n      <td>0.38171</td>\n      <td>0.78441</td>\n      <td>603</td>\n      <td>16115</td>\n      <td>1130</td>\n      <td>1957</td>\n      <td>195</td>\n      <td>0.44128</td>\n      <td>2131</td>\n      <td>...</td>\n      <td>9</td>\n      <td>0.064</td>\n      <td>0.20896</td>\n      <td>0.865</td>\n      <td>0.132</td>\n      <td>0.954</td>\n      <td>40</td>\n      <td>4</td>\n      <td>['Receptors, Calcitriol', 'Vitamin D', 'Vitami...</td>\n      <td>['rs2228570', 'rs1544410', 'rs731236', 'rs7975...</td>\n    </tr>\n    <tr>\n      <th>3</th>\n      <td>TCF7L2</td>\n      <td>0.37986</td>\n      <td>0.78061</td>\n      <td>603</td>\n      <td>17303</td>\n      <td>1204</td>\n      <td>1727</td>\n      <td>177</td>\n      <td>0.45438</td>\n      <td>2469</td>\n      <td>...</td>\n      <td>44</td>\n      <td>0.090</td>\n      <td>0.25705</td>\n      <td>0.836</td>\n      <td>0.143</td>\n      <td>0.751</td>\n      <td>11</td>\n      <td>3</td>\n      <td>['Diabetes Mellitus, Type 2', 'Blood Glucose',...</td>\n      <td>['rs7903146', 'rs12255372', 'rs7901695', 'rs45...</td>\n    </tr>\n    <tr>\n      <th>4</th>\n      <td>HFE</td>\n      <td>0.36189</td>\n      <td>0.74368</td>\n      <td>603</td>\n      <td>26032</td>\n      <td>1759</td>\n      <td>2484</td>\n      <td>70</td>\n      <td>0.53613</td>\n      <td>1681</td>\n      <td>...</td>\n      <td>21</td>\n      <td>0.047</td>\n      <td>0.19403</td>\n      <td>0.675</td>\n      <td>0.065</td>\n      <td>0.700</td>\n      <td>3</td>\n      <td>3</td>\n      <td>['Hemochromatosis', 'Diabetes Mellitus, Type 2...</td>\n      <td>['rs1800562', 'rs1799945', 'rs1800730', 'rs289...</td>\n    </tr>\n    <tr>\n      <th>...</th>\n      <td>...</td>\n      <td>...</td>\n      <td>...</td>\n      <td>...</td>\n      <td>...</td>\n      <td>...</td>\n      <td>...</td>\n      <td>...</td>\n      <td>...</td>\n      <td>...</td>\n      <td>...</td>\n      <td>...</td>\n      <td>...</td>\n      <td>...</td>\n      <td>...</td>\n      <td>...</td>\n      <td>...</td>\n      <td>...</td>\n      <td>...</td>\n      <td>...</td>\n      <td>...</td>\n    </tr>\n    <tr>\n      <th>15514</th>\n      <td>RAB33B</td>\n      <td>0.00000</td>\n      <td>0.00000</td>\n      <td>603</td>\n      <td>58</td>\n      <td>5</td>\n      <td>43</td>\n      <td>7</td>\n      <td>0.00000</td>\n      <td>0</td>\n      <td>...</td>\n      <td>7</td>\n      <td>0.000</td>\n      <td>0.00000</td>\n      <td>0.000</td>\n      <td>0.000</td>\n      <td>0.000</td>\n      <td>0</td>\n      <td>0</td>\n      <td>[]</td>\n      <td>[]</td>\n    </tr>\n    <tr>\n      <th>15515</th>\n      <td>PUS7</td>\n      <td>0.00000</td>\n      <td>0.00000</td>\n      <td>603</td>\n      <td>58</td>\n      <td>4</td>\n      <td>42</td>\n      <td>4</td>\n      <td>0.00000</td>\n      <td>0</td>\n      <td>...</td>\n      <td>4</td>\n      <td>0.000</td>\n      <td>0.00000</td>\n      <td>0.000</td>\n      <td>0.000</td>\n      <td>0.000</td>\n      <td>0</td>\n      <td>0</td>\n      <td>[]</td>\n      <td>[]</td>\n    </tr>\n    <tr>\n      <th>15516</th>\n      <td>LRRC32</td>\n      <td>0.00000</td>\n      <td>0.00000</td>\n      <td>603</td>\n      <td>183</td>\n      <td>12</td>\n      <td>116</td>\n      <td>17</td>\n      <td>0.00000</td>\n      <td>0</td>\n      <td>...</td>\n      <td>17</td>\n      <td>0.000</td>\n      <td>0.00000</td>\n      <td>0.000</td>\n      <td>0.000</td>\n      <td>0.000</td>\n      <td>0</td>\n      <td>0</td>\n      <td>[]</td>\n      <td>[]</td>\n    </tr>\n    <tr>\n      <th>15517</th>\n      <td>PRODH2</td>\n      <td>0.00000</td>\n      <td>0.00000</td>\n      <td>603</td>\n      <td>10</td>\n      <td>1</td>\n      <td>10</td>\n      <td>2</td>\n      <td>0.00000</td>\n      <td>0</td>\n      <td>...</td>\n      <td>2</td>\n      <td>0.000</td>\n      <td>0.00000</td>\n      <td>0.000</td>\n      <td>0.000</td>\n      <td>0.000</td>\n      <td>0</td>\n      <td>0</td>\n      <td>[]</td>\n      <td>[]</td>\n    </tr>\n    <tr>\n      <th>15518</th>\n      <td>TNS4</td>\n      <td>0.00000</td>\n      <td>0.00000</td>\n      <td>603</td>\n      <td>19</td>\n      <td>1</td>\n      <td>19</td>\n      <td>1</td>\n      <td>0.00000</td>\n      <td>0</td>\n      <td>...</td>\n      <td>1</td>\n      <td>0.000</td>\n      <td>0.00000</td>\n      <td>0.000</td>\n      <td>0.000</td>\n      <td>0.000</td>\n      <td>0</td>\n      <td>0</td>\n      <td>[]</td>\n      <td>[]</td>\n    </tr>\n  </tbody>\n</table>\n<p>15519 rows × 23 columns</p>\n</div>"
     },
     "execution_count": 18,
     "metadata": {},
     "output_type": "execute_result"
    }
   ],
   "source": [
    "# Defining interest_index threshold:\n",
    "int_val_threshold = 0.0055 # empirically defined\n",
    "\n",
    "print('Equivalence table:\\n interest index vs interest value threshold')\n",
    "print('\\nCorresponding interest index to int_value:')\n",
    "print('\\nint_value threshold =', int_val_threshold)\n",
    "list_obj = []\n",
    "for i, repo in enumerate(repo_int_sort_list) :\n",
    "    if 'survey' in master_df.directories.iloc[i]:\n",
    "        list_obj.append(repo[repo.interest_value>=int_val_threshold].interest_index.min())\n",
    "        name = master_df.tag.iloc[i]\n",
    "        print(name.ljust(10),' int index:', repo[repo.interest_value>=int_val_threshold].interest_index.min())\n",
    "print('\\nConverting threshold on Interest Index (mean) =', round(pd.Series(list_obj).mean(), 4))\n",
    "\n",
    "#check repo\n",
    "print(f'\\nReport for {directories[0]}:')\n",
    "repo_int_sort_list[0]"
   ]
  },
  {
   "cell_type": "markdown",
   "metadata": {},
   "source": [
    "## Data visualization"
   ]
  },
  {
   "cell_type": "code",
   "execution_count": null,
   "metadata": {
    "collapsed": false
   },
   "outputs": [],
   "source": [
    "print('select list indexes for visualization:')\n",
    "master_df_ref"
   ]
  },
  {
   "cell_type": "code",
   "execution_count": null,
   "metadata": {
    "collapsed": false
   },
   "outputs": [],
   "source": [
    "# Choose indexes from master_df\n",
    "choose = input('Survey indexes (1,3,4 etc):')\n",
    "indexes = [int(num) for num in choose.split(',')]\n",
    "\n",
    "sort_by = 'interest_index' # or 'interest_value'\n",
    "value1 = 'matching_mesh' #'matching_mesh_ref_ratio'\n",
    "value2 = 'matching_pmids_index' #'matching_pmids'\n",
    "value3 = 'interest_index'\n",
    "valueratio = 'matching_pmids_ratio'\n",
    "\n",
    "gene_l = 50 # number of gene to visualize\n",
    "plot_meshpmid = simple_bool('Choose plot:\\ny -> [MeSH,PMID] \\nn -> [PMIDid,PMIDratio,GI sort]\\n')\n",
    "show_ratio = True\n",
    "plt_interest = True\n",
    "if plot_meshpmid:\n",
    "    show_ratio = False\n",
    "    plt_interest = False\n",
    "\n",
    "save_plot = simple_bool('Save plot?')\n",
    "short_label = simple_bool('use short title and labels?')\n",
    "\n",
    "#-----------------------------------------\n",
    "\n",
    "for i in indexes:\n",
    "    GRPMX_report_s = repo_int_list[int(i)].sort_values(by= sort_by,ascending = False).reset_index(drop=True)\n",
    "\n",
    "    x =  GRPMX_report_s['gene'][:gene_l]\n",
    "    y =  GRPMX_report_s[value1][:gene_l]/GRPMX_report_s[value1].max()#[:gene_l].max()\n",
    "    y2 = GRPMX_report_s[value2][:gene_l]#/GRPMX_report_s[value2][:gene_l].max()\n",
    "    y3 = GRPMX_report_s[value3][:gene_l]/GRPMX_report_s[value3][:gene_l].max()\n",
    "    yratio = GRPMX_report_s[valueratio][:gene_l]\n",
    "\n",
    "    plt.figure(figsize=( gene_l*0.2, gene_l*0.1))\n",
    "\n",
    "    label2 = 'Pm score'\n",
    "    label3 = 'Pm ratio'\n",
    "    if show_ratio:\n",
    "        plt.bar(x, yratio, width=0.5, label=label3, color='green', alpha=0.5, edgecolor='black', linewidth=1)\n",
    "        value1 = valueratio\n",
    "    else:\n",
    "        if value1 == 'matching_mesh': label1 = 'Relative MeSH richness'\n",
    "        label2 = 'Relative PMID richness'\n",
    "        plt.bar(x, y, width=1, label=label1, color='blue', alpha=0.7, edgecolor='black', linewidth=1)\n",
    "\n",
    "    plt.bar(x, y2, width=0.5, label=label2, color='orange', alpha=0.9, edgecolor='black', linewidth=1)\n",
    "\n",
    "    if short_label:\n",
    "        title = 'Top '+str(gene_l)+' genes in \"'+master_df.label.iloc[i]\n",
    "    else:\n",
    "        title = 'Top '+str(gene_l)+' genes in \"'+master_df.label.iloc[i]+'\"\\nvalues: '+value1+' , '+value2+'\\nsorted by: '+sort_by\n",
    "        title = 'Top '+str(gene_l)+' genes in \"Obesity, Weight Control and Compulsive Eating\"'\n",
    "        if not plot_meshpmid:\n",
    "            plt.ylabel('Pm ratio\\n  Pm score')\n",
    "\n",
    "    plt.title(title)\n",
    "    plt.xticks(rotation=90)\n",
    "    plt.legend()\n",
    "    plt.tight_layout()  # Ensures all labels and ticks are visible\n",
    "\n",
    "    print('\\nReport extract from:', master_df.label[i])\n",
    "    print('Show gene relative enrichement for: \"'+value1+'\" and \"'+value2+'\"')\n",
    "    print(' sorted by:',sort_by)\n",
    "    if save_plot: plt.savefig('F1_'+str(i)+'.png', dpi=300)\n",
    "    plt.show()\n",
    "\n",
    "    if plt_interest:\n",
    "        plt.figure(figsize=( gene_l*0.2, gene_l*0.06))\n",
    "        plt.bar(x, y3, width=0.5, label='Gene Interest Index', color='magenta', alpha=0.5, edgecolor='black', linewidth=1)\n",
    "        plt.ylabel('GI')\n",
    "        #plt.title('Top '+str(gene_l)+' genes in \"'+master_df.label.iloc[i]+'\"\\nvalues: '+value3+'\\nsorted by: '+sort_by)\n",
    "        plt.xticks(rotation=90)\n",
    "        plt.legend()\n",
    "        plt.tight_layout()  # Ensures all labels and ticks are visible\n",
    "        plt.show()\n",
    "        pyperclip.copy(title)"
   ]
  },
  {
   "cell_type": "code",
   "execution_count": null,
   "metadata": {
    "collapsed": false
   },
   "outputs": [],
   "source": [
    "master_df_ref"
   ]
  },
  {
   "cell_type": "markdown",
   "metadata": {},
   "source": [
    "## overview over top interesting genes"
   ]
  },
  {
   "cell_type": "code",
   "execution_count": null,
   "metadata": {
    "collapsed": false
   },
   "outputs": [],
   "source": [
    "#overview over top interesting genes: -------------\n",
    "gene_l = 20\n",
    "dff = pd.DataFrame()\n",
    "for repo, dir in zip(repo_int_sort_list[:survey_l],directories[:survey_l]):\n",
    "    dff[dir.replace('grpm_survey_pcg_','')] = repo.gene[:gene_l]\n",
    "print('quick overview on top',gene_l,'genes on survey reports')\n",
    "dff"
   ]
  },
  {
   "cell_type": "code",
   "execution_count": null,
   "metadata": {
    "collapsed": false
   },
   "outputs": [],
   "source": [
    "# show mesh richness for seleceted gene\n",
    "list_n = 2 # choose list from master_df\n",
    "gene = 4 # choose gene from above\n",
    "gene = grpm_out_list[list_n].gene.drop_duplicates().iloc[gene]\n",
    "from_l = master_df.label[list_n] if custom_labels else master_df.tags[list_n]\n",
    "#gene = 'APOE' # otherwise insert HuGO\n",
    "\n",
    "print('From survey: \"'+from_l+'\"')\n",
    "print(gene, 'mesh richness table:')\n",
    "temp_gene_mesh = grpm_out_list[list_n][grpm_out_list[list_n]['gene']==gene].groupby(by='mesh').describe()\n",
    "temp_gene_mesh[[\n",
    "('pmids', 'unique'),\n",
    "('pmids',    'top'),\n",
    "('pmids',   'freq'),\n",
    "( 'rsid', 'unique'),\n",
    "( 'rsid',    'top'),\n",
    "( 'rsid',   'freq')\n",
    "]].sort_values(by = ('pmids', 'unique'), ascending = False)"
   ]
  },
  {
   "cell_type": "markdown",
   "metadata": {},
   "source": [
    "## sort GRPM data by gene interest index order"
   ]
  },
  {
   "cell_type": "markdown",
   "metadata": {},
   "source": [
    "### batch sort:"
   ]
  },
  {
   "cell_type": "code",
   "execution_count": null,
   "metadata": {
    "collapsed": false
   },
   "outputs": [],
   "source": [
    "#### add interest index to grpm_out_list genes and sort it\n",
    "grpm_out_int_sort = []\n",
    "timea = datetime.now()\n",
    "for grpm, i  in zip(grpm_out_list, range(len(grpm_out_list))):\n",
    "    ## grpm [gene, interstr index] to merge wit grpmx output\n",
    "    #print('add interest index to grpmx_output', directories[dir1])\n",
    "    small_dummy = repo_int_sort_list[i][['gene','interest_index']]\n",
    "\n",
    "    #grpmx_out_merge = pd.merge(grpmx_out_1, small_dummy, left_on='gene', right_on='gene')\n",
    "    grpmx_out_merge_sort = pd.merge(grpm, small_dummy,\n",
    "                                    left_on='gene',right_on='gene').sort_values(\n",
    "                                            by=['interest_index','rsid'],\n",
    "                                            ascending =False).reset_index(drop=True)\n",
    "    grpm_out_int_sort.append(grpmx_out_merge_sort)\n",
    "print('runtime:',datetime.now()-timea)\n",
    "print('runtime:',datetime.now()-timea)\n",
    "\n",
    "print('Displaing:',master_df[taglabel][1], 'sorted for gene interest index')\n",
    "grpm_out_int_sort[1]"
   ]
  },
  {
   "cell_type": "markdown",
   "metadata": {},
   "source": [
    "### single sort (alternative method for low RAM systems)"
   ]
  },
  {
   "cell_type": "code",
   "execution_count": null,
   "metadata": {
    "collapsed": false
   },
   "outputs": [],
   "source": [
    "# Sort GRPM data with gene interest index order:\n",
    "n = list_n  # choode index from master_df\n",
    "timea = datetime.now()\n",
    "# Step 1: Extract the column values from df2 in the desired order\n",
    "desired_order = repo_int_sort_list[n]['gene'].values.tolist()\n",
    "\n",
    "# Step 2: Create a temporary column in df1 with corresponding order values\n",
    "grpm_out_list[n]['temp_order'] = grpm_out_list[n]['gene'].map(lambda x: desired_order.index(x) if x in desired_order else -1)\n",
    "\n",
    "# Step 3: Sort df1 based on the temporary column\n",
    "grpm_out_list[n] = grpm_out_list[n].sort_values('temp_order')\n",
    "\n",
    "# Step 4: Remove the temporary column from df1\n",
    "grpm_out_list[n] = grpm_out_list[n].drop('temp_order', axis=1)\n",
    "\n",
    "print('sort done in:', datetime.now()-timea, 'seconds')\n",
    "grpm_out_list[n]"
   ]
  },
  {
   "cell_type": "markdown",
   "metadata": {},
   "source": [
    "# Analyze GRPMX Report Data"
   ]
  },
  {
   "cell_type": "markdown",
   "metadata": {},
   "source": [
    "## Create Stats datasheet\n",
    "[Reports + GRPM data]"
   ]
  },
  {
   "cell_type": "code",
   "execution_count": null,
   "metadata": {},
   "outputs": [],
   "source": [
    "pyperclip.copy(repo_int_sort_list[0][['gene','interest_index','matching_pmids','matching_mesh','matching_mesh_ref_ratio','reference_mesh']].to_csv()) # send to Excel"
   ]
  },
  {
   "cell_type": "code",
   "execution_count": 22,
   "metadata": {
    "ExecuteTime": {
     "end_time": "2024-06-06T14:07:38.276907400Z",
     "start_time": "2024-06-06T14:07:30.512886900Z"
    }
   },
   "outputs": [
    {
     "name": "stdout",
     "output_type": "stream",
     "text": [
      "Survey datasheet - gene mean values for 15519 protein coding genes:\n"
     ]
    },
    {
     "data": {
      "text/plain": "                                                label         short_labels  \\\n0                                   General Nutrition        Gen Nutrition   \n1       Obesity, Weight Control and Compulsive Eating     Obesity & Weight   \n2    Diabetes Mellitus Type II and Metabolic Syndrome     Diabetes Type II   \n3          Cardiovascular Health and Lipid Metabolism  Cardiovascular Hlth   \n4   Vitamin and Micronutrients Metabolism and Defi...  Vitamins & Minerals   \n5                 Eating Behavior and Taste Sensation      Eating Behavior   \n6                                   Food Intolerances    Food Intolerances   \n7                                      Food Allergies       Food Allergies   \n8                       Diet-induced Oxidative Stress     Oxidative Stress   \n9                              Xenobiotics Metabolism    Xenobiotics Metab   \n10                                             random               random   \n11                                             random               random   \n12                                             random               random   \n13                                             random               random   \n14                                             random               random   \n15                                             random               random   \n16                                             random               random   \n17                                             random               random   \n18                                             random               random   \n19                                             random               random   \n20                                             random               random   \n21                                             random               random   \n22                                             random               random   \n23                                             random               random   \n24                                             random               random   \n25                                             random               random   \n26                                             random               random   \n27                                             random               random   \n28                                             random               random   \n29                                             random               random   \n30                                             random               random   \n\n           tag  int_ind_mean  int_val_mean  int_val_max  mesh_mean  \\\n0        nutri        0.0036        0.0018       0.4866       6.18   \n1       ob_bmi        0.0017        0.0013       0.7737       3.82   \n2      dmt2_ms        0.0034        0.0019       0.5500       4.93   \n3          cvd        0.0052        0.0026       0.4929       7.62   \n4        vitam        0.0006        0.0003       0.4638       0.81   \n5    eat_taste        0.0011        0.0004       0.3616       1.34   \n6        intol        0.0020        0.0004       0.2148       0.61   \n7        aller        0.0026        0.0005       0.1804       0.83   \n8   oxi_stress        0.0005        0.0003       0.5910       0.99   \n9         xeno        0.0011        0.0009       0.8680       1.79   \n10          01        0.0029        0.0021       0.7230       3.67   \n11          02        0.0045        0.0015       0.3352       4.06   \n12          03        0.0011        0.0007       0.6610       2.82   \n13          04        0.0050        0.0033       0.6586       3.97   \n14          05        0.0049        0.0035       0.7130       4.33   \n15          06        0.0053        0.0027       0.5190       3.81   \n16          07        0.0063        0.0062       0.9880       3.91   \n17          08        0.0049        0.0019       0.3810       3.05   \n18          09        0.0024        0.0014       0.5840       2.95   \n19          00        0.0051        0.0020       0.3951       3.77   \n20      norep1        0.0014        0.0007       0.5270       3.72   \n21      norep2        0.0017        0.0014       0.8180       3.90   \n22      norep3        0.0045        0.0014       0.3230       3.73   \n23      norep4        0.0055        0.0027       0.4970       4.12   \n24      norep5        0.0039        0.0016       0.4000       3.44   \n25      norep6        0.0064        0.0021       0.3346       3.75   \n26      norep7        0.0080        0.0020       0.2540       3.61   \n27      norep8        0.0073        0.0023       0.3130       3.87   \n28      norep9        0.0041        0.0013       0.3060       3.10   \n29     norep10        0.0047        0.0020       0.4330       3.70   \n30     norep11        0.0030        0.0019       0.6132       3.51   \n\n    mesh_ref_ratio_mean  pmids_mean  pmids_ratio_mean  grpm_genes  grpm_rsids  \\\n0                0.0103        9.12              0.23       11560       83288   \n1                0.0157        5.48              0.14        9713       53879   \n2                0.0154        7.48              0.18       10717       68844   \n3                0.0144       11.70              0.28       12368      105598   \n4                0.0046        1.54              0.03        4045       16857   \n5                0.0046        1.78              0.04        5525       20607   \n6                0.0042        1.04              0.03        4040       14117   \n7                0.0128        1.51              0.04        4681       16777   \n8                0.0129        2.41              0.04        5156       20919   \n9                0.0105        3.36              0.07        7115       35686   \n10               0.0081       11.21              0.31       12972      136437   \n11               0.0090        8.61              0.26       12676      107668   \n12               0.0063        5.73              0.17       11182       73932   \n13               0.0088       15.50              0.44       14128      158253   \n14               0.0096       21.41              0.59       14863      213068   \n15               0.0085       15.82              0.41       13997      160321   \n16               0.0087       34.47              0.95       15491      290733   \n17               0.0068       10.89              0.28       12851      117519   \n18               0.0066        5.90              0.16       11045       67202   \n19               0.0084        9.71              0.26       12583      116666   \n20               0.0084        7.46              0.23       12423       96918   \n21               0.0088        8.72              0.24       12479      105409   \n22               0.0084        8.63              0.24       12437      114488   \n23               0.0093       15.24              0.44       14266      160638   \n24               0.0077       10.00              0.26       12545      110650   \n25               0.0084        9.01              0.27       12886      117067   \n26               0.0081        9.24              0.25       12419      115583   \n27               0.0087       11.06              0.31       13166      131242   \n28               0.0070        5.98              0.16       10992       73230   \n29               0.0083       11.21              0.30       12812      144411   \n30               0.0079       10.75              0.27       12541      108598   \n\n    grpm_pmids  grpm_meshs  \n0        62473         413  \n1        35563         243  \n2        49896         319  \n3        85065         528  \n4        11941         175  \n5        13734         292  \n6         7416         145  \n7        11032          65  \n8        19295          77  \n9        27237         170  \n10       93049         450  \n11       68592         450  \n12       40569         450  \n13       93155         450  \n14      148434         450  \n15      108394         450  \n16      242120         450  \n17       76038         450  \n18       44131         450  \n19       69713         450  \n20       57715         444  \n21       64209         444  \n22       62015         444  \n23       93838         444  \n24       69849         444  \n25       60307         444  \n26       69657         444  \n27       82505         444  \n28       44699         444  \n29       93451         444  \n30       94316         444  ",
      "text/html": "<div>\n<style scoped>\n    .dataframe tbody tr th:only-of-type {\n        vertical-align: middle;\n    }\n\n    .dataframe tbody tr th {\n        vertical-align: top;\n    }\n\n    .dataframe thead th {\n        text-align: right;\n    }\n</style>\n<table border=\"1\" class=\"dataframe\">\n  <thead>\n    <tr style=\"text-align: right;\">\n      <th></th>\n      <th>label</th>\n      <th>short_labels</th>\n      <th>tag</th>\n      <th>int_ind_mean</th>\n      <th>int_val_mean</th>\n      <th>int_val_max</th>\n      <th>mesh_mean</th>\n      <th>mesh_ref_ratio_mean</th>\n      <th>pmids_mean</th>\n      <th>pmids_ratio_mean</th>\n      <th>grpm_genes</th>\n      <th>grpm_rsids</th>\n      <th>grpm_pmids</th>\n      <th>grpm_meshs</th>\n    </tr>\n  </thead>\n  <tbody>\n    <tr>\n      <th>0</th>\n      <td>General Nutrition</td>\n      <td>Gen Nutrition</td>\n      <td>nutri</td>\n      <td>0.0036</td>\n      <td>0.0018</td>\n      <td>0.4866</td>\n      <td>6.18</td>\n      <td>0.0103</td>\n      <td>9.12</td>\n      <td>0.23</td>\n      <td>11560</td>\n      <td>83288</td>\n      <td>62473</td>\n      <td>413</td>\n    </tr>\n    <tr>\n      <th>1</th>\n      <td>Obesity, Weight Control and Compulsive Eating</td>\n      <td>Obesity &amp; Weight</td>\n      <td>ob_bmi</td>\n      <td>0.0017</td>\n      <td>0.0013</td>\n      <td>0.7737</td>\n      <td>3.82</td>\n      <td>0.0157</td>\n      <td>5.48</td>\n      <td>0.14</td>\n      <td>9713</td>\n      <td>53879</td>\n      <td>35563</td>\n      <td>243</td>\n    </tr>\n    <tr>\n      <th>2</th>\n      <td>Diabetes Mellitus Type II and Metabolic Syndrome</td>\n      <td>Diabetes Type II</td>\n      <td>dmt2_ms</td>\n      <td>0.0034</td>\n      <td>0.0019</td>\n      <td>0.5500</td>\n      <td>4.93</td>\n      <td>0.0154</td>\n      <td>7.48</td>\n      <td>0.18</td>\n      <td>10717</td>\n      <td>68844</td>\n      <td>49896</td>\n      <td>319</td>\n    </tr>\n    <tr>\n      <th>3</th>\n      <td>Cardiovascular Health and Lipid Metabolism</td>\n      <td>Cardiovascular Hlth</td>\n      <td>cvd</td>\n      <td>0.0052</td>\n      <td>0.0026</td>\n      <td>0.4929</td>\n      <td>7.62</td>\n      <td>0.0144</td>\n      <td>11.70</td>\n      <td>0.28</td>\n      <td>12368</td>\n      <td>105598</td>\n      <td>85065</td>\n      <td>528</td>\n    </tr>\n    <tr>\n      <th>4</th>\n      <td>Vitamin and Micronutrients Metabolism and Defi...</td>\n      <td>Vitamins &amp; Minerals</td>\n      <td>vitam</td>\n      <td>0.0006</td>\n      <td>0.0003</td>\n      <td>0.4638</td>\n      <td>0.81</td>\n      <td>0.0046</td>\n      <td>1.54</td>\n      <td>0.03</td>\n      <td>4045</td>\n      <td>16857</td>\n      <td>11941</td>\n      <td>175</td>\n    </tr>\n    <tr>\n      <th>5</th>\n      <td>Eating Behavior and Taste Sensation</td>\n      <td>Eating Behavior</td>\n      <td>eat_taste</td>\n      <td>0.0011</td>\n      <td>0.0004</td>\n      <td>0.3616</td>\n      <td>1.34</td>\n      <td>0.0046</td>\n      <td>1.78</td>\n      <td>0.04</td>\n      <td>5525</td>\n      <td>20607</td>\n      <td>13734</td>\n      <td>292</td>\n    </tr>\n    <tr>\n      <th>6</th>\n      <td>Food Intolerances</td>\n      <td>Food Intolerances</td>\n      <td>intol</td>\n      <td>0.0020</td>\n      <td>0.0004</td>\n      <td>0.2148</td>\n      <td>0.61</td>\n      <td>0.0042</td>\n      <td>1.04</td>\n      <td>0.03</td>\n      <td>4040</td>\n      <td>14117</td>\n      <td>7416</td>\n      <td>145</td>\n    </tr>\n    <tr>\n      <th>7</th>\n      <td>Food Allergies</td>\n      <td>Food Allergies</td>\n      <td>aller</td>\n      <td>0.0026</td>\n      <td>0.0005</td>\n      <td>0.1804</td>\n      <td>0.83</td>\n      <td>0.0128</td>\n      <td>1.51</td>\n      <td>0.04</td>\n      <td>4681</td>\n      <td>16777</td>\n      <td>11032</td>\n      <td>65</td>\n    </tr>\n    <tr>\n      <th>8</th>\n      <td>Diet-induced Oxidative Stress</td>\n      <td>Oxidative Stress</td>\n      <td>oxi_stress</td>\n      <td>0.0005</td>\n      <td>0.0003</td>\n      <td>0.5910</td>\n      <td>0.99</td>\n      <td>0.0129</td>\n      <td>2.41</td>\n      <td>0.04</td>\n      <td>5156</td>\n      <td>20919</td>\n      <td>19295</td>\n      <td>77</td>\n    </tr>\n    <tr>\n      <th>9</th>\n      <td>Xenobiotics Metabolism</td>\n      <td>Xenobiotics Metab</td>\n      <td>xeno</td>\n      <td>0.0011</td>\n      <td>0.0009</td>\n      <td>0.8680</td>\n      <td>1.79</td>\n      <td>0.0105</td>\n      <td>3.36</td>\n      <td>0.07</td>\n      <td>7115</td>\n      <td>35686</td>\n      <td>27237</td>\n      <td>170</td>\n    </tr>\n    <tr>\n      <th>10</th>\n      <td>random</td>\n      <td>random</td>\n      <td>01</td>\n      <td>0.0029</td>\n      <td>0.0021</td>\n      <td>0.7230</td>\n      <td>3.67</td>\n      <td>0.0081</td>\n      <td>11.21</td>\n      <td>0.31</td>\n      <td>12972</td>\n      <td>136437</td>\n      <td>93049</td>\n      <td>450</td>\n    </tr>\n    <tr>\n      <th>11</th>\n      <td>random</td>\n      <td>random</td>\n      <td>02</td>\n      <td>0.0045</td>\n      <td>0.0015</td>\n      <td>0.3352</td>\n      <td>4.06</td>\n      <td>0.0090</td>\n      <td>8.61</td>\n      <td>0.26</td>\n      <td>12676</td>\n      <td>107668</td>\n      <td>68592</td>\n      <td>450</td>\n    </tr>\n    <tr>\n      <th>12</th>\n      <td>random</td>\n      <td>random</td>\n      <td>03</td>\n      <td>0.0011</td>\n      <td>0.0007</td>\n      <td>0.6610</td>\n      <td>2.82</td>\n      <td>0.0063</td>\n      <td>5.73</td>\n      <td>0.17</td>\n      <td>11182</td>\n      <td>73932</td>\n      <td>40569</td>\n      <td>450</td>\n    </tr>\n    <tr>\n      <th>13</th>\n      <td>random</td>\n      <td>random</td>\n      <td>04</td>\n      <td>0.0050</td>\n      <td>0.0033</td>\n      <td>0.6586</td>\n      <td>3.97</td>\n      <td>0.0088</td>\n      <td>15.50</td>\n      <td>0.44</td>\n      <td>14128</td>\n      <td>158253</td>\n      <td>93155</td>\n      <td>450</td>\n    </tr>\n    <tr>\n      <th>14</th>\n      <td>random</td>\n      <td>random</td>\n      <td>05</td>\n      <td>0.0049</td>\n      <td>0.0035</td>\n      <td>0.7130</td>\n      <td>4.33</td>\n      <td>0.0096</td>\n      <td>21.41</td>\n      <td>0.59</td>\n      <td>14863</td>\n      <td>213068</td>\n      <td>148434</td>\n      <td>450</td>\n    </tr>\n    <tr>\n      <th>15</th>\n      <td>random</td>\n      <td>random</td>\n      <td>06</td>\n      <td>0.0053</td>\n      <td>0.0027</td>\n      <td>0.5190</td>\n      <td>3.81</td>\n      <td>0.0085</td>\n      <td>15.82</td>\n      <td>0.41</td>\n      <td>13997</td>\n      <td>160321</td>\n      <td>108394</td>\n      <td>450</td>\n    </tr>\n    <tr>\n      <th>16</th>\n      <td>random</td>\n      <td>random</td>\n      <td>07</td>\n      <td>0.0063</td>\n      <td>0.0062</td>\n      <td>0.9880</td>\n      <td>3.91</td>\n      <td>0.0087</td>\n      <td>34.47</td>\n      <td>0.95</td>\n      <td>15491</td>\n      <td>290733</td>\n      <td>242120</td>\n      <td>450</td>\n    </tr>\n    <tr>\n      <th>17</th>\n      <td>random</td>\n      <td>random</td>\n      <td>08</td>\n      <td>0.0049</td>\n      <td>0.0019</td>\n      <td>0.3810</td>\n      <td>3.05</td>\n      <td>0.0068</td>\n      <td>10.89</td>\n      <td>0.28</td>\n      <td>12851</td>\n      <td>117519</td>\n      <td>76038</td>\n      <td>450</td>\n    </tr>\n    <tr>\n      <th>18</th>\n      <td>random</td>\n      <td>random</td>\n      <td>09</td>\n      <td>0.0024</td>\n      <td>0.0014</td>\n      <td>0.5840</td>\n      <td>2.95</td>\n      <td>0.0066</td>\n      <td>5.90</td>\n      <td>0.16</td>\n      <td>11045</td>\n      <td>67202</td>\n      <td>44131</td>\n      <td>450</td>\n    </tr>\n    <tr>\n      <th>19</th>\n      <td>random</td>\n      <td>random</td>\n      <td>00</td>\n      <td>0.0051</td>\n      <td>0.0020</td>\n      <td>0.3951</td>\n      <td>3.77</td>\n      <td>0.0084</td>\n      <td>9.71</td>\n      <td>0.26</td>\n      <td>12583</td>\n      <td>116666</td>\n      <td>69713</td>\n      <td>450</td>\n    </tr>\n    <tr>\n      <th>20</th>\n      <td>random</td>\n      <td>random</td>\n      <td>norep1</td>\n      <td>0.0014</td>\n      <td>0.0007</td>\n      <td>0.5270</td>\n      <td>3.72</td>\n      <td>0.0084</td>\n      <td>7.46</td>\n      <td>0.23</td>\n      <td>12423</td>\n      <td>96918</td>\n      <td>57715</td>\n      <td>444</td>\n    </tr>\n    <tr>\n      <th>21</th>\n      <td>random</td>\n      <td>random</td>\n      <td>norep2</td>\n      <td>0.0017</td>\n      <td>0.0014</td>\n      <td>0.8180</td>\n      <td>3.90</td>\n      <td>0.0088</td>\n      <td>8.72</td>\n      <td>0.24</td>\n      <td>12479</td>\n      <td>105409</td>\n      <td>64209</td>\n      <td>444</td>\n    </tr>\n    <tr>\n      <th>22</th>\n      <td>random</td>\n      <td>random</td>\n      <td>norep3</td>\n      <td>0.0045</td>\n      <td>0.0014</td>\n      <td>0.3230</td>\n      <td>3.73</td>\n      <td>0.0084</td>\n      <td>8.63</td>\n      <td>0.24</td>\n      <td>12437</td>\n      <td>114488</td>\n      <td>62015</td>\n      <td>444</td>\n    </tr>\n    <tr>\n      <th>23</th>\n      <td>random</td>\n      <td>random</td>\n      <td>norep4</td>\n      <td>0.0055</td>\n      <td>0.0027</td>\n      <td>0.4970</td>\n      <td>4.12</td>\n      <td>0.0093</td>\n      <td>15.24</td>\n      <td>0.44</td>\n      <td>14266</td>\n      <td>160638</td>\n      <td>93838</td>\n      <td>444</td>\n    </tr>\n    <tr>\n      <th>24</th>\n      <td>random</td>\n      <td>random</td>\n      <td>norep5</td>\n      <td>0.0039</td>\n      <td>0.0016</td>\n      <td>0.4000</td>\n      <td>3.44</td>\n      <td>0.0077</td>\n      <td>10.00</td>\n      <td>0.26</td>\n      <td>12545</td>\n      <td>110650</td>\n      <td>69849</td>\n      <td>444</td>\n    </tr>\n    <tr>\n      <th>25</th>\n      <td>random</td>\n      <td>random</td>\n      <td>norep6</td>\n      <td>0.0064</td>\n      <td>0.0021</td>\n      <td>0.3346</td>\n      <td>3.75</td>\n      <td>0.0084</td>\n      <td>9.01</td>\n      <td>0.27</td>\n      <td>12886</td>\n      <td>117067</td>\n      <td>60307</td>\n      <td>444</td>\n    </tr>\n    <tr>\n      <th>26</th>\n      <td>random</td>\n      <td>random</td>\n      <td>norep7</td>\n      <td>0.0080</td>\n      <td>0.0020</td>\n      <td>0.2540</td>\n      <td>3.61</td>\n      <td>0.0081</td>\n      <td>9.24</td>\n      <td>0.25</td>\n      <td>12419</td>\n      <td>115583</td>\n      <td>69657</td>\n      <td>444</td>\n    </tr>\n    <tr>\n      <th>27</th>\n      <td>random</td>\n      <td>random</td>\n      <td>norep8</td>\n      <td>0.0073</td>\n      <td>0.0023</td>\n      <td>0.3130</td>\n      <td>3.87</td>\n      <td>0.0087</td>\n      <td>11.06</td>\n      <td>0.31</td>\n      <td>13166</td>\n      <td>131242</td>\n      <td>82505</td>\n      <td>444</td>\n    </tr>\n    <tr>\n      <th>28</th>\n      <td>random</td>\n      <td>random</td>\n      <td>norep9</td>\n      <td>0.0041</td>\n      <td>0.0013</td>\n      <td>0.3060</td>\n      <td>3.10</td>\n      <td>0.0070</td>\n      <td>5.98</td>\n      <td>0.16</td>\n      <td>10992</td>\n      <td>73230</td>\n      <td>44699</td>\n      <td>444</td>\n    </tr>\n    <tr>\n      <th>29</th>\n      <td>random</td>\n      <td>random</td>\n      <td>norep10</td>\n      <td>0.0047</td>\n      <td>0.0020</td>\n      <td>0.4330</td>\n      <td>3.70</td>\n      <td>0.0083</td>\n      <td>11.21</td>\n      <td>0.30</td>\n      <td>12812</td>\n      <td>144411</td>\n      <td>93451</td>\n      <td>444</td>\n    </tr>\n    <tr>\n      <th>30</th>\n      <td>random</td>\n      <td>random</td>\n      <td>norep11</td>\n      <td>0.0030</td>\n      <td>0.0019</td>\n      <td>0.6132</td>\n      <td>3.51</td>\n      <td>0.0079</td>\n      <td>10.75</td>\n      <td>0.27</td>\n      <td>12541</td>\n      <td>108598</td>\n      <td>94316</td>\n      <td>444</td>\n    </tr>\n  </tbody>\n</table>\n</div>"
     },
     "execution_count": 22,
     "metadata": {},
     "output_type": "execute_result"
    }
   ],
   "source": [
    "#Create global stat datasheet-----------------------------------------\n",
    "f_gene, l_gen2 = 0, len(repo_list[0]) # <== set gene-range before\n",
    "add_label = True\n",
    "cifr = 2 #decimal\n",
    "\n",
    "def roundby(x):\n",
    "    return round(x, cifr+2)\n",
    "\n",
    "#set values to include:\n",
    "value_1 = 'interest_index'\n",
    "value_y = 'interest_value'\n",
    "value_2 = 'matching_mesh'\n",
    "value_x = 'matching_mesh_ref_ratio'\n",
    "value_3 = 'matching_pmids'\n",
    "value_4 = 'matching_pmids_ratio'\n",
    "out_1 = 'gene'\n",
    "out_r = 'rsid'\n",
    "out_2 = 'pmids'\n",
    "out_3 = 'mesh'\n",
    "\n",
    "# define function:\n",
    "def make_stat_df():\n",
    "    comp_df_stat_all = pd.DataFrame({'tag':master_df['tag'],\n",
    "                                     'int_ind_mean'       :0.0,\n",
    "                                     'int_val_mean'       :0.0,\n",
    "                                     'int_val_max'        :0.0,\n",
    "                                     'mesh_mean'          :0.0,\n",
    "                                     'mesh_ref_ratio_mean':0.0,\n",
    "                                     'pmids_mean'         :0.0,\n",
    "                                     'pmids_ratio_mean'   :0.0,\n",
    "                                     'grpm_genes'         :0.0,\n",
    "                                     'grpm_rsids'         :0.0,\n",
    "                                     'grpm_pmids'         :0.0,\n",
    "                                     'grpm_meshs'         :0.0 })\n",
    "\n",
    "    if add_label and custom_labels:\n",
    "        comp_df_stat_all['label'] = master_df['label']\n",
    "        comp_df_stat_all['short_labels'] = master_df['short_labels']\n",
    "        comp_df_stat_all = comp_df_stat_all.reindex(columns=['label', 'short_labels'] + list(comp_df_stat_all.columns[:-2]))\n",
    "\n",
    "    for i in range(len(comp_df_stat_all)):\n",
    "        repost = repo_int_sort_list[i]\n",
    "        grpm_out = grpm_out_list[i]\n",
    "        comp_df_stat_all.loc[i,'int_ind_mean'] = roundby(repost[value_1].iloc[f_gene:l_gen2].mean())\n",
    "        comp_df_stat_all.loc[i,'int_val_mean'] = roundby(repost[value_y].iloc[f_gene:l_gen2].mean())\n",
    "        comp_df_stat_all.loc[i,'int_val_max' ] = roundby(repost[value_y].iloc[f_gene:l_gen2].max())\n",
    "        comp_df_stat_all.loc[i,'mesh_mean'] = round(repost[value_2].iloc[f_gene:l_gen2].mean(), cifr)\n",
    "        comp_df_stat_all.loc[i,'mesh_ref_ratio_mean'] = roundby(repost[value_x].iloc[f_gene:l_gen2].mean())\n",
    "        comp_df_stat_all.loc[i,'pmids_mean'] = round(repost[value_3].iloc[f_gene:l_gen2].mean(), cifr)\n",
    "        comp_df_stat_all.loc[i,'pmids_ratio_mean'] = round(repost[value_4].iloc[f_gene:l_gen2].mean(), cifr)\n",
    "        comp_df_stat_all.loc[i,'grpm_genes'] = grpm_out[out_1].nunique()\n",
    "        comp_df_stat_all.loc[i,'grpm_rsids'] = grpm_out[out_r].nunique()\n",
    "        comp_df_stat_all.loc[i,'grpm_pmids'] = grpm_out[out_2].nunique()\n",
    "        comp_df_stat_all.loc[i,'grpm_meshs'] = grpm_out[out_3].nunique()\n",
    "\n",
    "    columns_to_convert = ['grpm_genes',\n",
    "                          'grpm_rsids',\n",
    "                          'grpm_pmids',\n",
    "                          'grpm_meshs']\n",
    "    comp_df_stat_all[columns_to_convert] = comp_df_stat_all[columns_to_convert].astype(int)\n",
    "\n",
    "\n",
    "    return comp_df_stat_all\n",
    "\n",
    "comp_df_stat_all = make_stat_df()\n",
    "\n",
    "print('Survey datasheet - gene mean values for',l_gen2,('protein coding genes:' if db_tag == 'pcg' else 'genes:'))\n",
    "comp_df_stat_all#.to_clipboard()"
   ]
  },
  {
   "cell_type": "code",
   "outputs": [
    {
     "name": "stdout",
     "output_type": "stream",
     "text": [
      "Mean: 0.0017774193548387098\n",
      "Max: 0.988\n"
     ]
    }
   ],
   "source": [
    "# Calculate metrics\n",
    "metrics_mean = comp_df_stat_all.int_val_mean.mean()\n",
    "max_value = comp_df_stat_all.int_val_max.max()\n",
    "#min_value = comp_df_stat_all.int_val_min.min()\n",
    "\n",
    "# Print metrics\n",
    "print(f\"Mean: {metrics_mean}\")\n",
    "print(f\"Max: {max_value}\")\n",
    "#print(f\"Min: {min_value}\")"
   ],
   "metadata": {
    "collapsed": false,
    "ExecuteTime": {
     "end_time": "2024-06-06T14:14:48.385159800Z",
     "start_time": "2024-06-06T14:14:48.043726800Z"
    }
   },
   "execution_count": 29
  },
  {
   "cell_type": "code",
   "execution_count": 20,
   "metadata": {
    "collapsed": false,
    "ExecuteTime": {
     "end_time": "2024-06-06T14:06:25.283254900Z",
     "start_time": "2024-06-06T14:06:16.238376Z"
    }
   },
   "outputs": [
    {
     "ename": "NameError",
     "evalue": "name 'comp_df_stat_all' is not defined",
     "output_type": "error",
     "traceback": [
      "\u001B[1;31m---------------------------------------------------------------------------\u001B[0m",
      "\u001B[1;31mNameError\u001B[0m                                 Traceback (most recent call last)",
      "Cell \u001B[1;32mIn[20], line 12\u001B[0m\n\u001B[0;32m     10\u001B[0m         new_row_dict[column] \u001B[38;5;241m=\u001B[39m mean_values[column]\n\u001B[0;32m     11\u001B[0m     comp_df_stat_all \u001B[38;5;241m=\u001B[39m pd\u001B[38;5;241m.\u001B[39mconcat([comp_df_stat_all, pd\u001B[38;5;241m.\u001B[39mDataFrame(new_row_dict, index\u001B[38;5;241m=\u001B[39m[\u001B[38;5;241m0\u001B[39m])], ignore_index\u001B[38;5;241m=\u001B[39m\u001B[38;5;28;01mTrue\u001B[39;00m)\n\u001B[1;32m---> 12\u001B[0m comp_df_stat_all\n",
      "\u001B[1;31mNameError\u001B[0m: name 'comp_df_stat_all' is not defined"
     ]
    }
   ],
   "source": [
    "# random means\n",
    "# add random means?\n",
    "if simple_bool('add random mean?\\n if yes, careful, possible Error: out of index down after'):\n",
    "    mean_values = comp_df_stat_all.iloc[survey_l:survey_l+random_l].mean()\n",
    "    list_col = ['int_ind_mean', 'int_val_mean', 'int_val_max', 'mesh_mean',\n",
    "                'mesh_ref_ratio_mean', 'pmids_mean', 'pmids_ratio_mean', 'grpm_genes',\n",
    "                'grpm_rsids', 'grpm_pmids', 'grpm_meshs']\n",
    "    new_row_dict = {'label' : 'random cluster','short_labels' : 'random cluster','tag' : 'random cluster'}\n",
    "    for column in list_col:\n",
    "        new_row_dict[column] = mean_values[column]\n",
    "    comp_df_stat_all = pd.concat([comp_df_stat_all, pd.DataFrame(new_row_dict, index=[0])], ignore_index=True)\n",
    "comp_df_stat_all"
   ]
  },
  {
   "cell_type": "code",
   "execution_count": null,
   "metadata": {
    "collapsed": false
   },
   "outputs": [],
   "source": [
    "#Create partial stat datasheet-----------------------------------------\n",
    "f_gene, l_gen2 = 0, 200 # <== set gene-range before\n",
    "add_label = False\n",
    "cifr = 2 #decimal\n",
    "\n",
    "comp_df_stat = make_stat_df()\n",
    "print('Survey datasheet - gene mean values for InterestIndex Top',l_gen2,'genes')\n",
    "comp_df_stat#.to_csv('nutri+neuro+17random.csv')"
   ]
  },
  {
   "cell_type": "markdown",
   "metadata": {},
   "source": [
    "## Calculate percentile95"
   ]
  },
  {
   "cell_type": "code",
   "outputs": [
    {
     "data": {
      "text/plain": "0        1.00000\n1        0.84255\n2        0.78441\n3        0.78061\n4        0.74368\n          ...   \n15514    0.00000\n15515    0.00000\n15516    0.00000\n15517    0.00000\n15518    0.00000\nName: interest_index, Length: 15519, dtype: float64"
     },
     "execution_count": 33,
     "metadata": {},
     "output_type": "execute_result"
    }
   ],
   "source": [
    "repo_int_sort_list[0]['interest_index']"
   ],
   "metadata": {
    "collapsed": false,
    "ExecuteTime": {
     "end_time": "2024-06-06T14:16:49.266035700Z",
     "start_time": "2024-06-06T14:16:49.020212500Z"
    }
   },
   "execution_count": 33
  },
  {
   "cell_type": "code",
   "execution_count": 62,
   "metadata": {
    "ExecuteTime": {
     "end_time": "2024-06-06T14:35:44.042143500Z",
     "start_time": "2024-06-06T14:35:43.760227900Z"
    }
   },
   "outputs": [
    {
     "name": "stdout",
     "output_type": "stream",
     "text": [
      "95th mean: 0.0125\n",
      "This value can be emplyed as GI threshold\n"
     ]
    }
   ],
   "source": [
    "# Assuming repo_int_sort_list is a list of dictionaries with 'interest_index' as a key\n",
    "perc = []\n",
    "\n",
    "for repo in repo_int_sort_list:\n",
    "    data = repo['interest_index']\n",
    "    percentile_95 = np.percentile(data, 95)\n",
    "    perc.append(round(percentile_95, 5))\n",
    "    #print(\"95th percentile:\", round(percentile_95, 5))\n",
    "    \n",
    "mean_value = sum(perc) / len(perc)\n",
    "print('95th mean:', round(mean_value, 4))\n",
    "print('This value can be employed as GI threshold')"
   ]
  },
  {
   "cell_type": "code",
   "execution_count": 56,
   "metadata": {
    "ExecuteTime": {
     "end_time": "2024-06-06T14:24:21.907998200Z",
     "start_time": "2024-06-06T14:24:21.707904700Z"
    }
   },
   "outputs": [
    {
     "name": "stdout",
     "output_type": "stream",
     "text": [
      "grpm_surveys/nutri int_index 95 quantile: 0.01044\n",
      "grpm_surveys/ob_bmi int_index 95 quantile: 0.0042\n",
      "grpm_surveys/dmt2_ms int_index 95 quantile: 0.00895\n",
      "grpm_surveys/cvd int_index 95 quantile: 0.01624\n",
      "grpm_surveys/vitam int_index 95 quantile: 0.00047\n",
      "grpm_surveys/eat_taste int_index 95 quantile: 0.00274\n",
      "grpm_surveys/intol int_index 95 quantile: 0.00559\n",
      "grpm_surveys/aller int_index 95 quantile: 0.00654\n",
      "grpm_surveys/oxi_stress int_index 95 quantile: 0.00068\n",
      "grpm_surveys/xeno int_index 95 quantile: 0.00192\n",
      "grpm_surveys/random_01 int_index 95 quantile: 0.00992\n",
      "grpm_surveys/random_02 int_index 95 quantile: 0.01545\n",
      "grpm_surveys/random_03 int_index 95 quantile: 0.00346\n",
      "grpm_surveys/random_04 int_index 95 quantile: 0.01754\n",
      "grpm_surveys/random_05 int_index 95 quantile: 0.01722\n",
      "grpm_surveys/random_06 int_index 95 quantile: 0.01836\n",
      "grpm_surveys/random_07 int_index 95 quantile: 0.02274\n",
      "grpm_surveys/random_08 int_index 95 quantile: 0.01661\n",
      "grpm_surveys/random_09 int_index 95 quantile: 0.00736\n",
      "grpm_surveys/random_00 int_index 95 quantile: 0.0184\n",
      "grpm_surveys/random_norep1 int_index 95 quantile: 0.00455\n",
      "grpm_surveys/random_norep2 int_index 95 quantile: 0.00578\n",
      "grpm_surveys/random_norep3 int_index 95 quantile: 0.01595\n",
      "grpm_surveys/random_norep4 int_index 95 quantile: 0.0201\n",
      "grpm_surveys/random_norep5 int_index 95 quantile: 0.01412\n",
      "grpm_surveys/random_norep6 int_index 95 quantile: 0.02403\n",
      "grpm_surveys/random_norep7 int_index 95 quantile: 0.03055\n",
      "grpm_surveys/random_norep8 int_index 95 quantile: 0.02859\n",
      "grpm_surveys/random_norep9 int_index 95 quantile: 0.01262\n",
      "grpm_surveys/random_norep10 int_index 95 quantile: 0.01746\n",
      "grpm_surveys/random_norep11 int_index 95 quantile: 0.0098\n",
      "\n",
      "grpm data filtered for 95 percentile for \" Obesity, Weight Control and Compulsive Eating \":\n",
      "  genes total: 9713\n",
      "  genes 95: 776\n"
     ]
    },
    {
     "data": {
      "text/plain": "            gene         rsid     pmids                       mesh\n45        MT-ND1  rs111033358  33468709  Diabetes Mellitus, Type 2\n51        MT-ND1  rs111033358  33468709                    Insulin\n52        MT-ND1  rs111033358  33468709         Insulin Resistance\n1262      MT-ND1    rs1599988  28693754                Weight Gain\n1281      MT-ND1   rs28358585  28693754                Weight Gain\n...          ...          ...       ...                        ...\n16607389   CXCL8  rs572157399  23769592                  Body Size\n16607392   CXCL8  rs572157399  23769592  Diabetes Mellitus, Type 2\n16607396   CXCL8  rs572157399  23769592               Inflammation\n16607398   CXCL8  rs572157399  23769592                    Obesity\n16607466   CXCL8  rs763440988  25757111               Inflammation\n\n[152843 rows x 4 columns]",
      "text/html": "<div>\n<style scoped>\n    .dataframe tbody tr th:only-of-type {\n        vertical-align: middle;\n    }\n\n    .dataframe tbody tr th {\n        vertical-align: top;\n    }\n\n    .dataframe thead th {\n        text-align: right;\n    }\n</style>\n<table border=\"1\" class=\"dataframe\">\n  <thead>\n    <tr style=\"text-align: right;\">\n      <th></th>\n      <th>gene</th>\n      <th>rsid</th>\n      <th>pmids</th>\n      <th>mesh</th>\n    </tr>\n  </thead>\n  <tbody>\n    <tr>\n      <th>45</th>\n      <td>MT-ND1</td>\n      <td>rs111033358</td>\n      <td>33468709</td>\n      <td>Diabetes Mellitus, Type 2</td>\n    </tr>\n    <tr>\n      <th>51</th>\n      <td>MT-ND1</td>\n      <td>rs111033358</td>\n      <td>33468709</td>\n      <td>Insulin</td>\n    </tr>\n    <tr>\n      <th>52</th>\n      <td>MT-ND1</td>\n      <td>rs111033358</td>\n      <td>33468709</td>\n      <td>Insulin Resistance</td>\n    </tr>\n    <tr>\n      <th>1262</th>\n      <td>MT-ND1</td>\n      <td>rs1599988</td>\n      <td>28693754</td>\n      <td>Weight Gain</td>\n    </tr>\n    <tr>\n      <th>1281</th>\n      <td>MT-ND1</td>\n      <td>rs28358585</td>\n      <td>28693754</td>\n      <td>Weight Gain</td>\n    </tr>\n    <tr>\n      <th>...</th>\n      <td>...</td>\n      <td>...</td>\n      <td>...</td>\n      <td>...</td>\n    </tr>\n    <tr>\n      <th>16607389</th>\n      <td>CXCL8</td>\n      <td>rs572157399</td>\n      <td>23769592</td>\n      <td>Body Size</td>\n    </tr>\n    <tr>\n      <th>16607392</th>\n      <td>CXCL8</td>\n      <td>rs572157399</td>\n      <td>23769592</td>\n      <td>Diabetes Mellitus, Type 2</td>\n    </tr>\n    <tr>\n      <th>16607396</th>\n      <td>CXCL8</td>\n      <td>rs572157399</td>\n      <td>23769592</td>\n      <td>Inflammation</td>\n    </tr>\n    <tr>\n      <th>16607398</th>\n      <td>CXCL8</td>\n      <td>rs572157399</td>\n      <td>23769592</td>\n      <td>Obesity</td>\n    </tr>\n    <tr>\n      <th>16607466</th>\n      <td>CXCL8</td>\n      <td>rs763440988</td>\n      <td>25757111</td>\n      <td>Inflammation</td>\n    </tr>\n  </tbody>\n</table>\n<p>152843 rows × 4 columns</p>\n</div>"
     },
     "execution_count": 56,
     "metadata": {},
     "output_type": "execute_result"
    }
   ],
   "source": [
    "#Filter grpmx output for quantile 0.95 (trial)\n",
    "\n",
    "for i in range(len(directories)):\n",
    "    string = master_df.directories.iloc[i]\n",
    "    print(\n",
    "        (string.replace('grpm_survey_pcg_','').replace('grpm_random/grpm_random_pcg','random')).ljust(15),\n",
    "        ('int_index 95 quantile:').ljust(22),\n",
    "        round(repo_int_sort_list[i].interest_index.quantile(0.95),5)\n",
    "    )\n",
    "\n",
    "#load my GRPMx Data\n",
    "dir = 1\n",
    "df_grpmx = grpm_out_list[dir]#pd.read_csv(directories[dir]+'/grpmx_filtered_output.csv', index_col=0)\n",
    "df_grpmx_repo = repo_int_sort_list[dir]#pd.read_csv(directories[dir]+'/GRPMX_report_int.csv')\n",
    "\n",
    "#filter for 0.95 quantile\n",
    "df_grpmx_repo_95 = df_grpmx_repo[df_grpmx_repo.interest_index >= df_grpmx_repo.interest_index.quantile(0.95)]\n",
    "df_grpmx_95 = df_grpmx[df_grpmx.gene.isin(df_grpmx_repo_95.gene)]\n",
    "\n",
    "print('\\ngrpm data filtered for 95 percentile for \"',master_df.label[dir],'\":')\n",
    "print('  genes total:', df_grpmx.gene.nunique())\n",
    "print('  genes 95:', df_grpmx_95.gene.nunique())\n",
    "df_grpmx_95"
   ]
  },
  {
   "cell_type": "markdown",
   "metadata": {},
   "source": [
    "## Add percetile95 to Stat-datasheet"
   ]
  },
  {
   "cell_type": "code",
   "execution_count": null,
   "metadata": {},
   "outputs": [],
   "source": [
    "# add quantile95 to comp_df_stat_all\n",
    "for i in range(len(comp_df_stat_all)):\n",
    "    repo = repo_int_sort_list[i]\n",
    "    grpm_out = grpm_out_list[i]\n",
    "    percentile95 = repo.interest_index.quantile(0.95)\n",
    "\n",
    "    comp_df_stat_all.loc[i, 'percentile_95'] = percentile95\n",
    "    dummy = repo[repo.interest_index >= percentile95]\n",
    "    comp_df_stat_all.loc[i, 'genes_95'] = len(dummy)\n",
    "    comp_df_stat_all.loc[i, 'int_min_95'] = dummy.interest_index.min()\n",
    "\n",
    "comp_df_stat_all['genes_95'] = comp_df_stat_all['genes_95'].astype(int)\n",
    "comp_df_stat_all[['tag','percentile_95','genes_95', 'int_min_95']]\n",
    "#memo: threshold should be based on interest index not percentile\n",
    "#comp_df_stat_all.to_csv('report_df.csv', index=0)"
   ]
  },
  {
   "cell_type": "code",
   "execution_count": null,
   "metadata": {},
   "outputs": [],
   "source": [
    "if False:\n",
    "    pd.Series(directories)[pd.Series(directories).str.contains('survey')]\n",
    "    directories[:survey_l]"
   ]
  },
  {
   "cell_type": "markdown",
   "metadata": {},
   "source": [
    "### Survey Density Rugged Plot with quantile95"
   ]
  },
  {
   "cell_type": "code",
   "execution_count": 57,
   "metadata": {
    "ExecuteTime": {
     "end_time": "2024-06-06T14:26:13.765935400Z",
     "start_time": "2024-06-06T14:26:10.103359500Z"
    }
   },
   "outputs": [
    {
     "name": "stdout",
     "output_type": "stream",
     "text": [
      "GRPMX interest index plot:  survey\n"
     ]
    },
    {
     "data": {
      "text/plain": "<Figure size 1000x400 with 1 Axes>",
      "image/png": "[encoded data removed]"
     },
     "metadata": {},
     "output_type": "display_data"
    }
   ],
   "source": [
    "f_gene, l_gene = 200, 15500 # set gene-range for survey_l\n",
    "log_scale = False\n",
    "\n",
    "color_labels = ['red', 'green', 'blue', 'cyan', 'magenta', 'yellow', 'black', '#D2B48C', '#A52A2A', '#800080']\n",
    "color_labels = color_labels[:survey_l]\n",
    "max_y = 0\n",
    "plt.figure(figsize=(10, 4))\n",
    "for n, i, col in zip(range(survey_l),\n",
    "                     directories[:survey_l],\n",
    "                     color_labels):\n",
    "    dat = repo_int_sort_list[n].interest_index.iloc[f_gene:l_gene]\n",
    "\n",
    "    sns.set_style('whitegrid')\n",
    "    sns.kdeplot(np.array(dat), color = col, bw_method=0.5)\n",
    "    sns.rugplot(np.array(dat), color = col, label=directories[n])\n",
    "    # Add vertical line for the 95th percentile\n",
    "    percentile_95 = dat.quantile(0.95)\n",
    "    plt.axvline(x = percentile_95, color= col, linestyle='--')#, label='95th percentile')\n",
    "\n",
    "    #density = sns.kdeplot(np.array(dat)).get_lines()[0].get_data()\n",
    "    #if max(density[1]) > max_y:\n",
    "    #    max_y = max(density[1])\n",
    "\n",
    "#plt.yscale('log')\n",
    "plt.title('GRPMX interest index plot: survey, gene range ['+str(f_gene)+':'+str(l_gene)+']')\n",
    "plt.xlim(0)\n",
    "plt.ylim(0, 30)\n",
    "if log_scale:\n",
    "    plt.yscale('log')\n",
    "plt.legend()\n",
    "print('GRPMX interest index plot:',' survey')#, directories[n])\n",
    "plt.show()"
   ]
  },
  {
   "cell_type": "code",
   "execution_count": null,
   "metadata": {},
   "outputs": [],
   "source": [
    "print('Statistics:')\n",
    "f_gene, l_gen2 = 0, len(repo_list[0])\n",
    "for i in range(len(directories)):\n",
    "    repost = repo_int_sort_list[i]\n",
    "    grpm_out = grpm_out_list[i]\n",
    "\n",
    "    dir = master_df.directories[i]\n",
    "    print(dir   ,'- int_index mean:',round(repost.interest_index.iloc[first:last].mean(), 6))\n",
    "#GRPMX_report_int_7_sort.gene"
   ]
  },
  {
   "cell_type": "code",
   "execution_count": null,
   "metadata": {},
   "outputs": [],
   "source": [
    "#Sort for interest index -------------\n",
    "gene_l = 10\n",
    "dff = pd.DataFrame()\n",
    "for repo, dir in zip(repo_int_sort_list[:survey_l],directories[:survey_l]):\n",
    "    dff[dir.replace('grpm_survey_pcg_','')] = repo.gene[:gene_l]\n",
    "print('quick overview on top',gene_l,'genes on survey reports')\n",
    "dff"
   ]
  },
  {
   "cell_type": "markdown",
   "metadata": {},
   "source": [
    "## Density plot: GRPMX repo"
   ]
  },
  {
   "cell_type": "code",
   "execution_count": null,
   "metadata": {},
   "outputs": [],
   "source": [
    "repo_int_sort_list[1][repo_int_sort_list[1].interest_index >= 0.0055]\n",
    "master_df_ref"
   ]
  },
  {
   "cell_type": "code",
   "execution_count": null,
   "metadata": {},
   "outputs": [],
   "source": [
    "## Survey Density Rugged Plot\n",
    "# set gene range:\n",
    "f_gene, l_gene = 200, 15500#, 20000\n",
    "f_gene, l_gene = 0, 1000#, 20000\n",
    "\n",
    "#set interest threshold\n",
    "int_val_thershold = None #0.005 # interest value\n",
    "int_ind_thershold = 0.0136 # interest index\n",
    "log_scale = True\n",
    "if 'survey_l' not in globals():\n",
    "    survey_l = len(pd.Series(directories)[pd.Series(directories).str.contains('survey')])\n",
    "\n",
    "datas_names = ['data_'] * 10\n",
    "datas_names = [string + str(i+1) for i, string in enumerate(datas_names)]\n",
    "\n",
    "datas = []\n",
    "for name, repo in zip(datas_names,\n",
    "                      repo_int_sort_list):\n",
    "    dataframe = repo.interest_index.iloc[f_gene:l_gene]\n",
    "    globals()[name] = dataframe\n",
    "    datas.append(dataframe)\n",
    "\n",
    "color_labels = ['red', 'green', 'blue', 'cyan', 'magenta', 'yellow', 'black', '#D2B48C', '#A52A2A', '#800080']\n",
    "color_labels = color_labels[0:survey_l]\n",
    "start, end = 0, survey_l\n",
    "\n",
    "plt.figure(figsize=(10, 4))\n",
    "#plot randoms in grey\n",
    "for dat in datas[survey_l+1:]:\n",
    "    sns.set_style('whitegrid')\n",
    "    sns.kdeplot(np.array(dat), bw_method=0.5, color='#808080')\n",
    "    sns.rugplot(np.array(dat), color='#808080')\n",
    "\n",
    "import re\n",
    "def replace_after_and(string):\n",
    "    pattern = r'and.*$'\n",
    "    if string == 'Vitamin and Micronutrients Metabolism and Deficiency-Related Diseases':\n",
    "        replaced_string = 'Vitamins and Micronutrients'\n",
    "    else:\n",
    "        replaced_string = re.sub(pattern, '', string)\n",
    "    return replaced_string\n",
    "\n",
    "#plot survey above in color\n",
    "for dat, col, tag  in zip(datas[0:survey_l],\n",
    "                          color_labels,\n",
    "                          master_df.label[0:survey_l]):\n",
    "    sns.set_style('whitegrid')\n",
    "    sns.kdeplot(np.array(dat), bw_method=0.5, color=col, label= replace_after_and(tag) )\n",
    "    sns.rugplot(np.array(dat), color=col)\n",
    "\n",
    "if int_val_thershold is not None:\n",
    "    plt.axvline(x = int_val_thershold, color= 'red', linestyle='--', label= 'threshold')\n",
    "plt.axvline(x = int_ind_thershold, color= 'green', linestyle='--', label= 'threshold')\n",
    "\n",
    "plt.title('GRPMX interest index plot: survey, gene range ['+str(f_gene)+':'+str(l_gene)+']')#, directories[n])\n",
    "if log_scale:\n",
    "    plt.xscale('log')\n",
    "plt.ylim(0, 19)\n",
    "#plt.xlim(0)\n",
    "plt.legend()\n",
    "print('\\nGRPMX gene interest value desity plot:')\n",
    "frame = {'directory': directories[start:len(color_labels)], 'color code':color_labels}\n",
    "print(pd.DataFrame(frame))\n",
    "plt.show()"
   ]
  },
  {
   "cell_type": "markdown",
   "metadata": {},
   "source": [
    "## Density plot: GRPMX repo - General"
   ]
  },
  {
   "cell_type": "code",
   "execution_count": null,
   "metadata": {},
   "outputs": [],
   "source": [
    "#settings-----\n",
    "aggregate_randoms = True\n",
    "\n",
    "#set interest threshold\n",
    "int_val_thershold = None # 0.005 # interest value\n",
    "int_ind_thershold = 0.0136 # interest index\n",
    "log_scale = True\n",
    "#survey_l = len(pd.Series(directories)[pd.Series(directories).str.contains('survey')])\n",
    "#-------------\n",
    "\n",
    "#full plot\n",
    "datas_name = ['data_'] * 28\n",
    "datas_name = [string + str(i+1) for i, string in enumerate(datas_name)]\n",
    "start, end = 0, len(datas_name)\n",
    "\n",
    "# gene list slice:\n",
    "f_gene, l_gene = 0, 200#, 20000\n",
    "f_gene, l_gene = 0, 850#, 20000\n",
    "def slice_int(df):\n",
    "    df_int_slice = df.interest_index.iloc[f_gene:l_gene]\n",
    "    return df_int_slice\n",
    "\n",
    "# Choose dataset to compare, slice datas list:\n",
    "datas = []\n",
    "for directory, name, repo in zip(directories[start:end],\n",
    "                                 datas_name[start:end],\n",
    "                                 repo_int_sort_list[start:end]):\n",
    "    dataframe = slice_int(repo)\n",
    "    globals()[name] = dataframe\n",
    "    datas.append(dataframe)\n",
    "\n",
    "# set survey series from master_df\n",
    "survey_l = len(master_df[master_df.directories.str.contains('survey')])\n",
    "color_labels = ['red', 'green', 'blue', 'cyan', 'magenta', 'yellow', 'black', '#D2B48C', '#A52A2A', '#D8BFD8']\n",
    "color_labels = color_labels[:survey_l]\n",
    "\n",
    "if len(datas[survey_l+1:end]) != 0:\n",
    "    cluster_rand = pd.concat(datas[len(color_labels)+1:end], axis=1)\n",
    "\n",
    "# Desity Rugged Plot--------------------------\n",
    "plt.figure(figsize=(10, 4))\n",
    "\n",
    "#plot randoms in grey\n",
    "if len(datas[survey_l+1:end]) != 0:\n",
    "    if aggregate_randoms == True:\n",
    "        dat = cluster_rand.mean(axis=1)\n",
    "        sns.set_style('whitegrid')\n",
    "        sns.kdeplot(np.array(dat), bw_method=0.5, color='#808080')\n",
    "        sns.rugplot(np.array(dat), color='#808080', label='random mean')\n",
    "    else:\n",
    "        for dat in datas[survey_l+1:end]:\n",
    "            sns.set_style('whitegrid')\n",
    "            sns.kdeplot(np.array(dat), bw_method=0.5, color='#808080')\n",
    "            sns.rugplot(np.array(dat), color='#808080')\n",
    "\n",
    "#plot survey above in color\n",
    "for dat, col, tag in zip(datas[start:survey_l],\n",
    "                         color_labels,\n",
    "                         master_df.short_labels[start:survey_l]):\n",
    "    sns.set_style('whitegrid')\n",
    "    sns.kdeplot(np.array(dat), bw_method=0.5, color=col)\n",
    "    sns.rugplot(np.array(dat), color=col, label=tag)\n",
    "\n",
    "if int_val_thershold is not None:\n",
    "    plt.axvline(x = int_val_thershold, color= 'red', linestyle='--', label= 'threshold')\n",
    "plt.axvline(x = int_ind_thershold, color= 'green', linestyle='--', label= 'threshold')\n",
    "\n",
    "plt.title('GRPMX gene interest value desity plot (with '+str(random_l)+' clustered randoms), top '+str(l_gene)+' genes')\n",
    "if log_scale:\n",
    "    plt.xscale('log')\n",
    "plt.ylim(0, 19)\n",
    "#plt.xlim(0)#(10 ** -2.3)\n",
    "plt.legend()\n",
    "\n",
    "print('GRPMX gene interest value desity plot:')\n",
    "#frame = {'directory': directories[start:end], 'color code':color_labels[start:end]}\n",
    "frame = {'directory': directories[start:survey_l], 'color code':color_labels}\n",
    "print(pd.DataFrame(frame))\n",
    "plt.show()"
   ]
  },
  {
   "cell_type": "markdown",
   "metadata": {},
   "source": [
    "## Plotting comparison over Master reference mesh"
   ]
  },
  {
   "cell_type": "code",
   "execution_count": null,
   "metadata": {},
   "outputs": [],
   "source": [
    "master_df_ref"
   ]
  },
  {
   "cell_type": "markdown",
   "metadata": {},
   "source": [
    "### Scatter Plotting"
   ]
  },
  {
   "cell_type": "code",
   "execution_count": null,
   "metadata": {
    "collapsed": false
   },
   "outputs": [],
   "source": [
    "# Burn all dataframes on master ref ----------------------------------------\n",
    "genes_l = 50 #set master top genes to analyze\n",
    "print('Choose master gene ref from master_df')\n",
    "mast = int(input(master_df.label[:survey_l])) #4 #choose master gene ref from master_df\n",
    "\n",
    "#def select_master_ref():\n",
    "master_genes_repo = master_df.directories.iloc[mast]\n",
    "master_genes = repo_int_sort_list[mast][:genes_l].gene\n",
    "len(master_genes)\n",
    "\n",
    "#slice all report for master_genes\n",
    "\n",
    "def master_sampler(df):\n",
    "    df_int_master_sample = df[df.gene.isin(master_genes)]\n",
    "    return df_int_master_sample\n",
    "\n",
    "master_list_names = [term + '_master' for term in report_int_names]\n",
    "master_list_names = master_list_names[first:last]\n",
    "master_df['master_list_names'] = master_list_names\n",
    "print('master gene ref:', master_genes_repo)\n",
    "\n",
    "# Choose dataset to compare, slice datas list:\n",
    "#start, end = 0, 22\n",
    "start, end = first, last\n",
    "master_list = []\n",
    "for directory, name, repo in zip(directories[start:end],\n",
    "                                 master_list_names[start:end],\n",
    "                                 repo_int_sort_list[start:end]):\n",
    "    dataframe = master_sampler(repo)\n",
    "    globals()[name] = dataframe\n",
    "    master_list.append(dataframe)\n",
    "    #print(name,'df mastered')\n",
    "#---------------------------------------------------------\n",
    "\n",
    "# set referece dataframe\n",
    "referece = master_list[mast].copy()\n",
    "referece['gene_id'] = range(1, len(referece) + 1)\n",
    "gene_id_df = referece[['gene','gene_id']]\n",
    "master_list[mast].gene.nunique()\n",
    "\n",
    "# merge gene id into all dataframes\n",
    "def merge_id(df):\n",
    "    df_int_master_merge = pd.merge(df, gene_id_df, on='gene', how='left')\n",
    "    return df_int_master_merge\n",
    "print('')\n",
    "\n",
    "# Choose dataset to compare, slice datas list:\n",
    "new_master_list = []\n",
    "for name, repo in zip(master_list_names, master_list):\n",
    "    dataframe = merge_id(repo)\n",
    "    globals()[name] = dataframe\n",
    "    new_master_list.append(dataframe)\n",
    "    #print(name,'df mastered with gen id')\n",
    "print('all repo mastered')\n",
    "\n",
    "#new_master_list[1]#.gene_id.nunique()\n",
    "#----------------------------------------------------------------\n",
    "#----------------------------------------------------------------\n",
    "\n",
    "#Scatter Plotting\n",
    "\n",
    "# select special_list from master_df to plot with master list\n",
    "use_special_list = True\n",
    "choose_compare = input('choose which lists to plot with: \\n1. all lists\\n2. group I (1,2,3)\\n3. goup II (4,5,6,7,8,9)')\n",
    "if choose_compare == '1':\n",
    "    select_dirs = list(range(survey_l))\n",
    "elif choose_compare == '2':\n",
    "    select_dirs = [1,2,3]\n",
    "else:\n",
    "    select_dirs = [4,5,6,7,8,9]\n",
    "if mast in select_dirs:\n",
    "    select_dirs.remove(mast)\n",
    "select_dirs\n",
    "\n",
    "#plot randoms?\n",
    "plot_random = simple_bool(\"Do you want to plot also randoms?\")\n",
    "\n",
    "# set survey series from master_df\n",
    "survey_ser = master_df[master_df.directories.str.contains('survey')]\n",
    "special_list = survey_ser # base value\n",
    "survey_l = len(special_list)\n",
    "random_ser = master_df[master_df.directories.str.contains('random')]\n",
    "random_ser_num = len(random_ser)\n",
    "\n",
    "color_labels = ['green', 'blue', 'cyan', 'magenta', '#FFA500', 'black', '#D2B48C', '#A52A2A', '#D8BFD8']\n",
    "color_labels = color_labels[:survey_l]\n",
    "\n",
    "dir_select = []\n",
    "new_master_list_select = []\n",
    "if use_special_list:\n",
    "    master = [new_master_list[index] for index in select_dirs]\n",
    "    dire = [master_df.directories[index] for index in select_dirs]\n",
    "    new_master_list_select.extend(master)\n",
    "    dir_select.extend(dire)\n",
    "else:\n",
    "    new_master_list_select = new_master_list[2:survey_l]\n",
    "    dir_select = directories[2:survey_l]\n",
    "\n",
    "\n",
    "# Desity Rugged Plot\n",
    "plt.figure(figsize=(12, 6))\n",
    "\n",
    "# plot master series in red:\n",
    "x = new_master_list[mast].gene#_id\n",
    "y = new_master_list[mast].interest_index\n",
    "plt.scatter(x, y,  color='red', label=master_df.short_labels[mast]+' (Reference)')\n",
    "\n",
    "if plot_random == True:\n",
    "    #plot randoms in grey\n",
    "    start, end = len(directories)-random_ser_num, len(directories)\n",
    "    for dat in new_master_list[start:end]:\n",
    "        # Create the dot plot using Seaborn\n",
    "        x= dat.gene#_id\n",
    "        y = dat.interest_index\n",
    "        # Plot the first series\n",
    "        plt.scatter(x, y, color='#808080')\n",
    "\n",
    "#plot surveys in color:\n",
    "for dat, col, dir in zip(new_master_list_select,\n",
    "                         color_labels[:len(new_master_list_select)],\n",
    "                         [master_df.short_labels[index] for index in select_dirs]):\n",
    "    x = dat.gene#_id\n",
    "    y = dat.interest_index\n",
    "    plt.scatter(x, y,  color=col, label=dir)#.replace('grpm_survey_pcg_','mesh list: '))\n",
    "\n",
    "# replot master series in red (to highlight):\n",
    "x = new_master_list[mast].gene#_id\n",
    "y = new_master_list[mast].interest_index\n",
    "plt.scatter(x, y,  color='red')\n",
    "\n",
    "# Set plot title and labels\n",
    "if plot_random:\n",
    "    plt.title('GI for top '+str(genes_l)+' genes in \"'+master_df.label.iloc[mast]+'\"\\n Comparison with other MeSH lists (random lists included)')\n",
    "else:\n",
    "    plt.title('GI for top '+str(genes_l)+' genes in \"'+master_df.label.iloc[mast]+'\"\\n Comparison with other MeSH lists')\n",
    "\n",
    "plt.xticks(rotation=90)\n",
    "#plt.tight_layout()    # Ensures all labels and ticks are visible\n",
    "#plt.ylim(10 ** -5)\n",
    "plt.yscale('log')\n",
    "#plt.xlabel('top '+str(genes_l)+' genes')\n",
    "plt.ylabel('GI')\n",
    "plt.legend()\n",
    "\n",
    "# Show the plot\n",
    "print('GRPMX interest index plot:')\n",
    "frame = {'directory': dir_select[:len(select_dirs)], 'color code':color_labels[:len(select_dirs)]}\n",
    "print(pd.DataFrame(frame))\n",
    "\n",
    "print(mast)\n",
    "plt.savefig(r'G:\\Altri computer\\Razor\\Nutrigenetica\\Pubs_ourPaper\\PaperRevision\\Figures\\plot1'+master_df.label.iloc[mast]+'.png', dpi=300)\n",
    "plt.show()\n",
    "print('''Figure 3 shows the top 50 genes with the highest value of interest on the \"vitamin and micronutrient metabolism\" list compared to the values of interest on 5 other nutritional Mesh term lists used. The analysis shows that genes extracted using the GRPM system show specificity for the list of Mesh terms used as a reference model. This suggests that the GRPM system demonstrated a good ability to identify genes related to that particular nutritional aspect. However, it is observable that some genes show significant interest on other Mesh term lists than the one taken as a reference. This phenomenon indicates the presence of genes that are more closely associated with other nutritional features or specific biological processes. This observation suggests the complexity of gene regulation in the context of nutrient metabolism and underscores the importance of considering a broader range of nutritional Mesh terms to gain a comprehensive understanding of the biological system under consideration.\n",
    "''')"
   ]
  },
  {
   "cell_type": "markdown",
   "metadata": {},
   "source": [
    "### Boxplotting randoms"
   ]
  },
  {
   "cell_type": "markdown",
   "metadata": {},
   "source": [
    "#### gene symbol"
   ]
  },
  {
   "cell_type": "code",
   "execution_count": null,
   "metadata": {
    "collapsed": false
   },
   "outputs": [],
   "source": [
    "# prepare data -----------------\n",
    "survey_ser = master_df[master_df.directories.str.contains('survey')]\n",
    "survey_l = len(survey_ser)\n",
    "\n",
    "# group all random interest index data:\n",
    "new_df = pd.DataFrame(columns= ['gene','gene_id', 'interest_index'])\n",
    "\n",
    "start, end = len(directories) - random_ser_num, len(directories)\n",
    "for dat in new_master_list[start:end]:\n",
    "    new_df = pd.concat([new_df, dat[['gene','gene_id', 'interest_index']]],axis=0)\n",
    "\n",
    "# plotting data -----------------\n",
    "plt.figure(figsize=(12, 6.5))\n",
    "\n",
    "# Data for scatter plot\n",
    "x_scatter = new_master_list[mast].gene\n",
    "y_scatter = new_master_list[mast].interest_index\n",
    "# Plot scatter:\n",
    "plt.scatter(x=x_scatter, y=y_scatter, color='red', label= master_df.short_labels[mast]+' (Reference)')\n",
    "plt.scatter(x=0, y=0, color='white',marker='s', edgecolor='black', label= 'Aggregated Randoms')\n",
    "\n",
    "# Plot randoms:\n",
    "if random_ser_num != 0:\n",
    "    # Data for boxplot\n",
    "    x_box = new_df.sort_values(by='gene_id', ascending=True).gene\n",
    "    y_box = new_df.sort_values(by='gene_id', ascending=True).interest_index\n",
    "    # Plot boxes\n",
    "    sns.boxplot(x=x_box, y=y_box)\n",
    "\n",
    "# Set the tick locations and labels\n",
    "plt.xticks(rotation=90)\n",
    "plt.yscale('log')\n",
    "#plt.tight_layout()    # Ensures all labels and ticks are visible\n",
    "#plt.ylim(10 ** -5)\n",
    "\n",
    "plt.title('GI for top '+str(genes_l)+' genes in \"'+master_df.label.iloc[mast]+'\": scatter plot \\n Aggregated GI value from 21 random MeSH lists: boxpot')\n",
    "plt.ylabel('GI')\n",
    "#plt.xlabel('top '+str(genes_l)+' genes')\n",
    "plt.legend()\n",
    "plt.savefig(r'G:\\Altri computer\\Razor\\Nutrigenetica\\Pubs_ourPaper\\PaperRevision\\Figures\\figure1'+master_df.label.iloc[mast]+'.png', dpi=300)\n",
    "plt.show()\n",
    "print('''Comparing with Random MeSH Lists\n",
    "To ensure the accuracy and reliability of the data collected, we compared the results obtained with biologically consistent mesh lists with those obtained with all random MeSH lists.\n",
    "''')"
   ]
  },
  {
   "cell_type": "markdown",
   "metadata": {},
   "source": [
    "#### numerical index (old version)"
   ]
  },
  {
   "cell_type": "code",
   "execution_count": null,
   "metadata": {
    "collapsed": false
   },
   "outputs": [],
   "source": [
    "# group all random interest index data:\n",
    "new_df = pd.DataFrame(columns= ['gene','gene_id', 'interest_index'])\n",
    "survey_ser = master_df[master_df.directories.str.contains('survey')]\n",
    "survey_l = len(survey_ser)\n",
    "\n",
    "#start, end = len(survey_ser)+1, len(directories)\n",
    "start, end = len(directories)-random_ser_num, len(directories)\n",
    "for dat in new_master_list[start:end]:\n",
    "    new_df = pd.concat([new_df, dat[['gene','gene_id', 'interest_index']]],axis=0)\n",
    "\n",
    "#Boxplotting:----------------\n",
    "#set num of genes to plot\n",
    "slice = 50\n",
    "new_df_slice = new_df[new_df.gene_id <= slice]\n",
    "\n",
    "if random_ser_num != 0:\n",
    "    # Data for boxplot\n",
    "    x_box = new_df_slice.gene_id\n",
    "    y_box = new_df_slice.interest_index\n",
    "    x_box_cat = pd.Categorical(x_box) # Convert x_box to categorical data\n",
    "\n",
    "# Data for scatter plot\n",
    "mast = mast\n",
    "x_scatter = new_master_list[mast][new_master_list[mast].gene_id <= slice].gene_id\n",
    "y_scatter = new_master_list[mast][new_master_list[mast].gene_id <= slice].interest_index\n",
    "x_scatter_cat = pd.Categorical(x_scatter) # Convert x_scatter to categorical data\n",
    "\n",
    "\n",
    "plt.figure(figsize=(12, 8))\n",
    "if random_ser_num != 0:\n",
    "    # Plot boxplot\n",
    "    sns.boxplot(x=x_box_cat.codes, y=y_box)\n",
    "\n",
    "# Plot scatter plot\n",
    "plt.scatter(x=x_scatter_cat.codes, y=y_scatter, color='red', label= master_df.short_labels[mast]+' (Reference)')\n",
    "\n",
    "plt.title('Gene Interest Index plot for survey VS all randoms GI aggregated as boxpot, top '+str(genes_l)+' genes')\n",
    "plt.yscale('log')\n",
    "plt.legend()\n",
    "\n",
    "# Show the plot\n",
    "plt.show()"
   ]
  },
  {
   "cell_type": "markdown",
   "metadata": {},
   "source": [
    "# [Section 3]"
   ]
  },
  {
   "cell_type": "markdown",
   "metadata": {},
   "source": [
    "# Analyze GRPM Reports"
   ]
  },
  {
   "cell_type": "markdown",
   "metadata": {},
   "source": [
    "## Visualize GRPM_db report"
   ]
  },
  {
   "cell_type": "code",
   "execution_count": null,
   "metadata": {},
   "outputs": [],
   "source": [
    "# Matching PMIDs in Database\n",
    "sort_by = 'pubmed_pmid'\n",
    "GRPM_report_sort = GRPM_report.sort_values(by= sort_by,ascending=False)\n",
    "GRPM_report_sort[['gene','pubmed_pmid']]"
   ]
  },
  {
   "cell_type": "code",
   "execution_count": null,
   "metadata": {},
   "outputs": [],
   "source": [
    "print('Sorted by: ', sort_by)\n",
    "y_axis = 'pubmed_pmid'\n",
    "x = GRPM_report_sort.gene.iloc[:40]\n",
    "y = GRPM_report_sort[y_axis].iloc[:40]\n",
    "plt.figure(figsize=(4, (len(x)*0.25)))\n",
    "plt.title('PMIDs in Database\\n sorted by '+sort_by, loc='center',pad=10)\n",
    "\n",
    "plt.barh(x,y, color='#0483ff')\n",
    "plt.gca().invert_yaxis()\n",
    "plt.tick_params(axis='x', which='both', top=True, bottom=False, labeltop=True, labelbottom=False)\n",
    "#plt.xlabel('pmid count', position=(0.5, 1.08))\n",
    "plt.ylabel('genes')\n",
    "plt.xlabel(y_axis, position=(0.5, 1.08))\n",
    "ax = plt.gca()\n",
    "ax.xaxis.set_label_position('top')\n",
    "plt.show()\n",
    "#plt.savefig(r'C:\\Users\\Public\\Database_SSD\\GRPX_heavyload (RunOnly)\\logs\\Database_Gene('+str(len(GRPMX_report.gene))+')-PMID_filtered.png',dpi=300, bbox_inches = \"tight\")"
   ]
  },
  {
   "cell_type": "code",
   "execution_count": null,
   "metadata": {},
   "outputs": [],
   "source": [
    "#LOG GET-----------------------------------------------------\n",
    "genes_len = len(pd.read_csv('human_genes_repo/H_GENES_proteincoding_genes.csv'))\n",
    "genes_found = len(GRPM_report)\n",
    "print('\\nLOG of base grpm database building:','\\ngene query survey_l:',genes_len)\n",
    "print('genes_found:',genes_found, round(genes_found/genes_len, 2))\n",
    "print('no results on:')\n",
    "litvar= 3481 #taken form Console LOG notes\n",
    "litvar2= 346 #taken form Console LOG notes\n",
    "litvar1= 3135 #taken form Console LOG notes\n",
    "nbib= 236 #taken form Console LOG notes\n",
    "print('litvar:',litvar, round(litvar/genes_len, 2),\n",
    "      '\\n   litvar2:',litvar2, round(litvar2/genes_len, 2),\n",
    "      '\\n   litvar1:',litvar1, round(litvar1/genes_len, 2),\n",
    "      '\\nnbib:',nbib, round(nbib/genes_len, 2))"
   ]
  },
  {
   "cell_type": "code",
   "execution_count": null,
   "metadata": {},
   "outputs": [],
   "source": [
    "master_df_ref"
   ]
  },
  {
   "cell_type": "code",
   "execution_count": null,
   "metadata": {},
   "outputs": [],
   "source": [
    "# Visualize GRPMX_report\n",
    "n = 0\n",
    "grpmx_report_00 = repo_int_sort_list[n]\n",
    "print(type(grpmx_report_00['matching_mesh_ratio'][0]))\n",
    "print('GRPMX_report table:')\n",
    "#pyperclip.copy(str(GRPMX_report.columns))\n",
    "len(grpmx_report_00.gene)\n",
    "grpmx_report_00"
   ]
  },
  {
   "cell_type": "code",
   "execution_count": null,
   "metadata": {},
   "outputs": [],
   "source": [
    "# Sort Short GRPMX_report\n",
    "sort = 'interest_index'\n",
    "print('GRPMX_report table ''sorted by '+sort+':')\n",
    "grpmx_report_00_sort = grpmx_report_00.sort_values(by= sort,ascending=False).reset_index(drop=True)\n",
    "\n",
    "grpmx_report_00[['gene', 'matching_pmidmesh', 'matching_pmids','matching_mesh', 'matching_rsid', 'dropped_rsid', 'matching_mesh_ratio','matching_pmids_ratio', 'matching_pmidmesh_ratio','matching_rsid_ratio', 'matching_rsid_pmid10', 'matching_rsid_pmid100','matching_pmids_index','interest_index','matching_top10mesh', 'matching_top10rsid']]#.to_clipboard() #to excel"
   ]
  },
  {
   "cell_type": "markdown",
   "metadata": {},
   "source": [
    "### Defining Database most studied genes\n"
   ]
  },
  {
   "cell_type": "code",
   "execution_count": null,
   "metadata": {},
   "outputs": [],
   "source": [
    "print('Full DB report')\n",
    "GRPM_report[['gene','pubmed_pmid']].sort_values(by='pubmed_pmid', ascending = False).reset_index(drop=True)#.columns"
   ]
  },
  {
   "cell_type": "code",
   "execution_count": null,
   "metadata": {},
   "outputs": [],
   "source": [
    "# create Bar Diagram\n",
    "sort_by = 'pubmed_pmid'\n",
    "GRPM_report_sort = GRPM_report.sort_values(by= sort_by,ascending=False)\n",
    "\n",
    "gene_f = 0\n",
    "gene_l = len(GRPM_report_sort.gene)\n",
    "if gene_l > 30:\n",
    "    gene_l = 30\n",
    "y_axis = 'pubmed_pmid'\n",
    "x = GRPM_report_sort.gene.iloc[gene_f:gene_l]\n",
    "y = GRPM_report_sort[y_axis].iloc[gene_f:gene_l]\n",
    "plt.figure(figsize=(4, (gene_l-gene_f)*0.20))\n",
    "plt.title('Gene associated PMIDs in Database\\n sorted by '+sort_by, loc='center',pad=10)\n",
    "\n",
    "plt.barh(x,y)\n",
    "plt.gca().invert_yaxis()\n",
    "plt.tick_params(axis='x', which='both', top=True, bottom=False, labeltop=True, labelbottom=False)\n",
    "#plt.xlabel('pmid count', position=(0.5, 1.08))\n",
    "plt.ylabel('genes')\n",
    "plt.xlabel(y_axis, position=(0.5, 1.08))\n",
    "ax = plt.gca()\n",
    "ax.xaxis.set_label_position('top')\n",
    "#plt.savefig(r'C:\\Users\\Public\\Database_SSD\\GRPX_heavyload (RunOnly)\\logs\\Database_Gene('+str(len(GRPMX_report.gene))+')-PMID_filtered.png',dpi=300, bbox_inches = \"tight\")\n",
    "plt.show()"
   ]
  },
  {
   "cell_type": "code",
   "execution_count": null,
   "metadata": {},
   "outputs": [],
   "source": [
    "# DENSITY PLOT\n",
    "sort = 'pubmed_pmid'\n",
    "data = GRPM_report_sort[sort].iloc[:100]\n",
    "\n",
    "sns.set_style('whitegrid')\n",
    "sns.kdeplot(np.array(data), bw_method=0.5)\n",
    "sns.rugplot(np.array(data), color='r')\n",
    "\n",
    "#plt.yscale('log')\n",
    "plt.title('pubmed pmid density')\n",
    "#plt.yscale('log')\n",
    "plt.show()"
   ]
  },
  {
   "cell_type": "markdown",
   "metadata": {},
   "source": [
    "### Defining pmid number threshold in GRPM DB"
   ]
  },
  {
   "cell_type": "code",
   "execution_count": null,
   "metadata": {},
   "outputs": [],
   "source": [
    "# Definining pmid number treshold (GRPM DB)-------------------------------\n",
    "thr_pmid_1 = 7\n",
    "#thr_pmid_2 = 150\n",
    "upper = 8000\n",
    "\n",
    "thr_pmid_3 = 1\n",
    "upper_2 = thr_pmid_1-1\n",
    "\n",
    "threshold_GRPM_report_sort_1 = GRPM_report_sort[(GRPM_report_sort['pubmed_pmid']>=thr_pmid_1) & (GRPM_report_sort['pubmed_pmid']<=upper)].reset_index(drop=True)\n",
    "\n",
    "#threshold_GRPM_report_sort_2 = GRPM_report_sort[(GRPM_report_sort['pubmed_pmid']>=threshold_2) & (GRPM_report_sort['pubmed_pmid']<=upper)].reset_index(drop=True)\n",
    "\n",
    "threshold_GRPM_report_sort_3 = GRPM_report_sort[(GRPM_report_sort['pubmed_pmid']>=thr_pmid_3) & (GRPM_report_sort['pubmed_pmid']<=upper_2)].reset_index(drop=True)\n",
    "\n",
    "\n",
    "#pyperclip.copy(str(threshold)+' '+ str(len(threshold_GRPM_report_sort)))\n",
    "print('threshold by pmid number:')\n",
    "print(len(threshold_GRPM_report_sort_3),'genes has <',thr_pmid_1, 'pmid')\n",
    "print(len(threshold_GRPM_report_sort_1),' genes has >',thr_pmid_1, 'pmid')\n",
    "threshold_GRPM_report_sort_1"
   ]
  },
  {
   "cell_type": "code",
   "execution_count": null,
   "metadata": {},
   "outputs": [],
   "source": [
    "pyperclip.copy(str(threshold_GRPM_report_sort_1.gene.sample(200).to_list()))"
   ]
  },
  {
   "cell_type": "code",
   "execution_count": null,
   "metadata": {},
   "outputs": [],
   "source": [
    "# DENSITY PLOT THRESHOLD\n",
    "data = threshold_GRPM_report_sort_1.pubmed_pmid.iloc[:100]\n",
    "\n",
    "sns.set_style('whitegrid')\n",
    "sns.kdeplot(np.array(data), bw_method=0.5)\n",
    "sns.rugplot(np.array(data), color='r')\n",
    "\n",
    "#plt.yscale('log')\n",
    "plt.title('pubmed pmid')\n",
    "#plt.yscale('log')\n",
    "plt.show()"
   ]
  },
  {
   "cell_type": "markdown",
   "metadata": {},
   "source": [
    "## Visualize GRPM_survey reports"
   ]
  },
  {
   "cell_type": "markdown",
   "metadata": {},
   "source": [
    "### Defining interesting genes\n",
    "#### Comparison: ratio Vs Interest index"
   ]
  },
  {
   "cell_type": "code",
   "execution_count": null,
   "metadata": {},
   "outputs": [],
   "source": [
    "master_df_ref"
   ]
  },
  {
   "cell_type": "code",
   "execution_count": null,
   "metadata": {},
   "outputs": [],
   "source": [
    "# Comparison: matching_pmids_ratio Vs interest_index\n",
    "\n",
    "#Set report to analyze\n",
    "dir1 = 0 # choose from master_df\n",
    "GRPMX_report_int = repo_int_sort_list[dir1]\n",
    "\n",
    "# create Bar Diagram\n",
    "sort_by = 'matching_pmids_ratio'\n",
    "GRPMX_report_int_sort = GRPMX_report_int.sort_values(by= sort_by,ascending=False)\n",
    "gene_f = 0\n",
    "gene_l =   len(GRPMX_report_int_sort)\n",
    "if gene_l  > 40:\n",
    "    gene_l = 50\n",
    "y_axis = 'interest_index'\n",
    "x = GRPMX_report_int_sort.gene.iloc[:gene_l]\n",
    "y = GRPMX_report_int_sort[y_axis].drop_duplicates().iloc[:gene_l]\n",
    "plt.figure(figsize=(4, gene_l*0.20))\n",
    "plt.title('Gene '+y_axis+ ':\\n sorted by '+ sort_by, loc='center',pad=10)\n",
    "\n",
    "plt.barh(x,y)\n",
    "plt.gca().invert_yaxis()\n",
    "plt.tick_params(axis='x', which='both', top=True, bottom=False, labeltop=True, labelbottom=False)\n",
    "#plt.xlabel('pmid count', position=(0.5, 1.08))\n",
    "plt.ylabel('genes')\n",
    "plt.xlabel(y_axis, position=(0.5, 1.08))\n",
    "ax = plt.gca()\n",
    "ax.xaxis.set_label_position('top')\n",
    "#plt.savefig(r'C:\\Users\\Public\\Database_SSD\\GRPX_heavyload (RunOnly)\\logs\\Database_Gene('+str(len(GRPMX_report.gene))+')-PMID_filtered.png',dpi=300, bbox_inches = \"tight\")\n",
    "plt.show()"
   ]
  },
  {
   "cell_type": "code",
   "execution_count": null,
   "metadata": {},
   "outputs": [],
   "source": [
    "# create Bar Diagram\n",
    "sort_by = 'matching_rsid_ratio'\n",
    "GRPMX_report_int_sort = GRPMX_report_int.sort_values(by= sort_by,ascending=False)\n",
    "print('Sorted by: ', sort_by)\n",
    "gene_f = 0\n",
    "gene_l =   len(GRPMX_report_int_sort)\n",
    "if gene_l  > 30:\n",
    "    gene_l = 50\n",
    "y_axis = 'matching_rsid'\n",
    "x = GRPMX_report_int_sort.gene.iloc[:gene_l]\n",
    "y = GRPMX_report_int_sort[y_axis].drop_duplicates().iloc[:gene_l]\n",
    "plt.figure(figsize=(4, gene_l*0.20))\n",
    "plt.title('Matching rsid in Database\\n sorted by '+sort_by, loc='center',pad=10)\n",
    "\n",
    "plt.barh(x,y)\n",
    "plt.gca().invert_yaxis()\n",
    "plt.tick_params(axis='x', which='both', top=True, bottom=False, labeltop=True, labelbottom=False)\n",
    "#plt.xlabel('pmid count', position=(0.5, 1.08))\n",
    "plt.ylabel('genes')\n",
    "plt.xlabel(y_axis, position=(0.5, 1.08))\n",
    "ax = plt.gca()\n",
    "ax.xaxis.set_label_position('top')\n",
    "plt.show()\n",
    "#plt.savefig(r'C:\\Users\\Public\\Database_SSD\\GRPX_heavyload (RunOnly)\\logs\\Database_Gene('+str(len(GRPMX_report.gene))+')-PMID_filtered.png',dpi=300, bbox_inches = \"tight\")"
   ]
  },
  {
   "cell_type": "code",
   "execution_count": null,
   "metadata": {},
   "outputs": [],
   "source": [
    "# Matching PMIDs in Database\n",
    "sort_by = 'matching_pmids_index'\n",
    "GRPMX_report_int_sort = GRPMX_report_int.sort_values(by= sort_by,ascending=False)\n",
    "print('Sorted by: ', sort_by)\n",
    "print('in ', directory)\n",
    "\n",
    "gene_f , gene_l = 0, 0\n",
    "gene_l =   len(GRPMX_report_int_sort)\n",
    "if gene_l  > 30:\n",
    "    gene_l = 50\n",
    "y_axis = 'matching_pmids_index'\n",
    "x = GRPMX_report_int_sort.gene.iloc[:gene_l]\n",
    "y = GRPMX_report_int_sort[y_axis].drop_duplicates().iloc[:gene_l]\n",
    "plt.figure(figsize=(4, gene_l*0.20))\n",
    "plt.title('Matching PMIDs in Database\\n sorted by '+ sort_by, loc='center',pad=10)\n",
    "\n",
    "plt.barh(x,y)\n",
    "plt.gca().invert_yaxis()\n",
    "plt.tick_params(axis='x', which='both', top=True, bottom=False, labeltop=True, labelbottom=False)\n",
    "#plt.xlabel('pmid count', position=(0.5, 1.08))\n",
    "plt.ylabel('genes')\n",
    "plt.xlabel(y_axis, position=(0.5, 1.08))\n",
    "ax = plt.gca()\n",
    "ax.xaxis.set_label_position('top')\n",
    "#plt.savefig(r'C:\\Users\\Public\\Database_SSD\\GRPX_heavyload (RunOnly)\\logs\\Database_Gene('+str(len(GRPMX_report.gene))+')-PMID_filtered.png',dpi=300, bbox_inches = \"tight\")\n",
    "plt.show()"
   ]
  },
  {
   "cell_type": "code",
   "execution_count": null,
   "metadata": {},
   "outputs": [],
   "source": [
    "# Matching PMIDs in Database\n",
    "sort_by = 'interest_index'\n",
    "GRPMX_report_int_sort = GRPMX_report_int.sort_values(by= sort_by,ascending=False)\n",
    "print('Sorted by: ', sort_by)\n",
    "print('in ', directory)\n",
    "gene_f , gene_l, n = 0, 40, 1\n",
    "gene_l =   len(GRPMX_report_int)\n",
    "if gene_l  > 30:\n",
    "    gene_l = 40\n",
    "y_axis = 'interest_index'\n",
    "x = GRPMX_report_int_sort.gene.iloc[gene_f*n:gene_l*n]\n",
    "y = GRPMX_report_int_sort[y_axis].iloc[gene_f*n:gene_l*n]\n",
    "plt.figure(figsize=(4, (gene_l-gene_f) * 0.20))\n",
    "plt.title('Matching PMIDs in Database\\n sorted by '+sort_by+'\\n in'+directory, loc='center',pad=10)\n",
    "\n",
    "plt.barh(x,y, color = '#04ade3')\n",
    "plt.gca().invert_yaxis()\n",
    "plt.tick_params(axis='x', which='both', top=True, bottom=False, labeltop=True, labelbottom=False)\n",
    "#plt.xlabel('pmid count', position=(0.5, 1.08))\n",
    "plt.ylabel('genes')\n",
    "plt.xlabel(y_axis, position=(0.5, 1.08))\n",
    "ax = plt.gca()\n",
    "ax.xaxis.set_label_position('top')\n",
    "#plt.savefig(r'C:\\Users\\Public\\Database_SSD\\GRPX_heavyload (RunOnly)\\logs\\Database_Gene('+str(len(GRPMX_report.gene))+')-PMID_filtered.png',dpi=300, bbox_inches = \"tight\")\n",
    "plt.show()"
   ]
  },
  {
   "cell_type": "code",
   "execution_count": null,
   "metadata": {},
   "outputs": [],
   "source": [
    "# Matching PMIDs in Database\n",
    "\n",
    "#Set report to analyze\n",
    "n = 1\n",
    "GRPMX_report_int_2 = repo_int_sort_list[n]\n",
    "\n",
    "sort_by = 'interest_index'\n",
    "GRPMX_report_int_2_sort = GRPMX_report_int_2.sort_values(by= sort_by,ascending=False)\n",
    "print('Sorted by: ', sort_by)\n",
    "print('in ', directories[n])\n",
    "gene_f , gene_l, n = 0, 40, 1\n",
    "gene_l =   len(GRPMX_report_int)\n",
    "if gene_l  > 30:\n",
    "    gene_l = 40\n",
    "y_axis = 'interest_index'\n",
    "x = GRPMX_report_int_sort.gene.iloc[gene_f*n:gene_l*n]\n",
    "y = GRPMX_report_int_sort[y_axis].iloc[gene_f*n:gene_l*n]\n",
    "plt.figure(figsize=(4, (gene_l-gene_f)*0.20))\n",
    "plt.title('Matching PMIDs in Database\\n sorted by '+sort_by+'\\n in'+directories[n], loc='center',pad=10)\n",
    "\n",
    "plt.barh(x,y, color = '#04ade3')\n",
    "plt.gca().invert_yaxis()\n",
    "plt.tick_params(axis='x', which='both', top=True, bottom=False, labeltop=True, labelbottom=False)\n",
    "#plt.xlabel('pmid count', position=(0.5, 1.08))\n",
    "plt.ylabel('genes')\n",
    "plt.xlabel(y_axis, position=(0.5, 1.08))\n",
    "ax = plt.gca()\n",
    "ax.xaxis.set_label_position('top')\n",
    "#plt.savefig(r'C:\\Users\\Public\\Database_SSD\\GRPX_heavyload (RunOnly)\\logs\\Database_Gene('+str(len(GRPMX_report.gene))+')-PMID_filtered.png',dpi=300, bbox_inches = \"tight\")\n",
    "plt.show()"
   ]
  },
  {
   "cell_type": "markdown",
   "metadata": {},
   "source": [
    "# Analyze GRPM survey output data"
   ]
  },
  {
   "cell_type": "markdown",
   "metadata": {},
   "source": [
    "## Cooccurance matrix module"
   ]
  },
  {
   "cell_type": "code",
   "execution_count": null,
   "metadata": {},
   "outputs": [],
   "source": [
    "#for i in range(len(directories)):\n",
    "#    master_df.at[i, 'grpm_meshs'] = grpm_out_list[i].mesh.nunique()\n",
    "master_df\n",
    "grpm_out_list[0].columns"
   ]
  },
  {
   "cell_type": "code",
   "execution_count": null,
   "metadata": {},
   "outputs": [],
   "source": [
    "# COOCCURANCE MATRIX MODULE------------\n",
    "\n",
    "# choose value\n",
    "value = 'gene'\n",
    "# ['gene', 'rsid', 'pmids', 'mesh']\n",
    "taglabel = 'short_labels' if custom_labels else 'tag'\n",
    "\n",
    "# Assuming grpm_out_list is a list of objects and i is the index\n",
    "lists = []\n",
    "for i in range(len(grpm_out_list)):\n",
    "    lists.append(set(grpm_out_list[i][value].to_list()))\n",
    "\n",
    "# set the lists\n",
    "num_lists = len(lists)\n",
    "\n",
    "# Initialize a 2D list of zeros with dimensions equal to the number of lists\n",
    "cooccur_matrix = [[0] * num_lists for i in range(num_lists)]\n",
    "type(cooccur_matrix)\n",
    "print(len(set(lists[1]) & set(lists[1])))\n",
    "print(len(set(lists[1]) & set(lists[3])))\n",
    "\n",
    "# Loop over all pairs of lists and count the number of co-occurring elements\n",
    "for i in range(num_lists):\n",
    "    for j in range(num_lists):\n",
    "        if i == j:\n",
    "            cooccur_matrix[i][j] = len(lists[i])\n",
    "        else:\n",
    "            cooccur_matrix[i][j] = len(set(lists[i]) & set(lists[j]))\n",
    "\n",
    "# Convert the 2D list to a Pandas DataFrame\n",
    "cooccur_df = pd.DataFrame(cooccur_matrix,\n",
    "                          columns=[i for i in master_df[taglabel]],\n",
    "                          index=[i for i in master_df[taglabel]]\n",
    "                          )\n",
    "                          #columns=['grpm{}'.format(i+1) for i in range(num_lists)],\n",
    "                          #index=['grpm{}'.format(i+1) for i in range(num_lists)])\n",
    "\n",
    "# Print the resulting DataFrame\n",
    "cooccur_df.to_clipboard()\n",
    "cooccur_df.columns\n",
    "print('Cooccurrance Matrix: '+value)\n",
    "\n",
    "sub_cooccur_df = cooccur_df.iloc[:,:survey_l][:survey_l]\n",
    "sub_cooccur_df"
   ]
  },
  {
   "cell_type": "code",
   "execution_count": null,
   "metadata": {},
   "outputs": [],
   "source": [
    "# Heatmap: 'max value'/row ------------------\n",
    "plt.clf()\n",
    "fig, ax = plt.subplots()\n",
    "\n",
    "# Iterate over each row and plot individually\n",
    "for i, row in enumerate(sub_cooccur_df[:survey_l].values):\n",
    "    row_values = row.astype(float)  # Convert string values to floats\n",
    "    max_value = np.max(row_values)  # Calculate the maximum value for the current row\n",
    "    heatmap = ax.imshow([row_values],\n",
    "                        cmap = 'YlGnBu',\n",
    "                        vmax = max_value,\n",
    "                        aspect = 'auto',\n",
    "                        extent = [-0.5, len(row)+0.5, i+0.5, i-0.5])\n",
    "                        #extent=[-0.5, len(row)-0.5, i-0.5, i+0.5])\n",
    "    ax.text(len(row)-0.1, i,\n",
    "            #f\"{max_value:.2f}\"\n",
    "            f\"{max_value}\",\n",
    "            ha='left',\n",
    "            va='center')\n",
    "\n",
    "# Add colorbar\n",
    "cbar = plt.colorbar(heatmap)\n",
    "\n",
    "# Set the tick labels and axis labels\n",
    "ax.set_xticks(np.arange(sub_cooccur_df[:survey_l].shape[1]))\n",
    "ax.set_yticks(np.arange(sub_cooccur_df[:survey_l].shape[0]))\n",
    "ax.set_xticklabels(list(master_df[taglabel][:survey_l]), rotation=45, ha='right')\n",
    "ax.set_yticklabels(list(master_df[taglabel][:survey_l]))\n",
    "\n",
    "# Set the axis labels\n",
    "#ax.set_xlabel('Columns')\n",
    "#ax.set_ylabel('Rows')\n",
    "\n",
    "# Set the title\n",
    "ax.set_title('Occurrence Matrix: ' + value)\n",
    "\n",
    "# Show the plot\n",
    "plt\n"
   ]
  },
  {
   "cell_type": "markdown",
   "metadata": {},
   "source": [
    "\n",
    "BHM: at which point the scale must be updated accordingly? I mean, you scale the values and you end up with a range [0,1]\n",
    "\n",
    "User: scaling all the rows to their maximum by having [0,1] values for each row would also simplify the code for the heatmap although we would leave behind the differences in the numeric data. I can do this\n",
    "\n",
    "'what is synoptic must be comparable.' BHM quote\n"
   ]
  },
  {
   "cell_type": "code",
   "execution_count": null,
   "metadata": {},
   "outputs": [],
   "source": [
    "# modify coocur matrix with range [0,1]----\n",
    "sub_cooccur_df.to_clipboard()\n",
    "sub_cooccur_df_normalized = sub_cooccur_df.div(sub_cooccur_df.max(axis=1), axis=0) #div()= divide\n",
    "\n",
    "sub_cooccur_df_normalized.to_clipboard()\n",
    "\n",
    "#Overral values----------------------------\n",
    "plt.clf()\n",
    "#Create a figure and axis\n",
    "fig, ax = plt.subplots()\n",
    "\n",
    "#Create the heatmap\n",
    "heatmap = ax.imshow(sub_cooccur_df_normalized[:survey_l], cmap='YlGnBu')\n",
    "\n",
    "#Add colorbar\n",
    "cbar = plt.colorbar(heatmap)\n",
    "\n",
    "#Set the tick labels and axis labels\n",
    "ax.set_xticks(np.arange(sub_cooccur_df_normalized[:survey_l].shape[1]))\n",
    "ax.set_yticks(np.arange(sub_cooccur_df_normalized[:survey_l].shape[0]))\n",
    "ax.set_xticklabels(list(master_df[taglabel][:survey_l]), rotation=45, ha='right')\n",
    "ax.set_yticklabels(list(master_df[taglabel][:survey_l]))\n",
    "\n",
    "#Set the axis labels\n",
    "#ax.set_xlabel('Columns')\n",
    "#ax.set_ylabel('Rows')\n",
    "\n",
    "#Set the title\n",
    "ax.set_title('Occurrence Matrix: '+value+' (normalized)')\n",
    "\n",
    "#Show the plot\n",
    "plt.show()"
   ]
  },
  {
   "cell_type": "code",
   "execution_count": null,
   "metadata": {},
   "outputs": [],
   "source": [
    "#check\n",
    "tag = 'ng_oxi_stress'\n",
    "ref = pd.read_csv('ref-mesh-archive/ref_mesh_'+tag+'.csv')\n",
    "ref['Preferred Label'].drop_duplicates()"
   ]
  },
  {
   "cell_type": "code",
   "execution_count": null,
   "metadata": {},
   "outputs": [],
   "source": [
    "if simple_bool('trial?'):\n",
    "    # Function to highlight cells\n",
    "    def highlight_cell(x):\n",
    "        color = 'background-color: yellow'\n",
    "        return color\n",
    "\n",
    "    # Apply styling to the DataFrame\n",
    "    styled_df = cooccur_df.style.apply(highlight_cell)\n",
    "\n",
    "    # Display the styled DataFrame\n",
    "    styled_df"
   ]
  },
  {
   "cell_type": "markdown",
   "metadata": {},
   "source": [
    "## Apply GI threshold to GRPM data"
   ]
  },
  {
   "cell_type": "code",
   "execution_count": null,
   "metadata": {},
   "outputs": [],
   "source": [
    "master_df_ref"
   ]
  },
  {
   "cell_type": "markdown",
   "metadata": {},
   "source": [
    "#### (1) thresholding all surveys report"
   ]
  },
  {
   "cell_type": "code",
   "execution_count": 19,
   "metadata": {
    "ExecuteTime": {
     "end_time": "2024-06-06T14:06:02.690709700Z",
     "start_time": "2024-06-06T14:06:02.452362Z"
    }
   },
   "outputs": [
    {
     "ename": "NameError",
     "evalue": "name 'comp_df_stat_all' is not defined",
     "output_type": "error",
     "traceback": [
      "\u001B[1;31m---------------------------------------------------------------------------\u001B[0m",
      "\u001B[1;31mNameError\u001B[0m                                 Traceback (most recent call last)",
      "Cell \u001B[1;32mIn[19], line 25\u001B[0m\n\u001B[0;32m     22\u001B[0m     repo_thre_list\u001B[38;5;241m.\u001B[39mappend(dataframe)\n\u001B[0;32m     23\u001B[0m     \u001B[38;5;66;03m#print(label,'df thresholded')\u001B[39;00m\n\u001B[1;32m---> 25\u001B[0m \u001B[38;5;28;01mif\u001B[39;00m \u001B[38;5;124m'\u001B[39m\u001B[38;5;124minteresting genes\u001B[39m\u001B[38;5;124m'\u001B[39m \u001B[38;5;129;01min\u001B[39;00m comp_df_stat_all\u001B[38;5;241m.\u001B[39mcolumns \u001B[38;5;129;01mand\u001B[39;00m (\u001B[38;5;124m'\u001B[39m\u001B[38;5;124mgenes_int_\u001B[39m\u001B[38;5;124m'\u001B[39m\u001B[38;5;241m+\u001B[39m\u001B[38;5;28mstr\u001B[39m(thr_f)) \u001B[38;5;129;01min\u001B[39;00m comp_df_stat_all\u001B[38;5;241m.\u001B[39mcolumns:\n\u001B[0;32m     26\u001B[0m     comp_df_stat_all\u001B[38;5;241m.\u001B[39mdrop([\u001B[38;5;124m'\u001B[39m\u001B[38;5;124minteresting genes\u001B[39m\u001B[38;5;124m'\u001B[39m, \u001B[38;5;124m'\u001B[39m\u001B[38;5;124mgenes_int_\u001B[39m\u001B[38;5;124m'\u001B[39m\u001B[38;5;241m+\u001B[39m\u001B[38;5;28mstr\u001B[39m(thr_f)], axis\u001B[38;5;241m=\u001B[39m\u001B[38;5;241m1\u001B[39m, inplace \u001B[38;5;241m=\u001B[39m \u001B[38;5;28;01mTrue\u001B[39;00m)\n\u001B[0;32m     28\u001B[0m \u001B[38;5;66;03m## extend comp_df_stat_all: ---------------\u001B[39;00m\n",
      "\u001B[1;31mNameError\u001B[0m: name 'comp_df_stat_all' is not defined"
     ]
    }
   ],
   "source": [
    "# def thresholding function\n",
    "thr_val_f = 0.0055\n",
    "thr_int_f = 0.0125 #0.0139 #0.0130\n",
    "filter_by = 'interest_value'\n",
    "filter_by = 'interest_index'\n",
    "\n",
    "#-----------------\n",
    "if filter_by == 'interest_index':\n",
    "    thr_f = thr_int_f\n",
    "else:\n",
    "    thr_f = thr_val_f\n",
    "\n",
    "def thresholding(dataframe):\n",
    "    output = dataframe[(dataframe[filter_by]>=thr_f) & (dataframe[filter_by]<=1)].reset_index(drop=True)\n",
    "    return output\n",
    "\n",
    "repo_thre_list = []\n",
    "for repo, label in zip(repo_int_sort_list,\n",
    "                       master_df.tag):\n",
    "    dataframe = thresholding(repo)\n",
    "    #globals()[name] = dataframe\n",
    "    repo_thre_list.append(dataframe)\n",
    "    #print(label,'df thresholded')\n",
    "\n",
    "if 'interesting genes' in comp_df_stat_all.columns and ('genes_int_'+str(thr_f)) in comp_df_stat_all.columns:\n",
    "    comp_df_stat_all.drop(['interesting genes', 'genes_int_'+str(thr_f)], axis=1, inplace = True)\n",
    "\n",
    "## extend comp_df_stat_all: ---------------\n",
    "for i in range(len(comp_df_stat_all)):\n",
    "    repo = repo_thre_list[i]\n",
    "    comp_df_stat_all.loc[i, 'genes_int_'+str(thr_f)] = int(repo.gene.nunique())\n",
    "\n",
    "print('Interesting genes based on', filter_by)\n",
    "comp_df_stat_all['genes_int_'+str(thr_f)] = comp_df_stat_all['genes_int_'+str(thr_f)].astype(int)\n",
    "comp_df_stat_all['interesting genes'] = comp_df_stat_all['genes_int_'+str(thr_f)]\n",
    "comp_df_stat_all"
   ]
  },
  {
   "cell_type": "markdown",
   "metadata": {},
   "source": [
    "#### (2) add interest index to grpm_out_list genes and sort it"
   ]
  },
  {
   "cell_type": "code",
   "execution_count": null,
   "metadata": {},
   "outputs": [],
   "source": [
    "if 'grpm_out_int_sort' not in globals() and 'grpm_out_int_sort' not in locals():\n",
    "    grpm_out_int_sort = []\n",
    "    timea = datetime.now()\n",
    "    for grpm, i  in zip(grpm_out_list, range(len(grpm_out_list))):\n",
    "        ## grpm [gene, interstr index] to merge wit grpmx output\n",
    "        #print('add interest index to grpmx_output', directories[dir1])\n",
    "        small_dummy = repo_int_sort_list[i][['gene','interest_index']]\n",
    "\n",
    "        #grpmx_out_merge = pd.merge(grpmx_out_1, small_dummy, left_on='gene', right_on='gene')\n",
    "        grpmx_out_merge_sort = pd.merge(grpm, small_dummy,\n",
    "                                        left_on='gene', right_on='gene').sort_values(\n",
    "                by=['interest_index','rsid'],\n",
    "                ascending =False).reset_index(drop=True)\n",
    "        grpm_out_int_sort.append(grpmx_out_merge_sort)\n",
    "    print('runtime:',datetime.now()-timea)\n",
    "    display(grpm_out_int_sort[1])\n",
    "else:\n",
    "    display(grpm_out_int_sort[1])"
   ]
  },
  {
   "cell_type": "code",
   "execution_count": null,
   "metadata": {
    "collapsed": false
   },
   "outputs": [],
   "source": [
    "# add other thresolded dta to Stats df:\n",
    "grpm_thre_list = []\n",
    "for grpm_data, label in zip(grpm_out_int_sort,\n",
    "                            master_df.tag):\n",
    "    dataframe = thresholding(grpm_data)\n",
    "    #globals()[name] = dataframe\n",
    "    grpm_thre_list.append(dataframe)\n",
    "    #print(label,'df thresholded')\n",
    "\n",
    "#if 'interesting genes' in comp_df_stat_all.columns and ('genes_int_'+str(thr_f)) in comp_df_stat_all.columns:\n",
    "#    comp_df_stat_all.drop(['interesting genes', 'genes_int_'+str(thr_f)], axis=1, inplace = True)\n",
    "\n",
    "## extend comp_df_stat_all: ---------------\n",
    "for i in range(len(comp_df_stat_all)):\n",
    "    grpm_data = grpm_thre_list[i]\n",
    "    comp_df_stat_all.loc[i, 'interesting rsID'] = int(grpm_data.rsid.nunique())\n",
    "    comp_df_stat_all.loc[i, 'interesting PMID'] = int(grpm_data.pmids.nunique())\n",
    "    comp_df_stat_all.loc[i, 'interesting MeSH'] = int(grpm_data.mesh.nunique())\n",
    "\n",
    "\n",
    "print('Interesting rsID, PMID, MeSH based on', filter_by)\n",
    "comp_df_stat_all[['interesting rsID',\n",
    "                 'interesting PMID',\n",
    "                 'interesting MeSH']] = comp_df_stat_all[['interesting rsID',\n",
    "                                                        'interesting PMID',\n",
    "                                                        'interesting MeSH']].astype(int)\n",
    "comp_df_stat_all"
   ]
  },
  {
   "cell_type": "code",
   "execution_count": null,
   "metadata": {
    "collapsed": false
   },
   "outputs": [],
   "source": [
    "if simple_bool('Save complete Statistics?'):\n",
    "    comp_df_stat_all.to_csv(survey_path+'Comp_df_STAT_all.csv')"
   ]
  },
  {
   "cell_type": "markdown",
   "metadata": {},
   "source": [
    "#### (-) Build complete stat df"
   ]
  },
  {
   "cell_type": "code",
   "execution_count": null,
   "metadata": {
    "collapsed": false
   },
   "outputs": [],
   "source": [
    "comp_df_stat_all"
   ]
  },
  {
   "cell_type": "code",
   "execution_count": null,
   "metadata": {
    "collapsed": false
   },
   "outputs": [],
   "source": [
    "if not 'grpm_genes_95' in comp_df_stat_all.columns:\n",
    "    # create grpm_genes_95\n",
    "    for i in range(len(comp_df_stat_all)):\n",
    "        df = grpm_out_int_sort[i]\n",
    "        comp_df_stat_all.loc[i, 'grpm_genes_95' ] = df[df.interest_index >= comp_df_stat_all.percentile_95[i]].gene.nunique()\n",
    "\n",
    "    comp_df_stat_all.grpm_genes_95 = comp_df_stat_all.grpm_genes_95.astype(int)\n",
    "\n",
    "    comp_df_stat_all[0:10][['label','grpm_genes','genes_int_'+str(thr_f),'genes_95','grpm_genes_95','percentile_95']]#.to_clipboard()\n",
    "else:\n",
    "    display(comp_df_stat_all[11:][['label','tag','grpm_meshs','grpm_genes','genes_int_'+str(thr_f),'genes_95','percentile_95']])\n",
    "    comp_df_stat_all[11:][['label','grpm_meshs','grpm_pmids','grpm_rsids','grpm_genes','genes_int_'+str(thr_f),'genes_95','percentile_95']].to_clipboard()\n",
    "\n",
    "#add grpm_rsid to comp_df_stat_all"
   ]
  },
  {
   "cell_type": "markdown",
   "metadata": {},
   "source": [
    "grpm_out_int_sort[3][['gene','interest_index']].drop_duplicates()"
   ]
  },
  {
   "cell_type": "markdown",
   "metadata": {},
   "source": [
    "#### (3) filtering 'grpmx_output_full' with selected interesting genes"
   ]
  },
  {
   "cell_type": "code",
   "execution_count": null,
   "metadata": {},
   "outputs": [],
   "source": [
    "# thresholding grpm_out_int_sort:\n",
    "grpm_out_thre = []\n",
    "for i in range(len(grpm_out_int_sort)):\n",
    "    output = grpm_out_int_sort[i][grpm_out_int_sort[i].gene.isin(repo_thre_list[i].gene)]\n",
    "    grpm_out_thre.append(output)\n",
    "\n",
    "grpm_out_thre[7][['gene','interest_index']].drop_duplicates()"
   ]
  },
  {
   "cell_type": "markdown",
   "metadata": {},
   "source": [
    "#### (-) side job: add gene unique to 'comp_df_stat'"
   ]
  },
  {
   "cell_type": "code",
   "execution_count": null,
   "metadata": {},
   "outputs": [],
   "source": [
    "comp_df_stat_all[[taglabel,'grpm_genes','interesting genes']]"
   ]
  },
  {
   "cell_type": "markdown",
   "metadata": {},
   "source": [
    "##### - single search overrall"
   ]
  },
  {
   "cell_type": "code",
   "execution_count": null,
   "metadata": {},
   "outputs": [],
   "source": [
    "# single grpm search (nutri general excluded):\n",
    "grpm_out_int_sort_sub = grpm_out_int_sort[:survey_l]\n",
    "\n",
    "m = 2 # index from master_df\n",
    "grpm_out_int_sort_sub_pop = grpm_out_int_sort_sub[:]\n",
    "\n",
    "grpm_out_int_sort_sub_pop.pop(m) # pop index survey\n",
    "grpm_out_int_sort_sub_pop.pop(0) # pop nutri\n",
    "\n",
    "gene_overrall_list_pop = []\n",
    "# all others genes\n",
    "for df in grpm_out_int_sort_sub_pop:#range(len(grpm_out_int_sort_sub_pop)):\n",
    "    #genes = grpm_out_int_sort_sub_pop[df].gene.drop_duplicates().to_list()\n",
    "    genes = df.gene.drop_duplicates().to_list()\n",
    "    gene_overrall_list_pop.extend(genes)\n",
    "\n",
    "gene_overrall_list_pop_un = set(gene_overrall_list_pop)\n",
    "\n",
    "filtered_df_all = grpm_out_int_sort_sub[m][~grpm_out_int_sort_sub[m]['gene'].isin(gene_overrall_list_pop_un)].dropna()\n",
    "\n",
    "all_uniq = set(filtered_df_all.gene)\n",
    "pd.Series(list(all_uniq)).to_clipboard()\n",
    "#pd.Series(list(gene_overrall_list_pop_un)).to_clipboard()\n",
    "#grpm_out_int_sort_sub[m].gene.drop_duplicates().to_clipboard()\n",
    "print(filtered_df_all.gene.nunique(),'/',grpm_out_int_sort[m].gene.nunique())\n",
    "\n",
    "#grpm_out_int_sort_sub_pop[1].gene.drop_duplicates().to_list()\n",
    "filtered_df_all"
   ]
  },
  {
   "cell_type": "markdown",
   "metadata": {},
   "source": [
    "##### - batch search overrall"
   ]
  },
  {
   "cell_type": "code",
   "execution_count": null,
   "metadata": {},
   "outputs": [],
   "source": [
    "# batch grpm search (nutri general excluded):\n",
    "grpm_out_int_sort_sub = grpm_out_int_sort[:survey_l]\n",
    "\n",
    "print('Uniques genes overall** / total' )\n",
    "for m in range(1, 10):\n",
    "    grpm_out_int_sort_sub_pop = grpm_out_int_sort_sub[:]\n",
    "\n",
    "    grpm_out_int_sort_sub_pop.pop(m) # pop index survey\n",
    "    grpm_out_int_sort_sub_pop.pop(0) # pop nutri\n",
    "\n",
    "    gene_overrall_list_pop = []\n",
    "    # all others genes\n",
    "    for df in grpm_out_int_sort_sub_pop:#range(len(grpm_out_int_sort_sub_pop)):\n",
    "        #genes = grpm_out_int_sort_sub_pop[df].gene.drop_duplicates().to_list()\n",
    "        genes = df.gene.drop_duplicates().to_list()\n",
    "        gene_overrall_list_pop.extend(genes)\n",
    "    gene_overrall_list_pop_un = set(gene_overrall_list_pop)\n",
    "\n",
    "    filtered_df_all = grpm_out_int_sort_sub[m][~grpm_out_int_sort_sub[m]['gene'].isin(gene_overrall_list_pop_un)]\n",
    "\n",
    "    print((master_df[taglabel][m]).ljust(20),filtered_df_all.gene.nunique(),'/',grpm_out_int_sort[m].gene.nunique())"
   ]
  },
  {
   "cell_type": "markdown",
   "metadata": {},
   "source": [
    "master_df[['directories','grpm_genes']][:survey_l].to_dict()\n",
    "\n",
    "Uniques genes overall** / total  :\n",
    "  'grpm_survey_pcg_ob_bmi' :   196 / 9713,\n",
    "  'grpm_survey_pcg_dmt2_ms' :  131 / 10983,\n",
    "  'grpm_survey_pcg_cvd' :      698 / 12368,\n",
    "  'grpm_survey_pcg_vitam' :     26 / 4045,\n",
    "  'grpm_survey_pcg_eat_taste':  75 / 5525,\n",
    "  'grpm_survey_pcg_intol' :     57 / 4040,\n",
    "  'grpm_survey_pcg_aller' :     103 / 4681,\n",
    "  'grpm_survey_pcg_oxi_stress':  31 / 5156,\n",
    "  'grpm_survey_pcg_xeno'} :     176 / 7115,"
   ]
  },
  {
   "cell_type": "markdown",
   "metadata": {},
   "source": [
    "##### - single search (interesting genes)"
   ]
  },
  {
   "cell_type": "code",
   "execution_count": null,
   "metadata": {},
   "outputs": [],
   "source": [
    "# single grpm search (nutri general excluded):\n",
    "grpm_out_thre_sub = grpm_out_thre[:survey_l]\n",
    "len(grpm_out_thre_sub)\n",
    "m = 7 # index from master_df\n",
    "\n",
    "grpm_out_thre_sub_pop = grpm_out_thre_sub[:]\n",
    "\n",
    "grpm_out_thre_sub_pop.pop(m)\n",
    "grpm_out_thre_sub_pop.pop(0) # pop nutri\n",
    "\n",
    "gene_overrall_list_pop = []\n",
    "# all others genes\n",
    "for df in grpm_out_thre_sub_pop:#range(len(grpm_out_int_sort_sub_pop)):\n",
    "    #genes = grpm_out_thre_sub_pop[df].gene.drop_duplicates().to_list()\n",
    "    genes = df.gene.drop_duplicates().to_list()\n",
    "    #print(len(set(genes)))\n",
    "    gene_overrall_list_pop.extend(genes)\n",
    "\n",
    "gene_overrall_list_pop_un = set(gene_overrall_list_pop)\n",
    "\n",
    "filtered_df = grpm_out_thre_sub[m][~grpm_out_thre_sub[m]['gene'].isin(gene_overrall_list_pop_un)]\n",
    "\n",
    "#pd.Series(list(gene_overrall_list_pop_un)).to_clipboard()\n",
    "#grpm_out_thre_sub[m].gene.drop_duplicates().to_clipboard()\n",
    "min_uniq = set(filtered_df.gene)\n",
    "pd.Series(list(min_uniq)).to_clipboard()\n",
    "print((master_df[taglabel][m]).ljust(20),filtered_df.gene.nunique(),'/',grpm_out_thre_sub[m].gene.nunique())\n",
    "filtered_df[['gene','interest_index']].drop_duplicates()"
   ]
  },
  {
   "cell_type": "markdown",
   "metadata": {},
   "source": [
    "##### - batch search (interesting genes)"
   ]
  },
  {
   "cell_type": "code",
   "execution_count": null,
   "metadata": {},
   "outputs": [],
   "source": [
    "# batch grpm search (nutri genral excluded):\n",
    "grpm_out_thre_sub = grpm_out_thre[:survey_l]\n",
    "\n",
    "print('Uniques genes (interesting, gi>=',thr_f,')/ total' )\n",
    "for m in range(1, 10):\n",
    "    grpm_out_thre_sub_pop = grpm_out_thre_sub[:]\n",
    "\n",
    "    grpm_out_thre_sub_pop.pop(m)\n",
    "    grpm_out_thre_sub_pop.pop(0) # pop nutri\n",
    "\n",
    "    gene_overrall_list_pop = []\n",
    "    # all others genes\n",
    "    for df in grpm_out_thre_sub_pop:#range(len(grpm_out_int_sort_sub_pop)):\n",
    "        #genes = grpm_out_thre_sub_pop[df].gene.drop_duplicates().to_list()\n",
    "        genes = df.gene.drop_duplicates().to_list()\n",
    "        #print(len(set(genes)))\n",
    "        gene_overrall_list_pop.extend(genes)\n",
    "    gene_overrall_list_pop_un = set(gene_overrall_list_pop)\n",
    "\n",
    "    filtered_df = grpm_out_thre_sub[m][~grpm_out_thre_sub[m]['gene'].isin(gene_overrall_list_pop_un)]\n",
    "\n",
    "    print((master_df[taglabel][m]).ljust(20),filtered_df.gene.nunique(),'/',grpm_out_thre_sub[m].gene.nunique())"
   ]
  },
  {
   "cell_type": "markdown",
   "metadata": {},
   "source": [
    "LOG\n",
    "redo on grpm_out_thre\n",
    "Uniques genes int value thr 0.0055** / total  :\n",
    "  'grpm_survey_pcg_ob_bmi' :    51 / 491\n",
    "  'grpm_survey_pcg_dmt2_ms' :   54 / 658\n",
    "  'grpm_survey_pcg_cvd' :       369 / 1064\n",
    "  'grpm_survey_pcg_vitam' :     18 / 91\n",
    "  'grpm_survey_pcg_eat_taste':  31 / 179\n",
    "  'grpm_survey_pcg_intol' :     102 / 196\n",
    "  'grpm_survey_pcg_aller' :     105 / 212\n",
    "  'grpm_survey_pcg_oxi_stress': 2 / 82\n",
    "  'grpm_survey_pcg_xeno'} :     101 / 309\n",
    "\n",
    "Uniques genes (interesting) int index> 0.0136/ total\n",
    "    Obesity & Weight     7 / 289\n",
    "    Diabetes Type II     52 / 571\n",
    "    Cardiovascular Hlth  288 / 903\n",
    "    Vitamins & Minerals  21 / 85\n",
    "    Eating Behavior      37 / 196\n",
    "    Food Intolerances    185 / 363\n",
    "    Food Allergies       267 / 423\n",
    "    Oxidative Stress     2 / 73\n",
    "    Xenobiotics Metab    34 / 158\n",
    "\n",
    "Uniques genes (interesting, gi>= 0.0125 )/ total\n",
    "    Obesity & Weight     9 / 317\n",
    "    Diabetes Type II     56 / 603\n",
    "    Cardiovascular Hlth  320 / 975\n",
    "    Vitamins & Minerals  19 / 89\n",
    "    Eating Behavior      36 / 211\n",
    "    Food Intolerances    201 / 392\n",
    "    Food Allergies       279 / 451\n",
    "    Oxidative Stress     2 / 75\n",
    "    Xenobiotics Metab    36 / 173\n",
    "\n",
    "\n",
    "**(general nutri excluded)"
   ]
  },
  {
   "cell_type": "markdown",
   "metadata": {},
   "source": [
    "#### (-) side job 2: thresholded genes on grpm with boolean>quant95"
   ]
  },
  {
   "cell_type": "code",
   "execution_count": null,
   "metadata": {},
   "outputs": [],
   "source": [
    "comp_df_stat_all.percentile_95.iloc[1]\n",
    "grpm_out_thre_sub[0]\n",
    "\n",
    "#grpm_out_thre_sub_95 = []\n",
    "for grpm, i  in zip(grpm_out_thre_sub, range(len(grpm_out_thre_sub))):\n",
    "    grpm['>95'] = grpm['interest_index'] > comp_df_stat_all['percentile_95'].iloc[i]\n",
    "    #grpm['>95'] = grpm['interest_index'] > comp_df_stat_all['percentile_95']\n",
    "grpm_out_thre_sub[1]"
   ]
  },
  {
   "cell_type": "code",
   "execution_count": null,
   "metadata": {},
   "outputs": [],
   "source": [
    "#only in 'Cardiovascular Diseases' boolean == False for some genes\n",
    "print(grpm_out_thre_sub[3][grpm_out_thre_sub[3]['>95'] == False].nunique())\n",
    "print(grpm_out_thre_sub[3][grpm_out_thre_sub[3]['>95'] == True].nunique())\n",
    "print(grpm_out_thre_sub[3].nunique())\n",
    "grpm_out_thre_sub[3][grpm_out_thre_sub[3]['>95'] == False]"
   ]
  },
  {
   "cell_type": "markdown",
   "metadata": {},
   "source": []
  },
  {
   "cell_type": "markdown",
   "metadata": {},
   "source": [
    "#### (4) coocur matrix and visualise heatmap"
   ]
  },
  {
   "cell_type": "code",
   "execution_count": null,
   "metadata": {},
   "outputs": [],
   "source": [
    "# COOCCURANCE MATRIX MODULE------------\n",
    "# second matrix build check\n",
    "\n",
    "# choose value\n",
    "value = input(\"choose value: ['gene', 'rsid', 'pmids', 'mesh']\")\n",
    "# ['gene', 'rsid', 'pmids', 'mesh']\n",
    "\n",
    "# Assuming grpm_out_list is a list of objects and i is the index\n",
    "lists = []\n",
    "for i in range(len(grpm_out_thre)):\n",
    "    lists.append(set(grpm_out_thre[i][value].to_list()))\n",
    "\n",
    "# set the lists\n",
    "num_lists = len(lists)\n",
    "\n",
    "# Initialize a 2D list of zeros with dimensions equal to the number of lists\n",
    "cooccur_2_matrix = [[0] * num_lists for i in range(num_lists)]\n",
    "type(cooccur_2_matrix)\n",
    "#print(len(set(lists[1]) & set(lists[1])))\n",
    "#print(len(set(lists[1]) & set(lists[3])))\n",
    "\n",
    "# Loop over all pairs of lists and count the number of co-occurring elements\n",
    "for i in range(num_lists):\n",
    "    for j in range(num_lists):\n",
    "        if i == j:\n",
    "            cooccur_2_matrix[i][j] = len(lists[i])\n",
    "        else:\n",
    "            cooccur_2_matrix[i][j] = len(set(lists[i]) & set(lists[j]))\n",
    "\n",
    "# Convert the 2D list to a Pandas DataFrame\n",
    "cooccur_2_df = pd.DataFrame(cooccur_2_matrix,\n",
    "                          columns=[i for i in master_df[taglabel]],\n",
    "                          index = [i for i in master_df[taglabel]])\n",
    "#columns=['grpm{}'.format(i+1) for i in range(num_lists)],\n",
    "#index=['grpm{}'.format(i+1) for i in range(num_lists)])\n",
    "\n",
    "# Print the resulting DataFrame\n",
    "cooccur_2_df.to_clipboard()\n",
    "\n",
    "print('Cooccurrance Matrix on interesting genes: '+ value)\n",
    "\n",
    "sub_cooccur_2_df = cooccur_2_df.iloc[:,:survey_l][:survey_l]\n",
    "display(sub_cooccur_2_df)\n",
    "\n",
    "if simple_bool('create absolute heatmap (y) or normalized (n):'):\n",
    "    # Row max values------------------\n",
    "    fig, ax = plt.subplots()\n",
    "\n",
    "    # Iterate over each row and plot individually\n",
    "    for i, row in enumerate(sub_cooccur_2_df[:survey_l].values):\n",
    "        row_values = row.astype(float)  # Convert string values to floats\n",
    "        max_value = np.max(row_values)  # Calculate the maximum value for the current row\n",
    "        heatmap = ax.imshow([row_values],\n",
    "                            cmap='YlGnBu',\n",
    "                            vmax=max_value,\n",
    "                            aspect='auto',\n",
    "                            extent=[-0.5, len(row)+0.5, i+0.5, i-0.5])\n",
    "        ax.text(len(row)-0.1, i,\n",
    "                f\"{int(max_value)}\",\n",
    "                ha='left',\n",
    "                va='center')\n",
    "\n",
    "    # Add colorbar\n",
    "    cbar = plt.colorbar(heatmap)\n",
    "\n",
    "    # Set the tick labels and axis labels\n",
    "    ax.set_xticks(np.arange(sub_cooccur_2_df[:survey_l].shape[1]))\n",
    "    ax.set_yticks(np.arange(sub_cooccur_2_df[:survey_l].shape[0]))\n",
    "    ax.set_xticklabels(list(master_df[taglabel][:survey_l]), rotation=45, ha='right')\n",
    "    ax.set_yticklabels(list(master_df[taglabel][:survey_l]))\n",
    "\n",
    "    # Set the title\n",
    "    ax.set_title('Occurrence Matrix: ' + value+'\\ninterest_index threshold: '+str(thr_f))\n",
    "\n",
    "    # Show the plot\n",
    "    plt.show()\n",
    "\n",
    "else:\n",
    "    # modify coocur matrix with range [0,1]----\n",
    "    sub_cooccur_2_df.to_clipboard()\n",
    "    sub_cooccur_2_df_normalized = sub_cooccur_2_df.div(sub_cooccur_2_df.max(axis=1), axis=0) #div()= divide\n",
    "\n",
    "    sub_cooccur_2_df_normalized.to_clipboard()\n",
    "\n",
    "    #Overral values----------------------------\n",
    "    #Create a figure and axis\n",
    "    fig, ax = plt.subplots()\n",
    "\n",
    "    #Create the heatmap\n",
    "    heatmap = ax.imshow(sub_cooccur_2_df_normalized[:survey_l], cmap='YlGnBu')\n",
    "\n",
    "    #Add colorbar\n",
    "    cbar = plt.colorbar(heatmap)\n",
    "\n",
    "    #Set the tick labels and axis labels\n",
    "    ax.set_xticks(np.arange(sub_cooccur_2_df_normalized[:survey_l].shape[1]))\n",
    "    ax.set_yticks(np.arange(sub_cooccur_2_df_normalized[:survey_l].shape[0]))\n",
    "    ax.set_xticklabels(list(master_df[taglabel][:survey_l]), rotation=45, ha='right')\n",
    "    ax.set_yticklabels(list(master_df[taglabel][:survey_l]))\n",
    "\n",
    "    #Set the title\n",
    "    ax.set_title('Occurrence Matrix: ' + value+'\\ninterest_index threshold: '+str(thr_f))\n",
    "\n",
    "    #Show the plot\n",
    "    plt.show()"
   ]
  },
  {
   "cell_type": "markdown",
   "metadata": {},
   "source": [
    "## Definining ‘interest index’ threshold process"
   ]
  },
  {
   "cell_type": "code",
   "execution_count": null,
   "metadata": {},
   "outputs": [],
   "source": [
    "# Definining ‘interest index’ threshold-----------------------------\n",
    "thr_val_f = 0.0055\n",
    "thr_int_f1 = 0.025\n",
    "thr_int_f2 = 0.0136\n",
    "\n",
    "dir1 = 8 # choose dir\n",
    "dir2 = 9 # choose dir\n",
    "repo_int_sort_1 = repo_int_sort_list[dir1]\n",
    "repo_int_sort_2 = repo_int_sort_list[dir2]\n",
    "\n",
    "threshold_GRPMX_report_int_sort = repo_int_sort_1[(repo_int_sort_1['interest_index']>=thr_int_f1) & (repo_int_sort_1['interest_index']<=1)].reset_index(drop=True)\n",
    "\n",
    "print('thresholding',directories[dir1])\n",
    "threshold_GRPMX_report_int_sort2 = repo_int_sort_1[(repo_int_sort_1['interest_index']>=thr_int_f2) & (repo_int_sort_1['interest_index']<=1)].reset_index(drop=True)\n",
    "print('thresholding',directories[dir2])\n",
    "threshold_GRPMX_report_int_2_sort2 = repo_int_sort_2[(repo_int_sort_2['interest_index']>=thr_int_f2) & (repo_int_sort_2['interest_index']<=1)].reset_index(drop=True)\n",
    "\n",
    "print('threshold by \\'interest index\\':','\\n  ', directories[dir1],'\\n  ', directories[dir2])\n",
    "#pyperclip.copy(str(threshold)+' '+ str(len(threshold_GRPMX_report_int_sort)))\n",
    "threshold_GRPMX_report_int_sort2#.to_csv('threshold_GRPMX_report_int_sort.csv')#2#.to_clipboard()"
   ]
  },
  {
   "cell_type": "markdown",
   "metadata": {},
   "source": [
    "#### filtering grpmx_output_full with selected interesting genes"
   ]
  },
  {
   "cell_type": "code",
   "execution_count": null,
   "metadata": {},
   "outputs": [],
   "source": [
    "master_df"
   ]
  },
  {
   "cell_type": "code",
   "execution_count": null,
   "metadata": {},
   "outputs": [],
   "source": [
    "#grpmx_out_1 = pd.read_csv(directories[dir1]+'/grpmx_filtered_output.csv',index_col=0)\n",
    "#grpmx_out_2 = pd.read_csv(directories[dir2]+'/grpmx_filtered_output.csv',index_col=0)\n",
    "\n",
    "# the same as grpm_out_list\n",
    "grpmx_out_1 = grpm_out_list[dir1]\n",
    "grpmx_out_2 = grpm_out_list[dir2]"
   ]
  },
  {
   "cell_type": "code",
   "execution_count": null,
   "metadata": {},
   "outputs": [],
   "source": [
    "grpmx_out_1"
   ]
  },
  {
   "cell_type": "code",
   "execution_count": null,
   "metadata": {},
   "outputs": [],
   "source": [
    "## grpm [gene, interstr index] to merge wit grpmx output\n",
    "print('add interest index to grpmx_output', directories[dir1])\n",
    "small_dummy = repo_int_sort_list[dir1][['gene','interest_index']]\n",
    "\n",
    "#grpmx_out_merge = pd.merge(grpmx_out_1, small_dummy, left_on='gene', right_on='gene')\n",
    "grpmx_out_merge_sort = pd.merge(grpmx_out_1, small_dummy, left_on='gene', right_on='gene')\\\n",
    "    .sort_values(by=['interest_index','rsid'], ascending =False).reset_index(drop=True)\n",
    "grpmx_out_merge_sort"
   ]
  },
  {
   "cell_type": "code",
   "execution_count": null,
   "metadata": {},
   "outputs": [],
   "source": [
    "## grpm [gene, interstr index] to merge wit grpmx output\n",
    "print('add interest index to grpmx_output',directories[dir2])\n",
    "small_dummy = repo_int_sort_list[dir2][['gene','interest_index']]\n",
    "#grpmx_out_2_merge = pd.merge(grpmx_out_2, small_dummy, left_on='gene', right_on='gene')\n",
    "grpmx_out_2_merge_sort = pd.merge(grpmx_out_2, small_dummy, left_on='gene', right_on='gene')\\\n",
    "    .sort_values(by=['interest_index','rsid'], ascending =False).reset_index(drop=True)\n",
    "grpmx_out_2_merge_sort"
   ]
  },
  {
   "cell_type": "code",
   "execution_count": null,
   "metadata": {},
   "outputs": [],
   "source": [
    "#Appling for thershold genes-------------------------------------\n",
    "print('Appling \"interest index\" threshold',thr_int_f2,'on', directories[dir1])\n",
    "grpmx_out_thr = grpmx_out_merge_sort[grpmx_out_merge_sort.gene.isin(threshold_GRPMX_report_int_sort2.gene)]\n",
    "print('Appling \"interest index\" threshold',thr_int_f2,'on', directories[dir2])\n",
    "grpmx_out_thr_2 = grpmx_out_2_merge_sort[grpmx_out_2_merge_sort.gene.isin(threshold_GRPMX_report_int_2_sort2.gene)]\n",
    "\n",
    "print('')\n",
    "print(directories[dir1], 'threshold',thr_int_f2,'applied')\n",
    "print(grpmx_out_thr.gene.nunique(), 'genes')\n",
    "print(grpmx_out_thr.rsid.nunique(), 'rsid with pmid with mesh')\n",
    "print(grpmx_out_thr.mesh.nunique(), 'mesh')\n",
    "print(round(grpmx_out_thr.rsid.nunique()/grpmx_out_thr.gene.nunique(), 0), 'risd for gene (mean)')\n",
    "print ('Based on', repo_int_sort_list[dir1].reference_mesh[0], 'reference mesh terms')\n",
    "\n",
    "print('')\n",
    "print(directories[dir2], 'threshold',thr_int_f2,'applied')\n",
    "print(grpmx_out_thr_2.gene.nunique(), 'genes')\n",
    "print(grpmx_out_thr_2.rsid.nunique(), 'rsid with pmid with mesh')\n",
    "print(grpmx_out_thr_2.mesh.nunique(), 'mesh')\n",
    "print(round(grpmx_out_thr_2.rsid.nunique()/grpmx_out_thr_2.gene.nunique(), 0), 'risd for gene (mean)')\n",
    "print ('Based on', repo_int_sort_list[dir2].reference_mesh[0], 'reference mesh terms')"
   ]
  },
  {
   "cell_type": "code",
   "execution_count": null,
   "metadata": {},
   "outputs": [],
   "source": [
    "grpmx_out_thr_ngene = grpmx_out_thr.gene.nunique()\n",
    "grpmx_out_thr_nrsid = grpmx_out_thr.rsid.nunique()\n",
    "grpmx_out_thr_npmid = grpmx_out_thr.pmids.nunique()\n",
    "grpmx_out_thr_nmesh = grpmx_out_thr.mesh.nunique()\n",
    "print(directories[dir1])\n",
    "print(grpmx_out_thr_ngene, 'genes')\n",
    "print(grpmx_out_thr_nrsid, 'rsids')\n",
    "print(grpmx_out_thr_npmid, 'pmids')\n",
    "print(grpmx_out_thr_nmesh, 'meshs')\n",
    "print('')\n",
    "grpmx_out_thr_2_ngene = grpmx_out_thr_2.gene.nunique()\n",
    "grpmx_out_thr_2_nrsid = grpmx_out_thr_2.rsid.nunique()\n",
    "grpmx_out_thr_2_npmid = grpmx_out_thr_2.pmids.nunique()\n",
    "grpmx_out_thr_2_nmesh = grpmx_out_thr_2.mesh.nunique()\n",
    "print(directories[dir2])\n",
    "print(grpmx_out_thr_2_ngene, 'genes')\n",
    "print(grpmx_out_thr_2_nrsid, 'rsids')\n",
    "print(grpmx_out_thr_2_npmid, 'pmids')\n",
    "print(grpmx_out_thr_2_nmesh, 'meshs')"
   ]
  },
  {
   "cell_type": "code",
   "execution_count": null,
   "metadata": {},
   "outputs": [],
   "source": [
    "# Analyze intersections\n",
    "directory_2 = directories[dir2]\n",
    "directory   = directories[dir1]\n",
    "\n",
    "grpmx_thr_genes = grpmx_out_thr.gene.drop_duplicates()\n",
    "grpmx_thr_rsids = grpmx_out_thr.rsid.drop_duplicates()\n",
    "grpmx_thr_pmids = grpmx_out_thr.pmids.drop_duplicates()\n",
    "grpmx_thr_meshs = grpmx_out_thr.mesh.drop_duplicates()\n",
    "grpmx_thr_2_genes = grpmx_out_thr_2.gene.drop_duplicates()\n",
    "grpmx_thr_2_rsids = grpmx_out_thr_2.rsid.drop_duplicates()\n",
    "grpmx_thr_2_pmids = grpmx_out_thr_2.pmids.drop_duplicates()\n",
    "grpmx_thr_2_meshs = grpmx_out_thr_2.mesh.drop_duplicates()\n",
    "\n",
    "mask_gene_1 = grpmx_out_thr_2.gene.isin( grpmx_thr_genes)\n",
    "mask_rsid_1 = grpmx_out_thr_2.rsid.isin( grpmx_thr_rsids)\n",
    "mask_pmid_1 = grpmx_out_thr_2.pmids.isin(grpmx_thr_pmids)\n",
    "mask_mesh_1 = grpmx_out_thr_2.mesh.isin( grpmx_thr_meshs)\n",
    "mask_gene_2 = grpmx_out_thr.gene.isin(grpmx_thr_2_genes)\n",
    "mask_rsid_2 = grpmx_out_thr.rsid.isin(grpmx_thr_2_rsids)\n",
    "mask_pmid_2 = grpmx_out_thr.pmids.isin(grpmx_thr_2_pmids)\n",
    "mask_mesh_2 = grpmx_out_thr.mesh.isin(grpmx_thr_2_meshs)\n",
    "\n",
    "grpmx_out_thr_maskgene = grpmx_out_thr[mask_gene_2]\n",
    "grpmx_out_thr_maskrsid = grpmx_out_thr[mask_rsid_2]\n",
    "grpmx_out_thr_maskpmid = grpmx_out_thr[mask_pmid_2]\n",
    "grpmx_out_thr_maskmesh = grpmx_out_thr[mask_mesh_2]\n",
    "grpmx_out_thr_2_maskgene = grpmx_out_thr_2[mask_gene_1]\n",
    "grpmx_out_thr_2_maskrsid = grpmx_out_thr_2[mask_rsid_1]\n",
    "grpmx_out_thr_2_maskpmid = grpmx_out_thr_2[mask_pmid_1]\n",
    "grpmx_out_thr_2_maskmesh = grpmx_out_thr_2[mask_mesh_1]\n",
    "\n",
    "print(directory,'vs',directory_2)\n",
    "print(grpmx_out_thr_maskgene.gene.nunique() ,  'genes intersection on', grpmx_out_thr_ngene)\n",
    "print(grpmx_out_thr_maskrsid.rsid.nunique() ,  'rsid intersection on',  grpmx_out_thr_nrsid)\n",
    "print(grpmx_out_thr_maskpmid.pmids.nunique(),  'pmid intersection on',  grpmx_out_thr_npmid)\n",
    "print(grpmx_out_thr_maskmesh.mesh.nunique() ,  'mesh intersection on',  grpmx_out_thr_nmesh)\n",
    "print('')\n",
    "print(directory_2,'vs',directory)\n",
    "print(grpmx_out_thr_2_maskgene.gene.nunique(), 'genes intersection on', grpmx_out_thr_2_ngene)\n",
    "print(grpmx_out_thr_2_maskrsid.rsid.nunique(), 'rsid intersection on',  grpmx_out_thr_2_nrsid)\n",
    "print(grpmx_out_thr_2_maskpmid.pmids.nunique(),'pmid intersection on',  grpmx_out_thr_2_npmid)\n",
    "print(grpmx_out_thr_2_maskmesh.mesh.nunique(), 'mesh intersection on',  grpmx_out_thr_2_nmesh)\n",
    "print('')\n",
    "print('Overlapping index:')\n",
    "print(round(grpmx_out_thr_maskgene.gene.nunique() /grpmx_out_thr_ngene*100,2),'%','genes overlap')\n",
    "print(round(grpmx_out_thr_maskrsid.rsid.nunique() /grpmx_out_thr_nrsid*100,2),'%', 'rsid overlap')\n",
    "print(round(grpmx_out_thr_maskpmid.pmids.nunique()/grpmx_out_thr_npmid*100,2),'%', 'pmid overlap')\n",
    "print(round(grpmx_out_thr_maskmesh.mesh.nunique() /grpmx_out_thr_nmesh*100,2),'%', 'mesh overlap')"
   ]
  },
  {
   "cell_type": "markdown",
   "metadata": {},
   "source": [
    "## Analyzing mesh on selected gene data"
   ]
  },
  {
   "cell_type": "code",
   "execution_count": null,
   "metadata": {},
   "outputs": [],
   "source": [
    "# just top10mesh from grpm report\n",
    "\n",
    "type(threshold_GRPMX_report_int_sort2['matching_top10mesh'][0])\n",
    "import ast\n",
    "# Define a function to convert a string to a list\n",
    "def str_to_list(s):\n",
    "    return ast.literal_eval(s)\n",
    "\n",
    "mesh_exp = []\n",
    "for i in range(len(threshold_GRPMX_report_int_sort2)):\n",
    "    #for mesh in threshold_GRPMX_report_int_sort2['matching_top10mesh'].apply(str_to_list)[i]:\n",
    "    for mesh in threshold_GRPMX_report_int_sort2['matching_top10mesh'].apply(ast.literal_eval)[i]:\n",
    "        f = threshold_GRPMX_report_int_sort2['gene'][i], mesh\n",
    "        mesh_exp.append(f)\n",
    "\n",
    "gene_mesh = pd.DataFrame(mesh_exp)"
   ]
  },
  {
   "cell_type": "code",
   "execution_count": null,
   "metadata": {},
   "outputs": [],
   "source": [
    "gene_mesh.columns = ['gene','mesh']\n",
    "print('gene:', gene_mesh.gene.nunique())\n",
    "print('mesh:', gene_mesh.mesh.nunique())"
   ]
  },
  {
   "cell_type": "code",
   "execution_count": null,
   "metadata": {},
   "outputs": [],
   "source": [
    "contingency_table = pd.crosstab(gene_mesh['gene'], gene_mesh['mesh'])\n",
    "contingency_table"
   ]
  },
  {
   "cell_type": "code",
   "execution_count": null,
   "metadata": {},
   "outputs": [],
   "source": [
    "# groupby describe\n",
    "gene_mesh_count = gene_mesh.groupby('mesh').describe().reset_index()\n",
    "gene_mesh_count.columns = [('mesh_'),\n",
    "                           ('gene_count'),\n",
    "                           ('gene_unique'),\n",
    "                           ('gene_top'),\n",
    "                           ('gene_freq')]\n",
    "gene_mesh_count.sort_values(by='gene_count', ascending =False).reset_index(drop=True)"
   ]
  },
  {
   "cell_type": "code",
   "execution_count": null,
   "metadata": {},
   "outputs": [],
   "source": [
    "#get pmid number range for threshold_GRPMX_report_int_sort2\n",
    "subset = threshold_GRPMX_report_int_sort2[['gene','starting_pmid','matching_pmids']]\n",
    "subset_sort = subset.sort_values(by='starting_pmid', ascending = False).reset_index(drop=True)\n",
    "print(len(threshold_GRPMX_report_int_sort2), 'filtered genes with threshold',thr_int_f2 )\n",
    "print('    min matching pmid value: ', subset_sort.matching_pmids.min())\n",
    "print('    min starting pmid value: ', subset_sort.starting_pmid.min())\n",
    "\n",
    "pmid_num_db = GRPM_report_sort[GRPM_report_sort['pubmed_pmid'] >= subset_sort.starting_pmid.min()].count()['pubmed_pmid']\n",
    "print(pmid_num_db, 'genes in GRPM db has >=', subset_sort.starting_pmid.min())\n",
    "print( len(threshold_GRPMX_report_int_sort2),'genes filterd','over', pmid_num_db, 'equivalent genes in db')\n",
    "subset_sort.gene.to_clipboard(index=False, header=False)"
   ]
  },
  {
   "cell_type": "code",
   "execution_count": null,
   "metadata": {},
   "outputs": [],
   "source": [
    "# DENSITY PLOT THRESHOLD\n",
    "data = threshold_GRPMX_report_int_sort.interest_index#.iloc[:100]\n",
    "\n",
    "sns.set_style('whitegrid')\n",
    "sns.kdeplot(np.array(data), bw_method=0.5)\n",
    "sns.rugplot(np.array(data), color='r')\n",
    "\n",
    "#plt.yscale('log')\n",
    "plt.title('interest_index')\n",
    "#plt.yscale('log')\n",
    "plt.show()"
   ]
  },
  {
   "cell_type": "markdown",
   "metadata": {},
   "source": [
    "# Positive and negative control\n",
    "Truth table contructor\n"
   ]
  },
  {
   "cell_type": "code",
   "execution_count": null,
   "metadata": {
    "collapsed": false
   },
   "outputs": [],
   "source": [
    "master_df\n",
    "repo_thre_list[1]"
   ]
  },
  {
   "cell_type": "code",
   "execution_count": null,
   "metadata": {},
   "outputs": [],
   "source": [
    "#Truth table contructor:\n",
    "if 'threshold_GRPMX_report_int_sort' in locals() or 'threshold_GRPMX_report_int_sort' in globals():\n",
    "    genesthr01 = threshold_GRPMX_report_int_sort.gene\n",
    "    genesthr02 = threshold_GRPMX_report_int_sort2.gene\n",
    "else:\n",
    "    genesthr01 = repo_thre_list[0]\n",
    "    genesthr02 = repo_thre_list[1]\n",
    "#genesthr03 = threshold_GRPMX_report_int_sort3.gene\n",
    "#genesnewint = GRPMX_report_new_int.sort_values(by='new_interest_index',ascending=False).gene.iloc[:879]\n",
    "\n",
    "genestesi = pd.Series(['ADIPOQ','ADRB1','ADRB3','APOA2','APOA5','DRD2','FTO','GHRL','GHSR','IL-1B','LEP','MC4R','NPY','PPARG','SLC6A4','ACE','ADRB2','AGT','AGTR1','APOA1','APOB','APOC3','APOE','CETP','CYBA','EDN1','F5','FGB','GJA4','HMGCR','LIPC','LPA','LPL','MMP3','MTHFR','NOS3','PON1','PPARA','PPARGC1A','PROCR','SELE','SREBF2','VEGF','FABP2','IRS1','LEPR','MTNR1B','TCF7L2','ALPL','BCO1','CBS','FADS1','FUT2','GC','MTR','MTRR','NBPF3','TCN2','VDR','ADD1','CD36','CYP11B2','SLC2A2','TAS2R38','ADH1B','ADH1C','ALDH2','ALDOB','AOC1','CYP1A2','HLA-DQA1','HLA-DQB1','HNMT','MCM6','EPHX1','G6PD','GPX1','GSTP1','GSTT1','SOD2','SOD3','SOUX','CRP','IL-10','IL-6','IL6R','TNF'])\n",
    "genespnn = pd.Series(['ACE','ADH1B','ADIPOQ','ADRB2','ADRB3','AGT','ALDH2','APOA1','APOA2','APOB','APOC3','APOE','CBS','CD36','CETP','CRP','CYP11B2','CYP1A2','FTO','GC','GHSR','LEP','LEPR','LIPC','LPL','MTHFR','MTR','MTRR','NOS3','NPY','PPARA','PPARG','SLC2A2','SREBF2','TAS2R38','TCF7L2','TNF','VDR','ALDH1A2','FADS2','IL6','LTA','DRD2','MC4R','ABCA4','ABCB4','ABCC4','ABCG2','ABCG5','ABCG8','ACHE','ACSL5','ACTN3','ADCY3','ADH4','ADORA2A','ADRA2B','AGPAT2','AGRP','ALDH1A3','APOA4','AR','ARC','ATF4','ATP2A1','ATP7A','ATP7B','BCDIN3D','BDNF','BGLAP','BHMT','BIRC7','BMP6','BSCL2','BTG2','BUD13','C1S','C2','C2orf69','C3','C4orf46','C5','C7','C9','CALU','CAV2','CCDC50','CCK','CD14','CD4','CDH2','CDK14','CFH','CFI','CGAS','CHDH','CHKA','CHKB','CLOCK','COMT','CP','CPVL','CRY2','CS','CTH','CUBN','CUL4B','CYP24A1','CYP26A1','CYP26B1','CYP26C1','CYP27A1','CYP27B1','CYP2A6','CYP2C19','CYP2C9','CYP2E1','CYP2R1','CYP3A4','CYP3A5','CYP7A1','DBP','DHCR7','DHFR','DHRS3','DIS3L','DNAAF4','DUOX2','EBP','EEF2K','ELOVL2','ELOVL5','ENTPD6','ETV5','EZH2','F2','F7','F9','FAAH','FAAH2','FAIM2','FASN','FASTK','FGF21','FGF23','GAD2','GAS6','GCG','GGCX','GIP','GIPR','GLRX','GLT8D2','GNAS','GNAT3','GNB3','GNPDA2','GRK4','GRM8','GRP','H19','HAMP','HJV','HP','HR','HSD11B2','IDS','IGLJ3','INSIG2','IRX5','ISX','KCNH7','KCNH8','KCTD15','KIF5B','KSR2','LINC00474','LMNA','LPO','LRAT','LRP2','LRP5','MAF','MAX','MB','MC2R','MC3R','MC5R','MDS2','MGP','MIPEP','MLXIPL','MT2A','MTHFS','MYLIP','NADSYN1','NAE1','NAT2','NCBP2','NDN','NEDD4','NEDD4L','NHS','NLRP3','NLRP6','NMB','NR1H3','OCM','OGT','OR6N2','PAH','PANK2','PARP2','PARP3','PC','PEMT','PER2','PGC','PGR','PIP5K1B','PLTP','PNLIP','PNMT','PNPLA3','POMC','PPARD','PRRG2','PRRG3','PRRG4','PSMD3','PTH','PWRN2','PYY','RAB21','RAPGEF3','RBP4','RBPMS','RDH12','RDH5','RDH8','RGS18','RPE','RPE65','RXRA','SCAP','SCD','SEC16B','SGK1','SH2B1','SHMT2','SIRT2','SIRT3','SIRT4','SIRT5','SIRT6','SIRT7','SLC10A2','SLC13A3','SLC13A4','SLC16A1','SLC16A9','SLC17A1','SLC17A3','SLC19A2','SLC19A3','SLC22A1','SLC22A11','SLC22A12','SLC22A3','SLC22A6','SLC22A8','SLC23A1','SLC23A2','SLC24A3','SLC25A32','SLC26A4','SLC26A7','SLC2A5','SLC2A8','SLC2A9','SLC30A1','SLC30A2','SLC30A8','SLC39A11','SLC39A4','SLC40A1','SLC44A1','SLC4A5','SLC52A2','SLC52A3','SLC5A1','SLC5A12','SLC5A8','SLC8A1','SNORA48','SRR','SSB','STAT3','STRA6','SVIL','TAS1R2','TAS1R3','TCF4','TES','TF','TFAM','TFAP2B','TFEC','TFPI','TFR2','TG','THRA','TLR4','TM6SF2','TMEM18','TMPRSS6','TPO','TSLP','TTN','TTPA','TTR','TUB','TXNRD2','TXNRD3','TYMS','U3','UBE2L3','UCP2','UCP3','UMOD','UNG','UST','WNK4','XDH','XK','ZBTB7B','ZFHX3','ZFR2','ZNF169','ZNF664'])\n",
    "\n",
    "pos_control = pd.Series([\"ACSL1\",\"ADAM17\",\"ADRB2\",\"ADRB3\",\"ADD1\",\"ADH1B\",\"ADH1C\",\"ADIPOQ\",\"ADORA2A\",\"ADRB1\",\"AGT\",\"ALDH2\",\"ALDOB\",\"ALPL\",\"APOA1\",\"APOA2\",\"APOA5\",\"APOB\",\"APOC3\",\"APOE\",\"BCO1\",\"C3\",\"CBS\",\"CD36\",\"CETP\",\"CHDH\",\"CHRNA3\",\"CHRNA5\",\"COMT\",\"CRP\",\"CSK\",\"CYP11B2\",\"CYP1A2\",\"CYP2R1\",\"DNMT3B\",\"DRD2\",\"EDN1\",\"EPHX1\",\"F5\",\"FABP2\",\"FADS1\",\"FAF1\",\"FOXO3\",\"FTH1\",\"FTO\",\"FUT2\",\"G6PD\",\"GC\",\"GHRL\",\"GIPR\",\"GPX1\",\"GSTP1\",\"HFE\",\"HJV\",\"HLA-DQA1\",\"IL10\",\"IL1B\",\"IL6\",\"INSIG2\",\"LEPR\",\"LIPC\",\"LPA\",\"LPL\",\"MC4R\",\"MCM6\",\"MTHFR\",\"MTNR1B\",\"MTR\",\"MTRR\",\"NADSYN1\",\"NBPF3\",\"NOS3\",\"NPY\",\"PCSK1\",\"PEMT\",\"PPARA\",\"PPARG\",\"PPARGC1A\",\"SELE\",\"SH2B1\",\"SIRT1\",\"SLC23A1\",\"SLC2A2\",\"SLC30A8\",\"SLC40A1\",\"SLC5A6\",\"SOD2\",\"SOD3\",\"TAS2R38\",\"TCF7L2\",\"TCN2\",\"TFR2\",\"TNF\",\"TTPA\",\"UGT1A1\",\"VDR\",\"PNPLA3\",\"AGTR1\",\"AOC1\",\"BCMO1\",\"CDKN2B-AS1\",\"CRY1\",\"CYBA\",\"FGB\",\"GHSR\",\"GSTT1\",\"HAMP\",\"HLA-DQ\",\"HLA-DQB1\",\"HMGCR\",\"IL6R\",\"IRS1\",\"LEP\",\"MMP3\",\"PON1\",\"PROCR\",\"SLC6A4\",\"SOUX\",\"SREBF2\"])\n",
    "\n",
    "neg_control = pd.Series([\"ABCB1\",\"ABCB11\",\"AGER\",\"AGXT\",\"AIRE\",\"ANGPTL7\",\"APOC1\",\"ARMS2\",\"ASXL1\",\"BACH2\",\"BAX\",\"BMPR2\",\"BRIP1\",\"BTG4\",\"CACNA1S\",\"CACNB2\",\"CAPN3\",\"CARD8\",\"CASP3\",\"CD40\",\"CDK4\",\"CDKN2A\",\"CFH\",\"CHRNB4\",\"CLEC16A\",\"CLEC7A\",\"CLPTM1L\",\"CNNM2\",\"COL11A1\",\"COLEC10\",\"CPS1\",\"CR1\",\"CRHR1\",\"CXCL12\",\"CYCS\",\"DDC\",\"DNAH8\",\"DRD1\",\"DRD4\",\"EPM2AIP1\",\"ERBB2\",\"ERBB4\",\"F9\",\"FANCA\",\"FCGR3A\",\"FCGR3B\",\"FGFR4\",\"FKRP\",\"GCH1\",\"GFAP\",\"GLB1\",\"GRIN2B\",\"HERC2\",\"HMOX1\",\"HOXB13\",\"HSPB1\",\"ICAM4\",\"IDH1\",\"IL1R1\",\"IRF6\",\"ITGB3\",\"KIT\",\"LIG4\",\"LSP1\",\"MC1R\",\"MED12\",\"MMP2\",\"MMP9\",\"MMUT\",\"MPZ\",\"MT-ND4\",\"MT-ND4L\",\"MT-ND5\",\"MUC1\",\"MYBPC3\",\"MYH7\",\"MYH9\",\"NBN\",\"NF1\",\"NFKBIA\",\"NLGN3\",\"NOS1\",\"NOTCH3\",\"NR1I3\",\"OBSL1\",\"OCA2\",\"OTC\",\"PBRM1\",\"PCSK9\",\"PDGFRB\",\"PIK3R1\",\"PLCE1\",\"PMS2\",\"POLD1\",\"PON2\",\"PRPH2\",\"PSRC1\",\"PTCH1\",\"PTEN\",\"PTPN2\",\"RETN\",\"RHO\",\"RNASEL\",\"RORA\",\"ROS1\",\"SCN4A\",\"SERPINC1\",\"SF3B1\",\"SLC22A12\",\"SLC22A2\",\"SLC26A4\",\"SLC2A9\",\"SMAD4\",\"SMO\",\"SMPD1\",\"SORL1\",\"SQSTM1\",\"SRD5A2\",\"STK11\",\"SYN3\",\"TARDBP\",\"TERT\",\"TIRAP\",\"TMPRSS2\",\"TNFSF15\",\"TNPO3\",\"TOMM40\",\"TREM2\",\"UBC\",\"UCHL1\",\"VWF\",\"WRN\",\"WT1\",\"XPC\",\"ZFHX3\",\"ZNF804A\"])\n",
    "neg_control = neg_control.sample(119)\n",
    "\n",
    "#threshold_GRPM_report_sort.gene.sample(200).to_clipboard()\n",
    "neg_control2 = pd.Series([\"ABCA7\",\"ABCB11\",\"ACADVL\",\"ACTA2\",\"ADA\",\"ADAMTS13\",\"AKT1\",\"AOPEP\",\"ARMS2\",\"ATP2B1\",\"AURKA\",\"BAG6\",\"BARD1\",\"BCL2\",\"BMPR2\",\"BRCA1\",\"BRIP1\",\"BTK\",\"C2\",\"CACNA1C\",\"CACNB2\",\"CAPN3\",\"CCR5\",\"CD14\",\"CD209\",\"CDKAL1\",\"CFB\",\"CLU\",\"CNNM2\",\"CNR1\",\"CNTNAP2\",\"CPS1\",\"CSMD1\",\"CTNNA2\",\"CX3CR1\",\"CXCL8\",\"CYP17A1\",\"CYP1B1\",\"CYP2B6\",\"CYP2E1\",\"DBH\",\"DDC\",\"DISC1\",\"DLG4\",\"DNMT1\",\"DRD3\",\"EFEMP1\",\"ERAP1\",\"ERCC4\",\"F8\",\"FAM171A2\",\"FCGR3A\",\"FCGR3B\",\"FGF23\",\"FLG\",\"FOXP2\",\"FSHR\",\"GALNS\",\"GALT\",\"GATA4\",\"GDF5\",\"GHR\",\"GJB2\",\"GNAS\",\"GRIN2A\",\"GRIN2B\",\"GZMM\",\"HNF1A\",\"HRAS\",\"HTR1B\",\"HTR2A\",\"HTRA1\",\"IL18\",\"IL1A\",\"IL1RL1\",\"IL2\",\"IL2RA\",\"IL7R\",\"INHA\",\"JAK2\",\"KCNH2\",\"KCNJ5\",\"KCNQ2\",\"LHCGR\",\"LRRC37A2\",\"MED12\",\"MED12L\",\"MEFV\",\"MLH1\",\"MMP9\",\"MPL\",\"MT-ATP6\",\"MT-ATP8\",\"MT-CO3\",\"MT-CYB\",\"MT-ND2\",\"MUC1\",\"MYH14\",\"NOS2\",\"NOTCH4\",\"NPHS2\",\"NR3C2\",\"NRAS\",\"NT5C2\",\"NTRK1\",\"OCA2\",\"OPA1\",\"PAH\",\"PDGFRB\",\"POLG\",\"PON2\",\"POTEF\",\"PRPH2\",\"PSEN2\",\"PTEN\",\"PTPN2\",\"PTPN22\",\"RBFOX1\",\"RET\",\"RHD\",\"RHO\",\"ROS1\",\"SCN1A\",\"SCN9A\",\"SERPINE1\",\"SFTPC\",\"SLC26A4\",\"SLC2A9\",\"SLC6A3\",\"SOD1\",\"SORL1\",\"SYNE1\",\"TGFBR1\",\"TLR1\",\"TNFRSF11B\",\"TNFRSF1B\",\"TNPO3\",\"TOMM40\",\"TRIM37\",\"TSBP1\",\"TSC1\",\"TSHR\",\"TSPO\",\"TYR\",\"VAPB\",\"VEGFA\",\"WRAP53\",\"WRN\",\"WT1\",\"XRCC2\",\"ZAR1L\",\"ZBTB12\",\"ZNF804A\"])\n",
    "neg_control2 = neg_control2.sample(119)\n",
    "\n",
    "len(genesthr02),len(genesthr01), len(genestesi),len(genespnn)"
   ]
  },
  {
   "cell_type": "code",
   "execution_count": null,
   "metadata": {},
   "outputs": [],
   "source": [
    "# THE TRUTH\n",
    "genelist = genesthr02\n",
    "\n",
    "mask = genelist.isin(pos_control)\n",
    "genesin = genelist[mask]\n",
    "\n",
    "mask2 = pos_control.isin(genesin)\n",
    "genesnotin = pos_control[-mask2]\n",
    "print('positive control')\n",
    "len(genesin), len(genesnotin)\n"
   ]
  },
  {
   "cell_type": "code",
   "execution_count": null,
   "metadata": {},
   "outputs": [],
   "source": [
    "mask = genelist.isin(neg_control)\n",
    "genesin2 = genelist[mask]\n",
    "\n",
    "mask2 = neg_control.isin(genesin2)\n",
    "genesnotin2 = neg_control[-mask2]\n",
    "print('negative control')\n",
    "len(genesin2), len(genesnotin2)"
   ]
  },
  {
   "cell_type": "code",
   "execution_count": null,
   "metadata": {},
   "outputs": [],
   "source": [
    "mask = genelist.isin(neg_control2)\n",
    "genesin2 = genelist[mask]\n",
    "\n",
    "mask2 = neg_control2.isin(genesin2)\n",
    "genesnotin2 = neg_control2[-mask2]\n",
    "print('negative control 2')\n",
    "len(genesin2), len(genesnotin2)"
   ]
  },
  {
   "cell_type": "markdown",
   "metadata": {},
   "source": [
    "                geni tesi (87)\t\tgeni PNN (340)\n",
    "    GRPM-X\ta^2/bc\tgeni (thr01) (459)\t65 (+)\t22 (-)\t109 (+)\t231 (-)\n",
    "            geni (thr005) (879)\t72 (+)\t15 (-)\t150 (+)\t190 (-)\n",
    "            ad/bc\tgeni (top 459)\t20 (+)\t67 (-)\t34 (+)\t306 (-)\n",
    "            geni (top 879)\t28 (+)\t57 (-)\t73 (+)\t267 (-)\n"
   ]
  },
  {
   "cell_type": "markdown",
   "metadata": {},
   "source": []
  },
  {
   "cell_type": "code",
   "execution_count": null,
   "metadata": {},
   "outputs": [],
   "source": [
    "# CUSTOM RANGE----------------------------\n",
    "#Matching PMIDs in Database\n",
    "sort_by = 'interest_index'\n",
    "if 'threshold_GRPMX_report_int_sort' in locals() or 'threshold_GRPMX_report_int_sort' in globals():\n",
    "    threshold_GRPMX_report_int_sort = threshold_GRPMX_report_int_sort.sort_values(by= sort_by,ascending=False)\n",
    "else:\n",
    "    threshold_GRPMX_report_int_sort = repo_thre_list[0].sort_values(by= sort_by,ascending=False)\n",
    "print('Sorted by: ', sort_by)\n",
    "m = 1\n",
    "n = 10\n",
    "seed = 1\n",
    "base = 0\n",
    "y_axis = 'matching_mesh'\n",
    "x = threshold_GRPMX_report_int_sort.gene.iloc[base*m:seed*(n*2)]\n",
    "y = threshold_GRPMX_report_int_sort[y_axis].iloc[base*m:seed*(n*2)]\n",
    "plt.figure(figsize=(4, len(x)*0.25))\n",
    "plt.title('Matching PMIDs in Database\\n sorted by '+sort_by, loc='center',pad=10)\n",
    "\n",
    "plt.barh(x,y, color = '#04ade3')\n",
    "plt.gca().invert_yaxis()\n",
    "plt.tick_params(axis='x', which='both', top=True, bottom=False, labeltop=True, labelbottom=False)\n",
    "#plt.xlabel('pmid count', position=(0.5, 1.08))\n",
    "plt.ylabel('genes')\n",
    "plt.xlabel(y_axis, position=(0.5, 1.08))\n",
    "ax = plt.gca()\n",
    "ax.xaxis.set_label_position('top')\n",
    "#plt.savefig(r'C:\\Users\\Public\\Database_SSD\\GRPX_heavyload (RunOnly)\\logs\\Database_Gene('+str(len(GRPMX_report.gene))+')-PMID_filtered.png',dpi=300, bbox_inches = \"tight\")\n",
    "plt.show()"
   ]
  },
  {
   "cell_type": "code",
   "execution_count": null,
   "metadata": {},
   "outputs": [],
   "source": [
    "#GET A SAMPLE ------------------------------------------------------------------\n",
    "## get top 10 Genes:\n",
    "top10_list = GRPMX_report_int_sort['gene'].iloc[:10].tolist()#.to_clipboard()\n",
    "pyperclip.copy(str(top10_list))\n",
    "top10_list"
   ]
  },
  {
   "cell_type": "markdown",
   "metadata": {},
   "source": [
    "# [Section 4]"
   ]
  },
  {
   "cell_type": "markdown",
   "metadata": {},
   "source": [
    "# Analyze full GRPM Dataset"
   ]
  },
  {
   "cell_type": "markdown",
   "metadata": {},
   "source": [
    "## Get nbib-data from Zenodo"
   ]
  },
  {
   "cell_type": "code",
   "execution_count": null,
   "metadata": {
    "collapsed": false
   },
   "outputs": [],
   "source": [
    "if simple_bool('Download nbib-data from Zenodo?\\n (careful! 5GB unpacked)'):\n",
    "    timea = datetime.now()\n",
    "    get_and_extract('nbib_data')\n",
    "    print('Download and extraction time ',datetime.now()-timea)"
   ]
  },
  {
   "cell_type": "markdown",
   "metadata": {},
   "source": [
    "## Import full nbib Dataset"
   ]
  },
  {
   "cell_type": "markdown",
   "metadata": {},
   "source": []
  },
  {
   "cell_type": "code",
   "execution_count": null,
   "metadata": {},
   "outputs": [],
   "source": [
    "#set source dataset:-----------------------\n",
    "db_tag = 'pcg'\n",
    "db_name = 'grpm_db_' + db_tag\n",
    "db_path = 'grpm_dataset/'+db_name\n",
    "\n",
    "time1 = datetime.now()\n",
    "#import gene-fullnbib\n",
    "dummy_nbib = pd.read_csv(db_path+'/complete_nbibtable.csv', index_col=0)\n",
    "dummy_nbib['pubmed_id'] = dummy_nbib['pubmed_id'].astype(str)\n",
    "time2 = datetime.now()\n",
    "print('time import nbib: ', time2-time1)\n",
    "print(dummy_nbib.memory_usage().sum() / 1024 / 1024, 'MB')"
   ]
  },
  {
   "cell_type": "code",
   "execution_count": null,
   "metadata": {
    "collapsed": false
   },
   "outputs": [],
   "source": [
    "dummy_nbib"
   ]
  },
  {
   "cell_type": "code",
   "execution_count": null,
   "metadata": {},
   "outputs": [],
   "source": [
    "#gene nbib lookup\n",
    "gene = 'APOA1'\n",
    "\n",
    "gene_nbib = dummy_nbib.loc[dummy_nbib['gene'] == gene]\n",
    "gene_nbib['descriptors']#.iloc[0]\n",
    "gene_nbib"
   ]
  },
  {
   "cell_type": "code",
   "execution_count": null,
   "metadata": {},
   "outputs": [],
   "source": [
    "#mask full nbib with filtered pmids for gene query:\n",
    "mask = gene_nbib.pubmed_id.isin(gene_filtered_grpm.pmids)\n",
    "gene_nbib_filtered = gene_nbib[mask]\n",
    "gene_nbib_filtered.abstract#.to_clipboard()\n",
    "\n",
    "#filter for rsid\n",
    "gene_filtered_grpm_rsid = gene_filtered_grpm[gene_filtered_grpm.rsid == 'rs2266788']\n",
    "\n",
    "mask = gene_nbib.pubmed_id.isin(gene_filtered_grpm_rsid.pmids)\n",
    "gene_nbib_filtered_rsid = gene_nbib[mask]\n",
    "\n",
    "gene_nbib_filtered.abstract#.to_clipboard()"
   ]
  },
  {
   "cell_type": "code",
   "execution_count": null,
   "metadata": {},
   "outputs": [],
   "source": [
    "gene_pmids = list(gene_nbib['pubmed_id'].drop_duplicates())#.to_clipboard(index=False) # --> to VEP http://www.ensembl.org/Tools/VEP\n",
    "query = \" OR \".join(gene_pmids)\n",
    "pyperclip.copy(query)"
   ]
  },
  {
   "cell_type": "markdown",
   "metadata": {},
   "source": [
    "## Import GRPM data from Dataset\n"
   ]
  },
  {
   "cell_type": "code",
   "execution_count": null,
   "metadata": {},
   "outputs": [],
   "source": [
    "# IMPORT FULL GRPM DATASET FROM DATABESE----------------------------------\n",
    "time2 = datetime.now()\n",
    "\n",
    "#import gene-rsidpmidmesh\n",
    "pcg_grpm = pd.read_csv('grpm_dataset/grpm_db_pcg/grpm_table_output.csv', index_col=0, dtype={'pmids': str})\n",
    "rna_grpm = pd.read_csv('grpm_dataset/grpm_db_rna/grpm_table_output.csv', index_col=0, dtype={'pmids': str})\n",
    "pseudo_grpm = pd.read_csv('grpm_dataset/grpm_db_pseudo/grpm_table_output.csv', index_col=0, dtype={'pmids': str})\n",
    "\n",
    "print('time import grpm: ', datetime.now()-time2)\n",
    "print('pcg',pcg_grpm.memory_usage().sum() / 1024 / 1024, 'MB')\n",
    "print('rna',rna_grpm.memory_usage().sum() / 1024 / 1024, 'MB')\n",
    "print('pseudo',pseudo_grpm.memory_usage().sum() / 1024 / 1024, 'MB')"
   ]
  },
  {
   "cell_type": "markdown",
   "metadata": {},
   "source": [
    "## GRPM DB statistics"
   ]
  },
  {
   "cell_type": "code",
   "execution_count": null,
   "metadata": {
    "collapsed": false
   },
   "outputs": [],
   "source": [
    "print('GRPM DB shape:')\n",
    "print('pcg',pcg_grpm.    shape)\n",
    "print('rna',rna_grpm.      shape)\n",
    "print('pseudo',pseudo_grpm.shape)\n",
    "\n",
    "print('GRPM PCG DB statistics:')\n",
    "grpmdb_genes = pcg_grpm.gene.nunique()\n",
    "grpmdb_rsids = pcg_grpm.rsid.nunique()\n",
    "grpmdb_pmids = pcg_grpm.pmids.nunique()\n",
    "grpmdb_meshs = pcg_grpm.mesh.nunique()\n",
    "print(grpmdb_genes,'genes on', len(protein_coding_genes_list),)\n",
    "print(grpmdb_rsids,'rsid')\n",
    "print(grpmdb_pmids,'pmid')\n",
    "print(grpmdb_meshs,'mesh')\n",
    "\n",
    "print('\\nGRPM RNA DB statistics:')\n",
    "grpmdb_genes = rna_grpm.gene.nunique()\n",
    "grpmdb_rsids = rna_grpm.rsid.nunique()\n",
    "grpmdb_pmids = rna_grpm.pmids.nunique()\n",
    "grpmdb_meshs = rna_grpm.mesh.nunique()\n",
    "print(grpmdb_genes,'genes on', len(RNA_genes_list),)\n",
    "print(grpmdb_rsids,'rsid')\n",
    "print(grpmdb_pmids,'pmid')\n",
    "print(grpmdb_meshs,'mesh')\n",
    "\n",
    "print('\\nGRPM PSEUDO DB statistics:')\n",
    "grpmdb_genes = pseudo_grpm.gene.nunique()\n",
    "grpmdb_rsids = pseudo_grpm.rsid.nunique()\n",
    "grpmdb_pmids = pseudo_grpm.pmids.nunique()\n",
    "grpmdb_meshs = pseudo_grpm.mesh.nunique()\n",
    "print(grpmdb_genes,'genes on', len(pseudo_genes_list),)\n",
    "print(grpmdb_rsids,'rsid')\n",
    "print(grpmdb_pmids,'pmid')\n",
    "print(grpmdb_meshs,'mesh')"
   ]
  },
  {
   "cell_type": "markdown",
   "metadata": {},
   "source": [
    "## Search custom genes"
   ]
  },
  {
   "cell_type": "code",
   "execution_count": null,
   "metadata": {
    "collapsed": false
   },
   "outputs": [],
   "source": [
    "my_genes = [\"BAG1\",\"AEN\",\"CREB3L4\",\"TRMT12\",\"ARMCX5-GPRASP2\",\"ARMCX5-GPRASP2\",\"SEL1L3\",\"H6PD\",\"C6orf47\",\"ZNF786\",\"YIPF3\",\"CREG1\",\"COPS4\",\"CARS2\",\"AMIGO2\",\"HES4\",\"VPS11\",\"STARD9\",\"C17orf58\",\"MKKS\",\"MKKS\",\"MKKS\",\"OSBP\",\"SIGIRR\",\"FAM214A\",\"SMAP2\",\"CENPU\",\"PRR3\",\"RBM18\",\"NUDT16\",\"AGTPBP1\",\"CAMSAP1\",\"MIER3\",\"FAM83G\",\"TSPAN3\",\"RNU4-1\",\"POLE2\",\"ZNF442\",\"PPP2R3A\",\"NAA40\",\"RTF1\",\"TOR2A\",\"ANAPC11\",\"VAMP3\",\"ENSG00000260917\",\"ENY2\",\"MAPRE3\",\"SNHG32\",\"SPOPL\",\"LRWD1\",\"KIAA2013\",\"CEP72\",\"SENP3\",\"WDR81\",\"H2AC16\",\"SNX16\",\"FXN\",\"H3C6\",\"RPAIN\",\"COL4A6\",\"ANP32A\",\"FBXL3\",\"LRRC1\",\"NDUFAF3\",\"ACSM2B\",\"PNPLA6\",\"ARMC7\",\"SUMO1\",\"SCAND1\",\"SAFB2\",\"CHDH\",\"APH1B\",\"IDS\",\"TAPT1\",\"CEP55\",\"C11orf54\",\"C9orf152\",\"XNDC1N\",\"NDUFC1\",\"ZNF430\",\"INTS4\",\"SPRED3\",\"RIPK4\",\"ENSG00000277450\",\"HSD17B12\",\"ENSG00000266934\",\"TTC23\",\"ZFAND2A\",\"TAOK3\",\"PEX3\",\"CIP2A\",\"ZNF101\",\"RSU1\",\"ENSG00000264112\",\"NXT1-AS1\",\"NAT8L\",\"RASGRP1\",\"TRAPPC3\",\"PINK1\",\"HDAC11\",\"ATP2B3\",\"UBE2W\",\"CRELD2\",\"COX15\",\"WDR70\",\"LRCH4\",\"ASPSCR1\",\"GLE1\",\"HSF1\",\"P4HTM\",\"ARVCF\",\"RBMXL1\",\"ZMYM5\",\"PLEKHH3\",\"WIZ\",\"SEC14L3\",\"ZNF532\",\"SRA1\",\"AFG1L\",\"ATG4D\",\"ZNF134\",\"LINC00467\",\"ENSG00000274173\",\"TRIM8\",\"BTBD6\",\"FBN3\",\"ALDH1B1\",\"KLHL22\",\"PWP1\",\"SDC3\",\"MTA2\",\"TBCE\",\"TBCE\"]\n",
    "df = pcg_grpm[pcg_grpm.gene.isin(my_genes)]"
   ]
  },
  {
   "cell_type": "code",
   "execution_count": null,
   "metadata": {
    "collapsed": false
   },
   "outputs": [],
   "source": [
    "cont = ['cardio', 'renal', 'kidn', 'atero', 'infam']\n",
    "pattern = '|'.join(cont)\n",
    "df_filt = df[df['mesh'].str.contains(pattern, na=False, case=False)]\n",
    "df_filt#.to_csv('pincopallo_geni.csv')"
   ]
  },
  {
   "cell_type": "code",
   "execution_count": null,
   "metadata": {
    "collapsed": false
   },
   "outputs": [],
   "source": [
    "df_filt.groupby(by='mesh').describe()#.to_csv('pincopallo.csv')"
   ]
  },
  {
   "cell_type": "code",
   "execution_count": null,
   "metadata": {},
   "outputs": [],
   "source": []
  },
  {
   "cell_type": "markdown",
   "metadata": {},
   "source": [
    "# Analyze GRPMx survey (deprecated)"
   ]
  },
  {
   "cell_type": "markdown",
   "metadata": {},
   "source": [
    "## Import data from grpm Survey (outdated)"
   ]
  },
  {
   "cell_type": "code",
   "execution_count": null,
   "metadata": {},
   "outputs": [],
   "source": [
    "#import grpmx_output\n",
    "dummy_grpm_filter = pd.read_csv(directories[0]+'/grpmx_filtered_output.csv', index_col=0)\n",
    "dummy_grpm_filter['pmids'] = dummy_grpm_filter['pmids'].astype(str) #convert pmid type in str\n",
    "\n",
    "#gene lookup\n",
    "gene = ''\n",
    "gene_grpm_filter = dummy_grpm_filter.loc[dummy_grpm_filter['gene'] == gene]\n",
    "gene_filtered_grpm = gene_grpm_filter.drop_duplicates().reset_index(drop=True)\n",
    "\n",
    "len_pmids_01 = len(gene_filtered_grpm.pmids.drop_duplicates())\n",
    "print('interesting pmids for gene '+gene+':', len_pmids_01)\n",
    "\n",
    "#to clipboard()\n",
    "gene_filtered_grpm.rsid.to_clipboard(index = False)\n",
    "gene_filtered_grpm.rsid.drop_duplicates().to_clipboard()\n",
    "\n",
    "#module isin  on gene_rsidpmid\n",
    "mask = gene_grpm.mesh.isin(gene_filtered_grpm.mesh)\n",
    "gene_filtered_pmidrsidmesh_full = gene_grpm[mask].reset_index(drop=True)\n",
    "gene_filtered_pmidrsidmesh_full\n",
    "#gene_filtered_pmidrsidmesh"
   ]
  },
  {
   "cell_type": "markdown",
   "metadata": {},
   "source": [
    "#containing word Mesh-LOOKUP\n",
    "gene_grpm[gene_grpm.mesh.str.contains('poly', case=False)]"
   ]
  },
  {
   "cell_type": "code",
   "execution_count": null,
   "metadata": {},
   "outputs": [],
   "source": [
    "# IMPORT GRPMX DATA FROM SURVEY-----------------------------------------------------\n",
    "time2 = datetime.now()\n",
    "#import gene-rsidpmidmesh\n",
    "dir1_grpmx = pd.read_csv(directory + '/grpmx_output.csv', index_col=0)\n",
    "dir1_grpmx['pmids'] = dir1_grpmx['pmids'].astype(str) #convert pmid type in str\n",
    "time3 = datetime.now()\n",
    "print('time import grpmx: ', time3-time2, directory)"
   ]
  },
  {
   "cell_type": "code",
   "execution_count": null,
   "metadata": {},
   "outputs": [],
   "source": [
    "print('general grpmx statistics',directory)\n",
    "\n",
    "dir1_grpmx_gene = dir1_grpmx.gene.nunique()\n",
    "dir1_grpmx_rsid = dir1_grpmx.rsid.nunique()\n",
    "dir1_grpmx_pmids = dir1_grpmx.pmids.nunique()\n",
    "dir1_grpmx_mesh = dir1_grpmx.mesh.nunique()\n",
    "print(dir1_grpmx_gene ,'gene match')\n",
    "print(dir1_grpmx_rsid ,'rsid match')\n",
    "print(dir1_grpmx_pmids,'pmid match')\n",
    "print(dir1_grpmx_mesh ,'mesh match on',GRPMX_report.reference_mesh[0])\n",
    "\n",
    "print('gene', round(dir1_grpmx_gene /grpmdb_genes,2), 'marching index on grpm db')\n",
    "print('rsid', round(dir1_grpmx_rsid /grpmdb_rsids,2), 'marching index on grpm db')\n",
    "print('pmid', round(dir1_grpmx_pmids/grpmdb_pmids,2), 'marching index on grpm db')\n",
    "print('mesh', round(dir1_grpmx_mesh /grpmdb_meshs,2), 'marching index on grpm db')\n",
    "\n",
    "dir1_grpmx"
   ]
  },
  {
   "cell_type": "code",
   "execution_count": null,
   "metadata": {},
   "outputs": [],
   "source": [
    "# IMPORT GRPMX DATA FROM SURVEY-----------------------------------------------------\n",
    "time2 = datetime.now()\n",
    "#import gene-rsidpmidmesh\n",
    "dir2_grpmx = pd.read_csv(directory_2 + '/grpmx_output.csv', index_col=0)\n",
    "dir2_grpmx['pmids'] = dir2_grpmx['pmids'].astype(str) #convert pmid type in str\n",
    "time3 = datetime.now()\n",
    "print('time import grpmx: ', time3-time2, directory)"
   ]
  },
  {
   "cell_type": "code",
   "execution_count": null,
   "metadata": {},
   "outputs": [],
   "source": [
    "print('general grpmx statistics',directory_2)\n",
    "\n",
    "dir2_grpmx_gene = dir2_grpmx.gene.nunique()\n",
    "dir2_grpmx_rsid = dir2_grpmx.rsid.nunique()\n",
    "dir2_grpmx_pmids = dir2_grpmx.pmids.nunique()\n",
    "dir2_grpmx_mesh = dir2_grpmx.mesh.nunique()\n",
    "print(dir2_grpmx_gene ,'gene match')\n",
    "print(dir2_grpmx_rsid ,'rsid match')\n",
    "print(dir2_grpmx_pmids,'pmid match')\n",
    "print(dir2_grpmx_mesh ,'mesh match on',GRPMX_report.reference_mesh[0])\n",
    "\n",
    "print('gene', round(dir2_grpmx_gene /grpmdb_genes,2), 'marching index on grpm db')\n",
    "print('rsid', round(dir2_grpmx_rsid /grpmdb_rsids,2), 'marching index on grpm db')\n",
    "print('pmid', round(dir2_grpmx_pmids/grpmdb_pmids,2), 'marching index on grpm db')\n",
    "print('mesh', round(dir2_grpmx_mesh /grpmdb_meshs,2), 'marching index on grpm db')\n",
    "\n",
    "dir2_grpmx"
   ]
  },
  {
   "cell_type": "markdown",
   "metadata": {},
   "source": []
  },
  {
   "cell_type": "markdown",
   "metadata": {},
   "source": [
    "    #### txt/csv MERGER Trial\n",
    "    # simple csv merger in column\n",
    "    import os\n",
    "    import csv\n",
    "\n",
    "    # Define the directory containing the CSV files\n",
    "    directory = r'C:\\Users\\Public\\Database_SSD\\GRPM-X_proteincodinggens_db\\grpm_db'\n",
    "\n",
    "    genes =  ['ALG1', 'ALG12', 'ALG2', 'ALG3', 'ALG6', 'ALG8', 'ALG9', 'DDOST', 'DOLK', 'MPDU1', 'PGM1', 'PMM1', 'PMM2', 'RFT1']\n",
    "\n",
    "    endswitch = '_pubmed_pmidmesh'\n",
    "    # Define the name of the merged output file\n",
    "    output_file = endswitch+\".csv\"\n",
    "\n",
    "\n",
    "    # Open the output file in write mode\n",
    "    with open(output_file, \"w\", newline=\"\") as outfile:\n",
    "        for gene in genes:\n",
    "            # Create a CSV writer object\n",
    "            writer = csv.writer(outfile)\n",
    "\n",
    "            # Iterate through each file in the directory\n",
    "            for filename in os.listdir(directory):\n",
    "\n",
    "                # Check if the file is a CSV file and ends with \"_filtered_pmidrsidmesh.csv\"\n",
    "                if filename.endswith(gene+endswitch+\".csv\"):\n",
    "                    #if filename.endswith(\".csv\"):\n",
    "\n",
    "                    # Open the file in read mode\n",
    "                    with open(os.path.join(directory, filename), \"r\", newline=\"\") as infile:\n",
    "\n",
    "                        # Create a CSV reader object\n",
    "                        reader = csv.reader(infile)\n",
    "\n",
    "                        # Write the filename as the first row of the output file\n",
    "                        writer.writerow([filename])\n",
    "\n",
    "                        # Write the contents of the file to the output file\n",
    "                        for row in reader:\n",
    "                            writer.writerow(row)\n",
    "\n",
    "                        # Write a blank row between files\n",
    "                        writer.writerow([])\n"
   ]
  },
  {
   "cell_type": "markdown",
   "metadata": {},
   "source": [
    "# Tools"
   ]
  },
  {
   "cell_type": "markdown",
   "metadata": {},
   "source": [
    "## CSV merger (gene/rsid/pmid/mesh)\n",
    "#### converting old data storage system\n",
    "#goal\n",
    "[gene,rsid,pmids,mesh]"
   ]
  },
  {
   "cell_type": "code",
   "execution_count": null,
   "metadata": {},
   "outputs": [],
   "source": [
    "genes = GRPMX_report.gene\n",
    "genes"
   ]
  },
  {
   "cell_type": "code",
   "execution_count": null,
   "metadata": {},
   "outputs": [],
   "source": [
    "genes = GRPMX_report.gene\n",
    "genes.index[genes == gene][0]"
   ]
  },
  {
   "cell_type": "markdown",
   "metadata": {},
   "source": [
    "    #with append (deprecated)\n",
    "    complete_df = pd.DataFrame()\n",
    "    genes = ['FTO','INS']\n",
    "    #genes = GRPMX_report.gene\n",
    "    for gene in genes:\n",
    "        if os.path.isfile('grpm_survey/'+gene+'_filtered_pmidrsidmesh.csv'):\n",
    "            dfmatch_gene = pd.read_csv('grpm_survey/'+gene+'_filtered_pmidrsidmesh.csv', index_col=0)#).set_index('Unnamed: 0')\n",
    "            dfmatch_gene['gene'] = gene\n",
    "            dfmatch_gene = dfmatch_gene.reindex(columns=['gene','rsid', 'pmids', 'mesh'])\n",
    "            complete_df = complete_df.append(dfmatch_gene)\n",
    "            #print(genes.index[genes == gene][0])\n"
   ]
  },
  {
   "cell_type": "markdown",
   "metadata": {},
   "source": [
    "#### Merge Survey (deprecated)"
   ]
  },
  {
   "cell_type": "code",
   "execution_count": null,
   "metadata": {},
   "outputs": [],
   "source": [
    "## Survey:\n",
    "\n",
    "#with concat:\n",
    "complete_df = pd.DataFrame()\n",
    "#genes = ['FTO','INS']\n",
    "genes = GRPMX_report.gene\n",
    "for gene in genes[:10]:\n",
    "    if os.path.isfile('grpm_survey/'+gene+'_filtered_pmidrsidmesh.csv'):\n",
    "        dfmatch_gene = pd.read_csv('grpm_survey/'+gene+'_filtered_pmidrsidmesh.csv', index_col=0)\n",
    "        dfmatch_gene['gene'] = gene\n",
    "\n",
    "        complete_df = pd.concat([complete_df, dfmatch_gene])\n",
    "        print(genes.index[genes == gene][0])\n",
    "\n",
    "complete_df = complete_df.reindex(columns=['gene','rsid', 'pmids', 'mesh'])\n",
    "complete_df.to_csv('complete_surveytable_genersidpmidmesh.csv')"
   ]
  },
  {
   "cell_type": "code",
   "execution_count": null,
   "metadata": {},
   "outputs": [],
   "source": [
    "complete_surveytable_genersidpmidmesh = pd.read_csv('complete_surveytable_genersidpmidmesh.csv', index_col=0)\n",
    "complete_surveytable_genersidpmidmesh.gene.drop_duplicates()"
   ]
  },
  {
   "cell_type": "markdown",
   "metadata": {},
   "source": [
    "#### Merge grpm db: grpm table and nbib (deprecated)"
   ]
  },
  {
   "cell_type": "code",
   "execution_count": null,
   "metadata": {},
   "outputs": [],
   "source": [
    "## nbib db merger -----------------------------\n",
    "\n",
    "#with concat:\n",
    "complete_nbib = pd.DataFrame()\n",
    "#genes = ['FTO','INS']\n",
    "genes = GRPM_report.gene#.iloc[:5]\n",
    "\n",
    "if os.path.isfile(db_path+'complete_nbibtable.csv'):\n",
    "    complete_nbib = pd.read_csv(db_path+'complete_nbibtable.csv', index_col=0)\n",
    "else:\n",
    "    for gene in genes:\n",
    "        if os.path.isfile(db_path+'/'+gene+'_nbib_table.csv'):\n",
    "            #import gene_nbib\n",
    "            gene_nbib = pd.read_csv(db_path+'/'+gene+'_nbib_table.csv', index_col=0)\n",
    "            gene_nbib['pubmed_id'] = gene_nbib['pubmed_id'].astype(str)\n",
    "\n",
    "            gene_nbib['gene'] = gene\n",
    "\n",
    "            complete_nbib = pd.concat([complete_nbib, gene_nbib])\n",
    "            print(genes.index[genes == gene][0])"
   ]
  },
  {
   "cell_type": "code",
   "execution_count": null,
   "metadata": {},
   "outputs": [],
   "source": [
    "pyperclip.copy(str(complete_nbib.columns.to_list()))\n",
    "\n",
    "if os.path.isfile('complete_nbibtable.csv'):\n",
    "    pass\n",
    "else:\n",
    "    complete_nbib = complete_nbib.reindex(columns=['gene','pubmed_id', 'citation_owner', 'nlm_status', 'last_revision_date', 'electronic_issn', 'print_issn', 'linking_issn', 'journal_volume', 'journal_issue', 'publication_date', 'title', 'pages', 'abstract', 'copyright', 'authors', 'language', 'grants', 'publication_types', 'electronic_publication_date', 'place_of_publication', 'journal_abbreviated', 'journal', 'nlm_journal_id', 'descriptors', 'pmcid', 'keywords', 'conflict_of_interest', 'received_time', 'revised_time', 'accepted_time', 'pubmed_time', 'medline_time', 'entrez_time', 'pii', 'doi', 'publication_status', 'corporate_author', 'secondary_source'])\n",
    "    #complete_nbib.to_csv('grpm_survey/surveytable_genersidpmidmesh.csv')\n",
    "    complete_nbib.to_csv('complete_nbibtable.csv')"
   ]
  },
  {
   "cell_type": "code",
   "execution_count": null,
   "metadata": {},
   "outputs": [],
   "source": [
    "print(len(complete_nbib.pubmed_id.drop_duplicates()))\n",
    "complete_nbib"
   ]
  },
  {
   "cell_type": "code",
   "execution_count": null,
   "metadata": {},
   "outputs": [],
   "source": [
    "## grpm table db Merger--------------------\n",
    "\n",
    "#with concat:\n",
    "complete_df = pd.DataFrame()\n",
    "#genes = ['FTO','INS']\n",
    "genes = GRPM_report.gene\n",
    "\n",
    "if os.path.isfile(db_path+'complete_dbtable_genersidpmidmesh.csv'):\n",
    "    complete_df = pd.read_csv(db_path+'grpm_table_output.csv')\n",
    "else:\n",
    "    for gene in genes:\n",
    "        if os.path.isfile(db_path+'/'+gene+'_pubmed_pmidmesh.csv'):\n",
    "            #import gene-rsidpmidmesh\n",
    "            gene_pubmed_pmidmesh = pd.read_csv(db_path+'/'+gene+'_pubmed_pmidmesh.csv', index_col=0)\n",
    "            gene_pubmed_pmidmesh['pmids'] = gene_pubmed_pmidmesh['pmids'].astype(str)\n",
    "\n",
    "            #import gene-rsidpmid\n",
    "            gene_litvar1_rsids2pmids = pd.read_csv(db_path+'/'+gene+'_litvar1_rsids2pmids.csv', index_col=0)\n",
    "            gene_litvar1_rsids2pmids['pmids'] = gene_litvar1_rsids2pmids['pmids'].astype(str)\n",
    "\n",
    "            # add a rsid-merger to gene_pubmed_pmidmesh\n",
    "            gene_rsidpmidmesh = pd.merge(gene_litvar1_rsids2pmids, gene_pubmed_pmidmesh, on='pmids')\n",
    "            gene_rsidpmidmesh['gene'] = gene\n",
    "\n",
    "            complete_df = pd.concat([complete_df, gene_rsidpmidmesh])\n",
    "            print(genes.index[genes == gene][0])\n",
    "\n",
    "if os.path.isfile('grpm_table_output.csv'):\n",
    "    pass\n",
    "else:\n",
    "    complete_df = complete_df.reindex(columns=['gene','rsid', 'pmids', 'mesh', 'qualifier', 'major'])\n",
    "    #complete_df.to_csv('grpm_survey/surveytable_genersidpmidmesh.csv')\n",
    "    complete_df.to_csv('grpm_table_output.csv')\n",
    "    #complete_df#.columns"
   ]
  },
  {
   "cell_type": "markdown",
   "metadata": {},
   "source": [
    "## Complete GRPM DB TABLE\n"
   ]
  },
  {
   "cell_type": "code",
   "execution_count": null,
   "metadata": {},
   "outputs": [],
   "source": [
    "## visualize complete dbtable:\n",
    "complete_dbtable_grpm = pd.read_csv(db_path+'/grpm_table_output.csv', index_col=0)\n",
    "complete_dbtable_grpm.gene.drop_duplicates()"
   ]
  },
  {
   "cell_type": "code",
   "execution_count": null,
   "metadata": {},
   "outputs": [],
   "source": [
    "gene = 'G6PD'\n",
    "mask = complete_dbtable_grpm.gene == (gene)\n",
    "LEP_lookup = complete_dbtable_grpm[mask]\n",
    "LEP_lookup.mesh.drop_duplicates()"
   ]
  },
  {
   "cell_type": "code",
   "execution_count": null,
   "metadata": {},
   "outputs": [],
   "source": [
    "# mesh lookup for rsid\n",
    "mask = complete_dbtable_grpm.mesh.str.contains('utrigen')\n",
    "mesh_lookup = complete_dbtable_grpm[mask]\n",
    "\n",
    "#complete_dbtable_grpm.rsid\n",
    "mesh_lookup.gene.drop_duplicates().to_clipboard()\n",
    "mesh_lookup"
   ]
  },
  {
   "cell_type": "code",
   "execution_count": null,
   "metadata": {},
   "outputs": [],
   "source": [
    "## Count with groupby-describe------------------\n",
    "\n",
    "#complete_df_count =\n",
    "type(complete_df.pmids.iloc[0])\n",
    "\n",
    "#Analyze enrichment with groupby.describe method------------------------\n",
    "complete_df['pmids'] = complete_df['pmids'].astype(str)\n",
    "\n",
    "### groupby.describe analysis by rsid\n",
    "complete_df_mesh_count = complete_df.groupby('mesh').describe().reset_index()\n",
    "#pyperclip.copy(str(complete_df_mesh_count.columns.to_list()))\n",
    "\n",
    "complete_df_mesh_count.columns = complete_df_mesh_count.columns.to_flat_index()\n",
    "new_column_names = [('mesh'), ('gene_count'), ('gene_unique'), ('gene_top'), ('gene_freq'), ('rsid_count'), ('rsid_unique'), ('rsid_top'), ('rsid_freq'), ('pmids_count'), ('pmids_unique'), ('pmids_top'), ('pmids_freq'), ('qualifier_count'), ('qualifier_unique'), ('qualifier_top'), ('qualifier_freq'), ('major_count'), ('major_unique'), ('major_top'), ('major_freq')]\n",
    "complete_df_mesh_count.columns = new_column_names\n",
    "#complete_df_mesh_count.to_csv('grpm_survey/surveytable_genersidpmidmesh_countbymesh.csv')"
   ]
  },
  {
   "cell_type": "code",
   "execution_count": null,
   "metadata": {},
   "outputs": [],
   "source": [
    "complete_df_mesh_count"
   ]
  },
  {
   "cell_type": "code",
   "execution_count": null,
   "metadata": {},
   "outputs": [],
   "source": [
    "complete_df.pmids.drop_duplicates()"
   ]
  },
  {
   "cell_type": "code",
   "execution_count": null,
   "metadata": {},
   "outputs": [],
   "source": [
    "complete_df_mesh_count"
   ]
  },
  {
   "cell_type": "markdown",
   "metadata": {},
   "source": []
  },
  {
   "cell_type": "markdown",
   "metadata": {},
   "source": [
    "## Density Plots + Rug (grpm_report) - trial"
   ]
  },
  {
   "cell_type": "code",
   "execution_count": null,
   "metadata": {},
   "outputs": [],
   "source": [
    "import numpy as np\n",
    "import seaborn as sns\n",
    "data = complete_df_mesh_count.pmids_count\n",
    "sns.set_style('whitegrid')\n",
    "sns.kdeplot(np.array(data), bw_method=0.5)"
   ]
  },
  {
   "cell_type": "code",
   "execution_count": null,
   "metadata": {},
   "outputs": [],
   "source": [
    "import seaborn as sns\n",
    "import numpy as np\n",
    "import matplotlib.pyplot as plt\n",
    "\n",
    "data = GRPMX_report_int.matching_pmids_ratio\n",
    "\n",
    "sns.set_style('whitegrid')\n",
    "sns.kdeplot(np.array(data), bw_method=0.5)\n",
    "sns.rugplot(np.array(data), color='r')\n",
    "\n",
    "plt.title('Ig = (Pm/P)g')\n",
    "plt.title('Interest index = a^2/bc')\n",
    "plt.show()"
   ]
  },
  {
   "cell_type": "code",
   "execution_count": null,
   "metadata": {},
   "outputs": [],
   "source": [
    "GRPMX_report.matching_pmids_ratio"
   ]
  },
  {
   "cell_type": "markdown",
   "metadata": {},
   "source": [
    "## Extra "
   ]
  },
  {
   "cell_type": "markdown",
   "source": [
    "### check and clean data"
   ],
   "metadata": {
    "collapsed": false
   }
  },
  {
   "cell_type": "code",
   "outputs": [],
   "source": [
    "master_df.iloc[:,[0,2]]"
   ],
   "metadata": {
    "collapsed": false
   },
   "execution_count": null
  },
  {
   "cell_type": "code",
   "outputs": [],
   "source": [
    "#Visualize mesh richness:\n",
    "#choose mesh to get rid eventually\n",
    "check = 2 # <= master_df index\n",
    "print(master_df.label[check]) if 'label' in master_df else print(master_df.tag[check])\n",
    "grpm_out_list[check].groupby('mesh').describe().sort_values(by=( 'gene', 'unique'), ascending= False)"
   ],
   "metadata": {
    "collapsed": false
   },
   "execution_count": null
  },
  {
   "cell_type": "code",
   "outputs": [],
   "source": [
    "#PURGE UNWANTED MESH from survey.csv\n",
    "grpm_out_list[check].mesh.drop_duplicates()"
   ],
   "metadata": {
    "collapsed": false
   },
   "execution_count": null
  },
  {
   "cell_type": "code",
   "outputs": [],
   "source": [
    "#PURGE UNWANTED MESH from survey.csv\n",
    "id = check\n",
    "save_clean = False\n",
    "tag = '_clean'\n",
    "exact_match = False\n",
    "\n",
    "dff = grpm_out_list[check]\n",
    "\n",
    "#clean mesh ref\n",
    "get_rid_list = ['Polymor','Genetic']#['Fistula', 'Neoplasm','Labor', 'Chick']\n",
    "get_rid_ex = ['Polymorphism, Single Nucleotide', 'Genetic Predisposition to Disease']\n",
    "dff_rid = grpm_out_list[id].copy()\n",
    "\n",
    "if not exact_match:\n",
    "    for get_rid in get_rid_list:\n",
    "        mask = dff['mesh'].str.contains(get_rid)\n",
    "        dff_rid = dff_rid[-mask]\n",
    "else:\n",
    "    mask = dff['mesh'].isin(get_rid_ex)\n",
    "    dff_rid = dff_rid[-mask]\n",
    "\n",
    "if save_clean:\n",
    "    dff_rid.to_csv(directories[id]+'/grpmx_filtered_output'+tag+'.csv')\n",
    "dff_rid"
   ],
   "metadata": {
    "collapsed": false
   },
   "execution_count": null
  },
  {
   "cell_type": "markdown",
   "source": [
    "### Add study type with Eutils-API"
   ],
   "metadata": {
    "collapsed": false
   }
  },
  {
   "cell_type": "code",
   "execution_count": null,
   "metadata": {},
   "outputs": [],
   "source": [
    "from Bio import Entrez\n",
    "\n",
    "def get_study_type(pmids):\n",
    "\n",
    "    Entrez.email = 'your_email@your_domain.com'\n",
    "\n",
    "    # Retrieve the metadata for the articles\n",
    "    handle = Entrez.esummary(db='pubmed', id=','.join(pmids), retmode='xml')\n",
    "    records = Entrez.parse(handle)\n",
    "\n",
    "    # Extract the article types from the metadata\n",
    "    study_types = []\n",
    "    for record in records:\n",
    "        article_types = record['PubTypeList']\n",
    "        #print(record['PubTypeList'])\n",
    "        # Determine the study type based on the article types\n",
    "        if 'Randomized Controlled Trial' in article_types:\n",
    "            study_types.append('Randomized Controlled Trial')\n",
    "        elif 'Controlled Clinical Trial' in article_types:\n",
    "            study_types.append('Controlled Clinical Trial')\n",
    "        elif 'Cohort Studies' in article_types:\n",
    "            study_types.append('Cohort Study')\n",
    "        elif 'Case-Control Studies' in article_types:\n",
    "            study_types.append('Case-Control Study')\n",
    "        elif 'Review' in article_types:\n",
    "            study_types.append('Review')\n",
    "        elif 'Clinical Trial' in article_types:\n",
    "            study_types.append('Clinical Trial')\n",
    "        elif 'Meta-Analysis' in article_types:\n",
    "            study_types.append('Meta-Analysis')\n",
    "        elif 'Multicenter Study' in article_types:\n",
    "            study_types.append('Multicenter Study')\n",
    "        # Add additional conditions to handle other study types as needed\n",
    "        else:\n",
    "            study_types.append('Unknown')\n",
    "\n",
    "    return study_types"
   ]
  },
  {
   "cell_type": "code",
   "execution_count": null,
   "metadata": {},
   "outputs": [],
   "source": [
    "Entrez.email = 'your_email@your_domain.com'\n",
    "\n",
    "# Retrieve the metadata for the articles\n",
    "handle = Entrez.esummary(db='pubmed', id=','.join(['34556834', '26620191', '33006084']), retmode='xml')\n",
    "records = Entrez.parse(handle)\n",
    "dfa =pd.DataFrame()\n",
    "for i in records:\n",
    "    df = pd.json_normalize(i)\n",
    "    dfa = pd.concat([dfa,df])\n",
    "\n",
    "dfa.T"
   ]
  },
  {
   "cell_type": "code",
   "execution_count": null,
   "metadata": {},
   "outputs": [],
   "source": [
    "# Extract the article types from the metadata\n",
    "study_types = []\n",
    "for record in records:\n",
    "        article_types = record['PubTypeList']\n",
    "        print(record['PubTypeList'])\n",
    "        # Determine the study type based on the article types\n",
    "        if 'Randomized Controlled Trial' in article_types:\n",
    "            study_types.append('Randomized Controlled Trial')\n",
    "        elif 'Controlled Clinical Trial' in article_types:\n",
    "            study_types.append('Controlled Clinical Trial')\n",
    "        elif 'Cohort Studies' in article_types:\n",
    "            study_types.append('Cohort Study')\n",
    "        elif 'Case-Control Studies' in article_types:\n",
    "            study_types.append('Case-Control Study')\n",
    "        elif 'Review' in article_types:\n",
    "            study_types.append('Review')\n",
    "        # Add additional conditions to handle other study types as needed\n",
    "        else:\n",
    "            study_types.append('Unknown')"
   ]
  },
  {
   "cell_type": "code",
   "execution_count": null,
   "metadata": {},
   "outputs": [],
   "source": [
    "get_study_type(['34556834', '31533339', '33006084'])"
   ]
  },
  {
   "cell_type": "code",
   "execution_count": null,
   "metadata": {},
   "outputs": [],
   "source": [
    "#it takes time\n",
    "ftopmids_str = list(map(str, ftopmids))\n",
    "study_type = get_study_type(ftopmids_str)"
   ]
  },
  {
   "cell_type": "code",
   "execution_count": null,
   "metadata": {},
   "outputs": [],
   "source": [
    "pmids_studytype = pd.DataFrame(list(zip(ftopmids_str,study_type)),columns=[gene+'_PMID','study type'])\n",
    "pmids_studytype_count = pmids_studytype.groupby('study type').describe().reset_index()\n",
    "pmids_studytype_count.columns = pmids_studytype_count.columns.to_flat_index()\n",
    "new_column_names = ['study_type', 'pmid-count', 'pmid-unique','pmid-top','pmid-freq']\n",
    "pmids_studytype_count.columns = new_column_names\n",
    "pmids_studytype_count\n"
   ]
  },
  {
   "cell_type": "code",
   "execution_count": null,
   "metadata": {},
   "outputs": [],
   "source": [
    "rand = pmids_studytype.loc[pmids_studytype['study type']=='Randomized Controlled Trial']\n",
    "#rand = pmids_studytype.loc[pmids_studytype['study type']!='Unknown']\n",
    "#rand = pmids_studytype.loc[pmids_studytype['study type']=='Unknown']\n",
    "rand_gene_PMID = list(rand[gene+'_PMID'])\n",
    "#conseqf = conseq.loc[conseq['SYMBOL'] == gene]\n",
    "len(rand_gene_PMID)\n",
    "\n",
    "#quert on pubmed:\n",
    "pyperclip.copy(\" OR \".join(list(map(str,rand_gene_PMID))))"
   ]
  },
  {
   "cell_type": "code",
   "execution_count": null,
   "metadata": {},
   "outputs": [],
   "source": [
    "#check\n",
    "rand_FTO_PMID_str = list(map(str, rand.FTO_PMID))\n",
    "study_type_control = get_study_type(rand_FTO_PMID_str)"
   ]
  },
  {
   "cell_type": "code",
   "execution_count": null,
   "metadata": {},
   "outputs": [],
   "source": [
    "#study_type_control"
   ]
  },
  {
   "cell_type": "markdown",
   "metadata": {},
   "source": [
    "### Abstract analysis - trial"
   ]
  },
  {
   "cell_type": "code",
   "execution_count": null,
   "metadata": {},
   "outputs": [],
   "source": [
    "import gensim\n",
    "from gensim.utils import simple_preprocess\n",
    "from gensim.parsing.preprocessing import STOPWORDS\n",
    "from gensim import corpora\n",
    "import nltk\n",
    "from nltk.stem import PorterStemmer\n",
    "\n",
    "# create a Porter stemmer object\n",
    "p_stemmer = PorterStemmer()\n",
    "\n",
    "# list of abstracts\n",
    "abstracts = ['It has been suggested that Neel s \"thrifty genotype\" model may account for high body weights in some Oceanic populations, which presumably arose in modern times. In European populations, common variants (rs1421085-C, rs17817449-G, and rs9939609-A) in the fat mass and obesity (FTO associated) were recently found to be associated with body mass index (BMI) or obesity. In this study, we investigated the population frequencies of these variants in six Oceanic populations (Melanesians, Micronesians, and Polynesians) and tested for an association with BMI. Unlike European populations, the Oceanic populations displayed no significant association between the FTO polymorphisms and BMI. These variants were in strong linkage disequilibrium. The population frequencies ranged between 4.2 and 30.3% in the six Oceanic populations, and were similar to those in southeast and east Asian populations. Our study of the FTO polymorphisms has generated no evidence to support the thrifty genotype hypothesis for Oceanic populations.',\n",
    "             'Variations in the fat-mass and obesity-associated gene (FTO) are associated with the obesity phenotype in many Caucasian populations. This association with the obesity phenotype is not clear in the Japanese. To investigate the relationship between the FTO gene and obesity in the Japanese, we genotyped single nucleotide polymorphisms (SNPs) in the FTO genes from severely obese subjects [n = 927, body mass index (BMI) > or = 30 kg/m2] and normal-weight control subjects (n = 1,527, BMI < 25 kg/m2). A case-control association analysis revealed that 15 SNPs, including rs9939609 and rs1121980, in a linkage disequilibrium (LD) block of approximately 50 kb demonstrated significant associations with obesity',\n",
    "             'BACKGROUND: Recently, the role of the FTO (fat mass and obesity associated) gene in obesity development was described in Western European, but not in Oceanic, cohorts. The objective of this study was to test the hypothesis that the FTO single nucleotide polymorphism (SNP) is associated with body mass index (BMI) in the Slavic population and to analyze if there could be sex-specific effects of the SNP on BMI, waist-to-hip ratio (WHR), and lipid parameters. METHODS: We analyzed three large population-based samples comprising the post-MONICA study (1191 males, 1368 females) and the 3PMFs study (908 females). RESULTS: FTO rs17817449 SNP was related to BMI in males (p=0.014). In the females from both the post-MONICA and the 3PMFs study, FTO had no effect on BMI. Sub-analysis of females from the 3PMFs study demonstrated that FTO had an effect on BMI in postmenopausal females (p=0.035) but not in premenopausal females (follicle-stimulating hormone <40 U/L was used as marker of premenopausal status). WHR and lipid parameters were not associated with FTO in any of the analyzed groups. CONCLUSIONS: These results suggest that the effect of FTO SNP rs17817449 may be, in some populations at least, restricted to males and postmenopausal females.',\n",
    "             'Participants analyzed actual and simulated longitudinal data from the Framingham Heart Study for various metabolic and cardiovascular traits. The genetic information incorporated into these investigations ranged from selected single-nucleotide polymorphisms to genome-wide association arrays. Genotypes were incorporated using a broad range of methodological approaches including conditional logistic regression, linear mixed models, generalized estimating equations, linear growth curve estimation, growth modeling, growth mixture modeling, population attributable risk fraction based on survival functions under the proportional hazards models, and multivariate adaptive splines for the analysis of longitudinal data. The specific scientific questions addressed by these different approaches also varied, ranging from a more precise definition of the phenotype, bias reduction in control selection, estimation of effect sizes and genotype associated risk, to direct incorporation of genetic data into longitudinal modeling approaches and the exploration of population heterogeneity with regard to longitudinal trajectories. The group reached several overall conclusions: (1) The additional information provided by longitudinal data may be useful in genetic analyses. (2) The precision of the phenotype definition as well as control selection in nested designs may be improved, especially if traits demonstrate a trend over time or have strong age-of-onset effects. (3) Analyzing genetic data stratified for high-risk subgroups defined by a unique development over time could be useful for the detection of rare mutations in common multifactorial diseases. (4) Estimation of the population impact of genomic risk variants could be more precise. The challenges and computational complexity demanded by genome-wide single-nucleotide polymorphism data were also discussed.',\n",
    "             'This is the fifth abstract.']\n",
    "\n",
    "# function to preprocess the abstracts\n",
    "def preprocess_abstracts(abstracts):\n",
    "    for abstract in abstracts:\n",
    "        # tokenize the abstract into individual words\n",
    "        tokens = simple_preprocess(abstract, deacc=True)\n",
    "        # remove stop words\n",
    "        stopped_tokens = [token for token in tokens if not token in STOPWORDS]\n",
    "        # stem the tokens\n",
    "        stemmed_tokens = [p_stemmer.stem(token) for token in stopped_tokens]\n",
    "        yield stemmed_tokens\n",
    "\n",
    "# preprocess the abstracts\n",
    "processed_abstracts = list(preprocess_abstracts(abstracts))\n",
    "\n",
    "# create a dictionary from the processed abstracts\n",
    "dictionary = corpora.Dictionary(processed_abstracts)\n",
    "\n",
    "# create a corpus from the dictionary and the processed abstracts\n",
    "corpus = [dictionary.doc2bow(abstract) for abstract in processed_abstracts]\n",
    "\n",
    "# train an LSI (Latent Semantic Indexing) model on the corpus\n",
    "lsi_model = gensim.models.LsiModel(corpus=corpus, id2word=dictionary, num_topics=2)\n",
    "\n",
    "# print the top 5 topics\n",
    "print(lsi_model.print_topics(num_topics=8, num_words=20))\n"
   ]
  },
  {
   "cell_type": "markdown",
   "source": [
    "### Pie Graphs"
   ],
   "metadata": {
    "collapsed": false
   }
  },
  {
   "cell_type": "code",
   "execution_count": null,
   "outputs": [],
   "source": [
    "if not os.path.exists('misc_data/db_stats.csv'):\n",
    "    os.mkdir('misc_data')\n",
    "    get_gitfile(url=\"https://raw.githubusercontent.com/johndef64/GRPM_system/main/misc_data/db_stats.csv\", dir='misc_data')\n",
    "\n",
    "if os.path.exists('misc_data/db_stats.csv'):\n",
    "    pie_df = pd.read_csv('misc_data/db_stats.csv', sep =',')\n",
    "\n",
    "    # Read the CSV file\n",
    "    data = pie_df\n",
    "\n",
    "    # Extract the required columns\n",
    "    ensembl_genes = data[\"Ensembl Genes\"]\n",
    "    genes_entries = data[\"Genes Entries\"]\n",
    "    rsid_entries = data[\"rsID Entries\"]\n",
    "    pmid_entries = data[\"PMID Entries\"]\n",
    "    mesh_terms = data[\"MeSH Terms\"]\n",
    "\n",
    "    # Create a pie chart for Ensembl Genes\n",
    "    plt.subplot(231)\n",
    "    plt.pie(ensembl_genes, labels=data[\"Ensembl Genes\"])\n",
    "    plt.title(\"Ensembl Genes\")\n",
    "\n",
    "    # Create a pie chart for Genes Entries\n",
    "    plt.subplot(232)\n",
    "    plt.pie(genes_entries, labels=data[\"Genes Entries\"])\n",
    "    plt.title(\"Genes Entries\")\n",
    "\n",
    "    # Create a pie chart for rsID Entries\n",
    "    plt.subplot(233)\n",
    "    plt.pie(rsid_entries, labels=data[\"rsID Entries\"])\n",
    "    plt.title(\"rsID Entries\")\n",
    "\n",
    "    # Create a pie chart for PMID Entries\n",
    "    plt.subplot(234)\n",
    "    plt.pie(pmid_entries, labels=data[\"PMID Entries\"])\n",
    "    plt.title(\"PMID Entries\")\n",
    "\n",
    "    # Create a pie chart for MeSH Terms\n",
    "    plt.subplot(235)\n",
    "    plt.pie(mesh_terms, labels=data[\"MeSH Terms\"])\n",
    "    plt.title(\"MeSH Terms\")\n",
    "\n",
    "\n",
    "    # Set the layout and display the graphs\n",
    "    plt.tight_layout()\n",
    "    plt.legend(data[\"Database Partition\"], bbox_to_anchor=(1.2,1))\n",
    "\n",
    "    plt.show()"
   ],
   "metadata": {
    "collapsed": false
   }
  },
  {
   "cell_type": "markdown",
   "source": [
    "### word clouds"
   ],
   "metadata": {
    "collapsed": false
   }
  },
  {
   "cell_type": "code",
   "execution_count": null,
   "outputs": [],
   "source": [
    "import subprocess\n",
    "subprocess.run([\"pip\", \"install\", \"wordcloud\"])\n",
    "subprocess.run([\"pip\", \"install\", \"matplotlib\"])"
   ],
   "metadata": {
    "collapsed": false
   }
  },
  {
   "cell_type": "code",
   "execution_count": null,
   "outputs": [],
   "source": [
    "# Import the necessary libraries\n",
    "from wordcloud import WordCloud\n",
    "import matplotlib.pyplot as plt\n",
    "import pandas as pd\n",
    "\n",
    "# Read the CSV file into a pandas DataFrame\n",
    "df = pd.read_csv('ref-mesh-archive/ref_mesh_ng_ob_bmi.csv')\n",
    "\n",
    "# Drop any duplicates in the 'Preferred Label' column\n",
    "df_ser = df['Preferred Label'].drop_duplicates()\n",
    "df_ser"
   ],
   "metadata": {
    "collapsed": false
   }
  },
  {
   "cell_type": "code",
   "execution_count": null,
   "outputs": [],
   "source": [
    "# Import the necessary libraries\n",
    "from wordcloud import WordCloud\n",
    "import matplotlib.pyplot as plt\n",
    "\n",
    "# Create a WordCloud object\n",
    "wordcloud = WordCloud(width=600, height=800, background_color='white').generate(text)\n",
    "\n",
    "# Display the word cloud using matplotlib\n",
    "plt.imshow(wordcloud, interpolation='bilinear')\n",
    "plt.axis('off')\n",
    "plt.savefig('cloud.png', dpi=300)\n",
    "plt.show()\n"
   ],
   "metadata": {
    "collapsed": false
   }
  }
 ],
 "metadata": {
  "kernelspec": {
   "display_name": "Python 3 (ipykernel)",
   "language": "python",
   "name": "python3"
  },
  "language_info": {
   "codemirror_mode": {
    "name": "ipython",
    "version": 3
   },
   "file_extension": ".py",
   "mimetype": "text/x-python",
   "name": "python",
   "nbconvert_exporter": "python",
   "pygments_lexer": "ipython3",
   "version": "3.10.9"
  }
 },
 "nbformat": 4,
 "nbformat_minor": 4
}
