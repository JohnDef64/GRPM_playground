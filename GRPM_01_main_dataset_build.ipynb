{
 "cells": [
  {
   "cell_type": "markdown",
   "metadata": {},
   "source": [
    "# GRPM Dataset Builder 2.0 (LitVar2 Patch)\n",
    "\n",
    "This notebook is designed to retrieve genetic polymorphism data from multiple sources. It uses the LitVar API to extract polymorphisms for each human gene within the LitVar2 database along with all associated PubMed Identifiers (PMIDs). These PMIDs are then employed as queries on PubMed to obtain MEDLINE data (parsed though the 'nbib' package). All collected data are ultimately consolidated into a single CSV file, known as the \"GRPM Dataset\", which serves as the primary source against which MeSH term queries can be launched to retrieve genes and polymorphisms associated with specific contexts.  \n",
    "\n",
    "**Updates** : \n",
    "\n",
    "The GRPM Dataset available on Zenodo is a snapshot of [LitVar1](https://www.ncbi.nlm.nih.gov/CBBresearch/Lu/Demo/LitVar/help.html). LitVar1 is now <u>**deprecated**</u> and has been fully replaced by [LitVar2](https://www.ncbi.nlm.nih.gov/research/litvar2/). This module \n",
    "([Dataset Builder](https://github.com/johndef64/GRPM_system/blob/main/GRPM_01_dataset_builder.ipynb)) has been updated to retrieve data from LitVar2. The subsequent modules in the pipeline remain functional and can be tested using the original version of the GRPM Dataset available on Zenodo."
   ]
  },
  {
   "cell_type": "code",
   "execution_count": 1,
   "metadata": {
    "collapsed": false,
    "ExecuteTime": {
     "end_time": "2024-03-14T10:08:27.549760300Z",
     "start_time": "2024-03-14T10:08:27.516843900Z"
    }
   },
   "outputs": [
    {
     "name": "stdout",
     "output_type": "stream",
     "text": [
      "Current working directory: G:\\Altri computer\\Horizon\\horizon_workspace\\projects\\bioinformatics\\semantics\\GRPM\\GRPM_dev\n"
     ]
    }
   ],
   "source": [
    "#Only for Google Colab\n",
    "import os\n",
    "import sys\n",
    "import subprocess\n",
    "\n",
    "# @markdown Run in Colab virtual machine by default\n",
    "\n",
    "# @markdown to run in google drive set:\n",
    "import_mydrive = False #@param {type:\"boolean\"}\n",
    "\n",
    "\n",
    "if 'google.colab' in sys.modules:\n",
    "    subprocess.run([\"pip\", \"install\", \"nbib\"])\n",
    "    subprocess.run([\"pip\", \"install\", \"biopython\"])\n",
    "\n",
    "    if import_mydrive:\n",
    "        from google.colab import drive\n",
    "        drive.mount('/content/drive')\n",
    "\n",
    "        if not os.path.exists('/content/drive/MyDrive/grpm_system/'):\n",
    "            subprocess.run(['mkdir', '/content/drive/MyDrive/grpm_system/'])\n",
    "        subprocess.run(['cd', '/content/drive/MyDrive/grpm_system/'])\n",
    "    else:\n",
    "        if not os.path.exists('/content/grpm_system/'):\n",
    "            subprocess.run(['mkdir', '/content/grpm_system/'])\n",
    "        subprocess.run(['cd', '/content/grpm_system/'])\n",
    "\n",
    "current_directory = os.getcwd()\n",
    "print(\"Current working directory:\", current_directory)"
   ]
  },
  {
   "cell_type": "markdown",
   "metadata": {},
   "source": [
    "# Import Requirements and Functions"
   ]
  },
  {
   "cell_type": "code",
   "execution_count": 2,
   "metadata": {
    "collapsed": false,
    "ExecuteTime": {
     "end_time": "2024-11-15T13:23:47.990894100Z",
     "start_time": "2024-11-15T13:23:39.278661700Z"
    }
   },
   "outputs": [
    {
     "name": "stdout",
     "output_type": "stream",
     "text": [
      "biopython' was installed correctly.\n"
     ]
    }
   ],
   "source": [
    "import importlib\n",
    "import subprocess\n",
    "\n",
    "try:\n",
    "    importlib.import_module('pygrpm')\n",
    "except ImportError:\n",
    "    subprocess.check_call([\"pip\", \"install\", \"git+https://github.com/johndef64/GRPM_system.git\"])\n",
    "\n",
    "from pygrpm import *\n",
    "from pygrpm.data_retrieval import *\n",
    "\n",
    "def simple_bool(message):\n",
    "    choose = input(message+\" (y/n): \").lower()\n",
    "    your_bool = choose in [\"y\", \"yes\"]\n",
    "    return your_bool\n",
    "\n",
    "def check_and_install_requirements(requirements: list):\n",
    "    missing_requirements = []\n",
    "    for module in requirements:\n",
    "        try:\n",
    "            # Check if the module is already installed\n",
    "            importlib.import_module(module)\n",
    "        except ImportError:\n",
    "            missing_requirements.append(module)\n",
    "    if len(missing_requirements) == 0:\n",
    "        pass\n",
    "    else:\n",
    "        x = simple_bool(str(missing_requirements)+\" are missing.\\nWould you like to install them all?\")\n",
    "        if x:\n",
    "            for module in missing_requirements:\n",
    "                subprocess.check_call([\"pip\", \"install\", module])\n",
    "                print(f\"{module}' was installed correctly.\")\n",
    "        else:\n",
    "            exit()\n",
    "\n",
    "requirements = ['nbib', 'requests', \"biopython\", \"matplotlib\", \"bs4\", \"pandas\"]\n",
    "check_and_install_requirements(requirements)\n",
    "\n",
    "\n",
    "# Import Requirements ================\n",
    "import os\n",
    "import ast\n",
    "import sys\n",
    "import json\n",
    "import nbib\n",
    "import pandas as pd\n",
    "import requests as rq\n",
    "import matplotlib.pyplot as plt\n",
    "from datetime import datetime\n",
    "from bs4 import BeautifulSoup\n",
    "from io import StringIO\n",
    "from Bio import Entrez\n",
    "import time\n",
    "\n",
    "Entrez.email = \"your_email@example.com\"\n",
    "\n",
    "request_counter = 0\n",
    "gene_counter = 0\n",
    "\n"
   ]
  },
  {
   "cell_type": "markdown",
   "source": [
    "# Get required data from Zenodo"
   ],
   "metadata": {}
  },
  {
   "cell_type": "code",
   "outputs": [
    {
     "name": "stdout",
     "output_type": "stream",
     "text": [
      "Ensembl genes:\n",
      "protein_coding_genes_list = 19318\n",
      "RNA_genes_list            = 11452\n",
      "pseudo_genes_list         = 9866\n"
     ]
    }
   ],
   "source": [
    "if not os.path.exists('human_genes.csv'):\n",
    "    get_from_zenodo('human_genes.csv')\n",
    "\n",
    "# Load Human Gene list ---------------------------------\n",
    "h_genes= pd.read_csv('human_genes.csv', index_col=0)\n",
    "\n",
    "protein_coding_genes = h_genes[h_genes['Type code']==\"PCG\"  ].reset_index(drop=True)\n",
    "IG_TR_genes          = h_genes[h_genes['Type code']==\"IG_TR\"].reset_index(drop=True)\n",
    "RNA_genes            = h_genes[h_genes['Type code']==\"RNA\"  ].reset_index(drop=True)\n",
    "pseudo_genes         = h_genes[h_genes['Type code']==\"PSD\"  ].reset_index(drop=True)\n",
    "misc_genes           = h_genes[h_genes['Type code']==\"MISC\" ].reset_index(drop=True)\n",
    "\n",
    "#First: protein coding genes:\n",
    "protein_coding_genes_list = protein_coding_genes['Gene name'].dropna().tolist()\n",
    "RNA_genes_list            = RNA_genes['Gene name'].dropna().tolist()\n",
    "pseudo_genes_list         = pseudo_genes['Gene name'].dropna().tolist()\n",
    "\n",
    "print('Ensembl genes:')\n",
    "print('protein_coding_genes_list =',len(protein_coding_genes_list))\n",
    "print('RNA_genes_list            =',len(RNA_genes_list))\n",
    "print('pseudo_genes_list         =',len(pseudo_genes_list))"
   ],
   "metadata": {
    "collapsed": false,
    "ExecuteTime": {
     "end_time": "2024-11-15T13:24:36.263027100Z",
     "start_time": "2024-11-15T13:24:35.962989600Z"
    }
   },
   "execution_count": 4
  },
  {
   "cell_type": "markdown",
   "metadata": {},
   "source": [
    "# Whole genome forecast"
   ]
  },
  {
   "cell_type": "code",
   "execution_count": 5,
   "metadata": {
    "collapsed": false,
    "ExecuteTime": {
     "end_time": "2024-11-15T13:24:36.994988100Z",
     "start_time": "2024-11-15T13:24:36.960987200Z"
    }
   },
   "outputs": [
    {
     "name": "stdout",
     "output_type": "stream",
     "text": [
      "Forecast:\n",
      "max genes/day=  2352\n",
      "for 19318 genes:\n",
      "    request counter = 82101.5 requests\n",
      "    whole genome runtime = 34.13 hours\n",
      "    whole genome runtime overnight = 40.03\n",
      "    db table size 7669.25 MB\n"
     ]
    }
   ],
   "source": [
    "#Statistics based on 150 random genes:\n",
    "time_sleep = 0.4\n",
    "runtime_gene = 6.36 #sec/gene\n",
    "genes_hour = 566 #genes/hour\n",
    "request_counter_gene = 4.25 #request/gene (with base sleep (0.4))\n",
    "sleep_request_base = 0.4 #time sleep each request\n",
    "sleep_request_overnight_plus = 1.1 # for an overnight job\n",
    "\n",
    "print('Forecast:')\n",
    "max_genes = int(10000/request_counter_gene)\n",
    "table_size_db_gene = 0.496 #MB\n",
    "table_size_gene = 0.397 #MB\n",
    "png_size_db_gene = 0.47 #KB\n",
    "\n",
    "#Forecast:\n",
    "genes = protein_coding_genes_list\n",
    "ngenes = len(genes)#gene_range\n",
    "nruntime = ngenes * runtime_gene\n",
    "#print('runtime, '+str(ngenes), nruntime)\n",
    "nrequest_counter = ngenes * request_counter_gene\n",
    "\n",
    "tempo_ore = round(nruntime/3600, 2)\n",
    "tempo_ore_overnight = round((nruntime+(sleep_request_overnight_plus*ngenes))/3600, 2)\n",
    "\n",
    "print('max genes/day= ',max_genes)\n",
    "print('for',str(int(ngenes)),'genes:')\n",
    "print('    request counter =', nrequest_counter,'requests')\n",
    "print('    whole genome runtime =', tempo_ore,'hours')\n",
    "print('    whole genome runtime overnight =', tempo_ore_overnight)\n",
    "\n",
    "db_table_size = ngenes * table_size_gene\n",
    "print('    db table size', round(db_table_size,2),'MB')"
   ]
  },
  {
   "cell_type": "markdown",
   "metadata": {},
   "source": [
    "# Load Human Genes"
   ]
  },
  {
   "cell_type": "code",
   "execution_count": 6,
   "metadata": {
    "collapsed": false,
    "ExecuteTime": {
     "end_time": "2024-11-15T13:24:39.332215900Z",
     "start_time": "2024-11-15T13:24:39.277216200Z"
    }
   },
   "outputs": [
    {
     "name": "stdout",
     "output_type": "stream",
     "text": [
      "protein_coding_genes 19318 \n",
      "IG_TR_genes 641 \n",
      "RNA_genes 11452 \n",
      "pseudo_genes 9866 \n",
      "misc_genes 22\n",
      "\n",
      "recommended job lenght for pcg: 1073\n"
     ]
    }
   ],
   "source": [
    "# Load Human Gene list ---------------------------------\n",
    "\n",
    "# create gene lists:\n",
    "protein_coding_genes_list = protein_coding_genes['Gene name'].dropna().tolist()\n",
    "rna_genes_list = RNA_genes['Gene name'].dropna().tolist()\n",
    "pseudo_genes_list = pseudo_genes['Gene name'].dropna().tolist()\n",
    "\n",
    "\n",
    "# Split job packages:----------------------------------\n",
    "\n",
    "# (1) protein coding genes:\n",
    "gene_range = int(len(protein_coding_genes_list)/18)\n",
    "genes = [protein_coding_genes_list[i * gene_range : (i + 1) * gene_range] for i in range(0, 18)]\n",
    "pcg_chunks = genes[:18]\n",
    "\n",
    "# (2) RNA genes:\n",
    "rna_gene_range = int(len(rna_genes_list)/5)\n",
    "genes = [rna_genes_list[i * rna_gene_range : (i + 1) * rna_gene_range] for i in range(0, 8)]\n",
    "rna_chunks = genes[:5]\n",
    "\n",
    "# (3) pseudo genes:\n",
    "pseudo_gene_range = int(len(pseudo_genes_list)/2)\n",
    "genes = [rna_genes_list[i * pseudo_gene_range : (i + 1) * pseudo_gene_range] for i in range(0, 8)]\n",
    "pseudo_chunks = genes[:2]\n",
    "\n",
    "print('protein_coding_genes',len(protein_coding_genes['Gene name'].dropna()),\n",
    "      '\\nIG_TR_genes',len(IG_TR_genes['Gene name'].dropna()),\n",
    "      '\\nRNA_genes',len(RNA_genes['Gene name'].dropna()),\n",
    "      '\\npseudo_genes',len(pseudo_genes['Gene name'].dropna()),\n",
    "      '\\nmisc_genes',len(misc_genes['Gene name'].dropna()))\n",
    "\n",
    "print('\\nrecommended job lenght for pcg:',int(len(protein_coding_genes_list)/18))"
   ]
  },
  {
   "cell_type": "markdown",
   "metadata": {},
   "source": [
    "# Set options and import building dataset"
   ]
  },
  {
   "cell_type": "code",
   "outputs": [
    {
     "data": {
      "text/plain": "             gene type          rsid      pmid  \\\n0          MT-ND1  PCG  rs1057520201  17454741   \n1          MT-ND1  PCG  rs1057520201  17454741   \n2          MT-ND1  PCG  rs1057520201  17454741   \n3          MT-ND1  PCG  rs1057520201  17454741   \n4          MT-ND1  PCG  rs1057520201  17454741   \n...           ...  ...           ...       ...   \n17896433  SKINT1L  PSD      rs214209  20930713   \n17896434  SKINT1L  PSD      rs214209  20930713   \n17896435  SKINT1L  PSD      rs214209  20930713   \n17896436  SKINT1L  PSD      rs214209  20930713   \n17896437  SKINT1L  PSD      rs214209  20930713   \n\n                                     mesh                    qualifier  major  \n0                 Amino Acid Substitution                         None  False  \n1                      DNA, Mitochondrial                     genetics   True  \n2                                  Female                         None  False  \n3                                Genotype                         None  False  \n4                                  Humans                         None  False  \n...                                   ...                          ...    ...  \n17896433  Polymorphism, Single Nucleotide                         None   True  \n17896434                       Prevalence                         None  False  \n17896435                     Risk Factors                         None  False  \n17896436                     White People                     genetics  False  \n17896437                     White People  statistics & numerical data  False  \n\n[17896438 rows x 7 columns]",
      "text/html": "<div>\n<style scoped>\n    .dataframe tbody tr th:only-of-type {\n        vertical-align: middle;\n    }\n\n    .dataframe tbody tr th {\n        vertical-align: top;\n    }\n\n    .dataframe thead th {\n        text-align: right;\n    }\n</style>\n<table border=\"1\" class=\"dataframe\">\n  <thead>\n    <tr style=\"text-align: right;\">\n      <th></th>\n      <th>gene</th>\n      <th>type</th>\n      <th>rsid</th>\n      <th>pmid</th>\n      <th>mesh</th>\n      <th>qualifier</th>\n      <th>major</th>\n    </tr>\n  </thead>\n  <tbody>\n    <tr>\n      <th>0</th>\n      <td>MT-ND1</td>\n      <td>PCG</td>\n      <td>rs1057520201</td>\n      <td>17454741</td>\n      <td>Amino Acid Substitution</td>\n      <td>None</td>\n      <td>False</td>\n    </tr>\n    <tr>\n      <th>1</th>\n      <td>MT-ND1</td>\n      <td>PCG</td>\n      <td>rs1057520201</td>\n      <td>17454741</td>\n      <td>DNA, Mitochondrial</td>\n      <td>genetics</td>\n      <td>True</td>\n    </tr>\n    <tr>\n      <th>2</th>\n      <td>MT-ND1</td>\n      <td>PCG</td>\n      <td>rs1057520201</td>\n      <td>17454741</td>\n      <td>Female</td>\n      <td>None</td>\n      <td>False</td>\n    </tr>\n    <tr>\n      <th>3</th>\n      <td>MT-ND1</td>\n      <td>PCG</td>\n      <td>rs1057520201</td>\n      <td>17454741</td>\n      <td>Genotype</td>\n      <td>None</td>\n      <td>False</td>\n    </tr>\n    <tr>\n      <th>4</th>\n      <td>MT-ND1</td>\n      <td>PCG</td>\n      <td>rs1057520201</td>\n      <td>17454741</td>\n      <td>Humans</td>\n      <td>None</td>\n      <td>False</td>\n    </tr>\n    <tr>\n      <th>...</th>\n      <td>...</td>\n      <td>...</td>\n      <td>...</td>\n      <td>...</td>\n      <td>...</td>\n      <td>...</td>\n      <td>...</td>\n    </tr>\n    <tr>\n      <th>17896433</th>\n      <td>SKINT1L</td>\n      <td>PSD</td>\n      <td>rs214209</td>\n      <td>20930713</td>\n      <td>Polymorphism, Single Nucleotide</td>\n      <td>None</td>\n      <td>True</td>\n    </tr>\n    <tr>\n      <th>17896434</th>\n      <td>SKINT1L</td>\n      <td>PSD</td>\n      <td>rs214209</td>\n      <td>20930713</td>\n      <td>Prevalence</td>\n      <td>None</td>\n      <td>False</td>\n    </tr>\n    <tr>\n      <th>17896435</th>\n      <td>SKINT1L</td>\n      <td>PSD</td>\n      <td>rs214209</td>\n      <td>20930713</td>\n      <td>Risk Factors</td>\n      <td>None</td>\n      <td>False</td>\n    </tr>\n    <tr>\n      <th>17896436</th>\n      <td>SKINT1L</td>\n      <td>PSD</td>\n      <td>rs214209</td>\n      <td>20930713</td>\n      <td>White People</td>\n      <td>genetics</td>\n      <td>False</td>\n    </tr>\n    <tr>\n      <th>17896437</th>\n      <td>SKINT1L</td>\n      <td>PSD</td>\n      <td>rs214209</td>\n      <td>20930713</td>\n      <td>White People</td>\n      <td>statistics &amp; numerical data</td>\n      <td>False</td>\n    </tr>\n  </tbody>\n</table>\n<p>17896438 rows × 7 columns</p>\n</div>"
     },
     "execution_count": 14,
     "metadata": {},
     "output_type": "execute_result"
    }
   ],
   "source": [
    "grpm_dataset = pd.read_parquet('grpm_dataset//grpm_dataset.parquet', engine='pyarrow')\n",
    "grpm_dataset"
   ],
   "metadata": {
    "collapsed": false,
    "ExecuteTime": {
     "end_time": "2024-11-15T11:34:26.239079900Z",
     "start_time": "2024-11-15T11:34:18.557173900Z"
    }
   },
   "execution_count": 14
  },
  {
   "cell_type": "code",
   "execution_count": 7,
   "metadata": {
    "collapsed": false,
    "ExecuteTime": {
     "end_time": "2024-11-15T13:25:28.021984500Z",
     "start_time": "2024-11-15T13:25:27.946985200Z"
    }
   },
   "outputs": [
    {
     "name": "stdout",
     "output_type": "stream",
     "text": [
      "time load 0:00:00.004003\n",
      "empty dataset\n",
      "empty dataset\n"
     ]
    }
   ],
   "source": [
    "# set db:--------------------------------\n",
    "db_tag = 'pcg_2024_lit2'\n",
    "    # 'pcg'    = protein coding genes = grpm_db\n",
    "    # 'rna'    = rna genes            = grpm_db_rna\n",
    "    # 'pseudo' = pseudogenes          = grpm_db_pseudo\n",
    "\n",
    "db_name = 'grpm_db_'+db_tag\n",
    "db_path = 'grpm_dataset/'#+db_name\n",
    "\n",
    "if not os.path.exists(db_path):\n",
    "    os.makedirs(db_path)\n",
    "#------------------------------------------------\n",
    "\n",
    "\n",
    "#import checkpoint datasets:\n",
    "time_a = datetime.now()\n",
    "if os.path.isfile(db_path+'/grpm_dataset.parquet'):\n",
    "    #complete_df = pd.read_csv(db_path+'/grpm_table_output.csv',index_col=0)\n",
    "    complete_df = pd.read_parquet(db_path+'/grpm_dataset.parquet', engine='auto', columns=None)\n",
    "\n",
    "    restart = True\n",
    "else:\n",
    "    complete_df = pd.DataFrame()\n",
    "    restart = False\n",
    "\n",
    "if os.path.isfile(db_path+'/grpm_nbib.parquet'):\n",
    "    #grpm_nbib = pd.read_csv(db_path+'/grpm_nbib.csv',index_col=0)\n",
    "    grpm_nbib = pd.read_parquet(db_path+'/grpm_nbib.parquet', engine='auto', columns=None)\n",
    "\n",
    "else:\n",
    "    grpm_nbib = pd.DataFrame()\n",
    "time_b = datetime.now()\n",
    "\n",
    "print('time load',time_b-time_a)\n",
    "\n",
    "## check saved data:\n",
    "if os.path.isfile(db_path+'/grpm_dataset.parquet'):\n",
    "    gene_db_count =  complete_df.gene.nunique()\n",
    "    print('complete_df gene count:',gene_db_count,'on', len(protein_coding_genes_list))\n",
    "    if gene_db_count >= 15519:\n",
    "        print('grpm db already contains all available genes on litvar1')\n",
    "\n",
    "    print('\\ngrpm_dataset.csv size'  ,round(os.path.getsize(db_path+'/grpm_dataset.parquet')/(1024*1024),3),'MB')\n",
    "    print('grpm_nbib.csv size',round(os.path.getsize(db_path+'/grpm_nbib.parquet')/(1024*1024),3),'MB')\n",
    "    print('memory_usage_complete_df'     ,round(complete_df.memory_usage().sum()/(1024*1024),3))\n",
    "    print('memory_usage_complete_nbib_df',round(grpm_nbib.memory_usage().sum()/(1024*1024),3))\n",
    "else:\n",
    "    print('empty dataset')\n",
    "    print('empty dataset')"
   ]
  },
  {
   "cell_type": "markdown",
   "metadata": {},
   "source": [
    "# Run Job"
   ]
  },
  {
   "cell_type": "markdown",
   "metadata": {},
   "source": [
    "## Set gene-range for this job"
   ]
  },
  {
   "cell_type": "code",
   "execution_count": 8,
   "metadata": {
    "collapsed": false,
    "ExecuteTime": {
     "end_time": "2024-11-15T13:25:39.770105500Z",
     "start_time": "2024-11-15T13:25:33.643369300Z"
    }
   },
   "outputs": [
    {
     "name": "stdout",
     "output_type": "stream",
     "text": [
      "sample size: 3\n"
     ]
    }
   ],
   "source": [
    "# Set the gene list ----------------\n",
    "\n",
    "#1. Set gene-range [whole genome build]\n",
    "gene_chunk = pcg_chunks[0]\n",
    "            # pcg_chunks[0:17]\n",
    "            # rna_chunks[0:4]\n",
    "            # pseudo_chunks[0:1]\n",
    "\n",
    "# run a sample?\n",
    "run_sample = simple_bool('Do you want to run a chunk sample for testing?')\n",
    "if run_sample:\n",
    "    sample_size = int(input('sample size? \\nnum:'))\n",
    "    print(f'sample size: {sample_size}')\n",
    "\n",
    "\n",
    "#2. place here your custom gene list [custom build]\n",
    "if not run_sample:\n",
    "    custom_genes = ['APOA1', 'FFC1', 'ERH', 'USP53']\n",
    "    custom_list = simple_bool('Do you want to run the custom gene list?')\n",
    "else:\n",
    "    custom_list = False\n",
    "\n",
    "#if stucked, store skipped_genes and run custom list later:\n",
    "skipped_genes =  []\n",
    "\n",
    "# Set save interval checkpoint frequency\n",
    "checkpoint = 10  #genes"
   ]
  },
  {
   "cell_type": "markdown",
   "metadata": {},
   "source": [
    "## Run Job"
   ]
  },
  {
   "cell_type": "code",
   "execution_count": 10,
   "metadata": {
    "collapsed": false,
    "ExecuteTime": {
     "end_time": "2024-11-15T13:27:02.148971Z",
     "start_time": "2024-11-15T13:26:45.805562500Z"
    }
   },
   "outputs": [
    {
     "name": "stdout",
     "output_type": "stream",
     "text": [
      "Start at  2024-11-15 14:26:45.809564\n",
      "PPP1R11_runtime: 0:00:02.970251\n",
      "RPH3AL_runtime: 0:00:04.058705\n",
      "HLA-A_runtime: 0:00:08.868494\n",
      "saved checkpoint\n",
      "\n",
      "Job Statistics:\n",
      "gene batch: 3\n",
      "time batch: 0:00:16\n",
      "runtime/gene: 0:00:05.437469\n",
      "request_counter: 12  (limit: 10.000/day)\n",
      "requests/gene: 2.0\n",
      "2024-11-15 14:27:02.121971\n"
     ]
    }
   ],
   "source": [
    "# set options:--------------------------------\n",
    "save_plot           = False\n",
    "save_studytype_data = False\n",
    "save_accessory_data = False\n",
    "\n",
    "\n",
    "# Run Job -------------------------\n",
    "if run_sample:\n",
    "    genes = pd.Series(gene_chunk).sample(sample_size).reset_index(drop=True).to_list()\n",
    "    restart = False\n",
    "else:\n",
    "    genes = pd.Series(gene_chunk).to_list()\n",
    "\n",
    "if restart:\n",
    "    restart_from = complete_df.gene.nunique()\n",
    "    gene_start = restart_from\n",
    "    print('search restarted from '+str(restart_from))\n",
    "else:\n",
    "    gene_start = 0\n",
    "\n",
    "if custom_list:\n",
    "    genes = custom_genes\n",
    "    gene_start = 0\n",
    "\n",
    "\n",
    "#=========================================================================\n",
    "time_start = datetime.now()\n",
    "print('Start at ',time_start)\n",
    "\n",
    "for gene in genes[gene_start:]:\n",
    "\n",
    "    #LitVar2 \"Variants for Gene\" API request\n",
    "    if request_counter > 9950:\n",
    "        print('Request limit reached. Please, wait \\'till tomorrow!')\n",
    "\n",
    "    time_alpha = datetime.now()\n",
    "    url = \"https://www.ncbi.nlm.nih.gov/research/litvar2-api/variant/search/gene/\" + gene\n",
    "    response = (rq.get(url)).text\n",
    "\n",
    "    # Build Dataframe from response\n",
    "    data = \"[\" + transform_string(response) + \"]\"\n",
    "    df = pd.read_json(StringIO(data))\n",
    "\n",
    "    if 'rsid' in df.columns and len(df.rsid)>1:\n",
    "        # Creating a df without the clingen entry\n",
    "        dfb = df[['_id','pmids_count','rsid']]\n",
    "        dfa = dfb[~dfb['_id'].str.contains('@CA')].drop_duplicates().reset_index(drop=True)\n",
    "        dfn = dfa.dropna(subset=['rsid'])\n",
    "\n",
    "        #handle = Entrez.esearch(db=\"snp\", term=gene)\n",
    "        #record = Entrez.read(handle)\n",
    "        #request_counter += 1\n",
    "\n",
    "        NCBI_dbSNP = 'na' #record[\"Count\"]\n",
    "        lit2_variant = len(dfa['_id'].drop_duplicates())\n",
    "        lit2_variant_norsid = len(dfa.loc[df['rsid'].isna()])\n",
    "        lit2_rsid = len(dfn.rsid.drop_duplicates())\n",
    "\n",
    "        # remove rsid with pmid_count = 1\n",
    "        df2 = dfn.loc[df.pmids_count !=1]\n",
    "        lit2_rsid_f = len(df2)\n",
    "\n",
    "        # accessory data\n",
    "        dfsort = df.sort_values(by='pmids_count',ascending=False).reset_index(drop=True)\n",
    "        df2sort = df2.sort_values(by='pmids_count',ascending=False).reset_index(drop=True)\n",
    "      \n",
    "\n",
    "        for rsid in df2.rsid[0:1]:\n",
    "            url=\"https://www.ncbi.nlm.nih.gov/research/litvar2-api/variant/get/litvar@\"+rsid+\"%23%23/publications\"\n",
    "            response = (rq.get(url)).text\n",
    "            response_dict = ast.literal_eval(response)\n",
    "            rspost = pd.DataFrame({key: pd.Series(value) for key, value in response_dict.items()})\n",
    "            \n",
    "            #Display-------------------------------------------------------\n",
    "            dfrspost = pd.DataFrame(rspost)\n",
    "            if 'pmids' in dfrspost.columns and len(dfrspost.pmids_count)>1:\n",
    "                lit1_rsid = 0\n",
    "    \n",
    "                # Creating the simple list [rsid-pmid]========================\n",
    "                rsidpmid = dfrspost[['pmids']].copy()\n",
    "                rsidpmid['rsid'] = str(rsid)\n",
    "                rsidpmid['pmids'] = rsidpmid['pmids'].astype('str')\n",
    "                \n",
    "                #report data:\n",
    "                lit1_rsid_pmid = len(rsidpmid)\n",
    "                lit1_pmid = len(rsidpmid.drop_duplicates(subset='pmids'))\n",
    "    \n",
    "    \n",
    "                ####[MODULE: groupby.describe]\n",
    "                # applicare groupby ad rsidpmid per avere tabella pmid count\n",
    "                rsidpmidcount = rsidpmid.groupby('rsid').describe().reset_index()\n",
    "                rsidpmidcount.columns = rsidpmidcount.columns.to_flat_index()\n",
    "                new_column_names = ['rsid', 'pmid_count', 'pmid_unique','pmid_top','pmid_freq']\n",
    "                rsidpmidcount.columns = new_column_names\n",
    "                rsidpmidcountf = rsidpmidcount[['rsid','pmid_unique']]\n",
    "    \n",
    "                #report data:-------------------------------------------------------------\n",
    "                lit1_rsid_f = len(rsidpmidcountf[rsidpmidcountf.pmid_unique!=1])\n",
    "                lit1_rsid_m = len(rsidpmidcountf[rsidpmidcountf.pmid_unique==1])\n",
    "    \n",
    "                rsidpmidcountfsort = rsidpmidcountf.sort_values('pmid_unique',ascending=False).reset_index(drop=True)\n",
    "    \n",
    "    \n",
    "                #Filter pmid for rsid with pmid>1------------------------------------------\n",
    "                outless = rsidpmidcountfsort[rsidpmidcountfsort.pmid_unique>1]\n",
    "                #creare una mask isin su rsidpmid con outless.rsid\n",
    "                mask = rsidpmid['rsid'].isin(outless.rsid)\n",
    "                rsidpmidless = rsidpmid[mask]\n",
    "                lit1_pmid_f = len(rsidpmidless.pmids.drop_duplicates())\n",
    "\n",
    "\n",
    "                # PubMed Request =====================================================\n",
    "                \n",
    "                # PubMed queries Build:\n",
    "                pmid_l = rsidpmid.pmids.drop_duplicates().tolist()\n",
    "                query = build_pubmed_query(pmid_l, limit = 1300)\n",
    "                \n",
    "                ## Get PubMed data:     \n",
    "                time1 = datetime.now()\n",
    "                pages = ((len(pmid_l)//200)+1)+1\n",
    "                if len(pmid_l) % 200 == 0:\n",
    "                    pages = pages -1\n",
    "                fullnbib = str()\n",
    "                for d in query:\n",
    "                    for i in range(1,pages):\n",
    "                        page = str(i)\n",
    "                        url = 'https://pubmed.ncbi.nlm.nih.gov/?term=' + d + '&format=pubmed&size=200&page='+ page\n",
    "                        output = rq.get(url)\n",
    "                        html = output.text\n",
    "                        soup = BeautifulSoup(html, features=\"html.parser\")\n",
    "                        for script in soup([\"script\", \"style\"]):\n",
    "                            script.extract()\n",
    "                        text = soup.get_text()\n",
    "                        postString = text.split(\"\\n\\n\\n\\n\\n\\n\\n\\n\\n\\n\",2)[2]\n",
    "                        nbib01 = postString.replace('\\n\\n','')\n",
    "                        fullnbib += nbib01\n",
    "                        request_counter += pages\n",
    "                        time.sleep(1.5)\n",
    "    \n",
    "                time2 = datetime.now()\n",
    "                timestamp = time2.strftime('%Y%m%d%H%M%S')\n",
    "                runtime = time2-time1\n",
    "                duration = str(runtime).split('.')[0]\n",
    "                hours, minutes, seconds = duration.split(':')\n",
    "                compact_duration = '{}:{}:{}'.format(hours, minutes, seconds)\n",
    "    \n",
    "                # nbib parsing:\n",
    "                timea = datetime.now()\n",
    "                ref = nbib.read(fullnbib)\n",
    "                dfbib = pd.DataFrame(ref)\n",
    "                if 'descriptors' in dfbib.columns and len(dfbib['descriptors'])>1:\n",
    "                    dfbibdes = dfbib[['pubmed_id','descriptors']].dropna().reset_index(drop=True)\n",
    "                    nbib_objects = len(dfbib)\n",
    "                    nbib_objects_withdescriptors = len(dfbibdes)\n",
    "                    #print('nibib objects:',nbib_objects)\n",
    "                    #print('nibib objects with descriptors:',len(dfbibdes))\n",
    "                    timeb = datetime.now()\n",
    "                    #print('runtime:', timeb-timea)\n",
    "    \n",
    "                    #Statistics:\n",
    "                    pubmed_pmid_query = len(pmid_l)\n",
    "                    pubmed_pmid_nbib = len(dfbib.pubmed_id.drop_duplicates())\n",
    "                    pubmed_pmid_nbib_yesmesh = len(dfbibdes.pubmed_id.drop_duplicates())\n",
    "                    pubmed_pmid_nbib_nomesh = len(dfbib.pubmed_id.drop_duplicates())-len(dfbibdes.pubmed_id.drop_duplicates())\n",
    "    \n",
    "                    # refine MESH\n",
    "                    dfr = []\n",
    "                    for i in range(len(dfbibdes)):\n",
    "                        for mesh in dfbibdes['descriptors'][i]:\n",
    "                            out = dfbibdes['pubmed_id'][i], mesh\n",
    "                            dfr.append(out)\n",
    "                    MESH = pd.DataFrame(dfr).rename(columns={0: 'pmid',1:'mesh'})\n",
    "    \n",
    "                    # dataframe parsing splitting three fields\n",
    "                    MESH_split =[]\n",
    "                    for i in range(len(MESH)):\n",
    "                        mg = MESH.mesh[i].get('descriptor')\n",
    "                        mg2 = MESH.mesh[i].get('qualifier')\n",
    "                        mg3 = MESH.mesh[i].get('major')\n",
    "                        mgg = MESH.pmid[i], mg, mg2, mg3\n",
    "                        MESH_split.append(mgg)\n",
    "    \n",
    "                    dfmesh = pd.DataFrame(MESH_split).rename(columns={0: 'pmid',1:'mesh',2:'qualifier',3:'major'}).drop_duplicates()\n",
    "    \n",
    "                    # statistics\n",
    "                    pubmed_pmidmesh = len(dfmesh[['pmid','mesh']].drop_duplicates())\n",
    "                    pubmed_mesh_qualifier_major = len(MESH.mesh.drop_duplicates())\n",
    "                    pubmed_mesh = len(dfmesh.mesh.drop_duplicates())\n",
    "    \n",
    "                    pmidmesh = dfmesh[['pmid','mesh']].drop_duplicates()\n",
    "                    pmidmesh['pmid'] = pmidmesh['pmid'].astype(str) #convert pmid type in str\n",
    "    \n",
    "    \n",
    "                    #Analyze enrichment with groupby.describe method-------------------------------\n",
    "                    #Add rsid column con merge\n",
    "                    rsidpmid = rsidpmid.rename(columns={\"pmids\": \"pmid\"})\n",
    "                    rspmidmesh_merge = pd.merge(pmidmesh, rsidpmid, on= 'pmid', how='inner').drop_duplicates().reindex(columns=['pmid', 'rsid', 'mesh'])\n",
    "                    #rspmidmesh_merge['pmid'] = rspmidmesh_merge['pmid'].astype(str)\n",
    "    \n",
    "                    ### groupby.describe analysis by mesh\n",
    "                    meshrspmidmerge_count = rspmidmesh_merge.groupby('mesh').describe().reset_index()\n",
    "                    meshrspmidmerge_count.columns = meshrspmidmerge_count.columns.to_flat_index()\n",
    "                    #to handle generate df.groupby.describe, convert Multicolumn to single column https://datascientyst.com/flatten-multiindex-in-pandas/\n",
    "                    new_column_names = ['mesh', 'pmid-count', 'pmid-unique','pmid-top','pmid-freq','rsid-count', 'rsid-unique','rsid-top','rsid-freq']\n",
    "                    meshrspmidmerge_count.columns = new_column_names\n",
    "    \n",
    "                    meshrspmidmerge_count_short = meshrspmidmerge_count[['mesh','pmid-unique','rsid-unique']]\n",
    "\n",
    "    \n",
    "                    # add frequency\n",
    "                    totalpmid_count = len(pmidmesh.pmid.drop_duplicates())\n",
    "                    meshrspmidmerge_count_short_freq = meshrspmidmerge_count_short.copy()\n",
    "                    meshb_frq = meshrspmidmerge_count_short_freq.loc[:,'pmid-unique'].astype(float)/totalpmid_count\n",
    "                    meshrspmidmerge_count_short_freq.loc[:,'mesh frequency'] = round(meshb_frq,3)#*100\n",
    "                    meshrspmidmerge_count_short_freq_sort = meshrspmidmerge_count_short_freq.sort_values(by='pmid-unique',ascending=False).reset_index(drop=True)\n",
    "    \n",
    "                    top10mesh_all = meshrspmidmerge_count_short_freq_sort['mesh'][:10].tolist()\n",
    "                    #display(meshrspmidmerge_count_short_freq_sort.head(20))\n",
    "    \n",
    "                    ### groupby.describe analysis by rsid------------------\n",
    "                    rspmidmeshmerge_count = rspmidmesh_merge.groupby('rsid').describe().reset_index()\n",
    "                    rspmidmeshmerge_count.columns = rspmidmeshmerge_count.columns.to_flat_index()\n",
    "                    new_column_names = ['rsid', 'pmid-count', 'pmid-unique','pmid-top','pmid-freq','mesh-count', 'mesh-unique','mesh-top','mesh-freq']\n",
    "                    rspmidmeshmerge_count.columns = new_column_names\n",
    "    \n",
    "                    rsid_pmid10 = len(rspmidmeshmerge_count[rspmidmeshmerge_count['pmid-unique']>10])\n",
    "                    rsid_pmid50 = len(rspmidmeshmerge_count[rspmidmeshmerge_count['pmid-unique']>50])\n",
    "                    rsid_pmid100 = len(rspmidmeshmerge_count[rspmidmeshmerge_count['pmid-unique']>100])\n",
    "    \n",
    "                    rspmidmeshmerge_count_short = rspmidmeshmerge_count[['rsid','pmid-unique','mesh-unique']]\n",
    "                    rspmidmeshmerge_count_short_sort = rspmidmeshmerge_count_short.sort_values(by='pmid-unique', ascending= False).reset_index(drop=True)\n",
    "                    top10rsid_all = rspmidmeshmerge_count_short_sort['rsid'].iloc[:10].tolist()\n",
    "\n",
    "                    # create a scatter plot-----------------------------------------\n",
    "                    if save_plot:\n",
    "                        plot_retrieval_data(meshrspmidmerge_count_short_freq_sort, timestamp, db_path, gene)\n",
    " \n",
    "                    # GET STUDY TYPE from NBIB----------------------------------------\n",
    "                    if save_studytype_data:\n",
    "                        get_studytype_data(ref, gene, db_path)\n",
    "    \n",
    "    \n",
    "                    #SAVE DATA========================================================\n",
    "                    timestamp = time2.strftime('%Y%m%d%H%M%S')\n",
    "                    # save accessory data:\n",
    "                    if save_accessory_data:\n",
    "                        dfsort[[\"_id\",\"rsid\",\"pmids_count\"]].to_csv(db_path+'/'+gene+'_litvar2_variants4gene.csv')\n",
    "                        rsidpmid.to_csv(db_path+'/'+gene+'_litvar1_rsids2pmids.csv') #lit1 [rsid-pmid]\n",
    "                        #rsidpmidcountfsort #lit1 pmid count\n",
    "    \n",
    "                        meshrspmidmerge_count_short_freq_sort.to_csv(db_path+'/'+gene+'_mesh_pmidrsid_count.csv')\n",
    "    \n",
    "                    #complete_df with concat:\n",
    "                    dfmesh['pmid'] = dfmesh['pmid'].astype(str)\n",
    "                    rsidpmid['pmid'] = rsidpmid['pmid'].astype(str)\n",
    "    \n",
    "                    # add a rsid-merger to dfmesh\n",
    "                    gene_rsidpmidmesh = pd.merge(rsidpmid, dfmesh, on='pmid')\n",
    "                    gene_rsidpmidmesh['gene'] = gene\n",
    "    \n",
    "                    gene_df = pd.DataFrame(gene_rsidpmidmesh)\n",
    "                    complete_df = pd.concat([complete_df, gene_rsidpmidmesh])\n",
    "    \n",
    "                    #grpm_nbib with concat:\n",
    "                    dfbib['gene'] = gene\n",
    "                    grpm_nbib = pd.concat([grpm_nbib, dfbib])\n",
    "    \n",
    "                    # save checkpoint----------------------\n",
    "                    if genes.index(gene) > 1 and genes.index(gene) % checkpoint == 0:\n",
    "                        save_checkpoint(complete_df, grpm_nbib, db_path)\n",
    "                    else:\n",
    "                        pass\n",
    "\n",
    "    \n",
    "                    # Build REPORT-------------------------------------------------\n",
    "                    time_omega = datetime.now()\n",
    "                    full_runtime = time_omega - time_alpha\n",
    "                    print(gene + '_runtime:', full_runtime)\n",
    "                    nbib_seconds = runtime.total_seconds()\n",
    "                    total_seconds = full_runtime.total_seconds()\n",
    "                    full_runtime_str = str(full_runtime).split('.')[0]\n",
    "    \n",
    "                    report = {'type': h_genes.loc[h_genes['Gene name'] == gene, 'Type code'].values[0],\n",
    "                              'ncbi_dbsnp': NCBI_dbSNP,\n",
    "                              'lit2_variant': lit2_variant,\n",
    "                              'lit2_variant_norsid': lit2_variant_norsid,\n",
    "                              'lit2_rsid': lit2_rsid,\n",
    "                              'lit2_rsid_plus1': lit2_rsid_f,\n",
    "                              'lit1_rsid': lit1_rsid,\n",
    "                              #'lit1_raw_pmid': lit1_raw_pmid,\n",
    "                              #'lit1_rsid_pmid': lit1_rsid_pmid,\n",
    "                              'lit1_rsid_pmid_plus1': lit1_rsid_f,\n",
    "                              #lit1_rsid_pmid=1': lit1_rsid_m,\n",
    "                              'lit1_pmid': lit1_pmid,\n",
    "                              'lit1_pmid_pmid_plus1': lit1_pmid_f,\n",
    "                              'pubmed_pmid_query': pubmed_pmid_query,\n",
    "                              'nbib_objects': nbib_objects,\n",
    "                              'nbib_objects_withdescriptors': nbib_objects_withdescriptors,\n",
    "                              'pubmed_pmid': pubmed_pmid_nbib,\n",
    "                              'pubmed_pmid_withmesh': pubmed_pmid_nbib_yesmesh,\n",
    "                              #'pubmed_pmid_nomesh':pubmed_pmid_nbib_nomesh,\n",
    "                              'pubmed_pmidmesh': pubmed_pmidmesh,\n",
    "                              'pubmed_mesh_qualifier_major': pubmed_mesh_qualifier_major,\n",
    "                              'pubmed_mesh': pubmed_mesh,\n",
    "                              'rsid_pmid10': rsid_pmid10,\n",
    "                              'rsid_pmid50': rsid_pmid50,\n",
    "                              'rsid_pmid100': rsid_pmid100,\n",
    "                              'top10mesh_all': str(top10mesh_all),\n",
    "                              'top10rsid_all': str(top10rsid_all),\n",
    "                              'pubmed_runtime': duration,\n",
    "                              'total_runtime': full_runtime_str,\n",
    "                              'time_stamp': time2\n",
    "                              }\n",
    "    \n",
    "                    df_report = pd.DataFrame(report, index=[gene])#.transpose()\n",
    "    \n",
    "                    # generate fist report.csv\n",
    "                    if os.path.isfile(db_path+'/grpm_report.parquet'):\n",
    "                        #dfL = pd.read_csv(db_path+'/grpm_report.csv', index_col=0)\n",
    "                        dfL = pd.read_parquet(db_path+'/grpm_report.parquet')#, index_col=0)\n",
    "                        dfL = pd.concat([dfL, df_report])#, axis=1)\n",
    "                        dfL.to_parquet(db_path+'/grpm_report.parquet')\n",
    "                    else:\n",
    "                        df_report.to_parquet(db_path+'/grpm_report.parquet')  # solo la prima volta\n",
    "    \n",
    "                    #Update gene values\n",
    "                    #grpm_report = pd.read_csv(db_path+'/grpm_report.csv', index_col=0)\n",
    "                    grpm_report =  pd.read_parquet(db_path+'/bkp/grpm_report.parquet', engine='pyarrow')\n",
    "                    if gene + '.1' in grpm_report.columns:\n",
    "                        grpm_report = grpm_report.drop(columns=gene)\n",
    "                        grpm_report = grpm_report.rename(columns={gene + '.1': gene})\n",
    "                        grpm_report.to_csv(db_path+'/grpm_report.csv')\n",
    "                        print(gene,'already in db')\n",
    "                else:\n",
    "                    print(gene + ' no descriptors in NBIB')\n",
    "                    time.sleep(0.8)\n",
    "                    pass\n",
    "            else:\n",
    "                print(gene + ' no results on litvar2 (rsid2pmids)')\n",
    "                time.sleep(0.8)\n",
    "                pass\n",
    "    else:\n",
    "        print(gene + ' no results on litvar2 (gene2pmidcount)')\n",
    "        pass\n",
    "\n",
    "    if request_counter > 9000:\n",
    "        dada = 2\n",
    "        #print('Allert! Reaching pubmed request limit')\n",
    "    if request_counter > 9950:\n",
    "        #print('Request limit reached. Wait \\'till tomorrow!')\n",
    "        time_finish = datetime.now()\n",
    "        time_batch = time_finish - time_start\n",
    "        time_batch_str = str(time_batch).split('.')[0]\n",
    "        #print('time batch:', time_batch_str)\n",
    "        #break\n",
    "\n",
    "# Save Data\n",
    "save_checkpoint(complete_df, grpm_nbib, db_path)\n",
    "\n",
    "# Print Job Statistics\n",
    "time_finish = datetime.now()\n",
    "time_batch = time_finish - time_start\n",
    "time_batch_str = str(time_batch).split('.')[0]\n",
    "print('\\nJob Statistics:')\n",
    "print('gene batch:', len(genes))\n",
    "print('time batch:', time_batch_str)\n",
    "print('runtime/gene:', time_batch/len(genes))\n",
    "print('request_counter:', request_counter,' (limit: 10.000/day)')\n",
    "gene_counter += len(genes)\n",
    "print('requests/gene:', request_counter/gene_counter)\n",
    "print(time_finish)\n",
    "\n",
    "### notes:\n",
    "# LIMITS PubMed Programming Utilities (PMU)\n",
    "# 10 requests/second\n",
    "# 10,000 requests/day"
   ]
  },
  {
   "cell_type": "code",
   "outputs": [
    {
     "data": {
      "text/plain": "           index type  ncbi_dbsnp  lit2_variant  lit2_variant_norsid  \\\n0         MT-ND1  PCG        1499           270                    0   \n1         MT-ND2  PCG        1813           302                    0   \n2         MT-CO1  PCG        2178           312                    0   \n3         MT-CO2  PCG        1759           240                    0   \n4        MT-ATP8  PCG        1623           234                    0   \n...          ...  ...         ...           ...                  ...   \n18259      GBAP1  PSD        6129            50                   18   \n18260      EMBP1  PSD       23390            69                    1   \n18261  LINC01347  PSD       18597            42                    1   \n18262     GNRHR2  PSD        3638            45                    2   \n18263    SKINT1L  PSD       29489            93                    3   \n\n       lit2_rsid  lit2_rsid_plus1  lit1_rsid  lit1_rsid_pmid_plus1  lit1_pmid  \\\n0            270              193        125                    78        335   \n1            302              210        143                    82        361   \n2            312              193        112                    58        191   \n3            240              138         82                    38        115   \n4            234              144         92                    49        155   \n...          ...              ...        ...                   ...        ...   \n18259         32               18         11                     6         21   \n18260         68               31          5                     1         99   \n18261         41                6          2                     1          3   \n18262         43               10          3                     2          5   \n18263         90               24          3                     1          4   \n\n       ...  pubmed_mesh_qualifier_major  pubmed_mesh  rsid_pmid10  \\\n0      ...                         1392          764            7   \n1      ...                         1498          795            9   \n2      ...                          969          558            5   \n3      ...                          676          422            2   \n4      ...                          900          518            5   \n...    ...                          ...          ...          ...   \n18259  ...                          179          131            0   \n18260  ...                          506          295            1   \n18261  ...                           29           23            0   \n18262  ...                           46           39            0   \n18263  ...                           62           40            0   \n\n       rsid_pmid50  rsid_pmid100  \\\n0                1             1   \n1                1             1   \n2                0             0   \n3                0             0   \n4                0             0   \n...            ...           ...   \n18259            0             0   \n18260            1             0   \n18261            0             0   \n18262            0             0   \n18263            0             0   \n\n                                           top10mesh_all  \\\n0      ['Humans', 'DNA, Mitochondrial', 'Male', 'Fema...   \n1      ['Humans', 'DNA, Mitochondrial', 'Male', 'Fema...   \n2      ['Humans', 'DNA, Mitochondrial', 'Female', 'Ma...   \n3      ['Humans', 'DNA, Mitochondrial', 'Mitochondria...   \n4      ['Humans', 'DNA, Mitochondrial', 'Female', 'Mi...   \n...                                                  ...   \n18259  ['Humans', 'Polymorphism, Single Nucleotide', ...   \n18260  ['Humans', 'Female', 'Breast Neoplasms', 'Poly...   \n18261  ['Genetic Predisposition to Disease', 'Humans'...   \n18262  ['Humans', 'Female', 'Adult', 'Male', 'Child',...   \n18263  ['Humans', 'Adiponectin', 'Black or African Am...   \n\n                                           top10rsid_all  pubmed_runtime  \\\n0      ['rs199476118', 'rs41460449', 'rs397515507', '...         0:00:06   \n1      ['rs199476118', 'rs41460449', 'rs397515507', '...         0:00:05   \n2      ['rs28357984', 'rs1599988', 'rs3021088', 'rs19...         0:00:02   \n3      ['rs2000975', 'rs3135028', 'rs200165736', 'rs2...         0:00:03   \n4      ['rs199476133', 'rs2001031', 'rs2000975', 'rs1...         0:00:03   \n...                                                  ...             ...   \n18259  ['rs2049805', 'rs1057941', 'rs2990245', 'rs297...         0:00:02   \n18260  ['rs11249433', 'rs12026807', 'rs4259688', 'rs6...         0:00:03   \n18261                        ['rs12071912', 'rs9700909']         0:00:01   \n18262       ['rs397515419', 'rs781924210', 'rs61746197']         0:00:02   \n18263                         ['rs214209', 'rs10788882']         0:00:02   \n\n       total_runtime                  time_stamp  \n0            0:00:11  2023-03-13 17:29:11.824816  \n1            0:00:10  2023-03-13 17:29:22.418790  \n2            0:00:06  2023-03-13 17:29:30.007007  \n3            0:00:06  2023-03-13 17:29:37.139917  \n4            0:00:06  2023-03-13 17:29:43.834190  \n...              ...                         ...  \n18259        0:00:04  2023-03-24 13:12:13.049462  \n18260        0:00:06  2023-03-24 13:12:21.976947  \n18261        0:00:03  2023-03-24 13:12:30.352236  \n18262        0:00:04  2023-03-24 13:12:38.927544  \n18263        0:00:04  2023-03-24 13:12:49.858448  \n\n[18264 rows x 27 columns]",
      "text/html": "<div>\n<style scoped>\n    .dataframe tbody tr th:only-of-type {\n        vertical-align: middle;\n    }\n\n    .dataframe tbody tr th {\n        vertical-align: top;\n    }\n\n    .dataframe thead th {\n        text-align: right;\n    }\n</style>\n<table border=\"1\" class=\"dataframe\">\n  <thead>\n    <tr style=\"text-align: right;\">\n      <th></th>\n      <th>index</th>\n      <th>type</th>\n      <th>ncbi_dbsnp</th>\n      <th>lit2_variant</th>\n      <th>lit2_variant_norsid</th>\n      <th>lit2_rsid</th>\n      <th>lit2_rsid_plus1</th>\n      <th>lit1_rsid</th>\n      <th>lit1_rsid_pmid_plus1</th>\n      <th>lit1_pmid</th>\n      <th>...</th>\n      <th>pubmed_mesh_qualifier_major</th>\n      <th>pubmed_mesh</th>\n      <th>rsid_pmid10</th>\n      <th>rsid_pmid50</th>\n      <th>rsid_pmid100</th>\n      <th>top10mesh_all</th>\n      <th>top10rsid_all</th>\n      <th>pubmed_runtime</th>\n      <th>total_runtime</th>\n      <th>time_stamp</th>\n    </tr>\n  </thead>\n  <tbody>\n    <tr>\n      <th>0</th>\n      <td>MT-ND1</td>\n      <td>PCG</td>\n      <td>1499</td>\n      <td>270</td>\n      <td>0</td>\n      <td>270</td>\n      <td>193</td>\n      <td>125</td>\n      <td>78</td>\n      <td>335</td>\n      <td>...</td>\n      <td>1392</td>\n      <td>764</td>\n      <td>7</td>\n      <td>1</td>\n      <td>1</td>\n      <td>['Humans', 'DNA, Mitochondrial', 'Male', 'Fema...</td>\n      <td>['rs199476118', 'rs41460449', 'rs397515507', '...</td>\n      <td>0:00:06</td>\n      <td>0:00:11</td>\n      <td>2023-03-13 17:29:11.824816</td>\n    </tr>\n    <tr>\n      <th>1</th>\n      <td>MT-ND2</td>\n      <td>PCG</td>\n      <td>1813</td>\n      <td>302</td>\n      <td>0</td>\n      <td>302</td>\n      <td>210</td>\n      <td>143</td>\n      <td>82</td>\n      <td>361</td>\n      <td>...</td>\n      <td>1498</td>\n      <td>795</td>\n      <td>9</td>\n      <td>1</td>\n      <td>1</td>\n      <td>['Humans', 'DNA, Mitochondrial', 'Male', 'Fema...</td>\n      <td>['rs199476118', 'rs41460449', 'rs397515507', '...</td>\n      <td>0:00:05</td>\n      <td>0:00:10</td>\n      <td>2023-03-13 17:29:22.418790</td>\n    </tr>\n    <tr>\n      <th>2</th>\n      <td>MT-CO1</td>\n      <td>PCG</td>\n      <td>2178</td>\n      <td>312</td>\n      <td>0</td>\n      <td>312</td>\n      <td>193</td>\n      <td>112</td>\n      <td>58</td>\n      <td>191</td>\n      <td>...</td>\n      <td>969</td>\n      <td>558</td>\n      <td>5</td>\n      <td>0</td>\n      <td>0</td>\n      <td>['Humans', 'DNA, Mitochondrial', 'Female', 'Ma...</td>\n      <td>['rs28357984', 'rs1599988', 'rs3021088', 'rs19...</td>\n      <td>0:00:02</td>\n      <td>0:00:06</td>\n      <td>2023-03-13 17:29:30.007007</td>\n    </tr>\n    <tr>\n      <th>3</th>\n      <td>MT-CO2</td>\n      <td>PCG</td>\n      <td>1759</td>\n      <td>240</td>\n      <td>0</td>\n      <td>240</td>\n      <td>138</td>\n      <td>82</td>\n      <td>38</td>\n      <td>115</td>\n      <td>...</td>\n      <td>676</td>\n      <td>422</td>\n      <td>2</td>\n      <td>0</td>\n      <td>0</td>\n      <td>['Humans', 'DNA, Mitochondrial', 'Mitochondria...</td>\n      <td>['rs2000975', 'rs3135028', 'rs200165736', 'rs2...</td>\n      <td>0:00:03</td>\n      <td>0:00:06</td>\n      <td>2023-03-13 17:29:37.139917</td>\n    </tr>\n    <tr>\n      <th>4</th>\n      <td>MT-ATP8</td>\n      <td>PCG</td>\n      <td>1623</td>\n      <td>234</td>\n      <td>0</td>\n      <td>234</td>\n      <td>144</td>\n      <td>92</td>\n      <td>49</td>\n      <td>155</td>\n      <td>...</td>\n      <td>900</td>\n      <td>518</td>\n      <td>5</td>\n      <td>0</td>\n      <td>0</td>\n      <td>['Humans', 'DNA, Mitochondrial', 'Female', 'Mi...</td>\n      <td>['rs199476133', 'rs2001031', 'rs2000975', 'rs1...</td>\n      <td>0:00:03</td>\n      <td>0:00:06</td>\n      <td>2023-03-13 17:29:43.834190</td>\n    </tr>\n    <tr>\n      <th>...</th>\n      <td>...</td>\n      <td>...</td>\n      <td>...</td>\n      <td>...</td>\n      <td>...</td>\n      <td>...</td>\n      <td>...</td>\n      <td>...</td>\n      <td>...</td>\n      <td>...</td>\n      <td>...</td>\n      <td>...</td>\n      <td>...</td>\n      <td>...</td>\n      <td>...</td>\n      <td>...</td>\n      <td>...</td>\n      <td>...</td>\n      <td>...</td>\n      <td>...</td>\n      <td>...</td>\n    </tr>\n    <tr>\n      <th>18259</th>\n      <td>GBAP1</td>\n      <td>PSD</td>\n      <td>6129</td>\n      <td>50</td>\n      <td>18</td>\n      <td>32</td>\n      <td>18</td>\n      <td>11</td>\n      <td>6</td>\n      <td>21</td>\n      <td>...</td>\n      <td>179</td>\n      <td>131</td>\n      <td>0</td>\n      <td>0</td>\n      <td>0</td>\n      <td>['Humans', 'Polymorphism, Single Nucleotide', ...</td>\n      <td>['rs2049805', 'rs1057941', 'rs2990245', 'rs297...</td>\n      <td>0:00:02</td>\n      <td>0:00:04</td>\n      <td>2023-03-24 13:12:13.049462</td>\n    </tr>\n    <tr>\n      <th>18260</th>\n      <td>EMBP1</td>\n      <td>PSD</td>\n      <td>23390</td>\n      <td>69</td>\n      <td>1</td>\n      <td>68</td>\n      <td>31</td>\n      <td>5</td>\n      <td>1</td>\n      <td>99</td>\n      <td>...</td>\n      <td>506</td>\n      <td>295</td>\n      <td>1</td>\n      <td>1</td>\n      <td>0</td>\n      <td>['Humans', 'Female', 'Breast Neoplasms', 'Poly...</td>\n      <td>['rs11249433', 'rs12026807', 'rs4259688', 'rs6...</td>\n      <td>0:00:03</td>\n      <td>0:00:06</td>\n      <td>2023-03-24 13:12:21.976947</td>\n    </tr>\n    <tr>\n      <th>18261</th>\n      <td>LINC01347</td>\n      <td>PSD</td>\n      <td>18597</td>\n      <td>42</td>\n      <td>1</td>\n      <td>41</td>\n      <td>6</td>\n      <td>2</td>\n      <td>1</td>\n      <td>3</td>\n      <td>...</td>\n      <td>29</td>\n      <td>23</td>\n      <td>0</td>\n      <td>0</td>\n      <td>0</td>\n      <td>['Genetic Predisposition to Disease', 'Humans'...</td>\n      <td>['rs12071912', 'rs9700909']</td>\n      <td>0:00:01</td>\n      <td>0:00:03</td>\n      <td>2023-03-24 13:12:30.352236</td>\n    </tr>\n    <tr>\n      <th>18262</th>\n      <td>GNRHR2</td>\n      <td>PSD</td>\n      <td>3638</td>\n      <td>45</td>\n      <td>2</td>\n      <td>43</td>\n      <td>10</td>\n      <td>3</td>\n      <td>2</td>\n      <td>5</td>\n      <td>...</td>\n      <td>46</td>\n      <td>39</td>\n      <td>0</td>\n      <td>0</td>\n      <td>0</td>\n      <td>['Humans', 'Female', 'Adult', 'Male', 'Child',...</td>\n      <td>['rs397515419', 'rs781924210', 'rs61746197']</td>\n      <td>0:00:02</td>\n      <td>0:00:04</td>\n      <td>2023-03-24 13:12:38.927544</td>\n    </tr>\n    <tr>\n      <th>18263</th>\n      <td>SKINT1L</td>\n      <td>PSD</td>\n      <td>29489</td>\n      <td>93</td>\n      <td>3</td>\n      <td>90</td>\n      <td>24</td>\n      <td>3</td>\n      <td>1</td>\n      <td>4</td>\n      <td>...</td>\n      <td>62</td>\n      <td>40</td>\n      <td>0</td>\n      <td>0</td>\n      <td>0</td>\n      <td>['Humans', 'Adiponectin', 'Black or African Am...</td>\n      <td>['rs214209', 'rs10788882']</td>\n      <td>0:00:02</td>\n      <td>0:00:04</td>\n      <td>2023-03-24 13:12:49.858448</td>\n    </tr>\n  </tbody>\n</table>\n<p>18264 rows × 27 columns</p>\n</div>"
     },
     "execution_count": 64,
     "metadata": {},
     "output_type": "execute_result"
    }
   ],
   "source": [
    "pd.read_parquet(db_path+'/bkp/grpm_report.parquet', engine='pyarrow')"
   ],
   "metadata": {
    "collapsed": false,
    "ExecuteTime": {
     "end_time": "2024-11-15T13:18:15.810029200Z",
     "start_time": "2024-11-15T13:18:15.534029700Z"
    }
   },
   "execution_count": 64
  },
  {
   "cell_type": "code",
   "outputs": [
    {
     "data": {
      "text/plain": "     index type ncbi_dbsnp  lit2_variant  lit2_variant_norsid  lit2_rsid  \\\n0  PPP1R11  PCG         na            72                   10         62   \n1   RPH3AL  PCG         na           630                    5        623   \n2    HLA-A  PCG         na          3615                 2013       1203   \n\n   lit2_rsid_plus1  lit1_rsid  lit1_rsid_pmid_plus1  lit1_pmid  ...  \\\n0               30          0                     1          2  ...   \n1              213          0                     1          2  ...   \n2              931          0                     1          3  ...   \n\n   pubmed_mesh_qualifier_major  pubmed_mesh  rsid_pmid10  rsid_pmid50  \\\n0                           37           32            0            0   \n1                           23           22            0            0   \n2                           53           44            0            0   \n\n   rsid_pmid100                                      top10mesh_all  \\\n0             0  ['Humans', 'Base Sequence', 'Whole Genome Sequ...   \n1             0  ['Animals', 'Female', 'Mice', 'Sheep', 'Sequen...   \n2             0  ['Humans', 'Genetic Predisposition to Disease'...   \n\n     top10rsid_all  pubmed_runtime  total_runtime                 time_stamp  \n0    ['rs9280881']         0:00:01        0:00:02 2024-11-15 14:26:48.664821  \n1  ['rs994636520']         0:00:01        0:00:04 2024-11-15 14:26:52.878653  \n2    ['rs9404955']         0:00:01        0:00:08 2024-11-15 14:27:01.650128  \n\n[3 rows x 27 columns]",
      "text/html": "<div>\n<style scoped>\n    .dataframe tbody tr th:only-of-type {\n        vertical-align: middle;\n    }\n\n    .dataframe tbody tr th {\n        vertical-align: top;\n    }\n\n    .dataframe thead th {\n        text-align: right;\n    }\n</style>\n<table border=\"1\" class=\"dataframe\">\n  <thead>\n    <tr style=\"text-align: right;\">\n      <th></th>\n      <th>index</th>\n      <th>type</th>\n      <th>ncbi_dbsnp</th>\n      <th>lit2_variant</th>\n      <th>lit2_variant_norsid</th>\n      <th>lit2_rsid</th>\n      <th>lit2_rsid_plus1</th>\n      <th>lit1_rsid</th>\n      <th>lit1_rsid_pmid_plus1</th>\n      <th>lit1_pmid</th>\n      <th>...</th>\n      <th>pubmed_mesh_qualifier_major</th>\n      <th>pubmed_mesh</th>\n      <th>rsid_pmid10</th>\n      <th>rsid_pmid50</th>\n      <th>rsid_pmid100</th>\n      <th>top10mesh_all</th>\n      <th>top10rsid_all</th>\n      <th>pubmed_runtime</th>\n      <th>total_runtime</th>\n      <th>time_stamp</th>\n    </tr>\n  </thead>\n  <tbody>\n    <tr>\n      <th>0</th>\n      <td>PPP1R11</td>\n      <td>PCG</td>\n      <td>na</td>\n      <td>72</td>\n      <td>10</td>\n      <td>62</td>\n      <td>30</td>\n      <td>0</td>\n      <td>1</td>\n      <td>2</td>\n      <td>...</td>\n      <td>37</td>\n      <td>32</td>\n      <td>0</td>\n      <td>0</td>\n      <td>0</td>\n      <td>['Humans', 'Base Sequence', 'Whole Genome Sequ...</td>\n      <td>['rs9280881']</td>\n      <td>0:00:01</td>\n      <td>0:00:02</td>\n      <td>2024-11-15 14:26:48.664821</td>\n    </tr>\n    <tr>\n      <th>1</th>\n      <td>RPH3AL</td>\n      <td>PCG</td>\n      <td>na</td>\n      <td>630</td>\n      <td>5</td>\n      <td>623</td>\n      <td>213</td>\n      <td>0</td>\n      <td>1</td>\n      <td>2</td>\n      <td>...</td>\n      <td>23</td>\n      <td>22</td>\n      <td>0</td>\n      <td>0</td>\n      <td>0</td>\n      <td>['Animals', 'Female', 'Mice', 'Sheep', 'Sequen...</td>\n      <td>['rs994636520']</td>\n      <td>0:00:01</td>\n      <td>0:00:04</td>\n      <td>2024-11-15 14:26:52.878653</td>\n    </tr>\n    <tr>\n      <th>2</th>\n      <td>HLA-A</td>\n      <td>PCG</td>\n      <td>na</td>\n      <td>3615</td>\n      <td>2013</td>\n      <td>1203</td>\n      <td>931</td>\n      <td>0</td>\n      <td>1</td>\n      <td>3</td>\n      <td>...</td>\n      <td>53</td>\n      <td>44</td>\n      <td>0</td>\n      <td>0</td>\n      <td>0</td>\n      <td>['Humans', 'Genetic Predisposition to Disease'...</td>\n      <td>['rs9404955']</td>\n      <td>0:00:01</td>\n      <td>0:00:08</td>\n      <td>2024-11-15 14:27:01.650128</td>\n    </tr>\n  </tbody>\n</table>\n<p>3 rows × 27 columns</p>\n</div>"
     },
     "execution_count": 11,
     "metadata": {},
     "output_type": "execute_result"
    }
   ],
   "source": [
    "pd.read_parquet(db_path+'/grpm_report.parquet', engine='pyarrow').reset_index()"
   ],
   "metadata": {
    "collapsed": false,
    "ExecuteTime": {
     "end_time": "2024-11-15T13:27:05.066815800Z",
     "start_time": "2024-11-15T13:27:04.972814900Z"
    }
   },
   "execution_count": 11
  },
  {
   "cell_type": "code",
   "execution_count": 18,
   "metadata": {
    "collapsed": false,
    "ExecuteTime": {
     "end_time": "2024-11-15T13:31:04.696525900Z",
     "start_time": "2024-11-15T13:31:04.572537300Z"
    }
   },
   "outputs": [
    {
     "name": "stdout",
     "output_type": "stream",
     "text": [
      "GRPM report:\n"
     ]
    },
    {
     "data": {
      "text/plain": "     index type ncbi_dbsnp  lit2_variant  lit2_variant_norsid  lit2_rsid  \\\n0  PPP1R11  PCG         na            72                   10         62   \n1   RPH3AL  PCG         na           630                    5        623   \n2    HLA-A  PCG         na          3615                 2013       1203   \n\n   lit2_rsid_plus1  lit1_rsid  lit1_rsid_pmid_plus1  lit1_pmid  ...  \\\n0               30          0                     1          2  ...   \n1              213          0                     1          2  ...   \n2              931          0                     1          3  ...   \n\n   pubmed_mesh_qualifier_major  pubmed_mesh  rsid_pmid10  rsid_pmid50  \\\n0                           37           32            0            0   \n1                           23           22            0            0   \n2                           53           44            0            0   \n\n   rsid_pmid100                                      top10mesh_all  \\\n0             0  ['Humans', 'Base Sequence', 'Whole Genome Sequ...   \n1             0  ['Animals', 'Female', 'Mice', 'Sheep', 'Sequen...   \n2             0  ['Humans', 'Genetic Predisposition to Disease'...   \n\n     top10rsid_all  pubmed_runtime  total_runtime                 time_stamp  \n0    ['rs9280881']         0:00:01        0:00:02 2024-11-15 14:26:48.664821  \n1  ['rs994636520']         0:00:01        0:00:04 2024-11-15 14:26:52.878653  \n2    ['rs9404955']         0:00:01        0:00:08 2024-11-15 14:27:01.650128  \n\n[3 rows x 27 columns]",
      "text/html": "<div>\n<style scoped>\n    .dataframe tbody tr th:only-of-type {\n        vertical-align: middle;\n    }\n\n    .dataframe tbody tr th {\n        vertical-align: top;\n    }\n\n    .dataframe thead th {\n        text-align: right;\n    }\n</style>\n<table border=\"1\" class=\"dataframe\">\n  <thead>\n    <tr style=\"text-align: right;\">\n      <th></th>\n      <th>index</th>\n      <th>type</th>\n      <th>ncbi_dbsnp</th>\n      <th>lit2_variant</th>\n      <th>lit2_variant_norsid</th>\n      <th>lit2_rsid</th>\n      <th>lit2_rsid_plus1</th>\n      <th>lit1_rsid</th>\n      <th>lit1_rsid_pmid_plus1</th>\n      <th>lit1_pmid</th>\n      <th>...</th>\n      <th>pubmed_mesh_qualifier_major</th>\n      <th>pubmed_mesh</th>\n      <th>rsid_pmid10</th>\n      <th>rsid_pmid50</th>\n      <th>rsid_pmid100</th>\n      <th>top10mesh_all</th>\n      <th>top10rsid_all</th>\n      <th>pubmed_runtime</th>\n      <th>total_runtime</th>\n      <th>time_stamp</th>\n    </tr>\n  </thead>\n  <tbody>\n    <tr>\n      <th>0</th>\n      <td>PPP1R11</td>\n      <td>PCG</td>\n      <td>na</td>\n      <td>72</td>\n      <td>10</td>\n      <td>62</td>\n      <td>30</td>\n      <td>0</td>\n      <td>1</td>\n      <td>2</td>\n      <td>...</td>\n      <td>37</td>\n      <td>32</td>\n      <td>0</td>\n      <td>0</td>\n      <td>0</td>\n      <td>['Humans', 'Base Sequence', 'Whole Genome Sequ...</td>\n      <td>['rs9280881']</td>\n      <td>0:00:01</td>\n      <td>0:00:02</td>\n      <td>2024-11-15 14:26:48.664821</td>\n    </tr>\n    <tr>\n      <th>1</th>\n      <td>RPH3AL</td>\n      <td>PCG</td>\n      <td>na</td>\n      <td>630</td>\n      <td>5</td>\n      <td>623</td>\n      <td>213</td>\n      <td>0</td>\n      <td>1</td>\n      <td>2</td>\n      <td>...</td>\n      <td>23</td>\n      <td>22</td>\n      <td>0</td>\n      <td>0</td>\n      <td>0</td>\n      <td>['Animals', 'Female', 'Mice', 'Sheep', 'Sequen...</td>\n      <td>['rs994636520']</td>\n      <td>0:00:01</td>\n      <td>0:00:04</td>\n      <td>2024-11-15 14:26:52.878653</td>\n    </tr>\n    <tr>\n      <th>2</th>\n      <td>HLA-A</td>\n      <td>PCG</td>\n      <td>na</td>\n      <td>3615</td>\n      <td>2013</td>\n      <td>1203</td>\n      <td>931</td>\n      <td>0</td>\n      <td>1</td>\n      <td>3</td>\n      <td>...</td>\n      <td>53</td>\n      <td>44</td>\n      <td>0</td>\n      <td>0</td>\n      <td>0</td>\n      <td>['Humans', 'Genetic Predisposition to Disease'...</td>\n      <td>['rs9404955']</td>\n      <td>0:00:01</td>\n      <td>0:00:08</td>\n      <td>2024-11-15 14:27:01.650128</td>\n    </tr>\n  </tbody>\n</table>\n<p>3 rows × 27 columns</p>\n</div>"
     },
     "metadata": {},
     "output_type": "display_data"
    },
    {
     "data": {
      "text/plain": "0     PIWIL1\n0      RBBP8\n0     GPANK1\n0    PPP1R11\n0     RPH3AL\n0      HLA-A\nName: gene, dtype: object"
     },
     "metadata": {},
     "output_type": "display_data"
    },
    {
     "name": "stdout",
     "output_type": "stream",
     "text": [
      "GRPM genes gathered: 6\n",
      "\n",
      "NBIB table:\n"
     ]
    },
    {
     "data": {
      "text/plain": "      gene  pubmed_id citation_owner nlm_status last_revision_date  \\\n0   PIWIL1   31969693            NLM    MEDLINE         2024-07-30   \n1   PIWIL1   28912584            NLM    MEDLINE         2020-03-06   \n2   PIWIL1   30587120            NLM    MEDLINE         2023-10-05   \n0    RBBP8   28922377            NLM    MEDLINE         2018-11-13   \n1    RBBP8   26964030            NLM    MEDLINE         2024-05-28   \n0   GPANK1   27397505            NLM    MEDLINE         2022-03-18   \n1   GPANK1   23525077            NLM    MEDLINE         2024-06-10   \n0  PPP1R11   32268104            NLM    MEDLINE         2024-07-30   \n1  PPP1R11   32272438            NLM    MEDLINE         2021-01-25   \n0   RPH3AL   31253177            NLM    MEDLINE         2020-03-09   \n1   RPH3AL   28202015            NLM    MEDLINE         2018-11-13   \n0    HLA-A   30674883            NLM    MEDLINE         2024-11-14   \n1    HLA-A   29892050            NLM    MEDLINE         2024-02-10   \n2    HLA-A   30048462            NLM    MEDLINE         2023-09-26   \n\n  electronic_issn linking_issn journal_volume journal_issue publication_date  \\\n0       1476-5578    1359-4184             25             7         2020 Jul   \n1       2045-2322    2045-2322              7             1      2017 Sep 14   \n2       1471-2164    1471-2164             19             1      2018 Dec 27   \n0       1553-7358    1553-734X             13             9         2017 Sep   \n1       1532-1827    0007-0920            114             8      2016 Apr 12   \n0       1097-4172    0092-8674            166             3      2016 Jul 28   \n1       1546-1718    1061-4036             45             5         2013 May   \n0       2211-1247         None             31             1       2020 Apr 7   \n1       2352-3964    2352-3964             54          None         2020 Apr   \n0       1756-994X    1756-994X             11             1      2019 Jun 28   \n1       1471-2164    1471-2164             18             1      2017 Feb 15   \n0       2041-1723    2041-1723             10             1      2019 Jan 23   \n1       2041-1723    2041-1723              9             1      2018 Jun 11   \n2       1932-6203    1932-6203             13             7             2018   \n\n   ... revised_time accepted_time         pubmed_time        medline_time  \\\n0  ...   2019-07-20    2019-08-19 2020-01-24 06:00:00 2021-03-18 06:00:00   \n1  ...          NaT    2017-08-17 2017-09-16 06:00:00 2019-06-25 06:00:00   \n2  ...          NaT    2018-12-11 2018-12-28 06:00:00 2019-04-04 06:00:00   \n0  ...   2017-09-22    2017-09-01 2017-09-19 06:00:00 2017-10-11 06:00:00   \n1  ...   2016-02-05    2016-02-09 2016-03-11 06:00:00 2016-08-25 06:00:00   \n0  ...   2015-12-23    2016-06-03 2016-07-12 06:00:00 2016-12-15 06:00:00   \n1  ...          NaT    2013-03-01 2013-03-26 06:00:00 2013-06-19 06:00:00   \n0  ...   2019-11-06    2020-03-16 2020-04-09 06:00:00 2021-04-28 06:00:00   \n1  ...   2020-01-29    2020-01-30 2020-04-10 06:00:00 2021-01-26 06:00:00   \n0  ...          NaT    2019-06-13 2019-06-30 06:00:00 2019-12-28 06:00:00   \n1  ...          NaT    2017-02-10 2017-02-17 06:00:00 2017-12-26 06:00:00   \n0  ...          NaT    2019-01-03 2019-01-25 06:00:00 2019-02-09 06:00:00   \n1  ...          NaT    2018-04-05 2018-06-13 06:00:00 2018-12-18 06:00:00   \n2  ...          NaT    2018-07-03 2018-07-27 06:00:00 2019-01-23 06:00:00   \n\n          entrez_time                        pii  \\\n0 2020-01-24 06:00:00  10.1038/s41380-019-0546-6   \n1 2017-09-16 06:00:00                      11064   \n2 2018-12-28 06:00:00                       5364   \n0 2017-09-19 06:00:00       PCOMPBIOL-D-17-00543   \n1 2016-03-11 06:00:00                  bjc201650   \n0 2016-07-12 06:00:00      S0092-8674(16)30746-2   \n1 2013-03-26 06:00:00                    ng.2591   \n0 2020-04-09 06:00:00      S2211-1247(20)30367-3   \n1 2020-04-10 06:00:00                     102678   \n0 2019-06-30 06:00:00                        654   \n1 2017-02-17 06:00:00                       3581   \n0 2019-01-25 06:00:00                       8337   \n1 2018-06-13 06:00:00                       4109   \n2 2018-07-27 06:00:00            PONE-D-18-07576   \n\n                            doi publication_status print_issn      pages  \n0     10.1038/s41380-019-0546-6           ppublish  1359-4184  1430-1446  \n1    10.1038/s41598-017-11064-9           epublish       None      11529  \n2     10.1186/s12864-018-5364-8           epublish       None        963  \n0  10.1371/journal.pcbi.1005766           epublish  1553-734X   e1005766  \n1           10.1038/bjc.2016.50           ppublish  0007-0920     945-52  \n0    10.1016/j.cell.2016.06.017           ppublish  0092-8674    740-754  \n1               10.1038/ng.2591           ppublish  1061-4036     478-86  \n0  10.1016/j.celrep.2020.03.053           ppublish       None     107489  \n1   10.1016/j.ebiom.2020.102678           ppublish       None     102678  \n0     10.1186/s13073-019-0654-6           epublish       None         42  \n1     10.1186/s12864-017-3581-1           epublish       None        170  \n0    10.1038/s41467-019-08337-4           epublish       None        391  \n1    10.1038/s41467-018-04109-8           epublish       None       2256  \n2  10.1371/journal.pone.0200785           epublish       None   e0200785  \n\n[14 rows x 36 columns]",
      "text/html": "<div>\n<style scoped>\n    .dataframe tbody tr th:only-of-type {\n        vertical-align: middle;\n    }\n\n    .dataframe tbody tr th {\n        vertical-align: top;\n    }\n\n    .dataframe thead th {\n        text-align: right;\n    }\n</style>\n<table border=\"1\" class=\"dataframe\">\n  <thead>\n    <tr style=\"text-align: right;\">\n      <th></th>\n      <th>gene</th>\n      <th>pubmed_id</th>\n      <th>citation_owner</th>\n      <th>nlm_status</th>\n      <th>last_revision_date</th>\n      <th>electronic_issn</th>\n      <th>linking_issn</th>\n      <th>journal_volume</th>\n      <th>journal_issue</th>\n      <th>publication_date</th>\n      <th>...</th>\n      <th>revised_time</th>\n      <th>accepted_time</th>\n      <th>pubmed_time</th>\n      <th>medline_time</th>\n      <th>entrez_time</th>\n      <th>pii</th>\n      <th>doi</th>\n      <th>publication_status</th>\n      <th>print_issn</th>\n      <th>pages</th>\n    </tr>\n  </thead>\n  <tbody>\n    <tr>\n      <th>0</th>\n      <td>PIWIL1</td>\n      <td>31969693</td>\n      <td>NLM</td>\n      <td>MEDLINE</td>\n      <td>2024-07-30</td>\n      <td>1476-5578</td>\n      <td>1359-4184</td>\n      <td>25</td>\n      <td>7</td>\n      <td>2020 Jul</td>\n      <td>...</td>\n      <td>2019-07-20</td>\n      <td>2019-08-19</td>\n      <td>2020-01-24 06:00:00</td>\n      <td>2021-03-18 06:00:00</td>\n      <td>2020-01-24 06:00:00</td>\n      <td>10.1038/s41380-019-0546-6</td>\n      <td>10.1038/s41380-019-0546-6</td>\n      <td>ppublish</td>\n      <td>1359-4184</td>\n      <td>1430-1446</td>\n    </tr>\n    <tr>\n      <th>1</th>\n      <td>PIWIL1</td>\n      <td>28912584</td>\n      <td>NLM</td>\n      <td>MEDLINE</td>\n      <td>2020-03-06</td>\n      <td>2045-2322</td>\n      <td>2045-2322</td>\n      <td>7</td>\n      <td>1</td>\n      <td>2017 Sep 14</td>\n      <td>...</td>\n      <td>NaT</td>\n      <td>2017-08-17</td>\n      <td>2017-09-16 06:00:00</td>\n      <td>2019-06-25 06:00:00</td>\n      <td>2017-09-16 06:00:00</td>\n      <td>11064</td>\n      <td>10.1038/s41598-017-11064-9</td>\n      <td>epublish</td>\n      <td>None</td>\n      <td>11529</td>\n    </tr>\n    <tr>\n      <th>2</th>\n      <td>PIWIL1</td>\n      <td>30587120</td>\n      <td>NLM</td>\n      <td>MEDLINE</td>\n      <td>2023-10-05</td>\n      <td>1471-2164</td>\n      <td>1471-2164</td>\n      <td>19</td>\n      <td>1</td>\n      <td>2018 Dec 27</td>\n      <td>...</td>\n      <td>NaT</td>\n      <td>2018-12-11</td>\n      <td>2018-12-28 06:00:00</td>\n      <td>2019-04-04 06:00:00</td>\n      <td>2018-12-28 06:00:00</td>\n      <td>5364</td>\n      <td>10.1186/s12864-018-5364-8</td>\n      <td>epublish</td>\n      <td>None</td>\n      <td>963</td>\n    </tr>\n    <tr>\n      <th>0</th>\n      <td>RBBP8</td>\n      <td>28922377</td>\n      <td>NLM</td>\n      <td>MEDLINE</td>\n      <td>2018-11-13</td>\n      <td>1553-7358</td>\n      <td>1553-734X</td>\n      <td>13</td>\n      <td>9</td>\n      <td>2017 Sep</td>\n      <td>...</td>\n      <td>2017-09-22</td>\n      <td>2017-09-01</td>\n      <td>2017-09-19 06:00:00</td>\n      <td>2017-10-11 06:00:00</td>\n      <td>2017-09-19 06:00:00</td>\n      <td>PCOMPBIOL-D-17-00543</td>\n      <td>10.1371/journal.pcbi.1005766</td>\n      <td>epublish</td>\n      <td>1553-734X</td>\n      <td>e1005766</td>\n    </tr>\n    <tr>\n      <th>1</th>\n      <td>RBBP8</td>\n      <td>26964030</td>\n      <td>NLM</td>\n      <td>MEDLINE</td>\n      <td>2024-05-28</td>\n      <td>1532-1827</td>\n      <td>0007-0920</td>\n      <td>114</td>\n      <td>8</td>\n      <td>2016 Apr 12</td>\n      <td>...</td>\n      <td>2016-02-05</td>\n      <td>2016-02-09</td>\n      <td>2016-03-11 06:00:00</td>\n      <td>2016-08-25 06:00:00</td>\n      <td>2016-03-11 06:00:00</td>\n      <td>bjc201650</td>\n      <td>10.1038/bjc.2016.50</td>\n      <td>ppublish</td>\n      <td>0007-0920</td>\n      <td>945-52</td>\n    </tr>\n    <tr>\n      <th>0</th>\n      <td>GPANK1</td>\n      <td>27397505</td>\n      <td>NLM</td>\n      <td>MEDLINE</td>\n      <td>2022-03-18</td>\n      <td>1097-4172</td>\n      <td>0092-8674</td>\n      <td>166</td>\n      <td>3</td>\n      <td>2016 Jul 28</td>\n      <td>...</td>\n      <td>2015-12-23</td>\n      <td>2016-06-03</td>\n      <td>2016-07-12 06:00:00</td>\n      <td>2016-12-15 06:00:00</td>\n      <td>2016-07-12 06:00:00</td>\n      <td>S0092-8674(16)30746-2</td>\n      <td>10.1016/j.cell.2016.06.017</td>\n      <td>ppublish</td>\n      <td>0092-8674</td>\n      <td>740-754</td>\n    </tr>\n    <tr>\n      <th>1</th>\n      <td>GPANK1</td>\n      <td>23525077</td>\n      <td>NLM</td>\n      <td>MEDLINE</td>\n      <td>2024-06-10</td>\n      <td>1546-1718</td>\n      <td>1061-4036</td>\n      <td>45</td>\n      <td>5</td>\n      <td>2013 May</td>\n      <td>...</td>\n      <td>NaT</td>\n      <td>2013-03-01</td>\n      <td>2013-03-26 06:00:00</td>\n      <td>2013-06-19 06:00:00</td>\n      <td>2013-03-26 06:00:00</td>\n      <td>ng.2591</td>\n      <td>10.1038/ng.2591</td>\n      <td>ppublish</td>\n      <td>1061-4036</td>\n      <td>478-86</td>\n    </tr>\n    <tr>\n      <th>0</th>\n      <td>PPP1R11</td>\n      <td>32268104</td>\n      <td>NLM</td>\n      <td>MEDLINE</td>\n      <td>2024-07-30</td>\n      <td>2211-1247</td>\n      <td>None</td>\n      <td>31</td>\n      <td>1</td>\n      <td>2020 Apr 7</td>\n      <td>...</td>\n      <td>2019-11-06</td>\n      <td>2020-03-16</td>\n      <td>2020-04-09 06:00:00</td>\n      <td>2021-04-28 06:00:00</td>\n      <td>2020-04-09 06:00:00</td>\n      <td>S2211-1247(20)30367-3</td>\n      <td>10.1016/j.celrep.2020.03.053</td>\n      <td>ppublish</td>\n      <td>None</td>\n      <td>107489</td>\n    </tr>\n    <tr>\n      <th>1</th>\n      <td>PPP1R11</td>\n      <td>32272438</td>\n      <td>NLM</td>\n      <td>MEDLINE</td>\n      <td>2021-01-25</td>\n      <td>2352-3964</td>\n      <td>2352-3964</td>\n      <td>54</td>\n      <td>None</td>\n      <td>2020 Apr</td>\n      <td>...</td>\n      <td>2020-01-29</td>\n      <td>2020-01-30</td>\n      <td>2020-04-10 06:00:00</td>\n      <td>2021-01-26 06:00:00</td>\n      <td>2020-04-10 06:00:00</td>\n      <td>102678</td>\n      <td>10.1016/j.ebiom.2020.102678</td>\n      <td>ppublish</td>\n      <td>None</td>\n      <td>102678</td>\n    </tr>\n    <tr>\n      <th>0</th>\n      <td>RPH3AL</td>\n      <td>31253177</td>\n      <td>NLM</td>\n      <td>MEDLINE</td>\n      <td>2020-03-09</td>\n      <td>1756-994X</td>\n      <td>1756-994X</td>\n      <td>11</td>\n      <td>1</td>\n      <td>2019 Jun 28</td>\n      <td>...</td>\n      <td>NaT</td>\n      <td>2019-06-13</td>\n      <td>2019-06-30 06:00:00</td>\n      <td>2019-12-28 06:00:00</td>\n      <td>2019-06-30 06:00:00</td>\n      <td>654</td>\n      <td>10.1186/s13073-019-0654-6</td>\n      <td>epublish</td>\n      <td>None</td>\n      <td>42</td>\n    </tr>\n    <tr>\n      <th>1</th>\n      <td>RPH3AL</td>\n      <td>28202015</td>\n      <td>NLM</td>\n      <td>MEDLINE</td>\n      <td>2018-11-13</td>\n      <td>1471-2164</td>\n      <td>1471-2164</td>\n      <td>18</td>\n      <td>1</td>\n      <td>2017 Feb 15</td>\n      <td>...</td>\n      <td>NaT</td>\n      <td>2017-02-10</td>\n      <td>2017-02-17 06:00:00</td>\n      <td>2017-12-26 06:00:00</td>\n      <td>2017-02-17 06:00:00</td>\n      <td>3581</td>\n      <td>10.1186/s12864-017-3581-1</td>\n      <td>epublish</td>\n      <td>None</td>\n      <td>170</td>\n    </tr>\n    <tr>\n      <th>0</th>\n      <td>HLA-A</td>\n      <td>30674883</td>\n      <td>NLM</td>\n      <td>MEDLINE</td>\n      <td>2024-11-14</td>\n      <td>2041-1723</td>\n      <td>2041-1723</td>\n      <td>10</td>\n      <td>1</td>\n      <td>2019 Jan 23</td>\n      <td>...</td>\n      <td>NaT</td>\n      <td>2019-01-03</td>\n      <td>2019-01-25 06:00:00</td>\n      <td>2019-02-09 06:00:00</td>\n      <td>2019-01-25 06:00:00</td>\n      <td>8337</td>\n      <td>10.1038/s41467-019-08337-4</td>\n      <td>epublish</td>\n      <td>None</td>\n      <td>391</td>\n    </tr>\n    <tr>\n      <th>1</th>\n      <td>HLA-A</td>\n      <td>29892050</td>\n      <td>NLM</td>\n      <td>MEDLINE</td>\n      <td>2024-02-10</td>\n      <td>2041-1723</td>\n      <td>2041-1723</td>\n      <td>9</td>\n      <td>1</td>\n      <td>2018 Jun 11</td>\n      <td>...</td>\n      <td>NaT</td>\n      <td>2018-04-05</td>\n      <td>2018-06-13 06:00:00</td>\n      <td>2018-12-18 06:00:00</td>\n      <td>2018-06-13 06:00:00</td>\n      <td>4109</td>\n      <td>10.1038/s41467-018-04109-8</td>\n      <td>epublish</td>\n      <td>None</td>\n      <td>2256</td>\n    </tr>\n    <tr>\n      <th>2</th>\n      <td>HLA-A</td>\n      <td>30048462</td>\n      <td>NLM</td>\n      <td>MEDLINE</td>\n      <td>2023-09-26</td>\n      <td>1932-6203</td>\n      <td>1932-6203</td>\n      <td>13</td>\n      <td>7</td>\n      <td>2018</td>\n      <td>...</td>\n      <td>NaT</td>\n      <td>2018-07-03</td>\n      <td>2018-07-27 06:00:00</td>\n      <td>2019-01-23 06:00:00</td>\n      <td>2018-07-27 06:00:00</td>\n      <td>PONE-D-18-07576</td>\n      <td>10.1371/journal.pone.0200785</td>\n      <td>epublish</td>\n      <td>None</td>\n      <td>e0200785</td>\n    </tr>\n  </tbody>\n</table>\n<p>14 rows × 36 columns</p>\n</div>"
     },
     "metadata": {},
     "output_type": "display_data"
    }
   ],
   "source": [
    "print('GRPM report:')\n",
    "report = pd.read_parquet(db_path+'/grpm_report.parquet', engine='pyarrow').reset_index()\n",
    "display(report)\n",
    "dataset = pd.read_parquet(db_path+'/grpm_dataset.parquet', engine='pyarrow')\n",
    "display(dataset.gene.drop_duplicates())\n",
    "print('GRPM genes gathered:', len(dataset.gene.drop_duplicates()))\n",
    "\n",
    "print('\\nNBIB table:')\n",
    "nbib_data = pd.read_parquet(db_path+'/grpm_nbib.parquet', engine='pyarrow' )\n",
    "display(nbib_data)"
   ]
  },
  {
   "cell_type": "markdown",
   "metadata": {},
   "source": [
    "# Show saved report"
   ]
  },
  {
   "cell_type": "code",
   "execution_count": 19,
   "metadata": {
    "collapsed": false,
    "ExecuteTime": {
     "end_time": "2024-11-15T13:31:48.636472900Z",
     "start_time": "2024-11-15T13:31:48.551472300Z"
    }
   },
   "outputs": [
    {
     "data": {
      "text/plain": "     index type ncbi_dbsnp  lit2_variant  lit2_variant_norsid  lit2_rsid  \\\n2    HLA-A  PCG         na          3615                 2013       1203   \n0  PPP1R11  PCG         na            72                   10         62   \n1   RPH3AL  PCG         na           630                    5        623   \n\n   lit2_rsid_plus1  lit1_rsid  lit1_rsid_pmid_plus1  lit1_pmid  ...  \\\n2              931          0                     1          3  ...   \n0               30          0                     1          2  ...   \n1              213          0                     1          2  ...   \n\n   pubmed_mesh_qualifier_major  pubmed_mesh  rsid_pmid10  rsid_pmid50  \\\n2                           53           44            0            0   \n0                           37           32            0            0   \n1                           23           22            0            0   \n\n   rsid_pmid100                                      top10mesh_all  \\\n2             0  ['Humans', 'Genetic Predisposition to Disease'...   \n0             0  ['Humans', 'Base Sequence', 'Whole Genome Sequ...   \n1             0  ['Animals', 'Female', 'Mice', 'Sheep', 'Sequen...   \n\n     top10rsid_all  pubmed_runtime  total_runtime                 time_stamp  \n2    ['rs9404955']         0:00:01        0:00:08 2024-11-15 14:27:01.650128  \n0    ['rs9280881']         0:00:01        0:00:02 2024-11-15 14:26:48.664821  \n1  ['rs994636520']         0:00:01        0:00:04 2024-11-15 14:26:52.878653  \n\n[3 rows x 27 columns]",
      "text/html": "<div>\n<style scoped>\n    .dataframe tbody tr th:only-of-type {\n        vertical-align: middle;\n    }\n\n    .dataframe tbody tr th {\n        vertical-align: top;\n    }\n\n    .dataframe thead th {\n        text-align: right;\n    }\n</style>\n<table border=\"1\" class=\"dataframe\">\n  <thead>\n    <tr style=\"text-align: right;\">\n      <th></th>\n      <th>index</th>\n      <th>type</th>\n      <th>ncbi_dbsnp</th>\n      <th>lit2_variant</th>\n      <th>lit2_variant_norsid</th>\n      <th>lit2_rsid</th>\n      <th>lit2_rsid_plus1</th>\n      <th>lit1_rsid</th>\n      <th>lit1_rsid_pmid_plus1</th>\n      <th>lit1_pmid</th>\n      <th>...</th>\n      <th>pubmed_mesh_qualifier_major</th>\n      <th>pubmed_mesh</th>\n      <th>rsid_pmid10</th>\n      <th>rsid_pmid50</th>\n      <th>rsid_pmid100</th>\n      <th>top10mesh_all</th>\n      <th>top10rsid_all</th>\n      <th>pubmed_runtime</th>\n      <th>total_runtime</th>\n      <th>time_stamp</th>\n    </tr>\n  </thead>\n  <tbody>\n    <tr>\n      <th>2</th>\n      <td>HLA-A</td>\n      <td>PCG</td>\n      <td>na</td>\n      <td>3615</td>\n      <td>2013</td>\n      <td>1203</td>\n      <td>931</td>\n      <td>0</td>\n      <td>1</td>\n      <td>3</td>\n      <td>...</td>\n      <td>53</td>\n      <td>44</td>\n      <td>0</td>\n      <td>0</td>\n      <td>0</td>\n      <td>['Humans', 'Genetic Predisposition to Disease'...</td>\n      <td>['rs9404955']</td>\n      <td>0:00:01</td>\n      <td>0:00:08</td>\n      <td>2024-11-15 14:27:01.650128</td>\n    </tr>\n    <tr>\n      <th>0</th>\n      <td>PPP1R11</td>\n      <td>PCG</td>\n      <td>na</td>\n      <td>72</td>\n      <td>10</td>\n      <td>62</td>\n      <td>30</td>\n      <td>0</td>\n      <td>1</td>\n      <td>2</td>\n      <td>...</td>\n      <td>37</td>\n      <td>32</td>\n      <td>0</td>\n      <td>0</td>\n      <td>0</td>\n      <td>['Humans', 'Base Sequence', 'Whole Genome Sequ...</td>\n      <td>['rs9280881']</td>\n      <td>0:00:01</td>\n      <td>0:00:02</td>\n      <td>2024-11-15 14:26:48.664821</td>\n    </tr>\n    <tr>\n      <th>1</th>\n      <td>RPH3AL</td>\n      <td>PCG</td>\n      <td>na</td>\n      <td>630</td>\n      <td>5</td>\n      <td>623</td>\n      <td>213</td>\n      <td>0</td>\n      <td>1</td>\n      <td>2</td>\n      <td>...</td>\n      <td>23</td>\n      <td>22</td>\n      <td>0</td>\n      <td>0</td>\n      <td>0</td>\n      <td>['Animals', 'Female', 'Mice', 'Sheep', 'Sequen...</td>\n      <td>['rs994636520']</td>\n      <td>0:00:01</td>\n      <td>0:00:04</td>\n      <td>2024-11-15 14:26:52.878653</td>\n    </tr>\n  </tbody>\n</table>\n<p>3 rows × 27 columns</p>\n</div>"
     },
     "execution_count": 19,
     "metadata": {},
     "output_type": "execute_result"
    }
   ],
   "source": [
    "# Visualize grpm_report.csv\n",
    "grpm_report = pd.read_parquet(db_path+'/grpm_report.parquet', engine='pyarrow').reset_index()\n",
    "\n",
    "# Sort Values\n",
    "grpm_report.sort_values(by='lit1_pmid',ascending = False)"
   ]
  },
  {
   "cell_type": "code",
   "execution_count": 23,
   "metadata": {
    "collapsed": false,
    "ExecuteTime": {
     "end_time": "2024-11-15T13:33:34.741394200Z",
     "start_time": "2024-11-15T13:33:34.447367900Z"
    }
   },
   "outputs": [
    {
     "data": {
      "text/plain": "<Figure size 400x800 with 1 Axes>",
      "image/png": "[encoded data removed]"
     },
     "metadata": {},
     "output_type": "display_data"
    }
   ],
   "source": [
    "# Show Bar Graph\n",
    "grpm_report_sort = grpm_report.sort_values(by= 'pubmed_pmid',ascending=False)\n",
    "\n",
    "x = grpm_report_sort['index'].iloc[:40]\n",
    "y = grpm_report_sort['pubmed_pmid'].iloc[:40]\n",
    "plt.figure(figsize=(4, 8))\n",
    "plt.title('PMIDs in Dataset', loc='center',pad=10)\n",
    "\n",
    "plt.barh(x,y)\n",
    "plt.gca().invert_yaxis()\n",
    "plt.tick_params(axis='x', which='both', top=True, bottom=False, labeltop=True, labelbottom=False)\n",
    "#plt.xlabel('pmid count', position=(0.5, 1.08))\n",
    "plt.ylabel('gene')\n",
    "plt.xlabel('pmid count', position=(0.5, 1.08))\n",
    "ax = plt.gca()\n",
    "ax.xaxis.set_label_position('top')\n",
    "#plt.savefig('PMID_filtered.png',dpi=300, bbox_inches = \"tight\")\n",
    "plt.show()"
   ]
  },
  {
   "cell_type": "markdown",
   "metadata": {},
   "source": [
    "# Debugging"
   ]
  },
  {
   "cell_type": "markdown",
   "metadata": {},
   "source": [
    "## debugging: litvar data"
   ]
  },
  {
   "cell_type": "code",
   "execution_count": null,
   "metadata": {
    "collapsed": false,
    "ExecuteTime": {
     "start_time": "2024-03-14T10:52:32.895096Z"
    }
   },
   "outputs": [],
   "source": [
    "# if stucked check 'data' variable:\n",
    "# replace manually malformed lines\n",
    "data"
   ]
  },
  {
   "cell_type": "markdown",
   "metadata": {},
   "source": [
    "## debugging: nbib"
   ]
  },
  {
   "cell_type": "code",
   "execution_count": null,
   "metadata": {
    "collapsed": false,
    "ExecuteTime": {
     "start_time": "2024-03-14T10:52:32.897093200Z"
    }
   },
   "outputs": [],
   "source": [
    "#NBIB PROBLEM SOLVER---------------------------------\n",
    "# replace malformed lines\n",
    "fullnbib= fullnbib.replace('2007/09/31','2007/09/30') # <= some dates are mispelled in pubmed\n",
    "ref = nbib.read(fullnbib)\n",
    "dfbib = pd.DataFrame(ref)\n",
    "dfbib"
   ]
  },
  {
   "cell_type": "markdown",
   "metadata": {},
   "source": [
    "NBIB PROBLEM SOLVER [History] ---------------------------------\n",
    "with open('nbib report '+gene+'.txt', 'w', encoding='utf-8') as file:\n",
    "    file.write(fullnbib)\n",
    "with open('nbib report '+gene+'_FIXED.txt', 'r', encoding='utf-8') as file:\n",
    "    fullnbib = file.read() # --> not work"
   ]
  },
  {
   "cell_type": "markdown",
   "metadata": {},
   "source": [
    "# extras"
   ]
  },
  {
   "cell_type": "markdown",
   "metadata": {},
   "source": [
    "## Eutils: get study type"
   ]
  },
  {
   "cell_type": "code",
   "execution_count": null,
   "metadata": {
    "collapsed": false,
    "ExecuteTime": {
     "start_time": "2024-03-14T10:52:32.899094600Z"
    }
   },
   "outputs": [],
   "source": [
    "check_and_install_module('biopython')\n",
    "from Bio import Entrez\n",
    "Entrez.email = \"your_email@example.com\""
   ]
  },
  {
   "cell_type": "code",
   "execution_count": null,
   "metadata": {
    "collapsed": false,
    "ExecuteTime": {
     "start_time": "2024-03-14T10:52:32.901094700Z"
    }
   },
   "outputs": [],
   "source": [
    "### EUTILS GET STUDY TYPE MODULE\n",
    "#https://biopython.org/docs/1.76/api/Bio.Entrez.html\n",
    "def get_study_type(pmids):\n",
    "    Entrez.email = 'your_email@your_domain.com'\n",
    "    handle = Entrez.esummary(db='pubmed', id=','.join(pmids), retmode='xml')\n",
    "    records = Entrez.parse(handle)\n",
    "    study_types = []\n",
    "    for record in records:\n",
    "        article_types = record['PubTypeList']\n",
    "        if 'Randomized Controlled Trial' in article_types:\n",
    "            study_types.append('Randomized Controlled Trial')\n",
    "        elif 'Controlled Clinical Trial' in article_types:\n",
    "            study_types.append('Controlled Clinical Trial')\n",
    "        elif 'Cohort Studies' in article_types:\n",
    "            study_types.append('Cohort Study')\n",
    "        elif 'Case-Control Studies' in article_types:\n",
    "            study_types.append('Case-Control Study')\n",
    "        elif 'Review' in article_types:\n",
    "            study_types.append('Review')\n",
    "        elif 'Clinical Trial' in article_types:\n",
    "            study_types.append('Clinical Trial')\n",
    "        elif 'Meta-Analysis' in article_types:\n",
    "            study_types.append('Meta-Analysis')\n",
    "        elif 'Multicenter Study' in article_types:\n",
    "            study_types.append('Multicenter Study')\n",
    "        else:\n",
    "            study_types.append('Unknown')\n",
    "    return study_types\n",
    "\n",
    "pmidlist = list(pmidmesh['pmid'].drop_duplicates())\n",
    "genepmids_str = list(map(str, pmidlist))\n",
    "study_type = get_study_type(genepmids_str)\n",
    "pmids_studytype = pd.DataFrame(list(zip(genepmids_str, study_type)), columns=[gene + '_PMID', 'study type'])\n",
    "request_counter += 1\n",
    "\n",
    "#study type count:\n",
    "pmids_studytype_count = pmids_studytype.groupby('study type').describe().reset_index()\n",
    "pmids_studytype_count.columns = pmids_studytype_count.columns.to_flat_index()\n",
    "new_column_names = ['study_type', 'pmid-count', 'pmid-unique', 'pmid-top', 'pmid-freq']\n",
    "pmids_studytype_count.columns = new_column_names\n",
    "pmids_studytype_countsort = pmids_studytype_count.sort_values(by='pmid-count', ascending=False)"
   ]
  }
 ],
 "metadata": {
  "kernelspec": {
   "display_name": "Python 3 (ipykernel)",
   "language": "python",
   "name": "python3"
  },
  "language_info": {
   "codemirror_mode": {
    "name": "ipython",
    "version": 3
   },
   "file_extension": ".py",
   "mimetype": "text/x-python",
   "name": "python",
   "nbconvert_exporter": "python",
   "pygments_lexer": "ipython3",
   "version": "3.11.3"
  }
 },
 "nbformat": 4,
 "nbformat_minor": 4
}
