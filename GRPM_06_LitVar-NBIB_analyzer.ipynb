{
 "cells": [
  {
   "cell_type": "markdown",
   "metadata": {
    "collapsed": false
   },
   "source": [
    "# Query NBIB full dataset of LitVar-publications\n",
    "Source dataset:  medrxiv DOI: 10.1101/2023.08.04.23293659/nbib_data.csv \n",
    "\n",
    "impact factor\n",
    "https://www.annualreviews.org/action/showPublications"
   ]
  },
  {
   "cell_type": "markdown",
   "source": [
    "# Import Packages"
   ],
   "metadata": {
    "collapsed": false
   }
  },
  {
   "cell_type": "code",
   "execution_count": 2,
   "outputs": [],
   "source": [
    "import os\n",
    "import io\n",
    "import sys\n",
    "import zipfile\n",
    "import requests\n",
    "import pandas as pd\n",
    "import matplotlib.pyplot as plt\n",
    "from datetime import datetime\n",
    "if not 'google.colab' in sys.modules:\n",
    "    import pyperclip\n",
    "\n",
    "def simple_bool(message):\n",
    "    choose = input(message+\" (y/n): \").lower()\n",
    "    your_bool = choose in [\"y\", \"yes\",\"yea\",\"sure\"]\n",
    "    return your_bool\n",
    "\n",
    "def get_file(url, file_name, dir = os.getcwd()):\n",
    "    url = url\n",
    "    file_name = file_name\n",
    "    response = requests.get(url)\n",
    "    if response.status_code == 200:\n",
    "        content = response.content\n",
    "        file_path = os.path.join(dir, file_name)\n",
    "        with open(file_path, 'wb') as file:\n",
    "            file.write(content)\n",
    "\n",
    "def get_and_extract(file, dir = os.getcwd(), ext = '.zip'):\n",
    "    url='https://zenodo.org/record/8205724/files/'+file+'.zip?download=1'\n",
    "    zip_file_name = file+ext\n",
    "    extracted_folder_name = dir\n",
    "    # Download the ZIP file\n",
    "    response = requests.get(url)\n",
    "    if response.status_code == 200:\n",
    "        # Extract the ZIP contents\n",
    "        with io.BytesIO(response.content) as zip_buffer:\n",
    "            with zipfile.ZipFile(zip_buffer, 'r') as zip_ref:\n",
    "                zip_ref.extractall(extracted_folder_name)\n",
    "        print(f\"ZIP file '{zip_file_name}' extracted to '{extracted_folder_name}' successfully.\")\n",
    "    else:\n",
    "        print(\"Failed to download the ZIP file.\")\n",
    "\n",
    "import pychatgpt as op"
   ],
   "metadata": {
    "collapsed": false,
    "ExecuteTime": {
     "end_time": "2023-11-13T15:20:15.633477400Z",
     "start_time": "2023-11-13T15:20:15.627717500Z"
    }
   }
  },
  {
   "cell_type": "markdown",
   "metadata": {},
   "source": [
    "# Query the LitVar-NBIB Dataset"
   ]
  },
  {
   "cell_type": "markdown",
   "metadata": {
    "collapsed": false
   },
   "source": [
    "## Get nbib-data from Zenodo"
   ]
  },
  {
   "cell_type": "code",
   "execution_count": 3,
   "metadata": {
    "collapsed": false,
    "ExecuteTime": {
     "end_time": "2023-11-13T15:39:17.860729Z",
     "start_time": "2023-11-13T15:31:50.051112700Z"
    }
   },
   "outputs": [
    {
     "name": "stdout",
     "output_type": "stream",
     "text": [
      "ZIP file 'nbib_data.zip' extracted to 'G:\\Altri computer\\Razor\\Nutrigenetica\\Bioinformatics\\GRPMX - Razor\\GRPMX db - Razor' successfully.\n",
      "Download and extraction time  0:07:25.321202\n"
     ]
    }
   ],
   "source": [
    "if simple_bool('Download nbib-data from Zenodo?\\n (size: 5GB unpacked; average import time: 7'')'):\n",
    "    timea = datetime.now()\n",
    "    get_and_extract('nbib_data')\n",
    "    print('Download and extraction time ',datetime.now()-timea)"
   ]
  },
  {
   "cell_type": "markdown",
   "metadata": {
    "collapsed": false
   },
   "source": [
    "## Import full nbib Dataset"
   ]
  },
  {
   "cell_type": "markdown",
   "metadata": {
    "collapsed": false
   },
   "source": []
  },
  {
   "cell_type": "code",
   "execution_count": 4,
   "metadata": {
    "ExecuteTime": {
     "end_time": "2023-11-13T15:41:02.752983900Z",
     "start_time": "2023-11-13T15:39:32.606644400Z"
    }
   },
   "outputs": [
    {
     "name": "stdout",
     "output_type": "stream",
     "text": [
      "time import nbib:  0:01:30.121373\n",
      "205.5575942993164 MB\n"
     ]
    }
   ],
   "source": [
    "# set source dataset:-----------------------\n",
    "db_tag = 'pcg'\n",
    "db_name = 'grpm_db_' + db_tag\n",
    "db_path = 'grpm_dataset/'+db_name\n",
    "\n",
    "time1 = datetime.now()\n",
    "\n",
    "# import gene-fullnbib\n",
    "dummy_nbib = pd.read_csv(db_path+'/complete_nbibtable.csv', index_col=0)\n",
    "dummy_nbib['pubmed_id'] = dummy_nbib['pubmed_id'].astype(str)\n",
    "time2 = datetime.now()\n",
    "print('time import nbib: ', time2-time1)\n",
    "print(dummy_nbib.memory_usage().sum() / 1024 / 1024, 'MB')"
   ]
  },
  {
   "cell_type": "markdown",
   "source": [
    "## Define query targets "
   ],
   "metadata": {
    "collapsed": false
   }
  },
  {
   "cell_type": "markdown",
   "source": [
    "### Keywords:"
   ],
   "metadata": {
    "collapsed": false
   }
  },
  {
   "cell_type": "markdown",
   "source": [
    "#### Load a keyword set"
   ],
   "metadata": {
    "collapsed": false
   }
  },
  {
   "cell_type": "code",
   "execution_count": 72,
   "outputs": [
    {
     "data": {
      "text/plain": "    Unnamed: 0                                   keywords  Col2  Col3   Col4  \\\n0        39360            ERT, Enzyme Replacement Therapy     2     2   GZMM   \n1        41118                 Enzyme Replacement Therapy     2     2    GAA   \n2        23210                                CRISPR-Cas9   188   158     C2   \n3        23211                       CRISPR-Cas9 deletion     2     2  SKAP1   \n4        23214                   CRISPR-Cas9 gene editing     3     3   SYN3   \n..         ...                                        ...   ...   ...    ...   \n60       51199                         Genomic sequencing    10    10  BRCA2   \n61       78345                        Molecular diagnosis   219   209    GLA   \n62       50658                          Genetic diagnosis   123   113   GJB2   \n63       50659                    Genetic diagnosis panel     2     2   PCCA   \n64       50660  Genetic diagnosis; triallelic inheritance     9     9   MKKS   \n\n    Col5  Col6  Col7      Col8  Col9  Col10  Col11  \\\n0      1     2     1  32382504     2      2      1   \n1      1     2     2  27183828     1      2      2   \n2      4   188    99  33109263    12    188    100   \n3      1     2     1  33815481     2      2      1   \n4      1     3     2  34929159     2      3      2   \n..   ...   ...   ...       ...   ...    ...    ...   \n60     1    10     2  27077130     9     10      2   \n61     3   219    46  28912962    49    219     46   \n62     2   123    41  31203817    19    123     41   \n63     1     2     1  30186825     2      2      1   \n64     1     9     1  31196119     9      9      1   \n\n                                                Col12  Col13  \n0   [{'author': 'Piraud, Monique', 'author_abbrevi...    2.0  \n1   [{'author': 'Peng, Steven Shinn-Forng', 'autho...    1.0  \n2   [{'author': 'Eguizabal, C', 'author_abbreviate...   12.0  \n3   [{'author': 'Wang, Wei', 'author_abbreviated':...    2.0  \n4   [{'author': 'Engel, Abbi L', 'author_abbreviat...    2.0  \n..                                                ...    ...  \n60  [{'author': 'Jamuar, Saumya Shekhar', 'author_...    9.0  \n61  [{'author': 'Costa, Kárita Antunes', 'author_a...   49.0  \n62  [{'author': 'Arts, Peer', 'author_abbreviated'...   19.0  \n63  [{'author': 'Wang, Yanyun', 'author_abbreviate...    2.0  \n64  [{'author': 'Manara, Elena', 'author_abbreviat...    9.0  \n\n[65 rows x 14 columns]",
      "text/html": "<div>\n<style scoped>\n    .dataframe tbody tr th:only-of-type {\n        vertical-align: middle;\n    }\n\n    .dataframe tbody tr th {\n        vertical-align: top;\n    }\n\n    .dataframe thead th {\n        text-align: right;\n    }\n</style>\n<table border=\"1\" class=\"dataframe\">\n  <thead>\n    <tr style=\"text-align: right;\">\n      <th></th>\n      <th>Unnamed: 0</th>\n      <th>keywords</th>\n      <th>Col2</th>\n      <th>Col3</th>\n      <th>Col4</th>\n      <th>Col5</th>\n      <th>Col6</th>\n      <th>Col7</th>\n      <th>Col8</th>\n      <th>Col9</th>\n      <th>Col10</th>\n      <th>Col11</th>\n      <th>Col12</th>\n      <th>Col13</th>\n    </tr>\n  </thead>\n  <tbody>\n    <tr>\n      <th>0</th>\n      <td>39360</td>\n      <td>ERT, Enzyme Replacement Therapy</td>\n      <td>2</td>\n      <td>2</td>\n      <td>GZMM</td>\n      <td>1</td>\n      <td>2</td>\n      <td>1</td>\n      <td>32382504</td>\n      <td>2</td>\n      <td>2</td>\n      <td>1</td>\n      <td>[{'author': 'Piraud, Monique', 'author_abbrevi...</td>\n      <td>2.0</td>\n    </tr>\n    <tr>\n      <th>1</th>\n      <td>41118</td>\n      <td>Enzyme Replacement Therapy</td>\n      <td>2</td>\n      <td>2</td>\n      <td>GAA</td>\n      <td>1</td>\n      <td>2</td>\n      <td>2</td>\n      <td>27183828</td>\n      <td>1</td>\n      <td>2</td>\n      <td>2</td>\n      <td>[{'author': 'Peng, Steven Shinn-Forng', 'autho...</td>\n      <td>1.0</td>\n    </tr>\n    <tr>\n      <th>2</th>\n      <td>23210</td>\n      <td>CRISPR-Cas9</td>\n      <td>188</td>\n      <td>158</td>\n      <td>C2</td>\n      <td>4</td>\n      <td>188</td>\n      <td>99</td>\n      <td>33109263</td>\n      <td>12</td>\n      <td>188</td>\n      <td>100</td>\n      <td>[{'author': 'Eguizabal, C', 'author_abbreviate...</td>\n      <td>12.0</td>\n    </tr>\n    <tr>\n      <th>3</th>\n      <td>23211</td>\n      <td>CRISPR-Cas9 deletion</td>\n      <td>2</td>\n      <td>2</td>\n      <td>SKAP1</td>\n      <td>1</td>\n      <td>2</td>\n      <td>1</td>\n      <td>33815481</td>\n      <td>2</td>\n      <td>2</td>\n      <td>1</td>\n      <td>[{'author': 'Wang, Wei', 'author_abbreviated':...</td>\n      <td>2.0</td>\n    </tr>\n    <tr>\n      <th>4</th>\n      <td>23214</td>\n      <td>CRISPR-Cas9 gene editing</td>\n      <td>3</td>\n      <td>3</td>\n      <td>SYN3</td>\n      <td>1</td>\n      <td>3</td>\n      <td>2</td>\n      <td>34929159</td>\n      <td>2</td>\n      <td>3</td>\n      <td>2</td>\n      <td>[{'author': 'Engel, Abbi L', 'author_abbreviat...</td>\n      <td>2.0</td>\n    </tr>\n    <tr>\n      <th>...</th>\n      <td>...</td>\n      <td>...</td>\n      <td>...</td>\n      <td>...</td>\n      <td>...</td>\n      <td>...</td>\n      <td>...</td>\n      <td>...</td>\n      <td>...</td>\n      <td>...</td>\n      <td>...</td>\n      <td>...</td>\n      <td>...</td>\n      <td>...</td>\n    </tr>\n    <tr>\n      <th>60</th>\n      <td>51199</td>\n      <td>Genomic sequencing</td>\n      <td>10</td>\n      <td>10</td>\n      <td>BRCA2</td>\n      <td>1</td>\n      <td>10</td>\n      <td>2</td>\n      <td>27077130</td>\n      <td>9</td>\n      <td>10</td>\n      <td>2</td>\n      <td>[{'author': 'Jamuar, Saumya Shekhar', 'author_...</td>\n      <td>9.0</td>\n    </tr>\n    <tr>\n      <th>61</th>\n      <td>78345</td>\n      <td>Molecular diagnosis</td>\n      <td>219</td>\n      <td>209</td>\n      <td>GLA</td>\n      <td>3</td>\n      <td>219</td>\n      <td>46</td>\n      <td>28912962</td>\n      <td>49</td>\n      <td>219</td>\n      <td>46</td>\n      <td>[{'author': 'Costa, Kárita Antunes', 'author_a...</td>\n      <td>49.0</td>\n    </tr>\n    <tr>\n      <th>62</th>\n      <td>50658</td>\n      <td>Genetic diagnosis</td>\n      <td>123</td>\n      <td>113</td>\n      <td>GJB2</td>\n      <td>2</td>\n      <td>123</td>\n      <td>41</td>\n      <td>31203817</td>\n      <td>19</td>\n      <td>123</td>\n      <td>41</td>\n      <td>[{'author': 'Arts, Peer', 'author_abbreviated'...</td>\n      <td>19.0</td>\n    </tr>\n    <tr>\n      <th>63</th>\n      <td>50659</td>\n      <td>Genetic diagnosis panel</td>\n      <td>2</td>\n      <td>2</td>\n      <td>PCCA</td>\n      <td>1</td>\n      <td>2</td>\n      <td>1</td>\n      <td>30186825</td>\n      <td>2</td>\n      <td>2</td>\n      <td>1</td>\n      <td>[{'author': 'Wang, Yanyun', 'author_abbreviate...</td>\n      <td>2.0</td>\n    </tr>\n    <tr>\n      <th>64</th>\n      <td>50660</td>\n      <td>Genetic diagnosis; triallelic inheritance</td>\n      <td>9</td>\n      <td>9</td>\n      <td>MKKS</td>\n      <td>1</td>\n      <td>9</td>\n      <td>1</td>\n      <td>31196119</td>\n      <td>9</td>\n      <td>9</td>\n      <td>1</td>\n      <td>[{'author': 'Manara, Elena', 'author_abbreviat...</td>\n      <td>9.0</td>\n    </tr>\n  </tbody>\n</table>\n<p>65 rows × 14 columns</p>\n</div>"
     },
     "execution_count": 72,
     "metadata": {},
     "output_type": "execute_result"
    }
   ],
   "source": [
    "# use case\n",
    "url = \"https://raw.githubusercontent.com/johndef64/GRPM_system/main/ref-mesh-archive/ref_keywords_genetic-disease-therapy.csv\"\n",
    "get_file(url, 'ref_keywords_genetic-disease-therapy.csv', dir = \"ref-mesh-archive\\\\\")\n",
    "\n",
    "ref_kw = pd.read_csv(r'ref-mesh-archive\\ref_keywords_genetic-disease-therapy.csv')\n",
    "ref_kw"
   ],
   "metadata": {
    "collapsed": false,
    "ExecuteTime": {
     "end_time": "2023-11-13T16:47:46.772507900Z",
     "start_time": "2023-11-13T16:47:45.801807900Z"
    }
   }
  },
  {
   "cell_type": "code",
   "execution_count": 7,
   "outputs": [],
   "source": [
    "# ref_kw cleaner\n",
    "\n",
    "# List of values to remove\n",
    "values_to_remove = ['CRISP',\n",
    "                    'Enzyme',\n",
    "                    'NGS',\n",
    "                    'Carrier',\n",
    "                    'Next generation sequencing',\n",
    "                    'sequencing',\n",
    "                    'Sequencing',\n",
    "                    'Array']\n",
    "\n",
    "# Remove values from the 'col1' column that contain values_to_remove\n",
    "ref_kw_less = ref_kw[~ref_kw['keywords'].str.contains('|'.join(values_to_remove))]\n",
    "ref_kw_less.reset_index(drop=True, inplace=True)\n",
    "ref_kw_less.keywords.to_csv(r'ref-mesh-archive\\ref_keywords_genetic-disease-therapy_clean.csv')"
   ],
   "metadata": {
    "collapsed": false,
    "ExecuteTime": {
     "end_time": "2023-11-13T15:43:32.348987900Z",
     "start_time": "2023-11-13T15:43:32.185004300Z"
    }
   }
  },
  {
   "cell_type": "markdown",
   "source": [
    "#### explode keywords"
   ],
   "metadata": {
    "collapsed": false
   }
  },
  {
   "cell_type": "code",
   "execution_count": 8,
   "outputs": [
    {
     "name": "stdout",
     "output_type": "stream",
     "text": [
      "728185 700659\n"
     ]
    }
   ],
   "source": [
    "import ast #abstract syntax tree\n",
    "#ast.literal_eval(dummy_nbib.keywords[0])[0]\n",
    "\n",
    "cols = ['gene', 'pubmed_id','keywords','authors']\n",
    "print(len(dummy_nbib[cols]), len(dummy_nbib[cols].drop_duplicates()))\n",
    "\n",
    "small_dummy = dummy_nbib[cols].drop_duplicates()\n",
    "small_dummy.dropna(subset='keywords', inplace=True)\n",
    "small_dummy['keywords'] = small_dummy['keywords'].apply(ast.literal_eval)"
   ],
   "metadata": {
    "collapsed": false,
    "ExecuteTime": {
     "end_time": "2023-11-13T15:43:59.573766Z",
     "start_time": "2023-11-13T15:43:47.952329700Z"
    }
   }
  },
  {
   "cell_type": "markdown",
   "source": [
    "#### generate GPKA"
   ],
   "metadata": {
    "collapsed": false
   }
  },
  {
   "cell_type": "code",
   "execution_count": 9,
   "outputs": [
    {
     "data": {
      "text/plain": "      gene pubmed_id                                  keywords  \\\n0   MT-ND1  29980632  Leber Hereditary Optic Neuropathy (LHON)   \n0   MT-ND1  29980632                            MELAS syndrome   \n0   MT-ND1  29980632                    mitochondrial diseases   \n0   MT-ND1  29980632                                 mitophagy   \n2   MT-ND1  31996241                            Leigh syndrome   \n..     ...       ...                                       ...   \n0   CRISP1  31230945                   Interaction promiscuity   \n0   CRISP1  31230945     T cell costimulation and coinhibition   \n0   CRISP1  31230945                          X-ray structures   \n0   CRISP1  31230945                         immune regulation   \n0   CRISP1  31230945                 intermolecular beta-sheet   \n\n                                              authors  \n0   [{'author': 'Hirano, Michio', 'author_abbrevia...  \n0   [{'author': 'Hirano, Michio', 'author_abbrevia...  \n0   [{'author': 'Hirano, Michio', 'author_abbrevia...  \n0   [{'author': 'Hirano, Michio', 'author_abbrevia...  \n2   [{'author': 'Schubert Baldo, Manuela', 'author...  \n..                                                ...  \n0   [{'author': 'Liu, Weifeng', 'author_abbreviate...  \n0   [{'author': 'Liu, Weifeng', 'author_abbreviate...  \n0   [{'author': 'Liu, Weifeng', 'author_abbreviate...  \n0   [{'author': 'Liu, Weifeng', 'author_abbreviate...  \n0   [{'author': 'Liu, Weifeng', 'author_abbreviate...  \n\n[1766569 rows x 4 columns]",
      "text/html": "<div>\n<style scoped>\n    .dataframe tbody tr th:only-of-type {\n        vertical-align: middle;\n    }\n\n    .dataframe tbody tr th {\n        vertical-align: top;\n    }\n\n    .dataframe thead th {\n        text-align: right;\n    }\n</style>\n<table border=\"1\" class=\"dataframe\">\n  <thead>\n    <tr style=\"text-align: right;\">\n      <th></th>\n      <th>gene</th>\n      <th>pubmed_id</th>\n      <th>keywords</th>\n      <th>authors</th>\n    </tr>\n  </thead>\n  <tbody>\n    <tr>\n      <th>0</th>\n      <td>MT-ND1</td>\n      <td>29980632</td>\n      <td>Leber Hereditary Optic Neuropathy (LHON)</td>\n      <td>[{'author': 'Hirano, Michio', 'author_abbrevia...</td>\n    </tr>\n    <tr>\n      <th>0</th>\n      <td>MT-ND1</td>\n      <td>29980632</td>\n      <td>MELAS syndrome</td>\n      <td>[{'author': 'Hirano, Michio', 'author_abbrevia...</td>\n    </tr>\n    <tr>\n      <th>0</th>\n      <td>MT-ND1</td>\n      <td>29980632</td>\n      <td>mitochondrial diseases</td>\n      <td>[{'author': 'Hirano, Michio', 'author_abbrevia...</td>\n    </tr>\n    <tr>\n      <th>0</th>\n      <td>MT-ND1</td>\n      <td>29980632</td>\n      <td>mitophagy</td>\n      <td>[{'author': 'Hirano, Michio', 'author_abbrevia...</td>\n    </tr>\n    <tr>\n      <th>2</th>\n      <td>MT-ND1</td>\n      <td>31996241</td>\n      <td>Leigh syndrome</td>\n      <td>[{'author': 'Schubert Baldo, Manuela', 'author...</td>\n    </tr>\n    <tr>\n      <th>...</th>\n      <td>...</td>\n      <td>...</td>\n      <td>...</td>\n      <td>...</td>\n    </tr>\n    <tr>\n      <th>0</th>\n      <td>CRISP1</td>\n      <td>31230945</td>\n      <td>Interaction promiscuity</td>\n      <td>[{'author': 'Liu, Weifeng', 'author_abbreviate...</td>\n    </tr>\n    <tr>\n      <th>0</th>\n      <td>CRISP1</td>\n      <td>31230945</td>\n      <td>T cell costimulation and coinhibition</td>\n      <td>[{'author': 'Liu, Weifeng', 'author_abbreviate...</td>\n    </tr>\n    <tr>\n      <th>0</th>\n      <td>CRISP1</td>\n      <td>31230945</td>\n      <td>X-ray structures</td>\n      <td>[{'author': 'Liu, Weifeng', 'author_abbreviate...</td>\n    </tr>\n    <tr>\n      <th>0</th>\n      <td>CRISP1</td>\n      <td>31230945</td>\n      <td>immune regulation</td>\n      <td>[{'author': 'Liu, Weifeng', 'author_abbreviate...</td>\n    </tr>\n    <tr>\n      <th>0</th>\n      <td>CRISP1</td>\n      <td>31230945</td>\n      <td>intermolecular beta-sheet</td>\n      <td>[{'author': 'Liu, Weifeng', 'author_abbreviate...</td>\n    </tr>\n  </tbody>\n</table>\n<p>1766569 rows × 4 columns</p>\n</div>"
     },
     "execution_count": 9,
     "metadata": {},
     "output_type": "execute_result"
    }
   ],
   "source": [
    "type(small_dummy.keywords[0])\n",
    "small_explosion = small_dummy.explode('keywords')\n",
    "small_explosion"
   ],
   "metadata": {
    "collapsed": false,
    "ExecuteTime": {
     "end_time": "2023-11-13T15:44:13.323745100Z",
     "start_time": "2023-11-13T15:44:12.407898500Z"
    }
   }
  },
  {
   "cell_type": "code",
   "execution_count": 31,
   "outputs": [],
   "source": [
    "if simple_bool('save extracted dataset?'):\n",
    "    small_explosion.to_csv(r'grpm_dataset\\grpm_db_pcg\\GPKA_dataset.csv')"
   ],
   "metadata": {
    "collapsed": false
   }
  },
  {
   "cell_type": "code",
   "execution_count": 10,
   "outputs": [
    {
     "ename": "KeyboardInterrupt",
     "evalue": "",
     "output_type": "error",
     "traceback": [
      "\u001B[1;31m---------------------------------------------------------------------------\u001B[0m",
      "\u001B[1;31mKeyboardInterrupt\u001B[0m                         Traceback (most recent call last)",
      "Cell \u001B[1;32mIn[10], line 1\u001B[0m\n\u001B[1;32m----> 1\u001B[0m small_explosion\u001B[38;5;241m.\u001B[39mgroupby(\u001B[38;5;124m'\u001B[39m\u001B[38;5;124mkeywords\u001B[39m\u001B[38;5;124m'\u001B[39m)\u001B[38;5;241m.\u001B[39mdescribe()\n",
      "File \u001B[1;32m~\\anaconda3\\envs\\myenv\\Lib\\site-packages\\pandas\\core\\groupby\\groupby.py:3493\u001B[0m, in \u001B[0;36mGroupBy.describe\u001B[1;34m(self, percentiles, include, exclude)\u001B[0m\n\u001B[0;32m   3490\u001B[0m     \u001B[38;5;28;01mreturn\u001B[39;00m result\u001B[38;5;241m.\u001B[39mto_frame()\u001B[38;5;241m.\u001B[39mT\u001B[38;5;241m.\u001B[39miloc[:\u001B[38;5;241m0\u001B[39m]\n\u001B[0;32m   3492\u001B[0m \u001B[38;5;28;01mwith\u001B[39;00m com\u001B[38;5;241m.\u001B[39mtemp_setattr(\u001B[38;5;28mself\u001B[39m, \u001B[38;5;124m\"\u001B[39m\u001B[38;5;124mas_index\u001B[39m\u001B[38;5;124m\"\u001B[39m, \u001B[38;5;28;01mTrue\u001B[39;00m):\n\u001B[1;32m-> 3493\u001B[0m     result \u001B[38;5;241m=\u001B[39m \u001B[38;5;28mself\u001B[39m\u001B[38;5;241m.\u001B[39m_python_apply_general(\n\u001B[0;32m   3494\u001B[0m         \u001B[38;5;28;01mlambda\u001B[39;00m x: x\u001B[38;5;241m.\u001B[39mdescribe(\n\u001B[0;32m   3495\u001B[0m             percentiles\u001B[38;5;241m=\u001B[39mpercentiles, include\u001B[38;5;241m=\u001B[39minclude, exclude\u001B[38;5;241m=\u001B[39mexclude\n\u001B[0;32m   3496\u001B[0m         ),\n\u001B[0;32m   3497\u001B[0m         obj,\n\u001B[0;32m   3498\u001B[0m         not_indexed_same\u001B[38;5;241m=\u001B[39m\u001B[38;5;28;01mTrue\u001B[39;00m,\n\u001B[0;32m   3499\u001B[0m     )\n\u001B[0;32m   3500\u001B[0m \u001B[38;5;28;01mif\u001B[39;00m \u001B[38;5;28mself\u001B[39m\u001B[38;5;241m.\u001B[39maxis \u001B[38;5;241m==\u001B[39m \u001B[38;5;241m1\u001B[39m:\n\u001B[0;32m   3501\u001B[0m     \u001B[38;5;28;01mreturn\u001B[39;00m result\u001B[38;5;241m.\u001B[39mT\n",
      "File \u001B[1;32m~\\anaconda3\\envs\\myenv\\Lib\\site-packages\\pandas\\core\\groupby\\groupby.py:1819\u001B[0m, in \u001B[0;36mGroupBy._python_apply_general\u001B[1;34m(self, f, data, not_indexed_same, is_transform, is_agg)\u001B[0m\n\u001B[0;32m   1784\u001B[0m \u001B[38;5;129m@final\u001B[39m\n\u001B[0;32m   1785\u001B[0m \u001B[38;5;28;01mdef\u001B[39;00m \u001B[38;5;21m_python_apply_general\u001B[39m(\n\u001B[0;32m   1786\u001B[0m     \u001B[38;5;28mself\u001B[39m,\n\u001B[1;32m   (...)\u001B[0m\n\u001B[0;32m   1791\u001B[0m     is_agg: \u001B[38;5;28mbool\u001B[39m \u001B[38;5;241m=\u001B[39m \u001B[38;5;28;01mFalse\u001B[39;00m,\n\u001B[0;32m   1792\u001B[0m ) \u001B[38;5;241m-\u001B[39m\u001B[38;5;241m>\u001B[39m NDFrameT:\n\u001B[0;32m   1793\u001B[0m \u001B[38;5;250m    \u001B[39m\u001B[38;5;124;03m\"\"\"\u001B[39;00m\n\u001B[0;32m   1794\u001B[0m \u001B[38;5;124;03m    Apply function f in python space\u001B[39;00m\n\u001B[0;32m   1795\u001B[0m \n\u001B[1;32m   (...)\u001B[0m\n\u001B[0;32m   1817\u001B[0m \u001B[38;5;124;03m        data after applying f\u001B[39;00m\n\u001B[0;32m   1818\u001B[0m \u001B[38;5;124;03m    \"\"\"\u001B[39;00m\n\u001B[1;32m-> 1819\u001B[0m     values, mutated \u001B[38;5;241m=\u001B[39m \u001B[38;5;28mself\u001B[39m\u001B[38;5;241m.\u001B[39mgrouper\u001B[38;5;241m.\u001B[39mapply_groupwise(f, data, \u001B[38;5;28mself\u001B[39m\u001B[38;5;241m.\u001B[39maxis)\n\u001B[0;32m   1820\u001B[0m     \u001B[38;5;28;01mif\u001B[39;00m not_indexed_same \u001B[38;5;129;01mis\u001B[39;00m \u001B[38;5;28;01mNone\u001B[39;00m:\n\u001B[0;32m   1821\u001B[0m         not_indexed_same \u001B[38;5;241m=\u001B[39m mutated\n",
      "File \u001B[1;32m~\\anaconda3\\envs\\myenv\\Lib\\site-packages\\pandas\\core\\groupby\\ops.py:895\u001B[0m, in \u001B[0;36mBaseGrouper.apply_groupwise\u001B[1;34m(self, f, data, axis)\u001B[0m\n\u001B[0;32m    892\u001B[0m \u001B[38;5;66;03m# This calls DataSplitter.__iter__\u001B[39;00m\n\u001B[0;32m    893\u001B[0m zipped \u001B[38;5;241m=\u001B[39m \u001B[38;5;28mzip\u001B[39m(group_keys, splitter)\n\u001B[1;32m--> 895\u001B[0m \u001B[38;5;28;01mfor\u001B[39;00m key, group \u001B[38;5;129;01min\u001B[39;00m zipped:\n\u001B[0;32m    896\u001B[0m     \u001B[38;5;66;03m# Pinning name is needed for\u001B[39;00m\n\u001B[0;32m    897\u001B[0m     \u001B[38;5;66;03m#  test_group_apply_once_per_group,\u001B[39;00m\n\u001B[0;32m    898\u001B[0m     \u001B[38;5;66;03m#  test_inconsistent_return_type, test_set_group_name,\u001B[39;00m\n\u001B[0;32m    899\u001B[0m     \u001B[38;5;66;03m#  test_group_name_available_in_inference_pass,\u001B[39;00m\n\u001B[0;32m    900\u001B[0m     \u001B[38;5;66;03m#  test_groupby_multi_timezone\u001B[39;00m\n\u001B[0;32m    901\u001B[0m     \u001B[38;5;28mobject\u001B[39m\u001B[38;5;241m.\u001B[39m\u001B[38;5;21m__setattr__\u001B[39m(group, \u001B[38;5;124m\"\u001B[39m\u001B[38;5;124mname\u001B[39m\u001B[38;5;124m\"\u001B[39m, key)\n\u001B[0;32m    903\u001B[0m     \u001B[38;5;66;03m# group might be modified\u001B[39;00m\n",
      "File \u001B[1;32m~\\anaconda3\\envs\\myenv\\Lib\\site-packages\\pandas\\core\\groupby\\ops.py:1149\u001B[0m, in \u001B[0;36mDataSplitter.__iter__\u001B[1;34m(self)\u001B[0m\n\u001B[0;32m   1146\u001B[0m starts, ends \u001B[38;5;241m=\u001B[39m lib\u001B[38;5;241m.\u001B[39mgenerate_slices(\u001B[38;5;28mself\u001B[39m\u001B[38;5;241m.\u001B[39m_slabels, \u001B[38;5;28mself\u001B[39m\u001B[38;5;241m.\u001B[39mngroups)\n\u001B[0;32m   1148\u001B[0m \u001B[38;5;28;01mfor\u001B[39;00m start, end \u001B[38;5;129;01min\u001B[39;00m \u001B[38;5;28mzip\u001B[39m(starts, ends):\n\u001B[1;32m-> 1149\u001B[0m     \u001B[38;5;28;01myield\u001B[39;00m \u001B[38;5;28mself\u001B[39m\u001B[38;5;241m.\u001B[39m_chop(sdata, \u001B[38;5;28mslice\u001B[39m(start, end))\n",
      "File \u001B[1;32m~\\anaconda3\\envs\\myenv\\Lib\\site-packages\\pandas\\core\\groupby\\ops.py:1175\u001B[0m, in \u001B[0;36mFrameSplitter._chop\u001B[1;34m(self, sdata, slice_obj)\u001B[0m\n\u001B[0;32m   1169\u001B[0m \u001B[38;5;28;01mdef\u001B[39;00m \u001B[38;5;21m_chop\u001B[39m(\u001B[38;5;28mself\u001B[39m, sdata: DataFrame, slice_obj: \u001B[38;5;28mslice\u001B[39m) \u001B[38;5;241m-\u001B[39m\u001B[38;5;241m>\u001B[39m DataFrame:\n\u001B[0;32m   1170\u001B[0m     \u001B[38;5;66;03m# Fastpath equivalent to:\u001B[39;00m\n\u001B[0;32m   1171\u001B[0m     \u001B[38;5;66;03m# if self.axis == 0:\u001B[39;00m\n\u001B[0;32m   1172\u001B[0m     \u001B[38;5;66;03m#     return sdata.iloc[slice_obj]\u001B[39;00m\n\u001B[0;32m   1173\u001B[0m     \u001B[38;5;66;03m# else:\u001B[39;00m\n\u001B[0;32m   1174\u001B[0m     \u001B[38;5;66;03m#     return sdata.iloc[:, slice_obj]\u001B[39;00m\n\u001B[1;32m-> 1175\u001B[0m     mgr \u001B[38;5;241m=\u001B[39m sdata\u001B[38;5;241m.\u001B[39m_mgr\u001B[38;5;241m.\u001B[39mget_slice(slice_obj, axis\u001B[38;5;241m=\u001B[39m\u001B[38;5;241m1\u001B[39m \u001B[38;5;241m-\u001B[39m \u001B[38;5;28mself\u001B[39m\u001B[38;5;241m.\u001B[39maxis)\n\u001B[0;32m   1176\u001B[0m     df \u001B[38;5;241m=\u001B[39m sdata\u001B[38;5;241m.\u001B[39m_constructor_from_mgr(mgr, axes\u001B[38;5;241m=\u001B[39mmgr\u001B[38;5;241m.\u001B[39maxes)\n\u001B[0;32m   1177\u001B[0m     \u001B[38;5;28;01mreturn\u001B[39;00m df\u001B[38;5;241m.\u001B[39m__finalize__(sdata, method\u001B[38;5;241m=\u001B[39m\u001B[38;5;124m\"\u001B[39m\u001B[38;5;124mgroupby\u001B[39m\u001B[38;5;124m\"\u001B[39m)\n",
      "\u001B[1;31mKeyboardInterrupt\u001B[0m: "
     ]
    }
   ],
   "source": [
    "timea = datetime.now()\n",
    "gpka_bykw = small_explosion.groupby('keywords').describe()\n",
    "print(datetime.now() - timea) # it takes too much time\n",
    "gpka_bykw"
   ],
   "metadata": {
    "collapsed": false,
    "ExecuteTime": {
     "end_time": "2023-11-13T15:49:04.599992Z",
     "start_time": "2023-11-13T15:45:13.175409Z"
    }
   }
  },
  {
   "cell_type": "markdown",
   "source": [
    "#### Filtering kw"
   ],
   "metadata": {
    "collapsed": false
   }
  },
  {
   "cell_type": "code",
   "execution_count": 12,
   "outputs": [],
   "source": [
    "ref_kw_use = ref_kw_less\n",
    "\n",
    "small_explosion_filter  = small_explosion[small_explosion.keywords.isin(ref_kw_use.keywords)]\n",
    "# restet index\n",
    "small_explosion_filter.reset_index(drop= True, inplace=True)\n",
    "# convert authors to list\n",
    "small_explosion_filter['authors'] = small_explosion_filter['authors'].apply(ast.literal_eval)"
   ],
   "metadata": {
    "collapsed": false,
    "ExecuteTime": {
     "end_time": "2023-11-13T15:49:10.064623700Z",
     "start_time": "2023-11-13T15:49:09.875830600Z"
    }
   }
  },
  {
   "cell_type": "code",
   "execution_count": 14,
   "outputs": [
    {
     "data": {
      "text/plain": "        gene pubmed_id            keywords  \\\ncount   2584      2584                2584   \nunique  1636       699                  36   \ntop     CFTR  31872004  Precision medicine   \nfreq      26       546                 720   \n\n                                                  authors  \ncount                                                2584  \nunique                                                705  \ntop     [{'author': 'Totomoch-Serra, Armando', 'author...  \nfreq                                                  546  ",
      "text/html": "<div>\n<style scoped>\n    .dataframe tbody tr th:only-of-type {\n        vertical-align: middle;\n    }\n\n    .dataframe tbody tr th {\n        vertical-align: top;\n    }\n\n    .dataframe thead th {\n        text-align: right;\n    }\n</style>\n<table border=\"1\" class=\"dataframe\">\n  <thead>\n    <tr style=\"text-align: right;\">\n      <th></th>\n      <th>gene</th>\n      <th>pubmed_id</th>\n      <th>keywords</th>\n      <th>authors</th>\n    </tr>\n  </thead>\n  <tbody>\n    <tr>\n      <th>count</th>\n      <td>2584</td>\n      <td>2584</td>\n      <td>2584</td>\n      <td>2584</td>\n    </tr>\n    <tr>\n      <th>unique</th>\n      <td>1636</td>\n      <td>699</td>\n      <td>36</td>\n      <td>705</td>\n    </tr>\n    <tr>\n      <th>top</th>\n      <td>CFTR</td>\n      <td>31872004</td>\n      <td>Precision medicine</td>\n      <td>[{'author': 'Totomoch-Serra, Armando', 'author...</td>\n    </tr>\n    <tr>\n      <th>freq</th>\n      <td>26</td>\n      <td>546</td>\n      <td>720</td>\n      <td>546</td>\n    </tr>\n  </tbody>\n</table>\n</div>"
     },
     "execution_count": 14,
     "metadata": {},
     "output_type": "execute_result"
    }
   ],
   "source": [
    "small_explosion_filter.describe()"
   ],
   "metadata": {
    "collapsed": false,
    "ExecuteTime": {
     "end_time": "2023-11-13T15:49:19.542502100Z",
     "start_time": "2023-11-13T15:49:19.360783400Z"
    }
   }
  },
  {
   "cell_type": "markdown",
   "source": [
    "#### explode authors"
   ],
   "metadata": {
    "collapsed": false
   }
  },
  {
   "cell_type": "code",
   "execution_count": 0,
   "outputs": [],
   "source": [
    "small_explosion_filter_exploded= small_explosion_filter.explode('authors')\n",
    "small_explosion_filter_exploded.reset_index(inplace=True, drop=True)\n",
    "small_explosion_filter_exploded#.describe()"
   ],
   "metadata": {
    "collapsed": false
   }
  },
  {
   "cell_type": "code",
   "execution_count": 20,
   "outputs": [
    {
     "data": {
      "text/plain": "{'author': 'Sundaramurthy, Srilekha',\n 'author_abbreviated': 'Sundaramurthy S',\n 'affiliations': ['1SN Oil and Natural Gas Corporation (ONGC) Department of Genetics & Molecular Biology, Vision Research Foundation, Chennai, India. srilekhasundar@gmail.com.'],\n 'first_name': 'Srilekha',\n 'last_name': 'Sundaramurthy'}"
     },
     "execution_count": 20,
     "metadata": {},
     "output_type": "execute_result"
    }
   ],
   "source": [
    "# check author data\n",
    "small_explosion_filter_exploded.authors[0]"
   ],
   "metadata": {
    "collapsed": false,
    "ExecuteTime": {
     "end_time": "2023-11-13T15:54:14.249755700Z",
     "start_time": "2023-11-13T15:54:14.184581800Z"
    }
   }
  },
  {
   "cell_type": "code",
   "execution_count": 21,
   "outputs": [
    {
     "data": {
      "text/plain": "         gene pubmed_id            keywords                  authors\n0      MT-ND1  33185731        Gene therapy  Sundaramurthy, Srilekha\n1      MT-ND1  33185731        Gene therapy       SelvaKumar, Ambika\n2      MT-ND1  33185731        Gene therapy             Ching, Jared\n3      MT-ND1  33185731        Gene therapy          Dharani, Vidhya\n4      MT-ND1  33185731        Gene therapy    Sarangapani, Sripriya\n...       ...       ...                 ...                      ...\n24064   USH1C  31586696        Gene therapy         Avraham, Karen B\n24065   CXCL8  31085105  Precision medicine             Yang, Gee Su\n24066   CXCL8  31085105  Precision medicine        Barnes, Natalie M\n24067   CXCL8  31085105  Precision medicine            Lyon, Debra E\n24068   CXCL8  31085105  Precision medicine          Dorsey, Susan G\n\n[24069 rows x 4 columns]",
      "text/html": "<div>\n<style scoped>\n    .dataframe tbody tr th:only-of-type {\n        vertical-align: middle;\n    }\n\n    .dataframe tbody tr th {\n        vertical-align: top;\n    }\n\n    .dataframe thead th {\n        text-align: right;\n    }\n</style>\n<table border=\"1\" class=\"dataframe\">\n  <thead>\n    <tr style=\"text-align: right;\">\n      <th></th>\n      <th>gene</th>\n      <th>pubmed_id</th>\n      <th>keywords</th>\n      <th>authors</th>\n    </tr>\n  </thead>\n  <tbody>\n    <tr>\n      <th>0</th>\n      <td>MT-ND1</td>\n      <td>33185731</td>\n      <td>Gene therapy</td>\n      <td>Sundaramurthy, Srilekha</td>\n    </tr>\n    <tr>\n      <th>1</th>\n      <td>MT-ND1</td>\n      <td>33185731</td>\n      <td>Gene therapy</td>\n      <td>SelvaKumar, Ambika</td>\n    </tr>\n    <tr>\n      <th>2</th>\n      <td>MT-ND1</td>\n      <td>33185731</td>\n      <td>Gene therapy</td>\n      <td>Ching, Jared</td>\n    </tr>\n    <tr>\n      <th>3</th>\n      <td>MT-ND1</td>\n      <td>33185731</td>\n      <td>Gene therapy</td>\n      <td>Dharani, Vidhya</td>\n    </tr>\n    <tr>\n      <th>4</th>\n      <td>MT-ND1</td>\n      <td>33185731</td>\n      <td>Gene therapy</td>\n      <td>Sarangapani, Sripriya</td>\n    </tr>\n    <tr>\n      <th>...</th>\n      <td>...</td>\n      <td>...</td>\n      <td>...</td>\n      <td>...</td>\n    </tr>\n    <tr>\n      <th>24064</th>\n      <td>USH1C</td>\n      <td>31586696</td>\n      <td>Gene therapy</td>\n      <td>Avraham, Karen B</td>\n    </tr>\n    <tr>\n      <th>24065</th>\n      <td>CXCL8</td>\n      <td>31085105</td>\n      <td>Precision medicine</td>\n      <td>Yang, Gee Su</td>\n    </tr>\n    <tr>\n      <th>24066</th>\n      <td>CXCL8</td>\n      <td>31085105</td>\n      <td>Precision medicine</td>\n      <td>Barnes, Natalie M</td>\n    </tr>\n    <tr>\n      <th>24067</th>\n      <td>CXCL8</td>\n      <td>31085105</td>\n      <td>Precision medicine</td>\n      <td>Lyon, Debra E</td>\n    </tr>\n    <tr>\n      <th>24068</th>\n      <td>CXCL8</td>\n      <td>31085105</td>\n      <td>Precision medicine</td>\n      <td>Dorsey, Susan G</td>\n    </tr>\n  </tbody>\n</table>\n<p>24069 rows × 4 columns</p>\n</div>"
     },
     "execution_count": 21,
     "metadata": {},
     "output_type": "execute_result"
    }
   ],
   "source": [
    "# prune authors name\n",
    "small_explosion_filter_exploded['authors'] = small_explosion_filter_exploded['authors'].apply(lambda x: x['author'])\n",
    "small_explosion_filter_exploded"
   ],
   "metadata": {
    "collapsed": false,
    "ExecuteTime": {
     "end_time": "2023-11-13T15:56:00.382654200Z",
     "start_time": "2023-11-13T15:56:00.310585100Z"
    }
   }
  },
  {
   "cell_type": "code",
   "execution_count": 62,
   "outputs": [],
   "source": [
    "if simple_bool('save it?'):\n",
    "    directory = r'grpm_surveys\\GPKA_surveys'\n",
    "    if not os.path.exists(directory):\n",
    "        os.makedirs(directory)\n",
    "    small_explosion_filter_exploded.to_csv(r\"grpm_surveys\\GPKA_surveys\\genetic-disease-therapy_single-author.csv\")"
   ],
   "metadata": {
    "collapsed": false,
    "ExecuteTime": {
     "end_time": "2023-11-13T16:31:52.379493600Z",
     "start_time": "2023-11-13T16:31:50.499381300Z"
    }
   }
  },
  {
   "cell_type": "code",
   "execution_count": 52,
   "outputs": [
    {
     "data": {
      "text/plain": "Index([      ('gene', 'count'),      ('gene', 'unique'),\n               ('gene', 'top'),        ('gene', 'freq'),\n        ('pubmed_id', 'count'), ('pubmed_id', 'unique'),\n          ('pubmed_id', 'top'),   ('pubmed_id', 'freq'),\n         ('keywords', 'count'),  ('keywords', 'unique'),\n           ('keywords', 'top'),    ('keywords', 'freq')],\n      dtype='object')"
     },
     "execution_count": 52,
     "metadata": {},
     "output_type": "execute_result"
    }
   ],
   "source": [
    "# groupby author\n",
    "grp2 = small_explosion_filter_exploded.groupby(by='authors').describe()\n",
    "\n",
    "grp2.columns = grp2.columns.to_flat_index()\n",
    "grp2.columns"
   ],
   "metadata": {
    "collapsed": false,
    "ExecuteTime": {
     "end_time": "2023-11-13T16:11:37.087991600Z",
     "start_time": "2023-11-13T16:11:16.818893Z"
    }
   }
  },
  {
   "cell_type": "code",
   "execution_count": 63,
   "outputs": [
    {
     "data": {
      "text/plain": "                               (gene, count) (gene, unique) (gene, top)  \\\nauthors                                                                   \nMuñoz, María de Lourdes                  546            546       SNTG2   \nTotomoch-Serra, Armando                  546            546       SNTG2   \nEscalante, Doris Pinto                   546            546       SNTG2   \nDíaz-Badillo, Álvaro                     546            546       SNTG2   \nDomínguez-Cruz, Miriam Givisay           546            546       SNTG2   \n...                                      ...            ...         ...   \nWinther, Michael D                         1              1      VKORC1   \nRussell, Jacquelyn Olivia                  1              1      CTNNB1   \nSumner, Susan J                            1              1       FADS1   \nSun, Huizhuo                               1              1       GAPDH   \nŠvara, Tanja                               1              1        OTX2   \n\n                               (gene, freq) (pubmed_id, count)  \\\nauthors                                                          \nMuñoz, María de Lourdes                   1                546   \nTotomoch-Serra, Armando                   1                546   \nEscalante, Doris Pinto                    1                546   \nDíaz-Badillo, Álvaro                      1                546   \nDomínguez-Cruz, Miriam Givisay            1                546   \n...                                     ...                ...   \nWinther, Michael D                        1                  1   \nRussell, Jacquelyn Olivia                 1                  1   \nSumner, Susan J                           1                  1   \nSun, Huizhuo                              1                  1   \nŠvara, Tanja                              1                  1   \n\n                               (pubmed_id, unique) (pubmed_id, top)  \\\nauthors                                                               \nMuñoz, María de Lourdes                          1         31872004   \nTotomoch-Serra, Armando                          1         31872004   \nEscalante, Doris Pinto                           1         31872004   \nDíaz-Badillo, Álvaro                             1         31872004   \nDomínguez-Cruz, Miriam Givisay                   1         31872004   \n...                                            ...              ...   \nWinther, Michael D                               1         29986700   \nRussell, Jacquelyn Olivia                        1         25457204   \nSumner, Susan J                                  1         27642271   \nSun, Huizhuo                                     1         30670068   \nŠvara, Tanja                                     1         31969185   \n\n                               (pubmed_id, freq) (keywords, count)  \\\nauthors                                                              \nMuñoz, María de Lourdes                      546               546   \nTotomoch-Serra, Armando                      546               546   \nEscalante, Doris Pinto                       546               546   \nDíaz-Badillo, Álvaro                         546               546   \nDomínguez-Cruz, Miriam Givisay               546               546   \n...                                          ...               ...   \nWinther, Michael D                             1                 1   \nRussell, Jacquelyn Olivia                      1                 1   \nSumner, Susan J                                1                 1   \nSun, Huizhuo                                   1                 1   \nŠvara, Tanja                                   1                 1   \n\n                               (keywords, unique)     (keywords, top)  \\\nauthors                                                                 \nMuñoz, María de Lourdes                         1     Genetic markers   \nTotomoch-Serra, Armando                         1     Genetic markers   \nEscalante, Doris Pinto                          1     Genetic markers   \nDíaz-Badillo, Álvaro                            1     Genetic markers   \nDomínguez-Cruz, Miriam Givisay                  1     Genetic markers   \n...                                           ...                 ...   \nWinther, Michael D                              1  Precision medicine   \nRussell, Jacquelyn Olivia                       1   Molecular therapy   \nSumner, Susan J                                 1  Precision medicine   \nSun, Huizhuo                                    1        Gene therapy   \nŠvara, Tanja                                    1  Precision medicine   \n\n                               (keywords, freq)  \nauthors                                          \nMuñoz, María de Lourdes                     546  \nTotomoch-Serra, Armando                     546  \nEscalante, Doris Pinto                      546  \nDíaz-Badillo, Álvaro                        546  \nDomínguez-Cruz, Miriam Givisay              546  \n...                                         ...  \nWinther, Michael D                            1  \nRussell, Jacquelyn Olivia                     1  \nSumner, Susan J                               1  \nSun, Huizhuo                                  1  \nŠvara, Tanja                                  1  \n\n[5591 rows x 12 columns]",
      "text/html": "<div>\n<style scoped>\n    .dataframe tbody tr th:only-of-type {\n        vertical-align: middle;\n    }\n\n    .dataframe tbody tr th {\n        vertical-align: top;\n    }\n\n    .dataframe thead th {\n        text-align: right;\n    }\n</style>\n<table border=\"1\" class=\"dataframe\">\n  <thead>\n    <tr style=\"text-align: right;\">\n      <th></th>\n      <th>(gene, count)</th>\n      <th>(gene, unique)</th>\n      <th>(gene, top)</th>\n      <th>(gene, freq)</th>\n      <th>(pubmed_id, count)</th>\n      <th>(pubmed_id, unique)</th>\n      <th>(pubmed_id, top)</th>\n      <th>(pubmed_id, freq)</th>\n      <th>(keywords, count)</th>\n      <th>(keywords, unique)</th>\n      <th>(keywords, top)</th>\n      <th>(keywords, freq)</th>\n    </tr>\n    <tr>\n      <th>authors</th>\n      <th></th>\n      <th></th>\n      <th></th>\n      <th></th>\n      <th></th>\n      <th></th>\n      <th></th>\n      <th></th>\n      <th></th>\n      <th></th>\n      <th></th>\n      <th></th>\n    </tr>\n  </thead>\n  <tbody>\n    <tr>\n      <th>Muñoz, María de Lourdes</th>\n      <td>546</td>\n      <td>546</td>\n      <td>SNTG2</td>\n      <td>1</td>\n      <td>546</td>\n      <td>1</td>\n      <td>31872004</td>\n      <td>546</td>\n      <td>546</td>\n      <td>1</td>\n      <td>Genetic markers</td>\n      <td>546</td>\n    </tr>\n    <tr>\n      <th>Totomoch-Serra, Armando</th>\n      <td>546</td>\n      <td>546</td>\n      <td>SNTG2</td>\n      <td>1</td>\n      <td>546</td>\n      <td>1</td>\n      <td>31872004</td>\n      <td>546</td>\n      <td>546</td>\n      <td>1</td>\n      <td>Genetic markers</td>\n      <td>546</td>\n    </tr>\n    <tr>\n      <th>Escalante, Doris Pinto</th>\n      <td>546</td>\n      <td>546</td>\n      <td>SNTG2</td>\n      <td>1</td>\n      <td>546</td>\n      <td>1</td>\n      <td>31872004</td>\n      <td>546</td>\n      <td>546</td>\n      <td>1</td>\n      <td>Genetic markers</td>\n      <td>546</td>\n    </tr>\n    <tr>\n      <th>Díaz-Badillo, Álvaro</th>\n      <td>546</td>\n      <td>546</td>\n      <td>SNTG2</td>\n      <td>1</td>\n      <td>546</td>\n      <td>1</td>\n      <td>31872004</td>\n      <td>546</td>\n      <td>546</td>\n      <td>1</td>\n      <td>Genetic markers</td>\n      <td>546</td>\n    </tr>\n    <tr>\n      <th>Domínguez-Cruz, Miriam Givisay</th>\n      <td>546</td>\n      <td>546</td>\n      <td>SNTG2</td>\n      <td>1</td>\n      <td>546</td>\n      <td>1</td>\n      <td>31872004</td>\n      <td>546</td>\n      <td>546</td>\n      <td>1</td>\n      <td>Genetic markers</td>\n      <td>546</td>\n    </tr>\n    <tr>\n      <th>...</th>\n      <td>...</td>\n      <td>...</td>\n      <td>...</td>\n      <td>...</td>\n      <td>...</td>\n      <td>...</td>\n      <td>...</td>\n      <td>...</td>\n      <td>...</td>\n      <td>...</td>\n      <td>...</td>\n      <td>...</td>\n    </tr>\n    <tr>\n      <th>Winther, Michael D</th>\n      <td>1</td>\n      <td>1</td>\n      <td>VKORC1</td>\n      <td>1</td>\n      <td>1</td>\n      <td>1</td>\n      <td>29986700</td>\n      <td>1</td>\n      <td>1</td>\n      <td>1</td>\n      <td>Precision medicine</td>\n      <td>1</td>\n    </tr>\n    <tr>\n      <th>Russell, Jacquelyn Olivia</th>\n      <td>1</td>\n      <td>1</td>\n      <td>CTNNB1</td>\n      <td>1</td>\n      <td>1</td>\n      <td>1</td>\n      <td>25457204</td>\n      <td>1</td>\n      <td>1</td>\n      <td>1</td>\n      <td>Molecular therapy</td>\n      <td>1</td>\n    </tr>\n    <tr>\n      <th>Sumner, Susan J</th>\n      <td>1</td>\n      <td>1</td>\n      <td>FADS1</td>\n      <td>1</td>\n      <td>1</td>\n      <td>1</td>\n      <td>27642271</td>\n      <td>1</td>\n      <td>1</td>\n      <td>1</td>\n      <td>Precision medicine</td>\n      <td>1</td>\n    </tr>\n    <tr>\n      <th>Sun, Huizhuo</th>\n      <td>1</td>\n      <td>1</td>\n      <td>GAPDH</td>\n      <td>1</td>\n      <td>1</td>\n      <td>1</td>\n      <td>30670068</td>\n      <td>1</td>\n      <td>1</td>\n      <td>1</td>\n      <td>Gene therapy</td>\n      <td>1</td>\n    </tr>\n    <tr>\n      <th>Švara, Tanja</th>\n      <td>1</td>\n      <td>1</td>\n      <td>OTX2</td>\n      <td>1</td>\n      <td>1</td>\n      <td>1</td>\n      <td>31969185</td>\n      <td>1</td>\n      <td>1</td>\n      <td>1</td>\n      <td>Precision medicine</td>\n      <td>1</td>\n    </tr>\n  </tbody>\n</table>\n<p>5591 rows × 12 columns</p>\n</div>"
     },
     "metadata": {},
     "output_type": "display_data"
    }
   ],
   "source": [
    "# sort authors by (choose index)\n",
    "num = 4\n",
    "grp2_sorted = grp2.sort_values(by=grp2.columns[num], ascending=False)\n",
    "if simple_bool('save csv?'):\n",
    "    grp2.to_csv('grpm_surveys\\GPKA_surveys\\genetic-disease-therapy_single-author_chart.csv')\n",
    "\n",
    "display(grp2_sorted)"
   ],
   "metadata": {
    "collapsed": false,
    "ExecuteTime": {
     "end_time": "2023-11-13T16:31:56.268216700Z",
     "start_time": "2023-11-13T16:31:54.817967500Z"
    }
   }
  },
  {
   "cell_type": "markdown",
   "source": [
    "#### Add journal"
   ],
   "metadata": {
    "collapsed": false
   }
  },
  {
   "cell_type": "code",
   "execution_count": 181,
   "outputs": [
    {
     "data": {
      "text/plain": "Index(['gene', 'pubmed_id', 'citation_owner', 'nlm_status',\n       'last_revision_date', 'electronic_issn', 'linking_issn',\n       'journal_volume', 'journal_issue', 'publication_date', 'title',\n       'abstract', 'authors', 'language', 'grants', 'publication_types',\n       'electronic_publication_date', 'place_of_publication',\n       'journal_abbreviated', 'journal', 'nlm_journal_id', 'descriptors',\n       'pmcid', 'keywords', 'conflict_of_interest', 'received_time',\n       'revised_time', 'accepted_time', 'pubmed_time', 'medline_time',\n       'entrez_time', 'pii', 'doi', 'publication_status', 'print_issn',\n       'pages'],\n      dtype='object')"
     },
     "execution_count": 181,
     "metadata": {},
     "output_type": "execute_result"
    }
   ],
   "source": [
    "dummy_nbib.columns"
   ],
   "metadata": {
    "collapsed": false
   }
  },
  {
   "cell_type": "code",
   "execution_count": 64,
   "outputs": [
    {
     "data": {
      "text/plain": "   pubmed_id                            journal  journal_abbreviated  \\\n0   29980632             Essays in biochemistry       Essays Biochem   \n1   29133631    Indian journal of ophthalmology  Indian J Ophthalmol   \n2   31996241  Orphanet journal of rare diseases  Orphanet J Rare Dis   \n3   34122299             Frontiers in neurology         Front Neurol   \n4   33159657                              Drugs                Drugs   \n..       ...                                ...                  ...   \n6   27612015                        Transfusion          Transfusion   \n8   12393480                              Blood                Blood   \n10  16371048                        Transfusion          Transfusion   \n11  15660834                        Transfusion          Transfusion   \n6   16855287             Nucleic acids research    Nucleic Acids Res   \n\n   nlm_journal_id publication_date  \n0         0043306      2018 Jul 20  \n1         0405376         2017 Nov  \n2       101266602      2020 Jan 29  \n3       101546899             2021  \n4         7600076         2021 Jan  \n..            ...              ...  \n6          417360         2016 Dec  \n8         7603509      2003 Jan 15  \n10         417360         2005 Dec  \n11         417360         2005 Feb  \n6         0411011             2006  \n\n[321363 rows x 5 columns]",
      "text/html": "<div>\n<style scoped>\n    .dataframe tbody tr th:only-of-type {\n        vertical-align: middle;\n    }\n\n    .dataframe tbody tr th {\n        vertical-align: top;\n    }\n\n    .dataframe thead th {\n        text-align: right;\n    }\n</style>\n<table border=\"1\" class=\"dataframe\">\n  <thead>\n    <tr style=\"text-align: right;\">\n      <th></th>\n      <th>pubmed_id</th>\n      <th>journal</th>\n      <th>journal_abbreviated</th>\n      <th>nlm_journal_id</th>\n      <th>publication_date</th>\n    </tr>\n  </thead>\n  <tbody>\n    <tr>\n      <th>0</th>\n      <td>29980632</td>\n      <td>Essays in biochemistry</td>\n      <td>Essays Biochem</td>\n      <td>0043306</td>\n      <td>2018 Jul 20</td>\n    </tr>\n    <tr>\n      <th>1</th>\n      <td>29133631</td>\n      <td>Indian journal of ophthalmology</td>\n      <td>Indian J Ophthalmol</td>\n      <td>0405376</td>\n      <td>2017 Nov</td>\n    </tr>\n    <tr>\n      <th>2</th>\n      <td>31996241</td>\n      <td>Orphanet journal of rare diseases</td>\n      <td>Orphanet J Rare Dis</td>\n      <td>101266602</td>\n      <td>2020 Jan 29</td>\n    </tr>\n    <tr>\n      <th>3</th>\n      <td>34122299</td>\n      <td>Frontiers in neurology</td>\n      <td>Front Neurol</td>\n      <td>101546899</td>\n      <td>2021</td>\n    </tr>\n    <tr>\n      <th>4</th>\n      <td>33159657</td>\n      <td>Drugs</td>\n      <td>Drugs</td>\n      <td>7600076</td>\n      <td>2021 Jan</td>\n    </tr>\n    <tr>\n      <th>...</th>\n      <td>...</td>\n      <td>...</td>\n      <td>...</td>\n      <td>...</td>\n      <td>...</td>\n    </tr>\n    <tr>\n      <th>6</th>\n      <td>27612015</td>\n      <td>Transfusion</td>\n      <td>Transfusion</td>\n      <td>417360</td>\n      <td>2016 Dec</td>\n    </tr>\n    <tr>\n      <th>8</th>\n      <td>12393480</td>\n      <td>Blood</td>\n      <td>Blood</td>\n      <td>7603509</td>\n      <td>2003 Jan 15</td>\n    </tr>\n    <tr>\n      <th>10</th>\n      <td>16371048</td>\n      <td>Transfusion</td>\n      <td>Transfusion</td>\n      <td>417360</td>\n      <td>2005 Dec</td>\n    </tr>\n    <tr>\n      <th>11</th>\n      <td>15660834</td>\n      <td>Transfusion</td>\n      <td>Transfusion</td>\n      <td>417360</td>\n      <td>2005 Feb</td>\n    </tr>\n    <tr>\n      <th>6</th>\n      <td>16855287</td>\n      <td>Nucleic acids research</td>\n      <td>Nucleic Acids Res</td>\n      <td>0411011</td>\n      <td>2006</td>\n    </tr>\n  </tbody>\n</table>\n<p>321363 rows × 5 columns</p>\n</div>"
     },
     "execution_count": 64,
     "metadata": {},
     "output_type": "execute_result"
    }
   ],
   "source": [
    "# choose columns\n",
    "cols = [\n",
    "    'pubmed_id',\n",
    "    'journal',\n",
    "    'journal_abbreviated',\n",
    "    'nlm_journal_id',\n",
    "    'publication_date'\n",
    "]\n",
    "dummy_pivot = dummy_nbib[cols].drop_duplicates()\n",
    "dummy_pivot"
   ],
   "metadata": {
    "collapsed": false,
    "ExecuteTime": {
     "end_time": "2023-11-13T16:32:04.955777100Z",
     "start_time": "2023-11-13T16:32:03.963948600Z"
    }
   }
  },
  {
   "cell_type": "code",
   "execution_count": 65,
   "outputs": [
    {
     "data": {
      "text/plain": "         gene pubmed_id            keywords                  authors  \\\n0      MT-ND1  33185731        Gene therapy  Sundaramurthy, Srilekha   \n1      MT-ND1  33185731        Gene therapy       SelvaKumar, Ambika   \n2      MT-ND1  33185731        Gene therapy             Ching, Jared   \n3      MT-ND1  33185731        Gene therapy          Dharani, Vidhya   \n4      MT-ND1  33185731        Gene therapy    Sarangapani, Sripriya   \n...       ...       ...                 ...                      ...   \n24392  COL2A1  32894162  Precision medicine   Agerholm, Jørgen Steen   \n24393   USH1C  31075354        Gene therapy               Ma, Yutian   \n24394   USH1C  31075354        Gene therapy           Wise, Andrew K   \n24395   USH1C  31075354        Gene therapy       Shepherd, Robert K   \n24396   USH1C  31075354        Gene therapy    Richardson, Rachael T   \n\n                                                 journal  \\\n0      Graefe's archive for clinical and experimental...   \n1      Graefe's archive for clinical and experimental...   \n2      Graefe's archive for clinical and experimental...   \n3      Graefe's archive for clinical and experimental...   \n4      Graefe's archive for clinical and experimental...   \n...                                                  ...   \n24392                      Acta veterinaria Scandinavica   \n24393                        Pharmacology & therapeutics   \n24394                        Pharmacology & therapeutics   \n24395                        Pharmacology & therapeutics   \n24396                        Pharmacology & therapeutics   \n\n                    journal_abbreviated nlm_journal_id publication_date  \n0      Graefes Arch Clin Exp Ophthalmol        8205248         2021 Sep  \n1      Graefes Arch Clin Exp Ophthalmol        8205248         2021 Sep  \n2      Graefes Arch Clin Exp Ophthalmol        8205248         2021 Sep  \n3      Graefes Arch Clin Exp Ophthalmol        8205248         2021 Sep  \n4      Graefes Arch Clin Exp Ophthalmol        8205248         2021 Sep  \n...                                 ...            ...              ...  \n24392                    Acta Vet Scand        0370400       2020 Sep 7  \n24393                    Pharmacol Ther        7905840         2019 Aug  \n24394                    Pharmacol Ther        7905840         2019 Aug  \n24395                    Pharmacol Ther        7905840         2019 Aug  \n24396                    Pharmacol Ther        7905840         2019 Aug  \n\n[24397 rows x 8 columns]",
      "text/html": "<div>\n<style scoped>\n    .dataframe tbody tr th:only-of-type {\n        vertical-align: middle;\n    }\n\n    .dataframe tbody tr th {\n        vertical-align: top;\n    }\n\n    .dataframe thead th {\n        text-align: right;\n    }\n</style>\n<table border=\"1\" class=\"dataframe\">\n  <thead>\n    <tr style=\"text-align: right;\">\n      <th></th>\n      <th>gene</th>\n      <th>pubmed_id</th>\n      <th>keywords</th>\n      <th>authors</th>\n      <th>journal</th>\n      <th>journal_abbreviated</th>\n      <th>nlm_journal_id</th>\n      <th>publication_date</th>\n    </tr>\n  </thead>\n  <tbody>\n    <tr>\n      <th>0</th>\n      <td>MT-ND1</td>\n      <td>33185731</td>\n      <td>Gene therapy</td>\n      <td>Sundaramurthy, Srilekha</td>\n      <td>Graefe's archive for clinical and experimental...</td>\n      <td>Graefes Arch Clin Exp Ophthalmol</td>\n      <td>8205248</td>\n      <td>2021 Sep</td>\n    </tr>\n    <tr>\n      <th>1</th>\n      <td>MT-ND1</td>\n      <td>33185731</td>\n      <td>Gene therapy</td>\n      <td>SelvaKumar, Ambika</td>\n      <td>Graefe's archive for clinical and experimental...</td>\n      <td>Graefes Arch Clin Exp Ophthalmol</td>\n      <td>8205248</td>\n      <td>2021 Sep</td>\n    </tr>\n    <tr>\n      <th>2</th>\n      <td>MT-ND1</td>\n      <td>33185731</td>\n      <td>Gene therapy</td>\n      <td>Ching, Jared</td>\n      <td>Graefe's archive for clinical and experimental...</td>\n      <td>Graefes Arch Clin Exp Ophthalmol</td>\n      <td>8205248</td>\n      <td>2021 Sep</td>\n    </tr>\n    <tr>\n      <th>3</th>\n      <td>MT-ND1</td>\n      <td>33185731</td>\n      <td>Gene therapy</td>\n      <td>Dharani, Vidhya</td>\n      <td>Graefe's archive for clinical and experimental...</td>\n      <td>Graefes Arch Clin Exp Ophthalmol</td>\n      <td>8205248</td>\n      <td>2021 Sep</td>\n    </tr>\n    <tr>\n      <th>4</th>\n      <td>MT-ND1</td>\n      <td>33185731</td>\n      <td>Gene therapy</td>\n      <td>Sarangapani, Sripriya</td>\n      <td>Graefe's archive for clinical and experimental...</td>\n      <td>Graefes Arch Clin Exp Ophthalmol</td>\n      <td>8205248</td>\n      <td>2021 Sep</td>\n    </tr>\n    <tr>\n      <th>...</th>\n      <td>...</td>\n      <td>...</td>\n      <td>...</td>\n      <td>...</td>\n      <td>...</td>\n      <td>...</td>\n      <td>...</td>\n      <td>...</td>\n    </tr>\n    <tr>\n      <th>24392</th>\n      <td>COL2A1</td>\n      <td>32894162</td>\n      <td>Precision medicine</td>\n      <td>Agerholm, Jørgen Steen</td>\n      <td>Acta veterinaria Scandinavica</td>\n      <td>Acta Vet Scand</td>\n      <td>0370400</td>\n      <td>2020 Sep 7</td>\n    </tr>\n    <tr>\n      <th>24393</th>\n      <td>USH1C</td>\n      <td>31075354</td>\n      <td>Gene therapy</td>\n      <td>Ma, Yutian</td>\n      <td>Pharmacology &amp; therapeutics</td>\n      <td>Pharmacol Ther</td>\n      <td>7905840</td>\n      <td>2019 Aug</td>\n    </tr>\n    <tr>\n      <th>24394</th>\n      <td>USH1C</td>\n      <td>31075354</td>\n      <td>Gene therapy</td>\n      <td>Wise, Andrew K</td>\n      <td>Pharmacology &amp; therapeutics</td>\n      <td>Pharmacol Ther</td>\n      <td>7905840</td>\n      <td>2019 Aug</td>\n    </tr>\n    <tr>\n      <th>24395</th>\n      <td>USH1C</td>\n      <td>31075354</td>\n      <td>Gene therapy</td>\n      <td>Shepherd, Robert K</td>\n      <td>Pharmacology &amp; therapeutics</td>\n      <td>Pharmacol Ther</td>\n      <td>7905840</td>\n      <td>2019 Aug</td>\n    </tr>\n    <tr>\n      <th>24396</th>\n      <td>USH1C</td>\n      <td>31075354</td>\n      <td>Gene therapy</td>\n      <td>Richardson, Rachael T</td>\n      <td>Pharmacology &amp; therapeutics</td>\n      <td>Pharmacol Ther</td>\n      <td>7905840</td>\n      <td>2019 Aug</td>\n    </tr>\n  </tbody>\n</table>\n<p>24397 rows × 8 columns</p>\n</div>"
     },
     "execution_count": 65,
     "metadata": {},
     "output_type": "execute_result"
    }
   ],
   "source": [
    "# merge dummy_pivot with\n",
    "gpkaj = pd.merge(small_explosion_filter_exploded, dummy_pivot, on='pubmed_id')\n",
    "gpkaj"
   ],
   "metadata": {
    "collapsed": false,
    "ExecuteTime": {
     "end_time": "2023-11-13T16:32:13.990818700Z",
     "start_time": "2023-11-13T16:32:13.807912800Z"
    }
   }
  },
  {
   "cell_type": "code",
   "execution_count": 66,
   "outputs": [],
   "source": [
    "\n",
    "if simple_bool('save it?'):\n",
    "    #name = input('filename tag?')\n",
    "    gpkaj.to_csv(r\"grpm_surveys\\GPKA_surveys\\GPKAJ_genetic-disease-therapy.csv\")"
   ],
   "metadata": {
    "collapsed": false,
    "ExecuteTime": {
     "end_time": "2023-11-13T16:32:19.244003700Z",
     "start_time": "2023-11-13T16:32:17.434911300Z"
    }
   }
  },
  {
   "cell_type": "markdown",
   "source": [
    "#### add impact"
   ],
   "metadata": {
    "collapsed": false
   }
  },
  {
   "cell_type": "code",
   "execution_count": 206,
   "outputs": [
    {
     "data": {
      "text/plain": "Index(['Sl. No.', 'Journal name', '2022 JIF'], dtype='object')"
     },
     "execution_count": 206,
     "metadata": {},
     "output_type": "execute_result"
    }
   ],
   "source": [
    "impact_df = pd.read_csv(r\"grpm_dataset\\grpm_db_pcg\\impact factor_2022.txt\")\n",
    "impact_df.columns"
   ],
   "metadata": {
    "collapsed": false
   }
  },
  {
   "cell_type": "code",
   "execution_count": 207,
   "outputs": [
    {
     "data": {
      "text/plain": "      Sl. No.                                       Journal name  2022 JIF\n0           1                 CA-A CANCER JOURNAL FOR CLINICIANS     254.7\n1           2                                             LANCET     168.9\n2           3                    NEW ENGLAND JOURNAL OF MEDICINE     158.5\n3           4   JAMA-JOURNAL OF THE AMERICAN MEDICAL ASSOCIATION     120.7\n4           5                      NATURE REVIEWS DRUG DISCOVERY     120.1\n...       ...                                                ...       ...\n9480     9481                      Slovenian Veterinary Research       0.1\n9481     9482                        WEST INDIAN MEDICAL JOURNAL       0.1\n9482     9483                                  ZKG INTERNATIONAL       0.1\n9483     9484  By exporting the selected data; you agree to t...       NaN\n9484     9485                       Copyright (c) 2023 Clarivate       NaN\n\n[9485 rows x 3 columns]",
      "text/html": "<div>\n<style scoped>\n    .dataframe tbody tr th:only-of-type {\n        vertical-align: middle;\n    }\n\n    .dataframe tbody tr th {\n        vertical-align: top;\n    }\n\n    .dataframe thead th {\n        text-align: right;\n    }\n</style>\n<table border=\"1\" class=\"dataframe\">\n  <thead>\n    <tr style=\"text-align: right;\">\n      <th></th>\n      <th>Sl. No.</th>\n      <th>Journal name</th>\n      <th>2022 JIF</th>\n    </tr>\n  </thead>\n  <tbody>\n    <tr>\n      <th>0</th>\n      <td>1</td>\n      <td>CA-A CANCER JOURNAL FOR CLINICIANS</td>\n      <td>254.7</td>\n    </tr>\n    <tr>\n      <th>1</th>\n      <td>2</td>\n      <td>LANCET</td>\n      <td>168.9</td>\n    </tr>\n    <tr>\n      <th>2</th>\n      <td>3</td>\n      <td>NEW ENGLAND JOURNAL OF MEDICINE</td>\n      <td>158.5</td>\n    </tr>\n    <tr>\n      <th>3</th>\n      <td>4</td>\n      <td>JAMA-JOURNAL OF THE AMERICAN MEDICAL ASSOCIATION</td>\n      <td>120.7</td>\n    </tr>\n    <tr>\n      <th>4</th>\n      <td>5</td>\n      <td>NATURE REVIEWS DRUG DISCOVERY</td>\n      <td>120.1</td>\n    </tr>\n    <tr>\n      <th>...</th>\n      <td>...</td>\n      <td>...</td>\n      <td>...</td>\n    </tr>\n    <tr>\n      <th>9480</th>\n      <td>9481</td>\n      <td>Slovenian Veterinary Research</td>\n      <td>0.1</td>\n    </tr>\n    <tr>\n      <th>9481</th>\n      <td>9482</td>\n      <td>WEST INDIAN MEDICAL JOURNAL</td>\n      <td>0.1</td>\n    </tr>\n    <tr>\n      <th>9482</th>\n      <td>9483</td>\n      <td>ZKG INTERNATIONAL</td>\n      <td>0.1</td>\n    </tr>\n    <tr>\n      <th>9483</th>\n      <td>9484</td>\n      <td>By exporting the selected data; you agree to t...</td>\n      <td>NaN</td>\n    </tr>\n    <tr>\n      <th>9484</th>\n      <td>9485</td>\n      <td>Copyright (c) 2023 Clarivate</td>\n      <td>NaN</td>\n    </tr>\n  </tbody>\n</table>\n<p>9485 rows × 3 columns</p>\n</div>"
     },
     "execution_count": 207,
     "metadata": {},
     "output_type": "execute_result"
    }
   ],
   "source": [
    "impact_df"
   ],
   "metadata": {
    "collapsed": false
   }
  },
  {
   "cell_type": "code",
   "execution_count": 193,
   "outputs": [
    {
     "data": {
      "text/plain": "         gene pubmed_id            keywords                  authors  \\\ncount   24397     24397               24397                    24397   \nunique   1636       699                  36                     5591   \ntop      TP53  31872004  Precision medicine  Muñoz, María de Lourdes   \nfreq      234      4368                6334                      546   \n\n              journal journal_abbreviated nlm_journal_id publication_date  \ncount           24397               24397          24397            24397  \nunique            358                 358            364              342  \ntop     Data in brief          Data Brief      101654995         2020 Feb  \nfreq             4841                4841           4841             4848  ",
      "text/html": "<div>\n<style scoped>\n    .dataframe tbody tr th:only-of-type {\n        vertical-align: middle;\n    }\n\n    .dataframe tbody tr th {\n        vertical-align: top;\n    }\n\n    .dataframe thead th {\n        text-align: right;\n    }\n</style>\n<table border=\"1\" class=\"dataframe\">\n  <thead>\n    <tr style=\"text-align: right;\">\n      <th></th>\n      <th>gene</th>\n      <th>pubmed_id</th>\n      <th>keywords</th>\n      <th>authors</th>\n      <th>journal</th>\n      <th>journal_abbreviated</th>\n      <th>nlm_journal_id</th>\n      <th>publication_date</th>\n    </tr>\n  </thead>\n  <tbody>\n    <tr>\n      <th>count</th>\n      <td>24397</td>\n      <td>24397</td>\n      <td>24397</td>\n      <td>24397</td>\n      <td>24397</td>\n      <td>24397</td>\n      <td>24397</td>\n      <td>24397</td>\n    </tr>\n    <tr>\n      <th>unique</th>\n      <td>1636</td>\n      <td>699</td>\n      <td>36</td>\n      <td>5591</td>\n      <td>358</td>\n      <td>358</td>\n      <td>364</td>\n      <td>342</td>\n    </tr>\n    <tr>\n      <th>top</th>\n      <td>TP53</td>\n      <td>31872004</td>\n      <td>Precision medicine</td>\n      <td>Muñoz, María de Lourdes</td>\n      <td>Data in brief</td>\n      <td>Data Brief</td>\n      <td>101654995</td>\n      <td>2020 Feb</td>\n    </tr>\n    <tr>\n      <th>freq</th>\n      <td>234</td>\n      <td>4368</td>\n      <td>6334</td>\n      <td>546</td>\n      <td>4841</td>\n      <td>4841</td>\n      <td>4841</td>\n      <td>4848</td>\n    </tr>\n  </tbody>\n</table>\n</div>"
     },
     "execution_count": 193,
     "metadata": {},
     "output_type": "execute_result"
    }
   ],
   "source": [
    "gpkaj.describe()"
   ],
   "metadata": {
    "collapsed": false
   }
  },
  {
   "cell_type": "code",
   "execution_count": 213,
   "outputs": [
    {
     "data": {
      "text/plain": "         gene pubmed_id           keywords               authors  \\\n0      MT-ND1  33335957       Gene therapy        Artika, I Made   \n1      MT-ND2  33335957       Gene therapy        Artika, I Made   \n2      MT-ND4  33335957       Gene therapy        Artika, I Made   \n3      MT-ND5  33335957       Gene therapy        Artika, I Made   \n4      MT-ND6  33335957       Gene therapy        Artika, I Made   \n...       ...       ...                ...                   ...   \n14549   PCSK9  33867421  Genetic diagnosis            Hori, Mika   \n14550   PCSK9  33867421  Genetic diagnosis         Matsuki, Kota   \n14551   PCSK9  33867421  Genetic diagnosis      Minamino, Tetsuo   \n14552   PCSK9  33867421  Genetic diagnosis      Yokoyama, Shinji   \n14553   PCSK9  33867421  Genetic diagnosis  Harada-Shiba, Mariko   \n\n                                         journal   journal_abbreviated  \\\n0                               genes & diseases             Genes Dis   \n1                               genes & diseases             Genes Dis   \n2                               genes & diseases             Genes Dis   \n3                               genes & diseases             Genes Dis   \n4                               genes & diseases             Genes Dis   \n...                                          ...                   ...   \n14549  journal of atherosclerosis and thrombosis  J Atheroscler Thromb   \n14550  journal of atherosclerosis and thrombosis  J Atheroscler Thromb   \n14551  journal of atherosclerosis and thrombosis  J Atheroscler Thromb   \n14552  journal of atherosclerosis and thrombosis  J Atheroscler Thromb   \n14553  journal of atherosclerosis and thrombosis  J Atheroscler Thromb   \n\n      nlm_journal_id publication_date  Sl. No.  \\\n0          101635967         2020 Dec     1026   \n1          101635967         2020 Dec     1026   \n2          101635967         2020 Dec     1026   \n3          101635967         2020 Dec     1026   \n4          101635967         2020 Dec     1026   \n...              ...              ...      ...   \n14549        9506298       2021 Jul 1     2271   \n14550        9506298       2021 Jul 1     2271   \n14551        9506298       2021 Jul 1     2271   \n14552        9506298       2021 Jul 1     2271   \n14553        9506298       2021 Jul 1     2271   \n\n                                    Journal name  2022 JIF  \n0                               genes & diseases       6.8  \n1                               genes & diseases       6.8  \n2                               genes & diseases       6.8  \n3                               genes & diseases       6.8  \n4                               genes & diseases       6.8  \n...                                          ...       ...  \n14549  journal of atherosclerosis and thrombosis       4.4  \n14550  journal of atherosclerosis and thrombosis       4.4  \n14551  journal of atherosclerosis and thrombosis       4.4  \n14552  journal of atherosclerosis and thrombosis       4.4  \n14553  journal of atherosclerosis and thrombosis       4.4  \n\n[14554 rows x 11 columns]",
      "text/html": "<div>\n<style scoped>\n    .dataframe tbody tr th:only-of-type {\n        vertical-align: middle;\n    }\n\n    .dataframe tbody tr th {\n        vertical-align: top;\n    }\n\n    .dataframe thead th {\n        text-align: right;\n    }\n</style>\n<table border=\"1\" class=\"dataframe\">\n  <thead>\n    <tr style=\"text-align: right;\">\n      <th></th>\n      <th>gene</th>\n      <th>pubmed_id</th>\n      <th>keywords</th>\n      <th>authors</th>\n      <th>journal</th>\n      <th>journal_abbreviated</th>\n      <th>nlm_journal_id</th>\n      <th>publication_date</th>\n      <th>Sl. No.</th>\n      <th>Journal name</th>\n      <th>2022 JIF</th>\n    </tr>\n  </thead>\n  <tbody>\n    <tr>\n      <th>0</th>\n      <td>MT-ND1</td>\n      <td>33335957</td>\n      <td>Gene therapy</td>\n      <td>Artika, I Made</td>\n      <td>genes &amp; diseases</td>\n      <td>Genes Dis</td>\n      <td>101635967</td>\n      <td>2020 Dec</td>\n      <td>1026</td>\n      <td>genes &amp; diseases</td>\n      <td>6.8</td>\n    </tr>\n    <tr>\n      <th>1</th>\n      <td>MT-ND2</td>\n      <td>33335957</td>\n      <td>Gene therapy</td>\n      <td>Artika, I Made</td>\n      <td>genes &amp; diseases</td>\n      <td>Genes Dis</td>\n      <td>101635967</td>\n      <td>2020 Dec</td>\n      <td>1026</td>\n      <td>genes &amp; diseases</td>\n      <td>6.8</td>\n    </tr>\n    <tr>\n      <th>2</th>\n      <td>MT-ND4</td>\n      <td>33335957</td>\n      <td>Gene therapy</td>\n      <td>Artika, I Made</td>\n      <td>genes &amp; diseases</td>\n      <td>Genes Dis</td>\n      <td>101635967</td>\n      <td>2020 Dec</td>\n      <td>1026</td>\n      <td>genes &amp; diseases</td>\n      <td>6.8</td>\n    </tr>\n    <tr>\n      <th>3</th>\n      <td>MT-ND5</td>\n      <td>33335957</td>\n      <td>Gene therapy</td>\n      <td>Artika, I Made</td>\n      <td>genes &amp; diseases</td>\n      <td>Genes Dis</td>\n      <td>101635967</td>\n      <td>2020 Dec</td>\n      <td>1026</td>\n      <td>genes &amp; diseases</td>\n      <td>6.8</td>\n    </tr>\n    <tr>\n      <th>4</th>\n      <td>MT-ND6</td>\n      <td>33335957</td>\n      <td>Gene therapy</td>\n      <td>Artika, I Made</td>\n      <td>genes &amp; diseases</td>\n      <td>Genes Dis</td>\n      <td>101635967</td>\n      <td>2020 Dec</td>\n      <td>1026</td>\n      <td>genes &amp; diseases</td>\n      <td>6.8</td>\n    </tr>\n    <tr>\n      <th>...</th>\n      <td>...</td>\n      <td>...</td>\n      <td>...</td>\n      <td>...</td>\n      <td>...</td>\n      <td>...</td>\n      <td>...</td>\n      <td>...</td>\n      <td>...</td>\n      <td>...</td>\n      <td>...</td>\n    </tr>\n    <tr>\n      <th>14549</th>\n      <td>PCSK9</td>\n      <td>33867421</td>\n      <td>Genetic diagnosis</td>\n      <td>Hori, Mika</td>\n      <td>journal of atherosclerosis and thrombosis</td>\n      <td>J Atheroscler Thromb</td>\n      <td>9506298</td>\n      <td>2021 Jul 1</td>\n      <td>2271</td>\n      <td>journal of atherosclerosis and thrombosis</td>\n      <td>4.4</td>\n    </tr>\n    <tr>\n      <th>14550</th>\n      <td>PCSK9</td>\n      <td>33867421</td>\n      <td>Genetic diagnosis</td>\n      <td>Matsuki, Kota</td>\n      <td>journal of atherosclerosis and thrombosis</td>\n      <td>J Atheroscler Thromb</td>\n      <td>9506298</td>\n      <td>2021 Jul 1</td>\n      <td>2271</td>\n      <td>journal of atherosclerosis and thrombosis</td>\n      <td>4.4</td>\n    </tr>\n    <tr>\n      <th>14551</th>\n      <td>PCSK9</td>\n      <td>33867421</td>\n      <td>Genetic diagnosis</td>\n      <td>Minamino, Tetsuo</td>\n      <td>journal of atherosclerosis and thrombosis</td>\n      <td>J Atheroscler Thromb</td>\n      <td>9506298</td>\n      <td>2021 Jul 1</td>\n      <td>2271</td>\n      <td>journal of atherosclerosis and thrombosis</td>\n      <td>4.4</td>\n    </tr>\n    <tr>\n      <th>14552</th>\n      <td>PCSK9</td>\n      <td>33867421</td>\n      <td>Genetic diagnosis</td>\n      <td>Yokoyama, Shinji</td>\n      <td>journal of atherosclerosis and thrombosis</td>\n      <td>J Atheroscler Thromb</td>\n      <td>9506298</td>\n      <td>2021 Jul 1</td>\n      <td>2271</td>\n      <td>journal of atherosclerosis and thrombosis</td>\n      <td>4.4</td>\n    </tr>\n    <tr>\n      <th>14553</th>\n      <td>PCSK9</td>\n      <td>33867421</td>\n      <td>Genetic diagnosis</td>\n      <td>Harada-Shiba, Mariko</td>\n      <td>journal of atherosclerosis and thrombosis</td>\n      <td>J Atheroscler Thromb</td>\n      <td>9506298</td>\n      <td>2021 Jul 1</td>\n      <td>2271</td>\n      <td>journal of atherosclerosis and thrombosis</td>\n      <td>4.4</td>\n    </tr>\n  </tbody>\n</table>\n<p>14554 rows × 11 columns</p>\n</div>"
     },
     "execution_count": 213,
     "metadata": {},
     "output_type": "execute_result"
    }
   ],
   "source": [
    "gpkaj2 = gpkaj.copy()\n",
    "impact_df['Journal name'] = impact_df['Journal name'].str.lower()\n",
    "gpkaj2['journal'] = gpkaj2['journal'].str.lower()\n",
    "gpkajif = pd.merge(gpkaj2, impact_df, left_on='journal', right_on='Journal name')\n",
    "gpkajif"
   ],
   "metadata": {
    "collapsed": false
   }
  },
  {
   "cell_type": "code",
   "execution_count": 220,
   "outputs": [],
   "source": [
    "gpkajif.columns\n",
    "cols= ['Sl. No.','Journal name']\n",
    "gpkajif.drop(cols, axis=1, inplace=True)"
   ],
   "metadata": {
    "collapsed": false
   }
  },
  {
   "cell_type": "code",
   "execution_count": 221,
   "outputs": [],
   "source": [
    "gpkajif.sort_values(by='2022 JIF',ascending=False).reset_index(drop=True).to_csv(r\"G:\\Altri computer\\Razor\\Nutrigenetica\\Bioinformatics\\GRPMX - Razor\\GRPMX db - Razor\\grpm_dataset\\grpm_db_pcg\\GPKAJIF_survey_special_issue.csv\")"
   ],
   "metadata": {
    "collapsed": false
   }
  },
  {
   "cell_type": "code",
   "execution_count": 209,
   "outputs": [
    {
     "data": {
      "text/plain": "         gene pubmed_id            keywords                  authors  \\\ncount   24397     24397               24397                    24397   \nunique   1636       699                  36                     5591   \ntop      TP53  31872004  Precision medicine  Muñoz, María de Lourdes   \nfreq      234      4368                6334                      546   \n\n              journal journal_abbreviated nlm_journal_id publication_date  \ncount           24397               24397          24397            24397  \nunique            358                 358            364              342  \ntop     data in brief          Data Brief      101654995         2020 Feb  \nfreq             4841                4841           4841             4848  ",
      "text/html": "<div>\n<style scoped>\n    .dataframe tbody tr th:only-of-type {\n        vertical-align: middle;\n    }\n\n    .dataframe tbody tr th {\n        vertical-align: top;\n    }\n\n    .dataframe thead th {\n        text-align: right;\n    }\n</style>\n<table border=\"1\" class=\"dataframe\">\n  <thead>\n    <tr style=\"text-align: right;\">\n      <th></th>\n      <th>gene</th>\n      <th>pubmed_id</th>\n      <th>keywords</th>\n      <th>authors</th>\n      <th>journal</th>\n      <th>journal_abbreviated</th>\n      <th>nlm_journal_id</th>\n      <th>publication_date</th>\n    </tr>\n  </thead>\n  <tbody>\n    <tr>\n      <th>count</th>\n      <td>24397</td>\n      <td>24397</td>\n      <td>24397</td>\n      <td>24397</td>\n      <td>24397</td>\n      <td>24397</td>\n      <td>24397</td>\n      <td>24397</td>\n    </tr>\n    <tr>\n      <th>unique</th>\n      <td>1636</td>\n      <td>699</td>\n      <td>36</td>\n      <td>5591</td>\n      <td>358</td>\n      <td>358</td>\n      <td>364</td>\n      <td>342</td>\n    </tr>\n    <tr>\n      <th>top</th>\n      <td>TP53</td>\n      <td>31872004</td>\n      <td>Precision medicine</td>\n      <td>Muñoz, María de Lourdes</td>\n      <td>data in brief</td>\n      <td>Data Brief</td>\n      <td>101654995</td>\n      <td>2020 Feb</td>\n    </tr>\n    <tr>\n      <th>freq</th>\n      <td>234</td>\n      <td>4368</td>\n      <td>6334</td>\n      <td>546</td>\n      <td>4841</td>\n      <td>4841</td>\n      <td>4841</td>\n      <td>4848</td>\n    </tr>\n  </tbody>\n</table>\n</div>"
     },
     "execution_count": 209,
     "metadata": {},
     "output_type": "execute_result"
    }
   ],
   "source": [
    "gpkajif[['gene', 'pubmed_id', 'keywords', 'authors', 'journal',\n",
    "'journal_abbreviated', 'nlm_journal_id', 'publication_date']].describe()"
   ],
   "metadata": {
    "collapsed": false
   }
  },
  {
   "cell_type": "code",
   "execution_count": 217,
   "outputs": [
    {
     "data": {
      "text/plain": "         gene pubmed_id            keywords                  authors  \\\ncount   24397     24397               24397                    24397   \nunique   1636       699                  36                     5591   \ntop      TP53  31872004  Precision medicine  Muñoz, María de Lourdes   \nfreq      234      4368                6334                      546   \n\n              journal journal_abbreviated nlm_journal_id publication_date  \ncount           24397               24397          24397            24397  \nunique            358                 358            364              342  \ntop     Data in brief          Data Brief      101654995         2020 Feb  \nfreq             4841                4841           4841             4848  ",
      "text/html": "<div>\n<style scoped>\n    .dataframe tbody tr th:only-of-type {\n        vertical-align: middle;\n    }\n\n    .dataframe tbody tr th {\n        vertical-align: top;\n    }\n\n    .dataframe thead th {\n        text-align: right;\n    }\n</style>\n<table border=\"1\" class=\"dataframe\">\n  <thead>\n    <tr style=\"text-align: right;\">\n      <th></th>\n      <th>gene</th>\n      <th>pubmed_id</th>\n      <th>keywords</th>\n      <th>authors</th>\n      <th>journal</th>\n      <th>journal_abbreviated</th>\n      <th>nlm_journal_id</th>\n      <th>publication_date</th>\n    </tr>\n  </thead>\n  <tbody>\n    <tr>\n      <th>count</th>\n      <td>24397</td>\n      <td>24397</td>\n      <td>24397</td>\n      <td>24397</td>\n      <td>24397</td>\n      <td>24397</td>\n      <td>24397</td>\n      <td>24397</td>\n    </tr>\n    <tr>\n      <th>unique</th>\n      <td>1636</td>\n      <td>699</td>\n      <td>36</td>\n      <td>5591</td>\n      <td>358</td>\n      <td>358</td>\n      <td>364</td>\n      <td>342</td>\n    </tr>\n    <tr>\n      <th>top</th>\n      <td>TP53</td>\n      <td>31872004</td>\n      <td>Precision medicine</td>\n      <td>Muñoz, María de Lourdes</td>\n      <td>Data in brief</td>\n      <td>Data Brief</td>\n      <td>101654995</td>\n      <td>2020 Feb</td>\n    </tr>\n    <tr>\n      <th>freq</th>\n      <td>234</td>\n      <td>4368</td>\n      <td>6334</td>\n      <td>546</td>\n      <td>4841</td>\n      <td>4841</td>\n      <td>4841</td>\n      <td>4848</td>\n    </tr>\n  </tbody>\n</table>\n</div>"
     },
     "execution_count": 217,
     "metadata": {},
     "output_type": "execute_result"
    }
   ],
   "source": [
    "gpkaj[['gene', 'pubmed_id', 'keywords', 'authors', 'journal',\n",
    "         'journal_abbreviated', 'nlm_journal_id', 'publication_date']].describe()"
   ],
   "metadata": {
    "collapsed": false
   }
  },
  {
   "cell_type": "code",
   "execution_count": 190,
   "outputs": [
    {
     "data": {
      "text/plain": "str"
     },
     "execution_count": 190,
     "metadata": {},
     "output_type": "execute_result"
    }
   ],
   "source": [
    "type(small_explosion_filter.pubmed_id[0]) #= small_explosion_filter.pubmed_id.astype(str)"
   ],
   "metadata": {
    "collapsed": false
   }
  },
  {
   "cell_type": "code",
   "execution_count": 71,
   "outputs": [
    {
     "data": {
      "text/plain": "                                                   (gene, count)  \\\nkeywords                                                           \nPrecision medicine                                           720   \nGene therapy                                                 212   \nNewborn screening                                            224   \nGenetic counseling                                           123   \nMolecular diagnosis                                          219   \nGenetic diagnosis                                            123   \nGene editing                                                  51   \nGenetic markers                                              647   \nGenetic screening                                             36   \nGene Therapy                                                  11   \nPersonalized therapy                                          19   \nPreimplantation genetic diagnosis                              9   \nMonogenic diseases                                            18   \nPersonalized Medicine                                         16   \nGenetic Testing                                                9   \nGenetic screening/counselling                                 45   \nNBS, Newborn screening                                         6   \nGene Editing                                                   3   \nMolecular therapy                                              6   \nNewborn screening (NBS)                                        2   \n*Precision medicine                                            5   \nInherited diseases                                             3   \nGenetic Counseling                                             3   \nChromosomal Abnormalities                                      2   \nGenetic markers set association study                         14   \nNewborn Screening                                              5   \nGenetic diagnosis; triallelic inheritance                      9   \nGenetic diagnosis panel                                        2   \nGenetic counseling.                                            2   \nDNA testing to predict blood groups                            2   \nPrecision medicine and personalized therapy                   12   \nPrecision medicine for AMD                                    10   \nPredictive Preventive Personalized Medicine (PP...             7   \nPredictive testing                                             3   \nDNA testing                                                    2   \nRNA testing                                                    4   \n\n                                                   (gene, unique) (gene, top)  \\\nkeywords                                                                        \nPrecision medicine                                            499        TP53   \nGene therapy                                                  154          F9   \nNewborn screening                                             121     SLC22A5   \nGenetic counseling                                             97       BRCA1   \nMolecular diagnosis                                           209         GLA   \nGenetic diagnosis                                             113        GJB2   \nGene editing                                                   42       PSEN2   \nGenetic markers                                               631        NPC1   \nGenetic screening                                              33        GJB2   \nGene Therapy                                                   10       IL17A   \nPersonalized therapy                                           18        TP53   \nPreimplantation genetic diagnosis                               8        CFTR   \nMonogenic diseases                                             18       CLVS1   \nPersonalized Medicine                                          16      PDGFRA   \nGenetic Testing                                                 9     CYP2C19   \nGenetic screening/counselling                                  45      PRPF31   \nNBS, Newborn screening                                          6         CBS   \nGene Editing                                                    3        TRIO   \nMolecular therapy                                               5      CTNNB1   \nNewborn screening (NBS)                                         2        CFTR   \n*Precision medicine                                             5       BUD13   \nInherited diseases                                              3       ABCA3   \nGenetic Counseling                                              3       BRCA2   \nChromosomal Abnormalities                                       2          F2   \nGenetic markers set association study                          14       PTGIS   \nNewborn Screening                                               5       MCCC2   \nGenetic diagnosis; triallelic inheritance                       9        MKKS   \nGenetic diagnosis panel                                         2        PCCA   \nGenetic counseling.                                             2      CYP1B1   \nDNA testing to predict blood groups                             2       RSRP1   \nPrecision medicine and personalized therapy                    12      CYP2D6   \nPrecision medicine for AMD                                     10        SYN3   \nPredictive Preventive Personalized Medicine (PP...              7     FASTKD3   \nPredictive testing                                              3     CHCHD10   \nDNA testing                                                     2       BRCA2   \nRNA testing                                                     4     CACNA1C   \n\n                                                   (gene, freq)  \\\nkeywords                                                          \nPrecision medicine                                           12   \nGene therapy                                                 10   \nNewborn screening                                            11   \nGenetic counseling                                            5   \nMolecular diagnosis                                           3   \nGenetic diagnosis                                             2   \nGene editing                                                  4   \nGenetic markers                                               3   \nGenetic screening                                             3   \nGene Therapy                                                  2   \nPersonalized therapy                                          2   \nPreimplantation genetic diagnosis                             2   \nMonogenic diseases                                            1   \nPersonalized Medicine                                         1   \nGenetic Testing                                               1   \nGenetic screening/counselling                                 1   \nNBS, Newborn screening                                        1   \nGene Editing                                                  1   \nMolecular therapy                                             2   \nNewborn screening (NBS)                                       1   \n*Precision medicine                                           1   \nInherited diseases                                            1   \nGenetic Counseling                                            1   \nChromosomal Abnormalities                                     1   \nGenetic markers set association study                         1   \nNewborn Screening                                             1   \nGenetic diagnosis; triallelic inheritance                     1   \nGenetic diagnosis panel                                       1   \nGenetic counseling.                                           1   \nDNA testing to predict blood groups                           1   \nPrecision medicine and personalized therapy                   1   \nPrecision medicine for AMD                                    1   \nPredictive Preventive Personalized Medicine (PP...            1   \nPredictive testing                                            1   \nDNA testing                                                   1   \nRNA testing                                                   1   \n\n                                                   (pubmed_id, count)  \\\nkeywords                                                                \nPrecision medicine                                                720   \nGene therapy                                                      212   \nNewborn screening                                                 224   \nGenetic counseling                                                123   \nMolecular diagnosis                                               219   \nGenetic diagnosis                                                 123   \nGene editing                                                       51   \nGenetic markers                                                   647   \nGenetic screening                                                  36   \nGene Therapy                                                       11   \nPersonalized therapy                                               19   \nPreimplantation genetic diagnosis                                   9   \nMonogenic diseases                                                 18   \nPersonalized Medicine                                              16   \nGenetic Testing                                                     9   \nGenetic screening/counselling                                      45   \nNBS, Newborn screening                                              6   \nGene Editing                                                        3   \nMolecular therapy                                                   6   \nNewborn screening (NBS)                                             2   \n*Precision medicine                                                 5   \nInherited diseases                                                  3   \nGenetic Counseling                                                  3   \nChromosomal Abnormalities                                           2   \nGenetic markers set association study                              14   \nNewborn Screening                                                   5   \nGenetic diagnosis; triallelic inheritance                           9   \nGenetic diagnosis panel                                             2   \nGenetic counseling.                                                 2   \nDNA testing to predict blood groups                                 2   \nPrecision medicine and personalized therapy                        12   \nPrecision medicine for AMD                                         10   \nPredictive Preventive Personalized Medicine (PP...                  7   \nPredictive testing                                                  3   \nDNA testing                                                         2   \nRNA testing                                                         4   \n\n                                                   (pubmed_id, unique)  \\\nkeywords                                                                 \nPrecision medicine                                                 176   \nGene therapy                                                       133   \nNewborn screening                                                  102   \nGenetic counseling                                                  60   \nMolecular diagnosis                                                 46   \nGenetic diagnosis                                                   41   \nGene editing                                                        27   \nGenetic markers                                                     20   \nGenetic screening                                                   20   \nGene Therapy                                                        10   \nPersonalized therapy                                                10   \nPreimplantation genetic diagnosis                                    9   \nMonogenic diseases                                                   9   \nPersonalized Medicine                                                8   \nGenetic Testing                                                      7   \nGenetic screening/counselling                                        6   \nNBS, Newborn screening                                               3   \nGene Editing                                                         3   \nMolecular therapy                                                    3   \nNewborn screening (NBS)                                              2   \n*Precision medicine                                                  2   \nInherited diseases                                                   2   \nGenetic Counseling                                                   2   \nChromosomal Abnormalities                                            1   \nGenetic markers set association study                                1   \nNewborn Screening                                                    1   \nGenetic diagnosis; triallelic inheritance                            1   \nGenetic diagnosis panel                                              1   \nGenetic counseling.                                                  1   \nDNA testing to predict blood groups                                  1   \nPrecision medicine and personalized therapy                          1   \nPrecision medicine for AMD                                           1   \nPredictive Preventive Personalized Medicine (PP...                   1   \nPredictive testing                                                   1   \nDNA testing                                                          1   \nRNA testing                                                          1   \n\n                                                   (pubmed_id, top)  \\\nkeywords                                                              \nPrecision medicine                                         31845553   \nGene therapy                                               34909657   \nNewborn screening                                          27578510   \nGenetic counseling                                         29929473   \nMolecular diagnosis                                        28912962   \nGenetic diagnosis                                          31203817   \nGene editing                                               33109263   \nGenetic markers                                            31872004   \nGenetic screening                                          23940833   \nGene Therapy                                               28670513   \nPersonalized therapy                                       30139386   \nPreimplantation genetic diagnosis                          30067729   \nMonogenic diseases                                         28779239   \nPersonalized Medicine                                      25769412   \nGenetic Testing                                            33078592   \nGenetic screening/counselling                              23847139   \nNBS, Newborn screening                                     31641591   \nGene Editing                                               31984132   \nMolecular therapy                                          32066410   \nNewborn screening (NBS)                                    34447658   \n*Precision medicine                                        30255797   \nInherited diseases                                         29411170   \nGenetic Counseling                                         31912679   \nChromosomal Abnormalities                                  34913295   \nGenetic markers set association study                      26795600   \nNewborn Screening                                          27033733   \nGenetic diagnosis; triallelic inheritance                  31196119   \nGenetic diagnosis panel                                    30186825   \nGenetic counseling.                                        26997777   \nDNA testing to predict blood groups                        24309423   \nPrecision medicine and personalized therapy                33858454   \nPrecision medicine for AMD                                 33732291   \nPredictive Preventive Personalized Medicine (PP...         34786033   \nPredictive testing                                         30220791   \nDNA testing                                                31065452   \nRNA testing                                                31453089   \n\n                                                   (pubmed_id, freq)  \\\nkeywords                                                               \nPrecision medicine                                                51   \nGene therapy                                                      15   \nNewborn screening                                                 33   \nGenetic counseling                                                 9   \nMolecular diagnosis                                               49   \nGenetic diagnosis                                                 19   \nGene editing                                                      12   \nGenetic markers                                                  546   \nGenetic screening                                                 13   \nGene Therapy                                                       2   \nPersonalized therapy                                               5   \nPreimplantation genetic diagnosis                                  1   \nMonogenic diseases                                                 7   \nPersonalized Medicine                                              7   \nGenetic Testing                                                    2   \nGenetic screening/counselling                                     26   \nNBS, Newborn screening                                             2   \nGene Editing                                                       1   \nMolecular therapy                                                  4   \nNewborn screening (NBS)                                            1   \n*Precision medicine                                                4   \nInherited diseases                                                 2   \nGenetic Counseling                                                 2   \nChromosomal Abnormalities                                          2   \nGenetic markers set association study                             14   \nNewborn Screening                                                  5   \nGenetic diagnosis; triallelic inheritance                          9   \nGenetic diagnosis panel                                            2   \nGenetic counseling.                                                2   \nDNA testing to predict blood groups                                2   \nPrecision medicine and personalized therapy                       12   \nPrecision medicine for AMD                                        10   \nPredictive Preventive Personalized Medicine (PP...                 7   \nPredictive testing                                                 3   \nDNA testing                                                        2   \nRNA testing                                                        4   \n\n                                                   (authors, count)  \\\nkeywords                                                              \nPrecision medicine                                              720   \nGene therapy                                                    212   \nNewborn screening                                               224   \nGenetic counseling                                              123   \nMolecular diagnosis                                             219   \nGenetic diagnosis                                               123   \nGene editing                                                     51   \nGenetic markers                                                 647   \nGenetic screening                                                36   \nGene Therapy                                                     11   \nPersonalized therapy                                             19   \nPreimplantation genetic diagnosis                                 9   \nMonogenic diseases                                               18   \nPersonalized Medicine                                            16   \nGenetic Testing                                                   9   \nGenetic screening/counselling                                    45   \nNBS, Newborn screening                                            6   \nGene Editing                                                      3   \nMolecular therapy                                                 6   \nNewborn screening (NBS)                                           2   \n*Precision medicine                                               5   \nInherited diseases                                                3   \nGenetic Counseling                                                3   \nChromosomal Abnormalities                                         2   \nGenetic markers set association study                            14   \nNewborn Screening                                                 5   \nGenetic diagnosis; triallelic inheritance                         9   \nGenetic diagnosis panel                                           2   \nGenetic counseling.                                               2   \nDNA testing to predict blood groups                               2   \nPrecision medicine and personalized therapy                      12   \nPrecision medicine for AMD                                       10   \nPredictive Preventive Personalized Medicine (PP...                7   \nPredictive testing                                                3   \nDNA testing                                                       2   \nRNA testing                                                       4   \n\n                                                   (authors, unique)  \\\nkeywords                                                               \nPrecision medicine                                               181   \nGene therapy                                                     133   \nNewborn screening                                                103   \nGenetic counseling                                                60   \nMolecular diagnosis                                               46   \nGenetic diagnosis                                                 41   \nGene editing                                                      27   \nGenetic markers                                                   20   \nGenetic screening                                                 20   \nGene Therapy                                                      10   \nPersonalized therapy                                              10   \nPreimplantation genetic diagnosis                                  9   \nMonogenic diseases                                                 9   \nPersonalized Medicine                                              8   \nGenetic Testing                                                    7   \nGenetic screening/counselling                                      6   \nNBS, Newborn screening                                             3   \nGene Editing                                                       3   \nMolecular therapy                                                  3   \nNewborn screening (NBS)                                            2   \n*Precision medicine                                                2   \nInherited diseases                                                 2   \nGenetic Counseling                                                 2   \nChromosomal Abnormalities                                          1   \nGenetic markers set association study                              1   \nNewborn Screening                                                  1   \nGenetic diagnosis; triallelic inheritance                          1   \nGenetic diagnosis panel                                            1   \nGenetic counseling.                                                1   \nDNA testing to predict blood groups                                1   \nPrecision medicine and personalized therapy                        1   \nPrecision medicine for AMD                                         1   \nPredictive Preventive Personalized Medicine (PP...                 1   \nPredictive testing                                                 1   \nDNA testing                                                        1   \nRNA testing                                                        1   \n\n                                                                                       (authors, top)  \\\nkeywords                                                                                                \nPrecision medicine                                  [{'author': 'Spiller, Wes', 'author_abbreviate...   \nGene therapy                                        [{'author': 'Khatri, Dharmendra Kumar', 'autho...   \nNewborn screening                                   [{'author': 'Park, Kyoung Jin', 'author_abbrev...   \nGenetic counseling                                  [{'author': 'Jia, Shuqin', 'author_abbreviated...   \nMolecular diagnosis                                 [{'author': 'Costa, Kárita Antunes', 'author_a...   \nGenetic diagnosis                                   [{'author': 'Arts, Peer', 'author_abbreviated'...   \nGene editing                                        [{'author': 'Eguizabal, C', 'author_abbreviate...   \nGenetic markers                                     [{'author': 'Totomoch-Serra, Armando', 'author...   \nGenetic screening                                   [{'author': 'Wagner, Jennifer K', 'author_abbr...   \nGene Therapy                                        [{'author': 'Zakikhan, Kobra', 'author_abbrevi...   \nPersonalized therapy                                [{'author': 'Zhao, Peng', 'author_abbreviated'...   \nPreimplantation genetic diagnosis                   [{'author': 'Piña-Aguilar, Raul Eduardo', 'aut...   \nMonogenic diseases                                  [{'author': 'Vivante, Asaf', 'author_abbreviat...   \nPersonalized Medicine                               [{'author': 'Frankwich, Karen A', 'author_abbr...   \nGenetic Testing                                     [{'author': 'Ha, Hyeong In', 'author_abbreviat...   \nGenetic screening/counselling                       [{'author': 'Wang, Xia', 'author_abbreviated':...   \nNBS, Newborn screening                              [{'author': 'Villani, Guglielmo R D', 'author_...   \nGene Editing                                        [{'author': 'Ilyas, Muhammad', 'author_abbrevi...   \nMolecular therapy                                   [{'author': 'Miele, Evelina', 'author_abbrevia...   \nNewborn screening (NBS)                             [{'author': 'Fustik, S', 'author_abbreviated':...   \n*Precision medicine                                 [{'author': 'Crawford, Dana C', 'author_abbrev...   \nInherited diseases                                  [{'author': 'Martinovich, Kelly M', 'author_ab...   \nGenetic Counseling                                  [{'author': 'Chao, Angel', 'author_abbreviated...   \nChromosomal Abnormalities                           [{'author': 'Fatemi, Nayeralsadat', 'author_ab...   \nGenetic markers set association study               [{'author': 'Choquet, Hélène', 'author_abbrevi...   \nNewborn Screening                                   [{'author': 'Forsyth, RaeLynn', 'author_abbrev...   \nGenetic diagnosis; triallelic inheritance           [{'author': 'Manara, Elena', 'author_abbreviat...   \nGenetic diagnosis panel                             [{'author': 'Wang, Yanyun', 'author_abbreviate...   \nGenetic counseling.                                 [{'author': 'Faiq, Muneeb', 'author_abbreviate...   \nDNA testing to predict blood groups                 [{'author': 'Reid, Marion E', 'author_abbrevia...   \nPrecision medicine and personalized therapy         [{'author': 'Bothos, E', 'author_abbreviated':...   \nPrecision medicine for AMD                          [{'author': 'Kenney, Maria Cristina', 'author_...   \nPredictive Preventive Personalized Medicine (PP...  [{'author': 'Koklesova, Lenka', 'author_abbrev...   \nPredictive testing                                  [{'author': 'Volk, Alexander E', 'author_abbre...   \nDNA testing                                         [{'author': 'Nicolussi, Arianna', 'author_abbr...   \nRNA testing                                         [{'author': 'Jankelson, Lior', 'author_abbrevi...   \n\n                                                   (authors, freq)  \nkeywords                                                            \nPrecision medicine                                              51  \nGene therapy                                                    15  \nNewborn screening                                               33  \nGenetic counseling                                               9  \nMolecular diagnosis                                             49  \nGenetic diagnosis                                               19  \nGene editing                                                    12  \nGenetic markers                                                546  \nGenetic screening                                               13  \nGene Therapy                                                     2  \nPersonalized therapy                                             5  \nPreimplantation genetic diagnosis                                1  \nMonogenic diseases                                               7  \nPersonalized Medicine                                            7  \nGenetic Testing                                                  2  \nGenetic screening/counselling                                   26  \nNBS, Newborn screening                                           2  \nGene Editing                                                     1  \nMolecular therapy                                                4  \nNewborn screening (NBS)                                          1  \n*Precision medicine                                              4  \nInherited diseases                                               2  \nGenetic Counseling                                               2  \nChromosomal Abnormalities                                        2  \nGenetic markers set association study                           14  \nNewborn Screening                                                5  \nGenetic diagnosis; triallelic inheritance                        9  \nGenetic diagnosis panel                                          2  \nGenetic counseling.                                              2  \nDNA testing to predict blood groups                              2  \nPrecision medicine and personalized therapy                     12  \nPrecision medicine for AMD                                      10  \nPredictive Preventive Personalized Medicine (PP...               7  \nPredictive testing                                               3  \nDNA testing                                                      2  \nRNA testing                                                      4  ",
      "text/html": "<div>\n<style scoped>\n    .dataframe tbody tr th:only-of-type {\n        vertical-align: middle;\n    }\n\n    .dataframe tbody tr th {\n        vertical-align: top;\n    }\n\n    .dataframe thead th {\n        text-align: right;\n    }\n</style>\n<table border=\"1\" class=\"dataframe\">\n  <thead>\n    <tr style=\"text-align: right;\">\n      <th></th>\n      <th>(gene, count)</th>\n      <th>(gene, unique)</th>\n      <th>(gene, top)</th>\n      <th>(gene, freq)</th>\n      <th>(pubmed_id, count)</th>\n      <th>(pubmed_id, unique)</th>\n      <th>(pubmed_id, top)</th>\n      <th>(pubmed_id, freq)</th>\n      <th>(authors, count)</th>\n      <th>(authors, unique)</th>\n      <th>(authors, top)</th>\n      <th>(authors, freq)</th>\n    </tr>\n    <tr>\n      <th>keywords</th>\n      <th></th>\n      <th></th>\n      <th></th>\n      <th></th>\n      <th></th>\n      <th></th>\n      <th></th>\n      <th></th>\n      <th></th>\n      <th></th>\n      <th></th>\n      <th></th>\n    </tr>\n  </thead>\n  <tbody>\n    <tr>\n      <th>Precision medicine</th>\n      <td>720</td>\n      <td>499</td>\n      <td>TP53</td>\n      <td>12</td>\n      <td>720</td>\n      <td>176</td>\n      <td>31845553</td>\n      <td>51</td>\n      <td>720</td>\n      <td>181</td>\n      <td>[{'author': 'Spiller, Wes', 'author_abbreviate...</td>\n      <td>51</td>\n    </tr>\n    <tr>\n      <th>Gene therapy</th>\n      <td>212</td>\n      <td>154</td>\n      <td>F9</td>\n      <td>10</td>\n      <td>212</td>\n      <td>133</td>\n      <td>34909657</td>\n      <td>15</td>\n      <td>212</td>\n      <td>133</td>\n      <td>[{'author': 'Khatri, Dharmendra Kumar', 'autho...</td>\n      <td>15</td>\n    </tr>\n    <tr>\n      <th>Newborn screening</th>\n      <td>224</td>\n      <td>121</td>\n      <td>SLC22A5</td>\n      <td>11</td>\n      <td>224</td>\n      <td>102</td>\n      <td>27578510</td>\n      <td>33</td>\n      <td>224</td>\n      <td>103</td>\n      <td>[{'author': 'Park, Kyoung Jin', 'author_abbrev...</td>\n      <td>33</td>\n    </tr>\n    <tr>\n      <th>Genetic counseling</th>\n      <td>123</td>\n      <td>97</td>\n      <td>BRCA1</td>\n      <td>5</td>\n      <td>123</td>\n      <td>60</td>\n      <td>29929473</td>\n      <td>9</td>\n      <td>123</td>\n      <td>60</td>\n      <td>[{'author': 'Jia, Shuqin', 'author_abbreviated...</td>\n      <td>9</td>\n    </tr>\n    <tr>\n      <th>Molecular diagnosis</th>\n      <td>219</td>\n      <td>209</td>\n      <td>GLA</td>\n      <td>3</td>\n      <td>219</td>\n      <td>46</td>\n      <td>28912962</td>\n      <td>49</td>\n      <td>219</td>\n      <td>46</td>\n      <td>[{'author': 'Costa, Kárita Antunes', 'author_a...</td>\n      <td>49</td>\n    </tr>\n    <tr>\n      <th>Genetic diagnosis</th>\n      <td>123</td>\n      <td>113</td>\n      <td>GJB2</td>\n      <td>2</td>\n      <td>123</td>\n      <td>41</td>\n      <td>31203817</td>\n      <td>19</td>\n      <td>123</td>\n      <td>41</td>\n      <td>[{'author': 'Arts, Peer', 'author_abbreviated'...</td>\n      <td>19</td>\n    </tr>\n    <tr>\n      <th>Gene editing</th>\n      <td>51</td>\n      <td>42</td>\n      <td>PSEN2</td>\n      <td>4</td>\n      <td>51</td>\n      <td>27</td>\n      <td>33109263</td>\n      <td>12</td>\n      <td>51</td>\n      <td>27</td>\n      <td>[{'author': 'Eguizabal, C', 'author_abbreviate...</td>\n      <td>12</td>\n    </tr>\n    <tr>\n      <th>Genetic markers</th>\n      <td>647</td>\n      <td>631</td>\n      <td>NPC1</td>\n      <td>3</td>\n      <td>647</td>\n      <td>20</td>\n      <td>31872004</td>\n      <td>546</td>\n      <td>647</td>\n      <td>20</td>\n      <td>[{'author': 'Totomoch-Serra, Armando', 'author...</td>\n      <td>546</td>\n    </tr>\n    <tr>\n      <th>Genetic screening</th>\n      <td>36</td>\n      <td>33</td>\n      <td>GJB2</td>\n      <td>3</td>\n      <td>36</td>\n      <td>20</td>\n      <td>23940833</td>\n      <td>13</td>\n      <td>36</td>\n      <td>20</td>\n      <td>[{'author': 'Wagner, Jennifer K', 'author_abbr...</td>\n      <td>13</td>\n    </tr>\n    <tr>\n      <th>Gene Therapy</th>\n      <td>11</td>\n      <td>10</td>\n      <td>IL17A</td>\n      <td>2</td>\n      <td>11</td>\n      <td>10</td>\n      <td>28670513</td>\n      <td>2</td>\n      <td>11</td>\n      <td>10</td>\n      <td>[{'author': 'Zakikhan, Kobra', 'author_abbrevi...</td>\n      <td>2</td>\n    </tr>\n    <tr>\n      <th>Personalized therapy</th>\n      <td>19</td>\n      <td>18</td>\n      <td>TP53</td>\n      <td>2</td>\n      <td>19</td>\n      <td>10</td>\n      <td>30139386</td>\n      <td>5</td>\n      <td>19</td>\n      <td>10</td>\n      <td>[{'author': 'Zhao, Peng', 'author_abbreviated'...</td>\n      <td>5</td>\n    </tr>\n    <tr>\n      <th>Preimplantation genetic diagnosis</th>\n      <td>9</td>\n      <td>8</td>\n      <td>CFTR</td>\n      <td>2</td>\n      <td>9</td>\n      <td>9</td>\n      <td>30067729</td>\n      <td>1</td>\n      <td>9</td>\n      <td>9</td>\n      <td>[{'author': 'Piña-Aguilar, Raul Eduardo', 'aut...</td>\n      <td>1</td>\n    </tr>\n    <tr>\n      <th>Monogenic diseases</th>\n      <td>18</td>\n      <td>18</td>\n      <td>CLVS1</td>\n      <td>1</td>\n      <td>18</td>\n      <td>9</td>\n      <td>28779239</td>\n      <td>7</td>\n      <td>18</td>\n      <td>9</td>\n      <td>[{'author': 'Vivante, Asaf', 'author_abbreviat...</td>\n      <td>7</td>\n    </tr>\n    <tr>\n      <th>Personalized Medicine</th>\n      <td>16</td>\n      <td>16</td>\n      <td>PDGFRA</td>\n      <td>1</td>\n      <td>16</td>\n      <td>8</td>\n      <td>25769412</td>\n      <td>7</td>\n      <td>16</td>\n      <td>8</td>\n      <td>[{'author': 'Frankwich, Karen A', 'author_abbr...</td>\n      <td>7</td>\n    </tr>\n    <tr>\n      <th>Genetic Testing</th>\n      <td>9</td>\n      <td>9</td>\n      <td>CYP2C19</td>\n      <td>1</td>\n      <td>9</td>\n      <td>7</td>\n      <td>33078592</td>\n      <td>2</td>\n      <td>9</td>\n      <td>7</td>\n      <td>[{'author': 'Ha, Hyeong In', 'author_abbreviat...</td>\n      <td>2</td>\n    </tr>\n    <tr>\n      <th>Genetic screening/counselling</th>\n      <td>45</td>\n      <td>45</td>\n      <td>PRPF31</td>\n      <td>1</td>\n      <td>45</td>\n      <td>6</td>\n      <td>23847139</td>\n      <td>26</td>\n      <td>45</td>\n      <td>6</td>\n      <td>[{'author': 'Wang, Xia', 'author_abbreviated':...</td>\n      <td>26</td>\n    </tr>\n    <tr>\n      <th>NBS, Newborn screening</th>\n      <td>6</td>\n      <td>6</td>\n      <td>CBS</td>\n      <td>1</td>\n      <td>6</td>\n      <td>3</td>\n      <td>31641591</td>\n      <td>2</td>\n      <td>6</td>\n      <td>3</td>\n      <td>[{'author': 'Villani, Guglielmo R D', 'author_...</td>\n      <td>2</td>\n    </tr>\n    <tr>\n      <th>Gene Editing</th>\n      <td>3</td>\n      <td>3</td>\n      <td>TRIO</td>\n      <td>1</td>\n      <td>3</td>\n      <td>3</td>\n      <td>31984132</td>\n      <td>1</td>\n      <td>3</td>\n      <td>3</td>\n      <td>[{'author': 'Ilyas, Muhammad', 'author_abbrevi...</td>\n      <td>1</td>\n    </tr>\n    <tr>\n      <th>Molecular therapy</th>\n      <td>6</td>\n      <td>5</td>\n      <td>CTNNB1</td>\n      <td>2</td>\n      <td>6</td>\n      <td>3</td>\n      <td>32066410</td>\n      <td>4</td>\n      <td>6</td>\n      <td>3</td>\n      <td>[{'author': 'Miele, Evelina', 'author_abbrevia...</td>\n      <td>4</td>\n    </tr>\n    <tr>\n      <th>Newborn screening (NBS)</th>\n      <td>2</td>\n      <td>2</td>\n      <td>CFTR</td>\n      <td>1</td>\n      <td>2</td>\n      <td>2</td>\n      <td>34447658</td>\n      <td>1</td>\n      <td>2</td>\n      <td>2</td>\n      <td>[{'author': 'Fustik, S', 'author_abbreviated':...</td>\n      <td>1</td>\n    </tr>\n    <tr>\n      <th>*Precision medicine</th>\n      <td>5</td>\n      <td>5</td>\n      <td>BUD13</td>\n      <td>1</td>\n      <td>5</td>\n      <td>2</td>\n      <td>30255797</td>\n      <td>4</td>\n      <td>5</td>\n      <td>2</td>\n      <td>[{'author': 'Crawford, Dana C', 'author_abbrev...</td>\n      <td>4</td>\n    </tr>\n    <tr>\n      <th>Inherited diseases</th>\n      <td>3</td>\n      <td>3</td>\n      <td>ABCA3</td>\n      <td>1</td>\n      <td>3</td>\n      <td>2</td>\n      <td>29411170</td>\n      <td>2</td>\n      <td>3</td>\n      <td>2</td>\n      <td>[{'author': 'Martinovich, Kelly M', 'author_ab...</td>\n      <td>2</td>\n    </tr>\n    <tr>\n      <th>Genetic Counseling</th>\n      <td>3</td>\n      <td>3</td>\n      <td>BRCA2</td>\n      <td>1</td>\n      <td>3</td>\n      <td>2</td>\n      <td>31912679</td>\n      <td>2</td>\n      <td>3</td>\n      <td>2</td>\n      <td>[{'author': 'Chao, Angel', 'author_abbreviated...</td>\n      <td>2</td>\n    </tr>\n    <tr>\n      <th>Chromosomal Abnormalities</th>\n      <td>2</td>\n      <td>2</td>\n      <td>F2</td>\n      <td>1</td>\n      <td>2</td>\n      <td>1</td>\n      <td>34913295</td>\n      <td>2</td>\n      <td>2</td>\n      <td>1</td>\n      <td>[{'author': 'Fatemi, Nayeralsadat', 'author_ab...</td>\n      <td>2</td>\n    </tr>\n    <tr>\n      <th>Genetic markers set association study</th>\n      <td>14</td>\n      <td>14</td>\n      <td>PTGIS</td>\n      <td>1</td>\n      <td>14</td>\n      <td>1</td>\n      <td>26795600</td>\n      <td>14</td>\n      <td>14</td>\n      <td>1</td>\n      <td>[{'author': 'Choquet, Hélène', 'author_abbrevi...</td>\n      <td>14</td>\n    </tr>\n    <tr>\n      <th>Newborn Screening</th>\n      <td>5</td>\n      <td>5</td>\n      <td>MCCC2</td>\n      <td>1</td>\n      <td>5</td>\n      <td>1</td>\n      <td>27033733</td>\n      <td>5</td>\n      <td>5</td>\n      <td>1</td>\n      <td>[{'author': 'Forsyth, RaeLynn', 'author_abbrev...</td>\n      <td>5</td>\n    </tr>\n    <tr>\n      <th>Genetic diagnosis; triallelic inheritance</th>\n      <td>9</td>\n      <td>9</td>\n      <td>MKKS</td>\n      <td>1</td>\n      <td>9</td>\n      <td>1</td>\n      <td>31196119</td>\n      <td>9</td>\n      <td>9</td>\n      <td>1</td>\n      <td>[{'author': 'Manara, Elena', 'author_abbreviat...</td>\n      <td>9</td>\n    </tr>\n    <tr>\n      <th>Genetic diagnosis panel</th>\n      <td>2</td>\n      <td>2</td>\n      <td>PCCA</td>\n      <td>1</td>\n      <td>2</td>\n      <td>1</td>\n      <td>30186825</td>\n      <td>2</td>\n      <td>2</td>\n      <td>1</td>\n      <td>[{'author': 'Wang, Yanyun', 'author_abbreviate...</td>\n      <td>2</td>\n    </tr>\n    <tr>\n      <th>Genetic counseling.</th>\n      <td>2</td>\n      <td>2</td>\n      <td>CYP1B1</td>\n      <td>1</td>\n      <td>2</td>\n      <td>1</td>\n      <td>26997777</td>\n      <td>2</td>\n      <td>2</td>\n      <td>1</td>\n      <td>[{'author': 'Faiq, Muneeb', 'author_abbreviate...</td>\n      <td>2</td>\n    </tr>\n    <tr>\n      <th>DNA testing to predict blood groups</th>\n      <td>2</td>\n      <td>2</td>\n      <td>RSRP1</td>\n      <td>1</td>\n      <td>2</td>\n      <td>1</td>\n      <td>24309423</td>\n      <td>2</td>\n      <td>2</td>\n      <td>1</td>\n      <td>[{'author': 'Reid, Marion E', 'author_abbrevia...</td>\n      <td>2</td>\n    </tr>\n    <tr>\n      <th>Precision medicine and personalized therapy</th>\n      <td>12</td>\n      <td>12</td>\n      <td>CYP2D6</td>\n      <td>1</td>\n      <td>12</td>\n      <td>1</td>\n      <td>33858454</td>\n      <td>12</td>\n      <td>12</td>\n      <td>1</td>\n      <td>[{'author': 'Bothos, E', 'author_abbreviated':...</td>\n      <td>12</td>\n    </tr>\n    <tr>\n      <th>Precision medicine for AMD</th>\n      <td>10</td>\n      <td>10</td>\n      <td>SYN3</td>\n      <td>1</td>\n      <td>10</td>\n      <td>1</td>\n      <td>33732291</td>\n      <td>10</td>\n      <td>10</td>\n      <td>1</td>\n      <td>[{'author': 'Kenney, Maria Cristina', 'author_...</td>\n      <td>10</td>\n    </tr>\n    <tr>\n      <th>Predictive Preventive Personalized Medicine (PPPM/3PM)</th>\n      <td>7</td>\n      <td>7</td>\n      <td>FASTKD3</td>\n      <td>1</td>\n      <td>7</td>\n      <td>1</td>\n      <td>34786033</td>\n      <td>7</td>\n      <td>7</td>\n      <td>1</td>\n      <td>[{'author': 'Koklesova, Lenka', 'author_abbrev...</td>\n      <td>7</td>\n    </tr>\n    <tr>\n      <th>Predictive testing</th>\n      <td>3</td>\n      <td>3</td>\n      <td>CHCHD10</td>\n      <td>1</td>\n      <td>3</td>\n      <td>1</td>\n      <td>30220791</td>\n      <td>3</td>\n      <td>3</td>\n      <td>1</td>\n      <td>[{'author': 'Volk, Alexander E', 'author_abbre...</td>\n      <td>3</td>\n    </tr>\n    <tr>\n      <th>DNA testing</th>\n      <td>2</td>\n      <td>2</td>\n      <td>BRCA2</td>\n      <td>1</td>\n      <td>2</td>\n      <td>1</td>\n      <td>31065452</td>\n      <td>2</td>\n      <td>2</td>\n      <td>1</td>\n      <td>[{'author': 'Nicolussi, Arianna', 'author_abbr...</td>\n      <td>2</td>\n    </tr>\n    <tr>\n      <th>RNA testing</th>\n      <td>4</td>\n      <td>4</td>\n      <td>CACNA1C</td>\n      <td>1</td>\n      <td>4</td>\n      <td>1</td>\n      <td>31453089</td>\n      <td>4</td>\n      <td>4</td>\n      <td>1</td>\n      <td>[{'author': 'Jankelson, Lior', 'author_abbrevi...</td>\n      <td>4</td>\n    </tr>\n  </tbody>\n</table>\n</div>"
     },
     "execution_count": 71,
     "metadata": {},
     "output_type": "execute_result"
    }
   ],
   "source": [
    "grp = small_explosion_filter.groupby(by='keywords').describe()\n",
    "grp.columns = grp.columns.to_flat_index()\n",
    "grp.sort_values(by=grp.columns[5],ascending=False)#.to_csv('grpm_surveys\\GPKA_surveys\\genetic-disease-therapy_report.csv')"
   ],
   "metadata": {
    "collapsed": false,
    "ExecuteTime": {
     "end_time": "2023-11-13T16:38:37.077624600Z",
     "start_time": "2023-11-13T16:38:36.709383300Z"
    }
   }
  },
  {
   "cell_type": "code",
   "execution_count": 63,
   "outputs": [
    {
     "data": {
      "text/plain": "('pubmed_id', 'unique')"
     },
     "execution_count": 63,
     "metadata": {},
     "output_type": "execute_result"
    }
   ],
   "source": [
    "grp.columns[5]"
   ],
   "metadata": {
    "collapsed": false
   }
  },
  {
   "cell_type": "markdown",
   "source": [
    "### Author access point"
   ],
   "metadata": {
    "collapsed": false
   }
  },
  {
   "cell_type": "code",
   "execution_count": 41,
   "outputs": [
    {
     "name": "stdout",
     "output_type": "stream",
     "text": [
      "First Author:\n",
      "Full Name: Manickam, Agaath Hedina\n",
      "Abbreviated Name: Manickam AH\n",
      "Affiliations: ['Molecular Genetics and Cancer Biology Laboratory, Department of Human Genetics and Molecular Biology, Bharathiar University, Coimbatore, Tami Nadu, India.']\n",
      "First Name: Agaath Hedina\n",
      "Last Name: Manickam\n"
     ]
    }
   ],
   "source": [
    "informations = [\n",
    "    {\n",
    "        'author': 'Manickam, Agaath Hedina',\n",
    "        'author_abbreviated': 'Manickam AH',\n",
    "        'affiliations': ['Molecular Genetics and Cancer Biology Laboratory, Department of Human Genetics and Molecular Biology, Bharathiar University, Coimbatore, Tami Nadu, India.'],\n",
    "        'first_name': 'Agaath Hedina',\n",
    "        'last_name': 'Manickam'\n",
    "    },\n",
    "    {\n",
    "        'author': 'Michael, Minu Jenifer',\n",
    "        'author_abbreviated': 'Michael MJ',\n",
    "        'affiliations': ['Molecular Genetics and Cancer Biology Laboratory, Department of Human Genetics and Molecular Biology, Bharathiar University, Coimbatore, Tami Nadu, India.'],\n",
    "        'first_name': 'Minu Jenifer',\n",
    "        'last_name': 'Michael'\n",
    "    },\n",
    "    {\n",
    "        'author': 'Ramasamy, Sivasamy',\n",
    "        'author_abbreviated': 'Ramasamy S',\n",
    "        'affiliations': ['Department of Human Genetics and Molecular Biology, Bharathiar University, Coimbatore, Tami Nadu, India.'],\n",
    "        'first_name': 'Sivasamy',\n",
    "        'last_name': 'Ramasamy'\n",
    "    }\n",
    "] # una lista di tre dizionari\n",
    "type(informations[1])\n",
    "first_author = informations[0]\n",
    "print(\"First Author:\")\n",
    "print(\"Full Name:\", first_author['author'])\n",
    "print(\"Abbreviated Name:\", first_author['author_abbreviated'])\n",
    "print(\"Affiliations:\", first_author['affiliations'])\n",
    "print(\"First Name:\", first_author['first_name'])\n",
    "print(\"Last Name:\", first_author['last_name'])"
   ],
   "metadata": {
    "collapsed": false
   }
  },
  {
   "cell_type": "code",
   "execution_count": 20,
   "outputs": [],
   "source": [
    "x = dummy_nbib.columns[1]"
   ],
   "metadata": {
    "collapsed": false
   }
  },
  {
   "cell_type": "code",
   "execution_count": 11,
   "metadata": {},
   "outputs": [
    {
     "data": {
      "text/plain": "      gene pubmed_id citation_owner          nlm_status last_revision_date  \\\n0    APOA1  33926105            NLM  PubMed-not-MEDLINE         2021-05-18   \n1    APOA1  28342064            NLM             MEDLINE         2022-04-08   \n2    APOA1  34696795            NLM             MEDLINE         2022-02-18   \n3    APOA1  32604774            NLM             MEDLINE         2021-03-31   \n4    APOA1  30891095            NLM  PubMed-not-MEDLINE         2020-09-28   \n..     ...       ...            ...                 ...                ...   \n383  APOA1  12950070            NLM             MEDLINE         2006-11-15   \n384  APOA1  10858436            NLM             MEDLINE         2021-02-12   \n385  APOA1  15900219            NLM             MEDLINE         2019-11-09   \n386  APOA1   3141894            NLM             MEDLINE         2006-11-15   \n387  APOA1  21355296            NLM             MEDLINE         2011-02-28   \n\n    electronic_issn linking_issn journal_volume journal_issue  \\\n0         2077-0383    2077-0383             10             9   \n1         1861-0692    1861-0684            106             9   \n2         1476-511X    1476-511X             20             1   \n3         2073-4409    2073-4409              9             6   \n4         1754-1611    1754-1611             13           NaN   \n..              ...          ...            ...           ...   \n383             NaN    1099-498X              5             9   \n384             NaN    0021-9258            275            35   \n385             NaN    1744-6872             15             6   \n386             NaN    0031-3998             24             2   \n387             NaN    1672-173X             42             1   \n\n    publication_date  ... revised_time accepted_time          pubmed_time  \\\n0        2021 Apr 26  ...   2021-04-16    2021-04-22  2021-05-01 06:00:00   \n1           2017 Sep  ...          NaN    2017-03-14  2017-03-28 06:00:00   \n2        2021 Oct 25  ...          NaN    2021-09-20  2021-10-27 06:00:00   \n3        2020 Jun 26  ...   2020-06-20    2020-06-22  2020-07-02 06:00:00   \n4               2019  ...          NaN    2018-12-09  2019-03-21 06:00:00   \n..               ...  ...          ...           ...                  ...   \n383         2003 Sep  ...          NaN           NaN  2003-09-02 05:00:00   \n384       2000 Sep 1  ...          NaN           NaN  2000-06-20 09:00:00   \n385         2005 Jun  ...          NaN           NaN  2005-05-19 09:00:00   \n386         1988 Aug  ...          NaN           NaN  1988-08-01 00:00:00   \n387         2011 Jan  ...          NaN           NaN  2011-03-02 06:00:00   \n\n            medline_time          entrez_time                       pii  \\\n0    2021-05-01 06:01:00  2021-04-30 01:34:00              jcm-10-01880   \n1    2018-07-14 06:00:00  2017-03-26 06:00:00                      1106   \n2    2022-02-19 06:00:00  2021-10-26 05:34:00                      1562   \n3    2021-04-01 06:00:00  2020-07-02 06:00:00            cells-09-01553   \n4    2019-03-21 06:01:00  2019-03-21 06:00:00                       130   \n..                   ...                  ...                       ...   \n383  2004-05-08 05:00:00  2003-09-02 05:00:00                       NaN   \n384  2000-10-07 11:01:00  2000-06-20 09:00:00     S0021-9258(19)61449-3   \n385  2005-12-16 09:00:00  2005-05-19 09:00:00  01213011-200506000-00011   \n386  1988-08-01 00:01:00  1988-08-01 00:00:00                       NaN   \n387  2012-01-18 06:00:00  2011-03-02 06:00:00                       NaN   \n\n                                  doi publication_status print_issn    pages  \n0                 10.3390/jcm10091880           epublish  2077-0383      NaN  \n1           10.1007/s00392-017-1106-1           ppublish  1861-0684  663-675  \n2          10.1186/s12944-021-01562-1           epublish        NaN      143  \n3                10.3390/cells9061553           epublish        NaN      NaN  \n4           10.1186/s13036-018-0130-7           epublish  1754-1611       19  \n..                                ...                ...        ...      ...  \n383                   10.1002/jgm.403           ppublish  1099-498X  795-802  \n384            10.1074/jbc.M002841200           ppublish  0021-9258  26821-7  \n385  10.1097/01213011-200506000-00011           ppublish  1744-6872    441-6  \n386  10.1203/00006450-198808000-00017           ppublish  0031-3998    222-8  \n387                               NaN           ppublish  1672-173X     32-6  \n\n[388 rows x 36 columns]",
      "text/html": "<div>\n<style scoped>\n    .dataframe tbody tr th:only-of-type {\n        vertical-align: middle;\n    }\n\n    .dataframe tbody tr th {\n        vertical-align: top;\n    }\n\n    .dataframe thead th {\n        text-align: right;\n    }\n</style>\n<table border=\"1\" class=\"dataframe\">\n  <thead>\n    <tr style=\"text-align: right;\">\n      <th></th>\n      <th>gene</th>\n      <th>pubmed_id</th>\n      <th>citation_owner</th>\n      <th>nlm_status</th>\n      <th>last_revision_date</th>\n      <th>electronic_issn</th>\n      <th>linking_issn</th>\n      <th>journal_volume</th>\n      <th>journal_issue</th>\n      <th>publication_date</th>\n      <th>...</th>\n      <th>revised_time</th>\n      <th>accepted_time</th>\n      <th>pubmed_time</th>\n      <th>medline_time</th>\n      <th>entrez_time</th>\n      <th>pii</th>\n      <th>doi</th>\n      <th>publication_status</th>\n      <th>print_issn</th>\n      <th>pages</th>\n    </tr>\n  </thead>\n  <tbody>\n    <tr>\n      <th>0</th>\n      <td>APOA1</td>\n      <td>33926105</td>\n      <td>NLM</td>\n      <td>PubMed-not-MEDLINE</td>\n      <td>2021-05-18</td>\n      <td>2077-0383</td>\n      <td>2077-0383</td>\n      <td>10</td>\n      <td>9</td>\n      <td>2021 Apr 26</td>\n      <td>...</td>\n      <td>2021-04-16</td>\n      <td>2021-04-22</td>\n      <td>2021-05-01 06:00:00</td>\n      <td>2021-05-01 06:01:00</td>\n      <td>2021-04-30 01:34:00</td>\n      <td>jcm-10-01880</td>\n      <td>10.3390/jcm10091880</td>\n      <td>epublish</td>\n      <td>2077-0383</td>\n      <td>NaN</td>\n    </tr>\n    <tr>\n      <th>1</th>\n      <td>APOA1</td>\n      <td>28342064</td>\n      <td>NLM</td>\n      <td>MEDLINE</td>\n      <td>2022-04-08</td>\n      <td>1861-0692</td>\n      <td>1861-0684</td>\n      <td>106</td>\n      <td>9</td>\n      <td>2017 Sep</td>\n      <td>...</td>\n      <td>NaN</td>\n      <td>2017-03-14</td>\n      <td>2017-03-28 06:00:00</td>\n      <td>2018-07-14 06:00:00</td>\n      <td>2017-03-26 06:00:00</td>\n      <td>1106</td>\n      <td>10.1007/s00392-017-1106-1</td>\n      <td>ppublish</td>\n      <td>1861-0684</td>\n      <td>663-675</td>\n    </tr>\n    <tr>\n      <th>2</th>\n      <td>APOA1</td>\n      <td>34696795</td>\n      <td>NLM</td>\n      <td>MEDLINE</td>\n      <td>2022-02-18</td>\n      <td>1476-511X</td>\n      <td>1476-511X</td>\n      <td>20</td>\n      <td>1</td>\n      <td>2021 Oct 25</td>\n      <td>...</td>\n      <td>NaN</td>\n      <td>2021-09-20</td>\n      <td>2021-10-27 06:00:00</td>\n      <td>2022-02-19 06:00:00</td>\n      <td>2021-10-26 05:34:00</td>\n      <td>1562</td>\n      <td>10.1186/s12944-021-01562-1</td>\n      <td>epublish</td>\n      <td>NaN</td>\n      <td>143</td>\n    </tr>\n    <tr>\n      <th>3</th>\n      <td>APOA1</td>\n      <td>32604774</td>\n      <td>NLM</td>\n      <td>MEDLINE</td>\n      <td>2021-03-31</td>\n      <td>2073-4409</td>\n      <td>2073-4409</td>\n      <td>9</td>\n      <td>6</td>\n      <td>2020 Jun 26</td>\n      <td>...</td>\n      <td>2020-06-20</td>\n      <td>2020-06-22</td>\n      <td>2020-07-02 06:00:00</td>\n      <td>2021-04-01 06:00:00</td>\n      <td>2020-07-02 06:00:00</td>\n      <td>cells-09-01553</td>\n      <td>10.3390/cells9061553</td>\n      <td>epublish</td>\n      <td>NaN</td>\n      <td>NaN</td>\n    </tr>\n    <tr>\n      <th>4</th>\n      <td>APOA1</td>\n      <td>30891095</td>\n      <td>NLM</td>\n      <td>PubMed-not-MEDLINE</td>\n      <td>2020-09-28</td>\n      <td>1754-1611</td>\n      <td>1754-1611</td>\n      <td>13</td>\n      <td>NaN</td>\n      <td>2019</td>\n      <td>...</td>\n      <td>NaN</td>\n      <td>2018-12-09</td>\n      <td>2019-03-21 06:00:00</td>\n      <td>2019-03-21 06:01:00</td>\n      <td>2019-03-21 06:00:00</td>\n      <td>130</td>\n      <td>10.1186/s13036-018-0130-7</td>\n      <td>epublish</td>\n      <td>1754-1611</td>\n      <td>19</td>\n    </tr>\n    <tr>\n      <th>...</th>\n      <td>...</td>\n      <td>...</td>\n      <td>...</td>\n      <td>...</td>\n      <td>...</td>\n      <td>...</td>\n      <td>...</td>\n      <td>...</td>\n      <td>...</td>\n      <td>...</td>\n      <td>...</td>\n      <td>...</td>\n      <td>...</td>\n      <td>...</td>\n      <td>...</td>\n      <td>...</td>\n      <td>...</td>\n      <td>...</td>\n      <td>...</td>\n      <td>...</td>\n      <td>...</td>\n    </tr>\n    <tr>\n      <th>383</th>\n      <td>APOA1</td>\n      <td>12950070</td>\n      <td>NLM</td>\n      <td>MEDLINE</td>\n      <td>2006-11-15</td>\n      <td>NaN</td>\n      <td>1099-498X</td>\n      <td>5</td>\n      <td>9</td>\n      <td>2003 Sep</td>\n      <td>...</td>\n      <td>NaN</td>\n      <td>NaN</td>\n      <td>2003-09-02 05:00:00</td>\n      <td>2004-05-08 05:00:00</td>\n      <td>2003-09-02 05:00:00</td>\n      <td>NaN</td>\n      <td>10.1002/jgm.403</td>\n      <td>ppublish</td>\n      <td>1099-498X</td>\n      <td>795-802</td>\n    </tr>\n    <tr>\n      <th>384</th>\n      <td>APOA1</td>\n      <td>10858436</td>\n      <td>NLM</td>\n      <td>MEDLINE</td>\n      <td>2021-02-12</td>\n      <td>NaN</td>\n      <td>0021-9258</td>\n      <td>275</td>\n      <td>35</td>\n      <td>2000 Sep 1</td>\n      <td>...</td>\n      <td>NaN</td>\n      <td>NaN</td>\n      <td>2000-06-20 09:00:00</td>\n      <td>2000-10-07 11:01:00</td>\n      <td>2000-06-20 09:00:00</td>\n      <td>S0021-9258(19)61449-3</td>\n      <td>10.1074/jbc.M002841200</td>\n      <td>ppublish</td>\n      <td>0021-9258</td>\n      <td>26821-7</td>\n    </tr>\n    <tr>\n      <th>385</th>\n      <td>APOA1</td>\n      <td>15900219</td>\n      <td>NLM</td>\n      <td>MEDLINE</td>\n      <td>2019-11-09</td>\n      <td>NaN</td>\n      <td>1744-6872</td>\n      <td>15</td>\n      <td>6</td>\n      <td>2005 Jun</td>\n      <td>...</td>\n      <td>NaN</td>\n      <td>NaN</td>\n      <td>2005-05-19 09:00:00</td>\n      <td>2005-12-16 09:00:00</td>\n      <td>2005-05-19 09:00:00</td>\n      <td>01213011-200506000-00011</td>\n      <td>10.1097/01213011-200506000-00011</td>\n      <td>ppublish</td>\n      <td>1744-6872</td>\n      <td>441-6</td>\n    </tr>\n    <tr>\n      <th>386</th>\n      <td>APOA1</td>\n      <td>3141894</td>\n      <td>NLM</td>\n      <td>MEDLINE</td>\n      <td>2006-11-15</td>\n      <td>NaN</td>\n      <td>0031-3998</td>\n      <td>24</td>\n      <td>2</td>\n      <td>1988 Aug</td>\n      <td>...</td>\n      <td>NaN</td>\n      <td>NaN</td>\n      <td>1988-08-01 00:00:00</td>\n      <td>1988-08-01 00:01:00</td>\n      <td>1988-08-01 00:00:00</td>\n      <td>NaN</td>\n      <td>10.1203/00006450-198808000-00017</td>\n      <td>ppublish</td>\n      <td>0031-3998</td>\n      <td>222-8</td>\n    </tr>\n    <tr>\n      <th>387</th>\n      <td>APOA1</td>\n      <td>21355296</td>\n      <td>NLM</td>\n      <td>MEDLINE</td>\n      <td>2011-02-28</td>\n      <td>NaN</td>\n      <td>1672-173X</td>\n      <td>42</td>\n      <td>1</td>\n      <td>2011 Jan</td>\n      <td>...</td>\n      <td>NaN</td>\n      <td>NaN</td>\n      <td>2011-03-02 06:00:00</td>\n      <td>2012-01-18 06:00:00</td>\n      <td>2011-03-02 06:00:00</td>\n      <td>NaN</td>\n      <td>NaN</td>\n      <td>ppublish</td>\n      <td>1672-173X</td>\n      <td>32-6</td>\n    </tr>\n  </tbody>\n</table>\n<p>388 rows × 36 columns</p>\n</div>"
     },
     "execution_count": 11,
     "metadata": {},
     "output_type": "execute_result"
    }
   ],
   "source": [
    "#gene nbib lookup\n",
    "gene = 'APOA1'\n",
    "\n",
    "gene_nbib = dummy_nbib.loc[dummy_nbib['gene'] == gene]\n",
    "gene_nbib['descriptors']#.iloc[0]\n",
    "gene_nbib"
   ]
  },
  {
   "cell_type": "code",
   "execution_count": null,
   "metadata": {},
   "outputs": [],
   "source": [
    "#mask full nbib with filtered pmids for gene query:\n",
    "mask = gene_nbib.pubmed_id.isin(gene_filtered_grpm.pmids)\n",
    "gene_nbib_filtered = gene_nbib[mask]\n",
    "gene_nbib_filtered.abstract#.to_clipboard()\n",
    "\n",
    "#filter for rsid\n",
    "gene_filtered_grpm_rsid = gene_filtered_grpm[gene_filtered_grpm.rsid == 'rs2266788']\n",
    "\n",
    "mask = gene_nbib.pubmed_id.isin(gene_filtered_grpm_rsid.pmids)\n",
    "gene_nbib_filtered_rsid = gene_nbib[mask]\n",
    "\n",
    "gene_nbib_filtered.abstract#.to_clipboard()"
   ]
  },
  {
   "cell_type": "code",
   "execution_count": null,
   "metadata": {},
   "outputs": [],
   "source": [
    "gene_pmids = list(gene_nbib['pubmed_id'].drop_duplicates())#.to_clipboard(index=False) # --> to VEP http://www.ensembl.org/Tools/VEP\n",
    "query = \" OR \".join(gene_pmids)\n",
    "pyperclip.copy(query)"
   ]
  },
  {
   "cell_type": "markdown",
   "metadata": {},
   "source": [
    "## Import GRPM data from Dataset\n"
   ]
  },
  {
   "cell_type": "code",
   "execution_count": null,
   "metadata": {},
   "outputs": [],
   "source": [
    "# IMPORT FULL GRPM DATASET FROM DATABESE----------------------------------\n",
    "time2 = datetime.now()\n",
    "\n",
    "#import gene-rsidpmidmesh\n",
    "pcg_grpm = pd.read_csv('grpm_dataset/grpm_db_pcg/grpm_table_output.csv', index_col=0, dtype={'pmids': str})\n",
    "rna_grpm = pd.read_csv('grpm_dataset/grpm_db_rna/grpm_table_output.csv', index_col=0, dtype={'pmids': str})\n",
    "pseudo_grpm = pd.read_csv('grpm_dataset/grpm_db_pseudo/grpm_table_output.csv', index_col=0, dtype={'pmids': str})\n",
    "\n",
    "print('time import grpm: ', datetime.now()-time2)\n",
    "print('pcg',pcg_grpm.memory_usage().sum() / 1024 / 1024, 'MB')\n",
    "print('rna',rna_grpm.memory_usage().sum() / 1024 / 1024, 'MB')\n",
    "print('pseudo',pseudo_grpm.memory_usage().sum() / 1024 / 1024, 'MB')"
   ]
  },
  {
   "cell_type": "code",
   "execution_count": null,
   "metadata": {},
   "outputs": [],
   "source": [
    "#GRPM DB statistics\n",
    "print('GRPM DB shape:')\n",
    "print('pcg',pcg_grpm.    shape)\n",
    "print('rna',rna_grpm.      shape)\n",
    "print('pseudo',pseudo_grpm.shape)\n",
    "\n",
    "print('GRPM PCG DB statistics:')\n",
    "grpmdb_genes = pcg_grpm.gene.nunique()\n",
    "grpmdb_rsids = pcg_grpm.rsid.nunique()\n",
    "grpmdb_pmids = pcg_grpm.pmids.nunique()\n",
    "grpmdb_meshs = pcg_grpm.mesh.nunique()\n",
    "print(grpmdb_genes,'genes on', len(protein_coding_genes_list),)\n",
    "print(grpmdb_rsids,'rsid')\n",
    "print(grpmdb_pmids,'pmid')\n",
    "print(grpmdb_meshs,'mesh')\n",
    "\n",
    "print('\\nGRPM RNA DB statistics:')\n",
    "grpmdb_genes = rna_grpm.gene.nunique()\n",
    "grpmdb_rsids = rna_grpm.rsid.nunique()\n",
    "grpmdb_pmids = rna_grpm.pmids.nunique()\n",
    "grpmdb_meshs = rna_grpm.mesh.nunique()\n",
    "print(grpmdb_genes,'genes on', len(RNA_genes_list),)\n",
    "print(grpmdb_rsids,'rsid')\n",
    "print(grpmdb_pmids,'pmid')\n",
    "print(grpmdb_meshs,'mesh')\n",
    "\n",
    "print('\\nGRPM PSEUDO DB statistics:')\n",
    "grpmdb_genes = pseudo_grpm.gene.nunique()\n",
    "grpmdb_rsids = pseudo_grpm.rsid.nunique()\n",
    "grpmdb_pmids = pseudo_grpm.pmids.nunique()\n",
    "grpmdb_meshs = pseudo_grpm.mesh.nunique()\n",
    "print(grpmdb_genes,'genes on', len(pseudo_genes_list),)\n",
    "print(grpmdb_rsids,'rsid')\n",
    "print(grpmdb_pmids,'pmid')\n",
    "print(grpmdb_meshs,'mesh')"
   ]
  },
  {
   "cell_type": "code",
   "execution_count": null,
   "metadata": {},
   "outputs": [],
   "source": [
    "#gene grpm lookup\n",
    "gene_grpm = dummy_grpm.loc[dummy_grpm['gene'] == gene]\n",
    "gene_grpm = gene_grpm#[['gene', 'rsid', 'pmids', 'mesh', 'qualifier', 'major']]#.drop_duplicates().reset_index(drop=True)\n",
    "\n",
    "gene_grpm#.head(len(gene_pmidrsidmesh))"
   ]
  },
  {
   "cell_type": "markdown",
   "metadata": {},
   "source": [
    "#containing word Mesh-LOOKUP\n",
    "gene_grpm[gene_grpm.mesh.str.contains('poly', case=False)]"
   ]
  },
  {
   "cell_type": "markdown",
   "metadata": {},
   "source": []
  },
  {
   "cell_type": "markdown",
   "metadata": {},
   "source": []
  },
  {
   "cell_type": "markdown",
   "metadata": {},
   "source": [
    "## Extra"
   ]
  },
  {
   "cell_type": "markdown",
   "source": [
    "###  Add study type with Eutils-API"
   ],
   "metadata": {
    "collapsed": false
   }
  },
  {
   "cell_type": "code",
   "execution_count": null,
   "metadata": {},
   "outputs": [],
   "source": [
    "from Bio import Entrez\n",
    "\n",
    "def get_study_type(pmids):\n",
    "\n",
    "    Entrez.email = 'your_email@your_domain.com'\n",
    "\n",
    "    # Retrieve the metadata for the articles\n",
    "    handle = Entrez.esummary(db='pubmed', id=','.join(pmids), retmode='xml')\n",
    "    records = Entrez.parse(handle)\n",
    "\n",
    "    # Extract the article types from the metadata\n",
    "    study_types = []\n",
    "    for record in records:\n",
    "        article_types = record['PubTypeList']\n",
    "        #print(record['PubTypeList'])\n",
    "        # Determine the study type based on the article types\n",
    "        if 'Randomized Controlled Trial' in article_types:\n",
    "            study_types.append('Randomized Controlled Trial')\n",
    "        elif 'Controlled Clinical Trial' in article_types:\n",
    "            study_types.append('Controlled Clinical Trial')\n",
    "        elif 'Cohort Studies' in article_types:\n",
    "            study_types.append('Cohort Study')\n",
    "        elif 'Case-Control Studies' in article_types:\n",
    "            study_types.append('Case-Control Study')\n",
    "        elif 'Review' in article_types:\n",
    "            study_types.append('Review')\n",
    "        elif 'Clinical Trial' in article_types:\n",
    "            study_types.append('Clinical Trial')\n",
    "        elif 'Meta-Analysis' in article_types:\n",
    "            study_types.append('Meta-Analysis')\n",
    "        elif 'Multicenter Study' in article_types:\n",
    "            study_types.append('Multicenter Study')\n",
    "        # Add additional conditions to handle other study types as needed\n",
    "        else:\n",
    "            study_types.append('Unknown')\n",
    "\n",
    "    return study_types"
   ]
  },
  {
   "cell_type": "code",
   "execution_count": null,
   "metadata": {},
   "outputs": [],
   "source": [
    "Entrez.email = 'your_email@your_domain.com'\n",
    "\n",
    "# Retrieve the metadata for the articles\n",
    "handle = Entrez.esummary(db='pubmed', id=','.join(['34556834', '26620191', '33006084']), retmode='xml')\n",
    "records = Entrez.parse(handle)\n",
    "dfa =pd.DataFrame()\n",
    "for i in records:\n",
    "    df = pd.json_normalize(i)\n",
    "    dfa = pd.concat([dfa,df])\n",
    "\n",
    "dfa.T"
   ]
  },
  {
   "cell_type": "code",
   "execution_count": null,
   "metadata": {},
   "outputs": [],
   "source": [
    "# Extract the article types from the metadata\n",
    "study_types = []\n",
    "for record in records:\n",
    "        article_types = record['PubTypeList']\n",
    "        print(record['PubTypeList'])\n",
    "        # Determine the study type based on the article types\n",
    "        if 'Randomized Controlled Trial' in article_types:\n",
    "            study_types.append('Randomized Controlled Trial')\n",
    "        elif 'Controlled Clinical Trial' in article_types:\n",
    "            study_types.append('Controlled Clinical Trial')\n",
    "        elif 'Cohort Studies' in article_types:\n",
    "            study_types.append('Cohort Study')\n",
    "        elif 'Case-Control Studies' in article_types:\n",
    "            study_types.append('Case-Control Study')\n",
    "        elif 'Review' in article_types:\n",
    "            study_types.append('Review')\n",
    "        # Add additional conditions to handle other study types as needed\n",
    "        else:\n",
    "            study_types.append('Unknown')"
   ]
  },
  {
   "cell_type": "code",
   "execution_count": null,
   "metadata": {},
   "outputs": [],
   "source": [
    "get_study_type(['34556834', '31533339', '33006084'])"
   ]
  },
  {
   "cell_type": "code",
   "execution_count": null,
   "metadata": {},
   "outputs": [],
   "source": [
    "#it takes time\n",
    "ftopmids_str = list(map(str, ftopmids))\n",
    "study_type = get_study_type(ftopmids_str)"
   ]
  },
  {
   "cell_type": "code",
   "execution_count": null,
   "metadata": {},
   "outputs": [],
   "source": [
    "pmids_studytype = pd.DataFrame(list(zip(ftopmids_str,study_type)),columns=[gene+'_PMID','study type'])\n",
    "pmids_studytype_count = pmids_studytype.groupby('study type').describe().reset_index()\n",
    "pmids_studytype_count.columns = pmids_studytype_count.columns.to_flat_index()\n",
    "new_column_names = ['study_type', 'pmid-count', 'pmid-unique','pmid-top','pmid-freq']\n",
    "pmids_studytype_count.columns = new_column_names\n",
    "pmids_studytype_count\n"
   ]
  },
  {
   "cell_type": "code",
   "execution_count": null,
   "metadata": {},
   "outputs": [],
   "source": [
    "rand = pmids_studytype.loc[pmids_studytype['study type']=='Randomized Controlled Trial']\n",
    "#rand = pmids_studytype.loc[pmids_studytype['study type']!='Unknown']\n",
    "#rand = pmids_studytype.loc[pmids_studytype['study type']=='Unknown']\n",
    "rand_gene_PMID = list(rand[gene+'_PMID'])\n",
    "#conseqf = conseq.loc[conseq['SYMBOL'] == gene]\n",
    "len(rand_gene_PMID)\n",
    "\n",
    "#quert on pubmed:\n",
    "pyperclip.copy(\" OR \".join(list(map(str,rand_gene_PMID))))"
   ]
  },
  {
   "cell_type": "code",
   "execution_count": null,
   "metadata": {},
   "outputs": [],
   "source": [
    "#check\n",
    "rand_FTO_PMID_str = list(map(str, rand.FTO_PMID))\n",
    "study_type_control = get_study_type(rand_FTO_PMID_str)"
   ]
  },
  {
   "cell_type": "code",
   "execution_count": null,
   "metadata": {},
   "outputs": [],
   "source": [
    "#study_type_control"
   ]
  },
  {
   "cell_type": "markdown",
   "metadata": {},
   "source": [
    "#### Abstract analysis - trial"
   ]
  },
  {
   "cell_type": "code",
   "execution_count": null,
   "metadata": {},
   "outputs": [],
   "source": [
    "import gensim\n",
    "from gensim.utils import simple_preprocess\n",
    "from gensim.parsing.preprocessing import STOPWORDS\n",
    "from gensim import corpora\n",
    "import nltk\n",
    "from nltk.stem import PorterStemmer\n",
    "\n",
    "# create a Porter stemmer object\n",
    "p_stemmer = PorterStemmer()\n",
    "\n",
    "# list of abstracts\n",
    "abstracts = ['It has been suggested that Neel s \"thrifty genotype\" model may account for high body weights in some Oceanic populations, which presumably arose in modern times. In European populations, common variants (rs1421085-C, rs17817449-G, and rs9939609-A) in the fat mass and obesity (FTO associated) were recently found to be associated with body mass index (BMI) or obesity. In this study, we investigated the population frequencies of these variants in six Oceanic populations (Melanesians, Micronesians, and Polynesians) and tested for an association with BMI. Unlike European populations, the Oceanic populations displayed no significant association between the FTO polymorphisms and BMI. These variants were in strong linkage disequilibrium. The population frequencies ranged between 4.2 and 30.3% in the six Oceanic populations, and were similar to those in southeast and east Asian populations. Our study of the FTO polymorphisms has generated no evidence to support the thrifty genotype hypothesis for Oceanic populations.',\n",
    "             'Variations in the fat-mass and obesity-associated gene (FTO) are associated with the obesity phenotype in many Caucasian populations. This association with the obesity phenotype is not clear in the Japanese. To investigate the relationship between the FTO gene and obesity in the Japanese, we genotyped single nucleotide polymorphisms (SNPs) in the FTO genes from severely obese subjects [n = 927, body mass index (BMI) > or = 30 kg/m2] and normal-weight control subjects (n = 1,527, BMI < 25 kg/m2). A case-control association analysis revealed that 15 SNPs, including rs9939609 and rs1121980, in a linkage disequilibrium (LD) block of approximately 50 kb demonstrated significant associations with obesity',\n",
    "             'BACKGROUND: Recently, the role of the FTO (fat mass and obesity associated) gene in obesity development was described in Western European, but not in Oceanic, cohorts. The objective of this study was to test the hypothesis that the FTO single nucleotide polymorphism (SNP) is associated with body mass index (BMI) in the Slavic population and to analyze if there could be sex-specific effects of the SNP on BMI, waist-to-hip ratio (WHR), and lipid parameters. METHODS: We analyzed three large population-based samples comprising the post-MONICA study (1191 males, 1368 females) and the 3PMFs study (908 females). RESULTS: FTO rs17817449 SNP was related to BMI in males (p=0.014). In the females from both the post-MONICA and the 3PMFs study, FTO had no effect on BMI. Sub-analysis of females from the 3PMFs study demonstrated that FTO had an effect on BMI in postmenopausal females (p=0.035) but not in premenopausal females (follicle-stimulating hormone <40 U/L was used as marker of premenopausal status). WHR and lipid parameters were not associated with FTO in any of the analyzed groups. CONCLUSIONS: These results suggest that the effect of FTO SNP rs17817449 may be, in some populations at least, restricted to males and postmenopausal females.',\n",
    "             'Participants analyzed actual and simulated longitudinal data from the Framingham Heart Study for various metabolic and cardiovascular traits. The genetic information incorporated into these investigations ranged from selected single-nucleotide polymorphisms to genome-wide association arrays. Genotypes were incorporated using a broad range of methodological approaches including conditional logistic regression, linear mixed models, generalized estimating equations, linear growth curve estimation, growth modeling, growth mixture modeling, population attributable risk fraction based on survival functions under the proportional hazards models, and multivariate adaptive splines for the analysis of longitudinal data. The specific scientific questions addressed by these different approaches also varied, ranging from a more precise definition of the phenotype, bias reduction in control selection, estimation of effect sizes and genotype associated risk, to direct incorporation of genetic data into longitudinal modeling approaches and the exploration of population heterogeneity with regard to longitudinal trajectories. The group reached several overall conclusions: (1) The additional information provided by longitudinal data may be useful in genetic analyses. (2) The precision of the phenotype definition as well as control selection in nested designs may be improved, especially if traits demonstrate a trend over time or have strong age-of-onset effects. (3) Analyzing genetic data stratified for high-risk subgroups defined by a unique development over time could be useful for the detection of rare mutations in common multifactorial diseases. (4) Estimation of the population impact of genomic risk variants could be more precise. The challenges and computational complexity demanded by genome-wide single-nucleotide polymorphism data were also discussed.',\n",
    "             'This is the fifth abstract.']\n",
    "\n",
    "# function to preprocess the abstracts\n",
    "def preprocess_abstracts(abstracts):\n",
    "    for abstract in abstracts:\n",
    "        # tokenize the abstract into individual words\n",
    "        tokens = simple_preprocess(abstract, deacc=True)\n",
    "        # remove stop words\n",
    "        stopped_tokens = [token for token in tokens if not token in STOPWORDS]\n",
    "        # stem the tokens\n",
    "        stemmed_tokens = [p_stemmer.stem(token) for token in stopped_tokens]\n",
    "        yield stemmed_tokens\n",
    "\n",
    "# preprocess the abstracts\n",
    "processed_abstracts = list(preprocess_abstracts(abstracts))\n",
    "\n",
    "# create a dictionary from the processed abstracts\n",
    "dictionary = corpora.Dictionary(processed_abstracts)\n",
    "\n",
    "# create a corpus from the dictionary and the processed abstracts\n",
    "corpus = [dictionary.doc2bow(abstract) for abstract in processed_abstracts]\n",
    "\n",
    "# train an LSI (Latent Semantic Indexing) model on the corpus\n",
    "lsi_model = gensim.models.LsiModel(corpus=corpus, id2word=dictionary, num_topics=2)\n",
    "\n",
    "# print the top 5 topics\n",
    "print(lsi_model.print_topics(num_topics=8, num_words=20))\n"
   ]
  }
 ],
 "metadata": {
  "kernelspec": {
   "display_name": "Python 3 (ipykernel)",
   "language": "python",
   "name": "python3"
  },
  "language_info": {
   "codemirror_mode": {
    "name": "ipython",
    "version": 3
   },
   "file_extension": ".py",
   "mimetype": "text/x-python",
   "name": "python",
   "nbconvert_exporter": "python",
   "pygments_lexer": "ipython3",
   "version": "3.9.13"
  }
 },
 "nbformat": 4,
 "nbformat_minor": 1
}
