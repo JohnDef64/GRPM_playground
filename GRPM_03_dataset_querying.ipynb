{
 "cells": [
  {
   "cell_type": "markdown",
   "metadata": {},
   "source": [
    "# GRPM MeSH Screening \n",
    "\n",
    "This notebook is engineered to screen the previously retrieved genetic polymorphism data using selected MeSH terms. It works with MeSH sets that are used as hooks to retrieve subsets of genes and polymorphisms from the \"GRPM ds\" dataset."
   ]
  },
  {
   "cell_type": "markdown",
   "metadata": {},
   "source": [
    "# Import Packages"
   ]
  },
  {
   "cell_type": "code",
   "execution_count": 15,
   "metadata": {
    "collapsed": false,
    "ExecuteTime": {
     "end_time": "2024-11-08T13:24:05.889783Z",
     "start_time": "2024-11-08T13:24:05.800621900Z"
    }
   },
   "outputs": [],
   "source": [
    "import importlib\n",
    "import subprocess\n",
    "\n",
    "try:\n",
    "    importlib.import_module('pygrpm')\n",
    "except ImportError:\n",
    "    subprocess.check_call([\"pip\", \"install\", \"git+https://github.com/johndef64/GRPM_system.git\"])\n",
    "\n",
    "from pygrpm import *\n",
    "\n",
    "import os\n",
    "import glob\n",
    "import random\n",
    "import pandas as pd\n",
    "from datetime import datetime\n",
    "import matplotlib.pyplot as plt\n"
   ]
  },
  {
   "cell_type": "markdown",
   "metadata": {},
   "source": [
    "# Get requirements"
   ]
  },
  {
   "cell_type": "code",
   "execution_count": 14,
   "metadata": {
    "collapsed": false,
    "ExecuteTime": {
     "end_time": "2024-11-08T13:20:42.645377900Z",
     "start_time": "2024-11-08T13:20:25.530497Z"
    }
   },
   "outputs": [
    {
     "name": "stdout",
     "output_type": "stream",
     "text": [
      "Downloading grpm_dataset.zip from https://zenodo.org/record/14052302/files/grpm_dataset.zip?download=1\n"
     ]
    },
    {
     "name": "stderr",
     "output_type": "stream",
     "text": [
      "Downloading...\n",
      "From: https://zenodo.org/record/14052302/files/grpm_dataset.zip?download=1\n",
      "To: G:\\Altri computer\\Horizon\\horizon_workspace\\projects\\work\\semantics\\GRPM\\GRPM_github\\grpm_dataset.zip\n",
      "100%|██████████| 42.1M/42.1M [00:09<00:00, 4.25MB/s]\n"
     ]
    },
    {
     "name": "stdout",
     "output_type": "stream",
     "text": [
      "Extracting...\n",
      "ZIP file 'grpm_dataset.zip' extracted in 'G:\\Altri computer\\Horizon\\horizon_workspace\\projects\\work\\semantics\\GRPM\\GRPM_github' successfully.\n",
      "Download and extraction time  0:00:11.752890\n",
      "CPU times: total: 953 ms\n",
      "Wall time: 17.1 s\n"
     ]
    }
   ],
   "source": [
    "# Get GRPM Dataset from Zenodo Repository\n",
    "#https://zenodo.org/record/8205724  DOI: 10.5281/zenodo.8205724\n",
    "\n",
    "if simple_bool('Download pre-made GRPM-Dataset from Zenodo?'):\n",
    "    timea = datetime.now()\n",
    "    get_and_extract('grpm_dataset')\n",
    "    print('Download and extraction time ',datetime.now()-timea)\n",
    "\n",
    "if simple_bool('Download pre-made ref-mesh-archive from Zenodo?'):\n",
    "    timea = datetime.now()\n",
    "    get_and_extract('ref-mesh')\n",
    "    print('Download and extraction time ',datetime.now()-timea)"
   ]
  },
  {
   "cell_type": "markdown",
   "metadata": {},
   "source": [
    "## Import GRPM dataset [required]"
   ]
  },
  {
   "cell_type": "code",
   "execution_count": 30,
   "metadata": {
    "collapsed": false,
    "ExecuteTime": {
     "end_time": "2024-11-08T13:39:34.951418600Z",
     "start_time": "2024-11-08T13:39:14.782612500Z"
    }
   },
   "outputs": [
    {
     "name": "stdout",
     "output_type": "stream",
     "text": [
      "importing GRPM Dataset...\n",
      "Importing time:  0:00:10.485456\n",
      "pcg: 776.19 MB\n",
      "rna: 58.18 MB\n",
      "pseudo: 1.93 MB\n",
      "time load: 0:00:19.860504\n"
     ]
    }
   ],
   "source": [
    "#Load GRPM db Report-----------------------------------------\n",
    "import pyarrow \n",
    "# choose gene type:\n",
    "gene_type = 'PCG'\n",
    "# 'PCG'    = protein coding genes \n",
    "# 'RNA'    = rna genes            \n",
    "# 'PSEUDO' = pseudogenes          \n",
    "\n",
    "db_tag      = gene_type.lower()\n",
    "db_path = 'grpm_dataset/'\n",
    "\n",
    "#get gene list from grpm report\n",
    "GRPM_report = pd.read_parquet(db_path+'/GRPM_report.parquet', engine = 'pyarrow').rename(columns={'index':'gene'})\n",
    "cols = ['gene', 'rsid', 'pmid', 'mesh']\n",
    "GRPM_report = GRPM_report[GRPM_report.type == gene_type].reset_index(drop=True)\n",
    "grpm_genes_list = GRPM_report.gene.to_list()\n",
    "\n",
    "#Import GRPM dataset-------------------------------------------\n",
    "print('importing GRPM Dataset...')\n",
    "time_load_1 = datetime.now()\n",
    "pcg_grpm, rna_grpm, pseudo_grpm = grpm_importer()\n",
    "grpm_dataset = pcg_grpm \n",
    "\n",
    "#grpm_dataset['pmid'] = grpm_dataset['pmid'].astype(str) #convert pmid type in str\n",
    "time_load_2 = datetime.now()\n",
    "print('time load:',time_load_2-time_load_1)"
   ]
  },
  {
   "cell_type": "markdown",
   "source": [
    "# Query GRPM Dataset"
   ],
   "metadata": {
    "collapsed": false
   }
  },
  {
   "cell_type": "markdown",
   "source": [
    "## Set directory & import data\n",
    "Check available ref-MeSH lists\n",
    "    - gene list\n",
    "    - survey directory\n",
    "    - ref-mesh list"
   ],
   "metadata": {
    "collapsed": false
   }
  },
  {
   "cell_type": "code",
   "outputs": [
    {
     "name": "stdout",
     "output_type": "stream",
     "text": [
      "Available reference mesh lists:\n",
      "\n",
      " 0                Tay-Sachs Disease, AB Variant\n",
      "1                            Tay-Sachs Disease\n",
      "2                                Syringomyelia\n",
      "3                      Subarachnoid Hemorrhage\n",
      "7                        Stroke Rehabilitation\n",
      "                         ...                  \n",
      "1374    Immunoglobulin Light-chain Amyloidosis\n",
      "1375            Amyloid beta-Protein Precursor\n",
      "1376                     Amyloid beta-Peptides\n",
      "1377                         Alzheimer Disease\n",
      "1381                      Adrenoleukodystrophy\n",
      "Name: mesh, Length: 510, dtype: object\n"
     ]
    }
   ],
   "source": [
    "#Check avalable refs:\n",
    "ref_path = \"ref-mesh/\"  # Replace with the actual ref mesh path\n",
    "\n",
    "#---------------------------------\n",
    "#use random mesh list?\n",
    "random_mesh = False\n",
    "if random_mesh: ref_path = \"ref-mesh/random_lists/\"\n",
    "#---------------------------------\n",
    "\n",
    "# Create a file path pattern to match CSV files\n",
    "file_pattern = os.path.join(ref_path, \"*.csv\")\n",
    "\n",
    "# Use glob to get a list of file paths matching the pattern\n",
    "csv_files = glob.glob(file_pattern)\n",
    "\n",
    "csv_files_name = []\n",
    "# Print the list of CSV files\n",
    "for file in csv_files:\n",
    "    file_name = os.path.basename(file)\n",
    "    csv_files_name.append(file_name)\n",
    "\n",
    "pd.set_option('display.max_rows', 100)\n",
    "print('Available reference mesh lists:')\n",
    "csv_files_df = pd.Series(csv_files_name)\n",
    "\n",
    "csv_file_tag = pd.DataFrame()\n",
    "if not random_mesh:\n",
    "    csv_file_tag = csv_files_df.str.extract(r'ref_mesh_(.*)\\.csv', expand=False).dropna().reset_index(drop=True)\n",
    "else:\n",
    "    csv_file_tag = csv_files_df.str.extract(r'(.*)\\.csv', expand=False).dropna().reset_index(drop=True)\n",
    "\n",
    "\n",
    "#------------------------------------------------------\n",
    "# define directory folder path:\n",
    "survey_path = 'grpm_surveys/' # keep default to use root path\n",
    "\n",
    "# choose ref_mesh.csv tab:\n",
    "topic_tag   = csv_file_tag[int(input('\\Select index from available ref-mesh list:\\n'+str(csv_file_tag)))]\n",
    "add         = ''    # additional survey directory tag\n",
    "#------------------------------------------------------\n",
    "\n",
    "\n",
    "# (1) Create survey directory:\n",
    "survey_path = survey_path+'grpm_random/' if random_mesh else survey_path\n",
    "directory = survey_path + 'grpm_survey_' + db_tag + '_' + topic_tag + add\n",
    "if not os.path.exists(directory):\n",
    "    os.makedirs(directory)\n",
    "\n",
    "\n",
    "# (2) Import Mesh-reference list:\n",
    "ref_filename = \"ref_mesh_\" + topic_tag + \".csv\" if not random_mesh else topic_tag + \".csv\"\n",
    "ref = pd.read_csv(ref_path + ref_filename, index_col=0)\n",
    "\n",
    "if 'mesh' not in ref.columns:\n",
    "    ref = ref.rename(columns={'Preferred Label': 'mesh'})\n",
    "\n",
    "ref_mesh_n = ref.mesh.nunique()\n",
    "ref_mesh_list = ref['mesh'].drop_duplicates()\n",
    "\n",
    "#----------------------------------------------------------\n",
    "print('\\n', ref_mesh_list)"
   ],
   "metadata": {
    "collapsed": false,
    "ExecuteTime": {
     "end_time": "2024-11-08T13:39:36.248322Z",
     "start_time": "2024-11-08T13:39:34.950414700Z"
    }
   },
   "execution_count": 31
  },
  {
   "cell_type": "markdown",
   "source": [
    "## Get GRPM dataset statistics [required]\n"
   ],
   "metadata": {
    "collapsed": false
   }
  },
  {
   "cell_type": "code",
   "outputs": [
    {
     "name": "stdout",
     "output_type": "stream",
     "text": [
      "CPU times: total: 0 ns\n",
      "Wall time: 0 ns\n",
      "0:00:02.968303\n",
      "0:01:23.884770\n"
     ]
    },
    {
     "data": {
      "text/plain": "         rsid                           pmid                        mesh  \\\n        count unique          top freq count unique       top freq count   \ngene                                                                       \nA1BG      118      4     rs893184   68   118      7  23690342   40   118   \nA1CF      362      7   rs10821905  185   362     23  29437585   31   362   \nA2M      1160     21        rs669  676  1160     57  32747830   92  1160   \nA2ML1    1065     32  rs863224951  119  1065     13  31009165  575  1065   \nA3GALT2    19      1  rs376200069   19    19      1  28506304   19    19   \n\n                                    pmidmesh         \\\n        unique             top freq    count unique   \ngene                                                  \nA1BG        75    Hypertension    8      118     94   \nA1CF       137          Humans   22      362    318   \nA2M        365          Humans   61     1160    887   \nA2ML1      117    Otitis Media   51     1065    227   \nA3GALT2     11  Adenocarcinoma    3       19     11   \n\n                                             \n                                   top freq  \ngene                                         \nA1BG                     32279138HIV-1    3  \nA1CF      30529582Colorectal Neoplasms    4  \nA2M      24011543Amyloid beta-Peptides    8  \nA2ML1               31009165Adolescent   23  \nA3GALT2         28506304Adenocarcinoma    3  ",
      "text/html": "<div>\n<style scoped>\n    .dataframe tbody tr th:only-of-type {\n        vertical-align: middle;\n    }\n\n    .dataframe tbody tr th {\n        vertical-align: top;\n    }\n\n    .dataframe thead tr th {\n        text-align: left;\n    }\n\n    .dataframe thead tr:last-of-type th {\n        text-align: right;\n    }\n</style>\n<table border=\"1\" class=\"dataframe\">\n  <thead>\n    <tr>\n      <th></th>\n      <th colspan=\"4\" halign=\"left\">rsid</th>\n      <th colspan=\"4\" halign=\"left\">pmid</th>\n      <th colspan=\"4\" halign=\"left\">mesh</th>\n      <th colspan=\"4\" halign=\"left\">pmidmesh</th>\n    </tr>\n    <tr>\n      <th></th>\n      <th>count</th>\n      <th>unique</th>\n      <th>top</th>\n      <th>freq</th>\n      <th>count</th>\n      <th>unique</th>\n      <th>top</th>\n      <th>freq</th>\n      <th>count</th>\n      <th>unique</th>\n      <th>top</th>\n      <th>freq</th>\n      <th>count</th>\n      <th>unique</th>\n      <th>top</th>\n      <th>freq</th>\n    </tr>\n    <tr>\n      <th>gene</th>\n      <th></th>\n      <th></th>\n      <th></th>\n      <th></th>\n      <th></th>\n      <th></th>\n      <th></th>\n      <th></th>\n      <th></th>\n      <th></th>\n      <th></th>\n      <th></th>\n      <th></th>\n      <th></th>\n      <th></th>\n      <th></th>\n    </tr>\n  </thead>\n  <tbody>\n    <tr>\n      <th>A1BG</th>\n      <td>118</td>\n      <td>4</td>\n      <td>rs893184</td>\n      <td>68</td>\n      <td>118</td>\n      <td>7</td>\n      <td>23690342</td>\n      <td>40</td>\n      <td>118</td>\n      <td>75</td>\n      <td>Hypertension</td>\n      <td>8</td>\n      <td>118</td>\n      <td>94</td>\n      <td>32279138HIV-1</td>\n      <td>3</td>\n    </tr>\n    <tr>\n      <th>A1CF</th>\n      <td>362</td>\n      <td>7</td>\n      <td>rs10821905</td>\n      <td>185</td>\n      <td>362</td>\n      <td>23</td>\n      <td>29437585</td>\n      <td>31</td>\n      <td>362</td>\n      <td>137</td>\n      <td>Humans</td>\n      <td>22</td>\n      <td>362</td>\n      <td>318</td>\n      <td>30529582Colorectal Neoplasms</td>\n      <td>4</td>\n    </tr>\n    <tr>\n      <th>A2M</th>\n      <td>1160</td>\n      <td>21</td>\n      <td>rs669</td>\n      <td>676</td>\n      <td>1160</td>\n      <td>57</td>\n      <td>32747830</td>\n      <td>92</td>\n      <td>1160</td>\n      <td>365</td>\n      <td>Humans</td>\n      <td>61</td>\n      <td>1160</td>\n      <td>887</td>\n      <td>24011543Amyloid beta-Peptides</td>\n      <td>8</td>\n    </tr>\n    <tr>\n      <th>A2ML1</th>\n      <td>1065</td>\n      <td>32</td>\n      <td>rs863224951</td>\n      <td>119</td>\n      <td>1065</td>\n      <td>13</td>\n      <td>31009165</td>\n      <td>575</td>\n      <td>1065</td>\n      <td>117</td>\n      <td>Otitis Media</td>\n      <td>51</td>\n      <td>1065</td>\n      <td>227</td>\n      <td>31009165Adolescent</td>\n      <td>23</td>\n    </tr>\n    <tr>\n      <th>A3GALT2</th>\n      <td>19</td>\n      <td>1</td>\n      <td>rs376200069</td>\n      <td>19</td>\n      <td>19</td>\n      <td>1</td>\n      <td>28506304</td>\n      <td>19</td>\n      <td>19</td>\n      <td>11</td>\n      <td>Adenocarcinoma</td>\n      <td>3</td>\n      <td>19</td>\n      <td>11</td>\n      <td>28506304Adenocarcinoma</td>\n      <td>3</td>\n    </tr>\n  </tbody>\n</table>\n</div>"
     },
     "execution_count": 18,
     "metadata": {},
     "output_type": "execute_result"
    }
   ],
   "source": [
    "%time\n",
    "# GET GRPM dataset Metrics\n",
    "time_1 = datetime.now()\n",
    "grpm_dataset['pmidmesh'] = grpm_dataset['pmid']+grpm_dataset['mesh']\n",
    "print(datetime.now() -time_1)\n",
    "grpm_dataset.head()\n",
    "\n",
    "time_1 = datetime.now()\n",
    "grpm_gene_metrics = grpm_dataset[['gene', 'rsid', 'pmid', 'mesh', 'pmidmesh']].groupby('gene').describe(include='all')\n",
    "print(datetime.now() -time_1)\n",
    "grpm_gene_metrics.head()"
   ],
   "metadata": {
    "collapsed": false,
    "ExecuteTime": {
     "end_time": "2024-11-08T13:31:55.551693300Z",
     "start_time": "2024-11-08T13:30:28.671683400Z"
    }
   },
   "execution_count": 18
  },
  {
   "cell_type": "markdown",
   "source": [
    "## Execute MeSH Query"
   ],
   "metadata": {
    "collapsed": false
   }
  },
  {
   "cell_type": "markdown",
   "source": [
    "Python Query"
   ],
   "metadata": {
    "collapsed": false
   }
  },
  {
   "cell_type": "code",
   "outputs": [
    {
     "data": {
      "text/plain": "['Chorea',\n 'Multiple Sclerosis, Chronic Progressive',\n 'Serotonin and Noradrenaline Reuptake Inhibitors',\n 'Receptors, Histamine H2',\n 'Long-Term Potentiation',\n 'GABA-A Receptor Antagonists',\n 'Brain Mapping',\n 'Nitric Oxide Synthase Type I',\n 'Cerebellar Diseases',\n 'Oligodendroglia']"
     },
     "execution_count": 21,
     "metadata": {},
     "output_type": "execute_result"
    }
   ],
   "source": [
    "ref_mesh_tuple = tuple(ref_mesh_list)\n",
    "random.sample(ref_mesh_tuple, 10)\n",
    "\n",
    "# Query Example\n",
    "# ref_mesh_tuple = tuple(['Sodium-Coupled Vitamin C Transporters',\n",
    "#                         'Micronutrients',\n",
    "#                         'Biotinidase Deficiency',\n",
    "#                         'Lipid Metabolism Disorders',\n",
    "#                         'Vitamin D-Binding Protein',\n",
    "#                         'Pyridoxal Phosphate',\n",
    "#                         'Choline-Phosphate Cytidylyltransferase',\n",
    "#                         'Vitamin D3 24-Hydroxylase'])"
   ],
   "metadata": {
    "collapsed": false,
    "ExecuteTime": {
     "end_time": "2024-11-08T13:34:35.616759200Z",
     "start_time": "2024-11-08T13:34:35.534700300Z"
    }
   },
   "execution_count": 21
  },
  {
   "cell_type": "code",
   "outputs": [
    {
     "name": "stdout",
     "output_type": "stream",
     "text": [
      "CPU times: total: 0 ns\n",
      "Wall time: 0 ns\n",
      "0:00:03.385181\n"
     ]
    },
    {
     "data": {
      "text/plain": "            gene type         rsid      pmid                         mesh  \\\n8892426    DDHD2  PCG  rs375168720  25417924            Muscle Spasticity   \n16251857  TARDBP  PCG   rs80356727  23300771            Protein Transport   \n1892621     BDNF  PCG  rs769727156  26215504                   Depression   \n5919682      APP  PCG  rs371425292  31492955                        Brain   \n1261831   RNF114  PCG    rs1056198  25651891           Immunologic Memory   \n15336798   SCN1A  PCG  rs121918799  34546973           Migraine Disorders   \n7859641   NEURL1  PCG   rs72848980  30618052                        Brain   \n7971723     EGR2  PCG  rs104894161  29670817  Charcot-Marie-Tooth Disease   \n14649910     HJV  PCG  rs786205063  18384687            Membrane Proteins   \n7022238      LHB  PCG    rs1800447  18439297            Alzheimer Disease   \n\n           qualifier  major                             pmidmesh  \n8892426    pathology  False            25417924Muscle Spasticity  \n16251857        None  False            23300771Protein Transport  \n1892621     etiology  False                   26215504Depression  \n5919682   metabolism  False                        31492955Brain  \n1261831         None  False           25651891Immunologic Memory  \n15336798  metabolism   True           34546973Migraine Disorders  \n7859641    pathology  False                        30618052Brain  \n7971723     genetics  False  29670817Charcot-Marie-Tooth Disease  \n14649910    genetics  False            18384687Membrane Proteins  \n7022238     genetics   True            18439297Alzheimer Disease  ",
      "text/html": "<div>\n<style scoped>\n    .dataframe tbody tr th:only-of-type {\n        vertical-align: middle;\n    }\n\n    .dataframe tbody tr th {\n        vertical-align: top;\n    }\n\n    .dataframe thead th {\n        text-align: right;\n    }\n</style>\n<table border=\"1\" class=\"dataframe\">\n  <thead>\n    <tr style=\"text-align: right;\">\n      <th></th>\n      <th>gene</th>\n      <th>type</th>\n      <th>rsid</th>\n      <th>pmid</th>\n      <th>mesh</th>\n      <th>qualifier</th>\n      <th>major</th>\n      <th>pmidmesh</th>\n    </tr>\n  </thead>\n  <tbody>\n    <tr>\n      <th>8892426</th>\n      <td>DDHD2</td>\n      <td>PCG</td>\n      <td>rs375168720</td>\n      <td>25417924</td>\n      <td>Muscle Spasticity</td>\n      <td>pathology</td>\n      <td>False</td>\n      <td>25417924Muscle Spasticity</td>\n    </tr>\n    <tr>\n      <th>16251857</th>\n      <td>TARDBP</td>\n      <td>PCG</td>\n      <td>rs80356727</td>\n      <td>23300771</td>\n      <td>Protein Transport</td>\n      <td>None</td>\n      <td>False</td>\n      <td>23300771Protein Transport</td>\n    </tr>\n    <tr>\n      <th>1892621</th>\n      <td>BDNF</td>\n      <td>PCG</td>\n      <td>rs769727156</td>\n      <td>26215504</td>\n      <td>Depression</td>\n      <td>etiology</td>\n      <td>False</td>\n      <td>26215504Depression</td>\n    </tr>\n    <tr>\n      <th>5919682</th>\n      <td>APP</td>\n      <td>PCG</td>\n      <td>rs371425292</td>\n      <td>31492955</td>\n      <td>Brain</td>\n      <td>metabolism</td>\n      <td>False</td>\n      <td>31492955Brain</td>\n    </tr>\n    <tr>\n      <th>1261831</th>\n      <td>RNF114</td>\n      <td>PCG</td>\n      <td>rs1056198</td>\n      <td>25651891</td>\n      <td>Immunologic Memory</td>\n      <td>None</td>\n      <td>False</td>\n      <td>25651891Immunologic Memory</td>\n    </tr>\n    <tr>\n      <th>15336798</th>\n      <td>SCN1A</td>\n      <td>PCG</td>\n      <td>rs121918799</td>\n      <td>34546973</td>\n      <td>Migraine Disorders</td>\n      <td>metabolism</td>\n      <td>True</td>\n      <td>34546973Migraine Disorders</td>\n    </tr>\n    <tr>\n      <th>7859641</th>\n      <td>NEURL1</td>\n      <td>PCG</td>\n      <td>rs72848980</td>\n      <td>30618052</td>\n      <td>Brain</td>\n      <td>pathology</td>\n      <td>False</td>\n      <td>30618052Brain</td>\n    </tr>\n    <tr>\n      <th>7971723</th>\n      <td>EGR2</td>\n      <td>PCG</td>\n      <td>rs104894161</td>\n      <td>29670817</td>\n      <td>Charcot-Marie-Tooth Disease</td>\n      <td>genetics</td>\n      <td>False</td>\n      <td>29670817Charcot-Marie-Tooth Disease</td>\n    </tr>\n    <tr>\n      <th>14649910</th>\n      <td>HJV</td>\n      <td>PCG</td>\n      <td>rs786205063</td>\n      <td>18384687</td>\n      <td>Membrane Proteins</td>\n      <td>genetics</td>\n      <td>False</td>\n      <td>18384687Membrane Proteins</td>\n    </tr>\n    <tr>\n      <th>7022238</th>\n      <td>LHB</td>\n      <td>PCG</td>\n      <td>rs1800447</td>\n      <td>18439297</td>\n      <td>Alzheimer Disease</td>\n      <td>genetics</td>\n      <td>True</td>\n      <td>18439297Alzheimer Disease</td>\n    </tr>\n  </tbody>\n</table>\n</div>"
     },
     "execution_count": 24,
     "metadata": {},
     "output_type": "execute_result"
    }
   ],
   "source": [
    "%time\n",
    "# Preprocessing: \n",
    "time_1 = datetime.now()\n",
    "genes = grpm_dataset.gene.drop_duplicates().to_list()\n",
    "\n",
    "# Execute the query using pandas\n",
    "def query_dataset(ds, my_tuple, field = 'mesh'):\n",
    "    ds = ds[ds[field].isin(my_tuple)].drop_duplicates()\n",
    "    return ds\n",
    "\n",
    "ref_mesh_tuple = tuple(ref_mesh_list)\n",
    "result = query_dataset(grpm_dataset, ref_mesh_tuple, field = 'mesh') \n",
    "print(datetime.now() -time_1)\n",
    "\n",
    "# save Query Output\n",
    "grpm_match_full = result\n",
    "result.sample(10)"
   ],
   "metadata": {
    "collapsed": false,
    "ExecuteTime": {
     "end_time": "2024-11-08T13:35:47.791373Z",
     "start_time": "2024-11-08T13:35:42.568879600Z"
    }
   },
   "execution_count": 24
  },
  {
   "cell_type": "code",
   "outputs": [],
   "source": [
    "# SAVE\n",
    "if simple_bool('save output?'): \n",
    "    grpm_match_full[['gene', 'rsid', 'pmid', 'mesh']].to_csv(directory+'/grpmx_filtered_output.csv')"
   ],
   "metadata": {
    "collapsed": false
   }
  },
  {
   "cell_type": "markdown",
   "source": [
    "SQL Query [alternative]"
   ],
   "metadata": {
    "collapsed": false
   }
  },
  {
   "cell_type": "code",
   "outputs": [
    {
     "name": "stdout",
     "output_type": "stream",
     "text": [
      "CPU times: total: 3min 40s\n",
      "Wall time: 4min 16s\n"
     ]
    },
    {
     "data": {
      "text/plain": "     gene          rsid      pmid  \\\n0  MT-ND1  rs1057520201  17454741   \n1  MT-ND1   rs111033358  32387288   \n2  MT-ND1   rs111033358  32387288   \n3  MT-ND1   rs111033358  32387288   \n4  MT-ND1   rs111033358  32387288   \n\n                                            mesh  \n0                             DNA, Mitochondrial  \n1                             DNA, Mitochondrial  \n2  Intracellular Signaling Peptides and Proteins  \n3  Intracellular Signaling Peptides and Proteins  \n4                                   Mitochondria  ",
      "text/html": "<div>\n<style scoped>\n    .dataframe tbody tr th:only-of-type {\n        vertical-align: middle;\n    }\n\n    .dataframe tbody tr th {\n        vertical-align: top;\n    }\n\n    .dataframe thead th {\n        text-align: right;\n    }\n</style>\n<table border=\"1\" class=\"dataframe\">\n  <thead>\n    <tr style=\"text-align: right;\">\n      <th></th>\n      <th>gene</th>\n      <th>rsid</th>\n      <th>pmid</th>\n      <th>mesh</th>\n    </tr>\n  </thead>\n  <tbody>\n    <tr>\n      <th>0</th>\n      <td>MT-ND1</td>\n      <td>rs1057520201</td>\n      <td>17454741</td>\n      <td>DNA, Mitochondrial</td>\n    </tr>\n    <tr>\n      <th>1</th>\n      <td>MT-ND1</td>\n      <td>rs111033358</td>\n      <td>32387288</td>\n      <td>DNA, Mitochondrial</td>\n    </tr>\n    <tr>\n      <th>2</th>\n      <td>MT-ND1</td>\n      <td>rs111033358</td>\n      <td>32387288</td>\n      <td>Intracellular Signaling Peptides and Proteins</td>\n    </tr>\n    <tr>\n      <th>3</th>\n      <td>MT-ND1</td>\n      <td>rs111033358</td>\n      <td>32387288</td>\n      <td>Intracellular Signaling Peptides and Proteins</td>\n    </tr>\n    <tr>\n      <th>4</th>\n      <td>MT-ND1</td>\n      <td>rs111033358</td>\n      <td>32387288</td>\n      <td>Mitochondria</td>\n    </tr>\n  </tbody>\n</table>\n</div>"
     },
     "execution_count": 60,
     "metadata": {},
     "output_type": "execute_result"
    }
   ],
   "source": [
    "%%time\n",
    "#!pip install pandasql\n",
    "import pandas as pd\n",
    "import pandasql as ps\n",
    "\n",
    "ref_mesh_tuple = tuple(ref_mesh_list)\n",
    "grpm_dataset_ = grpm_dataset[:len(grpm_dataset)//1]\n",
    "\"\"\"\n",
    "Complete SQL Query time:\n",
    "CPU times: total: 3min 40s\n",
    "Wall time: 4min 16s\n",
    "\"\"\"\n",
    "\n",
    "# Define SQL query\n",
    "query = f\"\"\"\n",
    "SELECT DISTINCT * FROM grpm_dataset_\n",
    "WHERE mesh IN {ref_mesh_tuple}\n",
    "\"\"\"\n",
    "\n",
    "# Run SQL query\n",
    "grpm_match_full = ps.sqldf(query, locals())\n",
    "grpm_match_full[['gene', 'rsid', 'pmid', 'mesh']].head()"
   ],
   "metadata": {
    "collapsed": false,
    "ExecuteTime": {
     "end_time": "2024-11-08T13:52:59.693744700Z",
     "start_time": "2024-11-08T13:48:42.637215900Z"
    }
   },
   "execution_count": 60
  },
  {
   "cell_type": "markdown",
   "source": [
    "# Extraction Data Report"
   ],
   "metadata": {
    "collapsed": false
   }
  },
  {
   "cell_type": "markdown",
   "source": [
    "## Get GRPM Subset Statistics [required]"
   ],
   "metadata": {
    "collapsed": false
   }
  },
  {
   "cell_type": "code",
   "outputs": [
    {
     "name": "stdout",
     "output_type": "stream",
     "text": [
      "CPU times: total: 0 ns\n",
      "Wall time: 0 ns\n",
      "0:00:50.933666\n"
     ]
    },
    {
     "data": {
      "text/plain": "        rsid                           pmid                        mesh  \\\n       count unique          top freq count unique       top freq count   \ngene                                                                      \nA1BG       2      1     rs893184    2     2      1  23690342    2     2   \nA1CF       5      2   rs10821905    3     5      3  30014513    3     5   \nA2M      137     11        rs669   98   137     41  24011543   16   137   \nA4GALT    11      6  rs756992490    3    11      4  22241068    3    11   \nA4GNT      1      1    rs2246945    1     1      1  21811255    1     1   \n\n                                      pmidmesh         \\\n       unique                top freq    count unique   \ngene                                                    \nA1BG        1  Membrane Proteins    2        2      1   \nA1CF        2  Parkinson Disease    3        5      3   \nA2M        29  Alzheimer Disease   46      137     71   \nA4GALT      6    Protein Folding    3       11      6   \nA4GNT       1   Nuclear Proteins    1        1      1   \n\n                                            \n                                  top freq  \ngene                                        \nA1BG        23690342Membrane Proteins    2  \nA1CF        30014513Parkinson Disease    3  \nA2M     24011543Amyloid beta-Peptides    8  \nA4GALT        22241068Protein Folding    3  \nA4GNT        21811255Nuclear Proteins    1  ",
      "text/html": "<div>\n<style scoped>\n    .dataframe tbody tr th:only-of-type {\n        vertical-align: middle;\n    }\n\n    .dataframe tbody tr th {\n        vertical-align: top;\n    }\n\n    .dataframe thead tr th {\n        text-align: left;\n    }\n\n    .dataframe thead tr:last-of-type th {\n        text-align: right;\n    }\n</style>\n<table border=\"1\" class=\"dataframe\">\n  <thead>\n    <tr>\n      <th></th>\n      <th colspan=\"4\" halign=\"left\">rsid</th>\n      <th colspan=\"4\" halign=\"left\">pmid</th>\n      <th colspan=\"4\" halign=\"left\">mesh</th>\n      <th colspan=\"4\" halign=\"left\">pmidmesh</th>\n    </tr>\n    <tr>\n      <th></th>\n      <th>count</th>\n      <th>unique</th>\n      <th>top</th>\n      <th>freq</th>\n      <th>count</th>\n      <th>unique</th>\n      <th>top</th>\n      <th>freq</th>\n      <th>count</th>\n      <th>unique</th>\n      <th>top</th>\n      <th>freq</th>\n      <th>count</th>\n      <th>unique</th>\n      <th>top</th>\n      <th>freq</th>\n    </tr>\n    <tr>\n      <th>gene</th>\n      <th></th>\n      <th></th>\n      <th></th>\n      <th></th>\n      <th></th>\n      <th></th>\n      <th></th>\n      <th></th>\n      <th></th>\n      <th></th>\n      <th></th>\n      <th></th>\n      <th></th>\n      <th></th>\n      <th></th>\n      <th></th>\n    </tr>\n  </thead>\n  <tbody>\n    <tr>\n      <th>A1BG</th>\n      <td>2</td>\n      <td>1</td>\n      <td>rs893184</td>\n      <td>2</td>\n      <td>2</td>\n      <td>1</td>\n      <td>23690342</td>\n      <td>2</td>\n      <td>2</td>\n      <td>1</td>\n      <td>Membrane Proteins</td>\n      <td>2</td>\n      <td>2</td>\n      <td>1</td>\n      <td>23690342Membrane Proteins</td>\n      <td>2</td>\n    </tr>\n    <tr>\n      <th>A1CF</th>\n      <td>5</td>\n      <td>2</td>\n      <td>rs10821905</td>\n      <td>3</td>\n      <td>5</td>\n      <td>3</td>\n      <td>30014513</td>\n      <td>3</td>\n      <td>5</td>\n      <td>2</td>\n      <td>Parkinson Disease</td>\n      <td>3</td>\n      <td>5</td>\n      <td>3</td>\n      <td>30014513Parkinson Disease</td>\n      <td>3</td>\n    </tr>\n    <tr>\n      <th>A2M</th>\n      <td>137</td>\n      <td>11</td>\n      <td>rs669</td>\n      <td>98</td>\n      <td>137</td>\n      <td>41</td>\n      <td>24011543</td>\n      <td>16</td>\n      <td>137</td>\n      <td>29</td>\n      <td>Alzheimer Disease</td>\n      <td>46</td>\n      <td>137</td>\n      <td>71</td>\n      <td>24011543Amyloid beta-Peptides</td>\n      <td>8</td>\n    </tr>\n    <tr>\n      <th>A4GALT</th>\n      <td>11</td>\n      <td>6</td>\n      <td>rs756992490</td>\n      <td>3</td>\n      <td>11</td>\n      <td>4</td>\n      <td>22241068</td>\n      <td>3</td>\n      <td>11</td>\n      <td>6</td>\n      <td>Protein Folding</td>\n      <td>3</td>\n      <td>11</td>\n      <td>6</td>\n      <td>22241068Protein Folding</td>\n      <td>3</td>\n    </tr>\n    <tr>\n      <th>A4GNT</th>\n      <td>1</td>\n      <td>1</td>\n      <td>rs2246945</td>\n      <td>1</td>\n      <td>1</td>\n      <td>1</td>\n      <td>21811255</td>\n      <td>1</td>\n      <td>1</td>\n      <td>1</td>\n      <td>Nuclear Proteins</td>\n      <td>1</td>\n      <td>1</td>\n      <td>1</td>\n      <td>21811255Nuclear Proteins</td>\n      <td>1</td>\n    </tr>\n  </tbody>\n</table>\n</div>"
     },
     "execution_count": 61,
     "metadata": {},
     "output_type": "execute_result"
    }
   ],
   "source": [
    "%time\n",
    "\n",
    "grpm_match_full['pmidmesh'] = grpm_match_full['pmid']+grpm_match_full['mesh']\n",
    "time_1 = datetime.now()\n",
    "grpm_match_gene_metrics = grpm_match_full[['gene', 'rsid', 'pmid', 'mesh', 'pmidmesh']].groupby('gene').describe(include='all')\n",
    "print(datetime.now() -time_1)\n",
    "grpm_match_gene_metrics.head()"
   ],
   "metadata": {
    "collapsed": false,
    "ExecuteTime": {
     "end_time": "2024-11-08T13:55:37.481235200Z",
     "start_time": "2024-11-08T13:54:46.041292100Z"
    }
   },
   "execution_count": 61
  },
  {
   "cell_type": "markdown",
   "source": [
    "## Other Stats [optional]"
   ],
   "metadata": {
    "collapsed": false
   }
  },
  {
   "cell_type": "code",
   "outputs": [],
   "source": [
    "time_1 = datetime.now()\n",
    "grpm_match_rsid_metrics = grpm_match_full[['rsid', 'pmid']].groupby('rsid').describe(include='all')#agg(lambda x: x.unique())\n",
    "print(datetime.now() -time_1)\n",
    "#grpm_match_rsid_metrics.head()\n",
    "grpm_match_rsid_metrics_sort = grpm_match_rsid_metrics.sort_values(by=('pmid','unique'), ascending= False)\n",
    "top10rsid = list(grpm_match_rsid_metrics_sort[:10].index)\n",
    "top10rsid"
   ],
   "metadata": {
    "collapsed": false
   },
   "execution_count": null
  },
  {
   "cell_type": "code",
   "outputs": [],
   "source": [
    "time_1 = datetime.now()\n",
    "grpm_match_mesh_metrics = grpm_match_full[['pmid', 'mesh']].groupby('mesh').describe(include='all')#agg(lambda x: x.unique())\n",
    "print(datetime.now() -time_1)\n",
    "#grpm_match_mesh_metrics.head()\n",
    "\n",
    "grpm_match_mesh_metrics_sort = grpm_match_mesh_metrics.sort_values(by=('pmid','unique'), ascending= False)\n",
    "top10mesh = list(grpm_match_mesh_metrics_sort[:10].index)\n",
    "top10mesh"
   ],
   "metadata": {
    "collapsed": false
   },
   "execution_count": null
  },
  {
   "cell_type": "code",
   "outputs": [],
   "source": [
    "time_1 = datetime.now()\n",
    "grpm_match_pmids_metrics = grpm_match_full[['gene', 'rsid', 'pmid', 'mesh']].groupby('pmid').describe(include='all')#agg(lambda x: x.unique())\n",
    "print(datetime.now() -time_1)\n",
    "grpm_match_pmids_metrics.head()"
   ],
   "metadata": {
    "collapsed": false
   }
  },
  {
   "cell_type": "markdown",
   "source": [
    "## Compile Survey Report \n",
    "Gather Extraction Data\n",
    "(approx. 10 minutes required)"
   ],
   "metadata": {
    "collapsed": false
   }
  },
  {
   "cell_type": "code",
   "outputs": [
    {
     "name": "stderr",
     "output_type": "stream",
     "text": [
      "100%|██████████| 15519/15519 [25:52<00:00, 10.00it/s] \n"
     ]
    },
    {
     "name": "stdout",
     "output_type": "stream",
     "text": [
      "time batch: 0:25:52.527398\n",
      "runtime/gene: 0:00:00.100040\n"
     ]
    }
   ],
   "source": [
    "from tqdm import tqdm\n",
    "\n",
    "#---------------------------------------------\n",
    "# Edit saving options:\n",
    "checkpoint = 10 # write Report each \"n\" genes\n",
    "\n",
    "include_top10 = True # for a faster job\n",
    "save_plot = False  # only if include_top10 = True\n",
    "\n",
    "run_sample = simple_bool('Run a sample?') # set True just to run a test\n",
    "sample_size = 100\n",
    "\n",
    "df_report_complete = pd.DataFrame()\n",
    "#---------------------------------------------\n",
    "\n",
    "# define gene list\n",
    "import random\n",
    "if run_sample:\n",
    "    genes = random.sample(grpm_genes_list[:], sample_size)\n",
    "else:\n",
    "    genes = grpm_genes_list\n",
    "\n",
    "# Start cycle\n",
    "time_start = datetime.now()\n",
    "for gene in tqdm(genes):\n",
    "\n",
    "    time_alpha = datetime.now()\n",
    "    timestamp = time_alpha.strftime('%Y%m%d%H%M%S')\n",
    "\n",
    "    # Pre-Selection Metrics ===========\n",
    "    grpm_gene_metrics_gene = grpm_gene_metrics.loc[gene]\n",
    "    starting_pmid          =  grpm_gene_metrics_gene.pmid.loc['unique']\n",
    "    starting_mesh          =  grpm_gene_metrics_gene.mesh.loc['unique']\n",
    "    lit1_rsid              =  grpm_gene_metrics_gene.rsid.loc['unique']\n",
    "    starting_pmidmesh      =  grpm_gene_metrics_gene.pmidmesh.loc['unique']\n",
    "    \n",
    "    #  Post-Selection Metrics ===========\n",
    "    if gene in grpm_match_gene_metrics.index:\n",
    "        grpm_match_gene_metrics_gene = grpm_match_gene_metrics.loc[gene]\n",
    "        matching_rsid                = grpm_match_gene_metrics_gene.rsid.loc['unique']\n",
    "        dropped_rsid                 = lit1_rsid - matching_rsid\n",
    "        matching_pmids               = grpm_match_gene_metrics_gene.pmid.loc['unique']\n",
    "        matching_mesh                = grpm_match_gene_metrics_gene.mesh.loc['unique']\n",
    "        matching_pmidmesh            = grpm_match_gene_metrics_gene.pmidmesh.loc['unique']\n",
    "    else:\n",
    "        matching_rsid                = 0\n",
    "        dropped_rsid                 = lit1_rsid - 0\n",
    "        matching_pmids               = 0\n",
    "        matching_mesh                = 0\n",
    "        matching_pmidmesh            = 0\n",
    "                \n",
    "\n",
    "    #------------------------\n",
    "    if not include_top10:\n",
    "        matching_rsid_pmid10  = 'na'\n",
    "        matching_rsid_pmid100 = 'na'\n",
    "        top10rsid             = 'na'\n",
    "        top10mesh             = 'na'\n",
    "    else:\n",
    "        #=====================================\n",
    "        # Get gene_grpm (slow step)\n",
    "        grpm_gene = grpm_match_full.loc[grpm_match_full['gene'] == gene]\n",
    "        #print(datetime.now() -time_alpha)\n",
    "    \n",
    "        dfmatch_full = grpm_gene\n",
    "        dfmatch_less = dfmatch_full[['pmid', 'rsid', 'mesh']].drop_duplicates()\n",
    "        #=====================================\n",
    "\n",
    "        #=====================================\n",
    "        ## 1. groupby.describe analysis by [rsid]\n",
    "        dfmatch_less_rsid = dfmatch_less.groupby('rsid').describe().reset_index()\n",
    "        dfmatch_less_rsid.columns = dfmatch_less_rsid.columns.to_flat_index()\n",
    "        new_column_names = ['rsid', 'pmid-count', 'pmid-unique','pmid-top','pmid-freq','mesh-count', 'mesh-unique','mesh-top','mesh-freq']\n",
    "        dfmatch_less_rsid.columns = new_column_names\n",
    "\n",
    "        ### statistics:\n",
    "        #grpm_match_rsid_metrics_gene = grpm_match_rsid_metrics.loc[gene]\n",
    "        matching_rsid_pmid10 = len(dfmatch_less_rsid[dfmatch_less_rsid['pmid-unique']>10])\n",
    "        matching_rsid_pmid100 = len(dfmatch_less_rsid[dfmatch_less_rsid['pmid-unique']>100])\n",
    "\n",
    "        ### sorting, top10\n",
    "        dfmatch_less_rsidless = dfmatch_less_rsid[['rsid','pmid-unique','mesh-unique']]\n",
    "        dfmatch_less_rsidlesssort = dfmatch_less_rsidless.sort_values(by='pmid-unique', ascending= False).reset_index(drop=True)\n",
    "        top10rsid = dfmatch_less_rsidlesssort['rsid'][:10].tolist()\n",
    "        #==================================\n",
    "        \n",
    "        #==================================\n",
    "        ## 2. groupby.describe analysis by [mesh]\n",
    "        dfmatch_less_mesh = dfmatch_less.groupby('mesh').describe().reset_index()\n",
    "        dfmatch_less_mesh.columns = dfmatch_less_mesh.columns.to_flat_index()\n",
    "        # simplify df.groupby.describe, convert Multicolumn to single column \n",
    "        new_column_names = ['mesh', 'pmid-count', 'pmid-unique','pmid-top','pmid-freq','rsid-count', 'rsid-unique','rsid-top','rsid-freq']\n",
    "        dfmatch_less_mesh.columns = new_column_names\n",
    "        dfmatch_less_mesh_less = dfmatch_less_mesh[['mesh','pmid-unique','rsid-unique']]\n",
    "        \n",
    "        ### add frequency, top10\n",
    "        samplepmid_count = len(dfmatch_less.pmid.drop_duplicates())\n",
    "        dfmatch_less_mesh_less_frq = dfmatch_less_mesh_less.copy()\n",
    "        mesh_frq = dfmatch_less_mesh_less_frq.loc[:,'pmid-unique'].astype(float)/samplepmid_count\n",
    "        dfmatch_less_mesh_less_frq.loc[:,'mesh frequency'] = round(mesh_frq,3)#*100\n",
    "        dfmatch_less_mesh_less_frqsort = dfmatch_less_mesh_less_frq.sort_values(by='pmid-unique',ascending=False).reset_index(drop=True)\n",
    "        top10mesh = dfmatch_less_mesh_less_frqsort['mesh'][:10].tolist()\n",
    "        #==================================\n",
    "\n",
    "        if save_plot:\n",
    "            # create a scatter plot\n",
    "            x = dfmatch_less_mesh_less_frqsort['mesh'].head(30)\n",
    "            y = dfmatch_less_mesh_less_frqsort['pmid-unique'].head(30)\n",
    "            plt.figure(figsize=(5, 8))\n",
    "            plt.title('Scatter Plot: '+gene+' pmid-mesh (filtered)', loc='center',pad=10)\n",
    "            plt.scatter(y, x)\n",
    "            plt.gca().invert_yaxis()\n",
    "            #plt.subplots_adjust(left=0.3, right=0.9, bottom=0.3, top=0.9)\n",
    "            #plt.xticks(rotation=90)\n",
    "            plt.tick_params(axis='x', which='both', top=True, bottom=False, labeltop=True, labelbottom=False)\n",
    "            plt.xlabel('pmid count', position=(0.5, 1.08))\n",
    "            ax = plt.gca()\n",
    "            ax.xaxis.set_label_position('top')\n",
    "            #plt.show()\n",
    "            plt.savefig(directory+'/'+gene+'_mesh_plot_'+timestamp+'_filtered.png',dpi=120, bbox_inches = \"tight\")\n",
    "            plt.close()\n",
    "        else:\n",
    "            pass\n",
    "\n",
    "\n",
    "    # Collect REPORT data ==================================\n",
    "\n",
    "    report = { 'reference_mesh': ref_mesh_n,\n",
    "               'starting_pmidmesh': starting_pmidmesh,\n",
    "               'starting_pmid' : starting_pmid,\n",
    "               'starting_mesh': starting_mesh,\n",
    "               'starting_rsid': lit1_rsid,\n",
    "               'matching_pmidmesh': matching_pmidmesh,\n",
    "               'matching_pmids': matching_pmids,\n",
    "               'matching_mesh': matching_mesh,\n",
    "               'matching_rsid': matching_rsid,\n",
    "               'dropped_rsid': dropped_rsid,\n",
    "               'matching_mesh_ratio': round((matching_mesh/starting_mesh),3),\n",
    "               'matching_pmids_ratio': round((matching_pmids/starting_pmid),3),\n",
    "               'matching_pmidmesh_ratio':  round((matching_pmidmesh/starting_pmidmesh),3),\n",
    "               'matching_rsid_ratio': round((matching_rsid/lit1_rsid),3),\n",
    "               'matching_rsid_pmid10': matching_rsid_pmid10,\n",
    "               'matching_rsid_pmid100': matching_rsid_pmid100,\n",
    "               'matching_top10mesh':str(top10mesh),\n",
    "               'matching_top10rsid':str(top10rsid),\n",
    "               }\n",
    "    \n",
    "    # UPDATE REPORT ------------\n",
    "    df_new_raw = pd.DataFrame(report, index=[gene])\n",
    "    df_report_complete = pd.concat([df_report_complete, df_new_raw])\n",
    "\n",
    "    full_runtime = datetime.now() - time_alpha\n",
    "    #print((gene+'_runtime:').ljust(18)+ str(full_runtime).ljust(15), ' Genes processed:', genes.index(gene), 'on', len(genes))\n",
    "    total_seconds = full_runtime.total_seconds()\n",
    "\n",
    "    # save checkpoint----------------------\n",
    "    if genes.index(gene) > 1 and genes.index(gene) % checkpoint == 0:\n",
    "        df_report_complete.to_csv(directory+'/GRPMX_report.csv')\n",
    "        #print(\"saved checkpoint\")\n",
    "    else:\n",
    "        pass\n",
    "    #==================================\n",
    "\n",
    "\n",
    "# Save report csv  (saving translate version is a code atavism)\n",
    "df_report_complete.to_csv(directory+'/GRPMX_report.csv')\n",
    "\n",
    "\"\"\"# #Update gene values (remove previous gene entry)\n",
    "GRPMX_report = pd.read_csv(directory+'/GRPMX_report.csv', index_col=0)\n",
    "time_load_1 = datetime.now()\n",
    "for gene in grpm_genes_list:\n",
    "    if gene+'.1' in GRPMX_report.columns:\n",
    "        GRPMX_report = GRPMX_report.drop(columns = gene)\n",
    "        GRPMX_report = GRPMX_report.rename(columns={gene+'.1': gene})\n",
    "    else:\n",
    "        pass\n",
    "    \n",
    "print(datetime.now() - time_load_1)\n",
    "GRPMX_report.to_csv(directory+'/GRPMX_report.csv')\"\"\"\n",
    "\n",
    "time_finish = datetime.now()\n",
    "time_batch = time_finish - time_start\n",
    "\n",
    "if os.path.isfile('run_time.txt'):\n",
    "    with open('run_time.txt', 'a') as file:\n",
    "        file.write(topic_tag+':\\n\\ttime batch: '+str(time_batch)+'\\n\\truntime/gene: '+str(time_batch/len(genes))+'\\n\\n')\n",
    "else:\n",
    "    with open('run_time.txt', 'w') as file:\n",
    "        file.write(topic_tag+':\\n\\ttime batch: '+str(time_batch)+'\\n\\truntime/gene: '+str(time_batch/len(genes))+'\\n\\n')\n",
    "\n",
    "print('time batch:',time_batch)\n",
    "print('runtime/gene:', time_batch/len(genes))"
   ],
   "metadata": {
    "collapsed": false,
    "ExecuteTime": {
     "end_time": "2024-10-22T09:13:51.945169700Z",
     "start_time": "2024-10-22T08:47:57.869196Z"
    }
   },
   "execution_count": 28
  },
  {
   "cell_type": "code",
   "outputs": [
    {
     "data": {
      "text/plain": "         reference_mesh  starting_pmidmesh  starting_pmid  starting_mesh  \\\nMT-ND1              510               3603            269            764   \nMT-ND2              510               3958            292            795   \nMT-CO1              510               2308            163            558   \nMT-CO2              510               1330             94            422   \nMT-ATP8             510               1802            127            518   \n...                 ...                ...            ...            ...   \nCRISP1              510                 22              2             19   \nTMC3                510                 50              4             40   \nMPIG6B              510                210             16            107   \nPDP1                510                241             19            179   \nTAS2R60             510                 85              6             56   \n\n         starting_rsid  matching_pmidmesh  matching_pmids  matching_mesh  \\\nMT-ND1             105                482             240             52   \nMT-ND2             123                546             267             57   \nMT-CO1              97                351             155             43   \nMT-CO2              67                206              84             33   \nMT-ATP8             77                293             118             41   \n...                ...                ...             ...            ...   \nCRISP1               2                  1               1              1   \nTMC3                 3                  1               1              1   \nMPIG6B               7                  8               3              8   \nPDP1                13                 10               7              7   \nTAS2R60              3                  2               2              1   \n\n         matching_rsid  dropped_rsid  matching_mesh_ratio  \\\nMT-ND1              97             8                0.068   \nMT-ND2             112            11                0.072   \nMT-CO1              93             4                0.077   \nMT-CO2              63             4                0.078   \nMT-ATP8             75             2                0.079   \n...                ...           ...                  ...   \nCRISP1               1             1                0.053   \nTMC3                 1             2                0.025   \nMPIG6B               3             4                0.075   \nPDP1                 5             8                0.039   \nTAS2R60              2             1                0.018   \n\n         matching_pmids_ratio  matching_pmidmesh_ratio  matching_rsid_ratio  \\\nMT-ND1                  0.892                    0.134                0.924   \nMT-ND2                  0.914                    0.138                0.911   \nMT-CO1                  0.951                    0.152                0.959   \nMT-CO2                  0.894                    0.155                0.940   \nMT-ATP8                 0.929                    0.163                0.974   \n...                       ...                      ...                  ...   \nCRISP1                  0.500                    0.045                0.500   \nTMC3                    0.250                    0.020                0.333   \nMPIG6B                  0.188                    0.038                0.429   \nPDP1                    0.368                    0.041                0.385   \nTAS2R60                 0.333                    0.024                0.667   \n\n         matching_rsid_pmid10  matching_rsid_pmid100  \\\nMT-ND1                      6                      0   \nMT-ND2                      9                      0   \nMT-CO1                      5                      0   \nMT-CO2                      1                      0   \nMT-ATP8                     4                      0   \n...                       ...                    ...   \nCRISP1                      0                      0   \nTMC3                        0                      0   \nMPIG6B                      0                      0   \nPDP1                        0                      0   \nTAS2R60                     0                      0   \n\n                                        matching_top10mesh  \\\nMT-ND1   ['DNA, Mitochondrial', 'Mitochondria', 'Mitoch...   \nMT-ND2   ['DNA, Mitochondrial', 'Mitochondria', 'Mitoch...   \nMT-CO1   ['DNA, Mitochondrial', 'Mitochondria', 'Genome...   \nMT-CO2   ['DNA, Mitochondrial', 'Mitochondria', 'Genome...   \nMT-ATP8  ['DNA, Mitochondrial', 'Mitochondria', 'Mitoch...   \n...                                                    ...   \nCRISP1                                 ['Protein Folding']   \nTMC3                                 ['Parkinson Disease']   \nMPIG6B   ['Alzheimer Disease', 'Brain Ischemia', 'Intra...   \nPDP1     ['Brain', 'Cerebellar Diseases', 'Lipid Metabo...   \nTAS2R60                              ['Alzheimer Disease']   \n\n                                        matching_top10rsid  \nMT-ND1   ['rs199476118', 'rs41460449', 'rs397515507', '...  \nMT-ND2   ['rs199476118', 'rs41460449', 'rs397515507', '...  \nMT-CO1   ['rs28357984', 'rs1599988', 'rs3021088', 'rs19...  \nMT-CO2   ['rs2000975', 'rs3135028', 'rs200165736', 'rs2...  \nMT-ATP8  ['rs199476133', 'rs2000975', 'rs2001031', 'rs1...  \n...                                                    ...  \nCRISP1                                     ['rs149522268']  \nTMC3                                         ['rs3935740']  \nMPIG6B           ['rs11575848', 'rs117894946', 'rs805294']  \nPDP1     ['rs267606938', 'rs755840386', 'rs750529031', ...  \nTAS2R60                        ['rs10241042', 'rs4595035']  \n\n[15519 rows x 18 columns]",
      "text/html": "<div>\n<style scoped>\n    .dataframe tbody tr th:only-of-type {\n        vertical-align: middle;\n    }\n\n    .dataframe tbody tr th {\n        vertical-align: top;\n    }\n\n    .dataframe thead th {\n        text-align: right;\n    }\n</style>\n<table border=\"1\" class=\"dataframe\">\n  <thead>\n    <tr style=\"text-align: right;\">\n      <th></th>\n      <th>reference_mesh</th>\n      <th>starting_pmidmesh</th>\n      <th>starting_pmid</th>\n      <th>starting_mesh</th>\n      <th>starting_rsid</th>\n      <th>matching_pmidmesh</th>\n      <th>matching_pmids</th>\n      <th>matching_mesh</th>\n      <th>matching_rsid</th>\n      <th>dropped_rsid</th>\n      <th>matching_mesh_ratio</th>\n      <th>matching_pmids_ratio</th>\n      <th>matching_pmidmesh_ratio</th>\n      <th>matching_rsid_ratio</th>\n      <th>matching_rsid_pmid10</th>\n      <th>matching_rsid_pmid100</th>\n      <th>matching_top10mesh</th>\n      <th>matching_top10rsid</th>\n    </tr>\n  </thead>\n  <tbody>\n    <tr>\n      <th>MT-ND1</th>\n      <td>510</td>\n      <td>3603</td>\n      <td>269</td>\n      <td>764</td>\n      <td>105</td>\n      <td>482</td>\n      <td>240</td>\n      <td>52</td>\n      <td>97</td>\n      <td>8</td>\n      <td>0.068</td>\n      <td>0.892</td>\n      <td>0.134</td>\n      <td>0.924</td>\n      <td>6</td>\n      <td>0</td>\n      <td>['DNA, Mitochondrial', 'Mitochondria', 'Mitoch...</td>\n      <td>['rs199476118', 'rs41460449', 'rs397515507', '...</td>\n    </tr>\n    <tr>\n      <th>MT-ND2</th>\n      <td>510</td>\n      <td>3958</td>\n      <td>292</td>\n      <td>795</td>\n      <td>123</td>\n      <td>546</td>\n      <td>267</td>\n      <td>57</td>\n      <td>112</td>\n      <td>11</td>\n      <td>0.072</td>\n      <td>0.914</td>\n      <td>0.138</td>\n      <td>0.911</td>\n      <td>9</td>\n      <td>0</td>\n      <td>['DNA, Mitochondrial', 'Mitochondria', 'Mitoch...</td>\n      <td>['rs199476118', 'rs41460449', 'rs397515507', '...</td>\n    </tr>\n    <tr>\n      <th>MT-CO1</th>\n      <td>510</td>\n      <td>2308</td>\n      <td>163</td>\n      <td>558</td>\n      <td>97</td>\n      <td>351</td>\n      <td>155</td>\n      <td>43</td>\n      <td>93</td>\n      <td>4</td>\n      <td>0.077</td>\n      <td>0.951</td>\n      <td>0.152</td>\n      <td>0.959</td>\n      <td>5</td>\n      <td>0</td>\n      <td>['DNA, Mitochondrial', 'Mitochondria', 'Genome...</td>\n      <td>['rs28357984', 'rs1599988', 'rs3021088', 'rs19...</td>\n    </tr>\n    <tr>\n      <th>MT-CO2</th>\n      <td>510</td>\n      <td>1330</td>\n      <td>94</td>\n      <td>422</td>\n      <td>67</td>\n      <td>206</td>\n      <td>84</td>\n      <td>33</td>\n      <td>63</td>\n      <td>4</td>\n      <td>0.078</td>\n      <td>0.894</td>\n      <td>0.155</td>\n      <td>0.940</td>\n      <td>1</td>\n      <td>0</td>\n      <td>['DNA, Mitochondrial', 'Mitochondria', 'Genome...</td>\n      <td>['rs2000975', 'rs3135028', 'rs200165736', 'rs2...</td>\n    </tr>\n    <tr>\n      <th>MT-ATP8</th>\n      <td>510</td>\n      <td>1802</td>\n      <td>127</td>\n      <td>518</td>\n      <td>77</td>\n      <td>293</td>\n      <td>118</td>\n      <td>41</td>\n      <td>75</td>\n      <td>2</td>\n      <td>0.079</td>\n      <td>0.929</td>\n      <td>0.163</td>\n      <td>0.974</td>\n      <td>4</td>\n      <td>0</td>\n      <td>['DNA, Mitochondrial', 'Mitochondria', 'Mitoch...</td>\n      <td>['rs199476133', 'rs2000975', 'rs2001031', 'rs1...</td>\n    </tr>\n    <tr>\n      <th>...</th>\n      <td>...</td>\n      <td>...</td>\n      <td>...</td>\n      <td>...</td>\n      <td>...</td>\n      <td>...</td>\n      <td>...</td>\n      <td>...</td>\n      <td>...</td>\n      <td>...</td>\n      <td>...</td>\n      <td>...</td>\n      <td>...</td>\n      <td>...</td>\n      <td>...</td>\n      <td>...</td>\n      <td>...</td>\n      <td>...</td>\n    </tr>\n    <tr>\n      <th>CRISP1</th>\n      <td>510</td>\n      <td>22</td>\n      <td>2</td>\n      <td>19</td>\n      <td>2</td>\n      <td>1</td>\n      <td>1</td>\n      <td>1</td>\n      <td>1</td>\n      <td>1</td>\n      <td>0.053</td>\n      <td>0.500</td>\n      <td>0.045</td>\n      <td>0.500</td>\n      <td>0</td>\n      <td>0</td>\n      <td>['Protein Folding']</td>\n      <td>['rs149522268']</td>\n    </tr>\n    <tr>\n      <th>TMC3</th>\n      <td>510</td>\n      <td>50</td>\n      <td>4</td>\n      <td>40</td>\n      <td>3</td>\n      <td>1</td>\n      <td>1</td>\n      <td>1</td>\n      <td>1</td>\n      <td>2</td>\n      <td>0.025</td>\n      <td>0.250</td>\n      <td>0.020</td>\n      <td>0.333</td>\n      <td>0</td>\n      <td>0</td>\n      <td>['Parkinson Disease']</td>\n      <td>['rs3935740']</td>\n    </tr>\n    <tr>\n      <th>MPIG6B</th>\n      <td>510</td>\n      <td>210</td>\n      <td>16</td>\n      <td>107</td>\n      <td>7</td>\n      <td>8</td>\n      <td>3</td>\n      <td>8</td>\n      <td>3</td>\n      <td>4</td>\n      <td>0.075</td>\n      <td>0.188</td>\n      <td>0.038</td>\n      <td>0.429</td>\n      <td>0</td>\n      <td>0</td>\n      <td>['Alzheimer Disease', 'Brain Ischemia', 'Intra...</td>\n      <td>['rs11575848', 'rs117894946', 'rs805294']</td>\n    </tr>\n    <tr>\n      <th>PDP1</th>\n      <td>510</td>\n      <td>241</td>\n      <td>19</td>\n      <td>179</td>\n      <td>13</td>\n      <td>10</td>\n      <td>7</td>\n      <td>7</td>\n      <td>5</td>\n      <td>8</td>\n      <td>0.039</td>\n      <td>0.368</td>\n      <td>0.041</td>\n      <td>0.385</td>\n      <td>0</td>\n      <td>0</td>\n      <td>['Brain', 'Cerebellar Diseases', 'Lipid Metabo...</td>\n      <td>['rs267606938', 'rs755840386', 'rs750529031', ...</td>\n    </tr>\n    <tr>\n      <th>TAS2R60</th>\n      <td>510</td>\n      <td>85</td>\n      <td>6</td>\n      <td>56</td>\n      <td>3</td>\n      <td>2</td>\n      <td>2</td>\n      <td>1</td>\n      <td>2</td>\n      <td>1</td>\n      <td>0.018</td>\n      <td>0.333</td>\n      <td>0.024</td>\n      <td>0.667</td>\n      <td>0</td>\n      <td>0</td>\n      <td>['Alzheimer Disease']</td>\n      <td>['rs10241042', 'rs4595035']</td>\n    </tr>\n  </tbody>\n</table>\n<p>15519 rows × 18 columns</p>\n</div>"
     },
     "execution_count": 29,
     "metadata": {},
     "output_type": "execute_result"
    }
   ],
   "source": [
    "df_report_complete"
   ],
   "metadata": {
    "collapsed": false,
    "ExecuteTime": {
     "end_time": "2024-10-22T09:17:09.335491900Z",
     "start_time": "2024-10-22T09:17:09.256475700Z"
    }
   },
   "execution_count": 29
  },
  {
   "cell_type": "markdown",
   "source": [
    "GRPM-Survey Version 2.0\n",
    "\n",
    "OB-BMI (full)/\n",
    "time batch: 0:42:36.831920\n",
    "runtime/gene: 0:00:00.164755\n",
    "\n",
    "======================================\n",
    "GRPM-Survey Version 3.0\n",
    "OB-BMI (partial)\n",
    "time batch: 0:00:49.547031\n",
    "runtime/gene: 0:00:00.003193\n",
    "\n",
    "OB-BMI (full)\n",
    "time batch: 0:10:30.102083\n",
    "runtime/gene: 0:00:00.040602\\78/"
   ],
   "metadata": {
    "collapsed": false
   }
  },
  {
   "cell_type": "code",
   "outputs": [
    {
     "data": {
      "text/plain": "   Unnamed: 0  reference_mesh  starting_pmidmesh  starting_pmid  \\\n0        CDH8             510                127              9   \n1         MPL             510               6069            437   \n2       BICD2             510                366             28   \n3     LDLRAD4             510                270             18   \n4        DDI2             510                 67              4   \n5      MT-CYB             510               3744            261   \n6      IL11RA             510                305             22   \n7        TSPO             510               3004            233   \n8      DEPDC5             510                687             43   \n9        REST             510                545             44   \n10     STAT5A             510                517             30   \n11      RPL29             510                 24              2   \n12     ABHD15             510                 16              2   \n13       BCL6             510                309             21   \n14      TIMP3             510               1514            104   \n15      CYTH3             510                 97              7   \n16      SGPP2             510                 78              6   \n17       PREP             510                104              9   \n18   TMEM106C             510                197             14   \n19      CD209             510               2075            138   \n20      ERCC2             510              10047            643   \n21      TIGAR             510                 58              4   \n22      RPL10             510                257             19   \n23     CXCL11             510                227             12   \n24      ACBD5             510                 36              3   \n25     MAP4K4             510                306             23   \n26      GNB1L             510                207             15   \n27      BRIP1             510               2423            162   \n28    SLC39A2             510                 50              4   \n29       G6PD             510               6201            450   \n30      PDE4D             510               2998            194   \n31      LEKR1             510                243             16   \n32     CCDC33             510                323             22   \n33     EXOSC9             510                132              8   \n34      CCRL2             510                224             14   \n35      MACIR             510                504             35   \n36      CYTH4             510                 49              4   \n37     TAS1R3             510                416             31   \n38      ALPK3             510                186             15   \n39       CYS1             510                 58              3   \n40       LMO2             510                146              9   \n41       SNX9             510                163             12   \n42     LRRTM2             510                 76              5   \n43      ICAM5             510                335             23   \n44      CDC45             510                335             22   \n45     MT-ND6             510               3439            239   \n46      FARP2             510                530             44   \n47       MFRP             510               1379             90   \n48      SNAI1             510                436             27   \n49    ALDH7A1             510                708             52   \n50       RTN2             510                748             63   \n51      RPS27             510                 87              7   \n52      KRT77             510                 89              7   \n53     CEP85L             510               1213             94   \n54      SRXN1             510                 24              2   \n55      KCND3             510                829             61   \n56       PEX6             510                582             41   \n57   ARHGAP45             510               2335            166   \n58      NOP56             510                116              7   \n59       ACP6             510                102              7   \n60      ENKD1             510                 48              4   \n61  ARHGAP11B             510                 24              2   \n62    MMP24OS             510                160             12   \n63      MAPK7             510                169             11   \n64      BMPER             510                162             11   \n65     TRIM47             510                349             24   \n66     ZNF267             510                 29              2   \n67       CTSF             510                 60              5   \n68       RCN3             510                236             15   \n69    SH3BGRL             510                 47              4   \n70      ACTL8             510                 54              4   \n71      BEND3             510                 92              6   \n72     ZNF420             510                 19              2   \n73      STAB2             510                272             19   \n74       CCR4             510                171             11   \n75    ATXN7L1             510                100              7   \n76      HNF4G             510                614             43   \n77        NVL             510                 77              6   \n78       NGFR             510                801             57   \n79      RAD18             510                349             22   \n80      UBXN6             510                 89              6   \n81       GYPA             510                214             16   \n82      MAGI2             510               1184             74   \n83     TRIM63             510                504             34   \n84      KCNK3             510                617             48   \n85       HTR4             510                605             43   \n86     ATP2C1             510                333             24   \n87     ADGRB1             510                 29              2   \n88    LAMTOR3             510                 30              2   \n89    PLA2G4F             510                 44              4   \n90       ATRX             510               1235             78   \n91       UBA2             510                 65              4   \n92     ABCC11             510               1054             83   \n93      AGAP3             510                114              7   \n94      ENPP1             510               4385            288   \n95      NANOG             510                724             47   \n96      CH25H             510                 68              5   \n97      NOVA2             510                 34              2   \n98    CAPRIN1             510                 33              3   \n99     KLHL25             510                 39              3   \n\n    starting_mesh  starting_rsid  matching_pmidmesh  matching_pmids  \\\n0              85              9                  5               3   \n1             980             69                 62              58   \n2             142             17                 40              25   \n3             136             25                  2               1   \n4              58              2                  2               2   \n5             837            156                497             223   \n6             151             19                  2               1   \n7             699             65                502             201   \n8             266             48                 37              18   \n9             241             20                 40              25   \n10            272             22                 10               7   \n11             23              2                  0               0   \n12             15              2                  0               0   \n13            189             25                  3               3   \n14            483             56                 25              15   \n15             77             10                  4               3   \n16             52              9                  1               1   \n17             83             17                  4               2   \n18             82              3                  2               2   \n19            625             76                 18              10   \n20           1213            115                 99              86   \n21             50              3                  2               2   \n22            143             11                  7               6   \n23            124             15                  4               4   \n24             34              3                  4               3   \n25            161             23                 27              17   \n26            119             24                  3               2   \n27            561            167                 24              18   \n28             42              5                  1               1   \n29           1049            161                 40              34   \n30            785            135                120              70   \n31            122             16                  7               5   \n32            150             22                  4               3   \n33             89              5                 10               5   \n34            136              6                  5               2   \n35            190              9                  6               5   \n36             44              4                  1               1   \n37            182             25                  5               3   \n38            103             28                  3               2   \n39             50              5                  1               1   \n40            111             27                  2               2   \n41            109             13                  3               3   \n42             60              5                  3               1   \n43            161             17                 12               9   \n44            184             21                 13               9   \n45            805            124                441             201   \n46            224             19                  3               3   \n47            431             63                 45              40   \n48            222             16                  8               8   \n49            306             78                 47              34   \n50            286             30                  7               6   \n51             67              2                  4               3   \n52             79              7                  0               0   \n53            373             30                 28              24   \n54             19              3                  1               1   \n55            326             54                 33              24   \n56            246             73                 18              16   \n57            524            103                 27              16   \n58             91              7                  9               4   \n59             61              7                  2               2   \n60             43              4                  5               3   \n61             21              2                  0               0   \n62            110              5                  0               0   \n63            127             17                  5               5   \n64            115             20                  2               2   \n65            139             11                 37              21   \n66             26              2                  1               1   \n67             51             12                  4               3   \n68            143              7                  1               1   \n69             41              3                  0               0   \n70             40              3                  1               1   \n71             63              5                  1               1   \n72             18              2                  0               0   \n73            143             25                  7               4   \n74            100              6                  1               1   \n75             63              8                  2               2   \n76            221             19                  4               4   \n77             57              8                  0               0   \n78            335             23                120              47   \n79            179             15                  7               5   \n80             75              6                  2               1   \n81            149             15                  1               1   \n82            439            123                 36              29   \n83            197             19                 24              10   \n84            235             25                 28              20   \n85            240             59                 25              17   \n86            166             32                  7               6   \n87             25              3                  1               1   \n88             24              3                  0               0   \n89             34              6                  0               0   \n90            439             53                 43              35   \n91             60              4                  2               2   \n92            353             20                 12               9   \n93             93             14                  8               4   \n94            934             94                 44              30   \n95            327             24                  8               8   \n96             48              7                  3               2   \n97             33              2                  0               0   \n98             28              3                  1               1   \n99             36              4                  1               1   \n\n    matching_mesh  matching_rsid  dropped_rsid  matching_mesh_ratio  \\\n0               5              3             6                0.059   \n1              18             16            53                0.018   \n2              18             16             1                0.127   \n3               2              1            24                0.015   \n4               2              2             0                0.034   \n5              52            154             2                0.062   \n6               2              2            17                0.013   \n7              71             56             9                0.102   \n8              12             30            18                0.045   \n9              21             18             2                0.087   \n10              9              8            14                0.033   \n11              0              0             2                0.000   \n12              0              0             2                0.000   \n13              3              6            19                0.016   \n14             21             18            38                0.043   \n15              4              5             5                0.052   \n16              1              5             4                0.019   \n17              4              2            15                0.048   \n18              2              2             1                0.024   \n19             12              8            68                0.019   \n20             26             48            67                0.021   \n21              2              2             1                0.040   \n22              7              5             6                0.049   \n23              4              4            11                0.032   \n24              4              3             0                0.118   \n25             12             16             7                0.075   \n26              2             11            13                0.017   \n27             13             32           135                0.023   \n28              1              1             4                0.024   \n29             20             26           135                0.019   \n30             40             51            84                0.051   \n31              5              4            12                0.041   \n32              4              5            17                0.027   \n33              8              3             2                0.090   \n34              5              4             2                0.037   \n35              5              3             6                0.026   \n36              1              1             3                0.023   \n37              3              3            22                0.016   \n38              3              2            26                0.029   \n39              1              2             3                0.020   \n40              2              3            24                0.018   \n41              2              3            10                0.018   \n42              3              1             4                0.050   \n43              8              8             9                0.050   \n44              5              6            15                0.027   \n45             50            121             3                0.062   \n46              3              3            16                0.013   \n47             14             55             8                0.032   \n48              5              8             8                0.023   \n49             18             63            15                0.059   \n50              7              8            22                0.024   \n51              3              1             1                0.045   \n52              0              0             7                0.000   \n53              8              6            24                0.021   \n54              1              3             0                0.053   \n55             20             26            28                0.061   \n56             10             61            12                0.041   \n57             13             11            92                0.025   \n58              6              4             3                0.066   \n59              1              3             4                0.016   \n60              5              3             1                0.116   \n61              0              0             2                0.000   \n62              0              0             5                0.000   \n63              4              8             9                0.031   \n64              2              2            18                0.017   \n65             17              8             3                0.122   \n66              1              1             1                0.038   \n67              3              7             5                0.059   \n68              1              1             6                0.007   \n69              0              0             3                0.000   \n70              1              1             2                0.025   \n71              1              1             4                0.016   \n72              0              0             2                0.000   \n73              7              8            17                0.049   \n74              1              1             5                0.010   \n75              2              3             5                0.032   \n76              4              4            15                0.018   \n77              0              0             8                0.000   \n78             49             21             2                0.146   \n79              7              5            10                0.039   \n80              2              1             5                0.027   \n81              1              1            14                0.007   \n82             21             35            88                0.048   \n83             16              5            14                0.081   \n84             14             15            10                0.060   \n85             17             29            30                0.071   \n86              7             15            17                0.042   \n87              1              2             1                0.040   \n88              0              0             3                0.000   \n89              0              0             6                0.000   \n90             14             27            26                0.032   \n91              2              2             2                0.033   \n92              9              5            15                0.025   \n93              8             11             3                0.086   \n94             24              9            85                0.026   \n95              4              4            20                0.012   \n96              3              2             5                0.062   \n97              0              0             2                0.000   \n98              1              1             2                0.036   \n99              1              2             2                0.028   \n\n    matching_pmids_ratio  matching_pmidmesh_ratio  matching_rsid_ratio  \\\n0                  0.333                    0.039                0.333   \n1                  0.133                    0.010                0.232   \n2                  0.893                    0.109                0.941   \n3                  0.056                    0.007                0.040   \n4                  0.500                    0.030                1.000   \n5                  0.854                    0.133                0.987   \n6                  0.045                    0.007                0.105   \n7                  0.863                    0.167                0.862   \n8                  0.419                    0.054                0.625   \n9                  0.568                    0.073                0.900   \n10                 0.233                    0.019                0.364   \n11                 0.000                    0.000                0.000   \n12                 0.000                    0.000                0.000   \n13                 0.143                    0.010                0.240   \n14                 0.144                    0.017                0.321   \n15                 0.429                    0.041                0.500   \n16                 0.167                    0.013                0.556   \n17                 0.222                    0.038                0.118   \n18                 0.143                    0.010                0.667   \n19                 0.072                    0.009                0.105   \n20                 0.134                    0.010                0.417   \n21                 0.500                    0.034                0.667   \n22                 0.316                    0.027                0.455   \n23                 0.333                    0.018                0.267   \n24                 1.000                    0.111                1.000   \n25                 0.739                    0.088                0.696   \n26                 0.133                    0.014                0.458   \n27                 0.111                    0.010                0.192   \n28                 0.250                    0.020                0.200   \n29                 0.076                    0.006                0.161   \n30                 0.361                    0.040                0.378   \n31                 0.312                    0.029                0.250   \n32                 0.136                    0.012                0.227   \n33                 0.625                    0.076                0.600   \n34                 0.143                    0.022                0.667   \n35                 0.143                    0.012                0.333   \n36                 0.250                    0.020                0.250   \n37                 0.097                    0.012                0.120   \n38                 0.133                    0.016                0.071   \n39                 0.333                    0.017                0.400   \n40                 0.222                    0.014                0.111   \n41                 0.250                    0.018                0.231   \n42                 0.200                    0.039                0.200   \n43                 0.391                    0.036                0.471   \n44                 0.409                    0.039                0.286   \n45                 0.841                    0.128                0.976   \n46                 0.068                    0.006                0.158   \n47                 0.444                    0.033                0.873   \n48                 0.296                    0.018                0.500   \n49                 0.654                    0.066                0.808   \n50                 0.095                    0.009                0.267   \n51                 0.429                    0.046                0.500   \n52                 0.000                    0.000                0.000   \n53                 0.255                    0.023                0.200   \n54                 0.500                    0.042                1.000   \n55                 0.393                    0.040                0.481   \n56                 0.390                    0.031                0.836   \n57                 0.096                    0.012                0.107   \n58                 0.571                    0.078                0.571   \n59                 0.286                    0.020                0.429   \n60                 0.750                    0.104                0.750   \n61                 0.000                    0.000                0.000   \n62                 0.000                    0.000                0.000   \n63                 0.455                    0.030                0.471   \n64                 0.182                    0.012                0.100   \n65                 0.875                    0.106                0.727   \n66                 0.500                    0.034                0.500   \n67                 0.600                    0.067                0.583   \n68                 0.067                    0.004                0.143   \n69                 0.000                    0.000                0.000   \n70                 0.250                    0.019                0.333   \n71                 0.167                    0.011                0.200   \n72                 0.000                    0.000                0.000   \n73                 0.211                    0.026                0.320   \n74                 0.091                    0.006                0.167   \n75                 0.286                    0.020                0.375   \n76                 0.093                    0.007                0.211   \n77                 0.000                    0.000                0.000   \n78                 0.825                    0.150                0.913   \n79                 0.227                    0.020                0.333   \n80                 0.167                    0.022                0.167   \n81                 0.062                    0.005                0.067   \n82                 0.392                    0.030                0.285   \n83                 0.294                    0.048                0.263   \n84                 0.417                    0.045                0.600   \n85                 0.395                    0.041                0.492   \n86                 0.250                    0.021                0.469   \n87                 0.500                    0.034                0.667   \n88                 0.000                    0.000                0.000   \n89                 0.000                    0.000                0.000   \n90                 0.449                    0.035                0.509   \n91                 0.500                    0.031                0.500   \n92                 0.108                    0.011                0.250   \n93                 0.571                    0.070                0.786   \n94                 0.104                    0.010                0.096   \n95                 0.170                    0.011                0.167   \n96                 0.400                    0.044                0.286   \n97                 0.000                    0.000                0.000   \n98                 0.333                    0.030                0.333   \n99                 0.333                    0.026                0.500   \n\n    matching_rsid_pmid10  matching_rsid_pmid100  \\\n0                      0                      0   \n1                      2                      0   \n2                      1                      0   \n3                      0                      0   \n4                      0                      0   \n5                      9                      0   \n6                      0                      0   \n7                      1                      1   \n8                      0                      0   \n9                      1                      0   \n10                     0                      0   \n11                     0                      0   \n12                     0                      0   \n13                     0                      0   \n14                     0                      0   \n15                     0                      0   \n16                     0                      0   \n17                     0                      0   \n18                     0                      0   \n19                     0                      0   \n20                     2                      0   \n21                     0                      0   \n22                     0                      0   \n23                     0                      0   \n24                     0                      0   \n25                     0                      0   \n26                     0                      0   \n27                     0                      0   \n28                     0                      0   \n29                     0                      0   \n30                     2                      0   \n31                     0                      0   \n32                     0                      0   \n33                     0                      0   \n34                     0                      0   \n35                     0                      0   \n36                     0                      0   \n37                     0                      0   \n38                     0                      0   \n39                     0                      0   \n40                     0                      0   \n41                     0                      0   \n42                     0                      0   \n43                     0                      0   \n44                     0                      0   \n45                     7                      0   \n46                     0                      0   \n47                     1                      0   \n48                     0                      0   \n49                     1                      0   \n50                     0                      0   \n51                     0                      0   \n52                     0                      0   \n53                     1                      0   \n54                     0                      0   \n55                     0                      0   \n56                     0                      0   \n57                     0                      0   \n58                     0                      0   \n59                     0                      0   \n60                     0                      0   \n61                     0                      0   \n62                     0                      0   \n63                     0                      0   \n64                     0                      0   \n65                     0                      0   \n66                     0                      0   \n67                     0                      0   \n68                     0                      0   \n69                     0                      0   \n70                     0                      0   \n71                     0                      0   \n72                     0                      0   \n73                     0                      0   \n74                     0                      0   \n75                     0                      0   \n76                     0                      0   \n77                     0                      0   \n78                     1                      0   \n79                     0                      0   \n80                     0                      0   \n81                     0                      0   \n82                     0                      0   \n83                     0                      0   \n84                     0                      0   \n85                     0                      0   \n86                     0                      0   \n87                     0                      0   \n88                     0                      0   \n89                     0                      0   \n90                     0                      0   \n91                     0                      0   \n92                     0                      0   \n93                     0                      0   \n94                     1                      0   \n95                     0                      0   \n96                     0                      0   \n97                     0                      0   \n98                     0                      0   \n99                     0                      0   \n\n                                   matching_top10mesh  \\\n0   ['Amyotrophic Lateral Sclerosis', 'Dopamine Up...   \n1   ['Phosphorylation', 'Protein Transport', 'Intr...   \n2   ['Muscular Atrophy, Spinal', 'Charcot-Marie-To...   \n3      ['Brain Injuries', 'Epilepsy, Post-Traumatic']   \n4   ['Amyotrophic Lateral Sclerosis', 'Intracellul...   \n5   ['DNA, Mitochondrial', 'Mitochondria', 'Genome...   \n6   ['Membrane Proteins', 'Mitochondrial Membrane ...   \n7   ['Receptors, GABA', 'Brain', 'Microglia', 'Alz...   \n8   ['Epilepsy', 'Neurons', 'Brain', 'Drug Resista...   \n9   ['Hippocampus', 'Alzheimer Disease', 'Nerve Ti...   \n10  ['Phosphorylation', 'Brain Neoplasms', 'Immuno...   \n11                                                 []   \n12                                                 []   \n13  ['Immunologic Memory', 'Membrane Proteins', 'O...   \n14  ['Retinal Diseases', 'Alzheimer Disease', 'Bra...   \n15  ['Alzheimer Disease', 'DNA, Mitochondrial', 'G...   \n16                              ['Membrane Proteins']   \n17  ['DNA, Mitochondrial', 'Genome, Mitochondrial'...   \n18                     ['Brain', 'Parkinson Disease']   \n19  ['Encephalitis, Tick-Borne', 'Encephalitis Vir...   \n20  ['Nuclear Proteins', 'Brain Neoplasms', 'Oxida...   \n21  ['Brain', 'Intracellular Signaling Peptides an...   \n22  ['Brain', 'Cerebellum', 'Epilepsy', 'Hippocamp...   \n23  ['Calcium Signaling', 'Membrane Proteins', 'Ox...   \n24  ['Membrane Proteins', 'Nuclear Proteins', 'Pho...   \n25  ['Parkinson Disease', 'Intracellular Signaling...   \n26  ['Intracellular Signaling Peptides and Protein...   \n27  ['Nuclear Proteins', 'Ataxia Telangiectasia Mu...   \n28                               ['Mental Disorders']   \n29  ['Oxidative Stress', 'Membrane Proteins', 'Pro...   \n30  ['Stroke', 'Brain Ischemia', 'Nerve Tissue Pro...   \n31  ['Membrane Proteins', 'Mitochondrial Membrane ...   \n32  ['Class I Phosphatidylinositol 3-Kinases', 'Me...   \n33  ['Cerebellar Diseases', 'Cerebellum', 'Brain S...   \n34  ['Alzheimer Disease', 'Amyloid beta-Peptides',...   \n35  ['Intracellular Signaling Peptides and Protein...   \n36                          ['Epilepsy, Generalized']   \n37  ['Receptors, Glutamate', 'Sodium Glutamate', '...   \n38      ['Brain', 'Ion Channels', 'Nuclear Proteins']   \n39                              ['Membrane Proteins']   \n40        ['Membrane Proteins', 'RNA, Mitochondrial']   \n41     ['Protein Transport', 'Nerve Tissue Proteins']   \n42  ['Membrane Proteins', 'Nerve Tissue Proteins',...   \n43  ['Nerve Tissue Proteins', 'Nuclear Proteins', ...   \n44  ['Intracellular Signaling Peptides and Protein...   \n45  ['DNA, Mitochondrial', 'Mitochondria', 'Genome...   \n46  ['Membrane Proteins', 'Nuclear Proteins', 'Str...   \n47  ['Membrane Proteins', 'Nerve Tissue Proteins',...   \n48  ['Nuclear Proteins', 'Brain', 'Brain Neoplasms...   \n49  ['Epilepsy', 'Brain', 'Phosphorylation', 'Alde...   \n50  ['Alzheimer Disease', 'Cerebellar Ataxia', 'Mu...   \n51  ['Nuclear Proteins', 'Ataxia Telangiectasia Mu...   \n52                                                 []   \n53  ['Phosphorylation', 'Calcium Signaling', 'Memb...   \n54                               ['Oxidative Stress']   \n55  ['Spinocerebellar Ataxias', 'Action Potentials...   \n56  ['Membrane Proteins', 'Alzheimer Disease', 'Br...   \n57  ['Alzheimer Disease', 'Brain', 'Membrane Prote...   \n58  ['Brain', 'Nuclear Proteins', 'Spinocerebellar...   \n59                              ['Membrane Proteins']   \n60  ['Alzheimer Disease', 'Amyloid beta-Peptides',...   \n61                                                 []   \n62                                                 []   \n63  ['Phosphorylation', 'Intracellular Signaling P...   \n64       ['Acetylcholinesterase', 'Nuclear Proteins']   \n65  ['Brain', 'Stroke', 'Leukoencephalopathies', '...   \n66                          ['Nerve Tissue Proteins']   \n67  ['Neuronal Ceroid-Lipofuscinoses', 'Alzheimer ...   \n68                              ['Alzheimer Disease']   \n69                                                 []   \n70                              ['Parkinson Disease']   \n71                               ['Lipid Metabolism']   \n72                                                 []   \n73  ['Acid Sensing Ion Channels', 'Amygdala', 'Int...   \n74                               ['Nuclear Proteins']   \n75  ['Alzheimer Disease', 'Phosphatidylinositol 3-...   \n76  ['Intracellular Signaling Peptides and Protein...   \n77                                                 []   \n78  ['Nerve Tissue Proteins', 'Alzheimer Disease',...   \n79  ['Ataxia Telangiectasia Mutated Proteins', 'Br...   \n80         ['Membrane Proteins', 'Protein Transport']   \n81                              ['Membrane Proteins']   \n82  ['Membrane Proteins', 'Alzheimer Disease', 'Pa...   \n83  ['Membrane Proteins', 'Mitochondria', 'Mitocho...   \n84  ['Nerve Tissue Proteins', 'Membrane Potentials...   \n85  ['Receptors, Serotonin, 5-HT4', 'Brain', 'Nerv...   \n86  ['Depression', 'Manganese Poisoning', 'Molecul...   \n87                                      ['Cognition']   \n88                                                 []   \n89                                                 []   \n90  ['Nuclear Proteins', 'Brain Neoplasms', 'Molec...   \n91                     ['Alzheimer Disease', 'Brain']   \n92  ['DNA, Mitochondrial', 'Membrane Proteins', 'P...   \n93  ['Brain', 'Epilepsy', 'Excitatory Postsynaptic...   \n94  ['Phosphorylation', 'Membrane Proteins', 'Stro...   \n95  ['Phosphorylation', 'Dopaminergic Neurons', 'N...   \n96  ['Alzheimer Disease', 'Brain', 'Multiple Scler...   \n97                                                 []   \n98                               ['Essential Tremor']   \n99                       ['Encephalitis, Tick-Borne']   \n\n                                   matching_top10rsid  \n0          ['rs12929572', 'rs200312707', 'rs3784847']  \n1   ['rs121913615', 'rs121913616', 'rs28928907', '...  \n2   ['rs398123028', 'rs371707778', 'rs398123030', ...  \n3                                       ['rs1785205']  \n4                       ['rs10492987', 'rs748599805']  \n5   ['rs28359178', 'rs199476104', 'rs2853508', 'rs...  \n6                          ['rs1104748', 'rs3808868']  \n7   ['rs6971', 'rs6972', 'rs754824182', 'rs7642291...  \n8   ['rs1012068', 'rs578185749', 'rs587776976', 'r...  \n9   ['rs3796529', 'rs1277306', 'rs1713985', 'rs222...  \n10  ['rs1443514380', 'rs16967637', 'rs2230123', 'r...  \n11                                                 []  \n12                                                 []  \n13  ['rs1056932', 'rs1409999921', 'rs1417321250', ...  \n14  ['rs137853300', 'rs111794229', 'rs534982903', ...  \n15  ['rs10085518', 'rs1471012285', 'rs6962026', 'r...  \n16  ['rs4528748', 'rs4597517', 'rs4674656', 'rs675...  \n17                    ['rs1038365040', 'rs748000506']  \n18                            ['rs4760673', 'rs6823']  \n19  ['rs2287886', 'rs4804803', 'rs139712001', 'rs4...  \n20  ['rs13181', 'rs1799793', 'rs238406', 'rs105255...  \n21                     ['rs10849038', 'rs1257716595']  \n22  ['rs1131692040', 'rs1131692042', 'rs387906727'...  \n23  ['rs1317528280', 'rs1440257563', 'rs4619915', ...  \n24    ['rs1349963205', 'rs1426447692', 'rs539109456']  \n25  ['rs34043159', 'rs2236935', 'rs11674694', 'rs2...  \n26  ['rs138483899', 'rs142592326', 'rs143297231', ...  \n27  ['rs28903098', 'rs12453935', 'rs4988347', 'rs4...  \n28                                      ['rs2234639']  \n29  ['rs1050828', 'rs5030868', 'rs1050829', 'rs137...  \n30  ['rs966221', 'rs2910829', 'rs152312', 'rs12188...  \n31  ['rs344081', 'rs12638253', 'rs200834448', 'rs3...  \n32  ['rs116264669', 'rs146131430', 'rs201740638', ...  \n33        ['rs139632595', 'rs372318863', 'rs1051881']  \n34  ['rs11574428', 'rs3204849', 'rs6441977', 'rs68...  \n35            ['rs26232', 'rs192840963', 'rs2561477']  \n36                                      ['rs3203726']  \n37           ['rs307377', 'rs76755863', 'rs79148073']  \n38                        ['rs200262921', 'rs959181']  \n39                   ['rs1181719679', 'rs1201981092']  \n40           ['rs17690328', 'rs3781574', 'rs3824848']  \n41       ['rs1470749346', 'rs186701810', 'rs2364349']  \n42                                    ['rs562406459']  \n43  ['rs1056538', 'rs11575074', 'rs281438', 'rs281...  \n44  ['rs5992403', 'rs1353046820', 'rs1548359', 'rs...  \n45  ['rs28359178', 'rs199476104', 'rs2853508', 'rs...  \n46          ['rs138616009', 'rs1476698', 'rs3771570']  \n47  ['rs111033578', 'rs587776596', 'rs36015759', '...  \n48  ['rs4647958', 'rs6125849', 'rs1543442', 'rs464...  \n49  ['rs121912707', 'rs201948406', 'rs764417585', ...  \n50  ['rs1214712324', 'rs1255784159', 'rs1259812499...  \n51                                   ['rs1253592856']  \n52                                                 []  \n53  ['rs111033559', 'rs761056344', 'rs111033560', ...  \n54            ['rs2008022', 'rs6053666', 'rs6085283']  \n55  ['rs150401343', 'rs786205867', 'rs149344567', ...  \n56  ['rs34324426', 'rs61753219', 'rs267608216', 'r...  \n57  ['rs4147934', 'rs115553053', 'rs2242436', 'rs2...  \n58  ['rs28970277', 'rs1883977', 'rs6138678', 'rs67...  \n59           ['rs2275552', 'rs28700004', 'rs6674938']  \n60        ['rs7187476', 'rs767758296', 'rs779771226']  \n61                                                 []  \n62                                                 []  \n63  ['rs1384793471', 'rs1428363713', 'rs144078337'...  \n64                      ['rs10249320', 'rs144030074']  \n65  ['rs1055129', 'rs3744017', 'rs3744020', 'rs460...  \n66                                     ['rs79859029']  \n67  ['rs200426008', 'rs376579629', 'rs397514731', ...  \n68                                    ['rs894180076']  \n69                                                 []  \n70                                      ['rs1578215']  \n71                                      ['rs3749872']  \n72                                                 []  \n73  ['rs10778270', 'rs10861067', 'rs12229292', 'rs...  \n74                                      ['rs2228428']  \n75           ['rs11983798', 'rs16871986', 'rs679974']  \n76  ['rs2941484', 'rs1805098', 'rs2941471', 'rs830...  \n77                                                 []  \n78  ['rs2072446', 'rs536551654', 'rs780615365', 'r...  \n79  ['rs180498', 'rs187941554', 'rs189278173', 'rs...  \n80                                   ['rs1315438752']  \n81                                      ['rs7658293']  \n82  ['rs6962966', 'rs9640699', 'rs10485912', 'rs24...  \n83  ['rs148395034', 'rs140523053', 'rs376414719', ...  \n84  ['rs1275988', 'rs398123039', 'rs2586886', 'rs3...  \n85  ['rs3995090', 'rs9325104', 'rs13166761', 'rs18...  \n86  ['rs1196190757', 'rs10490825', 'rs1249754318',...  \n87                        ['rs10481393', 'rs6583634']  \n88                                                 []  \n89                                                 []  \n90  ['rs122445105', 'rs122445108', 'rs3088074', 'r...  \n91                       ['rs7259160', 'rs771145691']  \n92  ['rs17822931', 'rs199839251', 'rs529824818', '...  \n93  ['rs10270107', 'rs10271154', 'rs11769150', 'rs...  \n94  ['rs1044498', 'rs1341298980', 'rs2021966', 'rs...  \n95  ['rs1394440555', 'rs777320377', 'rs4012938', '...  \n96                       ['rs4417181', 'rs773144793']  \n97                                                 []  \n98                                    ['rs186747705']  \n99                      ['rs35582838', 'rs779814173']  ",
      "text/html": "<div>\n<style scoped>\n    .dataframe tbody tr th:only-of-type {\n        vertical-align: middle;\n    }\n\n    .dataframe tbody tr th {\n        vertical-align: top;\n    }\n\n    .dataframe thead th {\n        text-align: right;\n    }\n</style>\n<table border=\"1\" class=\"dataframe\">\n  <thead>\n    <tr style=\"text-align: right;\">\n      <th></th>\n      <th>Unnamed: 0</th>\n      <th>reference_mesh</th>\n      <th>starting_pmidmesh</th>\n      <th>starting_pmid</th>\n      <th>starting_mesh</th>\n      <th>starting_rsid</th>\n      <th>matching_pmidmesh</th>\n      <th>matching_pmids</th>\n      <th>matching_mesh</th>\n      <th>matching_rsid</th>\n      <th>dropped_rsid</th>\n      <th>matching_mesh_ratio</th>\n      <th>matching_pmids_ratio</th>\n      <th>matching_pmidmesh_ratio</th>\n      <th>matching_rsid_ratio</th>\n      <th>matching_rsid_pmid10</th>\n      <th>matching_rsid_pmid100</th>\n      <th>matching_top10mesh</th>\n      <th>matching_top10rsid</th>\n    </tr>\n  </thead>\n  <tbody>\n    <tr>\n      <th>0</th>\n      <td>CDH8</td>\n      <td>510</td>\n      <td>127</td>\n      <td>9</td>\n      <td>85</td>\n      <td>9</td>\n      <td>5</td>\n      <td>3</td>\n      <td>5</td>\n      <td>3</td>\n      <td>6</td>\n      <td>0.059</td>\n      <td>0.333</td>\n      <td>0.039</td>\n      <td>0.333</td>\n      <td>0</td>\n      <td>0</td>\n      <td>['Amyotrophic Lateral Sclerosis', 'Dopamine Up...</td>\n      <td>['rs12929572', 'rs200312707', 'rs3784847']</td>\n    </tr>\n    <tr>\n      <th>1</th>\n      <td>MPL</td>\n      <td>510</td>\n      <td>6069</td>\n      <td>437</td>\n      <td>980</td>\n      <td>69</td>\n      <td>62</td>\n      <td>58</td>\n      <td>18</td>\n      <td>16</td>\n      <td>53</td>\n      <td>0.018</td>\n      <td>0.133</td>\n      <td>0.010</td>\n      <td>0.232</td>\n      <td>2</td>\n      <td>0</td>\n      <td>['Phosphorylation', 'Protein Transport', 'Intr...</td>\n      <td>['rs121913615', 'rs121913616', 'rs28928907', '...</td>\n    </tr>\n    <tr>\n      <th>2</th>\n      <td>BICD2</td>\n      <td>510</td>\n      <td>366</td>\n      <td>28</td>\n      <td>142</td>\n      <td>17</td>\n      <td>40</td>\n      <td>25</td>\n      <td>18</td>\n      <td>16</td>\n      <td>1</td>\n      <td>0.127</td>\n      <td>0.893</td>\n      <td>0.109</td>\n      <td>0.941</td>\n      <td>1</td>\n      <td>0</td>\n      <td>['Muscular Atrophy, Spinal', 'Charcot-Marie-To...</td>\n      <td>['rs398123028', 'rs371707778', 'rs398123030', ...</td>\n    </tr>\n    <tr>\n      <th>3</th>\n      <td>LDLRAD4</td>\n      <td>510</td>\n      <td>270</td>\n      <td>18</td>\n      <td>136</td>\n      <td>25</td>\n      <td>2</td>\n      <td>1</td>\n      <td>2</td>\n      <td>1</td>\n      <td>24</td>\n      <td>0.015</td>\n      <td>0.056</td>\n      <td>0.007</td>\n      <td>0.040</td>\n      <td>0</td>\n      <td>0</td>\n      <td>['Brain Injuries', 'Epilepsy, Post-Traumatic']</td>\n      <td>['rs1785205']</td>\n    </tr>\n    <tr>\n      <th>4</th>\n      <td>DDI2</td>\n      <td>510</td>\n      <td>67</td>\n      <td>4</td>\n      <td>58</td>\n      <td>2</td>\n      <td>2</td>\n      <td>2</td>\n      <td>2</td>\n      <td>2</td>\n      <td>0</td>\n      <td>0.034</td>\n      <td>0.500</td>\n      <td>0.030</td>\n      <td>1.000</td>\n      <td>0</td>\n      <td>0</td>\n      <td>['Amyotrophic Lateral Sclerosis', 'Intracellul...</td>\n      <td>['rs10492987', 'rs748599805']</td>\n    </tr>\n    <tr>\n      <th>5</th>\n      <td>MT-CYB</td>\n      <td>510</td>\n      <td>3744</td>\n      <td>261</td>\n      <td>837</td>\n      <td>156</td>\n      <td>497</td>\n      <td>223</td>\n      <td>52</td>\n      <td>154</td>\n      <td>2</td>\n      <td>0.062</td>\n      <td>0.854</td>\n      <td>0.133</td>\n      <td>0.987</td>\n      <td>9</td>\n      <td>0</td>\n      <td>['DNA, Mitochondrial', 'Mitochondria', 'Genome...</td>\n      <td>['rs28359178', 'rs199476104', 'rs2853508', 'rs...</td>\n    </tr>\n    <tr>\n      <th>6</th>\n      <td>IL11RA</td>\n      <td>510</td>\n      <td>305</td>\n      <td>22</td>\n      <td>151</td>\n      <td>19</td>\n      <td>2</td>\n      <td>1</td>\n      <td>2</td>\n      <td>2</td>\n      <td>17</td>\n      <td>0.013</td>\n      <td>0.045</td>\n      <td>0.007</td>\n      <td>0.105</td>\n      <td>0</td>\n      <td>0</td>\n      <td>['Membrane Proteins', 'Mitochondrial Membrane ...</td>\n      <td>['rs1104748', 'rs3808868']</td>\n    </tr>\n    <tr>\n      <th>7</th>\n      <td>TSPO</td>\n      <td>510</td>\n      <td>3004</td>\n      <td>233</td>\n      <td>699</td>\n      <td>65</td>\n      <td>502</td>\n      <td>201</td>\n      <td>71</td>\n      <td>56</td>\n      <td>9</td>\n      <td>0.102</td>\n      <td>0.863</td>\n      <td>0.167</td>\n      <td>0.862</td>\n      <td>1</td>\n      <td>1</td>\n      <td>['Receptors, GABA', 'Brain', 'Microglia', 'Alz...</td>\n      <td>['rs6971', 'rs6972', 'rs754824182', 'rs7642291...</td>\n    </tr>\n    <tr>\n      <th>8</th>\n      <td>DEPDC5</td>\n      <td>510</td>\n      <td>687</td>\n      <td>43</td>\n      <td>266</td>\n      <td>48</td>\n      <td>37</td>\n      <td>18</td>\n      <td>12</td>\n      <td>30</td>\n      <td>18</td>\n      <td>0.045</td>\n      <td>0.419</td>\n      <td>0.054</td>\n      <td>0.625</td>\n      <td>0</td>\n      <td>0</td>\n      <td>['Epilepsy', 'Neurons', 'Brain', 'Drug Resista...</td>\n      <td>['rs1012068', 'rs578185749', 'rs587776976', 'r...</td>\n    </tr>\n    <tr>\n      <th>9</th>\n      <td>REST</td>\n      <td>510</td>\n      <td>545</td>\n      <td>44</td>\n      <td>241</td>\n      <td>20</td>\n      <td>40</td>\n      <td>25</td>\n      <td>21</td>\n      <td>18</td>\n      <td>2</td>\n      <td>0.087</td>\n      <td>0.568</td>\n      <td>0.073</td>\n      <td>0.900</td>\n      <td>1</td>\n      <td>0</td>\n      <td>['Hippocampus', 'Alzheimer Disease', 'Nerve Ti...</td>\n      <td>['rs3796529', 'rs1277306', 'rs1713985', 'rs222...</td>\n    </tr>\n    <tr>\n      <th>10</th>\n      <td>STAT5A</td>\n      <td>510</td>\n      <td>517</td>\n      <td>30</td>\n      <td>272</td>\n      <td>22</td>\n      <td>10</td>\n      <td>7</td>\n      <td>9</td>\n      <td>8</td>\n      <td>14</td>\n      <td>0.033</td>\n      <td>0.233</td>\n      <td>0.019</td>\n      <td>0.364</td>\n      <td>0</td>\n      <td>0</td>\n      <td>['Phosphorylation', 'Brain Neoplasms', 'Immuno...</td>\n      <td>['rs1443514380', 'rs16967637', 'rs2230123', 'r...</td>\n    </tr>\n    <tr>\n      <th>11</th>\n      <td>RPL29</td>\n      <td>510</td>\n      <td>24</td>\n      <td>2</td>\n      <td>23</td>\n      <td>2</td>\n      <td>0</td>\n      <td>0</td>\n      <td>0</td>\n      <td>0</td>\n      <td>2</td>\n      <td>0.000</td>\n      <td>0.000</td>\n      <td>0.000</td>\n      <td>0.000</td>\n      <td>0</td>\n      <td>0</td>\n      <td>[]</td>\n      <td>[]</td>\n    </tr>\n    <tr>\n      <th>12</th>\n      <td>ABHD15</td>\n      <td>510</td>\n      <td>16</td>\n      <td>2</td>\n      <td>15</td>\n      <td>2</td>\n      <td>0</td>\n      <td>0</td>\n      <td>0</td>\n      <td>0</td>\n      <td>2</td>\n      <td>0.000</td>\n      <td>0.000</td>\n      <td>0.000</td>\n      <td>0.000</td>\n      <td>0</td>\n      <td>0</td>\n      <td>[]</td>\n      <td>[]</td>\n    </tr>\n    <tr>\n      <th>13</th>\n      <td>BCL6</td>\n      <td>510</td>\n      <td>309</td>\n      <td>21</td>\n      <td>189</td>\n      <td>25</td>\n      <td>3</td>\n      <td>3</td>\n      <td>3</td>\n      <td>6</td>\n      <td>19</td>\n      <td>0.016</td>\n      <td>0.143</td>\n      <td>0.010</td>\n      <td>0.240</td>\n      <td>0</td>\n      <td>0</td>\n      <td>['Immunologic Memory', 'Membrane Proteins', 'O...</td>\n      <td>['rs1056932', 'rs1409999921', 'rs1417321250', ...</td>\n    </tr>\n    <tr>\n      <th>14</th>\n      <td>TIMP3</td>\n      <td>510</td>\n      <td>1514</td>\n      <td>104</td>\n      <td>483</td>\n      <td>56</td>\n      <td>25</td>\n      <td>15</td>\n      <td>21</td>\n      <td>18</td>\n      <td>38</td>\n      <td>0.043</td>\n      <td>0.144</td>\n      <td>0.017</td>\n      <td>0.321</td>\n      <td>0</td>\n      <td>0</td>\n      <td>['Retinal Diseases', 'Alzheimer Disease', 'Bra...</td>\n      <td>['rs137853300', 'rs111794229', 'rs534982903', ...</td>\n    </tr>\n    <tr>\n      <th>15</th>\n      <td>CYTH3</td>\n      <td>510</td>\n      <td>97</td>\n      <td>7</td>\n      <td>77</td>\n      <td>10</td>\n      <td>4</td>\n      <td>3</td>\n      <td>4</td>\n      <td>5</td>\n      <td>5</td>\n      <td>0.052</td>\n      <td>0.429</td>\n      <td>0.041</td>\n      <td>0.500</td>\n      <td>0</td>\n      <td>0</td>\n      <td>['Alzheimer Disease', 'DNA, Mitochondrial', 'G...</td>\n      <td>['rs10085518', 'rs1471012285', 'rs6962026', 'r...</td>\n    </tr>\n    <tr>\n      <th>16</th>\n      <td>SGPP2</td>\n      <td>510</td>\n      <td>78</td>\n      <td>6</td>\n      <td>52</td>\n      <td>9</td>\n      <td>1</td>\n      <td>1</td>\n      <td>1</td>\n      <td>5</td>\n      <td>4</td>\n      <td>0.019</td>\n      <td>0.167</td>\n      <td>0.013</td>\n      <td>0.556</td>\n      <td>0</td>\n      <td>0</td>\n      <td>['Membrane Proteins']</td>\n      <td>['rs4528748', 'rs4597517', 'rs4674656', 'rs675...</td>\n    </tr>\n    <tr>\n      <th>17</th>\n      <td>PREP</td>\n      <td>510</td>\n      <td>104</td>\n      <td>9</td>\n      <td>83</td>\n      <td>17</td>\n      <td>4</td>\n      <td>2</td>\n      <td>4</td>\n      <td>2</td>\n      <td>15</td>\n      <td>0.048</td>\n      <td>0.222</td>\n      <td>0.038</td>\n      <td>0.118</td>\n      <td>0</td>\n      <td>0</td>\n      <td>['DNA, Mitochondrial', 'Genome, Mitochondrial'...</td>\n      <td>['rs1038365040', 'rs748000506']</td>\n    </tr>\n    <tr>\n      <th>18</th>\n      <td>TMEM106C</td>\n      <td>510</td>\n      <td>197</td>\n      <td>14</td>\n      <td>82</td>\n      <td>3</td>\n      <td>2</td>\n      <td>2</td>\n      <td>2</td>\n      <td>2</td>\n      <td>1</td>\n      <td>0.024</td>\n      <td>0.143</td>\n      <td>0.010</td>\n      <td>0.667</td>\n      <td>0</td>\n      <td>0</td>\n      <td>['Brain', 'Parkinson Disease']</td>\n      <td>['rs4760673', 'rs6823']</td>\n    </tr>\n    <tr>\n      <th>19</th>\n      <td>CD209</td>\n      <td>510</td>\n      <td>2075</td>\n      <td>138</td>\n      <td>625</td>\n      <td>76</td>\n      <td>18</td>\n      <td>10</td>\n      <td>12</td>\n      <td>8</td>\n      <td>68</td>\n      <td>0.019</td>\n      <td>0.072</td>\n      <td>0.009</td>\n      <td>0.105</td>\n      <td>0</td>\n      <td>0</td>\n      <td>['Encephalitis, Tick-Borne', 'Encephalitis Vir...</td>\n      <td>['rs2287886', 'rs4804803', 'rs139712001', 'rs4...</td>\n    </tr>\n    <tr>\n      <th>20</th>\n      <td>ERCC2</td>\n      <td>510</td>\n      <td>10047</td>\n      <td>643</td>\n      <td>1213</td>\n      <td>115</td>\n      <td>99</td>\n      <td>86</td>\n      <td>26</td>\n      <td>48</td>\n      <td>67</td>\n      <td>0.021</td>\n      <td>0.134</td>\n      <td>0.010</td>\n      <td>0.417</td>\n      <td>2</td>\n      <td>0</td>\n      <td>['Nuclear Proteins', 'Brain Neoplasms', 'Oxida...</td>\n      <td>['rs13181', 'rs1799793', 'rs238406', 'rs105255...</td>\n    </tr>\n    <tr>\n      <th>21</th>\n      <td>TIGAR</td>\n      <td>510</td>\n      <td>58</td>\n      <td>4</td>\n      <td>50</td>\n      <td>3</td>\n      <td>2</td>\n      <td>2</td>\n      <td>2</td>\n      <td>2</td>\n      <td>1</td>\n      <td>0.040</td>\n      <td>0.500</td>\n      <td>0.034</td>\n      <td>0.667</td>\n      <td>0</td>\n      <td>0</td>\n      <td>['Brain', 'Intracellular Signaling Peptides an...</td>\n      <td>['rs10849038', 'rs1257716595']</td>\n    </tr>\n    <tr>\n      <th>22</th>\n      <td>RPL10</td>\n      <td>510</td>\n      <td>257</td>\n      <td>19</td>\n      <td>143</td>\n      <td>11</td>\n      <td>7</td>\n      <td>6</td>\n      <td>7</td>\n      <td>5</td>\n      <td>6</td>\n      <td>0.049</td>\n      <td>0.316</td>\n      <td>0.027</td>\n      <td>0.455</td>\n      <td>0</td>\n      <td>0</td>\n      <td>['Brain', 'Cerebellum', 'Epilepsy', 'Hippocamp...</td>\n      <td>['rs1131692040', 'rs1131692042', 'rs387906727'...</td>\n    </tr>\n    <tr>\n      <th>23</th>\n      <td>CXCL11</td>\n      <td>510</td>\n      <td>227</td>\n      <td>12</td>\n      <td>124</td>\n      <td>15</td>\n      <td>4</td>\n      <td>4</td>\n      <td>4</td>\n      <td>4</td>\n      <td>11</td>\n      <td>0.032</td>\n      <td>0.333</td>\n      <td>0.018</td>\n      <td>0.267</td>\n      <td>0</td>\n      <td>0</td>\n      <td>['Calcium Signaling', 'Membrane Proteins', 'Ox...</td>\n      <td>['rs1317528280', 'rs1440257563', 'rs4619915', ...</td>\n    </tr>\n    <tr>\n      <th>24</th>\n      <td>ACBD5</td>\n      <td>510</td>\n      <td>36</td>\n      <td>3</td>\n      <td>34</td>\n      <td>3</td>\n      <td>4</td>\n      <td>3</td>\n      <td>4</td>\n      <td>3</td>\n      <td>0</td>\n      <td>0.118</td>\n      <td>1.000</td>\n      <td>0.111</td>\n      <td>1.000</td>\n      <td>0</td>\n      <td>0</td>\n      <td>['Membrane Proteins', 'Nuclear Proteins', 'Pho...</td>\n      <td>['rs1349963205', 'rs1426447692', 'rs539109456']</td>\n    </tr>\n    <tr>\n      <th>25</th>\n      <td>MAP4K4</td>\n      <td>510</td>\n      <td>306</td>\n      <td>23</td>\n      <td>161</td>\n      <td>23</td>\n      <td>27</td>\n      <td>17</td>\n      <td>12</td>\n      <td>16</td>\n      <td>7</td>\n      <td>0.075</td>\n      <td>0.739</td>\n      <td>0.088</td>\n      <td>0.696</td>\n      <td>0</td>\n      <td>0</td>\n      <td>['Parkinson Disease', 'Intracellular Signaling...</td>\n      <td>['rs34043159', 'rs2236935', 'rs11674694', 'rs2...</td>\n    </tr>\n    <tr>\n      <th>26</th>\n      <td>GNB1L</td>\n      <td>510</td>\n      <td>207</td>\n      <td>15</td>\n      <td>119</td>\n      <td>24</td>\n      <td>3</td>\n      <td>2</td>\n      <td>2</td>\n      <td>11</td>\n      <td>13</td>\n      <td>0.017</td>\n      <td>0.133</td>\n      <td>0.014</td>\n      <td>0.458</td>\n      <td>0</td>\n      <td>0</td>\n      <td>['Intracellular Signaling Peptides and Protein...</td>\n      <td>['rs138483899', 'rs142592326', 'rs143297231', ...</td>\n    </tr>\n    <tr>\n      <th>27</th>\n      <td>BRIP1</td>\n      <td>510</td>\n      <td>2423</td>\n      <td>162</td>\n      <td>561</td>\n      <td>167</td>\n      <td>24</td>\n      <td>18</td>\n      <td>13</td>\n      <td>32</td>\n      <td>135</td>\n      <td>0.023</td>\n      <td>0.111</td>\n      <td>0.010</td>\n      <td>0.192</td>\n      <td>0</td>\n      <td>0</td>\n      <td>['Nuclear Proteins', 'Ataxia Telangiectasia Mu...</td>\n      <td>['rs28903098', 'rs12453935', 'rs4988347', 'rs4...</td>\n    </tr>\n    <tr>\n      <th>28</th>\n      <td>SLC39A2</td>\n      <td>510</td>\n      <td>50</td>\n      <td>4</td>\n      <td>42</td>\n      <td>5</td>\n      <td>1</td>\n      <td>1</td>\n      <td>1</td>\n      <td>1</td>\n      <td>4</td>\n      <td>0.024</td>\n      <td>0.250</td>\n      <td>0.020</td>\n      <td>0.200</td>\n      <td>0</td>\n      <td>0</td>\n      <td>['Mental Disorders']</td>\n      <td>['rs2234639']</td>\n    </tr>\n    <tr>\n      <th>29</th>\n      <td>G6PD</td>\n      <td>510</td>\n      <td>6201</td>\n      <td>450</td>\n      <td>1049</td>\n      <td>161</td>\n      <td>40</td>\n      <td>34</td>\n      <td>20</td>\n      <td>26</td>\n      <td>135</td>\n      <td>0.019</td>\n      <td>0.076</td>\n      <td>0.006</td>\n      <td>0.161</td>\n      <td>0</td>\n      <td>0</td>\n      <td>['Oxidative Stress', 'Membrane Proteins', 'Pro...</td>\n      <td>['rs1050828', 'rs5030868', 'rs1050829', 'rs137...</td>\n    </tr>\n    <tr>\n      <th>30</th>\n      <td>PDE4D</td>\n      <td>510</td>\n      <td>2998</td>\n      <td>194</td>\n      <td>785</td>\n      <td>135</td>\n      <td>120</td>\n      <td>70</td>\n      <td>40</td>\n      <td>51</td>\n      <td>84</td>\n      <td>0.051</td>\n      <td>0.361</td>\n      <td>0.040</td>\n      <td>0.378</td>\n      <td>2</td>\n      <td>0</td>\n      <td>['Stroke', 'Brain Ischemia', 'Nerve Tissue Pro...</td>\n      <td>['rs966221', 'rs2910829', 'rs152312', 'rs12188...</td>\n    </tr>\n    <tr>\n      <th>31</th>\n      <td>LEKR1</td>\n      <td>510</td>\n      <td>243</td>\n      <td>16</td>\n      <td>122</td>\n      <td>16</td>\n      <td>7</td>\n      <td>5</td>\n      <td>5</td>\n      <td>4</td>\n      <td>12</td>\n      <td>0.041</td>\n      <td>0.312</td>\n      <td>0.029</td>\n      <td>0.250</td>\n      <td>0</td>\n      <td>0</td>\n      <td>['Membrane Proteins', 'Mitochondrial Membrane ...</td>\n      <td>['rs344081', 'rs12638253', 'rs200834448', 'rs3...</td>\n    </tr>\n    <tr>\n      <th>32</th>\n      <td>CCDC33</td>\n      <td>510</td>\n      <td>323</td>\n      <td>22</td>\n      <td>150</td>\n      <td>22</td>\n      <td>4</td>\n      <td>3</td>\n      <td>4</td>\n      <td>5</td>\n      <td>17</td>\n      <td>0.027</td>\n      <td>0.136</td>\n      <td>0.012</td>\n      <td>0.227</td>\n      <td>0</td>\n      <td>0</td>\n      <td>['Class I Phosphatidylinositol 3-Kinases', 'Me...</td>\n      <td>['rs116264669', 'rs146131430', 'rs201740638', ...</td>\n    </tr>\n    <tr>\n      <th>33</th>\n      <td>EXOSC9</td>\n      <td>510</td>\n      <td>132</td>\n      <td>8</td>\n      <td>89</td>\n      <td>5</td>\n      <td>10</td>\n      <td>5</td>\n      <td>8</td>\n      <td>3</td>\n      <td>2</td>\n      <td>0.090</td>\n      <td>0.625</td>\n      <td>0.076</td>\n      <td>0.600</td>\n      <td>0</td>\n      <td>0</td>\n      <td>['Cerebellar Diseases', 'Cerebellum', 'Brain S...</td>\n      <td>['rs139632595', 'rs372318863', 'rs1051881']</td>\n    </tr>\n    <tr>\n      <th>34</th>\n      <td>CCRL2</td>\n      <td>510</td>\n      <td>224</td>\n      <td>14</td>\n      <td>136</td>\n      <td>6</td>\n      <td>5</td>\n      <td>2</td>\n      <td>5</td>\n      <td>4</td>\n      <td>2</td>\n      <td>0.037</td>\n      <td>0.143</td>\n      <td>0.022</td>\n      <td>0.667</td>\n      <td>0</td>\n      <td>0</td>\n      <td>['Alzheimer Disease', 'Amyloid beta-Peptides',...</td>\n      <td>['rs11574428', 'rs3204849', 'rs6441977', 'rs68...</td>\n    </tr>\n    <tr>\n      <th>35</th>\n      <td>MACIR</td>\n      <td>510</td>\n      <td>504</td>\n      <td>35</td>\n      <td>190</td>\n      <td>9</td>\n      <td>6</td>\n      <td>5</td>\n      <td>5</td>\n      <td>3</td>\n      <td>6</td>\n      <td>0.026</td>\n      <td>0.143</td>\n      <td>0.012</td>\n      <td>0.333</td>\n      <td>0</td>\n      <td>0</td>\n      <td>['Intracellular Signaling Peptides and Protein...</td>\n      <td>['rs26232', 'rs192840963', 'rs2561477']</td>\n    </tr>\n    <tr>\n      <th>36</th>\n      <td>CYTH4</td>\n      <td>510</td>\n      <td>49</td>\n      <td>4</td>\n      <td>44</td>\n      <td>4</td>\n      <td>1</td>\n      <td>1</td>\n      <td>1</td>\n      <td>1</td>\n      <td>3</td>\n      <td>0.023</td>\n      <td>0.250</td>\n      <td>0.020</td>\n      <td>0.250</td>\n      <td>0</td>\n      <td>0</td>\n      <td>['Epilepsy, Generalized']</td>\n      <td>['rs3203726']</td>\n    </tr>\n    <tr>\n      <th>37</th>\n      <td>TAS1R3</td>\n      <td>510</td>\n      <td>416</td>\n      <td>31</td>\n      <td>182</td>\n      <td>25</td>\n      <td>5</td>\n      <td>3</td>\n      <td>3</td>\n      <td>3</td>\n      <td>22</td>\n      <td>0.016</td>\n      <td>0.097</td>\n      <td>0.012</td>\n      <td>0.120</td>\n      <td>0</td>\n      <td>0</td>\n      <td>['Receptors, Glutamate', 'Sodium Glutamate', '...</td>\n      <td>['rs307377', 'rs76755863', 'rs79148073']</td>\n    </tr>\n    <tr>\n      <th>38</th>\n      <td>ALPK3</td>\n      <td>510</td>\n      <td>186</td>\n      <td>15</td>\n      <td>103</td>\n      <td>28</td>\n      <td>3</td>\n      <td>2</td>\n      <td>3</td>\n      <td>2</td>\n      <td>26</td>\n      <td>0.029</td>\n      <td>0.133</td>\n      <td>0.016</td>\n      <td>0.071</td>\n      <td>0</td>\n      <td>0</td>\n      <td>['Brain', 'Ion Channels', 'Nuclear Proteins']</td>\n      <td>['rs200262921', 'rs959181']</td>\n    </tr>\n    <tr>\n      <th>39</th>\n      <td>CYS1</td>\n      <td>510</td>\n      <td>58</td>\n      <td>3</td>\n      <td>50</td>\n      <td>5</td>\n      <td>1</td>\n      <td>1</td>\n      <td>1</td>\n      <td>2</td>\n      <td>3</td>\n      <td>0.020</td>\n      <td>0.333</td>\n      <td>0.017</td>\n      <td>0.400</td>\n      <td>0</td>\n      <td>0</td>\n      <td>['Membrane Proteins']</td>\n      <td>['rs1181719679', 'rs1201981092']</td>\n    </tr>\n    <tr>\n      <th>40</th>\n      <td>LMO2</td>\n      <td>510</td>\n      <td>146</td>\n      <td>9</td>\n      <td>111</td>\n      <td>27</td>\n      <td>2</td>\n      <td>2</td>\n      <td>2</td>\n      <td>3</td>\n      <td>24</td>\n      <td>0.018</td>\n      <td>0.222</td>\n      <td>0.014</td>\n      <td>0.111</td>\n      <td>0</td>\n      <td>0</td>\n      <td>['Membrane Proteins', 'RNA, Mitochondrial']</td>\n      <td>['rs17690328', 'rs3781574', 'rs3824848']</td>\n    </tr>\n    <tr>\n      <th>41</th>\n      <td>SNX9</td>\n      <td>510</td>\n      <td>163</td>\n      <td>12</td>\n      <td>109</td>\n      <td>13</td>\n      <td>3</td>\n      <td>3</td>\n      <td>2</td>\n      <td>3</td>\n      <td>10</td>\n      <td>0.018</td>\n      <td>0.250</td>\n      <td>0.018</td>\n      <td>0.231</td>\n      <td>0</td>\n      <td>0</td>\n      <td>['Protein Transport', 'Nerve Tissue Proteins']</td>\n      <td>['rs1470749346', 'rs186701810', 'rs2364349']</td>\n    </tr>\n    <tr>\n      <th>42</th>\n      <td>LRRTM2</td>\n      <td>510</td>\n      <td>76</td>\n      <td>5</td>\n      <td>60</td>\n      <td>5</td>\n      <td>3</td>\n      <td>1</td>\n      <td>3</td>\n      <td>1</td>\n      <td>4</td>\n      <td>0.050</td>\n      <td>0.200</td>\n      <td>0.039</td>\n      <td>0.200</td>\n      <td>0</td>\n      <td>0</td>\n      <td>['Membrane Proteins', 'Nerve Tissue Proteins',...</td>\n      <td>['rs562406459']</td>\n    </tr>\n    <tr>\n      <th>43</th>\n      <td>ICAM5</td>\n      <td>510</td>\n      <td>335</td>\n      <td>23</td>\n      <td>161</td>\n      <td>17</td>\n      <td>12</td>\n      <td>9</td>\n      <td>8</td>\n      <td>8</td>\n      <td>9</td>\n      <td>0.050</td>\n      <td>0.391</td>\n      <td>0.036</td>\n      <td>0.471</td>\n      <td>0</td>\n      <td>0</td>\n      <td>['Nerve Tissue Proteins', 'Nuclear Proteins', ...</td>\n      <td>['rs1056538', 'rs11575074', 'rs281438', 'rs281...</td>\n    </tr>\n    <tr>\n      <th>44</th>\n      <td>CDC45</td>\n      <td>510</td>\n      <td>335</td>\n      <td>22</td>\n      <td>184</td>\n      <td>21</td>\n      <td>13</td>\n      <td>9</td>\n      <td>5</td>\n      <td>6</td>\n      <td>15</td>\n      <td>0.027</td>\n      <td>0.409</td>\n      <td>0.039</td>\n      <td>0.286</td>\n      <td>0</td>\n      <td>0</td>\n      <td>['Intracellular Signaling Peptides and Protein...</td>\n      <td>['rs5992403', 'rs1353046820', 'rs1548359', 'rs...</td>\n    </tr>\n    <tr>\n      <th>45</th>\n      <td>MT-ND6</td>\n      <td>510</td>\n      <td>3439</td>\n      <td>239</td>\n      <td>805</td>\n      <td>124</td>\n      <td>441</td>\n      <td>201</td>\n      <td>50</td>\n      <td>121</td>\n      <td>3</td>\n      <td>0.062</td>\n      <td>0.841</td>\n      <td>0.128</td>\n      <td>0.976</td>\n      <td>7</td>\n      <td>0</td>\n      <td>['DNA, Mitochondrial', 'Mitochondria', 'Genome...</td>\n      <td>['rs28359178', 'rs199476104', 'rs2853508', 'rs...</td>\n    </tr>\n    <tr>\n      <th>46</th>\n      <td>FARP2</td>\n      <td>510</td>\n      <td>530</td>\n      <td>44</td>\n      <td>224</td>\n      <td>19</td>\n      <td>3</td>\n      <td>3</td>\n      <td>3</td>\n      <td>3</td>\n      <td>16</td>\n      <td>0.013</td>\n      <td>0.068</td>\n      <td>0.006</td>\n      <td>0.158</td>\n      <td>0</td>\n      <td>0</td>\n      <td>['Membrane Proteins', 'Nuclear Proteins', 'Str...</td>\n      <td>['rs138616009', 'rs1476698', 'rs3771570']</td>\n    </tr>\n    <tr>\n      <th>47</th>\n      <td>MFRP</td>\n      <td>510</td>\n      <td>1379</td>\n      <td>90</td>\n      <td>431</td>\n      <td>63</td>\n      <td>45</td>\n      <td>40</td>\n      <td>14</td>\n      <td>55</td>\n      <td>8</td>\n      <td>0.032</td>\n      <td>0.444</td>\n      <td>0.033</td>\n      <td>0.873</td>\n      <td>1</td>\n      <td>0</td>\n      <td>['Membrane Proteins', 'Nerve Tissue Proteins',...</td>\n      <td>['rs111033578', 'rs587776596', 'rs36015759', '...</td>\n    </tr>\n    <tr>\n      <th>48</th>\n      <td>SNAI1</td>\n      <td>510</td>\n      <td>436</td>\n      <td>27</td>\n      <td>222</td>\n      <td>16</td>\n      <td>8</td>\n      <td>8</td>\n      <td>5</td>\n      <td>8</td>\n      <td>8</td>\n      <td>0.023</td>\n      <td>0.296</td>\n      <td>0.018</td>\n      <td>0.500</td>\n      <td>0</td>\n      <td>0</td>\n      <td>['Nuclear Proteins', 'Brain', 'Brain Neoplasms...</td>\n      <td>['rs4647958', 'rs6125849', 'rs1543442', 'rs464...</td>\n    </tr>\n    <tr>\n      <th>49</th>\n      <td>ALDH7A1</td>\n      <td>510</td>\n      <td>708</td>\n      <td>52</td>\n      <td>306</td>\n      <td>78</td>\n      <td>47</td>\n      <td>34</td>\n      <td>18</td>\n      <td>63</td>\n      <td>15</td>\n      <td>0.059</td>\n      <td>0.654</td>\n      <td>0.066</td>\n      <td>0.808</td>\n      <td>1</td>\n      <td>0</td>\n      <td>['Epilepsy', 'Brain', 'Phosphorylation', 'Alde...</td>\n      <td>['rs121912707', 'rs201948406', 'rs764417585', ...</td>\n    </tr>\n    <tr>\n      <th>50</th>\n      <td>RTN2</td>\n      <td>510</td>\n      <td>748</td>\n      <td>63</td>\n      <td>286</td>\n      <td>30</td>\n      <td>7</td>\n      <td>6</td>\n      <td>7</td>\n      <td>8</td>\n      <td>22</td>\n      <td>0.024</td>\n      <td>0.095</td>\n      <td>0.009</td>\n      <td>0.267</td>\n      <td>0</td>\n      <td>0</td>\n      <td>['Alzheimer Disease', 'Cerebellar Ataxia', 'Mu...</td>\n      <td>['rs1214712324', 'rs1255784159', 'rs1259812499...</td>\n    </tr>\n    <tr>\n      <th>51</th>\n      <td>RPS27</td>\n      <td>510</td>\n      <td>87</td>\n      <td>7</td>\n      <td>67</td>\n      <td>2</td>\n      <td>4</td>\n      <td>3</td>\n      <td>3</td>\n      <td>1</td>\n      <td>1</td>\n      <td>0.045</td>\n      <td>0.429</td>\n      <td>0.046</td>\n      <td>0.500</td>\n      <td>0</td>\n      <td>0</td>\n      <td>['Nuclear Proteins', 'Ataxia Telangiectasia Mu...</td>\n      <td>['rs1253592856']</td>\n    </tr>\n    <tr>\n      <th>52</th>\n      <td>KRT77</td>\n      <td>510</td>\n      <td>89</td>\n      <td>7</td>\n      <td>79</td>\n      <td>7</td>\n      <td>0</td>\n      <td>0</td>\n      <td>0</td>\n      <td>0</td>\n      <td>7</td>\n      <td>0.000</td>\n      <td>0.000</td>\n      <td>0.000</td>\n      <td>0.000</td>\n      <td>0</td>\n      <td>0</td>\n      <td>[]</td>\n      <td>[]</td>\n    </tr>\n    <tr>\n      <th>53</th>\n      <td>CEP85L</td>\n      <td>510</td>\n      <td>1213</td>\n      <td>94</td>\n      <td>373</td>\n      <td>30</td>\n      <td>28</td>\n      <td>24</td>\n      <td>8</td>\n      <td>6</td>\n      <td>24</td>\n      <td>0.021</td>\n      <td>0.255</td>\n      <td>0.023</td>\n      <td>0.200</td>\n      <td>1</td>\n      <td>0</td>\n      <td>['Phosphorylation', 'Calcium Signaling', 'Memb...</td>\n      <td>['rs111033559', 'rs761056344', 'rs111033560', ...</td>\n    </tr>\n    <tr>\n      <th>54</th>\n      <td>SRXN1</td>\n      <td>510</td>\n      <td>24</td>\n      <td>2</td>\n      <td>19</td>\n      <td>3</td>\n      <td>1</td>\n      <td>1</td>\n      <td>1</td>\n      <td>3</td>\n      <td>0</td>\n      <td>0.053</td>\n      <td>0.500</td>\n      <td>0.042</td>\n      <td>1.000</td>\n      <td>0</td>\n      <td>0</td>\n      <td>['Oxidative Stress']</td>\n      <td>['rs2008022', 'rs6053666', 'rs6085283']</td>\n    </tr>\n    <tr>\n      <th>55</th>\n      <td>KCND3</td>\n      <td>510</td>\n      <td>829</td>\n      <td>61</td>\n      <td>326</td>\n      <td>54</td>\n      <td>33</td>\n      <td>24</td>\n      <td>20</td>\n      <td>26</td>\n      <td>28</td>\n      <td>0.061</td>\n      <td>0.393</td>\n      <td>0.040</td>\n      <td>0.481</td>\n      <td>0</td>\n      <td>0</td>\n      <td>['Spinocerebellar Ataxias', 'Action Potentials...</td>\n      <td>['rs150401343', 'rs786205867', 'rs149344567', ...</td>\n    </tr>\n    <tr>\n      <th>56</th>\n      <td>PEX6</td>\n      <td>510</td>\n      <td>582</td>\n      <td>41</td>\n      <td>246</td>\n      <td>73</td>\n      <td>18</td>\n      <td>16</td>\n      <td>10</td>\n      <td>61</td>\n      <td>12</td>\n      <td>0.041</td>\n      <td>0.390</td>\n      <td>0.031</td>\n      <td>0.836</td>\n      <td>0</td>\n      <td>0</td>\n      <td>['Membrane Proteins', 'Alzheimer Disease', 'Br...</td>\n      <td>['rs34324426', 'rs61753219', 'rs267608216', 'r...</td>\n    </tr>\n    <tr>\n      <th>57</th>\n      <td>ARHGAP45</td>\n      <td>510</td>\n      <td>2335</td>\n      <td>166</td>\n      <td>524</td>\n      <td>103</td>\n      <td>27</td>\n      <td>16</td>\n      <td>13</td>\n      <td>11</td>\n      <td>92</td>\n      <td>0.025</td>\n      <td>0.096</td>\n      <td>0.012</td>\n      <td>0.107</td>\n      <td>0</td>\n      <td>0</td>\n      <td>['Alzheimer Disease', 'Brain', 'Membrane Prote...</td>\n      <td>['rs4147934', 'rs115553053', 'rs2242436', 'rs2...</td>\n    </tr>\n    <tr>\n      <th>58</th>\n      <td>NOP56</td>\n      <td>510</td>\n      <td>116</td>\n      <td>7</td>\n      <td>91</td>\n      <td>7</td>\n      <td>9</td>\n      <td>4</td>\n      <td>6</td>\n      <td>4</td>\n      <td>3</td>\n      <td>0.066</td>\n      <td>0.571</td>\n      <td>0.078</td>\n      <td>0.571</td>\n      <td>0</td>\n      <td>0</td>\n      <td>['Brain', 'Nuclear Proteins', 'Spinocerebellar...</td>\n      <td>['rs28970277', 'rs1883977', 'rs6138678', 'rs67...</td>\n    </tr>\n    <tr>\n      <th>59</th>\n      <td>ACP6</td>\n      <td>510</td>\n      <td>102</td>\n      <td>7</td>\n      <td>61</td>\n      <td>7</td>\n      <td>2</td>\n      <td>2</td>\n      <td>1</td>\n      <td>3</td>\n      <td>4</td>\n      <td>0.016</td>\n      <td>0.286</td>\n      <td>0.020</td>\n      <td>0.429</td>\n      <td>0</td>\n      <td>0</td>\n      <td>['Membrane Proteins']</td>\n      <td>['rs2275552', 'rs28700004', 'rs6674938']</td>\n    </tr>\n    <tr>\n      <th>60</th>\n      <td>ENKD1</td>\n      <td>510</td>\n      <td>48</td>\n      <td>4</td>\n      <td>43</td>\n      <td>4</td>\n      <td>5</td>\n      <td>3</td>\n      <td>5</td>\n      <td>3</td>\n      <td>1</td>\n      <td>0.116</td>\n      <td>0.750</td>\n      <td>0.104</td>\n      <td>0.750</td>\n      <td>0</td>\n      <td>0</td>\n      <td>['Alzheimer Disease', 'Amyloid beta-Peptides',...</td>\n      <td>['rs7187476', 'rs767758296', 'rs779771226']</td>\n    </tr>\n    <tr>\n      <th>61</th>\n      <td>ARHGAP11B</td>\n      <td>510</td>\n      <td>24</td>\n      <td>2</td>\n      <td>21</td>\n      <td>2</td>\n      <td>0</td>\n      <td>0</td>\n      <td>0</td>\n      <td>0</td>\n      <td>2</td>\n      <td>0.000</td>\n      <td>0.000</td>\n      <td>0.000</td>\n      <td>0.000</td>\n      <td>0</td>\n      <td>0</td>\n      <td>[]</td>\n      <td>[]</td>\n    </tr>\n    <tr>\n      <th>62</th>\n      <td>MMP24OS</td>\n      <td>510</td>\n      <td>160</td>\n      <td>12</td>\n      <td>110</td>\n      <td>5</td>\n      <td>0</td>\n      <td>0</td>\n      <td>0</td>\n      <td>0</td>\n      <td>5</td>\n      <td>0.000</td>\n      <td>0.000</td>\n      <td>0.000</td>\n      <td>0.000</td>\n      <td>0</td>\n      <td>0</td>\n      <td>[]</td>\n      <td>[]</td>\n    </tr>\n    <tr>\n      <th>63</th>\n      <td>MAPK7</td>\n      <td>510</td>\n      <td>169</td>\n      <td>11</td>\n      <td>127</td>\n      <td>17</td>\n      <td>5</td>\n      <td>5</td>\n      <td>4</td>\n      <td>8</td>\n      <td>9</td>\n      <td>0.031</td>\n      <td>0.455</td>\n      <td>0.030</td>\n      <td>0.471</td>\n      <td>0</td>\n      <td>0</td>\n      <td>['Phosphorylation', 'Intracellular Signaling P...</td>\n      <td>['rs1384793471', 'rs1428363713', 'rs144078337'...</td>\n    </tr>\n    <tr>\n      <th>64</th>\n      <td>BMPER</td>\n      <td>510</td>\n      <td>162</td>\n      <td>11</td>\n      <td>115</td>\n      <td>20</td>\n      <td>2</td>\n      <td>2</td>\n      <td>2</td>\n      <td>2</td>\n      <td>18</td>\n      <td>0.017</td>\n      <td>0.182</td>\n      <td>0.012</td>\n      <td>0.100</td>\n      <td>0</td>\n      <td>0</td>\n      <td>['Acetylcholinesterase', 'Nuclear Proteins']</td>\n      <td>['rs10249320', 'rs144030074']</td>\n    </tr>\n    <tr>\n      <th>65</th>\n      <td>TRIM47</td>\n      <td>510</td>\n      <td>349</td>\n      <td>24</td>\n      <td>139</td>\n      <td>11</td>\n      <td>37</td>\n      <td>21</td>\n      <td>17</td>\n      <td>8</td>\n      <td>3</td>\n      <td>0.122</td>\n      <td>0.875</td>\n      <td>0.106</td>\n      <td>0.727</td>\n      <td>0</td>\n      <td>0</td>\n      <td>['Brain', 'Stroke', 'Leukoencephalopathies', '...</td>\n      <td>['rs1055129', 'rs3744017', 'rs3744020', 'rs460...</td>\n    </tr>\n    <tr>\n      <th>66</th>\n      <td>ZNF267</td>\n      <td>510</td>\n      <td>29</td>\n      <td>2</td>\n      <td>26</td>\n      <td>2</td>\n      <td>1</td>\n      <td>1</td>\n      <td>1</td>\n      <td>1</td>\n      <td>1</td>\n      <td>0.038</td>\n      <td>0.500</td>\n      <td>0.034</td>\n      <td>0.500</td>\n      <td>0</td>\n      <td>0</td>\n      <td>['Nerve Tissue Proteins']</td>\n      <td>['rs79859029']</td>\n    </tr>\n    <tr>\n      <th>67</th>\n      <td>CTSF</td>\n      <td>510</td>\n      <td>60</td>\n      <td>5</td>\n      <td>51</td>\n      <td>12</td>\n      <td>4</td>\n      <td>3</td>\n      <td>3</td>\n      <td>7</td>\n      <td>5</td>\n      <td>0.059</td>\n      <td>0.600</td>\n      <td>0.067</td>\n      <td>0.583</td>\n      <td>0</td>\n      <td>0</td>\n      <td>['Neuronal Ceroid-Lipofuscinoses', 'Alzheimer ...</td>\n      <td>['rs200426008', 'rs376579629', 'rs397514731', ...</td>\n    </tr>\n    <tr>\n      <th>68</th>\n      <td>RCN3</td>\n      <td>510</td>\n      <td>236</td>\n      <td>15</td>\n      <td>143</td>\n      <td>7</td>\n      <td>1</td>\n      <td>1</td>\n      <td>1</td>\n      <td>1</td>\n      <td>6</td>\n      <td>0.007</td>\n      <td>0.067</td>\n      <td>0.004</td>\n      <td>0.143</td>\n      <td>0</td>\n      <td>0</td>\n      <td>['Alzheimer Disease']</td>\n      <td>['rs894180076']</td>\n    </tr>\n    <tr>\n      <th>69</th>\n      <td>SH3BGRL</td>\n      <td>510</td>\n      <td>47</td>\n      <td>4</td>\n      <td>41</td>\n      <td>3</td>\n      <td>0</td>\n      <td>0</td>\n      <td>0</td>\n      <td>0</td>\n      <td>3</td>\n      <td>0.000</td>\n      <td>0.000</td>\n      <td>0.000</td>\n      <td>0.000</td>\n      <td>0</td>\n      <td>0</td>\n      <td>[]</td>\n      <td>[]</td>\n    </tr>\n    <tr>\n      <th>70</th>\n      <td>ACTL8</td>\n      <td>510</td>\n      <td>54</td>\n      <td>4</td>\n      <td>40</td>\n      <td>3</td>\n      <td>1</td>\n      <td>1</td>\n      <td>1</td>\n      <td>1</td>\n      <td>2</td>\n      <td>0.025</td>\n      <td>0.250</td>\n      <td>0.019</td>\n      <td>0.333</td>\n      <td>0</td>\n      <td>0</td>\n      <td>['Parkinson Disease']</td>\n      <td>['rs1578215']</td>\n    </tr>\n    <tr>\n      <th>71</th>\n      <td>BEND3</td>\n      <td>510</td>\n      <td>92</td>\n      <td>6</td>\n      <td>63</td>\n      <td>5</td>\n      <td>1</td>\n      <td>1</td>\n      <td>1</td>\n      <td>1</td>\n      <td>4</td>\n      <td>0.016</td>\n      <td>0.167</td>\n      <td>0.011</td>\n      <td>0.200</td>\n      <td>0</td>\n      <td>0</td>\n      <td>['Lipid Metabolism']</td>\n      <td>['rs3749872']</td>\n    </tr>\n    <tr>\n      <th>72</th>\n      <td>ZNF420</td>\n      <td>510</td>\n      <td>19</td>\n      <td>2</td>\n      <td>18</td>\n      <td>2</td>\n      <td>0</td>\n      <td>0</td>\n      <td>0</td>\n      <td>0</td>\n      <td>2</td>\n      <td>0.000</td>\n      <td>0.000</td>\n      <td>0.000</td>\n      <td>0.000</td>\n      <td>0</td>\n      <td>0</td>\n      <td>[]</td>\n      <td>[]</td>\n    </tr>\n    <tr>\n      <th>73</th>\n      <td>STAB2</td>\n      <td>510</td>\n      <td>272</td>\n      <td>19</td>\n      <td>143</td>\n      <td>25</td>\n      <td>7</td>\n      <td>4</td>\n      <td>7</td>\n      <td>8</td>\n      <td>17</td>\n      <td>0.049</td>\n      <td>0.211</td>\n      <td>0.026</td>\n      <td>0.320</td>\n      <td>0</td>\n      <td>0</td>\n      <td>['Acid Sensing Ion Channels', 'Amygdala', 'Int...</td>\n      <td>['rs10778270', 'rs10861067', 'rs12229292', 'rs...</td>\n    </tr>\n    <tr>\n      <th>74</th>\n      <td>CCR4</td>\n      <td>510</td>\n      <td>171</td>\n      <td>11</td>\n      <td>100</td>\n      <td>6</td>\n      <td>1</td>\n      <td>1</td>\n      <td>1</td>\n      <td>1</td>\n      <td>5</td>\n      <td>0.010</td>\n      <td>0.091</td>\n      <td>0.006</td>\n      <td>0.167</td>\n      <td>0</td>\n      <td>0</td>\n      <td>['Nuclear Proteins']</td>\n      <td>['rs2228428']</td>\n    </tr>\n    <tr>\n      <th>75</th>\n      <td>ATXN7L1</td>\n      <td>510</td>\n      <td>100</td>\n      <td>7</td>\n      <td>63</td>\n      <td>8</td>\n      <td>2</td>\n      <td>2</td>\n      <td>2</td>\n      <td>3</td>\n      <td>5</td>\n      <td>0.032</td>\n      <td>0.286</td>\n      <td>0.020</td>\n      <td>0.375</td>\n      <td>0</td>\n      <td>0</td>\n      <td>['Alzheimer Disease', 'Phosphatidylinositol 3-...</td>\n      <td>['rs11983798', 'rs16871986', 'rs679974']</td>\n    </tr>\n    <tr>\n      <th>76</th>\n      <td>HNF4G</td>\n      <td>510</td>\n      <td>614</td>\n      <td>43</td>\n      <td>221</td>\n      <td>19</td>\n      <td>4</td>\n      <td>4</td>\n      <td>4</td>\n      <td>4</td>\n      <td>15</td>\n      <td>0.018</td>\n      <td>0.093</td>\n      <td>0.007</td>\n      <td>0.211</td>\n      <td>0</td>\n      <td>0</td>\n      <td>['Intracellular Signaling Peptides and Protein...</td>\n      <td>['rs2941484', 'rs1805098', 'rs2941471', 'rs830...</td>\n    </tr>\n    <tr>\n      <th>77</th>\n      <td>NVL</td>\n      <td>510</td>\n      <td>77</td>\n      <td>6</td>\n      <td>57</td>\n      <td>8</td>\n      <td>0</td>\n      <td>0</td>\n      <td>0</td>\n      <td>0</td>\n      <td>8</td>\n      <td>0.000</td>\n      <td>0.000</td>\n      <td>0.000</td>\n      <td>0.000</td>\n      <td>0</td>\n      <td>0</td>\n      <td>[]</td>\n      <td>[]</td>\n    </tr>\n    <tr>\n      <th>78</th>\n      <td>NGFR</td>\n      <td>510</td>\n      <td>801</td>\n      <td>57</td>\n      <td>335</td>\n      <td>23</td>\n      <td>120</td>\n      <td>47</td>\n      <td>49</td>\n      <td>21</td>\n      <td>2</td>\n      <td>0.146</td>\n      <td>0.825</td>\n      <td>0.150</td>\n      <td>0.913</td>\n      <td>1</td>\n      <td>0</td>\n      <td>['Nerve Tissue Proteins', 'Alzheimer Disease',...</td>\n      <td>['rs2072446', 'rs536551654', 'rs780615365', 'r...</td>\n    </tr>\n    <tr>\n      <th>79</th>\n      <td>RAD18</td>\n      <td>510</td>\n      <td>349</td>\n      <td>22</td>\n      <td>179</td>\n      <td>15</td>\n      <td>7</td>\n      <td>5</td>\n      <td>7</td>\n      <td>5</td>\n      <td>10</td>\n      <td>0.039</td>\n      <td>0.227</td>\n      <td>0.020</td>\n      <td>0.333</td>\n      <td>0</td>\n      <td>0</td>\n      <td>['Ataxia Telangiectasia Mutated Proteins', 'Br...</td>\n      <td>['rs180498', 'rs187941554', 'rs189278173', 'rs...</td>\n    </tr>\n    <tr>\n      <th>80</th>\n      <td>UBXN6</td>\n      <td>510</td>\n      <td>89</td>\n      <td>6</td>\n      <td>75</td>\n      <td>6</td>\n      <td>2</td>\n      <td>1</td>\n      <td>2</td>\n      <td>1</td>\n      <td>5</td>\n      <td>0.027</td>\n      <td>0.167</td>\n      <td>0.022</td>\n      <td>0.167</td>\n      <td>0</td>\n      <td>0</td>\n      <td>['Membrane Proteins', 'Protein Transport']</td>\n      <td>['rs1315438752']</td>\n    </tr>\n    <tr>\n      <th>81</th>\n      <td>GYPA</td>\n      <td>510</td>\n      <td>214</td>\n      <td>16</td>\n      <td>149</td>\n      <td>15</td>\n      <td>1</td>\n      <td>1</td>\n      <td>1</td>\n      <td>1</td>\n      <td>14</td>\n      <td>0.007</td>\n      <td>0.062</td>\n      <td>0.005</td>\n      <td>0.067</td>\n      <td>0</td>\n      <td>0</td>\n      <td>['Membrane Proteins']</td>\n      <td>['rs7658293']</td>\n    </tr>\n    <tr>\n      <th>82</th>\n      <td>MAGI2</td>\n      <td>510</td>\n      <td>1184</td>\n      <td>74</td>\n      <td>439</td>\n      <td>123</td>\n      <td>36</td>\n      <td>29</td>\n      <td>21</td>\n      <td>35</td>\n      <td>88</td>\n      <td>0.048</td>\n      <td>0.392</td>\n      <td>0.030</td>\n      <td>0.285</td>\n      <td>0</td>\n      <td>0</td>\n      <td>['Membrane Proteins', 'Alzheimer Disease', 'Pa...</td>\n      <td>['rs6962966', 'rs9640699', 'rs10485912', 'rs24...</td>\n    </tr>\n    <tr>\n      <th>83</th>\n      <td>TRIM63</td>\n      <td>510</td>\n      <td>504</td>\n      <td>34</td>\n      <td>197</td>\n      <td>19</td>\n      <td>24</td>\n      <td>10</td>\n      <td>16</td>\n      <td>5</td>\n      <td>14</td>\n      <td>0.081</td>\n      <td>0.294</td>\n      <td>0.048</td>\n      <td>0.263</td>\n      <td>0</td>\n      <td>0</td>\n      <td>['Membrane Proteins', 'Mitochondria', 'Mitocho...</td>\n      <td>['rs148395034', 'rs140523053', 'rs376414719', ...</td>\n    </tr>\n    <tr>\n      <th>84</th>\n      <td>KCNK3</td>\n      <td>510</td>\n      <td>617</td>\n      <td>48</td>\n      <td>235</td>\n      <td>25</td>\n      <td>28</td>\n      <td>20</td>\n      <td>14</td>\n      <td>15</td>\n      <td>10</td>\n      <td>0.060</td>\n      <td>0.417</td>\n      <td>0.045</td>\n      <td>0.600</td>\n      <td>0</td>\n      <td>0</td>\n      <td>['Nerve Tissue Proteins', 'Membrane Potentials...</td>\n      <td>['rs1275988', 'rs398123039', 'rs2586886', 'rs3...</td>\n    </tr>\n    <tr>\n      <th>85</th>\n      <td>HTR4</td>\n      <td>510</td>\n      <td>605</td>\n      <td>43</td>\n      <td>240</td>\n      <td>59</td>\n      <td>25</td>\n      <td>17</td>\n      <td>17</td>\n      <td>29</td>\n      <td>30</td>\n      <td>0.071</td>\n      <td>0.395</td>\n      <td>0.041</td>\n      <td>0.492</td>\n      <td>0</td>\n      <td>0</td>\n      <td>['Receptors, Serotonin, 5-HT4', 'Brain', 'Nerv...</td>\n      <td>['rs3995090', 'rs9325104', 'rs13166761', 'rs18...</td>\n    </tr>\n    <tr>\n      <th>86</th>\n      <td>ATP2C1</td>\n      <td>510</td>\n      <td>333</td>\n      <td>24</td>\n      <td>166</td>\n      <td>32</td>\n      <td>7</td>\n      <td>6</td>\n      <td>7</td>\n      <td>15</td>\n      <td>17</td>\n      <td>0.042</td>\n      <td>0.250</td>\n      <td>0.021</td>\n      <td>0.469</td>\n      <td>0</td>\n      <td>0</td>\n      <td>['Depression', 'Manganese Poisoning', 'Molecul...</td>\n      <td>['rs1196190757', 'rs10490825', 'rs1249754318',...</td>\n    </tr>\n    <tr>\n      <th>87</th>\n      <td>ADGRB1</td>\n      <td>510</td>\n      <td>29</td>\n      <td>2</td>\n      <td>25</td>\n      <td>3</td>\n      <td>1</td>\n      <td>1</td>\n      <td>1</td>\n      <td>2</td>\n      <td>1</td>\n      <td>0.040</td>\n      <td>0.500</td>\n      <td>0.034</td>\n      <td>0.667</td>\n      <td>0</td>\n      <td>0</td>\n      <td>['Cognition']</td>\n      <td>['rs10481393', 'rs6583634']</td>\n    </tr>\n    <tr>\n      <th>88</th>\n      <td>LAMTOR3</td>\n      <td>510</td>\n      <td>30</td>\n      <td>2</td>\n      <td>24</td>\n      <td>3</td>\n      <td>0</td>\n      <td>0</td>\n      <td>0</td>\n      <td>0</td>\n      <td>3</td>\n      <td>0.000</td>\n      <td>0.000</td>\n      <td>0.000</td>\n      <td>0.000</td>\n      <td>0</td>\n      <td>0</td>\n      <td>[]</td>\n      <td>[]</td>\n    </tr>\n    <tr>\n      <th>89</th>\n      <td>PLA2G4F</td>\n      <td>510</td>\n      <td>44</td>\n      <td>4</td>\n      <td>34</td>\n      <td>6</td>\n      <td>0</td>\n      <td>0</td>\n      <td>0</td>\n      <td>0</td>\n      <td>6</td>\n      <td>0.000</td>\n      <td>0.000</td>\n      <td>0.000</td>\n      <td>0.000</td>\n      <td>0</td>\n      <td>0</td>\n      <td>[]</td>\n      <td>[]</td>\n    </tr>\n    <tr>\n      <th>90</th>\n      <td>ATRX</td>\n      <td>510</td>\n      <td>1235</td>\n      <td>78</td>\n      <td>439</td>\n      <td>53</td>\n      <td>43</td>\n      <td>35</td>\n      <td>14</td>\n      <td>27</td>\n      <td>26</td>\n      <td>0.032</td>\n      <td>0.449</td>\n      <td>0.035</td>\n      <td>0.509</td>\n      <td>0</td>\n      <td>0</td>\n      <td>['Nuclear Proteins', 'Brain Neoplasms', 'Molec...</td>\n      <td>['rs122445105', 'rs122445108', 'rs3088074', 'r...</td>\n    </tr>\n    <tr>\n      <th>91</th>\n      <td>UBA2</td>\n      <td>510</td>\n      <td>65</td>\n      <td>4</td>\n      <td>60</td>\n      <td>4</td>\n      <td>2</td>\n      <td>2</td>\n      <td>2</td>\n      <td>2</td>\n      <td>2</td>\n      <td>0.033</td>\n      <td>0.500</td>\n      <td>0.031</td>\n      <td>0.500</td>\n      <td>0</td>\n      <td>0</td>\n      <td>['Alzheimer Disease', 'Brain']</td>\n      <td>['rs7259160', 'rs771145691']</td>\n    </tr>\n    <tr>\n      <th>92</th>\n      <td>ABCC11</td>\n      <td>510</td>\n      <td>1054</td>\n      <td>83</td>\n      <td>353</td>\n      <td>20</td>\n      <td>12</td>\n      <td>9</td>\n      <td>9</td>\n      <td>5</td>\n      <td>15</td>\n      <td>0.025</td>\n      <td>0.108</td>\n      <td>0.011</td>\n      <td>0.250</td>\n      <td>0</td>\n      <td>0</td>\n      <td>['DNA, Mitochondrial', 'Membrane Proteins', 'P...</td>\n      <td>['rs17822931', 'rs199839251', 'rs529824818', '...</td>\n    </tr>\n    <tr>\n      <th>93</th>\n      <td>AGAP3</td>\n      <td>510</td>\n      <td>114</td>\n      <td>7</td>\n      <td>93</td>\n      <td>14</td>\n      <td>8</td>\n      <td>4</td>\n      <td>8</td>\n      <td>11</td>\n      <td>3</td>\n      <td>0.086</td>\n      <td>0.571</td>\n      <td>0.070</td>\n      <td>0.786</td>\n      <td>0</td>\n      <td>0</td>\n      <td>['Brain', 'Epilepsy', 'Excitatory Postsynaptic...</td>\n      <td>['rs10270107', 'rs10271154', 'rs11769150', 'rs...</td>\n    </tr>\n    <tr>\n      <th>94</th>\n      <td>ENPP1</td>\n      <td>510</td>\n      <td>4385</td>\n      <td>288</td>\n      <td>934</td>\n      <td>94</td>\n      <td>44</td>\n      <td>30</td>\n      <td>24</td>\n      <td>9</td>\n      <td>85</td>\n      <td>0.026</td>\n      <td>0.104</td>\n      <td>0.010</td>\n      <td>0.096</td>\n      <td>1</td>\n      <td>0</td>\n      <td>['Phosphorylation', 'Membrane Proteins', 'Stro...</td>\n      <td>['rs1044498', 'rs1341298980', 'rs2021966', 'rs...</td>\n    </tr>\n    <tr>\n      <th>95</th>\n      <td>NANOG</td>\n      <td>510</td>\n      <td>724</td>\n      <td>47</td>\n      <td>327</td>\n      <td>24</td>\n      <td>8</td>\n      <td>8</td>\n      <td>4</td>\n      <td>4</td>\n      <td>20</td>\n      <td>0.012</td>\n      <td>0.170</td>\n      <td>0.011</td>\n      <td>0.167</td>\n      <td>0</td>\n      <td>0</td>\n      <td>['Phosphorylation', 'Dopaminergic Neurons', 'N...</td>\n      <td>['rs1394440555', 'rs777320377', 'rs4012938', '...</td>\n    </tr>\n    <tr>\n      <th>96</th>\n      <td>CH25H</td>\n      <td>510</td>\n      <td>68</td>\n      <td>5</td>\n      <td>48</td>\n      <td>7</td>\n      <td>3</td>\n      <td>2</td>\n      <td>3</td>\n      <td>2</td>\n      <td>5</td>\n      <td>0.062</td>\n      <td>0.400</td>\n      <td>0.044</td>\n      <td>0.286</td>\n      <td>0</td>\n      <td>0</td>\n      <td>['Alzheimer Disease', 'Brain', 'Multiple Scler...</td>\n      <td>['rs4417181', 'rs773144793']</td>\n    </tr>\n    <tr>\n      <th>97</th>\n      <td>NOVA2</td>\n      <td>510</td>\n      <td>34</td>\n      <td>2</td>\n      <td>33</td>\n      <td>2</td>\n      <td>0</td>\n      <td>0</td>\n      <td>0</td>\n      <td>0</td>\n      <td>2</td>\n      <td>0.000</td>\n      <td>0.000</td>\n      <td>0.000</td>\n      <td>0.000</td>\n      <td>0</td>\n      <td>0</td>\n      <td>[]</td>\n      <td>[]</td>\n    </tr>\n    <tr>\n      <th>98</th>\n      <td>CAPRIN1</td>\n      <td>510</td>\n      <td>33</td>\n      <td>3</td>\n      <td>28</td>\n      <td>3</td>\n      <td>1</td>\n      <td>1</td>\n      <td>1</td>\n      <td>1</td>\n      <td>2</td>\n      <td>0.036</td>\n      <td>0.333</td>\n      <td>0.030</td>\n      <td>0.333</td>\n      <td>0</td>\n      <td>0</td>\n      <td>['Essential Tremor']</td>\n      <td>['rs186747705']</td>\n    </tr>\n    <tr>\n      <th>99</th>\n      <td>KLHL25</td>\n      <td>510</td>\n      <td>39</td>\n      <td>3</td>\n      <td>36</td>\n      <td>4</td>\n      <td>1</td>\n      <td>1</td>\n      <td>1</td>\n      <td>2</td>\n      <td>2</td>\n      <td>0.028</td>\n      <td>0.333</td>\n      <td>0.026</td>\n      <td>0.500</td>\n      <td>0</td>\n      <td>0</td>\n      <td>['Encephalitis, Tick-Borne']</td>\n      <td>['rs35582838', 'rs779814173']</td>\n    </tr>\n  </tbody>\n</table>\n</div>"
     },
     "execution_count": 27,
     "metadata": {},
     "output_type": "execute_result"
    }
   ],
   "source": [
    "GRPMX_report = pd.read_csv(directory+'/GRPMX_report.csv')#.head(20)\n",
    "GRPMX_report"
   ],
   "metadata": {
    "collapsed": false,
    "ExecuteTime": {
     "end_time": "2024-10-22T08:46:52.887147400Z",
     "start_time": "2024-10-22T08:46:52.738703200Z"
    }
   },
   "execution_count": 27
  },
  {
   "cell_type": "code",
   "execution_count": null,
   "metadata": {
    "collapsed": false
   },
   "outputs": [],
   "source": [
    "df_read = pd.read_csv(directory+'/grpmx_filtered_output.csv', index_col=0)\n",
    "print('genes matching:', df_read.gene.nunique())\n",
    "print('mesh matching:', df_read.mesh.nunique())\n",
    "print('apply threshold in Analyzer Module')\n",
    "df_read"
   ]
  },
  {
   "cell_type": "markdown",
   "metadata": {},
   "source": [
    "# Check results"
   ]
  },
  {
   "cell_type": "code",
   "execution_count": null,
   "metadata": {
    "collapsed": false
   },
   "outputs": [],
   "source": [
    "# Visualize GRPMX_report.csv\n",
    "GRPMX_report = pd.read_csv(directory+'/GRPMX_report.csv', index_col=0).rename(columns={'index':'gene'})\n",
    "GRPMX_report.gene.drop_duplicates().to_clipboard()\n",
    "print('Genes matching:',len(GRPMX_report.gene.drop_duplicates()))\n",
    "\n",
    "GRPMX_report[['reference_mesh', 'starting_pmidmesh', 'starting_pmid','starting_mesh','starting_rsid', 'matching_pmidmesh', 'matching_pmids', 'matching_mesh','matching_rsid', 'dropped_rsid']] = GRPMX_report[['reference_mesh', 'starting_pmidmesh', 'starting_pmid','starting_mesh','starting_rsid', 'matching_pmidmesh', 'matching_pmids', 'matching_mesh','matching_rsid', 'dropped_rsid']].astype(int)\n",
    "\n",
    "GRPMX_report[['matching_mesh_ratio', 'matching_pmids_ratio','matching_pmidmesh_ratio', 'matching_rsid_ratio']] = GRPMX_report[['matching_mesh_ratio', 'matching_pmids_ratio','matching_pmidmesh_ratio','matching_rsid_ratio']].astype(float)\n",
    "\n",
    "columns_to_keep = ['matching_pmids','matching_pmids_ratio','matching_mesh','matching_rsid']\n",
    "GRPMX_report_less = GRPMX_report[columns_to_keep]\n",
    "\n",
    "sorting_column = 'matching_pmids'\n",
    "GRPMX_report_sort = GRPMX_report.sort_values(by=sorting_column, ascending=False)\n",
    "\n",
    "columns_to_display = ['gene', 'matching_pmidmesh', 'matching_pmids',\n",
    "                      'matching_mesh', 'matching_rsid', 'dropped_rsid', 'matching_mesh_ratio',\n",
    "                      'matching_pmids_ratio', 'matching_pmidmesh_ratio',\n",
    "                      'matching_rsid_ratio']\n",
    "GRPMX_report_display = GRPMX_report[columns_to_display]\n",
    "GRPMX_report_display"
   ]
  },
  {
   "cell_type": "code",
   "execution_count": null,
   "metadata": {
    "collapsed": false
   },
   "outputs": [],
   "source": [
    "# Matching PMIDs in Database\n",
    "GRPMX_report_sort = GRPMX_report.sort_values(by= 'matching_pmids',ascending=False)\n",
    "\n",
    "x = GRPMX_report_sort.gene.iloc[:40]\n",
    "y = GRPMX_report_sort['matching_pmids'].iloc[:40]\n",
    "plt.figure(figsize=(5, len(x)*0.2))\n",
    "plt.title('Matching PMIDs in Database', loc='center',pad=10)\n",
    "\n",
    "plt.barh(x,y)\n",
    "plt.gca().invert_yaxis()\n",
    "plt.tick_params(axis='x', which='both', top=True, bottom=False, labeltop=True, labelbottom=False)\n",
    "#plt.xlabel('pmid count', position=(0.5, 1.08))\n",
    "plt.ylabel('genes')\n",
    "plt.xlabel('matching pmid', position=(0.5, 1.08))\n",
    "ax = plt.gca()\n",
    "ax.xaxis.set_label_position('top')\n",
    "\n",
    "plt.show()"
   ]
  },
  {
   "cell_type": "code",
   "execution_count": null,
   "metadata": {
    "collapsed": false
   },
   "outputs": [],
   "source": [
    "# Add \"interest value\" to report:----------------------------------------------------------\n",
    "max_match_pmids = int(GRPMX_report['matching_pmids'].max())\n",
    "GRPMX_report_int = GRPMX_report\n",
    "GRPMX_report_int['matching_pmids_score'] = round((GRPMX_report_int['matching_pmids']/max_match_pmids),3)\n",
    "\n",
    "GRPMX_report_int['interest_value'] = round(GRPMX_report_int['matching_pmids_score'] * GRPMX_report_int['matching_pmids_ratio'],3)\n",
    "\n",
    "GRPMX_report_int.set_index('gene').sort_values(by='interest_value')#.T"
   ]
  },
  {
   "cell_type": "code",
   "execution_count": null,
   "metadata": {
    "collapsed": false
   },
   "outputs": [],
   "source": [
    "# Matching PMIDs in Database\n",
    "GRPMX_report_sort = GRPMX_report.sort_values(by= 'matching_pmids_index',ascending=False)\n",
    "\n",
    "x = GRPMX_report_sort.gene.iloc[:100]\n",
    "y = GRPMX_report_sort['matching_pmids_index'].iloc[:100]\n",
    "plt.figure(figsize=(5, len(x)*0.2))\n",
    "plt.title('Matching PMIDs in Database', loc='center',pad=10)\n",
    "\n",
    "plt.barh(x,y)\n",
    "plt.gca().invert_yaxis()\n",
    "plt.tick_params(axis='x', which='both', top=True, bottom=False, labeltop=True, labelbottom=False)\n",
    "#plt.xlabel('pmid count', position=(0.5, 1.08))\n",
    "plt.ylabel('genes')\n",
    "plt.xlabel('matching pmid', position=(0.5, 1.08))\n",
    "ax = plt.gca()\n",
    "ax.xaxis.set_label_position('top')\n",
    "\n",
    "plt.show()"
   ]
  },
  {
   "cell_type": "code",
   "execution_count": null,
   "metadata": {
    "collapsed": false
   },
   "outputs": [],
   "source": []
  },
  {
   "cell_type": "markdown",
   "source": [
    "# Extra"
   ],
   "metadata": {
    "collapsed": false
   }
  },
  {
   "cell_type": "markdown",
   "source": [
    "Simple GRPM Subsetting"
   ],
   "metadata": {
    "collapsed": false
   }
  },
  {
   "cell_type": "code",
   "outputs": [],
   "source": [
    "grpm_dataset.head()"
   ],
   "metadata": {
    "collapsed": false
   },
   "execution_count": null
  },
  {
   "cell_type": "markdown",
   "source": [
    "## filter by mesh"
   ],
   "metadata": {
    "collapsed": false
   }
  },
  {
   "cell_type": "code",
   "outputs": [],
   "source": [
    "# filtering source dataset\n",
    "import time\n",
    "timea = time.time()\n",
    "\n",
    "my_mesh = 'Heart Failure'\n",
    "#nbib_subset = pd.DataFrame(columns= nbib_dataset.columns)\n",
    "filteres_grpm = grpm_dataset[grpm_dataset.mesh == my_mesh].reset_index(drop=True)\n",
    "\n",
    "print((time.time()-timea)/60,'minutes')\n",
    "filteres_grpm.to_csv('filteres_grpm_heart_fail.csv') #= pd.read_csv(filteres_grpm)\n",
    "filteres_grpm"
   ],
   "metadata": {
    "collapsed": false
   },
   "execution_count": null
  },
  {
   "cell_type": "code",
   "outputs": [],
   "source": [
    "# import LitVat-PubMed Dataset (GRPM)\n",
    "filteres_grpm = pd.read_csv('filteres_grpm_heart_fail.csv', index_col=0)\n",
    "filteres_grpm.pmid = filteres_grpm.pmid.astype('str')  # convert PMIDs to str\n",
    "filteres_grpm"
   ],
   "metadata": {
    "collapsed": false
   },
   "execution_count": null
  },
  {
   "cell_type": "code",
   "outputs": [],
   "source": [
    "#Analyze data with \"groupby.describe\" method\n",
    "\n",
    "## 1. groupby.describe analysis by [pmids]\n",
    "filteres_grpm_gene = filteres_grpm.groupby('gene').describe().reset_index()#.reset_index(drop=True)\n",
    "filteres_grpm_gene[['gene','pmid']].sort_values(by=('pmid', 'unique'), ascending=False).reset_index(drop=True)"
   ],
   "metadata": {
    "collapsed": false
   },
   "execution_count": null
  },
  {
   "cell_type": "markdown",
   "source": [
    "## filter by gene"
   ],
   "metadata": {
    "collapsed": false
   }
  },
  {
   "cell_type": "code",
   "outputs": [],
   "source": [
    "# filtering source dataset\n",
    "import time\n",
    "timea = time.time()\n",
    "my_mesh = ref.mesh[0]\n",
    "my_gene = 'GLA'\n",
    "#nbib_subset = pd.DataFrame(columns= nbib_dataset.columns)\n",
    "filteres_grpm = grpm_dataset[grpm_dataset.gene == my_gene].reset_index(drop=True)\n",
    "print((time.time()-timea)/60,'minutes')\n",
    "\n",
    "filteres_grpm.to_csv('filteres_grpm.csv') #= pd.read_csv(filteres_grpm)"
   ],
   "metadata": {
    "collapsed": false
   },
   "execution_count": null
  },
  {
   "cell_type": "code",
   "outputs": [],
   "source": [
    "# import LitVat-PubMed Dataset (GRPM)\n",
    "filteres_grpm = pd.read_csv('filteres_grpm.csv', index_col=0)\n",
    "filteres_grpm_sub = filteres_grpm[filteres_grpm.mesh.str.contains('Fabry')].reset_index(drop=True)\n",
    "filteres_grpm_sub.pmid = filteres_grpm.pmid.astype('str')  # convert PMIDs to str\n",
    "filteres_grpm_sub"
   ],
   "metadata": {
    "collapsed": false
   },
   "execution_count": null
  },
  {
   "cell_type": "code",
   "outputs": [],
   "source": [
    "#Analyze data with \"groupby.describe\" method\n",
    "\n",
    "## 1. groupby.describe analysis by [pmids]\n",
    "filteres_grpm_sub_pmids = filteres_grpm.groupby('pmid').describe().reset_index()\n",
    "filteres_grpm_sub_pmids"
   ],
   "metadata": {
    "collapsed": false
   },
   "execution_count": null
  },
  {
   "cell_type": "code",
   "outputs": [],
   "source": [
    "## 1. groupby.describe analysis by [rsid]\n",
    "filteres_grpm_sub_rsid = filteres_grpm.groupby('rsid').describe().reset_index()\n",
    "filteres_grpm_sub_rsid"
   ],
   "metadata": {
    "collapsed": false
   },
   "execution_count": null
  },
  {
   "cell_type": "code",
   "outputs": [],
   "source": [
    "## 1. groupby.describe analysis by [rsid]\n",
    "filteres_grpm_mesh = filteres_grpm.groupby('mesh').describe().reset_index()\n",
    "filteres_grpm_mesh"
   ],
   "metadata": {
    "collapsed": false
   },
   "execution_count": null
  },
  {
   "cell_type": "code",
   "outputs": [],
   "source": [
    "filteres_grpm_[filteres_grpm_.mesh.str.contains('Fabry')]"
   ],
   "metadata": {
    "collapsed": false
   },
   "execution_count": null
  },
  {
   "cell_type": "code",
   "outputs": [],
   "source": [
    "\n",
    "filteres_grpm_.columns = filteres_grpm_.columns.to_flat_index()\n",
    "#new_column_names = ['rsid', 'pmid-count', 'pmid-unique','pmid-top','pmid-freq','mesh-count', 'mesh-unique','mesh-top','mesh-freq']\n",
    "filteres_grpm_.columns = filteres_grpm_\n",
    "#------------------\n",
    "filteres_grpm_"
   ],
   "metadata": {
    "collapsed": false
   },
   "execution_count": null
  },
  {
   "cell_type": "code",
   "outputs": [],
   "source": [
    "import json\n",
    "pmid_list =[]\n",
    "\n",
    "for  pmid_id  in myjson.elemento[0]:\n",
    "    pmid_list.append(pmid_id)\n"
   ],
   "metadata": {
    "collapsed": false
   }
  },
  {
   "cell_type": "markdown",
   "source": [
    "## report transposer"
   ],
   "metadata": {
    "collapsed": false
   }
  },
  {
   "cell_type": "code",
   "outputs": [],
   "source": [
    "def report_transposer(path):\n",
    "    #pd.read_csv(directory +'/GRPMX_report.csv', index_col=0)\n",
    "    GRPMX_report = pd.read_csv(path, index_col=0).transpose().reset_index()\n",
    "    GRPMX_report.to_csv(path)\n",
    "\n",
    "path = r\"..\\grpm_surveys\\grpm_survey_pcg_cvd\\GRPMX_report.csv\"\n",
    "report_transposer(path)"
   ],
   "metadata": {
    "collapsed": false
   },
   "execution_count": 0
  },
  {
   "cell_type": "code",
   "outputs": [],
   "source": [
    "for i in ['norep1','norep2','norep3','norep4','norep5','norep6','norep7','norep8','norep9','norep10','norep11']:\n",
    "    path = rf\"..\\grpm_surveys\\grpm_random\\grpm_random_pcg_{i}\\GRPMX_report.csv\"\n",
    "    report_transposer(path)"
   ],
   "metadata": {
    "collapsed": false
   },
   "execution_count": 0
  }
 ],
 "metadata": {
  "kernelspec": {
   "display_name": "Python 3 (ipykernel)",
   "language": "python",
   "name": "python3"
  },
  "language_info": {
   "codemirror_mode": {
    "name": "ipython",
    "version": 3
   },
   "file_extension": ".py",
   "mimetype": "text/x-python",
   "name": "python",
   "nbconvert_exporter": "python",
   "pygments_lexer": "ipython3",
   "version": "3.11.3"
  }
 },
 "nbformat": 4,
 "nbformat_minor": 4
}
