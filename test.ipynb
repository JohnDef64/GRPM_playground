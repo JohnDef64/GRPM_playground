{
 "cells": [
  {
   "cell_type": "code",
   "outputs": [],
   "source": [
    "import importlib\n",
    "import subprocess\n",
    "\n",
    "try:\n",
    "    importlib.import_module('pygrpm')\n",
    "except ImportError:\n",
    "    subprocess.check_call([\"pip\", \"install\", \"git+https://github.com/johndef64/GRPM_system.git\"])\n",
    "    \n",
    "from pygrpm import *"
   ],
   "metadata": {
    "collapsed": false
   },
   "id": "b49a1c9885565c8"
  },
  {
   "cell_type": "code",
   "outputs": [],
   "source": [
    "### GET Datasets ###\n",
    "get_and_extract('grpm_dataset', record_id='14052302')"
   ],
   "metadata": {
    "collapsed": false
   },
   "id": "ee2f83b09bfae9b9"
  },
  {
   "cell_type": "code",
   "outputs": [],
   "source": [
    "get_and_extract('nutrigenetic_dataset', record_id='14052302')\n"
   ],
   "metadata": {
    "collapsed": false
   },
   "id": "94e5a8b7a742c9cf"
  },
  {
   "cell_type": "code",
   "outputs": [],
   "source": [
    "### LOAD Datasets ###\n",
    "pcg_grpm, rna_grpm, pseudo_grpm = grpm_importer()\n",
    "grpm_nutrigen, grpm_nutrigen_int, grpm_nutrigen_int_gwas = nutrig_importer()\n"
   ],
   "metadata": {
    "collapsed": false
   },
   "id": "83f43553f9bd7c3b"
  },
  {
   "cell_type": "code",
   "outputs": [],
   "source": [
    "### GET Stats ###\n",
    "result = get_stats(pcg_grpm, group_by = 'gene')\n",
    "display(result)"
   ],
   "metadata": {
    "collapsed": false
   },
   "id": "7c3ba98a0f4586ad"
  },
  {
   "cell_type": "code",
   "outputs": [],
   "source": [
    "result = get_stats(grpm_nutrigen, group_by = 'gene')\n",
    "display(result)"
   ],
   "metadata": {
    "collapsed": false
   },
   "id": "53b8d4bd3b022b39"
  },
  {
   "cell_type": "code",
   "outputs": [],
   "source": [
    "### QUERY Datasets ###\n",
    "\n",
    "# MeSH Query on GRPM ds\n",
    "my_mesh = (\n",
    "    'Sodium-Coupled Vitamin C Transporters',\n",
    "    'Micronutrients',\n",
    "    'Biotinidase Deficiency',\n",
    "    'Lipid Metabolism Disorders',\n",
    "    'Vitamin D-Binding Protein',\n",
    "    'Pyridoxal Phosphate',\n",
    "    'Choline-Phosphate Cytidyltransferase',\n",
    "    'Vitamin D3 24-Hydroxylase'\n",
    ")\n",
    "\n",
    "# Filter and get unique results\n",
    "result = query_dataset(pcg_grpm, my_mesh, 'mesh')\n",
    "display(result)"
   ],
   "metadata": {
    "collapsed": false
   },
   "id": "96db33e16dc2dc20"
  },
  {
   "cell_type": "code",
   "outputs": [],
   "source": [
    "# Gene Query on Nutrigenetic ds\n",
    "my_genes = (\n",
    "    'FTO',\n",
    "    'APOB',\n",
    "    'G6PD'\n",
    ")\n",
    "# Filter and get unique results\n",
    "result = query_dataset(grpm_nutrigen_int, my_genes, 'gene')\n",
    "display(result)"
   ],
   "metadata": {
    "collapsed": false
   },
   "id": "847848c87e42f770"
  },
  {
   "cell_type": "code",
   "outputs": [],
   "source": [
    "\n",
    "# Gene Query on Nutrigenetic-GWAS ds\n",
    "result = query_dataset(grpm_nutrigen_int_gwas, my_genes, 'GRPM_GENE')\n",
    "display(result)"
   ],
   "metadata": {
    "collapsed": false
   },
   "id": "9bc895ffb3fa09e8"
  }
 ],
 "metadata": {
  "kernelspec": {
   "display_name": "Python 3",
   "language": "python",
   "name": "python3"
  },
  "language_info": {
   "codemirror_mode": {
    "name": "ipython",
    "version": 2
   },
   "file_extension": ".py",
   "mimetype": "text/x-python",
   "name": "python",
   "nbconvert_exporter": "python",
   "pygments_lexer": "ipython2",
   "version": "2.7.6"
  }
 },
 "nbformat": 4,
 "nbformat_minor": 5
}
