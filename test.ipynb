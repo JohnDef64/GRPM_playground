{
 "cells": [
  {
   "cell_type": "markdown",
   "source": [
    "# Import modules\n",
    "\n",
    "[ In Colab:: load Runtime with GPU ] "
   ],
   "metadata": {
    "collapsed": false
   },
   "id": "df38d2663d0b5b2e"
  },
  {
   "cell_type": "code",
   "outputs": [],
   "source": [
    "import importlib\n",
    "import subprocess\n",
    "import torch\n",
    "print(\"Torch version:\",torch.__version__)\n",
    "print(\"Is CUDA enabled?\",torch.cuda.is_available())\n",
    "if torch.cuda.is_available():\n",
    "    print(torch.randn(1).cuda())\n",
    "    \n",
    "try:\n",
    "    importlib.import_module('pygrpm')\n",
    "except ImportError:\n",
    "    subprocess.check_call([\"pip\", \"install\", \"git+https://github.com/johndef64/GRPM_system.git\"])\n",
    "    \n",
    "from pygrpm import *"
   ],
   "metadata": {
    "collapsed": false,
    "ExecuteTime": {
     "end_time": "2024-11-14T15:26:54.883132900Z",
     "start_time": "2024-11-14T15:26:54.863098900Z"
    }
   },
   "id": "b49a1c9885565c8",
   "execution_count": 15
  },
  {
   "cell_type": "markdown",
   "source": [
    "# GET Datasets"
   ],
   "metadata": {
    "collapsed": false
   },
   "id": "72ba3275c7199e3"
  },
  {
   "cell_type": "code",
   "outputs": [],
   "source": [
    "### GET Datasets ###\n",
    "get_and_extract('grpm_dataset', record_id='14052302')\n",
    "get_and_extract('nutrigenetic_dataset', record_id='14052302')"
   ],
   "metadata": {
    "collapsed": false
   },
   "id": "ee2f83b09bfae9b9"
  },
  {
   "cell_type": "markdown",
   "source": [
    "# LOAD Datasets"
   ],
   "metadata": {
    "collapsed": false
   },
   "id": "d949e679493bcbd9"
  },
  {
   "cell_type": "code",
   "outputs": [
    {
     "name": "stdout",
     "output_type": "stream",
     "text": [
      "Importing time:  0:00:09.197935\n",
      "pcg: 776.19 MB\n",
      "rna: 58.18 MB\n",
      "pseudo: 1.93 MB\n",
      "nutrigen dataset: 87.13 MB\n",
      "nutrigen dataset filtered: 53.62 MB\n",
      "nutrigen gwas dataset: 20.56 MB\n"
     ]
    },
    {
     "data": {
      "text/plain": "          gene          rsid      pmid                               mesh  \\\n0          FTO     rs9972653  32393786                    Body Mass Index   \n1          FTO     rs9972653  32393786          Diabetes Mellitus, Type 2   \n2          FTO     rs9972653  32393786                               Diet   \n3          FTO     rs9972653  33128006                    Body Mass Index   \n4          FTO     rs9972653  33128006            Cardiovascular Diseases   \n...        ...           ...       ...                                ...   \n1171244  FADS1      rs174545  23221573                   Lipid Metabolism   \n1171245  FADS1      rs174545  30120404                              Liver   \n1171246  FADS1      rs174545  30120404  Non-alcoholic Fatty Liver Disease   \n1171247  FADS1      rs174544  20565855                   Lipid Metabolism   \n1171248  FADS1  rs1185231229  23306188                   Lipid Metabolism   \n\n                          topic  interest_index  \n0             General Nutrition         1.00000  \n1             General Nutrition         1.00000  \n2             General Nutrition         1.00000  \n3             General Nutrition         1.00000  \n4             General Nutrition         1.00000  \n...                         ...             ...  \n1171244  Xenobiotics Metabolism         0.01255  \n1171245  Xenobiotics Metabolism         0.01255  \n1171246  Xenobiotics Metabolism         0.01255  \n1171247  Xenobiotics Metabolism         0.01255  \n1171248  Xenobiotics Metabolism         0.01255  \n\n[1171249 rows x 6 columns]",
      "text/html": "<div>\n<style scoped>\n    .dataframe tbody tr th:only-of-type {\n        vertical-align: middle;\n    }\n\n    .dataframe tbody tr th {\n        vertical-align: top;\n    }\n\n    .dataframe thead th {\n        text-align: right;\n    }\n</style>\n<table border=\"1\" class=\"dataframe\">\n  <thead>\n    <tr style=\"text-align: right;\">\n      <th></th>\n      <th>gene</th>\n      <th>rsid</th>\n      <th>pmid</th>\n      <th>mesh</th>\n      <th>topic</th>\n      <th>interest_index</th>\n    </tr>\n  </thead>\n  <tbody>\n    <tr>\n      <th>0</th>\n      <td>FTO</td>\n      <td>rs9972653</td>\n      <td>32393786</td>\n      <td>Body Mass Index</td>\n      <td>General Nutrition</td>\n      <td>1.00000</td>\n    </tr>\n    <tr>\n      <th>1</th>\n      <td>FTO</td>\n      <td>rs9972653</td>\n      <td>32393786</td>\n      <td>Diabetes Mellitus, Type 2</td>\n      <td>General Nutrition</td>\n      <td>1.00000</td>\n    </tr>\n    <tr>\n      <th>2</th>\n      <td>FTO</td>\n      <td>rs9972653</td>\n      <td>32393786</td>\n      <td>Diet</td>\n      <td>General Nutrition</td>\n      <td>1.00000</td>\n    </tr>\n    <tr>\n      <th>3</th>\n      <td>FTO</td>\n      <td>rs9972653</td>\n      <td>33128006</td>\n      <td>Body Mass Index</td>\n      <td>General Nutrition</td>\n      <td>1.00000</td>\n    </tr>\n    <tr>\n      <th>4</th>\n      <td>FTO</td>\n      <td>rs9972653</td>\n      <td>33128006</td>\n      <td>Cardiovascular Diseases</td>\n      <td>General Nutrition</td>\n      <td>1.00000</td>\n    </tr>\n    <tr>\n      <th>...</th>\n      <td>...</td>\n      <td>...</td>\n      <td>...</td>\n      <td>...</td>\n      <td>...</td>\n      <td>...</td>\n    </tr>\n    <tr>\n      <th>1171244</th>\n      <td>FADS1</td>\n      <td>rs174545</td>\n      <td>23221573</td>\n      <td>Lipid Metabolism</td>\n      <td>Xenobiotics Metabolism</td>\n      <td>0.01255</td>\n    </tr>\n    <tr>\n      <th>1171245</th>\n      <td>FADS1</td>\n      <td>rs174545</td>\n      <td>30120404</td>\n      <td>Liver</td>\n      <td>Xenobiotics Metabolism</td>\n      <td>0.01255</td>\n    </tr>\n    <tr>\n      <th>1171246</th>\n      <td>FADS1</td>\n      <td>rs174545</td>\n      <td>30120404</td>\n      <td>Non-alcoholic Fatty Liver Disease</td>\n      <td>Xenobiotics Metabolism</td>\n      <td>0.01255</td>\n    </tr>\n    <tr>\n      <th>1171247</th>\n      <td>FADS1</td>\n      <td>rs174544</td>\n      <td>20565855</td>\n      <td>Lipid Metabolism</td>\n      <td>Xenobiotics Metabolism</td>\n      <td>0.01255</td>\n    </tr>\n    <tr>\n      <th>1171248</th>\n      <td>FADS1</td>\n      <td>rs1185231229</td>\n      <td>23306188</td>\n      <td>Lipid Metabolism</td>\n      <td>Xenobiotics Metabolism</td>\n      <td>0.01255</td>\n    </tr>\n  </tbody>\n</table>\n<p>1171249 rows × 6 columns</p>\n</div>"
     },
     "metadata": {},
     "output_type": "display_data"
    }
   ],
   "source": [
    "### LOAD Datasets ###\n",
    "pcg_grpm, rna_grpm, pseudo_grpm = grpm_importer()\n",
    "grpm_nutrigen, grpm_nutrigen_int, grpm_nutrigen_int_gwas = nutrig_importer()\n",
    "\n",
    "display(grpm_nutrigen_int)"
   ],
   "metadata": {
    "collapsed": false,
    "ExecuteTime": {
     "end_time": "2024-11-14T16:07:48.974437500Z",
     "start_time": "2024-11-14T16:07:25.966425800Z"
    }
   },
   "id": "83f43553f9bd7c3b",
   "execution_count": 17
  },
  {
   "cell_type": "markdown",
   "source": [
    "# SHOW Stats"
   ],
   "metadata": {
    "collapsed": false
   },
   "id": "c1308e809f14ab8c"
  },
  {
   "cell_type": "code",
   "outputs": [],
   "source": [
    "pcg_grpm_stats = get_stats(pcg_grpm, group_by = 'gene')\n",
    "display(pcg_grpm_stats)"
   ],
   "metadata": {
    "collapsed": false
   },
   "id": "7c3ba98a0f4586ad"
  },
  {
   "cell_type": "code",
   "outputs": [],
   "source": [
    "grpm_nutrigen_stats = get_stats(grpm_nutrigen, group_by = 'gene')\n",
    "display(grpm_nutrigen_stats)"
   ],
   "metadata": {
    "collapsed": false
   },
   "id": "53b8d4bd3b022b39"
  },
  {
   "cell_type": "markdown",
   "source": [
    "# QUERY GRPM Dataset "
   ],
   "metadata": {
    "collapsed": false
   },
   "id": "6f89129f4d7121c8"
  },
  {
   "cell_type": "markdown",
   "source": [
    "## MeSH Query Example"
   ],
   "metadata": {
    "collapsed": false
   },
   "id": "9cfaf0ddcbcaffd0"
  },
  {
   "cell_type": "code",
   "outputs": [
    {
     "name": "stdout",
     "output_type": "stream",
     "text": [
      "Downloading ref-mesh.zip from https://zenodo.org/record/14052302/files/ref-mesh.zip?download=1\n"
     ]
    },
    {
     "name": "stderr",
     "output_type": "stream",
     "text": [
      "Downloading...\n",
      "From: https://zenodo.org/record/14052302/files/ref-mesh.zip?download=1\n",
      "To: G:\\Altri computer\\Horizon\\horizon_workspace\\projects\\work\\semantics\\GRPM\\GRPM_github\\ref-mesh.zip\n",
      "100%|██████████| 4.02M/4.02M [00:01<00:00, 3.36MB/s]\n"
     ]
    },
    {
     "name": "stdout",
     "output_type": "stream",
     "text": [
      "Extracting...\n",
      "ZIP file 'ref-mesh.zip' extracted in 'G:\\Altri computer\\Horizon\\horizon_workspace\\projects\\work\\semantics\\GRPM\\GRPM_github' successfully.\n",
      "GRPM MeSH count: 21705\n",
      "semantic types: 125\n"
     ]
    },
    {
     "data": {
      "text/plain": "             Preferred Label  Semantic Types Label  \\\n1  Electronic Health Records  Intellectual Product   \n2              Consent Forms  Intellectual Product   \n3     Genealogy and Heraldry  Intellectual Product   \n4               Publications  Intellectual Product   \n5    Pharmaceutical Services  Intellectual Product   \n\n                                            Class ID  mesh_id Semantic Types  \n1  http://purl.bioontology.org/ontology/MESH/D057286  D057286           T170  \n2  http://purl.bioontology.org/ontology/MESH/D032962  D032962           T170  \n3  http://purl.bioontology.org/ontology/MESH/D005789  D005789           T170  \n4  http://purl.bioontology.org/ontology/MESH/D011642  D011642           T170  \n5  http://purl.bioontology.org/ontology/MESH/D010593  D010593           T170  ",
      "text/html": "<div>\n<style scoped>\n    .dataframe tbody tr th:only-of-type {\n        vertical-align: middle;\n    }\n\n    .dataframe tbody tr th {\n        vertical-align: top;\n    }\n\n    .dataframe thead th {\n        text-align: right;\n    }\n</style>\n<table border=\"1\" class=\"dataframe\">\n  <thead>\n    <tr style=\"text-align: right;\">\n      <th></th>\n      <th>Preferred Label</th>\n      <th>Semantic Types Label</th>\n      <th>Class ID</th>\n      <th>mesh_id</th>\n      <th>Semantic Types</th>\n    </tr>\n  </thead>\n  <tbody>\n    <tr>\n      <th>1</th>\n      <td>Electronic Health Records</td>\n      <td>Intellectual Product</td>\n      <td>http://purl.bioontology.org/ontology/MESH/D057286</td>\n      <td>D057286</td>\n      <td>T170</td>\n    </tr>\n    <tr>\n      <th>2</th>\n      <td>Consent Forms</td>\n      <td>Intellectual Product</td>\n      <td>http://purl.bioontology.org/ontology/MESH/D032962</td>\n      <td>D032962</td>\n      <td>T170</td>\n    </tr>\n    <tr>\n      <th>3</th>\n      <td>Genealogy and Heraldry</td>\n      <td>Intellectual Product</td>\n      <td>http://purl.bioontology.org/ontology/MESH/D005789</td>\n      <td>D005789</td>\n      <td>T170</td>\n    </tr>\n    <tr>\n      <th>4</th>\n      <td>Publications</td>\n      <td>Intellectual Product</td>\n      <td>http://purl.bioontology.org/ontology/MESH/D011642</td>\n      <td>D011642</td>\n      <td>T170</td>\n    </tr>\n    <tr>\n      <th>5</th>\n      <td>Pharmaceutical Services</td>\n      <td>Intellectual Product</td>\n      <td>http://purl.bioontology.org/ontology/MESH/D010593</td>\n      <td>D010593</td>\n      <td>T170</td>\n    </tr>\n  </tbody>\n</table>\n</div>"
     },
     "execution_count": 27,
     "metadata": {},
     "output_type": "execute_result"
    }
   ],
   "source": [
    "## GET MeSH Dataset ##\n",
    "get_and_extract('ref-mesh', record_id='14052302')\n",
    "get_topic_terms()\n",
    "\n",
    "# LOAD MeSH\n",
    "grpm_mesh = mesh_importer()\n",
    "grpm_mesh.head()"
   ],
   "metadata": {
    "collapsed": false,
    "ExecuteTime": {
     "end_time": "2024-11-14T16:15:33.440713800Z",
     "start_time": "2024-11-14T16:15:23.898702700Z"
    }
   },
   "id": "8fc5532611717398",
   "execution_count": 27
  },
  {
   "cell_type": "code",
   "outputs": [
    {
     "data": {
      "text/plain": "            gene type         rsid      pmid  \\\n2120      MT-ND1  PCG  rs199476118   9718301   \n5081      MT-ND1  PCG  rs199476125  15505787   \n10336     MT-ND2  PCG  rs199476118   9718301   \n13235     MT-ND2  PCG  rs199476125  15505787   \n80151     MT-ND6  PCG  rs207460002  30550726   \n...          ...  ...          ...       ...   \n16483181     VDR  PCG  rs745379948  26855179   \n16483182     VDR  PCG  rs745379948  26855179   \n16484612    RPA2  PCG  rs748375829  15314062   \n16552950    MIA3  PCG   rs17465637  29673405   \n16552951    MIA3  PCG   rs17465637  29673405   \n\n                                           mesh   qualifier  major  \n2120                                     Lysine    genetics  False  \n5081                                     Lysine    genetics  False  \n10336                                    Lysine    genetics  False  \n13235                                    Lysine    genetics  False  \n80151                                    Lysine  metabolism   True  \n...                                         ...         ...    ...  \n16483181                                 Lysine   chemistry  False  \n16483182                                 Lysine  metabolism   True  \n16484612                                 Lysine   chemistry  False  \n16552950  Cyclin-Dependent Kinase Inhibitor p18       blood  False  \n16552951  Cyclin-Dependent Kinase Inhibitor p18    genetics   True  \n\n[3209 rows x 7 columns]",
      "text/html": "<div>\n<style scoped>\n    .dataframe tbody tr th:only-of-type {\n        vertical-align: middle;\n    }\n\n    .dataframe tbody tr th {\n        vertical-align: top;\n    }\n\n    .dataframe thead th {\n        text-align: right;\n    }\n</style>\n<table border=\"1\" class=\"dataframe\">\n  <thead>\n    <tr style=\"text-align: right;\">\n      <th></th>\n      <th>gene</th>\n      <th>type</th>\n      <th>rsid</th>\n      <th>pmid</th>\n      <th>mesh</th>\n      <th>qualifier</th>\n      <th>major</th>\n    </tr>\n  </thead>\n  <tbody>\n    <tr>\n      <th>2120</th>\n      <td>MT-ND1</td>\n      <td>PCG</td>\n      <td>rs199476118</td>\n      <td>9718301</td>\n      <td>Lysine</td>\n      <td>genetics</td>\n      <td>False</td>\n    </tr>\n    <tr>\n      <th>5081</th>\n      <td>MT-ND1</td>\n      <td>PCG</td>\n      <td>rs199476125</td>\n      <td>15505787</td>\n      <td>Lysine</td>\n      <td>genetics</td>\n      <td>False</td>\n    </tr>\n    <tr>\n      <th>10336</th>\n      <td>MT-ND2</td>\n      <td>PCG</td>\n      <td>rs199476118</td>\n      <td>9718301</td>\n      <td>Lysine</td>\n      <td>genetics</td>\n      <td>False</td>\n    </tr>\n    <tr>\n      <th>13235</th>\n      <td>MT-ND2</td>\n      <td>PCG</td>\n      <td>rs199476125</td>\n      <td>15505787</td>\n      <td>Lysine</td>\n      <td>genetics</td>\n      <td>False</td>\n    </tr>\n    <tr>\n      <th>80151</th>\n      <td>MT-ND6</td>\n      <td>PCG</td>\n      <td>rs207460002</td>\n      <td>30550726</td>\n      <td>Lysine</td>\n      <td>metabolism</td>\n      <td>True</td>\n    </tr>\n    <tr>\n      <th>...</th>\n      <td>...</td>\n      <td>...</td>\n      <td>...</td>\n      <td>...</td>\n      <td>...</td>\n      <td>...</td>\n      <td>...</td>\n    </tr>\n    <tr>\n      <th>16483181</th>\n      <td>VDR</td>\n      <td>PCG</td>\n      <td>rs745379948</td>\n      <td>26855179</td>\n      <td>Lysine</td>\n      <td>chemistry</td>\n      <td>False</td>\n    </tr>\n    <tr>\n      <th>16483182</th>\n      <td>VDR</td>\n      <td>PCG</td>\n      <td>rs745379948</td>\n      <td>26855179</td>\n      <td>Lysine</td>\n      <td>metabolism</td>\n      <td>True</td>\n    </tr>\n    <tr>\n      <th>16484612</th>\n      <td>RPA2</td>\n      <td>PCG</td>\n      <td>rs748375829</td>\n      <td>15314062</td>\n      <td>Lysine</td>\n      <td>chemistry</td>\n      <td>False</td>\n    </tr>\n    <tr>\n      <th>16552950</th>\n      <td>MIA3</td>\n      <td>PCG</td>\n      <td>rs17465637</td>\n      <td>29673405</td>\n      <td>Cyclin-Dependent Kinase Inhibitor p18</td>\n      <td>blood</td>\n      <td>False</td>\n    </tr>\n    <tr>\n      <th>16552951</th>\n      <td>MIA3</td>\n      <td>PCG</td>\n      <td>rs17465637</td>\n      <td>29673405</td>\n      <td>Cyclin-Dependent Kinase Inhibitor p18</td>\n      <td>genetics</td>\n      <td>True</td>\n    </tr>\n  </tbody>\n</table>\n<p>3209 rows × 7 columns</p>\n</div>"
     },
     "metadata": {},
     "output_type": "display_data"
    }
   ],
   "source": [
    "# Random Query Example\n",
    "mesh_query =  grpm_mesh['Preferred Label'].sample(10).to_list()\n",
    "\n",
    "# Filter and get unique results\n",
    "result = query_dataset(pcg_grpm, mesh_query, 'mesh')\n",
    "display(result)"
   ],
   "metadata": {
    "collapsed": false,
    "ExecuteTime": {
     "end_time": "2024-11-14T16:20:51.986407900Z",
     "start_time": "2024-11-14T16:20:51.935409400Z"
    }
   },
   "id": "31dce3eb083906e",
   "execution_count": 40
  },
  {
   "cell_type": "markdown",
   "source": [
    "## Build MeSH Query"
   ],
   "metadata": {
    "collapsed": false
   },
   "id": "94e480d1caae2077"
  },
  {
   "cell_type": "code",
   "outputs": [
    {
     "name": "stdout",
     "output_type": "stream",
     "text": [
      "GRPM MeSH count: 21705\n",
      "semantic types: 125\n"
     ]
    },
    {
     "name": "stderr",
     "output_type": "stream",
     "text": [
      "No sentence-transformers model found with name dmis-lab/biobert-v1.1. Creating a new one with mean pooling.\n"
     ]
    }
   ],
   "source": [
    "# LOAD Language Model\n",
    "sentence_transformer = load_language_model('dmis-lab/biobert-v1.1')\n",
    "\n",
    "# Get MeSH embeddings\n",
    "series2 = grpm_mesh['Preferred Label'].reset_index(drop=True)\n",
    "mesh_embeddings = extract_embedding(series2.to_list(), sentence_transformer)"
   ],
   "metadata": {
    "collapsed": false,
    "ExecuteTime": {
     "end_time": "2024-11-14T15:21:05.179849900Z",
     "start_time": "2024-11-14T15:21:01.969949Z"
    }
   },
   "id": "612566cf022b95d6",
   "execution_count": 3
  },
  {
   "cell_type": "code",
   "outputs": [],
   "source": [
    "# User defined Topic Terms\n",
    "topic_terms_sample = [\"diet ketogenic\",\n",
    "                      \"diet reducing\",\n",
    "                      \"diet sodium-restricted\",\n",
    "                      \"diet\",\n",
    "                      \"dietary\",\n",
    "                      \"dietetics\",\n",
    "                      \"dyslipidemias\",\n",
    "                      \"eating disorders\",\n",
    "                      \"feeding and eating disorde\",\n",
    "                      \"food hypersensitivity\",\n",
    "                      \"foodborne diseases\",\n",
    "                      \"gastrointestinal diseases\",\n",
    "                      \"hypercholesterolemia\",\n",
    "                      \"hyperglycemia\",\n",
    "                      \"hyperlipidemias\",\n",
    "                      \"hyperphagia\",\n",
    "                      \"hypoglycemia\",\n",
    "                      \"hypophagia\",\n",
    "                      \"insulin resistance\",\n",
    "                      ]\n",
    "series1 = pd.Series(topic_terms_sample)"
   ],
   "metadata": {
    "collapsed": false,
    "ExecuteTime": {
     "end_time": "2024-11-14T16:11:57.255614400Z",
     "start_time": "2024-11-14T16:11:57.234615900Z"
    }
   },
   "id": "751f64883192ca2f",
   "execution_count": 24
  },
  {
   "cell_type": "code",
   "outputs": [
    {
     "data": {
      "text/plain": "Batches:   0%|          | 0/1 [00:00<?, ?it/s]",
      "application/vnd.jupyter.widget-view+json": {
       "version_major": 2,
       "version_minor": 0,
       "model_id": "b224f1cf0ed04e4bb7962cfa621cf597"
      }
     },
     "metadata": {},
     "output_type": "display_data"
    },
    {
     "name": "stderr",
     "output_type": "stream",
     "text": [
      "100%|██████████| 19/19 [00:07<00:00,  2.54it/s]\n"
     ]
    }
   ],
   "source": [
    "# Extract MeSH Query\n",
    "tab = create_corr_table(series1, series2, sentence_transformer, mesh_embeddings)"
   ],
   "metadata": {
    "collapsed": false,
    "ExecuteTime": {
     "end_time": "2024-11-14T16:12:05.202061400Z",
     "start_time": "2024-11-14T16:11:57.436618Z"
    }
   },
   "id": "5b210a90671cb352",
   "execution_count": 25
  },
  {
   "cell_type": "code",
   "outputs": [
    {
     "name": "stdout",
     "output_type": "stream",
     "text": [
      "\n",
      "\n",
      "MeSH Query: ['Diet', 'Diet', 'Dyslipidemias', 'Hypersensitivity', 'Gastrointestinal Diseases', 'Hypercholesterolemia', 'Hyperglycemia', 'Hyperlipidemias', 'Hyperphagia', 'Hypoglycemia']\n"
     ]
    }
   ],
   "source": [
    "mesh_query = tab[tab.similarity >= 0.90].list2.to_list()\n",
    "print('\\n\\nMeSH Query:', mesh_query)"
   ],
   "metadata": {
    "collapsed": false,
    "ExecuteTime": {
     "end_time": "2024-11-14T16:12:05.221068Z",
     "start_time": "2024-11-14T16:12:05.204073900Z"
    }
   },
   "id": "737475148c4517e1",
   "execution_count": 26
  },
  {
   "cell_type": "markdown",
   "source": [
    "## Execute MeSH Query"
   ],
   "metadata": {
    "collapsed": false
   },
   "id": "5ac558dffc7156ad"
  },
  {
   "cell_type": "code",
   "outputs": [
    {
     "data": {
      "text/plain": "            gene type         rsid      pmid             mesh  \\\n5434      MT-ND1  PCG  rs200319905  25579139  Hyperlipidemias   \n5435      MT-ND1  PCG  rs200319905  25579139  Hyperlipidemias   \n5436      MT-ND1  PCG  rs200319905  25579139  Hyperlipidemias   \n13642     MT-ND2  PCG  rs200319905  25579139  Hyperlipidemias   \n13643     MT-ND2  PCG  rs200319905  25579139  Hyperlipidemias   \n...          ...  ...          ...       ...              ...   \n16606654   CXCL8  PCG  rs572157399  20508232     Hypoglycemia   \n16606655   CXCL8  PCG  rs572157399  20508232     Hypoglycemia   \n16606656   CXCL8  PCG  rs572157399  20508232     Hypoglycemia   \n16607143   CXCL8  PCG  rs572157399  21357364    Hyperglycemia   \n16607144   CXCL8  PCG  rs572157399  21357364    Hyperglycemia   \n\n                qualifier  major  \n5434             genetics  False  \n5435           metabolism  False  \n5436            pathology  False  \n13642            genetics  False  \n13643          metabolism  False  \n...                   ...    ...  \n16606654    complications  False  \n16606655        diagnosis  False  \n16606656     epidemiology   True  \n16607143       metabolism  False  \n16607144  physiopathology  False  \n\n[23166 rows x 7 columns]",
      "text/html": "<div>\n<style scoped>\n    .dataframe tbody tr th:only-of-type {\n        vertical-align: middle;\n    }\n\n    .dataframe tbody tr th {\n        vertical-align: top;\n    }\n\n    .dataframe thead th {\n        text-align: right;\n    }\n</style>\n<table border=\"1\" class=\"dataframe\">\n  <thead>\n    <tr style=\"text-align: right;\">\n      <th></th>\n      <th>gene</th>\n      <th>type</th>\n      <th>rsid</th>\n      <th>pmid</th>\n      <th>mesh</th>\n      <th>qualifier</th>\n      <th>major</th>\n    </tr>\n  </thead>\n  <tbody>\n    <tr>\n      <th>5434</th>\n      <td>MT-ND1</td>\n      <td>PCG</td>\n      <td>rs200319905</td>\n      <td>25579139</td>\n      <td>Hyperlipidemias</td>\n      <td>genetics</td>\n      <td>False</td>\n    </tr>\n    <tr>\n      <th>5435</th>\n      <td>MT-ND1</td>\n      <td>PCG</td>\n      <td>rs200319905</td>\n      <td>25579139</td>\n      <td>Hyperlipidemias</td>\n      <td>metabolism</td>\n      <td>False</td>\n    </tr>\n    <tr>\n      <th>5436</th>\n      <td>MT-ND1</td>\n      <td>PCG</td>\n      <td>rs200319905</td>\n      <td>25579139</td>\n      <td>Hyperlipidemias</td>\n      <td>pathology</td>\n      <td>False</td>\n    </tr>\n    <tr>\n      <th>13642</th>\n      <td>MT-ND2</td>\n      <td>PCG</td>\n      <td>rs200319905</td>\n      <td>25579139</td>\n      <td>Hyperlipidemias</td>\n      <td>genetics</td>\n      <td>False</td>\n    </tr>\n    <tr>\n      <th>13643</th>\n      <td>MT-ND2</td>\n      <td>PCG</td>\n      <td>rs200319905</td>\n      <td>25579139</td>\n      <td>Hyperlipidemias</td>\n      <td>metabolism</td>\n      <td>False</td>\n    </tr>\n    <tr>\n      <th>...</th>\n      <td>...</td>\n      <td>...</td>\n      <td>...</td>\n      <td>...</td>\n      <td>...</td>\n      <td>...</td>\n      <td>...</td>\n    </tr>\n    <tr>\n      <th>16606654</th>\n      <td>CXCL8</td>\n      <td>PCG</td>\n      <td>rs572157399</td>\n      <td>20508232</td>\n      <td>Hypoglycemia</td>\n      <td>complications</td>\n      <td>False</td>\n    </tr>\n    <tr>\n      <th>16606655</th>\n      <td>CXCL8</td>\n      <td>PCG</td>\n      <td>rs572157399</td>\n      <td>20508232</td>\n      <td>Hypoglycemia</td>\n      <td>diagnosis</td>\n      <td>False</td>\n    </tr>\n    <tr>\n      <th>16606656</th>\n      <td>CXCL8</td>\n      <td>PCG</td>\n      <td>rs572157399</td>\n      <td>20508232</td>\n      <td>Hypoglycemia</td>\n      <td>epidemiology</td>\n      <td>True</td>\n    </tr>\n    <tr>\n      <th>16607143</th>\n      <td>CXCL8</td>\n      <td>PCG</td>\n      <td>rs572157399</td>\n      <td>21357364</td>\n      <td>Hyperglycemia</td>\n      <td>metabolism</td>\n      <td>False</td>\n    </tr>\n    <tr>\n      <th>16607144</th>\n      <td>CXCL8</td>\n      <td>PCG</td>\n      <td>rs572157399</td>\n      <td>21357364</td>\n      <td>Hyperglycemia</td>\n      <td>physiopathology</td>\n      <td>False</td>\n    </tr>\n  </tbody>\n</table>\n<p>23166 rows × 7 columns</p>\n</div>"
     },
     "metadata": {},
     "output_type": "display_data"
    }
   ],
   "source": [
    "# Filter and get unique results\n",
    "result = query_dataset(pcg_grpm, mesh_query, 'mesh')\n",
    "display(result)"
   ],
   "metadata": {
    "collapsed": false,
    "ExecuteTime": {
     "end_time": "2024-11-14T15:25:40.690869800Z",
     "start_time": "2024-11-14T15:25:38.435869700Z"
    }
   },
   "id": "96db33e16dc2dc20",
   "execution_count": 12
  },
  {
   "cell_type": "markdown",
   "source": [
    "# QUERY Nutrigenetic Dataset"
   ],
   "metadata": {
    "collapsed": false
   },
   "id": "249fdde0095caff5"
  },
  {
   "cell_type": "code",
   "outputs": [
    {
     "name": "stdout",
     "output_type": "stream",
     "text": [
      "Displaying \"General Nutrition\" topic\n"
     ]
    },
    {
     "data": {
      "text/plain": "        gene       rsid      pmid                       mesh  \\\n0        FTO  rs9972653  32393786            Body Mass Index   \n1        FTO  rs9972653  32393786  Diabetes Mellitus, Type 2   \n2        FTO  rs9972653  32393786                       Diet   \n3        FTO  rs9972653  33128006            Body Mass Index   \n4        FTO  rs9972653  33128006    Cardiovascular Diseases   \n...      ...        ...       ...                        ...   \n268296  DRD2  rs1076560  31948125                    Anxiety   \n268297  DRD2  rs1076560  22829935         Physical Endurance   \n268298  DRD2  rs1076560  30729689  Diabetes Mellitus, Type 2   \n268299  DRD2  rs1076560  30729689         Metabolic Syndrome   \n268300  DRD2  rs1076560  26308580                    Calcium   \n\n                    topic  interest_index  \n0       General Nutrition         1.00000  \n1       General Nutrition         1.00000  \n2       General Nutrition         1.00000  \n3       General Nutrition         1.00000  \n4       General Nutrition         1.00000  \n...                   ...             ...  \n268296  General Nutrition         0.01251  \n268297  General Nutrition         0.01251  \n268298  General Nutrition         0.01251  \n268299  General Nutrition         0.01251  \n268300  General Nutrition         0.01251  \n\n[268301 rows x 6 columns]",
      "text/html": "<div>\n<style scoped>\n    .dataframe tbody tr th:only-of-type {\n        vertical-align: middle;\n    }\n\n    .dataframe tbody tr th {\n        vertical-align: top;\n    }\n\n    .dataframe thead th {\n        text-align: right;\n    }\n</style>\n<table border=\"1\" class=\"dataframe\">\n  <thead>\n    <tr style=\"text-align: right;\">\n      <th></th>\n      <th>gene</th>\n      <th>rsid</th>\n      <th>pmid</th>\n      <th>mesh</th>\n      <th>topic</th>\n      <th>interest_index</th>\n    </tr>\n  </thead>\n  <tbody>\n    <tr>\n      <th>0</th>\n      <td>FTO</td>\n      <td>rs9972653</td>\n      <td>32393786</td>\n      <td>Body Mass Index</td>\n      <td>General Nutrition</td>\n      <td>1.00000</td>\n    </tr>\n    <tr>\n      <th>1</th>\n      <td>FTO</td>\n      <td>rs9972653</td>\n      <td>32393786</td>\n      <td>Diabetes Mellitus, Type 2</td>\n      <td>General Nutrition</td>\n      <td>1.00000</td>\n    </tr>\n    <tr>\n      <th>2</th>\n      <td>FTO</td>\n      <td>rs9972653</td>\n      <td>32393786</td>\n      <td>Diet</td>\n      <td>General Nutrition</td>\n      <td>1.00000</td>\n    </tr>\n    <tr>\n      <th>3</th>\n      <td>FTO</td>\n      <td>rs9972653</td>\n      <td>33128006</td>\n      <td>Body Mass Index</td>\n      <td>General Nutrition</td>\n      <td>1.00000</td>\n    </tr>\n    <tr>\n      <th>4</th>\n      <td>FTO</td>\n      <td>rs9972653</td>\n      <td>33128006</td>\n      <td>Cardiovascular Diseases</td>\n      <td>General Nutrition</td>\n      <td>1.00000</td>\n    </tr>\n    <tr>\n      <th>...</th>\n      <td>...</td>\n      <td>...</td>\n      <td>...</td>\n      <td>...</td>\n      <td>...</td>\n      <td>...</td>\n    </tr>\n    <tr>\n      <th>268296</th>\n      <td>DRD2</td>\n      <td>rs1076560</td>\n      <td>31948125</td>\n      <td>Anxiety</td>\n      <td>General Nutrition</td>\n      <td>0.01251</td>\n    </tr>\n    <tr>\n      <th>268297</th>\n      <td>DRD2</td>\n      <td>rs1076560</td>\n      <td>22829935</td>\n      <td>Physical Endurance</td>\n      <td>General Nutrition</td>\n      <td>0.01251</td>\n    </tr>\n    <tr>\n      <th>268298</th>\n      <td>DRD2</td>\n      <td>rs1076560</td>\n      <td>30729689</td>\n      <td>Diabetes Mellitus, Type 2</td>\n      <td>General Nutrition</td>\n      <td>0.01251</td>\n    </tr>\n    <tr>\n      <th>268299</th>\n      <td>DRD2</td>\n      <td>rs1076560</td>\n      <td>30729689</td>\n      <td>Metabolic Syndrome</td>\n      <td>General Nutrition</td>\n      <td>0.01251</td>\n    </tr>\n    <tr>\n      <th>268300</th>\n      <td>DRD2</td>\n      <td>rs1076560</td>\n      <td>26308580</td>\n      <td>Calcium</td>\n      <td>General Nutrition</td>\n      <td>0.01251</td>\n    </tr>\n  </tbody>\n</table>\n<p>268301 rows × 6 columns</p>\n</div>"
     },
     "metadata": {},
     "output_type": "display_data"
    }
   ],
   "source": [
    "# Gene Query on Nutrigenetic ds\n",
    "topic =  grpm_nutrigen_int.topic[0]\n",
    "\n",
    "print(f'Displaying \"{topic}\" topic')\n",
    "# Filter and get unique results\n",
    "result = query_dataset(grpm_nutrigen_int, [topic], 'topic')\n",
    "display(result)"
   ],
   "metadata": {
    "collapsed": false,
    "ExecuteTime": {
     "end_time": "2024-11-14T16:23:20.581988100Z",
     "start_time": "2024-11-14T16:23:20.362986800Z"
    }
   },
   "id": "58c5ba0db939f44",
   "execution_count": 42
  },
  {
   "cell_type": "markdown",
   "source": [
    "## Gene Query Example"
   ],
   "metadata": {
    "collapsed": false
   },
   "id": "122c6c47ce1d843b"
  },
  {
   "cell_type": "code",
   "outputs": [
    {
     "data": {
      "text/plain": "         gene       rsid      pmid                       mesh  \\\n0         FTO  rs9972653  32393786            Body Mass Index   \n1         FTO  rs9972653  32393786  Diabetes Mellitus, Type 2   \n2         FTO  rs9972653  32393786                       Diet   \n3         FTO  rs9972653  33128006            Body Mass Index   \n4         FTO  rs9972653  33128006    Cardiovascular Diseases   \n...       ...        ...       ...                        ...   \n1037444  G6PD  rs1050828  22957039        Anemia, Sickle Cell   \n1037445  G6PD  rs1050828  32697331        Anemia, Sickle Cell   \n1037446  G6PD  rs1050828  31278068                     Anemia   \n1037447  G6PD  rs1050828  29318647        Anemia, Sickle Cell   \n1037448  G6PD  rs1050827  21931771                     Anemia   \n\n                     topic  interest_index  \n0        General Nutrition           1.000  \n1        General Nutrition           1.000  \n2        General Nutrition           1.000  \n3        General Nutrition           1.000  \n4        General Nutrition           1.000  \n...                    ...             ...  \n1037444  Food Intolerances           0.086  \n1037445  Food Intolerances           0.086  \n1037446  Food Intolerances           0.086  \n1037447  Food Intolerances           0.086  \n1037448  Food Intolerances           0.086  \n\n[34451 rows x 6 columns]",
      "text/html": "<div>\n<style scoped>\n    .dataframe tbody tr th:only-of-type {\n        vertical-align: middle;\n    }\n\n    .dataframe tbody tr th {\n        vertical-align: top;\n    }\n\n    .dataframe thead th {\n        text-align: right;\n    }\n</style>\n<table border=\"1\" class=\"dataframe\">\n  <thead>\n    <tr style=\"text-align: right;\">\n      <th></th>\n      <th>gene</th>\n      <th>rsid</th>\n      <th>pmid</th>\n      <th>mesh</th>\n      <th>topic</th>\n      <th>interest_index</th>\n    </tr>\n  </thead>\n  <tbody>\n    <tr>\n      <th>0</th>\n      <td>FTO</td>\n      <td>rs9972653</td>\n      <td>32393786</td>\n      <td>Body Mass Index</td>\n      <td>General Nutrition</td>\n      <td>1.000</td>\n    </tr>\n    <tr>\n      <th>1</th>\n      <td>FTO</td>\n      <td>rs9972653</td>\n      <td>32393786</td>\n      <td>Diabetes Mellitus, Type 2</td>\n      <td>General Nutrition</td>\n      <td>1.000</td>\n    </tr>\n    <tr>\n      <th>2</th>\n      <td>FTO</td>\n      <td>rs9972653</td>\n      <td>32393786</td>\n      <td>Diet</td>\n      <td>General Nutrition</td>\n      <td>1.000</td>\n    </tr>\n    <tr>\n      <th>3</th>\n      <td>FTO</td>\n      <td>rs9972653</td>\n      <td>33128006</td>\n      <td>Body Mass Index</td>\n      <td>General Nutrition</td>\n      <td>1.000</td>\n    </tr>\n    <tr>\n      <th>4</th>\n      <td>FTO</td>\n      <td>rs9972653</td>\n      <td>33128006</td>\n      <td>Cardiovascular Diseases</td>\n      <td>General Nutrition</td>\n      <td>1.000</td>\n    </tr>\n    <tr>\n      <th>...</th>\n      <td>...</td>\n      <td>...</td>\n      <td>...</td>\n      <td>...</td>\n      <td>...</td>\n      <td>...</td>\n    </tr>\n    <tr>\n      <th>1037444</th>\n      <td>G6PD</td>\n      <td>rs1050828</td>\n      <td>22957039</td>\n      <td>Anemia, Sickle Cell</td>\n      <td>Food Intolerances</td>\n      <td>0.086</td>\n    </tr>\n    <tr>\n      <th>1037445</th>\n      <td>G6PD</td>\n      <td>rs1050828</td>\n      <td>32697331</td>\n      <td>Anemia, Sickle Cell</td>\n      <td>Food Intolerances</td>\n      <td>0.086</td>\n    </tr>\n    <tr>\n      <th>1037446</th>\n      <td>G6PD</td>\n      <td>rs1050828</td>\n      <td>31278068</td>\n      <td>Anemia</td>\n      <td>Food Intolerances</td>\n      <td>0.086</td>\n    </tr>\n    <tr>\n      <th>1037447</th>\n      <td>G6PD</td>\n      <td>rs1050828</td>\n      <td>29318647</td>\n      <td>Anemia, Sickle Cell</td>\n      <td>Food Intolerances</td>\n      <td>0.086</td>\n    </tr>\n    <tr>\n      <th>1037448</th>\n      <td>G6PD</td>\n      <td>rs1050827</td>\n      <td>21931771</td>\n      <td>Anemia</td>\n      <td>Food Intolerances</td>\n      <td>0.086</td>\n    </tr>\n  </tbody>\n</table>\n<p>34451 rows × 6 columns</p>\n</div>"
     },
     "metadata": {},
     "output_type": "display_data"
    }
   ],
   "source": [
    "# Gene Query on Nutrigenetic ds\n",
    "my_genes = (\n",
    "    'FTO',\n",
    "    'APOB',\n",
    "    'G6PD'\n",
    ")\n",
    "# Filter and get unique results\n",
    "result = query_dataset(grpm_nutrigen_int, my_genes, 'gene')\n",
    "display(result)"
   ],
   "metadata": {
    "collapsed": false
   },
   "id": "847848c87e42f770",
   "execution_count": 13
  },
  {
   "cell_type": "code",
   "outputs": [
    {
     "data": {
      "text/plain": "       GRPM_GENE   GRPM_RSID GRPM_PMID         GRPM_MESH  \\\n0            FTO   rs9941349  22084931           Obesity   \n1            FTO   rs9941349  20442772           Obesity   \n2            FTO   rs9941349  24879436           Obesity   \n3            FTO   rs9941349  21552555           Obesity   \n4            FTO   rs9941349  25014319           Obesity   \n...          ...         ...       ...               ...   \n166581       FTO   rs1421085  29540276              Diet   \n166582       FTO   rs1421085  31358974  Alcohol Drinking   \n166583       FTO   rs1421085  31358974  Alcohol Drinking   \n166584       FTO   rs1421085  31358974  Alcohol Drinking   \n166585       FTO  rs11075992  30940813  Alcohol Drinking   \n\n                                 GRPM_TOPIC  GRPM_GI  SEMANTIC_SIMILARITY  \\\n0                         General Nutrition  1.00000             0.909086   \n1                         General Nutrition  1.00000             0.909086   \n2                         General Nutrition  1.00000             0.909086   \n3                         General Nutrition  1.00000             0.909086   \n4                         General Nutrition  1.00000             0.909086   \n...                                     ...      ...                  ...   \n166581  Eating Behavior and Taste Sensation  0.41459             0.948529   \n166582  Eating Behavior and Taste Sensation  0.41459             0.913568   \n166583  Eating Behavior and Taste Sensation  0.41459             0.903289   \n166584  Eating Behavior and Taste Sensation  0.41459             0.903289   \n166585  Eating Behavior and Taste Sensation  0.41459             0.903289   \n\n          GWAS_DISEASE/TRAIT  \\\n0          Obesity (extreme)   \n1          Obesity (extreme)   \n2          Obesity (extreme)   \n3          Obesity (extreme)   \n4          Obesity (extreme)   \n...                      ...   \n166581                Weight   \n166582   Alcohol consumption   \n166583  Alcohol use disorder   \n166584  Alcohol use disorder   \n166585  Alcohol use disorder   \n\n                                        GWAS_MAPPED_TRAIT GWAS_MAPPED_GENE  \\\n0                                                 obesity              FTO   \n1                                                 obesity              FTO   \n2                                                 obesity              FTO   \n3                                                 obesity              FTO   \n4                                                 obesity              FTO   \n...                                                   ...              ...   \n166581                                        body weight              FTO   \n166582                    alcohol consumption measurement              FTO   \n166583  alcohol use disorder measurement, alcohol depe...              FTO   \n166584                   alcohol use disorder measurement              FTO   \n166585  alcohol use disorder measurement, alcohol depe...              FTO   \n\n          GWAS_CONTEXT GWAS_STRONGEST_SNP-RISK_ALLELE  GWAS_OR-BETA  \\\n0       intron_variant                    rs9941349-T      1.480000   \n1       intron_variant                    rs9941349-T      1.480000   \n2       intron_variant                    rs9941349-T      1.480000   \n3       intron_variant                    rs9941349-T      1.480000   \n4       intron_variant                    rs9941349-T      1.480000   \n...                ...                            ...           ...   \n166581  intron_variant                    rs1421085-C      0.059100   \n166582  intron_variant                    rs1421085-T      0.008000   \n166583  intron_variant                    rs1421085-T      6.690000   \n166584  intron_variant                    rs1421085-T      8.371000   \n166585  intron_variant                   rs11075992-T      1.056859   \n\n                                               GWAS_STUDY GWAS_STUDY_ID  \n0       Common body mass index-associated variants con...    GCST000426  \n1       Common body mass index-associated variants con...    GCST000426  \n2       Common body mass index-associated variants con...    GCST000426  \n3       Common body mass index-associated variants con...    GCST000426  \n4       Common body mass index-associated variants con...    GCST000426  \n...                                                   ...           ...  \n166581  A cross-population atlas of genetic associatio...  GCST90018949  \n166582  New alcohol-related genes suggest shared genet...    GCST008757  \n166583  Genome-wide association study of alcohol consu...    GCST008259  \n166584  Genetic Underpinnings of the Transition From A...  GCST90301659  \n166585  Genome-wide association study of alcohol consu...    GCST008259  \n\n[11942 rows x 15 columns]",
      "text/html": "<div>\n<style scoped>\n    .dataframe tbody tr th:only-of-type {\n        vertical-align: middle;\n    }\n\n    .dataframe tbody tr th {\n        vertical-align: top;\n    }\n\n    .dataframe thead th {\n        text-align: right;\n    }\n</style>\n<table border=\"1\" class=\"dataframe\">\n  <thead>\n    <tr style=\"text-align: right;\">\n      <th></th>\n      <th>GRPM_GENE</th>\n      <th>GRPM_RSID</th>\n      <th>GRPM_PMID</th>\n      <th>GRPM_MESH</th>\n      <th>GRPM_TOPIC</th>\n      <th>GRPM_GI</th>\n      <th>SEMANTIC_SIMILARITY</th>\n      <th>GWAS_DISEASE/TRAIT</th>\n      <th>GWAS_MAPPED_TRAIT</th>\n      <th>GWAS_MAPPED_GENE</th>\n      <th>GWAS_CONTEXT</th>\n      <th>GWAS_STRONGEST_SNP-RISK_ALLELE</th>\n      <th>GWAS_OR-BETA</th>\n      <th>GWAS_STUDY</th>\n      <th>GWAS_STUDY_ID</th>\n    </tr>\n  </thead>\n  <tbody>\n    <tr>\n      <th>0</th>\n      <td>FTO</td>\n      <td>rs9941349</td>\n      <td>22084931</td>\n      <td>Obesity</td>\n      <td>General Nutrition</td>\n      <td>1.00000</td>\n      <td>0.909086</td>\n      <td>Obesity (extreme)</td>\n      <td>obesity</td>\n      <td>FTO</td>\n      <td>intron_variant</td>\n      <td>rs9941349-T</td>\n      <td>1.480000</td>\n      <td>Common body mass index-associated variants con...</td>\n      <td>GCST000426</td>\n    </tr>\n    <tr>\n      <th>1</th>\n      <td>FTO</td>\n      <td>rs9941349</td>\n      <td>20442772</td>\n      <td>Obesity</td>\n      <td>General Nutrition</td>\n      <td>1.00000</td>\n      <td>0.909086</td>\n      <td>Obesity (extreme)</td>\n      <td>obesity</td>\n      <td>FTO</td>\n      <td>intron_variant</td>\n      <td>rs9941349-T</td>\n      <td>1.480000</td>\n      <td>Common body mass index-associated variants con...</td>\n      <td>GCST000426</td>\n    </tr>\n    <tr>\n      <th>2</th>\n      <td>FTO</td>\n      <td>rs9941349</td>\n      <td>24879436</td>\n      <td>Obesity</td>\n      <td>General Nutrition</td>\n      <td>1.00000</td>\n      <td>0.909086</td>\n      <td>Obesity (extreme)</td>\n      <td>obesity</td>\n      <td>FTO</td>\n      <td>intron_variant</td>\n      <td>rs9941349-T</td>\n      <td>1.480000</td>\n      <td>Common body mass index-associated variants con...</td>\n      <td>GCST000426</td>\n    </tr>\n    <tr>\n      <th>3</th>\n      <td>FTO</td>\n      <td>rs9941349</td>\n      <td>21552555</td>\n      <td>Obesity</td>\n      <td>General Nutrition</td>\n      <td>1.00000</td>\n      <td>0.909086</td>\n      <td>Obesity (extreme)</td>\n      <td>obesity</td>\n      <td>FTO</td>\n      <td>intron_variant</td>\n      <td>rs9941349-T</td>\n      <td>1.480000</td>\n      <td>Common body mass index-associated variants con...</td>\n      <td>GCST000426</td>\n    </tr>\n    <tr>\n      <th>4</th>\n      <td>FTO</td>\n      <td>rs9941349</td>\n      <td>25014319</td>\n      <td>Obesity</td>\n      <td>General Nutrition</td>\n      <td>1.00000</td>\n      <td>0.909086</td>\n      <td>Obesity (extreme)</td>\n      <td>obesity</td>\n      <td>FTO</td>\n      <td>intron_variant</td>\n      <td>rs9941349-T</td>\n      <td>1.480000</td>\n      <td>Common body mass index-associated variants con...</td>\n      <td>GCST000426</td>\n    </tr>\n    <tr>\n      <th>...</th>\n      <td>...</td>\n      <td>...</td>\n      <td>...</td>\n      <td>...</td>\n      <td>...</td>\n      <td>...</td>\n      <td>...</td>\n      <td>...</td>\n      <td>...</td>\n      <td>...</td>\n      <td>...</td>\n      <td>...</td>\n      <td>...</td>\n      <td>...</td>\n      <td>...</td>\n    </tr>\n    <tr>\n      <th>166581</th>\n      <td>FTO</td>\n      <td>rs1421085</td>\n      <td>29540276</td>\n      <td>Diet</td>\n      <td>Eating Behavior and Taste Sensation</td>\n      <td>0.41459</td>\n      <td>0.948529</td>\n      <td>Weight</td>\n      <td>body weight</td>\n      <td>FTO</td>\n      <td>intron_variant</td>\n      <td>rs1421085-C</td>\n      <td>0.059100</td>\n      <td>A cross-population atlas of genetic associatio...</td>\n      <td>GCST90018949</td>\n    </tr>\n    <tr>\n      <th>166582</th>\n      <td>FTO</td>\n      <td>rs1421085</td>\n      <td>31358974</td>\n      <td>Alcohol Drinking</td>\n      <td>Eating Behavior and Taste Sensation</td>\n      <td>0.41459</td>\n      <td>0.913568</td>\n      <td>Alcohol consumption</td>\n      <td>alcohol consumption measurement</td>\n      <td>FTO</td>\n      <td>intron_variant</td>\n      <td>rs1421085-T</td>\n      <td>0.008000</td>\n      <td>New alcohol-related genes suggest shared genet...</td>\n      <td>GCST008757</td>\n    </tr>\n    <tr>\n      <th>166583</th>\n      <td>FTO</td>\n      <td>rs1421085</td>\n      <td>31358974</td>\n      <td>Alcohol Drinking</td>\n      <td>Eating Behavior and Taste Sensation</td>\n      <td>0.41459</td>\n      <td>0.903289</td>\n      <td>Alcohol use disorder</td>\n      <td>alcohol use disorder measurement, alcohol depe...</td>\n      <td>FTO</td>\n      <td>intron_variant</td>\n      <td>rs1421085-T</td>\n      <td>6.690000</td>\n      <td>Genome-wide association study of alcohol consu...</td>\n      <td>GCST008259</td>\n    </tr>\n    <tr>\n      <th>166584</th>\n      <td>FTO</td>\n      <td>rs1421085</td>\n      <td>31358974</td>\n      <td>Alcohol Drinking</td>\n      <td>Eating Behavior and Taste Sensation</td>\n      <td>0.41459</td>\n      <td>0.903289</td>\n      <td>Alcohol use disorder</td>\n      <td>alcohol use disorder measurement</td>\n      <td>FTO</td>\n      <td>intron_variant</td>\n      <td>rs1421085-T</td>\n      <td>8.371000</td>\n      <td>Genetic Underpinnings of the Transition From A...</td>\n      <td>GCST90301659</td>\n    </tr>\n    <tr>\n      <th>166585</th>\n      <td>FTO</td>\n      <td>rs11075992</td>\n      <td>30940813</td>\n      <td>Alcohol Drinking</td>\n      <td>Eating Behavior and Taste Sensation</td>\n      <td>0.41459</td>\n      <td>0.903289</td>\n      <td>Alcohol use disorder</td>\n      <td>alcohol use disorder measurement, alcohol depe...</td>\n      <td>FTO</td>\n      <td>intron_variant</td>\n      <td>rs11075992-T</td>\n      <td>1.056859</td>\n      <td>Genome-wide association study of alcohol consu...</td>\n      <td>GCST008259</td>\n    </tr>\n  </tbody>\n</table>\n<p>11942 rows × 15 columns</p>\n</div>"
     },
     "metadata": {},
     "output_type": "display_data"
    }
   ],
   "source": [
    "# Gene Query on Nutrigenetic-GWAS ds\n",
    "result = query_dataset(grpm_nutrigen_int_gwas, my_genes, 'GRPM_GENE')\n",
    "display(result)"
   ],
   "metadata": {
    "collapsed": false
   },
   "id": "9bc895ffb3fa09e8",
   "execution_count": 14
  },
  {
   "cell_type": "code",
   "outputs": [],
   "source": [],
   "metadata": {
    "collapsed": false
   },
   "id": "ec90991601314bef"
  }
 ],
 "metadata": {
  "kernelspec": {
   "display_name": "Python 3",
   "language": "python",
   "name": "python3"
  },
  "language_info": {
   "codemirror_mode": {
    "name": "ipython",
    "version": 2
   },
   "file_extension": ".py",
   "mimetype": "text/x-python",
   "name": "python",
   "nbconvert_exporter": "python",
   "pygments_lexer": "ipython2",
   "version": "2.7.6"
  }
 },
 "nbformat": 4,
 "nbformat_minor": 5
}
