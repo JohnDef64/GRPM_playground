{
 "cells": [
  {
   "cell_type": "markdown",
   "metadata": {},
   "source": [
    "# GRPM MeSH Screening \n",
    "\n",
    "This notebook is engineered to screen the previously retrieved genetic polymorphism data using selected MeSH terms. It works with MeSH sets that are used as hooks to retrieve subsets of genes and polymorphisms from the \"GRPM ds\" dataset."
   ]
  },
  {
   "cell_type": "code",
   "execution_count": null,
   "metadata": {
    "collapsed": false,
    "jupyter": {
     "outputs_hidden": false
    }
   },
   "outputs": [],
   "source": [
    "#Only for Google Colab\n",
    "import os\n",
    "import sys\n",
    "\n",
    "# @markdown Run in Colab virtual machine by default\n",
    "\n",
    "# @markdown to run in google drive set:\n",
    "import_mydrive = False #@param {type:\"boolean\"}\n",
    "\n",
    "if 'google.colab' in sys.modules:\n",
    "    if import_mydrive:\n",
    "        from google.colab import drive\n",
    "        drive.mount('/content/drive')\n",
    "        if os.path.exists('/content/drive/MyDrive/grpm_system/'):\n",
    "            %cd /content/drive/MyDrive/grpm_system/\n",
    "        else:\n",
    "            %mkdir /content/drive/MyDrive/grpm_system/\n",
    "            %cd /content/drive/MyDrive/grpm_system/\n",
    "    else:\n",
    "        if os.path.exists('/content/grpm_system/'):\n",
    "            %cd /content/grpm_system/\n",
    "        else:\n",
    "            %mkdir /content/grpm_system/\n",
    "            %cd /content/grpm_system/\n",
    "\n",
    "current_directory = os.getcwd()\n",
    "print(\"Current working directory:\", current_directory)"
   ]
  },
  {
   "cell_type": "markdown",
   "metadata": {},
   "source": [
    "# Import Packages"
   ]
  },
  {
   "cell_type": "code",
   "execution_count": 113,
   "metadata": {
    "collapsed": false,
    "jupyter": {
     "outputs_hidden": false
    }
   },
   "outputs": [],
   "source": [
    "import os\n",
    "import io\n",
    "import glob\n",
    "import pandas as pd\n",
    "from datetime import datetime\n",
    "import matplotlib.pyplot as plt\n",
    "import requests\n",
    "import zipfile\n",
    "\n",
    "def simple_bool(message):\n",
    "    choose = input(message+\" (y/n): \").lower()\n",
    "    your_bool = choose in [\"y\", \"yes\",\"yea\",\"sure\"]\n",
    "    return your_bool\n",
    "\n",
    "def get_and_extract(file, dir = os.getcwd()):\n",
    "    url = \"https://zenodo.org/record/8205724/files/\"+file+\".zip?download=1\"\n",
    "    zip_file_name = file+\".zip\"\n",
    "    extracted_folder_name = dir\n",
    "\n",
    "    # Download the ZIP file\n",
    "    response = requests.get(url)\n",
    "\n",
    "    if response.status_code == 200:\n",
    "        # Extract the ZIP contents\n",
    "        with io.BytesIO(response.content) as zip_buffer:\n",
    "            with zipfile.ZipFile(zip_buffer, 'r') as zip_ref:\n",
    "                zip_ref.extractall(extracted_folder_name)\n",
    "        print(f\"ZIP file '{zip_file_name}' extracted to '{extracted_folder_name}' successfully.\")\n",
    "    else:\n",
    "        print(\"Failed to download the ZIP file.\")"
   ]
  },
  {
   "cell_type": "markdown",
   "metadata": {},
   "source": [
    "# Get requirements"
   ]
  },
  {
   "cell_type": "code",
   "execution_count": null,
   "metadata": {
    "collapsed": false,
    "jupyter": {
     "outputs_hidden": false
    }
   },
   "outputs": [],
   "source": [
    "# Get GRPM Dataset from Zenodo Repository\n",
    "#https://zenodo.org/record/8205724  DOI: 10.5281/zenodo.8205724\n",
    "\n",
    "if simple_bool('Download pre-made GRPM-Dataset from Zenodo? (6.5 minutes in Colab)'):\n",
    "    timea = datetime.now()\n",
    "    get_and_extract('grpm_dataset')\n",
    "    print('Download and extraction time ',datetime.now()-timea)\n",
    "\n",
    "if simple_bool('Download pre-made ref-mesh-archive from Zenodo?'):\n",
    "    timea = datetime.now()\n",
    "    get_and_extract('ref-mesh-archive')\n",
    "    print('Download and extraction time ',datetime.now()-timea)"
   ]
  },
  {
   "cell_type": "markdown",
   "metadata": {},
   "source": [
    "## Import GRPM dataset (required)"
   ]
  },
  {
   "cell_type": "code",
   "execution_count": 114,
   "metadata": {
    "collapsed": false,
    "jupyter": {
     "outputs_hidden": false
    }
   },
   "outputs": [
    {
     "name": "stdout",
     "output_type": "stream",
     "text": [
      "importing GRPM Dataset...\n",
      "time load: 0:00:17.575024\n"
     ]
    }
   ],
   "source": [
    "#Load GRPM db Report-----------------------------------------\n",
    "\n",
    "# choose database:\n",
    "db_tag      = 'pcg'\n",
    "# 'pcg'    = protein coding genes = grpm_db\n",
    "# 'rna'    = rna genes            = grpm_db_rna\n",
    "# 'pseudo' = pseudogenes          = grpm_db_pseudo\n",
    "\n",
    "db_name = 'grpm_db_'+ db_tag\n",
    "db_path = 'grpm_dataset/'+db_name\n",
    "\n",
    "print('importing GRPM Dataset...')\n",
    "#get gene list from grpm report\n",
    "GRPM_report = pd.read_csv(db_path+'/GRPM_report.csv',index_col=0).transpose().reset_index().rename(columns={'index':'gene'})\n",
    "grpm_genes_list = GRPM_report.gene.to_list()\n",
    "\n",
    "#Import grpm data back-------------------------------------------\n",
    "time_load_1 = datetime.now()\n",
    "\n",
    "columns = ['gene', 'rsid', 'pmids', 'mesh']\n",
    "dummy = pd.read_csv(db_path+'/grpm_table_output.csv', usecols=columns)\n",
    "\n",
    "dummy['pmids'] = dummy['pmids'].astype(str) #convert pmid type in str\n",
    "time_load_2 = datetime.now()\n",
    "print('time load:',time_load_2-time_load_1)"
   ]
  },
  {
   "cell_type": "markdown",
   "source": [
    "## Subset GRPM Dataset (optional)"
   ],
   "metadata": {
    "collapsed": false
   }
  },
  {
   "cell_type": "code",
   "execution_count": 124,
   "outputs": [
    {
     "name": "stdout",
     "output_type": "stream",
     "text": [
      "You're using a GRPM Dataset partition\n",
      "time subsetting: 0:00:17.575024\n"
     ]
    },
    {
     "data": {
      "text/plain": "           gene ncbi_dbsnp lit2_variant lit2_variant_norsid lit2_rsid  \\\n614        PIGW       3129          110                  16        90   \n732    B3GALNT2      26349          239                  12       216   \n968        FUT8     144817          527                  36       485   \n1139      ALG12      27161          703                   6       687   \n1152       PIGN      62526          715                  90       599   \n...         ...        ...          ...                 ...       ...   \n14670   POMGNT2      10366          173                  13       155   \n14741      PIGS       7166           60                   7        52   \n15009      ALG6      26871          256                   4       238   \n15050   B3GALT6       2796          107                   6        85   \n15195     DHDDS      14940          147                  18       121   \n\n      lit2_rsid_plus1 lit1_rsid lit1_rsid_pmid_plus1 lit1_pmid  \\\n614                29         6                    3         5   \n732               109        13                    6        10   \n968               262        17                    3        16   \n1139              315        19                    8        20   \n1152              253        33                   10        31   \n...               ...       ...                  ...       ...   \n14670              60         6                    1         7   \n14741              18         3                    1         4   \n15009              91        18                    7        35   \n15050              43        20                   11        11   \n15195              36        12                    5        32   \n\n      lit1_pmid_pmid_plus1  ... pubmed_mesh_qualifier_major pubmed_mesh  \\\n614                      3  ...                          62          48   \n732                      8  ...                         100          76   \n968                      8  ...                         184         120   \n1139                    13  ...                         212         146   \n1152                    19  ...                         230         162   \n...                    ...  ...                         ...         ...   \n14670                    4  ...                          77          56   \n14741                    2  ...                          62          49   \n15009                   30  ...                         274         173   \n15050                    8  ...                         111          75   \n15195                   29  ...                         274         163   \n\n      rsid_pmid10 rsid_pmid50 rsid_pmid100  \\\n614             0           0            0   \n732             0           0            0   \n968             0           0            0   \n1139            0           0            0   \n1152            0           0            0   \n...           ...         ...          ...   \n14670           0           0            0   \n14741           0           0            0   \n15009           1           0            0   \n15050           0           0            0   \n15195           1           0            0   \n\n                                           top10mesh_all  \\\n614    ['Humans', 'Abnormalities, Multiple', 'Membran...   \n732    ['Humans', 'Female', 'Polymorphism, Single Nuc...   \n968    ['Humans', 'Female', 'Fucosyltransferases', 'M...   \n1139   ['Humans', 'Female', 'Male', 'Mannosyltransfer...   \n1152   ['Humans', 'Female', 'Male', 'Phosphotransfera...   \n...                                                  ...   \n14670  ['Humans', 'Mutation', 'Glycosyltransferases',...   \n14741  ['Animals', 'Humans', 'Abnormalities, Multiple...   \n15009  ['Humans', 'Congenital Disorders of Glycosylat...   \n15050  ['Humans', 'Mutation', 'Child', 'Joint Instabi...   \n15195  ['Humans', 'Male', 'Female', 'Alkyl and Aryl T...   \n\n                                           top10rsid_all pubmed_runtime  \\\n614    ['rs1256773607', 'rs200024253', 'rs587777733',...        0:00:01   \n732    ['rs367543069', 'rs367543072', 'rs367543076', ...        0:00:01   \n968    ['rs10483776', 'rs1297536872', 'rs1334593208',...        0:00:01   \n1139   ['rs1321', 'rs755892540', 'rs121907932', 'rs12...        0:00:01   \n1152   ['rs587777186', 'rs587777187', 'rs397514475', ...        0:00:01   \n...                                                  ...            ...   \n14670  ['rs387907300', 'rs387907299', 'rs488069', 'rs...        0:00:02   \n14741      ['rs114331597', 'rs1426262136', 'rs34669811']        0:00:01   \n15009  ['rs121908443', 'rs35383149', 'rs4630153', 'rs...        0:00:02   \n15050  ['rs397514717', 'rs397514720', 'rs397514721', ...        0:00:02   \n15195  ['rs147394623', 'rs543487813', 'rs778103040', ...        0:00:02   \n\n      total_runtime                  time_stamp  \n614         0:00:03  2023-03-14 12:21:23.181294  \n732         0:00:03  2023-03-14 12:31:56.596504  \n968         0:00:05  2023-03-14 11:18:23.197187  \n1139        0:00:05  2023-03-14 11:35:02.311363  \n1152        0:00:06  2023-03-14 11:36:09.997035  \n...             ...                         ...  \n14670       0:00:05  2023-03-22 10:15:08.009351  \n14741       0:00:04  2023-03-22 10:25:28.607256  \n15009       0:00:05  2023-03-22 11:35:48.006586  \n15050       0:00:04  2023-03-22 11:40:18.574321  \n15195       0:00:05  2023-03-22 12:00:06.392702  \n\n[112 rows x 26 columns]",
      "text/html": "<div>\n<style scoped>\n    .dataframe tbody tr th:only-of-type {\n        vertical-align: middle;\n    }\n\n    .dataframe tbody tr th {\n        vertical-align: top;\n    }\n\n    .dataframe thead th {\n        text-align: right;\n    }\n</style>\n<table border=\"1\" class=\"dataframe\">\n  <thead>\n    <tr style=\"text-align: right;\">\n      <th></th>\n      <th>gene</th>\n      <th>ncbi_dbsnp</th>\n      <th>lit2_variant</th>\n      <th>lit2_variant_norsid</th>\n      <th>lit2_rsid</th>\n      <th>lit2_rsid_plus1</th>\n      <th>lit1_rsid</th>\n      <th>lit1_rsid_pmid_plus1</th>\n      <th>lit1_pmid</th>\n      <th>lit1_pmid_pmid_plus1</th>\n      <th>...</th>\n      <th>pubmed_mesh_qualifier_major</th>\n      <th>pubmed_mesh</th>\n      <th>rsid_pmid10</th>\n      <th>rsid_pmid50</th>\n      <th>rsid_pmid100</th>\n      <th>top10mesh_all</th>\n      <th>top10rsid_all</th>\n      <th>pubmed_runtime</th>\n      <th>total_runtime</th>\n      <th>time_stamp</th>\n    </tr>\n  </thead>\n  <tbody>\n    <tr>\n      <th>614</th>\n      <td>PIGW</td>\n      <td>3129</td>\n      <td>110</td>\n      <td>16</td>\n      <td>90</td>\n      <td>29</td>\n      <td>6</td>\n      <td>3</td>\n      <td>5</td>\n      <td>3</td>\n      <td>...</td>\n      <td>62</td>\n      <td>48</td>\n      <td>0</td>\n      <td>0</td>\n      <td>0</td>\n      <td>['Humans', 'Abnormalities, Multiple', 'Membran...</td>\n      <td>['rs1256773607', 'rs200024253', 'rs587777733',...</td>\n      <td>0:00:01</td>\n      <td>0:00:03</td>\n      <td>2023-03-14 12:21:23.181294</td>\n    </tr>\n    <tr>\n      <th>732</th>\n      <td>B3GALNT2</td>\n      <td>26349</td>\n      <td>239</td>\n      <td>12</td>\n      <td>216</td>\n      <td>109</td>\n      <td>13</td>\n      <td>6</td>\n      <td>10</td>\n      <td>8</td>\n      <td>...</td>\n      <td>100</td>\n      <td>76</td>\n      <td>0</td>\n      <td>0</td>\n      <td>0</td>\n      <td>['Humans', 'Female', 'Polymorphism, Single Nuc...</td>\n      <td>['rs367543069', 'rs367543072', 'rs367543076', ...</td>\n      <td>0:00:01</td>\n      <td>0:00:03</td>\n      <td>2023-03-14 12:31:56.596504</td>\n    </tr>\n    <tr>\n      <th>968</th>\n      <td>FUT8</td>\n      <td>144817</td>\n      <td>527</td>\n      <td>36</td>\n      <td>485</td>\n      <td>262</td>\n      <td>17</td>\n      <td>3</td>\n      <td>16</td>\n      <td>8</td>\n      <td>...</td>\n      <td>184</td>\n      <td>120</td>\n      <td>0</td>\n      <td>0</td>\n      <td>0</td>\n      <td>['Humans', 'Female', 'Fucosyltransferases', 'M...</td>\n      <td>['rs10483776', 'rs1297536872', 'rs1334593208',...</td>\n      <td>0:00:01</td>\n      <td>0:00:05</td>\n      <td>2023-03-14 11:18:23.197187</td>\n    </tr>\n    <tr>\n      <th>1139</th>\n      <td>ALG12</td>\n      <td>27161</td>\n      <td>703</td>\n      <td>6</td>\n      <td>687</td>\n      <td>315</td>\n      <td>19</td>\n      <td>8</td>\n      <td>20</td>\n      <td>13</td>\n      <td>...</td>\n      <td>212</td>\n      <td>146</td>\n      <td>0</td>\n      <td>0</td>\n      <td>0</td>\n      <td>['Humans', 'Female', 'Male', 'Mannosyltransfer...</td>\n      <td>['rs1321', 'rs755892540', 'rs121907932', 'rs12...</td>\n      <td>0:00:01</td>\n      <td>0:00:05</td>\n      <td>2023-03-14 11:35:02.311363</td>\n    </tr>\n    <tr>\n      <th>1152</th>\n      <td>PIGN</td>\n      <td>62526</td>\n      <td>715</td>\n      <td>90</td>\n      <td>599</td>\n      <td>253</td>\n      <td>33</td>\n      <td>10</td>\n      <td>31</td>\n      <td>19</td>\n      <td>...</td>\n      <td>230</td>\n      <td>162</td>\n      <td>0</td>\n      <td>0</td>\n      <td>0</td>\n      <td>['Humans', 'Female', 'Male', 'Phosphotransfera...</td>\n      <td>['rs587777186', 'rs587777187', 'rs397514475', ...</td>\n      <td>0:00:01</td>\n      <td>0:00:06</td>\n      <td>2023-03-14 11:36:09.997035</td>\n    </tr>\n    <tr>\n      <th>...</th>\n      <td>...</td>\n      <td>...</td>\n      <td>...</td>\n      <td>...</td>\n      <td>...</td>\n      <td>...</td>\n      <td>...</td>\n      <td>...</td>\n      <td>...</td>\n      <td>...</td>\n      <td>...</td>\n      <td>...</td>\n      <td>...</td>\n      <td>...</td>\n      <td>...</td>\n      <td>...</td>\n      <td>...</td>\n      <td>...</td>\n      <td>...</td>\n      <td>...</td>\n      <td>...</td>\n    </tr>\n    <tr>\n      <th>14670</th>\n      <td>POMGNT2</td>\n      <td>10366</td>\n      <td>173</td>\n      <td>13</td>\n      <td>155</td>\n      <td>60</td>\n      <td>6</td>\n      <td>1</td>\n      <td>7</td>\n      <td>4</td>\n      <td>...</td>\n      <td>77</td>\n      <td>56</td>\n      <td>0</td>\n      <td>0</td>\n      <td>0</td>\n      <td>['Humans', 'Mutation', 'Glycosyltransferases',...</td>\n      <td>['rs387907300', 'rs387907299', 'rs488069', 'rs...</td>\n      <td>0:00:02</td>\n      <td>0:00:05</td>\n      <td>2023-03-22 10:15:08.009351</td>\n    </tr>\n    <tr>\n      <th>14741</th>\n      <td>PIGS</td>\n      <td>7166</td>\n      <td>60</td>\n      <td>7</td>\n      <td>52</td>\n      <td>18</td>\n      <td>3</td>\n      <td>1</td>\n      <td>4</td>\n      <td>2</td>\n      <td>...</td>\n      <td>62</td>\n      <td>49</td>\n      <td>0</td>\n      <td>0</td>\n      <td>0</td>\n      <td>['Animals', 'Humans', 'Abnormalities, Multiple...</td>\n      <td>['rs114331597', 'rs1426262136', 'rs34669811']</td>\n      <td>0:00:01</td>\n      <td>0:00:04</td>\n      <td>2023-03-22 10:25:28.607256</td>\n    </tr>\n    <tr>\n      <th>15009</th>\n      <td>ALG6</td>\n      <td>26871</td>\n      <td>256</td>\n      <td>4</td>\n      <td>238</td>\n      <td>91</td>\n      <td>18</td>\n      <td>7</td>\n      <td>35</td>\n      <td>30</td>\n      <td>...</td>\n      <td>274</td>\n      <td>173</td>\n      <td>1</td>\n      <td>0</td>\n      <td>0</td>\n      <td>['Humans', 'Congenital Disorders of Glycosylat...</td>\n      <td>['rs121908443', 'rs35383149', 'rs4630153', 'rs...</td>\n      <td>0:00:02</td>\n      <td>0:00:05</td>\n      <td>2023-03-22 11:35:48.006586</td>\n    </tr>\n    <tr>\n      <th>15050</th>\n      <td>B3GALT6</td>\n      <td>2796</td>\n      <td>107</td>\n      <td>6</td>\n      <td>85</td>\n      <td>43</td>\n      <td>20</td>\n      <td>11</td>\n      <td>11</td>\n      <td>8</td>\n      <td>...</td>\n      <td>111</td>\n      <td>75</td>\n      <td>0</td>\n      <td>0</td>\n      <td>0</td>\n      <td>['Humans', 'Mutation', 'Child', 'Joint Instabi...</td>\n      <td>['rs397514717', 'rs397514720', 'rs397514721', ...</td>\n      <td>0:00:02</td>\n      <td>0:00:04</td>\n      <td>2023-03-22 11:40:18.574321</td>\n    </tr>\n    <tr>\n      <th>15195</th>\n      <td>DHDDS</td>\n      <td>14940</td>\n      <td>147</td>\n      <td>18</td>\n      <td>121</td>\n      <td>36</td>\n      <td>12</td>\n      <td>5</td>\n      <td>32</td>\n      <td>29</td>\n      <td>...</td>\n      <td>274</td>\n      <td>163</td>\n      <td>1</td>\n      <td>0</td>\n      <td>0</td>\n      <td>['Humans', 'Male', 'Female', 'Alkyl and Aryl T...</td>\n      <td>['rs147394623', 'rs543487813', 'rs778103040', ...</td>\n      <td>0:00:02</td>\n      <td>0:00:05</td>\n      <td>2023-03-22 12:00:06.392702</td>\n    </tr>\n  </tbody>\n</table>\n<p>112 rows × 26 columns</p>\n</div>"
     },
     "metadata": {},
     "output_type": "display_data"
    }
   ],
   "source": [
    "subset_grpm = simple_bool('Do you want to use a custom gene list to subset GRPM Dataset?')\n",
    "if subset_grpm:\n",
    "    # import your custom gene list (.csv)\n",
    "    file_csv = []\n",
    "    for file in os.listdir():\n",
    "        if file.endswith(\".csv\") or file.endswith(\".tsv\"):\n",
    "            file_csv.append(file)\n",
    "\n",
    "    filenum = input('import your custom gene list (.csv)\\nselect file index: \\n'+str(pd.Series(file_csv)))\n",
    "\n",
    "    time1 = datetime.now()\n",
    "    subset_genes = pd.read_csv(file_csv[int(filenum)])\n",
    "    subset_genes = subset_genes[subset_genes.columns[int(input('select column index:\\n'+ str(pd.Series(subset_genes.columns))))]].drop_duplicates().str.replace(' ','')\n",
    "    subset_genes.to_list()\n",
    "\n",
    "    # subsetting GRPM_report and dummy\n",
    "    GRPM_report_subset = GRPM_report[GRPM_report['gene'].isin(subset_genes)]\n",
    "    dummy_subset = dummy[dummy['gene'].isin(subset_genes)]\n",
    "    print(\"You're using a GRPM Dataset partition\\ntime subsetting:\",time_load_2-time_load_1)\n",
    "    display(GRPM_report_subset)"
   ],
   "metadata": {
    "collapsed": false
   }
  },
  {
   "cell_type": "markdown",
   "metadata": {},
   "source": [
    "# Define context\n",
    "    - gene list\n",
    "    - survey directory\n",
    "    - ref-mesh list"
   ]
  },
  {
   "cell_type": "markdown",
   "metadata": {},
   "source": [
    "## Check avalable ref-MeSH lists"
   ]
  },
  {
   "cell_type": "code",
   "execution_count": null,
   "metadata": {
    "collapsed": false,
    "jupyter": {
     "outputs_hidden": false
    }
   },
   "outputs": [],
   "source": [
    "#Check avalable refs:\n",
    "ref_path = \"ref-mesh-archive/\"  # Replace with the actual ref mesh path\n",
    "\n",
    "#---------------------------------\n",
    "#use random mesh list?\n",
    "random_mesh = False\n",
    "if random_mesh:\n",
    "    ref_path = \"ref-mesh-archive/random_lists/\"\n",
    "#---------------------------------\n",
    "\n",
    "# Create a file path pattern to match CSV files\n",
    "file_pattern = os.path.join(ref_path, \"*.csv\")\n",
    "\n",
    "# Use glob to get a list of file paths matching the pattern\n",
    "csv_files = glob.glob(file_pattern)\n",
    "\n",
    "csv_files_name = []\n",
    "# Print the list of CSV files\n",
    "for file in csv_files:\n",
    "    file_name = os.path.basename(file)\n",
    "    csv_files_name.append(file_name)\n",
    "\n",
    "pd.set_option('display.max_rows', 100)\n",
    "print('Available reference mesh lists:')\n",
    "csv_files_df = pd.Series(csv_files_name)\n",
    "\n",
    "csv_file_tag = pd.DataFrame()\n",
    "if not random_mesh:\n",
    "    csv_file_tag = csv_files_df.str.extract(r'ref_mesh_(.*)\\.csv', expand=False).dropna().reset_index(drop=True)\n",
    "else:\n",
    "    csv_file_tag = csv_files_df.str.extract(r'(.*)\\.csv', expand=False).dropna().reset_index(drop=True)\n",
    "\n",
    "csv_file_tag"
   ]
  },
  {
   "cell_type": "markdown",
   "metadata": {},
   "source": [
    "## Set directory/import data"
   ]
  },
  {
   "cell_type": "code",
   "execution_count": 112,
   "metadata": {
    "collapsed": false,
    "jupyter": {
     "outputs_hidden": false
    }
   },
   "outputs": [
    {
     "name": "stdout",
     "output_type": "stream",
     "text": [
      "\n",
      " 0          Fatigue Syndrome, Chronic\n",
      "1                 Migraine Disorders\n",
      "2              Tension-Type Headache\n",
      "3                 Headache Disorders\n",
      "4                   Cluster Headache\n",
      "                   ...              \n",
      "396                      Anaphylaxis\n",
      "400    Passive Cutaneous Anaphylaxis\n",
      "401         Irritable Bowel Syndrome\n",
      "402               Nutritional Status\n",
      "403                     Diet Therapy\n",
      "Name: mesh, Length: 145, dtype: object\n"
     ]
    }
   ],
   "source": [
    "#------------------------------------------------------\n",
    "# define directory folder path:\n",
    "survey_path = 'grpm_surveys/' # keep default to use root path\n",
    "\n",
    "# choose ref_mesh.csv tab:\n",
    "topic_tag   = csv_file_tag[int(input('\\Select index from available ref-mesh list:\\n'+str(csv_file_tag)))]\n",
    "add         = ''    # additional survey directory tag\n",
    "\n",
    "#------------------------------------------------------\n",
    "\n",
    "# (1) Create survey directory:\n",
    "survey_path = survey_path+'grpm_random/' if random_mesh else survey_path\n",
    "directory = survey_path + 'grpm_survey_' + db_tag + '_' + topic_tag + add\n",
    "if not os.path.exists(directory):\n",
    "    os.makedirs(directory)\n",
    "\n",
    "# (2) Import Mesh-reference list:\n",
    "ref_filename = \"ref_mesh_\" + topic_tag + \".csv\" if not random_mesh else topic_tag + \".csv\"\n",
    "ref = pd.read_csv(ref_path + ref_filename, index_col=0)\n",
    "\n",
    "if 'mesh' not in ref.columns:\n",
    "    ref = ref.rename(columns={'Preferred Label': 'mesh'})\n",
    "\n",
    "ref_mesh_n = ref.mesh.nunique()\n",
    "ref_mesh_list = ref['mesh'].drop_duplicates()\n",
    "\n",
    "# (3) Load saved checkpoint data or initialize dataframes:\n",
    "if os.path.isfile(directory+'/grpmx_filtered_output.csv'):\n",
    "    complete_df = pd.read_csv(directory+'/grpmx_filtered_output.csv',index_col=0)\n",
    "else:\n",
    "    complete_df = pd.DataFrame()\n",
    "\n",
    "if os.path.isfile(directory+'/GRPMX_report.csv'):\n",
    "    df_report_complete = pd.read_csv(directory+'/GRPMX_report.csv',index_col=0)\n",
    "    restart = True\n",
    "else:\n",
    "    df_report_complete = pd.DataFrame()\n",
    "    restart = False\n",
    "#----------------------------------------------------------\n",
    "print('\\n', ref_mesh_list)"
   ]
  },
  {
   "cell_type": "code",
   "execution_count": null,
   "metadata": {
    "collapsed": false,
    "jupyter": {
     "outputs_hidden": false
    }
   },
   "outputs": [],
   "source": [
    "# check checkpoint report:\n",
    "df_report_complete.T"
   ]
  },
  {
   "cell_type": "markdown",
   "metadata": {},
   "source": [
    "# Run Survey"
   ]
  },
  {
   "cell_type": "code",
   "execution_count": null,
   "metadata": {
    "collapsed": false,
    "jupyter": {
     "outputs_hidden": false
    }
   },
   "outputs": [],
   "source": [
    "#---------------------------------------------\n",
    "# Edit saving options:\n",
    "save_plot = False\n",
    "checkpoint = 200 #save data each x genes\n",
    "\n",
    "run_sample = False # set True just to run a test\n",
    "num_sample = 10\n",
    "\n",
    "partial_job = False # set True to set job end point\n",
    "partial_job_finish = 10\n",
    "\n",
    "exclude_top10 = False # for a faster job\n",
    "#---------------------------------------------\n",
    "\n",
    "time_start = datetime.now()\n",
    "\n",
    "if restart:\n",
    "    restart_from = len(df_report_complete.T)\n",
    "    gene_start = restart_from\n",
    "    print('search restarted from '+str(restart_from))\n",
    "else:\n",
    "    gene_start = 0\n",
    "\n",
    "# Ddefine grpm subset\n",
    "if subset_grpm:\n",
    "    GRPM_report = GRPM_report_subset\n",
    "    dummy = dummy_subset\n",
    "\n",
    "# define gene list\n",
    "import random\n",
    "if run_sample:\n",
    "    genes = random.sample(grpm_genes_list[:], num_sample)\n",
    "else:\n",
    "    if partial_job:\n",
    "        genes = grpm_genes_list[gene_start: gene_start + partial_job_finish]\n",
    "    else:\n",
    "        genes = grpm_genes_list[gene_start:len(grpm_genes_list)]\n",
    "\n",
    "for gene in genes:\n",
    "\n",
    "    time_alpha = datetime.now()\n",
    "    timestamp = time_alpha.strftime('%Y%m%d%H%M%S')\n",
    "\n",
    "    if gene in dummy.gene.drop_duplicates().to_list():\n",
    "\n",
    "        dummy_gene = dummy.loc[dummy['gene'] == gene]\n",
    "        rsidpmid = dummy_gene[['rsid','pmids']].drop_duplicates().reset_index(drop=True)\n",
    "        pmidmesh = dummy_gene[['pmids','mesh']].drop_duplicates()\n",
    "        #dfmesh = dummy_gene[['pmids', 'mesh', 'qualifier', 'major']].drop_duplicates().reset_index(drop=True)\n",
    "\n",
    "        #Filter pmid for rsid with pmid>1 [Deprecated]\n",
    "        #   rsidpmid_count = rsidpmid.groupby('rsid').describe().reset_index()\n",
    "        #   rsidpmid_count.columns = rsidpmid_count.columns.to_flat_index()\n",
    "        #   new_column_names = ['rsid', 'pmid_count', 'pmid_unique','pmid_top','pmid_freq']\n",
    "        #   rsidpmid_count.columns = new_column_names\n",
    "        #   outless = rsidpmid_count[rsidpmid_count.pmid_unique>1]\n",
    "        #   mask = rsidpmid['rsid'].isin(outless.rsid)\n",
    "        #   rsidpmid_less = rsidpmid[mask]\n",
    "\n",
    "\n",
    "        # Correlation on \"pmidmesh.mesh\"------------------------\n",
    "        mask = pmidmesh['mesh'].isin(ref_mesh_list)\n",
    "        dfmatch = pmidmesh[mask]\n",
    "        mask_full = dummy_gene['mesh'].isin(ref_mesh_list)\n",
    "        dfmatch_full = dummy_gene[mask_full]\n",
    "        #report statistics:\n",
    "        pmidmesh_before  =  pmidmesh.nunique()\n",
    "        pmidmesh_after   =  dfmatch.nunique()\n",
    "        interesting_pmid =  dfmatch.nunique()\n",
    "\n",
    "        #pmidmask = rsidpmid['pmids'].isin(dfmatch.pmids) #mymask\n",
    "        #rsidlast = rsidpmid[pmidmask]  # mask on rsidpmid\n",
    "        #rsidlastlist = rsidlast.rsid.drop_duplicates()\n",
    "\n",
    "        #report statistics\n",
    "        lit1_rsid         = dummy_gene.rsid.nunique()\n",
    "        #lit1_pmid_f      = rsidpmid_less.pmids.nunique()\n",
    "        matching_rsid     = dfmatch_full['rsid'].nunique()\n",
    "        dropped_rsid      = lit1_rsid - dfmatch_full['rsid'].nunique()\n",
    "        starting_pmid     = pmidmesh['pmids'].nunique()\n",
    "        starting_mesh     = pmidmesh['mesh'].nunique()\n",
    "        starting_pmidmesh = len(pmidmesh)\n",
    "        matching_pmids    = dfmatch.pmids.nunique()\n",
    "        matching_mesh     = dfmatch.mesh.nunique()\n",
    "        matching_pmidmesh = len(dfmatch)\n",
    "\n",
    "\n",
    "        dfmatch_less_ = dfmatch_full[['pmids', 'rsid', 'mesh']].drop_duplicates()\n",
    "        #interesting_rsid = dfmatch_less_.rsid.nunique()\n",
    "\n",
    "        #------------------------\n",
    "        if exclude_top10:\n",
    "            matching_rsid_pmid10  = 'missing'\n",
    "            matching_rsid_pmid100 = 'missing'\n",
    "            top10rsid             = 'missing'\n",
    "            top10mesh             = 'missing'\n",
    "        else:\n",
    "            #Analyze enrichment with \"groupby.describe\" method\n",
    "\n",
    "            ## 1. groupby.describe analysis by [rsid]\n",
    "            dfmatch_less_rsid = dfmatch_less_.groupby('rsid').describe().reset_index()\n",
    "            dfmatch_less_rsid.columns = dfmatch_less_rsid.columns.to_flat_index()\n",
    "            new_column_names = ['rsid', 'pmid-count', 'pmid-unique','pmid-top','pmid-freq','mesh-count', 'mesh-unique','mesh-top','mesh-freq']\n",
    "            dfmatch_less_rsid.columns = new_column_names\n",
    "\n",
    "            ### statistics:\n",
    "            matching_rsid_pmid10 = len(dfmatch_less_rsid[dfmatch_less_rsid['pmid-unique']>10])\n",
    "            matching_rsid_pmid100 = len(dfmatch_less_rsid[dfmatch_less_rsid['pmid-unique']>100])\n",
    "\n",
    "            ### sorting, top10\n",
    "            dfmatch_less_rsidless = dfmatch_less_rsid[['rsid','pmid-unique','mesh-unique']]\n",
    "            dfmatch_less_rsidlesssort = dfmatch_less_rsidless.sort_values(by='pmid-unique', ascending= False).reset_index(drop=True)\n",
    "            top10rsid = dfmatch_less_rsidlesssort['rsid'][:10].tolist()\n",
    "            #------------------\n",
    "\n",
    "            ## 2. groupby.describe analysis by [mesh]\n",
    "            dfmatch_less_mesh = dfmatch_less_.groupby('mesh').describe().reset_index()\n",
    "            dfmatch_less_mesh.columns = dfmatch_less_mesh.columns.to_flat_index()\n",
    "            #to handle generate df.groupby.describe, convert Multicolumn to single column\n",
    "            #https://datascientyst.com/flatten-multiindex-in-pandas/\n",
    "            new_column_names = ['mesh', 'pmid-count', 'pmid-unique','pmid-top','pmid-freq','rsid-count', 'rsid-unique','rsid-top','rsid-freq']\n",
    "            dfmatch_less_mesh.columns = new_column_names\n",
    "\n",
    "            dfmatch_less_mesh_less = dfmatch_less_mesh[['mesh','pmid-unique','rsid-unique']]\n",
    "            #dfmatch_less_mesh_lesssort = dfmatch_less_mesh_less.sort_values(by='pmid-unique',ascending=False).reset_index(drop=True)\n",
    "\n",
    "            ### add frequency, top10\n",
    "            samplepmid_count = len(dfmatch.pmids.drop_duplicates())\n",
    "            dfmatch_less_mesh_less_frq = dfmatch_less_mesh_less.copy()\n",
    "            mesh_frq = dfmatch_less_mesh_less_frq.loc[:,'pmid-unique'].astype(float)/samplepmid_count\n",
    "            dfmatch_less_mesh_less_frq.loc[:,'mesh frequency'] = round(mesh_frq,3)#*100\n",
    "            dfmatch_less_mesh_less_frqsort = dfmatch_less_mesh_less_frq.sort_values(by='pmid-unique',ascending=False).reset_index(drop=True)\n",
    "            top10mesh = dfmatch_less_mesh_less_frqsort['mesh'][:10].tolist()\n",
    "        #------------------\n",
    "\n",
    "        if save_plot:\n",
    "            # create a scatter plot\n",
    "            x = dfmatch_less_mesh_less_frqsort['mesh'].head(30)\n",
    "            y = dfmatch_less_mesh_less_frqsort['pmid-unique'].head(30)\n",
    "            plt.figure(figsize=(5, 8))\n",
    "            plt.title('Scatter Plot: '+gene+' pmid-mesh (filtered)', loc='center',pad=10)\n",
    "            plt.scatter(y, x)\n",
    "            plt.gca().invert_yaxis()\n",
    "            #plt.subplots_adjust(left=0.3, right=0.9, bottom=0.3, top=0.9)\n",
    "            #plt.xticks(rotation=90)\n",
    "            plt.tick_params(axis='x', which='both', top=True, bottom=False, labeltop=True, labelbottom=False)\n",
    "            plt.xlabel('pmid count', position=(0.5, 1.08))\n",
    "            ax = plt.gca()\n",
    "            ax.xaxis.set_label_position('top')\n",
    "            #plt.show()\n",
    "            plt.savefig(directory+'/'+gene+'_mesh_plot_'+timestamp+'_filtered.png',dpi=120, bbox_inches = \"tight\")\n",
    "            plt.close()\n",
    "        else:\n",
    "            pass\n",
    "\n",
    "        #STORE DATA----------------------------------------------------------------------\n",
    "        #timestamp = time2.strftime('%Y%m%d%H%M%S')\n",
    "\n",
    "        #screening results:\n",
    "        dfmatch_less_['gene'] = gene\n",
    "        complete_df = pd.concat([complete_df, dfmatch_less_])\n",
    "\n",
    "\n",
    "        #REPORT------------------------------------------------------------------\n",
    "\n",
    "        report = { 'reference_mesh': ref_mesh_n,\n",
    "                   #'filtered_pmidmesh': pmidmesh_after,\n",
    "                   #'interesting_pmid': interesting_pmid,\n",
    "                   #'interesting_rsid': interesting_rsid,\n",
    "                   'starting_pmidmesh': starting_pmidmesh,\n",
    "                   'starting_pmid' : starting_pmid,\n",
    "                   'starting_mesh': starting_mesh,\n",
    "                   'starting_rsid': lit1_rsid,\n",
    "                   'matching_pmidmesh': matching_pmidmesh,\n",
    "                   'matching_pmids': matching_pmids,\n",
    "                   'matching_mesh': matching_mesh,\n",
    "                   'matching_rsid': matching_rsid,\n",
    "                   'dropped_rsid': dropped_rsid,\n",
    "                   'matching_mesh_ratio': round((matching_mesh/starting_mesh),3),\n",
    "                   'matching_pmids_ratio': round((matching_pmids/starting_pmid),3),\n",
    "                   'matching_pmidmesh_ratio': round((matching_pmidmesh/starting_pmidmesh),3),\n",
    "                   'matching_rsid_ratio': round((matching_rsid/lit1_rsid),3),\n",
    "                   'matching_rsid_pmid10': matching_rsid_pmid10,\n",
    "                   'matching_rsid_pmid100': matching_rsid_pmid100,\n",
    "                   'matching_top10mesh':str(top10mesh),\n",
    "                   'matching_top10rsid':str(top10rsid),\n",
    "                   }\n",
    "\n",
    "        df_report = pd.DataFrame(report, index=[gene]).transpose()\n",
    "\n",
    "        # SLOW STEP!----------------------\n",
    "        # generate fist report.csv\n",
    "\n",
    "        #if os.path.isfile(directory+'/GRPMX_report.csv'):\n",
    "        #    df_report_complete = pd.read_csv(directory+'/GRPMX_report.csv', index_col=0)#).set_index('Unnamed: 0')\n",
    "        #    df_report_complete = pd.concat([df_report_complete, df_report], axis=1)\n",
    "        #    df_report_complete.to_csv(directory+'/GRPMX_report.csv')\n",
    "        #else:\n",
    "        #    df_report.to_csv(directory+'/GRPMX_report.csv') # solo la prima volta\n",
    "\n",
    "        # FASTER ALT------------\n",
    "        df_report_complete = pd.concat([df_report_complete, df_report], axis=1)\n",
    "\n",
    "        time_omega = datetime.now()\n",
    "        full_runtime = time_omega - time_alpha\n",
    "        print((gene+'_runtime:').ljust(18)+ str(full_runtime).ljust(15), ' Genes processed:', genes.index(gene), 'on', len(genes))\n",
    "        total_seconds = full_runtime.total_seconds()\n",
    "\n",
    "        # save checkpoint----------------------\n",
    "        if genes.index(gene) > 1 and genes.index(gene) % checkpoint == 0:\n",
    "            complete_df = complete_df.reindex(columns=['gene','rsid', 'pmids', 'mesh'])\n",
    "            complete_df.to_csv(directory+'/grpmx_filtered_output.csv')\n",
    "            df_report_complete.to_csv(directory+'/GRPMX_report.csv')\n",
    "            print(\"saved checkpoint\")\n",
    "        else:\n",
    "            pass\n",
    "\n",
    "    else:\n",
    "        print(gene+' not present in DataBase')\n",
    "        pass\n",
    "\n",
    "# Save complete csv\n",
    "complete_df = complete_df.reindex(columns=['gene','rsid', 'pmids', 'mesh'])\n",
    "complete_df.to_csv(directory+'/grpmx_filtered_output.csv')\n",
    "\n",
    "df_report_complete.to_csv(directory+'/GRPMX_report.csv')\n",
    "\n",
    "# #Update gene values (remove previous gene entry)\n",
    "GRPMX_report = pd.read_csv(directory+'/GRPMX_report.csv', index_col=0)\n",
    "time_load_1 = datetime.now()\n",
    "for gene in grpm_genes_list:\n",
    "    if gene+'.1' in GRPMX_report.columns:\n",
    "        GRPMX_report = GRPMX_report.drop(columns = gene)\n",
    "        GRPMX_report = GRPMX_report.rename(columns={gene+'.1': gene})\n",
    "        #print(genes.index(gene))\n",
    "    else:\n",
    "        pass\n",
    "time_load_2 = datetime.now()\n",
    "print(time_load_2 - time_load_1)\n",
    "GRPMX_report.to_csv(directory+'/GRPMX_report.csv')\n",
    "\n",
    "time_finish = datetime.now()\n",
    "time_batch = time_finish - time_start\n",
    "\n",
    "if os.path.isfile('run_time.txt'):\n",
    "    with open('run_time.txt', 'a') as file:\n",
    "        file.write(topic_tag+':\\n\\ttime batch: '+str(time_batch)+'\\n\\truntime/gene: '+str(time_batch/len(genes))+'\\n\\n')\n",
    "else:\n",
    "    with open('run_time.txt', 'w') as file:\n",
    "        file.write(topic_tag+':\\n\\ttime batch: '+str(time_batch)+'\\n\\truntime/gene: '+str(time_batch/len(genes))+'\\n\\n')\n",
    "\n",
    "print('time batch:',time_batch)\n",
    "print('runtime/gene:', time_batch/len(genes))"
   ]
  },
  {
   "cell_type": "code",
   "execution_count": null,
   "metadata": {
    "collapsed": false,
    "jupyter": {
     "outputs_hidden": false
    }
   },
   "outputs": [],
   "source": [
    "# save checkpoint\n",
    "complete_df = complete_df.reindex(columns=['gene','rsid', 'pmids', 'mesh'])\n",
    "complete_df.to_csv(directory+'/grpmx_filtered_output.csv')\n",
    "\n",
    "df_report_complete.to_csv(directory+'/GRPMX_report.csv')\n",
    "\n",
    "restart_from = len(df_report_complete.T)\n",
    "print('partial job, genes in survey '+topic_tag+' report:', restart_from)"
   ]
  },
  {
   "cell_type": "code",
   "execution_count": null,
   "metadata": {
    "collapsed": false,
    "jupyter": {
     "outputs_hidden": false
    }
   },
   "outputs": [],
   "source": [
    "df_report_complete.T"
   ]
  },
  {
   "cell_type": "code",
   "execution_count": null,
   "metadata": {
    "collapsed": false,
    "jupyter": {
     "outputs_hidden": false
    }
   },
   "outputs": [],
   "source": [
    "df_read = pd.read_csv(directory+'/grpmx_filtered_output.csv', index_col=0)#.gene.drop_duplicates()\n",
    "#df_read.to_clipboard()\n",
    "print('genes matching:', df_read.gene.nunique())\n",
    "print('mesh matching:', df_read.mesh.nunique())\n",
    "print('apply threshold in Analizer Module')\n",
    "df_read"
   ]
  },
  {
   "cell_type": "markdown",
   "metadata": {},
   "source": [
    "# Check results"
   ]
  },
  {
   "cell_type": "code",
   "execution_count": null,
   "outputs": [],
   "source": [
    "# Visualize GRPMX_report.csv\n",
    "GRPMX_report = pd.read_csv(directory+'/GRPMX_report.csv', index_col=0).transpose().reset_index().rename(columns={'index':'gene'})\n",
    "GRPMX_report.gene.drop_duplicates().to_clipboard()\n",
    "print('Genes matching:',len(GRPMX_report.gene.drop_duplicates()))\n",
    "\n",
    "GRPMX_report[['reference_mesh', 'starting_pmidmesh', 'starting_pmid','starting_mesh','starting_rsid', 'matching_pmidmesh', 'matching_pmids', 'matching_mesh','matching_rsid', 'dropped_rsid']] = GRPMX_report[['reference_mesh', 'starting_pmidmesh', 'starting_pmid','starting_mesh','starting_rsid', 'matching_pmidmesh', 'matching_pmids', 'matching_mesh','matching_rsid', 'dropped_rsid']].astype(int)\n",
    "\n",
    "GRPMX_report[['matching_mesh_ratio', 'matching_pmids_ratio','matching_pmidmesh_ratio', 'matching_rsid_ratio']] = GRPMX_report[['matching_mesh_ratio', 'matching_pmids_ratio','matching_pmidmesh_ratio','matching_rsid_ratio']].astype(float)\n",
    "\n",
    "columns_to_keep = ['matching_pmids','matching_pmids_ratio','matching_mesh','matching_rsid']\n",
    "GRPMX_report_less = GRPMX_report[columns_to_keep]\n",
    "\n",
    "sorting_column = 'matching_pmids'\n",
    "GRPMX_report_sort = GRPMX_report.sort_values(by=sorting_column, ascending=False)\n",
    "\n",
    "columns_to_display = ['gene', 'matching_pmidmesh', 'matching_pmids',\n",
    "                      'matching_mesh', 'matching_rsid', 'dropped_rsid', 'matching_mesh_ratio',\n",
    "                      'matching_pmids_ratio', 'matching_pmidmesh_ratio',\n",
    "                      'matching_rsid_ratio']\n",
    "GRPMX_report_display = GRPMX_report[columns_to_display]\n",
    "GRPMX_report_display"
   ],
   "metadata": {
    "collapsed": false
   }
  },
  {
   "cell_type": "code",
   "execution_count": null,
   "metadata": {
    "collapsed": false,
    "jupyter": {
     "outputs_hidden": false
    }
   },
   "outputs": [],
   "source": [
    "# Matching PMIDs in Database\n",
    "GRPMX_report_sort = GRPMX_report.sort_values(by= 'matching_pmids',ascending=False)\n",
    "\n",
    "x = GRPMX_report_sort.gene.iloc[:40]\n",
    "y = GRPMX_report_sort['matching_pmids'].iloc[:40]\n",
    "plt.figure(figsize=(5, len(x)*0.2))\n",
    "plt.title('Matching PMIDs in Database', loc='center',pad=10)\n",
    "\n",
    "plt.barh(x,y)\n",
    "plt.gca().invert_yaxis()\n",
    "plt.tick_params(axis='x', which='both', top=True, bottom=False, labeltop=True, labelbottom=False)\n",
    "#plt.xlabel('pmid count', position=(0.5, 1.08))\n",
    "plt.ylabel('genes')\n",
    "plt.xlabel('matching pmid', position=(0.5, 1.08))\n",
    "ax = plt.gca()\n",
    "ax.xaxis.set_label_position('top')\n",
    "\n",
    "plt.show()"
   ]
  },
  {
   "cell_type": "code",
   "execution_count": null,
   "metadata": {
    "collapsed": false,
    "jupyter": {
     "outputs_hidden": false
    }
   },
   "outputs": [],
   "source": [
    "# Add \"interest value\" to report:----------------------------------------------------------\n",
    "max_match_pmids = int(GRPMX_report['matching_pmids'].max())\n",
    "GRPMX_report_int = GRPMX_report\n",
    "GRPMX_report_int['matching_pmids_score'] = round((GRPMX_report_int['matching_pmids']/max_match_pmids),3)\n",
    "\n",
    "GRPMX_report_int['interest_value'] = round(GRPMX_report_int['matching_pmids_score'] * GRPMX_report_int['matching_pmids_ratio'],3)\n",
    "\n",
    "GRPMX_report_int.set_index('gene').sort_values(by='interest_value')#.T"
   ]
  },
  {
   "cell_type": "code",
   "execution_count": null,
   "metadata": {
    "collapsed": false,
    "jupyter": {
     "outputs_hidden": false
    }
   },
   "outputs": [],
   "source": [
    "# Matching PMIDs in Database\n",
    "GRPMX_report_sort = GRPMX_report.sort_values(by= 'matching_pmids_index',ascending=False)\n",
    "\n",
    "x = GRPMX_report_sort.gene.iloc[:100]\n",
    "y = GRPMX_report_sort['matching_pmids_index'].iloc[:100]\n",
    "plt.figure(figsize=(5, len(x)*0.2))\n",
    "plt.title('Matching PMIDs in Database', loc='center',pad=10)\n",
    "\n",
    "plt.barh(x,y)\n",
    "plt.gca().invert_yaxis()\n",
    "plt.tick_params(axis='x', which='both', top=True, bottom=False, labeltop=True, labelbottom=False)\n",
    "#plt.xlabel('pmid count', position=(0.5, 1.08))\n",
    "plt.ylabel('genes')\n",
    "plt.xlabel('matching pmid', position=(0.5, 1.08))\n",
    "ax = plt.gca()\n",
    "ax.xaxis.set_label_position('top')\n",
    "\n",
    "plt.show()"
   ]
  },
  {
   "cell_type": "code",
   "execution_count": null,
   "metadata": {
    "collapsed": false,
    "jupyter": {
     "outputs_hidden": false
    }
   },
   "outputs": [],
   "source": []
  }
 ],
 "metadata": {
  "kernelspec": {
   "display_name": "Python 3 (ipykernel)",
   "language": "python",
   "name": "python3"
  },
  "language_info": {
   "codemirror_mode": {
    "name": "ipython",
    "version": 3
   },
   "file_extension": ".py",
   "mimetype": "text/x-python",
   "name": "python",
   "nbconvert_exporter": "python",
   "pygments_lexer": "ipython3",
   "version": "3.11.3"
  }
 },
 "nbformat": 4,
 "nbformat_minor": 4
}
