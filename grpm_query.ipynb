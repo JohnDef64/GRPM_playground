{
 "cells": [
  {
   "cell_type": "markdown",
   "source": [
    "# Import modules"
   ],
   "metadata": {
    "collapsed": false
   },
   "id": "df38d2663d0b5b2e"
  },
  {
   "cell_type": "code",
   "outputs": [],
   "source": [
    "import os\n",
    "import importlib\n",
    "import subprocess\n",
    "import pandas as pd\n",
    "\n",
    "try:\n",
    "    importlib.import_module('pygrpm')\n",
    "except ImportError:\n",
    "    subprocess.check_call([\"pip\", \"install\", \"git+https://github.com/johndef64/GRPM_system.git\"])\n",
    "    \n",
    "from pygrpm import *"
   ],
   "metadata": {
    "collapsed": false,
    "ExecuteTime": {
     "end_time": "2025-02-18T08:15:52.059269500Z",
     "start_time": "2025-02-18T08:15:40.633983100Z"
    }
   },
   "id": "b49a1c9885565c8",
   "execution_count": 1
  },
  {
   "cell_type": "markdown",
   "source": [
    "# GET Datasets"
   ],
   "metadata": {
    "collapsed": false
   },
   "id": "72ba3275c7199e3"
  },
  {
   "cell_type": "code",
   "outputs": [],
   "source": [
    "### GET Datasets ###\n",
    "if not os.path.exists('grpm_dataset/grpm_dataset.parquet'):\n",
    "    get_and_extract('grpm_dataset', record_id='14052302')\n",
    "    get_and_extract('nutrigenetic_dataset', record_id='14052302')"
   ],
   "metadata": {
    "collapsed": false,
    "ExecuteTime": {
     "end_time": "2025-02-17T19:36:52.254905900Z",
     "start_time": "2025-02-17T19:36:52.203053600Z"
    }
   },
   "id": "ee2f83b09bfae9b9",
   "execution_count": 4
  },
  {
   "cell_type": "markdown",
   "source": [
    "# LOAD Datasets"
   ],
   "metadata": {
    "collapsed": false
   },
   "id": "d949e679493bcbd9"
  },
  {
   "cell_type": "code",
   "outputs": [
    {
     "name": "stdout",
     "output_type": "stream",
     "text": [
      "Importing time:  0:00:06.737058\n",
      "pcg: 776.19 MB\n",
      "rna: 58.18 MB\n",
      "pseudo: 1.93 MB\n",
      "nutrigen dataset: 87.13 MB\n",
      "nutrigen dataset filtered: 53.62 MB\n",
      "nutrigen gwas dataset: 20.56 MB\n"
     ]
    },
    {
     "data": {
      "text/plain": "          gene          rsid      pmid                               mesh  \\\n0          FTO     rs9972653  32393786                    Body Mass Index   \n1          FTO     rs9972653  32393786          Diabetes Mellitus, Type 2   \n2          FTO     rs9972653  32393786                               Diet   \n3          FTO     rs9972653  33128006                    Body Mass Index   \n4          FTO     rs9972653  33128006            Cardiovascular Diseases   \n...        ...           ...       ...                                ...   \n1171244  FADS1      rs174545  23221573                   Lipid Metabolism   \n1171245  FADS1      rs174545  30120404                              Liver   \n1171246  FADS1      rs174545  30120404  Non-alcoholic Fatty Liver Disease   \n1171247  FADS1      rs174544  20565855                   Lipid Metabolism   \n1171248  FADS1  rs1185231229  23306188                   Lipid Metabolism   \n\n                          topic  interest_index  \n0             General Nutrition         1.00000  \n1             General Nutrition         1.00000  \n2             General Nutrition         1.00000  \n3             General Nutrition         1.00000  \n4             General Nutrition         1.00000  \n...                         ...             ...  \n1171244  Xenobiotics Metabolism         0.01255  \n1171245  Xenobiotics Metabolism         0.01255  \n1171246  Xenobiotics Metabolism         0.01255  \n1171247  Xenobiotics Metabolism         0.01255  \n1171248  Xenobiotics Metabolism         0.01255  \n\n[1171249 rows x 6 columns]",
      "text/html": "<div>\n<style scoped>\n    .dataframe tbody tr th:only-of-type {\n        vertical-align: middle;\n    }\n\n    .dataframe tbody tr th {\n        vertical-align: top;\n    }\n\n    .dataframe thead th {\n        text-align: right;\n    }\n</style>\n<table border=\"1\" class=\"dataframe\">\n  <thead>\n    <tr style=\"text-align: right;\">\n      <th></th>\n      <th>gene</th>\n      <th>rsid</th>\n      <th>pmid</th>\n      <th>mesh</th>\n      <th>topic</th>\n      <th>interest_index</th>\n    </tr>\n  </thead>\n  <tbody>\n    <tr>\n      <th>0</th>\n      <td>FTO</td>\n      <td>rs9972653</td>\n      <td>32393786</td>\n      <td>Body Mass Index</td>\n      <td>General Nutrition</td>\n      <td>1.00000</td>\n    </tr>\n    <tr>\n      <th>1</th>\n      <td>FTO</td>\n      <td>rs9972653</td>\n      <td>32393786</td>\n      <td>Diabetes Mellitus, Type 2</td>\n      <td>General Nutrition</td>\n      <td>1.00000</td>\n    </tr>\n    <tr>\n      <th>2</th>\n      <td>FTO</td>\n      <td>rs9972653</td>\n      <td>32393786</td>\n      <td>Diet</td>\n      <td>General Nutrition</td>\n      <td>1.00000</td>\n    </tr>\n    <tr>\n      <th>3</th>\n      <td>FTO</td>\n      <td>rs9972653</td>\n      <td>33128006</td>\n      <td>Body Mass Index</td>\n      <td>General Nutrition</td>\n      <td>1.00000</td>\n    </tr>\n    <tr>\n      <th>4</th>\n      <td>FTO</td>\n      <td>rs9972653</td>\n      <td>33128006</td>\n      <td>Cardiovascular Diseases</td>\n      <td>General Nutrition</td>\n      <td>1.00000</td>\n    </tr>\n    <tr>\n      <th>...</th>\n      <td>...</td>\n      <td>...</td>\n      <td>...</td>\n      <td>...</td>\n      <td>...</td>\n      <td>...</td>\n    </tr>\n    <tr>\n      <th>1171244</th>\n      <td>FADS1</td>\n      <td>rs174545</td>\n      <td>23221573</td>\n      <td>Lipid Metabolism</td>\n      <td>Xenobiotics Metabolism</td>\n      <td>0.01255</td>\n    </tr>\n    <tr>\n      <th>1171245</th>\n      <td>FADS1</td>\n      <td>rs174545</td>\n      <td>30120404</td>\n      <td>Liver</td>\n      <td>Xenobiotics Metabolism</td>\n      <td>0.01255</td>\n    </tr>\n    <tr>\n      <th>1171246</th>\n      <td>FADS1</td>\n      <td>rs174545</td>\n      <td>30120404</td>\n      <td>Non-alcoholic Fatty Liver Disease</td>\n      <td>Xenobiotics Metabolism</td>\n      <td>0.01255</td>\n    </tr>\n    <tr>\n      <th>1171247</th>\n      <td>FADS1</td>\n      <td>rs174544</td>\n      <td>20565855</td>\n      <td>Lipid Metabolism</td>\n      <td>Xenobiotics Metabolism</td>\n      <td>0.01255</td>\n    </tr>\n    <tr>\n      <th>1171248</th>\n      <td>FADS1</td>\n      <td>rs1185231229</td>\n      <td>23306188</td>\n      <td>Lipid Metabolism</td>\n      <td>Xenobiotics Metabolism</td>\n      <td>0.01255</td>\n    </tr>\n  </tbody>\n</table>\n<p>1171249 rows × 6 columns</p>\n</div>"
     },
     "metadata": {},
     "output_type": "display_data"
    }
   ],
   "source": [
    "### LOAD Datasets ###\n",
    "pcg_grpm, rna_grpm, pseudo_grpm = grpm_importer()\n",
    "grpm_nutrigen, grpm_nutrigen_int, grpm_nutrigen_int_gwas = nutrig_importer()\n",
    "\n",
    "display(grpm_nutrigen_int)"
   ],
   "metadata": {
    "collapsed": false,
    "ExecuteTime": {
     "end_time": "2025-02-18T08:16:32.122196900Z",
     "start_time": "2025-02-18T08:16:17.365113700Z"
    }
   },
   "id": "83f43553f9bd7c3b",
   "execution_count": 2
  },
  {
   "cell_type": "markdown",
   "source": [
    "# SHOW Stats"
   ],
   "metadata": {
    "collapsed": false
   },
   "id": "c1308e809f14ab8c"
  },
  {
   "cell_type": "code",
   "outputs": [
    {
     "name": "stdout",
     "output_type": "stream",
     "text": [
      "Computing Stats...\n"
     ]
    }
   ],
   "source": [
    "%%time\n",
    "pcg_grpm_stats = get_stats(pcg_grpm, group_by = 'gene')\n",
    "display(pcg_grpm_stats)"
   ],
   "metadata": {
    "collapsed": false,
    "is_executing": true,
    "ExecuteTime": {
     "start_time": "2025-02-17T11:24:35.433167900Z"
    }
   },
   "id": "7c3ba98a0f4586ad"
  },
  {
   "cell_type": "code",
   "outputs": [],
   "source": [
    "%%time\n",
    "grpm_nutrigen_stats = get_stats(grpm_nutrigen, group_by = 'gene')\n",
    "display(grpm_nutrigen_stats)"
   ],
   "metadata": {
    "collapsed": false,
    "is_executing": true
   },
   "id": "53b8d4bd3b022b39",
   "execution_count": null
  },
  {
   "cell_type": "markdown",
   "source": [
    "# QUERY GRPM Dataset "
   ],
   "metadata": {
    "collapsed": false
   },
   "id": "6f89129f4d7121c8"
  },
  {
   "cell_type": "markdown",
   "source": [
    "## MeSH Query Example"
   ],
   "metadata": {
    "collapsed": false
   },
   "id": "9cfaf0ddcbcaffd0"
  },
  {
   "cell_type": "code",
   "outputs": [],
   "source": [
    "## GET MeSH Dataset ##\n",
    "if not os.path.exists('ref-mesh/MESH_STY_LITVAR1.csv'):\n",
    "    get_and_extract('ref-mesh', record_id='14052302')\n",
    "    get_topic_terms()"
   ],
   "metadata": {
    "collapsed": false,
    "ExecuteTime": {
     "end_time": "2025-02-18T08:17:23.630931300Z",
     "start_time": "2025-02-18T08:17:17.016780400Z"
    }
   },
   "id": "a620278819072935",
   "execution_count": 3
  },
  {
   "cell_type": "code",
   "outputs": [
    {
     "name": "stdout",
     "output_type": "stream",
     "text": [
      "GRPM MeSH count: 21705\n",
      "semantic types: 125\n"
     ]
    },
    {
     "data": {
      "text/plain": "             Preferred Label  Semantic Types Label  \\\n1  Electronic Health Records  Intellectual Product   \n2              Consent Forms  Intellectual Product   \n3     Genealogy and Heraldry  Intellectual Product   \n4               Publications  Intellectual Product   \n5    Pharmaceutical Services  Intellectual Product   \n\n                                            Class ID  mesh_id Semantic Types  \n1  http://purl.bioontology.org/ontology/MESH/D057286  D057286           T170  \n2  http://purl.bioontology.org/ontology/MESH/D032962  D032962           T170  \n3  http://purl.bioontology.org/ontology/MESH/D005789  D005789           T170  \n4  http://purl.bioontology.org/ontology/MESH/D011642  D011642           T170  \n5  http://purl.bioontology.org/ontology/MESH/D010593  D010593           T170  ",
      "text/html": "<div>\n<style scoped>\n    .dataframe tbody tr th:only-of-type {\n        vertical-align: middle;\n    }\n\n    .dataframe tbody tr th {\n        vertical-align: top;\n    }\n\n    .dataframe thead th {\n        text-align: right;\n    }\n</style>\n<table border=\"1\" class=\"dataframe\">\n  <thead>\n    <tr style=\"text-align: right;\">\n      <th></th>\n      <th>Preferred Label</th>\n      <th>Semantic Types Label</th>\n      <th>Class ID</th>\n      <th>mesh_id</th>\n      <th>Semantic Types</th>\n    </tr>\n  </thead>\n  <tbody>\n    <tr>\n      <th>1</th>\n      <td>Electronic Health Records</td>\n      <td>Intellectual Product</td>\n      <td>http://purl.bioontology.org/ontology/MESH/D057286</td>\n      <td>D057286</td>\n      <td>T170</td>\n    </tr>\n    <tr>\n      <th>2</th>\n      <td>Consent Forms</td>\n      <td>Intellectual Product</td>\n      <td>http://purl.bioontology.org/ontology/MESH/D032962</td>\n      <td>D032962</td>\n      <td>T170</td>\n    </tr>\n    <tr>\n      <th>3</th>\n      <td>Genealogy and Heraldry</td>\n      <td>Intellectual Product</td>\n      <td>http://purl.bioontology.org/ontology/MESH/D005789</td>\n      <td>D005789</td>\n      <td>T170</td>\n    </tr>\n    <tr>\n      <th>4</th>\n      <td>Publications</td>\n      <td>Intellectual Product</td>\n      <td>http://purl.bioontology.org/ontology/MESH/D011642</td>\n      <td>D011642</td>\n      <td>T170</td>\n    </tr>\n    <tr>\n      <th>5</th>\n      <td>Pharmaceutical Services</td>\n      <td>Intellectual Product</td>\n      <td>http://purl.bioontology.org/ontology/MESH/D010593</td>\n      <td>D010593</td>\n      <td>T170</td>\n    </tr>\n  </tbody>\n</table>\n</div>"
     },
     "execution_count": 4,
     "metadata": {},
     "output_type": "execute_result"
    }
   ],
   "source": [
    "# LOAD MeSH\n",
    "grpm_mesh = mesh_importer()\n",
    "grpm_mesh.head()"
   ],
   "metadata": {
    "collapsed": false,
    "ExecuteTime": {
     "end_time": "2025-02-18T08:17:27.651653600Z",
     "start_time": "2025-02-18T08:17:27.262983700Z"
    }
   },
   "id": "8fc5532611717398",
   "execution_count": 4
  },
  {
   "cell_type": "code",
   "outputs": [
    {
     "name": "stdout",
     "output_type": "stream",
     "text": [
      "Computing Stats...\n",
      "runtime:  0:00:00.646001\n"
     ]
    },
    {
     "data": {
      "text/plain": "                                    Preferred Label Class ID mesh_id  \\\n                                             unique   unique  unique   \nSemantic Types Label                                                   \nAcquired Abnormality                             41       41      41   \nActivity                                         38       38      38   \nAge Group                                        15       15      15   \nAmino Acid Sequence                              45       45      45   \nAmino Acid, Peptide, or Protein                4625     4625    4625   \n...                                             ...      ...     ...   \nTherapeutic or Preventive Procedure             693      693     693   \nTissue                                           89       89      89   \nVertebrate                                        4        4       4   \nVirus                                           370      370     370   \nVitamin                                          65       65      65   \n\n                                    Semantic Types  \n                                            unique  \nSemantic Types Label                                \nAcquired Abnormality                             1  \nActivity                                         1  \nAge Group                                        1  \nAmino Acid Sequence                              1  \nAmino Acid, Peptide, or Protein                  1  \n...                                            ...  \nTherapeutic or Preventive Procedure              1  \nTissue                                           1  \nVertebrate                                       1  \nVirus                                            1  \nVitamin                                          1  \n\n[125 rows x 4 columns]",
      "text/html": "<div>\n<style scoped>\n    .dataframe tbody tr th:only-of-type {\n        vertical-align: middle;\n    }\n\n    .dataframe tbody tr th {\n        vertical-align: top;\n    }\n\n    .dataframe thead tr th {\n        text-align: left;\n    }\n\n    .dataframe thead tr:last-of-type th {\n        text-align: right;\n    }\n</style>\n<table border=\"1\" class=\"dataframe\">\n  <thead>\n    <tr>\n      <th></th>\n      <th>Preferred Label</th>\n      <th>Class ID</th>\n      <th>mesh_id</th>\n      <th>Semantic Types</th>\n    </tr>\n    <tr>\n      <th></th>\n      <th>unique</th>\n      <th>unique</th>\n      <th>unique</th>\n      <th>unique</th>\n    </tr>\n    <tr>\n      <th>Semantic Types Label</th>\n      <th></th>\n      <th></th>\n      <th></th>\n      <th></th>\n    </tr>\n  </thead>\n  <tbody>\n    <tr>\n      <th>Acquired Abnormality</th>\n      <td>41</td>\n      <td>41</td>\n      <td>41</td>\n      <td>1</td>\n    </tr>\n    <tr>\n      <th>Activity</th>\n      <td>38</td>\n      <td>38</td>\n      <td>38</td>\n      <td>1</td>\n    </tr>\n    <tr>\n      <th>Age Group</th>\n      <td>15</td>\n      <td>15</td>\n      <td>15</td>\n      <td>1</td>\n    </tr>\n    <tr>\n      <th>Amino Acid Sequence</th>\n      <td>45</td>\n      <td>45</td>\n      <td>45</td>\n      <td>1</td>\n    </tr>\n    <tr>\n      <th>Amino Acid, Peptide, or Protein</th>\n      <td>4625</td>\n      <td>4625</td>\n      <td>4625</td>\n      <td>1</td>\n    </tr>\n    <tr>\n      <th>...</th>\n      <td>...</td>\n      <td>...</td>\n      <td>...</td>\n      <td>...</td>\n    </tr>\n    <tr>\n      <th>Therapeutic or Preventive Procedure</th>\n      <td>693</td>\n      <td>693</td>\n      <td>693</td>\n      <td>1</td>\n    </tr>\n    <tr>\n      <th>Tissue</th>\n      <td>89</td>\n      <td>89</td>\n      <td>89</td>\n      <td>1</td>\n    </tr>\n    <tr>\n      <th>Vertebrate</th>\n      <td>4</td>\n      <td>4</td>\n      <td>4</td>\n      <td>1</td>\n    </tr>\n    <tr>\n      <th>Virus</th>\n      <td>370</td>\n      <td>370</td>\n      <td>370</td>\n      <td>1</td>\n    </tr>\n    <tr>\n      <th>Vitamin</th>\n      <td>65</td>\n      <td>65</td>\n      <td>65</td>\n      <td>1</td>\n    </tr>\n  </tbody>\n</table>\n<p>125 rows × 4 columns</p>\n</div>"
     },
     "execution_count": 5,
     "metadata": {},
     "output_type": "execute_result"
    }
   ],
   "source": [
    "get_stats(grpm_mesh, \"Semantic Types Label\")"
   ],
   "metadata": {
    "collapsed": false,
    "ExecuteTime": {
     "end_time": "2025-02-18T08:18:52.298719300Z",
     "start_time": "2025-02-18T08:18:51.631660500Z"
    }
   },
   "id": "bdc21c82d5297ef8",
   "execution_count": 5
  },
  {
   "cell_type": "code",
   "outputs": [
    {
     "data": {
      "text/plain": "             gene type       rsid      pmid           mesh qualifier  major\n38033      MT-CO3  PCG  rs2853826  34576000      Epigenome      None   True\n45210      MT-ND3  PCG  rs2853826  34576000      Epigenome      None   True\n52523     MT-ND4L  PCG  rs2853826  34576000      Epigenome      None   True\n62152      MT-ND4  PCG  rs2853826  34576000      Epigenome      None   True\n73836      MT-ND5  PCG  rs2853826  34576000      Epigenome      None   True\n...           ...  ...        ...       ...            ...       ...    ...\n16595876    CXCL8  PCG  rs2227532  29105764  Interleukin-1  genetics  False\n16595895    CXCL8  PCG     rs4073  29105764  Interleukin-1  genetics  False\n16597205    CXCL8  PCG  rs2227306  16719905  Interleukin-1  genetics  False\n16597221    CXCL8  PCG     rs4073  16719905  Interleukin-1  genetics  False\n16604856    CXCL8  PCG     rs4073  18273643  Interleukin-1  genetics  False\n\n[3839 rows x 7 columns]",
      "text/html": "<div>\n<style scoped>\n    .dataframe tbody tr th:only-of-type {\n        vertical-align: middle;\n    }\n\n    .dataframe tbody tr th {\n        vertical-align: top;\n    }\n\n    .dataframe thead th {\n        text-align: right;\n    }\n</style>\n<table border=\"1\" class=\"dataframe\">\n  <thead>\n    <tr style=\"text-align: right;\">\n      <th></th>\n      <th>gene</th>\n      <th>type</th>\n      <th>rsid</th>\n      <th>pmid</th>\n      <th>mesh</th>\n      <th>qualifier</th>\n      <th>major</th>\n    </tr>\n  </thead>\n  <tbody>\n    <tr>\n      <th>38033</th>\n      <td>MT-CO3</td>\n      <td>PCG</td>\n      <td>rs2853826</td>\n      <td>34576000</td>\n      <td>Epigenome</td>\n      <td>None</td>\n      <td>True</td>\n    </tr>\n    <tr>\n      <th>45210</th>\n      <td>MT-ND3</td>\n      <td>PCG</td>\n      <td>rs2853826</td>\n      <td>34576000</td>\n      <td>Epigenome</td>\n      <td>None</td>\n      <td>True</td>\n    </tr>\n    <tr>\n      <th>52523</th>\n      <td>MT-ND4L</td>\n      <td>PCG</td>\n      <td>rs2853826</td>\n      <td>34576000</td>\n      <td>Epigenome</td>\n      <td>None</td>\n      <td>True</td>\n    </tr>\n    <tr>\n      <th>62152</th>\n      <td>MT-ND4</td>\n      <td>PCG</td>\n      <td>rs2853826</td>\n      <td>34576000</td>\n      <td>Epigenome</td>\n      <td>None</td>\n      <td>True</td>\n    </tr>\n    <tr>\n      <th>73836</th>\n      <td>MT-ND5</td>\n      <td>PCG</td>\n      <td>rs2853826</td>\n      <td>34576000</td>\n      <td>Epigenome</td>\n      <td>None</td>\n      <td>True</td>\n    </tr>\n    <tr>\n      <th>...</th>\n      <td>...</td>\n      <td>...</td>\n      <td>...</td>\n      <td>...</td>\n      <td>...</td>\n      <td>...</td>\n      <td>...</td>\n    </tr>\n    <tr>\n      <th>16595876</th>\n      <td>CXCL8</td>\n      <td>PCG</td>\n      <td>rs2227532</td>\n      <td>29105764</td>\n      <td>Interleukin-1</td>\n      <td>genetics</td>\n      <td>False</td>\n    </tr>\n    <tr>\n      <th>16595895</th>\n      <td>CXCL8</td>\n      <td>PCG</td>\n      <td>rs4073</td>\n      <td>29105764</td>\n      <td>Interleukin-1</td>\n      <td>genetics</td>\n      <td>False</td>\n    </tr>\n    <tr>\n      <th>16597205</th>\n      <td>CXCL8</td>\n      <td>PCG</td>\n      <td>rs2227306</td>\n      <td>16719905</td>\n      <td>Interleukin-1</td>\n      <td>genetics</td>\n      <td>False</td>\n    </tr>\n    <tr>\n      <th>16597221</th>\n      <td>CXCL8</td>\n      <td>PCG</td>\n      <td>rs4073</td>\n      <td>16719905</td>\n      <td>Interleukin-1</td>\n      <td>genetics</td>\n      <td>False</td>\n    </tr>\n    <tr>\n      <th>16604856</th>\n      <td>CXCL8</td>\n      <td>PCG</td>\n      <td>rs4073</td>\n      <td>18273643</td>\n      <td>Interleukin-1</td>\n      <td>genetics</td>\n      <td>False</td>\n    </tr>\n  </tbody>\n</table>\n<p>3839 rows × 7 columns</p>\n</div>"
     },
     "metadata": {},
     "output_type": "display_data"
    }
   ],
   "source": [
    "# Random Query Example\n",
    "mesh_query =  grpm_mesh['Preferred Label'].drop_duplicates().sample(10).to_list()\n",
    "\n",
    "# Filter and get unique results\n",
    "result = query_dataset(pcg_grpm, mesh_query, 'mesh')\n",
    "display(result)"
   ],
   "metadata": {
    "collapsed": false,
    "ExecuteTime": {
     "end_time": "2025-02-17T12:57:20.691910Z",
     "start_time": "2025-02-17T12:57:19.461966500Z"
    }
   },
   "id": "31dce3eb083906e",
   "execution_count": 8
  },
  {
   "cell_type": "markdown",
   "source": [
    "## Build MeSH Query [CUDA recommended]\n",
    "In Colab:: load Runtime with GPU "
   ],
   "metadata": {
    "collapsed": false
   },
   "id": "94e480d1caae2077"
  },
  {
   "cell_type": "code",
   "outputs": [
    {
     "name": "stdout",
     "output_type": "stream",
     "text": [
      "Torch version: 2.6.0+cu118\n",
      "Is CUDA enabled? True\n",
      "tensor([-0.1710], device='cuda:0')\n"
     ]
    }
   ],
   "source": [
    "import torch\n",
    "print(\"Torch version:\",torch.__version__)\n",
    "print(\"Is CUDA enabled?\",torch.cuda.is_available())\n",
    "if torch.cuda.is_available():\n",
    "    print(torch.randn(1).cuda())\n",
    "    \n",
    "# if not CUDA and Windows system: unsitall torch and install \"pip3 install torch torchvision torchaudio --index-url https://download.pytorch.org/whl/cu118\""
   ],
   "metadata": {
    "collapsed": false,
    "ExecuteTime": {
     "end_time": "2025-02-18T08:19:30.767025900Z",
     "start_time": "2025-02-18T08:19:29.327760500Z"
    }
   },
   "id": "d6f41a3651f5b2b6",
   "execution_count": 6
  },
  {
   "cell_type": "code",
   "outputs": [
    {
     "name": "stderr",
     "output_type": "stream",
     "text": [
      "No sentence-transformers model found with name dmis-lab/biobert-v1.1. Creating a new one with mean pooling.\n"
     ]
    },
    {
     "data": {
      "text/plain": "Batches:   0%|          | 0/679 [00:00<?, ?it/s]",
      "application/vnd.jupyter.widget-view+json": {
       "version_major": 2,
       "version_minor": 0,
       "model_id": "0187689ad5fe4e648d80b1adda498252"
      }
     },
     "metadata": {},
     "output_type": "display_data"
    }
   ],
   "source": [
    "# LOAD Language Model\n",
    "MODEL = 'dmis-lab/biobert-v1.1'\n",
    "model = load_language_model(MODEL)\n",
    "\n",
    "# Get MeSH embeddings\n",
    "grpm_meshes = grpm_mesh['Preferred Label'].drop_duplicates().reset_index(drop=True)\n",
    "mesh_embeddings = extract_embedding(grpm_meshes.to_list(), model)"
   ],
   "metadata": {
    "collapsed": false,
    "ExecuteTime": {
     "end_time": "2025-02-18T08:23:56.787587500Z",
     "start_time": "2025-02-18T08:23:00.071041700Z"
    }
   },
   "id": "698f3d3300389493",
   "execution_count": 8
  },
  {
   "cell_type": "code",
   "outputs": [],
   "source": [
    "grpm_mesh_embeddings = {\"meshes\":grpm_meshes, \"embeddings\":mesh_embeddings}"
   ],
   "metadata": {
    "collapsed": false,
    "ExecuteTime": {
     "end_time": "2025-02-18T08:27:52.336872900Z",
     "start_time": "2025-02-18T08:27:52.329351800Z"
    }
   },
   "id": "8fa721e52a987aa0",
   "execution_count": 15
  },
  {
   "cell_type": "code",
   "outputs": [
    {
     "name": "stderr",
     "output_type": "stream",
     "text": [
      "Downloading...\n",
      "From: https://github.com/johndef64/GRPM_system/raw/refs/heads/main/ref-mesh/GrpmMeshEmbeddings_biobert-v1.1.pkl\n",
      "To: G:\\Altri computer\\Horizon\\horizon_workspace\\projects\\work\\#computer_science\\GRPM\\GRPM_system\\ref-mesh\\GrpmMeshEmbeddings_biobert-v1.1.pkl\n",
      "100%|██████████| 67.1M/67.1M [00:01<00:00, 59.2MB/s]\n"
     ]
    }
   ],
   "source": [
    "import pickle\n",
    "file_path = 'ref-mesh/GrpmMeshEmbeddings_biobert-v1.1.pkl'\n",
    "\n",
    "# Open the file in write-binary mode to store the pickle\n",
    "with open(file_path, 'wb') as file:\n",
    "    # Use pickle to dump the dictionary into the file\n",
    "    pickle.dump(grpm_mesh_embeddings, file)"
   ],
   "metadata": {
    "collapsed": false,
    "ExecuteTime": {
     "end_time": "2025-02-18T08:48:19.816560500Z",
     "start_time": "2025-02-18T08:48:17.590927900Z"
    }
   },
   "id": "a0e2596fccd5bbe4",
   "execution_count": 21
  },
  {
   "cell_type": "markdown",
   "source": [],
   "metadata": {
    "collapsed": false
   },
   "id": "17fd4012abf42d2a"
  },
  {
   "cell_type": "code",
   "outputs": [
    {
     "name": "stderr",
     "output_type": "stream",
     "text": [
      "Downloading...\n",
      "From: https://github.com/johndef64/GRPM_system/raw/refs/heads/main/ref-mesh/GrpmMeshEmbeddings_biobert-v1.1.pkl\n",
      "To: G:\\Altri computer\\Horizon\\horizon_workspace\\projects\\work\\#computer_science\\GRPM\\GRPM_system\\ref-mesh\\GrpmMeshEmbeddings_biobert-v1.1.pkl\n",
      "100%|██████████| 67.1M/67.1M [00:01<00:00, 61.3MB/s]\n"
     ]
    }
   ],
   "source": [
    "import pickle\n",
    "file_path = 'ref-mesh/GrpmMeshEmbeddings_biobert-v1.1.pkl'\n",
    "url =\"https://github.com/johndef64/GRPM_system/raw/refs/heads/main/ref-mesh/GrpmMeshEmbeddings_biobert-v1.1.pkl\"\n",
    "gdown.download(url, file_path, quiet=False)\n",
    "# Import the mesh_embeddings back from the pickle file\n",
    "with open(file_path, \"rb\") as file:\n",
    "    grpm_mesh_embeddings = pickle.load(file)\n",
    "\n",
    "grpm_meshes = grpm_mesh_embeddings['meshes']\n",
    "mesh_embeddings = grpm_mesh_embeddings['embeddings']"
   ],
   "metadata": {
    "collapsed": false,
    "ExecuteTime": {
     "end_time": "2025-02-18T08:49:18.513167Z",
     "start_time": "2025-02-18T08:49:13.750807600Z"
    }
   },
   "id": "d845fd369823cbe8",
   "execution_count": 22
  },
  {
   "cell_type": "code",
   "outputs": [],
   "source": [
    "# User defined Topic Terms\n",
    "topic_terms_sample = [\"diet ketogenic\",\n",
    "                      \"diet reducing\",\n",
    "                      \"diet sodium-restricted\",\n",
    "                      \"diet\",\n",
    "                      \"dietary\",\n",
    "                      \"dietetics\",\n",
    "                      \"dyslipidemias\",\n",
    "                      \"eating disorders\",\n",
    "                      \"feeding and eating disorde\",\n",
    "                      \"food hypersensitivity\",\n",
    "                      \"foodborne diseases\",\n",
    "                      \"gastrointestinal diseases\",\n",
    "                      \"hypercholesterolemia\",\n",
    "                      \"hyperglycemia\",\n",
    "                      \"hyperlipidemias\",\n",
    "                      \"hyperphagia\",\n",
    "                      \"hypoglycemia\",\n",
    "                      \"hypophagia\",\n",
    "                      \"insulin resistance\",\n",
    "                      ]\n",
    "topic_terms = pd.Series(topic_terms_sample)"
   ],
   "metadata": {
    "collapsed": false,
    "ExecuteTime": {
     "end_time": "2025-02-18T08:56:55.271212500Z",
     "start_time": "2025-02-18T08:56:55.267175500Z"
    }
   },
   "id": "751f64883192ca2f",
   "execution_count": 23
  },
  {
   "cell_type": "code",
   "outputs": [
    {
     "data": {
      "text/plain": "Batches:   0%|          | 0/1 [00:00<?, ?it/s]",
      "application/vnd.jupyter.widget-view+json": {
       "version_major": 2,
       "version_minor": 0,
       "model_id": "d4ce487af5c64280ba5421aab59af896"
      }
     },
     "metadata": {},
     "output_type": "display_data"
    },
    {
     "name": "stderr",
     "output_type": "stream",
     "text": [
      "100%|██████████| 19/19 [00:03<00:00,  5.69it/s]"
     ]
    },
    {
     "name": "stdout",
     "output_type": "stream",
     "text": [
      "\n",
      "\n",
      "MeSH Query: ['Diet', 'Diet', 'Dyslipidemias', 'Hypersensitivity', 'Gastrointestinal Diseases', 'Hypercholesterolemia', 'Hyperglycemia', 'Hyperlipidemias', 'Hyperphagia', 'Hypoglycemia']\n"
     ]
    },
    {
     "name": "stderr",
     "output_type": "stream",
     "text": [
      "\n"
     ]
    }
   ],
   "source": [
    "# Extract MeSH Query\n",
    "tab = create_corr_table(topic_terms, grpm_meshes, model, mesh_embeddings)\n",
    "\n",
    "mesh_query = tab[tab.similarity >= 0.90].list2.to_list()\n",
    "print('\\n\\nMeSH Query:', mesh_query)"
   ],
   "metadata": {
    "collapsed": false,
    "ExecuteTime": {
     "end_time": "2025-02-18T08:57:20.082516900Z",
     "start_time": "2025-02-18T08:57:16.476101600Z"
    }
   },
   "id": "5b210a90671cb352",
   "execution_count": 26
  },
  {
   "cell_type": "markdown",
   "source": [
    "## Execute MeSH Query"
   ],
   "metadata": {
    "collapsed": false
   },
   "id": "5ac558dffc7156ad"
  },
  {
   "cell_type": "code",
   "outputs": [
    {
     "data": {
      "text/plain": "            gene type         rsid      pmid             mesh  \\\n5434      MT-ND1  PCG  rs200319905  25579139  Hyperlipidemias   \n5435      MT-ND1  PCG  rs200319905  25579139  Hyperlipidemias   \n5436      MT-ND1  PCG  rs200319905  25579139  Hyperlipidemias   \n13642     MT-ND2  PCG  rs200319905  25579139  Hyperlipidemias   \n13643     MT-ND2  PCG  rs200319905  25579139  Hyperlipidemias   \n...          ...  ...          ...       ...              ...   \n16606654   CXCL8  PCG  rs572157399  20508232     Hypoglycemia   \n16606655   CXCL8  PCG  rs572157399  20508232     Hypoglycemia   \n16606656   CXCL8  PCG  rs572157399  20508232     Hypoglycemia   \n16607143   CXCL8  PCG  rs572157399  21357364    Hyperglycemia   \n16607144   CXCL8  PCG  rs572157399  21357364    Hyperglycemia   \n\n                qualifier  major  \n5434             genetics  False  \n5435           metabolism  False  \n5436            pathology  False  \n13642            genetics  False  \n13643          metabolism  False  \n...                   ...    ...  \n16606654    complications  False  \n16606655        diagnosis  False  \n16606656     epidemiology   True  \n16607143       metabolism  False  \n16607144  physiopathology  False  \n\n[23166 rows x 7 columns]",
      "text/html": "<div>\n<style scoped>\n    .dataframe tbody tr th:only-of-type {\n        vertical-align: middle;\n    }\n\n    .dataframe tbody tr th {\n        vertical-align: top;\n    }\n\n    .dataframe thead th {\n        text-align: right;\n    }\n</style>\n<table border=\"1\" class=\"dataframe\">\n  <thead>\n    <tr style=\"text-align: right;\">\n      <th></th>\n      <th>gene</th>\n      <th>type</th>\n      <th>rsid</th>\n      <th>pmid</th>\n      <th>mesh</th>\n      <th>qualifier</th>\n      <th>major</th>\n    </tr>\n  </thead>\n  <tbody>\n    <tr>\n      <th>5434</th>\n      <td>MT-ND1</td>\n      <td>PCG</td>\n      <td>rs200319905</td>\n      <td>25579139</td>\n      <td>Hyperlipidemias</td>\n      <td>genetics</td>\n      <td>False</td>\n    </tr>\n    <tr>\n      <th>5435</th>\n      <td>MT-ND1</td>\n      <td>PCG</td>\n      <td>rs200319905</td>\n      <td>25579139</td>\n      <td>Hyperlipidemias</td>\n      <td>metabolism</td>\n      <td>False</td>\n    </tr>\n    <tr>\n      <th>5436</th>\n      <td>MT-ND1</td>\n      <td>PCG</td>\n      <td>rs200319905</td>\n      <td>25579139</td>\n      <td>Hyperlipidemias</td>\n      <td>pathology</td>\n      <td>False</td>\n    </tr>\n    <tr>\n      <th>13642</th>\n      <td>MT-ND2</td>\n      <td>PCG</td>\n      <td>rs200319905</td>\n      <td>25579139</td>\n      <td>Hyperlipidemias</td>\n      <td>genetics</td>\n      <td>False</td>\n    </tr>\n    <tr>\n      <th>13643</th>\n      <td>MT-ND2</td>\n      <td>PCG</td>\n      <td>rs200319905</td>\n      <td>25579139</td>\n      <td>Hyperlipidemias</td>\n      <td>metabolism</td>\n      <td>False</td>\n    </tr>\n    <tr>\n      <th>...</th>\n      <td>...</td>\n      <td>...</td>\n      <td>...</td>\n      <td>...</td>\n      <td>...</td>\n      <td>...</td>\n      <td>...</td>\n    </tr>\n    <tr>\n      <th>16606654</th>\n      <td>CXCL8</td>\n      <td>PCG</td>\n      <td>rs572157399</td>\n      <td>20508232</td>\n      <td>Hypoglycemia</td>\n      <td>complications</td>\n      <td>False</td>\n    </tr>\n    <tr>\n      <th>16606655</th>\n      <td>CXCL8</td>\n      <td>PCG</td>\n      <td>rs572157399</td>\n      <td>20508232</td>\n      <td>Hypoglycemia</td>\n      <td>diagnosis</td>\n      <td>False</td>\n    </tr>\n    <tr>\n      <th>16606656</th>\n      <td>CXCL8</td>\n      <td>PCG</td>\n      <td>rs572157399</td>\n      <td>20508232</td>\n      <td>Hypoglycemia</td>\n      <td>epidemiology</td>\n      <td>True</td>\n    </tr>\n    <tr>\n      <th>16607143</th>\n      <td>CXCL8</td>\n      <td>PCG</td>\n      <td>rs572157399</td>\n      <td>21357364</td>\n      <td>Hyperglycemia</td>\n      <td>metabolism</td>\n      <td>False</td>\n    </tr>\n    <tr>\n      <th>16607144</th>\n      <td>CXCL8</td>\n      <td>PCG</td>\n      <td>rs572157399</td>\n      <td>21357364</td>\n      <td>Hyperglycemia</td>\n      <td>physiopathology</td>\n      <td>False</td>\n    </tr>\n  </tbody>\n</table>\n<p>23166 rows × 7 columns</p>\n</div>"
     },
     "metadata": {},
     "output_type": "display_data"
    }
   ],
   "source": [
    "# Filter and get unique results\n",
    "result = query_dataset(pcg_grpm, mesh_query, 'mesh')\n",
    "display(result)"
   ],
   "metadata": {
    "collapsed": false,
    "ExecuteTime": {
     "end_time": "2025-02-17T13:23:37.494929400Z",
     "start_time": "2025-02-17T13:23:36.759778400Z"
    }
   },
   "id": "96db33e16dc2dc20",
   "execution_count": 17
  },
  {
   "cell_type": "markdown",
   "source": [
    "# QUERY Nutrigenetic Dataset"
   ],
   "metadata": {
    "collapsed": false
   },
   "id": "249fdde0095caff5"
  },
  {
   "cell_type": "code",
   "outputs": [
    {
     "name": "stdout",
     "output_type": "stream",
     "text": [
      "Displaying \"General Nutrition\" topic\n"
     ]
    },
    {
     "data": {
      "text/plain": "        gene       rsid      pmid                       mesh  \\\n0        FTO  rs9972653  32393786            Body Mass Index   \n1        FTO  rs9972653  32393786  Diabetes Mellitus, Type 2   \n2        FTO  rs9972653  32393786                       Diet   \n3        FTO  rs9972653  33128006            Body Mass Index   \n4        FTO  rs9972653  33128006    Cardiovascular Diseases   \n...      ...        ...       ...                        ...   \n268296  DRD2  rs1076560  31948125                    Anxiety   \n268297  DRD2  rs1076560  22829935         Physical Endurance   \n268298  DRD2  rs1076560  30729689  Diabetes Mellitus, Type 2   \n268299  DRD2  rs1076560  30729689         Metabolic Syndrome   \n268300  DRD2  rs1076560  26308580                    Calcium   \n\n                    topic  interest_index  \n0       General Nutrition         1.00000  \n1       General Nutrition         1.00000  \n2       General Nutrition         1.00000  \n3       General Nutrition         1.00000  \n4       General Nutrition         1.00000  \n...                   ...             ...  \n268296  General Nutrition         0.01251  \n268297  General Nutrition         0.01251  \n268298  General Nutrition         0.01251  \n268299  General Nutrition         0.01251  \n268300  General Nutrition         0.01251  \n\n[268301 rows x 6 columns]",
      "text/html": "<div>\n<style scoped>\n    .dataframe tbody tr th:only-of-type {\n        vertical-align: middle;\n    }\n\n    .dataframe tbody tr th {\n        vertical-align: top;\n    }\n\n    .dataframe thead th {\n        text-align: right;\n    }\n</style>\n<table border=\"1\" class=\"dataframe\">\n  <thead>\n    <tr style=\"text-align: right;\">\n      <th></th>\n      <th>gene</th>\n      <th>rsid</th>\n      <th>pmid</th>\n      <th>mesh</th>\n      <th>topic</th>\n      <th>interest_index</th>\n    </tr>\n  </thead>\n  <tbody>\n    <tr>\n      <th>0</th>\n      <td>FTO</td>\n      <td>rs9972653</td>\n      <td>32393786</td>\n      <td>Body Mass Index</td>\n      <td>General Nutrition</td>\n      <td>1.00000</td>\n    </tr>\n    <tr>\n      <th>1</th>\n      <td>FTO</td>\n      <td>rs9972653</td>\n      <td>32393786</td>\n      <td>Diabetes Mellitus, Type 2</td>\n      <td>General Nutrition</td>\n      <td>1.00000</td>\n    </tr>\n    <tr>\n      <th>2</th>\n      <td>FTO</td>\n      <td>rs9972653</td>\n      <td>32393786</td>\n      <td>Diet</td>\n      <td>General Nutrition</td>\n      <td>1.00000</td>\n    </tr>\n    <tr>\n      <th>3</th>\n      <td>FTO</td>\n      <td>rs9972653</td>\n      <td>33128006</td>\n      <td>Body Mass Index</td>\n      <td>General Nutrition</td>\n      <td>1.00000</td>\n    </tr>\n    <tr>\n      <th>4</th>\n      <td>FTO</td>\n      <td>rs9972653</td>\n      <td>33128006</td>\n      <td>Cardiovascular Diseases</td>\n      <td>General Nutrition</td>\n      <td>1.00000</td>\n    </tr>\n    <tr>\n      <th>...</th>\n      <td>...</td>\n      <td>...</td>\n      <td>...</td>\n      <td>...</td>\n      <td>...</td>\n      <td>...</td>\n    </tr>\n    <tr>\n      <th>268296</th>\n      <td>DRD2</td>\n      <td>rs1076560</td>\n      <td>31948125</td>\n      <td>Anxiety</td>\n      <td>General Nutrition</td>\n      <td>0.01251</td>\n    </tr>\n    <tr>\n      <th>268297</th>\n      <td>DRD2</td>\n      <td>rs1076560</td>\n      <td>22829935</td>\n      <td>Physical Endurance</td>\n      <td>General Nutrition</td>\n      <td>0.01251</td>\n    </tr>\n    <tr>\n      <th>268298</th>\n      <td>DRD2</td>\n      <td>rs1076560</td>\n      <td>30729689</td>\n      <td>Diabetes Mellitus, Type 2</td>\n      <td>General Nutrition</td>\n      <td>0.01251</td>\n    </tr>\n    <tr>\n      <th>268299</th>\n      <td>DRD2</td>\n      <td>rs1076560</td>\n      <td>30729689</td>\n      <td>Metabolic Syndrome</td>\n      <td>General Nutrition</td>\n      <td>0.01251</td>\n    </tr>\n    <tr>\n      <th>268300</th>\n      <td>DRD2</td>\n      <td>rs1076560</td>\n      <td>26308580</td>\n      <td>Calcium</td>\n      <td>General Nutrition</td>\n      <td>0.01251</td>\n    </tr>\n  </tbody>\n</table>\n<p>268301 rows × 6 columns</p>\n</div>"
     },
     "metadata": {},
     "output_type": "display_data"
    }
   ],
   "source": [
    "# Gene Query on Nutrigenetic ds\n",
    "topic =  grpm_nutrigen_int.topic[0]\n",
    "\n",
    "print(f'Displaying \"{topic}\" topic')\n",
    "# Filter and get unique results\n",
    "result = query_dataset(grpm_nutrigen_int, [topic], 'topic')\n",
    "display(result)"
   ],
   "metadata": {
    "collapsed": false,
    "ExecuteTime": {
     "end_time": "2025-02-18T08:58:22.114748600Z",
     "start_time": "2025-02-18T08:58:21.922467Z"
    }
   },
   "id": "58c5ba0db939f44",
   "execution_count": 27
  },
  {
   "cell_type": "markdown",
   "source": [
    "## Gene Query Example"
   ],
   "metadata": {
    "collapsed": false
   },
   "id": "122c6c47ce1d843b"
  },
  {
   "cell_type": "code",
   "outputs": [],
   "source": [
    "# Gene Query on Nutrigenetic ds\n",
    "my_genes = (\n",
    "    'FTO',\n",
    "    'APOB',\n",
    "    'G6PD'\n",
    ")\n",
    "# Filter and get unique results\n",
    "result = query_dataset(grpm_nutrigen_int, my_genes, 'gene')\n",
    "display(result)"
   ],
   "metadata": {
    "collapsed": false,
    "is_executing": true
   },
   "id": "847848c87e42f770",
   "execution_count": null
  },
  {
   "cell_type": "code",
   "outputs": [],
   "source": [
    "# Gene Query on Nutrigenetic-GWAS ds\n",
    "result = query_dataset(grpm_nutrigen_int_gwas, my_genes, 'GRPM_GENE')\n",
    "display(result)"
   ],
   "metadata": {
    "collapsed": false,
    "is_executing": true
   },
   "id": "9bc895ffb3fa09e8",
   "execution_count": null
  },
  {
   "cell_type": "markdown",
   "source": [
    "# Query by Nutrigenetic Track"
   ],
   "metadata": {
    "collapsed": false
   },
   "id": "76821f386e26ef73"
  },
  {
   "cell_type": "code",
   "outputs": [
    {
     "name": "stdout",
     "output_type": "stream",
     "text": [
      "Topic: General Nutrition, rsID count: 26456 \n",
      "Topic: Cardiovascular Health and Lipid Metabolism, rsID count: 41931 \n",
      "Topic: Diet-induced Oxidative Stress, rsID count: 2559 \n",
      "Topic: Food Allergies, rsID count: 6289 \n",
      "Topic: Xenobiotics Metabolism, rsID count: 7159 \n",
      "Topic: Food Intolerances, rsID count: 5008 \n",
      "Topic: Eating Behavior and Taste Sensation, rsID count: 4252 \n",
      "Topic: Obesity, Weight Control and Compulsive Eating, rsID count: 10842 \n",
      "Topic: Vitamin and Micronutrients Metabolism and Deficiency-Related Diseases, rsID count: 3525 \n",
      "Topic: Diabetes Mellitus Type II and Metabolic Syndrome, rsID count: 22270 \n",
      "\n",
      "Total: 63581 \n"
     ]
    }
   ],
   "source": [
    "topics = list(set(grpm_nutrigen_int.topic))\n",
    "for t in topics:\n",
    "    print(f'Topic: {t}, rsID count: {len(grpm_nutrigen_int[grpm_nutrigen_int.topic == t ].rsid.drop_duplicates())} ')\n",
    "\n",
    "print(f'\\nTotal: {len(grpm_nutrigen_int.rsid.drop_duplicates())} ')\n"
   ],
   "metadata": {
    "collapsed": false,
    "ExecuteTime": {
     "end_time": "2025-02-18T08:59:23.153993300Z",
     "start_time": "2025-02-18T08:59:21.750771600Z"
    }
   },
   "id": "ec90991601314bef",
   "execution_count": 28
  },
  {
   "cell_type": "markdown",
   "source": [
    "Build a composite query"
   ],
   "metadata": {
    "collapsed": false
   },
   "id": "2b21cf86211b297e"
  },
  {
   "cell_type": "markdown",
   "source": [
    "    \\item [1)] Although the paper provides a link to a directory containing\\textit{ sample queries}, it would be very helpful to provide a few examples of  particularly interesting queries that can be written with this system.\n",
    "\n",
    "    \\item [R:] \\textcolor{violet}{Si riferisce ala directori tests e al notebook tests.ipynb. alcuni esempi di query particolarmente interessanti che possono essere scritte con questo sistema.  \n",
    "    Una query di interesse sul datase nutrientico complessivo potrebbe essere la ricerca di varianti putatiamente correlate a due diverse condizioni nutrizionali assemblando una query composita:\n",
    "    .\n",
    "    esempio: Relationship between nutritional status and the systemic inflammatory response: micronutrients a livello genetico \\cite{https://pubmed.ncbi.nlm.nih.gov/30220267/}\n",
    "    .\n",
    "    Query composita di questo tipo può essere composta con l'ausilio di BioBERT embedding per slezionare MESH partendo da una descrizione testuale (come proposto nel notebook \"test.ipynb\"), una funzinoe utile per l'implementazione di un interfaccia utente. \n",
    "    . \n",
    "    }\n",
    "    % c'è tempo per un ultimaimplemetaione?"
   ],
   "metadata": {
    "collapsed": false
   },
   "id": "2237cce709a20718"
  }
 ],
 "metadata": {
  "kernelspec": {
   "display_name": "Python 3",
   "language": "python",
   "name": "python3"
  },
  "language_info": {
   "codemirror_mode": {
    "name": "ipython",
    "version": 2
   },
   "file_extension": ".py",
   "mimetype": "text/x-python",
   "name": "python",
   "nbconvert_exporter": "python",
   "pygments_lexer": "ipython2",
   "version": "2.7.6"
  }
 },
 "nbformat": 4,
 "nbformat_minor": 5
}
